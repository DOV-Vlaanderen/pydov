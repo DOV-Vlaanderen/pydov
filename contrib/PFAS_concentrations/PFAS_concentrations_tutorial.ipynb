{
 "cells": [
  {
   "cell_type": "markdown",
   "id": "b7f1ea51",
   "metadata": {},
   "source": [
    "# Tutorial to download (and save) PFAS-data from DOV through pydov"
   ]
  },
  {
   "cell_type": "code",
   "execution_count": null,
   "id": "99bf998c",
   "metadata": {},
   "outputs": [],
   "source": [
    "from PFAS_concentrations import RequestPFASdata\n",
    "from pydov.util.location import Within, Box"
   ]
  },
  {
   "cell_type": "markdown",
   "id": "4ce5f6ce",
   "metadata": {},
   "source": [
    "Check out the query and customization options from pydov.\\\n",
    "You can query on [location](https://pydov.readthedocs.io/en/stable/query_location.html) and also [restrict the number of WFS features returned](https://pydov.readthedocs.io/en/stable/sort_limit.html)."
   ]
  },
  {
   "cell_type": "markdown",
   "id": "995cc301",
   "metadata": {},
   "source": [
    "## Case 1 : You want to save the data"
   ]
  },
  {
   "cell_type": "markdown",
   "id": "551acadd",
   "metadata": {},
   "source": [
    "### Example 1 : You want to download and save all the PFAS data of Flanders"
   ]
  },
  {
   "cell_type": "code",
   "execution_count": null,
   "id": "565052e6",
   "metadata": {},
   "outputs": [],
   "source": [
    "medium = ['all']\n",
    "location = Within(Box(15000, 150000, 270000, 250000))  # Bounding box Flanders\n",
    "\n",
    "rd = RequestPFASdata()\n",
    "df = rd.main(medium, location=location, max_features=None, save=True)[0]"
   ]
  },
  {
   "cell_type": "markdown",
   "id": "5576f28b",
   "metadata": {},
   "source": [
    "### Example 2 : You only want to download and save the groundwater data of Flanders"
   ]
  },
  {
   "cell_type": "code",
   "execution_count": null,
   "id": "d733dede",
   "metadata": {},
   "outputs": [],
   "source": [
    "medium = ['groundwater']\n",
    "location = Within(Box(15000, 150000, 270000, 250000))  # Bounding box Flanders\n",
    "\n",
    "rd = RequestPFASdata()\n",
    "df = rd.main(medium, location=location, max_features=None, save=True)[0]"
   ]
  },
  {
   "cell_type": "markdown",
   "id": "17bb2d20",
   "metadata": {},
   "source": [
    "### Example 3 : You want to download and save the soil and groundwater data of Flanders"
   ]
  },
  {
   "cell_type": "code",
   "execution_count": null,
   "id": "7b3fce56",
   "metadata": {},
   "outputs": [],
   "source": [
    "medium = ['soil', 'groundwater']\n",
    "location = Within(Box(15000, 150000, 270000, 250000))  # Bounding box Flanders\n",
    "\n",
    "rd = RequestPFASdata()\n",
    "df = rd.main(medium, location=location, max_features=None, save=True)[0]"
   ]
  },
  {
   "cell_type": "markdown",
   "id": "0ce6037a",
   "metadata": {},
   "source": [
    "## Case 2 : You want the data in a dataframe to integrate it in your python script"
   ]
  },
  {
   "cell_type": "markdown",
   "id": "0a0fe4bb",
   "metadata": {},
   "source": [
    "### Example 1 : You want to download all the PFAS data of Flanders"
   ]
  },
  {
   "cell_type": "code",
   "execution_count": null,
   "id": "d1e91bbb",
   "metadata": {},
   "outputs": [],
   "source": [
    "medium = ['all']\n",
    "location = Within(Box(15000, 150000, 270000, 250000))  # Bounding box Flanders\n",
    "rd = RequestPFASdata()\n",
    "df = rd.main(medium, location=location, max_features=None)[0]"
   ]
  },
  {
   "cell_type": "code",
   "execution_count": null,
   "id": "e42590b0",
   "metadata": {},
   "outputs": [],
   "source": [
    "# Biota_VMM\n",
    "df[0].info()\n",
    "df[0].head()"
   ]
  },
  {
   "cell_type": "code",
   "execution_count": null,
   "id": "7f2a098d",
   "metadata": {},
   "outputs": [],
   "source": [
    "# Effluent_OVAM\n",
    "df[1].info()\n",
    "df[1].head()"
   ]
  },
  {
   "cell_type": "code",
   "execution_count": null,
   "id": "b73259af",
   "metadata": {},
   "outputs": [],
   "source": [
    "# Groundwater_VMM\n",
    "df[2].info()\n",
    "df[2].head()"
   ]
  },
  {
   "cell_type": "code",
   "execution_count": null,
   "id": "a29fada6",
   "metadata": {},
   "outputs": [],
   "source": [
    "# Groundwater_OVAM\n",
    "df[3].info()\n",
    "df[3].head()"
   ]
  },
  {
   "cell_type": "code",
   "execution_count": null,
   "id": "86d33d14",
   "metadata": {},
   "outputs": [],
   "source": [
    "# Groundwater_Lantis\n",
    "df[4].info()\n",
    "df[4].head()"
   ]
  },
  {
   "cell_type": "code",
   "execution_count": null,
   "id": "42d113c9",
   "metadata": {},
   "outputs": [],
   "source": [
    "# Migration_OVAM\n",
    "df[5].info()\n",
    "df[5].head()"
   ]
  },
  {
   "cell_type": "code",
   "execution_count": null,
   "id": "53baa81b",
   "metadata": {},
   "outputs": [],
   "source": [
    "# Pure_product_OVAM\n",
    "df[6].info()\n",
    "df[6].head()"
   ]
  },
  {
   "cell_type": "code",
   "execution_count": null,
   "id": "be803a41",
   "metadata": {},
   "outputs": [],
   "source": [
    "# Rainwater_OVAM\n",
    "df[7].info()\n",
    "df[7].head()"
   ]
  },
  {
   "cell_type": "code",
   "execution_count": null,
   "id": "c5bf5d50",
   "metadata": {},
   "outputs": [],
   "source": [
    "# Soil_OVAM\n",
    "df[8].info()\n",
    "df[8].head()"
   ]
  },
  {
   "cell_type": "code",
   "execution_count": null,
   "id": "8656803a",
   "metadata": {},
   "outputs": [],
   "source": [
    "# Soil_Lantis\n",
    "df[9].info()\n",
    "df[9].head()"
   ]
  },
  {
   "cell_type": "code",
   "execution_count": null,
   "id": "c07882d8",
   "metadata": {},
   "outputs": [],
   "source": [
    "# Soil_water_VMM\n",
    "df[10].info()\n",
    "df[10].head()"
   ]
  },
  {
   "cell_type": "code",
   "execution_count": null,
   "id": "cba7cf5b",
   "metadata": {},
   "outputs": [],
   "source": [
    "# Soil_water_OVAM\n",
    "df[11].info()\n",
    "df[11].head()"
   ]
  },
  {
   "cell_type": "code",
   "execution_count": null,
   "id": "8fde559a",
   "metadata": {},
   "outputs": [],
   "source": [
    "# Surface_water_VMM\n",
    "df[12].info()\n",
    "df[12].head()"
   ]
  },
  {
   "cell_type": "code",
   "execution_count": null,
   "id": "13f04818",
   "metadata": {},
   "outputs": [],
   "source": [
    "# Surface_water_OVAM\n",
    "df[13].info()\n",
    "df[13].head()"
   ]
  },
  {
   "cell_type": "code",
   "execution_count": null,
   "id": "2f35a17e",
   "metadata": {},
   "outputs": [],
   "source": [
    "# Waste_water_VMM\n",
    "df[14].info()\n",
    "df[14].head()"
   ]
  },
  {
   "cell_type": "markdown",
   "id": "6b126df7",
   "metadata": {},
   "source": [
    "### Example 2 : You only want to download the groundwater data of Flanders"
   ]
  },
  {
   "cell_type": "code",
   "execution_count": null,
   "id": "90944b3b",
   "metadata": {},
   "outputs": [],
   "source": [
    "medium = ['groundwater']\n",
    "location = Within(Box(15000, 150000, 270000, 250000))  # Bounding box Flanders\n",
    "rd = RequestPFASdata()\n",
    "df = rd.main(medium, location=location, max_features=None)[0]"
   ]
  },
  {
   "cell_type": "code",
   "execution_count": null,
   "id": "a2aa4cb1",
   "metadata": {},
   "outputs": [],
   "source": [
    "# Groundwater_VMM\n",
    "df[0].info()\n",
    "df[0].head()"
   ]
  },
  {
   "cell_type": "code",
   "execution_count": null,
   "id": "95f23dc0",
   "metadata": {},
   "outputs": [],
   "source": [
    "# Groundwater_OVAM\n",
    "df[1].info()\n",
    "df[1].head()"
   ]
  },
  {
   "cell_type": "code",
   "execution_count": null,
   "id": "7b538bef",
   "metadata": {},
   "outputs": [],
   "source": [
    "# Groundwater_Lantis\n",
    "df[2].info()\n",
    "df[2].head()"
   ]
  },
  {
   "cell_type": "markdown",
   "id": "0444110f",
   "metadata": {},
   "source": [
    "### Example 3 : You want to download the soil and groundwater data of Flanders"
   ]
  },
  {
   "cell_type": "code",
   "execution_count": null,
   "id": "b6782949",
   "metadata": {},
   "outputs": [],
   "source": [
    "medium = ['soil', 'groundwater']\n",
    "location = Within(Box(15000, 150000, 270000, 250000))  # Bounding box Flanders\n",
    "rd = RequestPFASdata()\n",
    "df = rd.main(medium, location=location, max_features=None)[0]"
   ]
  },
  {
   "cell_type": "code",
   "execution_count": null,
   "id": "e3efeef8",
   "metadata": {},
   "outputs": [],
   "source": [
    "# Soil_OVAM\n",
    "df[0].info()\n",
    "df[0].head()"
   ]
  },
  {
   "cell_type": "code",
   "execution_count": null,
   "id": "d92cf015",
   "metadata": {},
   "outputs": [],
   "source": [
    "# Soil_Lantis\n",
    "df[1].info()\n",
    "df[1].head()"
   ]
  },
  {
   "cell_type": "code",
   "execution_count": null,
   "id": "115fe89d",
   "metadata": {},
   "outputs": [],
   "source": [
    "# Groundwater_VMM\n",
    "df[2].info()\n",
    "df[2].head()"
   ]
  },
  {
   "cell_type": "code",
   "execution_count": null,
   "id": "00a08a6c",
   "metadata": {},
   "outputs": [],
   "source": [
    "# Groundwater_OVAM\n",
    "df[3].info()\n",
    "df[3].head()"
   ]
  },
  {
   "cell_type": "code",
   "execution_count": null,
   "id": "66325260",
   "metadata": {},
   "outputs": [],
   "source": [
    "# Groundwater_Lantis\n",
    "df[4].info()\n",
    "df[4].head()\n"
   ]
  }
 ],
 "metadata": {
  "kernelspec": {
   "display_name": "Python 3 (ipykernel)",
   "language": "python",
   "name": "python3"
  },
  "language_info": {
   "codemirror_mode": {
    "name": "ipython",
    "version": 3
   },
   "file_extension": ".py",
   "mimetype": "text/x-python",
   "name": "python",
   "nbconvert_exporter": "python",
   "pygments_lexer": "ipython3",
   "version": "3.11.3"
  }
 },
 "nbformat": 4,
 "nbformat_minor": 5
}
