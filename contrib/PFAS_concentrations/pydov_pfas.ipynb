{
 "cells": [
  {
   "cell_type": "markdown",
   "id": "b7f1ea51",
   "metadata": {},
   "source": [
    "# Tutorial to download (and save) PFAS-data from DOV through pydov"
   ]
  },
  {
   "cell_type": "code",
   "execution_count": 5,
   "id": "99bf998c",
   "metadata": {},
   "outputs": [
    {
     "ename": "ModuleNotFoundError",
     "evalue": "No module named 'pydov.search.generic'",
     "output_type": "error",
     "traceback": [
      "\u001b[1;31m---------------------------------------------------------------------------\u001b[0m",
      "\u001b[1;31mModuleNotFoundError\u001b[0m                       Traceback (most recent call last)",
      "\u001b[1;32m~\\AppData\\Local\\Temp\\ipykernel_8140\\2214249148.py\u001b[0m in \u001b[0;36m<module>\u001b[1;34m\u001b[0m\n\u001b[1;32m----> 1\u001b[1;33m \u001b[1;32mfrom\u001b[0m \u001b[0mPFAS_concentrations\u001b[0m \u001b[1;32mimport\u001b[0m \u001b[0mRequestPFASdata\u001b[0m\u001b[1;33m\u001b[0m\u001b[1;33m\u001b[0m\u001b[0m\n\u001b[0m",
      "\u001b[1;32m~\\PycharmProjects\\test\\pydov-all-wfs-layers\\contrib\\PFAS_concentrations\\PFAS_concentrations.py\u001b[0m in \u001b[0;36m<module>\u001b[1;34m\u001b[0m\n\u001b[0;32m      1\u001b[0m \u001b[1;32mimport\u001b[0m \u001b[0mos\u001b[0m\u001b[1;33m\u001b[0m\u001b[1;33m\u001b[0m\u001b[0m\n\u001b[0;32m      2\u001b[0m \u001b[1;32mimport\u001b[0m \u001b[0mpandas\u001b[0m \u001b[1;32mas\u001b[0m \u001b[0mpd\u001b[0m\u001b[1;33m\u001b[0m\u001b[1;33m\u001b[0m\u001b[0m\n\u001b[1;32m----> 3\u001b[1;33m \u001b[1;32mfrom\u001b[0m \u001b[0mpydov\u001b[0m\u001b[1;33m.\u001b[0m\u001b[0msearch\u001b[0m\u001b[1;33m.\u001b[0m\u001b[0mgeneric\u001b[0m \u001b[1;32mimport\u001b[0m \u001b[0mWfsSearch\u001b[0m\u001b[1;33m\u001b[0m\u001b[1;33m\u001b[0m\u001b[0m\n\u001b[0m\u001b[0;32m      4\u001b[0m \u001b[1;32mfrom\u001b[0m \u001b[0mpydov\u001b[0m\u001b[1;33m.\u001b[0m\u001b[0msearch\u001b[0m\u001b[1;33m.\u001b[0m\u001b[0mgrondwatermonster\u001b[0m \u001b[1;32mimport\u001b[0m \u001b[0mGrondwaterMonsterSearch\u001b[0m\u001b[1;33m\u001b[0m\u001b[1;33m\u001b[0m\u001b[0m\n\u001b[0;32m      5\u001b[0m \u001b[1;32mfrom\u001b[0m \u001b[0mpydov\u001b[0m\u001b[1;33m.\u001b[0m\u001b[0msearch\u001b[0m\u001b[1;33m.\u001b[0m\u001b[0mgrondwaterfilter\u001b[0m \u001b[1;32mimport\u001b[0m \u001b[0mGrondwaterFilterSearch\u001b[0m\u001b[1;33m\u001b[0m\u001b[1;33m\u001b[0m\u001b[0m\n",
      "\u001b[1;31mModuleNotFoundError\u001b[0m: No module named 'pydov.search.generic'"
     ]
    }
   ],
   "source": [
    "from PFAS_concentrations import RequestPFASdata"
   ]
  },
  {
   "cell_type": "markdown",
   "id": "995cc301",
   "metadata": {},
   "source": [
    "## Case 1 : You want to save the data"
   ]
  },
  {
   "cell_type": "markdown",
   "id": "551acadd",
   "metadata": {},
   "source": [
    "### Example 1 : You want to download and save all the PFAS data"
   ]
  },
  {
   "cell_type": "code",
   "execution_count": null,
   "id": "565052e6",
   "metadata": {},
   "outputs": [],
   "source": [
    "RequestPFASdata().main(['all'], True)"
   ]
  },
  {
   "cell_type": "markdown",
   "id": "5576f28b",
   "metadata": {},
   "source": [
    "### Example 2 : You only want to download and save the groundwater data"
   ]
  },
  {
   "cell_type": "code",
   "execution_count": null,
   "id": "d733dede",
   "metadata": {},
   "outputs": [],
   "source": [
    "RequestPFASdata().main(['groundwater'], True)"
   ]
  },
  {
   "cell_type": "markdown",
   "id": "17bb2d20",
   "metadata": {},
   "source": [
    "### Example 3 : You want to download and save the soil and groundwater data"
   ]
  },
  {
   "cell_type": "code",
   "execution_count": null,
   "id": "7b3fce56",
   "metadata": {},
   "outputs": [],
   "source": [
    "RequestPFASdata().main(['soil', 'groundwater'], True)"
   ]
  },
  {
   "cell_type": "markdown",
   "id": "0ce6037a",
   "metadata": {},
   "source": [
    "## Case 2 : You want the data in a dataframe to integrate it in your python script"
   ]
  },
  {
   "cell_type": "markdown",
   "id": "0a0fe4bb",
   "metadata": {},
   "source": [
    "### Example 1 : You want to download all the PFAS data"
   ]
  },
  {
   "cell_type": "code",
   "execution_count": null,
   "id": "d1e91bbb",
   "metadata": {},
   "outputs": [],
   "source": [
    "df = RequestPFASdata().main(['all'], False)\n",
    "df[0] # Biota_VMM\n",
    "df[1] # Effluent_OVAM\n",
    "df[2] # Groundwater_VMM\n",
    "df[3] # Groundwater_OVAM\n",
    "df[4] # Groundwater_Lantis\n",
    "df[5] # Migration_OVAM\n",
    "df[6] # Pure_product_OVAM\n",
    "df[7] # Rainwater_OVAM\n",
    "df[8] # Soil_OVAM\n",
    "df[9] # Soil_Lantis\n",
    "df[10] # Soil_water_VMM\n",
    "df[11] # Soil_water_OVAM\n",
    "df[12] # Surface_water_VMM\n",
    "df[13] # Surface_water_OVAM\n",
    "df[14] # Waste_water_VMM"
   ]
  },
  {
   "cell_type": "markdown",
   "id": "6b126df7",
   "metadata": {},
   "source": [
    "### Example 2 : You only want to download the groundwater data"
   ]
  },
  {
   "cell_type": "code",
   "execution_count": null,
   "id": "90944b3b",
   "metadata": {},
   "outputs": [],
   "source": [
    "df = RequestPFASdata().main(['groundwater'], False)\n",
    "df[0] # Groundwater_VMM\n",
    "df[1] # Groundwater_OVAM\n",
    "df[2] # Groundwater_Lantis"
   ]
  },
  {
   "cell_type": "markdown",
   "id": "0444110f",
   "metadata": {},
   "source": [
    "### Example 3 : You want to download the soil and groundwater data"
   ]
  },
  {
   "cell_type": "code",
   "execution_count": null,
   "id": "b6782949",
   "metadata": {},
   "outputs": [],
   "source": [
    "df = RequestPFASdata().main(['soil', 'groundwater'], False)\n",
    "df[0] # Soil_OVAM\n",
    "df[1] # Soil_Lantis\n",
    "df[2] # Groundwater_VMM\n",
    "df[3] # Groundwater_OVAM\n",
    "df[4] # Groundwater_Lantis"
   ]
  }
 ],
 "metadata": {
  "kernelspec": {
   "display_name": "Python 3 (ipykernel)",
   "language": "python",
   "name": "python3"
  },
  "language_info": {
   "codemirror_mode": {
    "name": "ipython",
    "version": 3
   },
   "file_extension": ".py",
   "mimetype": "text/x-python",
   "name": "python",
   "nbconvert_exporter": "python",
   "pygments_lexer": "ipython3",
   "version": "3.9.13"
  }
 },
 "nbformat": 4,
 "nbformat_minor": 5
}
