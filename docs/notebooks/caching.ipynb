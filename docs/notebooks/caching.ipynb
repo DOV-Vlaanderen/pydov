{
 "cells": [
  {
   "cell_type": "markdown",
   "metadata": {},
   "source": [
    "# Example of XML caching for pydov"
   ]
  },
  {
   "cell_type": "markdown",
   "metadata": {},
   "source": [
    "[![Binder](https://mybinder.org/badge_logo.svg)](https://mybinder.org/v2/gh/DOV-Vlaanderen/pydov/master?filepath=docs%2Fnotebooks%2Fcaching.ipynb)"
   ]
  },
  {
   "cell_type": "markdown",
   "metadata": {},
   "source": [
    "## Introduction"
   ]
  },
  {
   "cell_type": "markdown",
   "metadata": {},
   "source": [
    "To speed up subsequent queries involving similar data, pydov uses a caching mechanism where raw DOV XML data is cached locally for later reuse. For regular usage of the package and data requests, the cache will be a *convenient* feature speeding up the time for subsequent queries. However, in case you want to alter the configuration or cache handling, this notebook illustrates some use cases on the cache handling."
   ]
  },
  {
   "cell_type": "markdown",
   "metadata": {},
   "source": [
    "### Use cases:\n",
    "* Check cached files\n",
    "* Speed up subsequent queries\n",
    "* Disabling the cache\n",
    "* Changing the location of cached data\n",
    "* Changing the maximum age of cached data\n",
    "* Cleaning the cache"
   ]
  },
  {
   "cell_type": "code",
   "execution_count": 1,
   "metadata": {
    "jupyter": {
     "outputs_hidden": true
    }
   },
   "outputs": [],
   "source": [
    "# check pydov path\n",
    "import warnings; warnings.simplefilter('ignore')\n",
    "import pydov"
   ]
  },
  {
   "cell_type": "markdown",
   "metadata": {},
   "source": [
    "## Use cases"
   ]
  },
  {
   "cell_type": "markdown",
   "metadata": {},
   "source": [
    "### Check cached files"
   ]
  },
  {
   "cell_type": "code",
   "execution_count": 2,
   "metadata": {
    "jupyter": {
     "outputs_hidden": true
    }
   },
   "outputs": [],
   "source": [
    "from pydov.search.boring import BoringSearch\n",
    "boring = BoringSearch()"
   ]
  },
  {
   "cell_type": "markdown",
   "metadata": {},
   "source": [
    "The `pydov.cache.cachedir` defines the directory on the file system used to cache DOV files:"
   ]
  },
  {
   "cell_type": "code",
   "execution_count": 3,
   "metadata": {},
   "outputs": [
    {
     "name": "stdout",
     "output_type": "stream",
     "text": [
      "/tmp/pydov\n",
      "directories:  ['interpretatie', 'sondering']\n"
     ]
    }
   ],
   "source": [
    "# check the cache dir\n",
    "import os\n",
    "import pydov.util.caching\n",
    "cachedir = pydov.cache.cachedir\n",
    "print(cachedir)\n",
    "print('directories: ', os.listdir(cachedir))"
   ]
  },
  {
   "cell_type": "markdown",
   "metadata": {},
   "source": [
    "### Speed up subsequent queries"
   ]
  },
  {
   "cell_type": "markdown",
   "metadata": {},
   "source": [
    "To illustrate the convenience of the caching during subsequent data requests, consider the following request, while measuring the time:"
   ]
  },
  {
   "cell_type": "code",
   "execution_count": 4,
   "metadata": {},
   "outputs": [
    {
     "name": "stdout",
     "output_type": "stream",
     "text": [
      "[000/001] .\n",
      "[000/277] ..................................................\n",
      "[050/277] ..................................................\n",
      "[100/277] ..................................................\n",
      "[150/277] ..................................................\n",
      "[200/277] ..................................................\n",
      "[250/277] ...........................\n",
      "CPU times: user 2.1 s, sys: 233 ms, total: 2.33 s\n",
      "Wall time: 21.4 s\n"
     ]
    }
   ],
   "source": [
    "from pydov.util.location import Within, Box\n",
    "\n",
    "# Get all borehole data in a bounding box (llx, llxy, ulx, uly) and timeit\n",
    "%time df = boring.search(location=Within(Box(150145, 205030, 155150, 206935)))"
   ]
  },
  {
   "cell_type": "code",
   "execution_count": 5,
   "metadata": {},
   "outputs": [
    {
     "name": "stdout",
     "output_type": "stream",
     "text": [
      "number of files:  277\n",
      "files present:  ['1986-059816.xml.gz', '2019-166049.xml.gz', '2022-195501.xml.gz', '2020-169408.xml.gz', '1986-005598.xml.gz', '1986-005594.xml.gz', '2022-191134.xml.gz', '2022-191184.xml.gz', '1970-061366.xml.gz', '2020-175375.xml.gz', '2022-191158.xml.gz', '2020-175376.xml.gz', '1970-061365.xml.gz', '2022-191151.xml.gz', '1879-121412.xml.gz', '2022-199618.xml.gz', '1970-061443.xml.gz', '2023-202562.xml.gz', '1976-015780.xml.gz', '2022-191191.xml.gz', '1894-121258.xml.gz', '2025-226515.xml.gz', '2022-200455.xml.gz', '2022-191154.xml.gz', '2020-174745.xml.gz', '1986-005596.xml.gz', '1970-061442.xml.gz', '2022-191726.xml.gz', '2022-191721.xml.gz', '1974-010351.xml.gz', '2025-234438.xml.gz', '1969-033216.xml.gz', '2022-191181.xml.gz', '2022-199273.xml.gz', '2022-191164.xml.gz', '2017-148854.xml.gz', '2022-191725.xml.gz', '1969-033208.xml.gz', '1970-018762.xml.gz', '2024-220877.xml.gz', '1985-084552.xml.gz', '2021-185819.xml.gz', '1953-121327.xml.gz', '2022-191189.xml.gz', '1970-061454.xml.gz', '2024-219590.xml.gz', '2019-160294.xml.gz', '2022-191717.xml.gz', '2022-191718.xml.gz', '2020-175374.xml.gz', '1879-121292.xml.gz', '2021-186450.xml.gz', '2022-199619.xml.gz', '2022-195502.xml.gz', '1879-121293.xml.gz', '2020-175766.xml.gz', '2022-199051.xml.gz', '2021-180997.xml.gz', '2021-191079.xml.gz', '2024-219901.xml.gz', '2022-189945.xml.gz', '2022-193074.xml.gz', '2022-191190.xml.gz', '2021-182867.xml.gz', '1969-033213.xml.gz', '1895-121247.xml.gz', '1969-033211.xml.gz', '2021-187046.xml.gz', '1969-092689.xml.gz', '1970-061450.xml.gz', '2022-191862.xml.gz', '2022-191155.xml.gz', '1969-033220.xml.gz', '2023-211594.xml.gz', '2024-226195.xml.gz', '2021-188778.xml.gz', '2023-211865.xml.gz', '2022-191188.xml.gz', '1953-121361.xml.gz', '1969-092687.xml.gz', '2022-191855.xml.gz', '2018-155580.xml.gz', '2022-191153.xml.gz', '1970-061364.xml.gz', '1973-104727.xml.gz', '2023-206203.xml.gz', '1879-121387.xml.gz', '1923-121200.xml.gz', '2022-191152.xml.gz', '2020-171440.xml.gz', '2019-160705.xml.gz', '2018-173275.xml.gz', '2021-190781.xml.gz', '2022-191166.xml.gz', '2022-191193.xml.gz', '2019-160757.xml.gz', '2022-192594.xml.gz', '1978-121458.xml.gz', '2023-206163.xml.gz', '2022-191710.xml.gz', '1976-015781.xml.gz', '1986-059814.xml.gz', '1879-121401.xml.gz', '1969-092688.xml.gz', '2019-166024.xml.gz', '2022-191194.xml.gz', '2024-213259.xml.gz', '2022-198429.xml.gz', '1938-121359.xml.gz', '2021-191080.xml.gz', '2022-195742.xml.gz', '2025-228882.xml.gz', '2023-217934.xml.gz', '2019-161547.xml.gz', '2023-210622.xml.gz', '1969-033215.xml.gz', '1986-059815.xml.gz', '2019-161338.xml.gz', '1969-033219.xml.gz', '2018-153957.xml.gz', '1895-121241.xml.gz', '2022-191162.xml.gz', '1953-121362.xml.gz', '2023-201422.xml.gz', '1894-122153.xml.gz', '2022-191720.xml.gz', '1879-122256.xml.gz', '2018-156632.xml.gz', '2021-181004.xml.gz', '2023-202585.xml.gz', '2023-210623.xml.gz', '2023-213939.xml.gz', '2022-191180.xml.gz', '2021-183161.xml.gz', '2022-191863.xml.gz', '2022-191187.xml.gz', '1938-121360.xml.gz', '2022-191715.xml.gz', '2025-228631.xml.gz', '2022-199620.xml.gz', '2022-191185.xml.gz', '2024-222946.xml.gz', '2019-167509.xml.gz', '2022-198243.xml.gz', '2022-191859.xml.gz', '2018-155266.xml.gz', '2022-191170.xml.gz', '2022-191723.xml.gz', '1976-015298.xml.gz', '2023-212708.xml.gz', '1895-121244.xml.gz', '2021-186746.xml.gz', '2020-175377.xml.gz', '2022-191712.xml.gz', '1894-122154.xml.gz', '2022-191864.xml.gz', '2022-191192.xml.gz', '1976-015782.xml.gz', '1973-018152.xml.gz', '2022-191856.xml.gz', '2022-191719.xml.gz', '1969-033207.xml.gz', '2019-166213.xml.gz', '2018-170089.xml.gz', '1969-092685.xml.gz', '2018-154057.xml.gz', '1986-005597.xml.gz', '2020-174046.xml.gz', '1970-104899.xml.gz', '2019-166704.xml.gz', '2022-191709.xml.gz', '2022-201723.xml.gz', '2022-191858.xml.gz', '2022-191727.xml.gz', '2018-157294.xml.gz', '1976-015297.xml.gz', '1975-010345.xml.gz', '1973-104728.xml.gz', '1969-033212.xml.gz', '2023-203894.xml.gz', '2023-211837.xml.gz', '1970-061363.xml.gz', '1970-061446.xml.gz', '2022-191165.xml.gz', '1973-081811.xml.gz', '1970-061362.xml.gz', '1895-121242.xml.gz', '2023-204993.xml.gz', '2022-191168.xml.gz', '2022-191171.xml.gz', '2022-191716.xml.gz', '2022-191169.xml.gz', '1969-033206.xml.gz', '1978-012352.xml.gz', '1879-121424.xml.gz', '2020-175378.xml.gz', '1894-122155.xml.gz', '2021-191078.xml.gz', '1969-033214.xml.gz', '2021-188296.xml.gz', '1970-018763.xml.gz', '1969-033218.xml.gz', '2020-176854.xml.gz', '2018-157193.xml.gz', '2022-196735.xml.gz', '2023-208716.xml.gz', '2020-176796.xml.gz', '1895-121248.xml.gz', '1932-121315.xml.gz', '1973-060207.xml.gz', '2022-192704.xml.gz', '2022-195743.xml.gz', '2022-191724.xml.gz', '2020-169780.xml.gz', '1895-121232.xml.gz', '2022-191857.xml.gz', '1970-104897.xml.gz', '2017-153161.xml.gz', '1969-092686.xml.gz', '1990-190466.xml.gz', '2022-191860.xml.gz', '2022-191183.xml.gz', '1984-081833.xml.gz', '2022-191186.xml.gz', '2020-177353.xml.gz', '2021-191081.xml.gz', '2022-191182.xml.gz', '2022-192972.xml.gz', '2024-221000.xml.gz', '1970-104898.xml.gz', '1973-104723.xml.gz', '2018-156633.xml.gz', '1970-018757.xml.gz', '2023-200409.xml.gz', '2021-185164.xml.gz', '2022-191713.xml.gz', '2020-177041.xml.gz', '2021-178632.xml.gz', '2018-156634.xml.gz', '2022-194770.xml.gz', '1984-081834.xml.gz', '2022-191195.xml.gz', '1976-015779.xml.gz', '2020-172608.xml.gz', '2024-219386.xml.gz', '1970-061447.xml.gz', '2019-162035.xml.gz', '2022-191714.xml.gz', '1923-121199.xml.gz', '2024-222947.xml.gz', '2023-212214.xml.gz', '1970-061444.xml.gz', '1969-033217.xml.gz', '1976-014856.xml.gz', '1970-104900.xml.gz', '1973-060208.xml.gz', '2018-157386.xml.gz', '2023-206879.xml.gz', '2020-174025.xml.gz', '1996-081802.xml.gz', '1970-061445.xml.gz', '2017-152011.xml.gz', '2020-175379.xml.gz', '1996-021717.xml.gz', '2022-201722.xml.gz', '2022-191861.xml.gz', '2022-191711.xml.gz', '2023-205273.xml.gz', '1936-122224.xml.gz', '2020-175467.xml.gz', '2022-193726.xml.gz', '2021-188201.xml.gz', '1969-033209.xml.gz', '1879-119364.xml.gz', '2022-191167.xml.gz', '2019-166707.xml.gz', '1987-119382.xml.gz']\n"
     ]
    }
   ],
   "source": [
    "# The structure of cachedir implies a separate directory for each query type, since permalinks are not unique across types\n",
    "# In this example 'boring' will be queried, therefore list xmls in the cache of the 'boring' type\n",
    "# list files present\n",
    "print('number of files: ', len(os.listdir(os.path.join(pydov.cache.cachedir, 'boring'))))\n",
    "print('files present: ', os.listdir(os.path.join(pydov.cache.cachedir, 'boring')))"
   ]
  },
  {
   "cell_type": "markdown",
   "metadata": {},
   "source": [
    "Rerun the previous request and timeit again:"
   ]
  },
  {
   "cell_type": "code",
   "execution_count": 6,
   "metadata": {},
   "outputs": [
    {
     "name": "stdout",
     "output_type": "stream",
     "text": [
      "[000/001] .\n",
      "[000/277] cccccccccccccccccccccccccccccccccccccccccccccccccc\n",
      "[050/277] cccccccccccccccccccccccccccccccccccccccccccccccccc\n",
      "[100/277] cccccccccccccccccccccccccccccccccccccccccccccccccc\n",
      "[150/277] cccccccccccccccccccccccccccccccccccccccccccccccccc\n",
      "[200/277] cccccccccccccccccccccccccccccccccccccccccccccccccc\n",
      "[250/277] ccccccccccccccccccccccccccc\n",
      "CPU times: user 552 ms, sys: 126 ms, total: 678 ms\n",
      "Wall time: 1.19 s\n"
     ]
    }
   ],
   "source": [
    "%time df = boring.search(location=Within(Box(150145, 205030, 155150, 206935)))"
   ]
  },
  {
   "cell_type": "markdown",
   "metadata": {},
   "source": [
    "The use of the cache decreased the runtime by a factor 100 in the current example. This will increase drastically if more permalinks are queried since the download takes much longer than the IO at runtime."
   ]
  },
  {
   "cell_type": "markdown",
   "metadata": {},
   "source": [
    "### Disabling the cache"
   ]
  },
  {
   "cell_type": "markdown",
   "metadata": {},
   "source": [
    "You can (temporarily!) disable the caching mechanism. This disables both the saving of newly downloaded data in the cache, \n",
    "as well as reusing existing data in the cache. It remains valid for the time being of the instantiated pydov.cache object.\n",
    "It does not delete existing data in the cache."
   ]
  },
  {
   "cell_type": "code",
   "execution_count": 7,
   "metadata": {},
   "outputs": [
    {
     "name": "stdout",
     "output_type": "stream",
     "text": [
      "number of files:  277\n"
     ]
    }
   ],
   "source": [
    "# list number of files\n",
    "print('number of files: ', len(os.listdir(os.path.join(cachedir, 'boring'))))"
   ]
  },
  {
   "cell_type": "code",
   "execution_count": 8,
   "metadata": {},
   "outputs": [
    {
     "name": "stdout",
     "output_type": "stream",
     "text": [
      "[000/001] .\n",
      "[000/002] ..\n",
      "                                         pkey_boring     boornummer         x  \\\n",
      "0  https://www.dov.vlaanderen.be/data/boring/1895...   kb15d43w-B47  151600.0   \n",
      "1  https://www.dov.vlaanderen.be/data/boring/1984...  kb15d43w-B403  151041.0   \n",
      "\n",
      "          y  mv_mtaw  start_boring_mtaw   gemeente  diepte_boring_van  \\\n",
      "0  205998.0    15.00              15.00  Antwerpen                0.0   \n",
      "1  205933.0    21.07              21.07  Antwerpen                0.0   \n",
      "\n",
      "   diepte_boring_tot datum_aanvang                                uitvoerder  \\\n",
      "0                3.3    1895-01-04                                  onbekend   \n",
      "1                7.0    1984-09-26  Universiteit Gent - Geologisch Instituut   \n",
      "\n",
      "   boorgatmeting  diepte_methode_van  diepte_methode_tot   boormethode  \n",
      "0          False                 0.0                 3.3      onbekend  \n",
      "1          False                 0.0                 7.0  droge boring  \n"
     ]
    }
   ],
   "source": [
    "# disable caching\n",
    "cache_orig = pydov.cache\n",
    "pydov.cache = None\n",
    "# new query\n",
    "df = boring.search(location=Within(Box(151000, 205930, 153000, 206000)))\n",
    "print(df.head())"
   ]
  },
  {
   "cell_type": "code",
   "execution_count": 9,
   "metadata": {},
   "outputs": [
    {
     "name": "stdout",
     "output_type": "stream",
     "text": [
      "number of files:  277\n"
     ]
    }
   ],
   "source": [
    "# list number of files\n",
    "print('number of files: ', len(os.listdir(os.path.join(cachedir, 'boring'))))"
   ]
  },
  {
   "cell_type": "markdown",
   "metadata": {},
   "source": [
    "Hence, no new files were added to the cache when disabling it."
   ]
  },
  {
   "cell_type": "markdown",
   "metadata": {},
   "source": [
    "The caching is disabled by removing the pydov.cache object from the namespace. If you want to enable caching again you must instantiate it anew."
   ]
  },
  {
   "cell_type": "code",
   "execution_count": 10,
   "metadata": {
    "jupyter": {
     "outputs_hidden": true
    }
   },
   "outputs": [],
   "source": [
    "pydov.cache = cache_orig"
   ]
  },
  {
   "cell_type": "markdown",
   "metadata": {},
   "source": [
    "### Changing the location of cached data"
   ]
  },
  {
   "cell_type": "markdown",
   "metadata": {},
   "source": [
    "By default, pydov stores the cache in a temporary directory provided by the user's operating system. On Windows, the cache is usually located in:  `C:\\Users\\username\\AppData\\Local\\Temp\\pydov\\`\n",
    "If you want the cached xml files to be saved in another location you can define your own cache for the current runtime. Mind that this does not change the location of previously saved data. No lookup in the old datafolder will be performed after changing the directory's location.\n",
    "Besides controlling the cache's location, this also allows using different scripts or projects."
   ]
  },
  {
   "cell_type": "code",
   "execution_count": 11,
   "metadata": {
    "jupyter": {
     "outputs_hidden": true
    }
   },
   "outputs": [],
   "source": [
    "import pydov.util.caching\n",
    "\n",
    "pydov.cache = pydov.util.caching.GzipTextFileCache(\n",
    "    cachedir=r'C:\\temp\\pydov'\n",
    "    )"
   ]
  },
  {
   "cell_type": "code",
   "execution_count": 12,
   "metadata": {},
   "outputs": [
    {
     "name": "stdout",
     "output_type": "stream",
     "text": [
      "C:\\temp\\pydov\n"
     ]
    }
   ],
   "source": [
    "cachedir = pydov.cache.cachedir\n",
    "print(cachedir)"
   ]
  },
  {
   "cell_type": "code",
   "execution_count": 13,
   "metadata": {
    "jupyter": {
     "outputs_hidden": true
    }
   },
   "outputs": [],
   "source": [
    "# for the sake of the example, change dir location back \n",
    "pydov.cache = cache_orig\n",
    "cachedir = pydov.cache.cachedir"
   ]
  },
  {
   "cell_type": "markdown",
   "metadata": {},
   "source": [
    "### Changing the maximum age of cached data"
   ]
  },
  {
   "cell_type": "markdown",
   "metadata": {},
   "source": [
    "If you work with rapidly changing data or want to control when cached data is renewed, you can do so by changing the maximum age of cached data to be considered valid for the currenct runtime. You can use 'weeks', 'days' or any other common datetime format.\n",
    "If a cached version exists and is younger than the maximum age, it is used in favor of renewing the data from DOV services. If no cached version exists or is older than the maximum age, the data is renewed and saved in the cache.\n",
    "Note that data older than the maximum age is not automatically deleted from the cache."
   ]
  },
  {
   "cell_type": "code",
   "execution_count": 14,
   "metadata": {},
   "outputs": [
    {
     "name": "stdout",
     "output_type": "stream",
     "text": [
      "0:00:01\n"
     ]
    }
   ],
   "source": [
    "import pydov.util.caching\n",
    "import datetime\n",
    "pydov.cache = pydov.util.caching.GzipTextFileCache(\n",
    "    max_age=datetime.timedelta(seconds=1)\n",
    "    )\n",
    "print(pydov.cache.max_age)"
   ]
  },
  {
   "cell_type": "code",
   "execution_count": 15,
   "metadata": {},
   "outputs": [
    {
     "name": "stdout",
     "output_type": "stream",
     "text": [
      "1986-059816.xml.gz\n"
     ]
    },
    {
     "data": {
      "text/plain": [
       "'Sat Aug 30 10:21:51 2025'"
      ]
     },
     "execution_count": 15,
     "metadata": {},
     "output_type": "execute_result"
    }
   ],
   "source": [
    "from time import ctime\n",
    "print(os.listdir(os.path.join(cachedir, 'boring'))[0])\n",
    "ctime(os.path.getmtime(os.path.join(os.path.join(cachedir, 'boring'),\n",
    "                                    os.listdir(os.path.join(cachedir, 'boring'))[0]\n",
    "                                   )\n",
    "                      )\n",
    "     )"
   ]
  },
  {
   "cell_type": "code",
   "execution_count": 16,
   "metadata": {},
   "outputs": [
    {
     "name": "stdout",
     "output_type": "stream",
     "text": [
      "[000/001] .\n",
      "[000/277] ..................................................\n",
      "[050/277] ..................................................\n",
      "[100/277] ..................................................\n",
      "[150/277] ..................................................\n",
      "[200/277] ..................................................\n",
      "[250/277] ...........................\n",
      "CPU times: user 1.87 s, sys: 243 ms, total: 2.11 s\n",
      "Wall time: 17.6 s\n"
     ]
    }
   ],
   "source": [
    "# rerun previous query \n",
    "%time df = boring.search(location=Within(Box(150145, 205030, 155150, 206935)))"
   ]
  },
  {
   "cell_type": "code",
   "execution_count": 17,
   "metadata": {},
   "outputs": [
    {
     "name": "stdout",
     "output_type": "stream",
     "text": [
      "1986-059816.xml.gz\n"
     ]
    },
    {
     "data": {
      "text/plain": [
       "'Sat Aug 30 10:22:28 2025'"
      ]
     },
     "execution_count": 17,
     "metadata": {},
     "output_type": "execute_result"
    }
   ],
   "source": [
    "from time import ctime\n",
    "print(os.listdir(os.path.join(cachedir, 'boring'))[0])\n",
    "ctime(os.path.getmtime(os.path.join(os.path.join(cachedir, 'boring'),\n",
    "                                    os.listdir(os.path.join(cachedir, 'boring'))[0]\n",
    "                                   )\n",
    "                      )\n",
    "     )"
   ]
  },
  {
   "cell_type": "markdown",
   "metadata": {},
   "source": [
    "### Cleaning the cache"
   ]
  },
  {
   "cell_type": "markdown",
   "metadata": {},
   "source": [
    "Since we use a temporary directory provided by the operating system, we rely on the operating system to clean the folder when it deems necessary."
   ]
  },
  {
   "cell_type": "markdown",
   "metadata": {},
   "source": [
    "To clean the cache, removing all records older than the maximum age"
   ]
  },
  {
   "cell_type": "code",
   "execution_count": 18,
   "metadata": {
    "jupyter": {
     "outputs_hidden": true
    }
   },
   "outputs": [],
   "source": [
    "from time import sleep"
   ]
  },
  {
   "cell_type": "code",
   "execution_count": 19,
   "metadata": {},
   "outputs": [
    {
     "name": "stdout",
     "output_type": "stream",
     "text": [
      "number of files before clean:  277\n",
      "number of files after clean:  0\n"
     ]
    }
   ],
   "source": [
    "print('number of files before clean: ', len(os.listdir(os.path.join(cachedir, 'boring'))))\n",
    "sleep(2) # remember we've put the caching age on 1 second\n",
    "pydov.cache.clean()\n",
    "print('number of files after clean: ', len(os.listdir(os.path.join(cachedir, 'boring'))))"
   ]
  },
  {
   "cell_type": "markdown",
   "metadata": {},
   "source": [
    "Should you want to remove the pydov cache from code yourself, you can do so as illustrated below. Note that this will erase the entire cache, not only the records older than the maximum age:"
   ]
  },
  {
   "cell_type": "code",
   "execution_count": 20,
   "metadata": {},
   "outputs": [
    {
     "name": "stdout",
     "output_type": "stream",
     "text": [
      "False\n"
     ]
    }
   ],
   "source": [
    "pydov.cache.remove()\n",
    "# check existence of the cache directory:\n",
    "print(os.path.exists(os.path.join(cachedir, 'boring')))"
   ]
  },
  {
   "cell_type": "markdown",
   "metadata": {},
   "source": [
    "### Disabling stale responses on error"
   ]
  },
  {
   "cell_type": "markdown",
   "metadata": {},
   "source": [
    "By default, pydov will return stale data (i.e. XML documents still present in\n",
    "the cache, but no longer considered valid) in case it fails to download a fresh\n",
    "copy from the DOV webservices. We believe this behaviour to benefit most users, as we think stale data is still better than no data at all.  \n",
    "\n",
    "If your application cannot afford stale data, you can switch the default\n",
    "behaviour by issuing:"
   ]
  },
  {
   "cell_type": "code",
   "execution_count": 21,
   "metadata": {},
   "outputs": [],
   "source": [
    "pydov.cache.stale_on_error = False"
   ]
  },
  {
   "cell_type": "markdown",
   "metadata": {},
   "source": [
    "This will cause pydov not to return stale data and instead set the XML fields\n",
    "to NaN, as if the stale data wasn't available."
   ]
  },
  {
   "cell_type": "markdown",
   "metadata": {},
   "source": [
    "### Custom caching"
   ]
  },
  {
   "cell_type": "markdown",
   "metadata": {},
   "source": [
    "By default, pydov caches files on disk as gzipped XML documents. Should you\n",
    "for any reason want to use plain text XML documents instead, you can do so by\n",
    "using the PlainTextFileCache instead of the GzipTextFileCache.  \n",
    "Mind that this can increase the disk usage of the cache by 10x.:"
   ]
  },
  {
   "cell_type": "code",
   "execution_count": 22,
   "metadata": {},
   "outputs": [],
   "source": [
    "import pydov.util.caching\n",
    "pydov.cache = pydov.util.caching.PlainTextFileCache()"
   ]
  },
  {
   "cell_type": "markdown",
   "metadata": {},
   "source": [
    "#### Implementing custom caching\n",
    "\n",
    "Should you want to implement your own caching mechanism, you can do so by\n",
    "subclassing :class:`pydov.util.caching.AbstractCache` and implementing its\n",
    "abstract methods ``get``, ``clean`` and ``remove``. Hereby you can use the\n",
    "available methods ``_get_remote`` to request data from the DOV webservices\n",
    "and ``_emit_cache_hit`` to notify hooks a file has been retrieved from the\n",
    "cache.\n",
    "\n",
    "Note that the ``get`` method will be called from multiple threads\n",
    "simultaneously, so implementations must be threadsafe or use locking.\n",
    "\n",
    "A (naive) implementation for an in-memory cache would be something like:"
   ]
  },
  {
   "cell_type": "code",
   "execution_count": 23,
   "metadata": {},
   "outputs": [],
   "source": [
    "from pydov.util.caching import AbstractCache\n",
    "\n",
    "class MemoryCache(AbstractCache):\n",
    "    def __init__(self):\n",
    "        self.cache = {}\n",
    "\n",
    "    def get(self, url):\n",
    "        if url not in self.cache:\n",
    "            self.cache[url] = self._get_remote(url)\n",
    "        else:\n",
    "            self._emit_cache_hit(url)\n",
    "        return self.cache[url]\n",
    "\n",
    "    def clean(self):\n",
    "        self.cache = {}\n",
    "\n",
    "    def remove(self):\n",
    "        self.cache = {}\n",
    "\n",
    "pydov.cache = MemoryCache()"
   ]
  }
 ],
 "metadata": {
  "kernelspec": {
   "display_name": ".venv",
   "language": "python",
   "name": "python3"
  },
  "language_info": {
   "codemirror_mode": {
    "name": "ipython",
    "version": 3
   },
   "file_extension": ".py",
   "mimetype": "text/x-python",
   "name": "python",
   "nbconvert_exporter": "python",
   "pygments_lexer": "ipython3",
   "version": "3.10.12"
  },
  "nbsphinx": {
   "execute": "never"
  }
 },
 "nbformat": 4,
 "nbformat_minor": 4
}
