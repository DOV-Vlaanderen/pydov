{
 "cells": [
  {
   "cell_type": "markdown",
   "metadata": {},
   "source": [
    "# Examples of object type customization"
   ]
  },
  {
   "cell_type": "markdown",
   "metadata": {},
   "source": [
    "[![Binder](https://mybinder.org/badge_logo.svg)](https://mybinder.org/v2/gh/DOV-Vlaanderen/pydov/master?filepath=docs%2Fnotebooks%2Fcustomizing_object_types.ipynb)"
   ]
  },
  {
   "cell_type": "markdown",
   "metadata": {},
   "source": [
    "## Listing techniques per CPT measurement"
   ]
  },
  {
   "cell_type": "code",
   "execution_count": 1,
   "metadata": {},
   "outputs": [],
   "source": [
    "%matplotlib inline"
   ]
  },
  {
   "cell_type": "markdown",
   "metadata": {},
   "source": [
    "While performing CPT measurements, different techniques can be used. Since these can have an impact on the results, it can be interesting to download this additional information in order to better comprehend the CPT data.\n",
    "\n",
    "Different CPT techniques can be applied at various depths, so the easiest way to add this to pydov is to use a new Sondering subtype `Techniek`, as shown below. The result will be that one can then choose to query CPT measurements and either retrieve a dataframe with the measurements themselves, or a dataframe with the techniques applied. The user can subsequently compare or merge the two dataframes at will."
   ]
  },
  {
   "cell_type": "code",
   "execution_count": 2,
   "metadata": {},
   "outputs": [],
   "source": [
    "from pydov.types.fields import XmlField, XsdType\n",
    "from pydov.types.abstract import AbstractDovSubType\n",
    "from pydov.types.sondering import Sondering"
   ]
  },
  {
   "cell_type": "markdown",
   "metadata": {},
   "source": [
    "A new subtype has to be a subclass of the AbstractDovSubType class and implement two class variables: rootpath and fields.\n",
    "\n",
    "The `rootpath` is the XML XPath expression matching all instances of this subtype in the XML. One instance of this subtype will be created for each element matched by the `rootpath` XPath expression.\n",
    "\n",
    "In the `fields` all the fields of this subtype are listed. These are instances of `XmlField` and should have at minimum a `name`, a `source_xpath` and a `datatype`. Additionally, a field should have a `definition` and can have a reference to an XSD schema type. The latter will be resolved and parsed at runtime, resulting in a list of values of this field."
   ]
  },
  {
   "cell_type": "code",
   "execution_count": 3,
   "metadata": {},
   "outputs": [],
   "source": [
    "class Techniek(AbstractDovSubType):\n",
    "    \n",
    "    rootpath = './/sondering/sondeonderzoek/penetratietest/technieken'\n",
    "\n",
    "    fields = [\n",
    "        XmlField(name='techniek_diepte_van',\n",
    "                 source_xpath='/diepte_van',\n",
    "                 definition='Enkel van toepassing voor het plaatsen van voerbuizen - '\n",
    "                            '(code V) of het boren door een harde laag (code B).',\n",
    "                 datatype='float'),\n",
    "        XmlField(name='techniek_diepte',\n",
    "                 source_xpath='/diepte_techniek',\n",
    "                 definition='Diepte waarop techniek toegepast werd.',\n",
    "                 datatype='float'),\n",
    "        XmlField(name='techniek',\n",
    "                 source_xpath='/techniek',\n",
    "                 definition='De gebruikte techniek.',\n",
    "                 datatype='string',\n",
    "                 xsd_type=XsdType(\n",
    "                     xsd_schema='https://www.dov.vlaanderen.be/xdov/schema/latest/xsd/kern/sondering/SonderingDataCodes.xsd',\n",
    "                     typename='SondeerTechniekEnumType')),\n",
    "        XmlField(name='techniek_andere',\n",
    "                 source_xpath='/techniek_andere',\n",
    "                 definition=\"De gebruikte techniek (enkel van toepassing indien de techniek = 'andere').\",\n",
    "                 datatype='string')\n",
    "    ]"
   ]
  },
  {
   "cell_type": "markdown",
   "metadata": {},
   "source": [
    "In order to be able to use this subtype in a search query, we have to create a subclass of the original main type (Sondering) and register our new subtype:"
   ]
  },
  {
   "cell_type": "code",
   "execution_count": 4,
   "metadata": {},
   "outputs": [],
   "source": [
    "class SonderingTechnieken(Sondering):\n",
    "    subtypes = [Techniek]"
   ]
  },
  {
   "cell_type": "markdown",
   "metadata": {},
   "source": [
    "The next step is to instantiate the `SonderingSearch` class with our newly created type:"
   ]
  },
  {
   "cell_type": "code",
   "execution_count": 5,
   "metadata": {},
   "outputs": [],
   "source": [
    "from pydov.search.sondering import SonderingSearch\n",
    "\n",
    "cpts = SonderingSearch(objecttype=SonderingTechnieken)"
   ]
  },
  {
   "cell_type": "markdown",
   "metadata": {},
   "source": [
    "If everything worked out, you should be able to see the new fields in the `get_fields` output:"
   ]
  },
  {
   "cell_type": "code",
   "execution_count": 6,
   "metadata": {},
   "outputs": [
    {
     "data": {
      "text/plain": [
       "{'name': 'techniek',\n",
       " 'type': 'string',\n",
       " 'definition': 'De gebruikte techniek.',\n",
       " 'notnull': False,\n",
       " 'query': False,\n",
       " 'cost': 10,\n",
       " 'values': {'B': 'sondeerbuizen door een harde laag geduwd of geboord',\n",
       "  'E': 'sondeerbuizen op en neer bewogen',\n",
       "  'S': 'uitvoering sondering tijdelijk onderbroken',\n",
       "  'V': 'plaatsing van voerbuizen',\n",
       "  'andere': 'een andere dan de standaard voorziene technieken'}}"
      ]
     },
     "execution_count": 6,
     "metadata": {},
     "output_type": "execute_result"
    }
   ],
   "source": [
    "cpts.get_fields()['techniek']"
   ]
  },
  {
   "cell_type": "markdown",
   "metadata": {},
   "source": [
    "Querying is exactly the same as with the default Sondering type:"
   ]
  },
  {
   "cell_type": "code",
   "execution_count": 7,
   "metadata": {},
   "outputs": [
    {
     "name": "stdout",
     "output_type": "stream",
     "text": [
      "[000/001] .\n",
      "[000/087] ..................................................\n",
      "[050/087] .....................................\n"
     ]
    }
   ],
   "source": [
    "from pydov.util.location import WithinDistance, Point\n",
    "\n",
    "df = cpts.search(location=WithinDistance(Point(150000, 150000), 10000, 'meter'))"
   ]
  },
  {
   "cell_type": "markdown",
   "metadata": {},
   "source": [
    "One can use the values from the XSD type to add a human-readably column with the different techniques:"
   ]
  },
  {
   "cell_type": "code",
   "execution_count": 8,
   "metadata": {},
   "outputs": [],
   "source": [
    "df['techniek_label'] = df['techniek'].map(cpts.get_fields()['techniek']['values'])"
   ]
  },
  {
   "cell_type": "code",
   "execution_count": 9,
   "metadata": {},
   "outputs": [
    {
     "data": {
      "text/html": [
       "<div>\n",
       "<style scoped>\n",
       "    .dataframe tbody tr th:only-of-type {\n",
       "        vertical-align: middle;\n",
       "    }\n",
       "\n",
       "    .dataframe tbody tr th {\n",
       "        vertical-align: top;\n",
       "    }\n",
       "\n",
       "    .dataframe thead th {\n",
       "        text-align: right;\n",
       "    }\n",
       "</style>\n",
       "<table border=\"1\" class=\"dataframe\">\n",
       "  <thead>\n",
       "    <tr style=\"text-align: right;\">\n",
       "      <th></th>\n",
       "      <th>pkey_sondering</th>\n",
       "      <th>sondeernummer</th>\n",
       "      <th>x</th>\n",
       "      <th>y</th>\n",
       "      <th>mv_mtaw</th>\n",
       "      <th>start_sondering_mtaw</th>\n",
       "      <th>diepte_sondering_van</th>\n",
       "      <th>diepte_sondering_tot</th>\n",
       "      <th>datum_aanvang</th>\n",
       "      <th>uitvoerder</th>\n",
       "      <th>sondeermethode</th>\n",
       "      <th>apparaat</th>\n",
       "      <th>datum_gw_meting</th>\n",
       "      <th>diepte_gw_m</th>\n",
       "      <th>techniek_diepte_van</th>\n",
       "      <th>techniek_diepte</th>\n",
       "      <th>techniek</th>\n",
       "      <th>techniek_andere</th>\n",
       "      <th>techniek_label</th>\n",
       "    </tr>\n",
       "  </thead>\n",
       "  <tbody>\n",
       "    <tr>\n",
       "      <th>0</th>\n",
       "      <td>https://www.dov.vlaanderen.be/data/sondering/1...</td>\n",
       "      <td>GEO-79/291-SII</td>\n",
       "      <td>147245.0</td>\n",
       "      <td>158407.0</td>\n",
       "      <td>NaN</td>\n",
       "      <td>67.50</td>\n",
       "      <td>0.0</td>\n",
       "      <td>32.2</td>\n",
       "      <td>1979-08-20</td>\n",
       "      <td>Rijksinstituut voor Grondmechanica</td>\n",
       "      <td>discontinu mechanisch</td>\n",
       "      <td>200 kN</td>\n",
       "      <td>NaT</td>\n",
       "      <td>1.95</td>\n",
       "      <td>7.4</td>\n",
       "      <td>7.4</td>\n",
       "      <td>V</td>\n",
       "      <td>NaN</td>\n",
       "      <td>plaatsing van voerbuizen</td>\n",
       "    </tr>\n",
       "    <tr>\n",
       "      <th>1</th>\n",
       "      <td>https://www.dov.vlaanderen.be/data/sondering/1...</td>\n",
       "      <td>GEO-79/291-SI</td>\n",
       "      <td>147231.0</td>\n",
       "      <td>158421.0</td>\n",
       "      <td>NaN</td>\n",
       "      <td>67.60</td>\n",
       "      <td>0.0</td>\n",
       "      <td>32.6</td>\n",
       "      <td>1979-08-17</td>\n",
       "      <td>Rijksinstituut voor Grondmechanica</td>\n",
       "      <td>discontinu mechanisch</td>\n",
       "      <td>200 kN</td>\n",
       "      <td>NaT</td>\n",
       "      <td>2.10</td>\n",
       "      <td>6.4</td>\n",
       "      <td>6.4</td>\n",
       "      <td>V</td>\n",
       "      <td>NaN</td>\n",
       "      <td>plaatsing van voerbuizen</td>\n",
       "    </tr>\n",
       "    <tr>\n",
       "      <th>2</th>\n",
       "      <td>https://www.dov.vlaanderen.be/data/sondering/1...</td>\n",
       "      <td>GEO-79/291-SIII</td>\n",
       "      <td>147241.0</td>\n",
       "      <td>158388.0</td>\n",
       "      <td>NaN</td>\n",
       "      <td>69.40</td>\n",
       "      <td>0.0</td>\n",
       "      <td>33.2</td>\n",
       "      <td>1979-08-20</td>\n",
       "      <td>Rijksinstituut voor Grondmechanica</td>\n",
       "      <td>discontinu mechanisch</td>\n",
       "      <td>200 kN</td>\n",
       "      <td>NaT</td>\n",
       "      <td>2.88</td>\n",
       "      <td>6.4</td>\n",
       "      <td>6.4</td>\n",
       "      <td>V</td>\n",
       "      <td>NaN</td>\n",
       "      <td>plaatsing van voerbuizen</td>\n",
       "    </tr>\n",
       "    <tr>\n",
       "      <th>3</th>\n",
       "      <td>https://www.dov.vlaanderen.be/data/sondering/1...</td>\n",
       "      <td>GEO-79/199-SIV</td>\n",
       "      <td>145564.0</td>\n",
       "      <td>149739.0</td>\n",
       "      <td>NaN</td>\n",
       "      <td>126.06</td>\n",
       "      <td>0.0</td>\n",
       "      <td>8.2</td>\n",
       "      <td>1970-06-26</td>\n",
       "      <td>Rijksinstituut voor Grondmechanica</td>\n",
       "      <td>discontinu mechanisch</td>\n",
       "      <td>100 kN</td>\n",
       "      <td>NaT</td>\n",
       "      <td>NaN</td>\n",
       "      <td>NaN</td>\n",
       "      <td>NaN</td>\n",
       "      <td>NaN</td>\n",
       "      <td>NaN</td>\n",
       "      <td>NaN</td>\n",
       "    </tr>\n",
       "    <tr>\n",
       "      <th>4</th>\n",
       "      <td>https://www.dov.vlaanderen.be/data/sondering/1...</td>\n",
       "      <td>GEO-79/199-SV</td>\n",
       "      <td>145546.0</td>\n",
       "      <td>149746.0</td>\n",
       "      <td>NaN</td>\n",
       "      <td>126.03</td>\n",
       "      <td>0.0</td>\n",
       "      <td>10.2</td>\n",
       "      <td>1979-06-25</td>\n",
       "      <td>Rijksinstituut voor Grondmechanica</td>\n",
       "      <td>discontinu mechanisch</td>\n",
       "      <td>100 kN</td>\n",
       "      <td>NaT</td>\n",
       "      <td>NaN</td>\n",
       "      <td>NaN</td>\n",
       "      <td>NaN</td>\n",
       "      <td>NaN</td>\n",
       "      <td>NaN</td>\n",
       "      <td>NaN</td>\n",
       "    </tr>\n",
       "  </tbody>\n",
       "</table>\n",
       "</div>"
      ],
      "text/plain": [
       "                                      pkey_sondering    sondeernummer  \\\n",
       "0  https://www.dov.vlaanderen.be/data/sondering/1...   GEO-79/291-SII   \n",
       "1  https://www.dov.vlaanderen.be/data/sondering/1...    GEO-79/291-SI   \n",
       "2  https://www.dov.vlaanderen.be/data/sondering/1...  GEO-79/291-SIII   \n",
       "3  https://www.dov.vlaanderen.be/data/sondering/1...   GEO-79/199-SIV   \n",
       "4  https://www.dov.vlaanderen.be/data/sondering/1...    GEO-79/199-SV   \n",
       "\n",
       "          x         y  mv_mtaw  start_sondering_mtaw  diepte_sondering_van  \\\n",
       "0  147245.0  158407.0      NaN                 67.50                   0.0   \n",
       "1  147231.0  158421.0      NaN                 67.60                   0.0   \n",
       "2  147241.0  158388.0      NaN                 69.40                   0.0   \n",
       "3  145564.0  149739.0      NaN                126.06                   0.0   \n",
       "4  145546.0  149746.0      NaN                126.03                   0.0   \n",
       "\n",
       "   diepte_sondering_tot datum_aanvang                          uitvoerder  \\\n",
       "0                  32.2    1979-08-20  Rijksinstituut voor Grondmechanica   \n",
       "1                  32.6    1979-08-17  Rijksinstituut voor Grondmechanica   \n",
       "2                  33.2    1979-08-20  Rijksinstituut voor Grondmechanica   \n",
       "3                   8.2    1970-06-26  Rijksinstituut voor Grondmechanica   \n",
       "4                  10.2    1979-06-25  Rijksinstituut voor Grondmechanica   \n",
       "\n",
       "          sondeermethode apparaat datum_gw_meting  diepte_gw_m  \\\n",
       "0  discontinu mechanisch   200 kN             NaT         1.95   \n",
       "1  discontinu mechanisch   200 kN             NaT         2.10   \n",
       "2  discontinu mechanisch   200 kN             NaT         2.88   \n",
       "3  discontinu mechanisch   100 kN             NaT          NaN   \n",
       "4  discontinu mechanisch   100 kN             NaT          NaN   \n",
       "\n",
       "   techniek_diepte_van  techniek_diepte techniek  techniek_andere  \\\n",
       "0                  7.4              7.4        V              NaN   \n",
       "1                  6.4              6.4        V              NaN   \n",
       "2                  6.4              6.4        V              NaN   \n",
       "3                  NaN              NaN      NaN              NaN   \n",
       "4                  NaN              NaN      NaN              NaN   \n",
       "\n",
       "             techniek_label  \n",
       "0  plaatsing van voerbuizen  \n",
       "1  plaatsing van voerbuizen  \n",
       "2  plaatsing van voerbuizen  \n",
       "3                       NaN  \n",
       "4                       NaN  "
      ]
     },
     "execution_count": 9,
     "metadata": {},
     "output_type": "execute_result"
    }
   ],
   "source": [
    "df.head()"
   ]
  },
  {
   "cell_type": "markdown",
   "metadata": {},
   "source": [
    "## Adding location and height details to Boring dataframe"
   ]
  },
  {
   "cell_type": "markdown",
   "metadata": {},
   "source": [
    "There is more to the location of a borehole than meets the eye! The default dataframe lists already multiple fields regarding the location of the borehole, both planimetric as altimetric:\n",
    "\n",
    "* `x` and `y` are the planimetric coordinates of the borehole\n",
    "* `start_boring_mtaw` is the height of the start (aanvangspeil) of the borehole\n",
    "* `mv_mtaw` is the height of the ground level at the time of the making of the borehole\n",
    "\n",
    "However, we have more information available regarding the (origin of) these coordinates. Each of them has an associated method (methode) and reliability (betrouwbaarheid).\n",
    "\n",
    "We also make the distinction between the height of the ground level (maaiveld) and the height of the start of the borehole (aanvangspeil). If the borehole was started at ground level both are the same, but this is not necessarily the case. Furthermore the height of the start of the borehole can be either absolute (measured individually) or relative to the ground level.\n",
    "\n",
    "If we want to have all this extra information available when retrieving the borehole dataframe output (or that of another DOV type), we can add the extra XML fields in a subclass of the Boring type:"
   ]
  },
  {
   "cell_type": "code",
   "execution_count": 10,
   "metadata": {},
   "outputs": [],
   "source": [
    "from pydov.types.fields import XmlField, XsdType\n",
    "from pydov.types.boring import Boring\n",
    "\n",
    "class BoringMethodeXyz(Boring):\n",
    "    \n",
    "    __generiekeDataCodes = 'https://www.dov.vlaanderen.be/xdov/schema/latest/xsd/kern/generiek/GeneriekeDataCodes.xsd'\n",
    "    \n",
    "    fields = Boring.extend_fields([\n",
    "        XmlField(name='methode_xy',\n",
    "                 source_xpath='/boring/xy/methode_opmeten',\n",
    "                 definition='Methode waarop de x en y-coordinaat opgemeten werden.',\n",
    "                 datatype='string',\n",
    "                 xsd_type=XsdType(\n",
    "                     xsd_schema=__generiekeDataCodes,\n",
    "                     typename='MethodeOpmetenXyEnumType')),\n",
    "        XmlField(name='betrouwbaarheid_xy',\n",
    "                 source_xpath='/boring/xy/betrouwbaarheid',\n",
    "                 definition='Betrouwbaarheid van het opmeten van de x en y-coordinaat.',\n",
    "                 datatype='string',\n",
    "                 xsd_type=XsdType(\n",
    "                     xsd_schema=__generiekeDataCodes,\n",
    "                     typename='BetrouwbaarheidXyzEnumType')),\n",
    "        XmlField(name='methode_mv',\n",
    "                 source_xpath='/boring/oorspronkelijk_maaiveld/methode_opmeten',\n",
    "                 definition='Methode waarop de Z-coördinaat van het maaiveld opgemeten werd.',\n",
    "                 datatype='string',\n",
    "                 xsd_type=XsdType(\n",
    "                     xsd_schema=__generiekeDataCodes,\n",
    "                     typename='MethodeOpmetenZEnumType')),\n",
    "        XmlField(name='betrouwbaarheid_mv',\n",
    "                 source_xpath='/boring/oorspronkelijk_maaiveld/betrouwbaarheid',\n",
    "                 definition='Betrouwbaarheid van het opmeten van de z-coordinaat van het maaiveld.',\n",
    "                 datatype='string',\n",
    "                 xsd_type=XsdType(\n",
    "                     xsd_schema=__generiekeDataCodes,\n",
    "                     typename='BetrouwbaarheidXyzEnumType')),\n",
    "        XmlField(name='aanvangspeil_mtaw',\n",
    "                 source_xpath='/boring/aanvangspeil/waarde',\n",
    "                 definition='Hoogte in mTAW van het startpunt van de boring (boortafel, bouwput etc).',\n",
    "                 datatype='float'),\n",
    "        XmlField(name='methode_aanvangspeil',\n",
    "                 source_xpath='/boring/aanvangspeil/methode_opmeten',\n",
    "                 definition='Methode waarop de Z-coördinaat van het aanvangspeil opgemeten werd.',\n",
    "                 datatype='string',\n",
    "                 xsd_type=XsdType(\n",
    "                     xsd_schema=__generiekeDataCodes,\n",
    "                     typename='MethodeOpmetenZEnumType')),\n",
    "        XmlField(name='betrouwbaarheid_aanvangspeil',\n",
    "                 source_xpath='/boring/aanvangspeil/betrouwbaarheid',\n",
    "                 definition='Betrouwbaarheid van het opmeten van de z-coordinaat van het aanvangspeil.',\n",
    "                 datatype='string',\n",
    "                 xsd_type=XsdType(\n",
    "                     xsd_schema=__generiekeDataCodes,\n",
    "                     typename='MethodeOpmetenZEnumType')),\n",
    "    ])"
   ]
  },
  {
   "cell_type": "markdown",
   "metadata": {},
   "source": [
    "When instantiating our BoringSearch object, we now explicitly set our new type as objecttype to search:"
   ]
  },
  {
   "cell_type": "code",
   "execution_count": 11,
   "metadata": {},
   "outputs": [],
   "source": [
    "from pydov.search.boring import BoringSearch\n",
    "\n",
    "bs = BoringSearch(objecttype=BoringMethodeXyz)"
   ]
  },
  {
   "cell_type": "code",
   "execution_count": 12,
   "metadata": {},
   "outputs": [
    {
     "data": {
      "text/plain": [
       "{'name': 'mv_mtaw',\n",
       " 'type': 'float',\n",
       " 'definition': 'Maaiveldhoogte in mTAW op dag dat de boring uitgevoerd werd.',\n",
       " 'notnull': False,\n",
       " 'query': False,\n",
       " 'cost': 10}"
      ]
     },
     "execution_count": 12,
     "metadata": {},
     "output_type": "execute_result"
    }
   ],
   "source": [
    "bs.get_fields()['mv_mtaw']"
   ]
  },
  {
   "cell_type": "markdown",
   "metadata": {},
   "source": [
    "Searching for boreholes remains exactly the same, but will reveal the extra information in the output dataframe:"
   ]
  },
  {
   "cell_type": "code",
   "execution_count": 13,
   "metadata": {},
   "outputs": [
    {
     "name": "stdout",
     "output_type": "stream",
     "text": [
      "[000/001] .\n",
      "[000/408] ..................................................\n",
      "[050/408] ..................................................\n",
      "[100/408] ..................................................\n",
      "[150/408] ..................................................\n",
      "[200/408] ..................................................\n",
      "[250/408] ..................................................\n",
      "[300/408] ..................................................\n",
      "[350/408] ..................................................\n",
      "[400/408] ........\n"
     ]
    }
   ],
   "source": [
    "from pydov.util.location import WithinDistance, Point\n",
    "\n",
    "df = bs.search(location=WithinDistance(Point(150000, 150000), 10000, 'meter'),\n",
    "               return_fields=('pkey_boring', 'boornummer', 'x', 'y', 'methode_xy', 'betrouwbaarheid_xy', \n",
    "                              'mv_mtaw', 'methode_mv', 'betrouwbaarheid_mv', 'aanvangspeil_mtaw', \n",
    "                              'methode_aanvangspeil', 'betrouwbaarheid_aanvangspeil', 'start_boring_mtaw'))"
   ]
  },
  {
   "cell_type": "code",
   "execution_count": 14,
   "metadata": {},
   "outputs": [
    {
     "data": {
      "text/html": [
       "<div>\n",
       "<style scoped>\n",
       "    .dataframe tbody tr th:only-of-type {\n",
       "        vertical-align: middle;\n",
       "    }\n",
       "\n",
       "    .dataframe tbody tr th {\n",
       "        vertical-align: top;\n",
       "    }\n",
       "\n",
       "    .dataframe thead th {\n",
       "        text-align: right;\n",
       "    }\n",
       "</style>\n",
       "<table border=\"1\" class=\"dataframe\">\n",
       "  <thead>\n",
       "    <tr style=\"text-align: right;\">\n",
       "      <th></th>\n",
       "      <th>pkey_boring</th>\n",
       "      <th>boornummer</th>\n",
       "      <th>x</th>\n",
       "      <th>y</th>\n",
       "      <th>methode_xy</th>\n",
       "      <th>betrouwbaarheid_xy</th>\n",
       "      <th>mv_mtaw</th>\n",
       "      <th>methode_mv</th>\n",
       "      <th>betrouwbaarheid_mv</th>\n",
       "      <th>aanvangspeil_mtaw</th>\n",
       "      <th>methode_aanvangspeil</th>\n",
       "      <th>betrouwbaarheid_aanvangspeil</th>\n",
       "      <th>start_boring_mtaw</th>\n",
       "    </tr>\n",
       "  </thead>\n",
       "  <tbody>\n",
       "    <tr>\n",
       "      <th>0</th>\n",
       "      <td>https://www.dov.vlaanderen.be/data/boring/1891...</td>\n",
       "      <td>BGD115E0018C.2</td>\n",
       "      <td>145692.0</td>\n",
       "      <td>157605.0</td>\n",
       "      <td>gedigitaliseerd op topokaart</td>\n",
       "      <td>twijfelachtig</td>\n",
       "      <td>55.0</td>\n",
       "      <td>afgeleid van topokaart</td>\n",
       "      <td>twijfelachtig</td>\n",
       "      <td>NaN</td>\n",
       "      <td>NaN</td>\n",
       "      <td>NaN</td>\n",
       "      <td>55.0</td>\n",
       "    </tr>\n",
       "    <tr>\n",
       "      <th>1</th>\n",
       "      <td>https://www.dov.vlaanderen.be/data/boring/1894...</td>\n",
       "      <td>vgmperceel6-B2</td>\n",
       "      <td>140857.0</td>\n",
       "      <td>151875.0</td>\n",
       "      <td>gedigitaliseerd op topokaart</td>\n",
       "      <td>onbekend</td>\n",
       "      <td>54.0</td>\n",
       "      <td>afgeleid van topokaart</td>\n",
       "      <td>onbekend</td>\n",
       "      <td>NaN</td>\n",
       "      <td>NaN</td>\n",
       "      <td>NaN</td>\n",
       "      <td>54.0</td>\n",
       "    </tr>\n",
       "    <tr>\n",
       "      <th>2</th>\n",
       "      <td>https://www.dov.vlaanderen.be/data/boring/1913...</td>\n",
       "      <td>vgmperceel6-B4</td>\n",
       "      <td>140236.0</td>\n",
       "      <td>150691.0</td>\n",
       "      <td>gedigitaliseerd op topokaart</td>\n",
       "      <td>onbekend</td>\n",
       "      <td>85.0</td>\n",
       "      <td>afgeleid van topokaart</td>\n",
       "      <td>onbekend</td>\n",
       "      <td>NaN</td>\n",
       "      <td>NaN</td>\n",
       "      <td>NaN</td>\n",
       "      <td>85.0</td>\n",
       "    </tr>\n",
       "    <tr>\n",
       "      <th>3</th>\n",
       "      <td>https://www.dov.vlaanderen.be/data/boring/1927...</td>\n",
       "      <td>vgmperceel6-B9</td>\n",
       "      <td>142139.0</td>\n",
       "      <td>151678.0</td>\n",
       "      <td>gedigitaliseerd op topokaart</td>\n",
       "      <td>onbekend</td>\n",
       "      <td>75.0</td>\n",
       "      <td>afgeleid van topokaart</td>\n",
       "      <td>onbekend</td>\n",
       "      <td>NaN</td>\n",
       "      <td>NaN</td>\n",
       "      <td>NaN</td>\n",
       "      <td>75.0</td>\n",
       "    </tr>\n",
       "    <tr>\n",
       "      <th>4</th>\n",
       "      <td>https://www.dov.vlaanderen.be/data/boring/1927...</td>\n",
       "      <td>vgmperceel6-B10</td>\n",
       "      <td>144692.0</td>\n",
       "      <td>152764.0</td>\n",
       "      <td>gedigitaliseerd op topokaart</td>\n",
       "      <td>onbekend</td>\n",
       "      <td>93.0</td>\n",
       "      <td>afgeleid van topokaart</td>\n",
       "      <td>onbekend</td>\n",
       "      <td>NaN</td>\n",
       "      <td>NaN</td>\n",
       "      <td>NaN</td>\n",
       "      <td>93.0</td>\n",
       "    </tr>\n",
       "  </tbody>\n",
       "</table>\n",
       "</div>"
      ],
      "text/plain": [
       "                                         pkey_boring       boornummer  \\\n",
       "0  https://www.dov.vlaanderen.be/data/boring/1891...   BGD115E0018C.2   \n",
       "1  https://www.dov.vlaanderen.be/data/boring/1894...   vgmperceel6-B2   \n",
       "2  https://www.dov.vlaanderen.be/data/boring/1913...   vgmperceel6-B4   \n",
       "3  https://www.dov.vlaanderen.be/data/boring/1927...   vgmperceel6-B9   \n",
       "4  https://www.dov.vlaanderen.be/data/boring/1927...  vgmperceel6-B10   \n",
       "\n",
       "          x         y                    methode_xy betrouwbaarheid_xy  \\\n",
       "0  145692.0  157605.0  gedigitaliseerd op topokaart      twijfelachtig   \n",
       "1  140857.0  151875.0  gedigitaliseerd op topokaart           onbekend   \n",
       "2  140236.0  150691.0  gedigitaliseerd op topokaart           onbekend   \n",
       "3  142139.0  151678.0  gedigitaliseerd op topokaart           onbekend   \n",
       "4  144692.0  152764.0  gedigitaliseerd op topokaart           onbekend   \n",
       "\n",
       "   mv_mtaw              methode_mv betrouwbaarheid_mv  aanvangspeil_mtaw  \\\n",
       "0     55.0  afgeleid van topokaart      twijfelachtig                NaN   \n",
       "1     54.0  afgeleid van topokaart           onbekend                NaN   \n",
       "2     85.0  afgeleid van topokaart           onbekend                NaN   \n",
       "3     75.0  afgeleid van topokaart           onbekend                NaN   \n",
       "4     93.0  afgeleid van topokaart           onbekend                NaN   \n",
       "\n",
       "  methode_aanvangspeil betrouwbaarheid_aanvangspeil  start_boring_mtaw  \n",
       "0                  NaN                          NaN               55.0  \n",
       "1                  NaN                          NaN               54.0  \n",
       "2                  NaN                          NaN               85.0  \n",
       "3                  NaN                          NaN               75.0  \n",
       "4                  NaN                          NaN               93.0  "
      ]
     },
     "execution_count": 14,
     "metadata": {},
     "output_type": "execute_result"
    }
   ],
   "source": [
    "df.head()"
   ]
  },
  {
   "cell_type": "code",
   "execution_count": 15,
   "metadata": {},
   "outputs": [
    {
     "data": {
      "image/png": "[encoded data removed]",
      "text/plain": [
       "<Figure size 432x288 with 1 Axes>"
      ]
     },
     "metadata": {
      "needs_background": "light"
     },
     "output_type": "display_data"
    }
   ],
   "source": [
    "df_plot = df.groupby('methode_xy').size().sort_values()\n",
    "\n",
    "ax = df_plot.plot.barh()\n",
    "\n",
    "ax.set_xlabel(\"count\");\n",
    "ax.set_title(\"Number of boreholes per coordinate digitization method\");"
   ]
  },
  {
   "cell_type": "code",
   "execution_count": 16,
   "metadata": {},
   "outputs": [
    {
     "data": {
      "image/png": "[encoded data removed]",
      "text/plain": [
       "<Figure size 432x288 with 1 Axes>"
      ]
     },
     "metadata": {
      "needs_background": "light"
     },
     "output_type": "display_data"
    }
   ],
   "source": [
    "df_plot = df.groupby('methode_mv').size().sort_values()\n",
    "\n",
    "ax = df_plot.plot.barh()\n",
    "\n",
    "ax.set_xlabel(\"count\");\n",
    "ax.set_title(\"Number of boreholes per height digitization method\");"
   ]
  },
  {
   "cell_type": "code",
   "execution_count": 17,
   "metadata": {},
   "outputs": [
    {
     "data": {
      "image/png": "[encoded data removed]",
      "text/plain": [
       "<Figure size 432x288 with 1 Axes>"
      ]
     },
     "metadata": {
      "needs_background": "light"
     },
     "output_type": "display_data"
    }
   ],
   "source": [
    "df_plot = df.groupby('methode_aanvangspeil').size().sort_values()\n",
    "\n",
    "ax = df_plot.plot.barh()\n",
    "\n",
    "ax.set_xlabel(\"count\");\n",
    "ax.set_title(\"Number of boreholes per `aanvangspeil` digitization method\");"
   ]
  },
  {
   "cell_type": "markdown",
   "metadata": {},
   "source": [
    "## Listing GxG for GrondwaterFilters"
   ]
  },
  {
   "cell_type": "markdown",
   "metadata": {},
   "source": [
    "For some of our Grondwaterfilters precalculated groundwaterlevel statistics (GxG) are available next to the individual measurements (peilmetingen) themselves. These statistics give information about the average high, low and medium groundwater levels at that location.\n",
    "\n",
    "They can be obtained by defining a new subtype for the GrondwaterFilter type:"
   ]
  },
  {
   "cell_type": "code",
   "execution_count": 18,
   "metadata": {},
   "outputs": [],
   "source": [
    "from pydov.types.fields import XmlField, XsdType\n",
    "from pydov.types.abstract import AbstractDovSubType\n",
    "from pydov.types.grondwaterfilter import GrondwaterFilter\n",
    "\n",
    "\n",
    "class Gxg(AbstractDovSubType):\n",
    "    \n",
    "    rootpath = './/filtermeting/gxg'\n",
    "\n",
    "    fields = [\n",
    "        XmlField(name='gxg_jaar',\n",
    "                 source_xpath='/jaar',\n",
    "                 definition='jaar (hydrologisch jaar voor lg3 en hg3, kalenderjaar voor vg3)',\n",
    "                 datatype='integer'),\n",
    "        XmlField(name='gxg_hg3',\n",
    "                 source_xpath='/hg3',\n",
    "                 definition='gemiddelde van de drie hoogste grondwaterstanden in een hydrologisch '\n",
    "                            'jaar (1 april t/m 31 maart) bij een meetfrequentie van tweemaal per maand',\n",
    "                 datatype='float'),\n",
    "        XmlField(name='gxg_lg3',\n",
    "                 source_xpath='/lg3',\n",
    "                 definition='gemiddelde van de drie laagste grondwaterstanden in een hydrologisch jaar '\n",
    "                            '(1 april t/m 31 maart) bij een meetfrequentie van tweemaal per maand',\n",
    "                 datatype='float'),\n",
    "        XmlField(name='gxg_vg3',\n",
    "                 source_xpath='/vg3',\n",
    "                 definition='gemiddelde van de grondwaterstanden op 14 maart, 28 maart en 14 april in '\n",
    "                            'een bepaald kalenderjaar',\n",
    "                 datatype='float')\n",
    "    ]\n",
    "\n",
    "\n",
    "class GrondwaterFilterGxg(GrondwaterFilter):\n",
    "    subtypes = [Gxg]"
   ]
  },
  {
   "cell_type": "code",
   "execution_count": 22,
   "metadata": {},
   "outputs": [],
   "source": [
    "from pydov.search.grondwaterfilter import GrondwaterFilterSearch\n",
    "from owslib.fes2 import PropertyIsEqualTo\n",
    "\n",
    "fs = GrondwaterFilterSearch(objecttype=GrondwaterFilterGxg)"
   ]
  },
  {
   "cell_type": "code",
   "execution_count": 23,
   "metadata": {},
   "outputs": [
    {
     "data": {
      "text/plain": [
       "{'name': 'gxg_vg3',\n",
       " 'type': 'float',\n",
       " 'definition': 'gemiddelde van de grondwaterstanden op 14 maart, 28 maart en 14 april in een bepaald kalenderjaar',\n",
       " 'notnull': False,\n",
       " 'query': False,\n",
       " 'cost': 10}"
      ]
     },
     "execution_count": 23,
     "metadata": {},
     "output_type": "execute_result"
    }
   ],
   "source": [
    "fs.get_fields()['gxg_vg3']"
   ]
  },
  {
   "cell_type": "code",
   "execution_count": 24,
   "metadata": {},
   "outputs": [
    {
     "name": "stdout",
     "output_type": "stream",
     "text": [
      "[000/001] .\n",
      "[000/001] .\n"
     ]
    }
   ],
   "source": [
    "df = fs.search(\n",
    "    query=PropertyIsEqualTo('pkey_filter', 'https://www.dov.vlaanderen.be/data/filter/1999-009146')\n",
    ")"
   ]
  },
  {
   "cell_type": "code",
   "execution_count": 25,
   "metadata": {},
   "outputs": [
    {
     "data": {
      "text/html": [
       "<div>\n",
       "<style scoped>\n",
       "    .dataframe tbody tr th:only-of-type {\n",
       "        vertical-align: middle;\n",
       "    }\n",
       "\n",
       "    .dataframe tbody tr th {\n",
       "        vertical-align: top;\n",
       "    }\n",
       "\n",
       "    .dataframe thead th {\n",
       "        text-align: right;\n",
       "    }\n",
       "</style>\n",
       "<table border=\"1\" class=\"dataframe\">\n",
       "  <thead>\n",
       "    <tr style=\"text-align: right;\">\n",
       "      <th></th>\n",
       "      <th>pkey_filter</th>\n",
       "      <th>pkey_grondwaterlocatie</th>\n",
       "      <th>gw_id</th>\n",
       "      <th>filternummer</th>\n",
       "      <th>filtertype</th>\n",
       "      <th>x</th>\n",
       "      <th>y</th>\n",
       "      <th>start_grondwaterlocatie_mtaw</th>\n",
       "      <th>mv_mtaw</th>\n",
       "      <th>gemeente</th>\n",
       "      <th>meetnet_code</th>\n",
       "      <th>aquifer_code</th>\n",
       "      <th>grondwaterlichaam_code</th>\n",
       "      <th>regime</th>\n",
       "      <th>diepte_onderkant_filter</th>\n",
       "      <th>lengte_filter</th>\n",
       "      <th>gxg_jaar</th>\n",
       "      <th>gxg_hg3</th>\n",
       "      <th>gxg_lg3</th>\n",
       "      <th>gxg_vg3</th>\n",
       "    </tr>\n",
       "  </thead>\n",
       "  <tbody>\n",
       "    <tr>\n",
       "      <th>0</th>\n",
       "      <td>https://www.dov.vlaanderen.be/data/filter/1999...</td>\n",
       "      <td>https://www.dov.vlaanderen.be/data/put/2018-00...</td>\n",
       "      <td>HOSP063</td>\n",
       "      <td>1</td>\n",
       "      <td>peilfilter</td>\n",
       "      <td>26878.0</td>\n",
       "      <td>199250.0</td>\n",
       "      <td>4.25</td>\n",
       "      <td>4.25</td>\n",
       "      <td>De Panne</td>\n",
       "      <td>9</td>\n",
       "      <td>0120</td>\n",
       "      <td>NaN</td>\n",
       "      <td>onbekend</td>\n",
       "      <td>1.69</td>\n",
       "      <td>0.75</td>\n",
       "      <td>2000</td>\n",
       "      <td>NaN</td>\n",
       "      <td>NaN</td>\n",
       "      <td>3.99</td>\n",
       "    </tr>\n",
       "    <tr>\n",
       "      <th>1</th>\n",
       "      <td>https://www.dov.vlaanderen.be/data/filter/1999...</td>\n",
       "      <td>https://www.dov.vlaanderen.be/data/put/2018-00...</td>\n",
       "      <td>HOSP063</td>\n",
       "      <td>1</td>\n",
       "      <td>peilfilter</td>\n",
       "      <td>26878.0</td>\n",
       "      <td>199250.0</td>\n",
       "      <td>4.25</td>\n",
       "      <td>4.25</td>\n",
       "      <td>De Panne</td>\n",
       "      <td>9</td>\n",
       "      <td>0120</td>\n",
       "      <td>NaN</td>\n",
       "      <td>onbekend</td>\n",
       "      <td>1.69</td>\n",
       "      <td>0.75</td>\n",
       "      <td>2001</td>\n",
       "      <td>NaN</td>\n",
       "      <td>NaN</td>\n",
       "      <td>4.14</td>\n",
       "    </tr>\n",
       "    <tr>\n",
       "      <th>2</th>\n",
       "      <td>https://www.dov.vlaanderen.be/data/filter/1999...</td>\n",
       "      <td>https://www.dov.vlaanderen.be/data/put/2018-00...</td>\n",
       "      <td>HOSP063</td>\n",
       "      <td>1</td>\n",
       "      <td>peilfilter</td>\n",
       "      <td>26878.0</td>\n",
       "      <td>199250.0</td>\n",
       "      <td>4.25</td>\n",
       "      <td>4.25</td>\n",
       "      <td>De Panne</td>\n",
       "      <td>9</td>\n",
       "      <td>0120</td>\n",
       "      <td>NaN</td>\n",
       "      <td>onbekend</td>\n",
       "      <td>1.69</td>\n",
       "      <td>0.75</td>\n",
       "      <td>2002</td>\n",
       "      <td>4.29</td>\n",
       "      <td>3.51</td>\n",
       "      <td>4.17</td>\n",
       "    </tr>\n",
       "    <tr>\n",
       "      <th>3</th>\n",
       "      <td>https://www.dov.vlaanderen.be/data/filter/1999...</td>\n",
       "      <td>https://www.dov.vlaanderen.be/data/put/2018-00...</td>\n",
       "      <td>HOSP063</td>\n",
       "      <td>1</td>\n",
       "      <td>peilfilter</td>\n",
       "      <td>26878.0</td>\n",
       "      <td>199250.0</td>\n",
       "      <td>4.25</td>\n",
       "      <td>4.25</td>\n",
       "      <td>De Panne</td>\n",
       "      <td>9</td>\n",
       "      <td>0120</td>\n",
       "      <td>NaN</td>\n",
       "      <td>onbekend</td>\n",
       "      <td>1.69</td>\n",
       "      <td>0.75</td>\n",
       "      <td>2003</td>\n",
       "      <td>4.10</td>\n",
       "      <td>2.82</td>\n",
       "      <td>4.04</td>\n",
       "    </tr>\n",
       "    <tr>\n",
       "      <th>4</th>\n",
       "      <td>https://www.dov.vlaanderen.be/data/filter/1999...</td>\n",
       "      <td>https://www.dov.vlaanderen.be/data/put/2018-00...</td>\n",
       "      <td>HOSP063</td>\n",
       "      <td>1</td>\n",
       "      <td>peilfilter</td>\n",
       "      <td>26878.0</td>\n",
       "      <td>199250.0</td>\n",
       "      <td>4.25</td>\n",
       "      <td>4.25</td>\n",
       "      <td>De Panne</td>\n",
       "      <td>9</td>\n",
       "      <td>0120</td>\n",
       "      <td>NaN</td>\n",
       "      <td>onbekend</td>\n",
       "      <td>1.69</td>\n",
       "      <td>0.75</td>\n",
       "      <td>2004</td>\n",
       "      <td>3.84</td>\n",
       "      <td>2.95</td>\n",
       "      <td>3.91</td>\n",
       "    </tr>\n",
       "  </tbody>\n",
       "</table>\n",
       "</div>"
      ],
      "text/plain": [
       "                                         pkey_filter  \\\n",
       "0  https://www.dov.vlaanderen.be/data/filter/1999...   \n",
       "1  https://www.dov.vlaanderen.be/data/filter/1999...   \n",
       "2  https://www.dov.vlaanderen.be/data/filter/1999...   \n",
       "3  https://www.dov.vlaanderen.be/data/filter/1999...   \n",
       "4  https://www.dov.vlaanderen.be/data/filter/1999...   \n",
       "\n",
       "                              pkey_grondwaterlocatie    gw_id filternummer  \\\n",
       "0  https://www.dov.vlaanderen.be/data/put/2018-00...  HOSP063            1   \n",
       "1  https://www.dov.vlaanderen.be/data/put/2018-00...  HOSP063            1   \n",
       "2  https://www.dov.vlaanderen.be/data/put/2018-00...  HOSP063            1   \n",
       "3  https://www.dov.vlaanderen.be/data/put/2018-00...  HOSP063            1   \n",
       "4  https://www.dov.vlaanderen.be/data/put/2018-00...  HOSP063            1   \n",
       "\n",
       "   filtertype        x         y  start_grondwaterlocatie_mtaw  mv_mtaw  \\\n",
       "0  peilfilter  26878.0  199250.0                          4.25     4.25   \n",
       "1  peilfilter  26878.0  199250.0                          4.25     4.25   \n",
       "2  peilfilter  26878.0  199250.0                          4.25     4.25   \n",
       "3  peilfilter  26878.0  199250.0                          4.25     4.25   \n",
       "4  peilfilter  26878.0  199250.0                          4.25     4.25   \n",
       "\n",
       "   gemeente meetnet_code aquifer_code  grondwaterlichaam_code    regime  \\\n",
       "0  De Panne            9         0120                     NaN  onbekend   \n",
       "1  De Panne            9         0120                     NaN  onbekend   \n",
       "2  De Panne            9         0120                     NaN  onbekend   \n",
       "3  De Panne            9         0120                     NaN  onbekend   \n",
       "4  De Panne            9         0120                     NaN  onbekend   \n",
       "\n",
       "   diepte_onderkant_filter  lengte_filter  gxg_jaar  gxg_hg3  gxg_lg3  gxg_vg3  \n",
       "0                     1.69           0.75      2000      NaN      NaN     3.99  \n",
       "1                     1.69           0.75      2001      NaN      NaN     4.14  \n",
       "2                     1.69           0.75      2002     4.29     3.51     4.17  \n",
       "3                     1.69           0.75      2003     4.10     2.82     4.04  \n",
       "4                     1.69           0.75      2004     3.84     2.95     3.91  "
      ]
     },
     "execution_count": 25,
     "metadata": {},
     "output_type": "execute_result"
    }
   ],
   "source": [
    "df.head()"
   ]
  },
  {
   "cell_type": "markdown",
   "metadata": {},
   "source": [
    "## Adding color to the Borehole dataframe"
   ]
  },
  {
   "cell_type": "markdown",
   "metadata": {},
   "source": [
    "The default dataframe of the Boring datatype contains information about the 'boormethode' as its subtype. However, in the DOV database there is information about the observed color of the soil in the various depth intervals available as well. We can access this data in pydov by defining a new subtype 'Kleur':"
   ]
  },
  {
   "cell_type": "code",
   "execution_count": 26,
   "metadata": {},
   "outputs": [],
   "source": [
    "from pydov.types.abstract import AbstractDovSubType\n",
    "from pydov.types.boring import Boring\n",
    "\n",
    "class Kleur(AbstractDovSubType):\n",
    "    \n",
    "    rootpath = './/boring/details/kleur'\n",
    "\n",
    "    fields = [\n",
    "        XmlField(name='diepte_kleur_van',\n",
    "                 source_xpath='/van',\n",
    "                 definition='Bovenkant van de laag met een bepaalde bekisting, in meter.',\n",
    "                 datatype='float'),\n",
    "        XmlField(name='diepte_kleur_tot',\n",
    "                 source_xpath='/tot',\n",
    "                 definition='Onderkant van de laag met een bepaalde bekisting, in meter.',\n",
    "                 datatype='float'),\n",
    "        XmlField(name='kleur',\n",
    "                 source_xpath='/kleur',\n",
    "                 definition='Grondkleur voor het diepte-interval',\n",
    "                 datatype='string')\n",
    "    ]\n",
    "\n",
    "\n",
    "class BoringKleur(Boring):\n",
    "    subtypes = [Kleur]"
   ]
  },
  {
   "cell_type": "code",
   "execution_count": 28,
   "metadata": {},
   "outputs": [],
   "source": [
    "from pydov.search.boring import BoringSearch\n",
    "from owslib.fes2 import PropertyIsEqualTo\n",
    "\n",
    "bs = BoringSearch(objecttype=BoringKleur)"
   ]
  },
  {
   "cell_type": "code",
   "execution_count": 29,
   "metadata": {},
   "outputs": [
    {
     "data": {
      "text/plain": [
       "{'name': 'kleur',\n",
       " 'type': 'string',\n",
       " 'definition': 'Grondkleur voor het diepte-interval',\n",
       " 'notnull': False,\n",
       " 'query': False,\n",
       " 'cost': 10}"
      ]
     },
     "execution_count": 29,
     "metadata": {},
     "output_type": "execute_result"
    }
   ],
   "source": [
    "bs.get_fields()['kleur']"
   ]
  },
  {
   "cell_type": "code",
   "execution_count": 30,
   "metadata": {},
   "outputs": [
    {
     "name": "stdout",
     "output_type": "stream",
     "text": [
      "[000/001] .\n",
      "[000/001] .\n"
     ]
    }
   ],
   "source": [
    "df = bs.search(\n",
    "    query=PropertyIsEqualTo('pkey_boring', 'https://www.dov.vlaanderen.be/data/boring/2004-103984')\n",
    ")"
   ]
  },
  {
   "cell_type": "code",
   "execution_count": 31,
   "metadata": {},
   "outputs": [
    {
     "data": {
      "text/html": [
       "<div>\n",
       "<style scoped>\n",
       "    .dataframe tbody tr th:only-of-type {\n",
       "        vertical-align: middle;\n",
       "    }\n",
       "\n",
       "    .dataframe tbody tr th {\n",
       "        vertical-align: top;\n",
       "    }\n",
       "\n",
       "    .dataframe thead th {\n",
       "        text-align: right;\n",
       "    }\n",
       "</style>\n",
       "<table border=\"1\" class=\"dataframe\">\n",
       "  <thead>\n",
       "    <tr style=\"text-align: right;\">\n",
       "      <th></th>\n",
       "      <th>pkey_boring</th>\n",
       "      <th>boornummer</th>\n",
       "      <th>x</th>\n",
       "      <th>y</th>\n",
       "      <th>mv_mtaw</th>\n",
       "      <th>start_boring_mtaw</th>\n",
       "      <th>gemeente</th>\n",
       "      <th>diepte_boring_van</th>\n",
       "      <th>diepte_boring_tot</th>\n",
       "      <th>datum_aanvang</th>\n",
       "      <th>uitvoerder</th>\n",
       "      <th>boorgatmeting</th>\n",
       "      <th>diepte_kleur_van</th>\n",
       "      <th>diepte_kleur_tot</th>\n",
       "      <th>kleur</th>\n",
       "    </tr>\n",
       "  </thead>\n",
       "  <tbody>\n",
       "    <tr>\n",
       "      <th>0</th>\n",
       "      <td>https://www.dov.vlaanderen.be/data/boring/2004...</td>\n",
       "      <td>GEO-04/169-BNo-B1</td>\n",
       "      <td>151680.75</td>\n",
       "      <td>214678.06</td>\n",
       "      <td>NaN</td>\n",
       "      <td>7.16</td>\n",
       "      <td>Antwerpen</td>\n",
       "      <td>0.0</td>\n",
       "      <td>30.0</td>\n",
       "      <td>2004-12-20</td>\n",
       "      <td>GEOLAB</td>\n",
       "      <td>False</td>\n",
       "      <td>0.0</td>\n",
       "      <td>1.3</td>\n",
       "      <td>grijszwart</td>\n",
       "    </tr>\n",
       "    <tr>\n",
       "      <th>1</th>\n",
       "      <td>https://www.dov.vlaanderen.be/data/boring/2004...</td>\n",
       "      <td>GEO-04/169-BNo-B1</td>\n",
       "      <td>151680.75</td>\n",
       "      <td>214678.06</td>\n",
       "      <td>NaN</td>\n",
       "      <td>7.16</td>\n",
       "      <td>Antwerpen</td>\n",
       "      <td>0.0</td>\n",
       "      <td>30.0</td>\n",
       "      <td>2004-12-20</td>\n",
       "      <td>GEOLAB</td>\n",
       "      <td>False</td>\n",
       "      <td>1.3</td>\n",
       "      <td>2.0</td>\n",
       "      <td>geel</td>\n",
       "    </tr>\n",
       "    <tr>\n",
       "      <th>2</th>\n",
       "      <td>https://www.dov.vlaanderen.be/data/boring/2004...</td>\n",
       "      <td>GEO-04/169-BNo-B1</td>\n",
       "      <td>151680.75</td>\n",
       "      <td>214678.06</td>\n",
       "      <td>NaN</td>\n",
       "      <td>7.16</td>\n",
       "      <td>Antwerpen</td>\n",
       "      <td>0.0</td>\n",
       "      <td>30.0</td>\n",
       "      <td>2004-12-20</td>\n",
       "      <td>GEOLAB</td>\n",
       "      <td>False</td>\n",
       "      <td>2.0</td>\n",
       "      <td>3.2</td>\n",
       "      <td>grijszwart</td>\n",
       "    </tr>\n",
       "    <tr>\n",
       "      <th>3</th>\n",
       "      <td>https://www.dov.vlaanderen.be/data/boring/2004...</td>\n",
       "      <td>GEO-04/169-BNo-B1</td>\n",
       "      <td>151680.75</td>\n",
       "      <td>214678.06</td>\n",
       "      <td>NaN</td>\n",
       "      <td>7.16</td>\n",
       "      <td>Antwerpen</td>\n",
       "      <td>0.0</td>\n",
       "      <td>30.0</td>\n",
       "      <td>2004-12-20</td>\n",
       "      <td>GEOLAB</td>\n",
       "      <td>False</td>\n",
       "      <td>3.2</td>\n",
       "      <td>3.5</td>\n",
       "      <td>grijszwart</td>\n",
       "    </tr>\n",
       "    <tr>\n",
       "      <th>4</th>\n",
       "      <td>https://www.dov.vlaanderen.be/data/boring/2004...</td>\n",
       "      <td>GEO-04/169-BNo-B1</td>\n",
       "      <td>151680.75</td>\n",
       "      <td>214678.06</td>\n",
       "      <td>NaN</td>\n",
       "      <td>7.16</td>\n",
       "      <td>Antwerpen</td>\n",
       "      <td>0.0</td>\n",
       "      <td>30.0</td>\n",
       "      <td>2004-12-20</td>\n",
       "      <td>GEOLAB</td>\n",
       "      <td>False</td>\n",
       "      <td>3.5</td>\n",
       "      <td>6.3</td>\n",
       "      <td>grijsgroen</td>\n",
       "    </tr>\n",
       "  </tbody>\n",
       "</table>\n",
       "</div>"
      ],
      "text/plain": [
       "                                         pkey_boring         boornummer  \\\n",
       "0  https://www.dov.vlaanderen.be/data/boring/2004...  GEO-04/169-BNo-B1   \n",
       "1  https://www.dov.vlaanderen.be/data/boring/2004...  GEO-04/169-BNo-B1   \n",
       "2  https://www.dov.vlaanderen.be/data/boring/2004...  GEO-04/169-BNo-B1   \n",
       "3  https://www.dov.vlaanderen.be/data/boring/2004...  GEO-04/169-BNo-B1   \n",
       "4  https://www.dov.vlaanderen.be/data/boring/2004...  GEO-04/169-BNo-B1   \n",
       "\n",
       "           x          y  mv_mtaw  start_boring_mtaw   gemeente  \\\n",
       "0  151680.75  214678.06      NaN               7.16  Antwerpen   \n",
       "1  151680.75  214678.06      NaN               7.16  Antwerpen   \n",
       "2  151680.75  214678.06      NaN               7.16  Antwerpen   \n",
       "3  151680.75  214678.06      NaN               7.16  Antwerpen   \n",
       "4  151680.75  214678.06      NaN               7.16  Antwerpen   \n",
       "\n",
       "   diepte_boring_van  diepte_boring_tot datum_aanvang uitvoerder  \\\n",
       "0                0.0               30.0    2004-12-20     GEOLAB   \n",
       "1                0.0               30.0    2004-12-20     GEOLAB   \n",
       "2                0.0               30.0    2004-12-20     GEOLAB   \n",
       "3                0.0               30.0    2004-12-20     GEOLAB   \n",
       "4                0.0               30.0    2004-12-20     GEOLAB   \n",
       "\n",
       "   boorgatmeting  diepte_kleur_van  diepte_kleur_tot       kleur  \n",
       "0          False               0.0               1.3  grijszwart  \n",
       "1          False               1.3               2.0        geel  \n",
       "2          False               2.0               3.2  grijszwart  \n",
       "3          False               3.2               3.5  grijszwart  \n",
       "4          False               3.5               6.3  grijsgroen  "
      ]
     },
     "execution_count": 31,
     "metadata": {},
     "output_type": "execute_result"
    }
   ],
   "source": [
    "df.head()"
   ]
  },
  {
   "cell_type": "markdown",
   "metadata": {},
   "source": [
    "## List all glauconite fields for Grondmonsters\n",
    "\n",
    "In the default Grondmonster dataframe, only the total glauconite is available. Using the following example, you can however request all different glauconite fields available in DOV: 'glauconiet_totaal', 'glauconiet_KL63', 'glauconiet_TSS' and 'glauconiet_GR500'."
   ]
  },
  {
   "cell_type": "code",
   "execution_count": 32,
   "metadata": {},
   "outputs": [],
   "source": [
    "from pydov.types.fields import XmlField\n",
    "from owslib.fes2 import PropertyIsEqualTo\n",
    "from pydov.search.grondmonster import GrondmonsterSearch\n",
    "from pydov.types.grondmonster import Grondmonster\n",
    "\n",
    "class GlauconietWaarden(Grondmonster):\n",
    "\n",
    "    fields = Grondmonster.extend_fields([\n",
    "        XmlField(name='glauconiet_gt500',\n",
    "                 source_xpath='/grondmonster/observatieData/observatie['\n",
    "                              'parameter=\"GLAUCONIET_GT500\"]/'\n",
    "                              'waarde_numeriek',\n",
    "                 definition='Glauconiet fractie groter 500 micron (%)',\n",
    "                 datatype='float'),\n",
    "        XmlField(name='glauconiet_tss',\n",
    "                 source_xpath='/grondmonster/observatieData/observatie['\n",
    "                              'parameter=\"GLAUCONIET_TSS\"]/'\n",
    "                              'waarde_numeriek',\n",
    "                 definition='Glauconiet fractie kleiner 500micron en groter 63micron (%)',\n",
    "                 datatype='float'),\n",
    "        XmlField(name='glauconiet_kl63',\n",
    "                 source_xpath='/grondmonster/observatieData/observatie['\n",
    "                              'parameter=\"GLAUCONIET_KL63\"]/'\n",
    "                              'waarde_numeriek',\n",
    "                 definition='Glauconiet fractie kleiner 63micron (%)',\n",
    "                 datatype='float')\n",
    "    ])"
   ]
  },
  {
   "cell_type": "code",
   "execution_count": 33,
   "metadata": {},
   "outputs": [
    {
     "name": "stdout",
     "output_type": "stream",
     "text": [
      "[000/001] .\n",
      "[000/001] .\n"
     ]
    }
   ],
   "source": [
    "gm = GrondmonsterSearch(objecttype=GlauconietWaarden)\n",
    "\n",
    "df = gm.search(\n",
    "    query=PropertyIsEqualTo(\n",
    "        propertyname='pkey_grondmonster', literal='https://www.dov.vlaanderen.be/data/grondmonster/2017-172111')\n",
    ")"
   ]
  },
  {
   "cell_type": "code",
   "execution_count": 34,
   "metadata": {},
   "outputs": [
    {
     "data": {
      "text/html": [
       "<div>\n",
       "<style scoped>\n",
       "    .dataframe tbody tr th:only-of-type {\n",
       "        vertical-align: middle;\n",
       "    }\n",
       "\n",
       "    .dataframe tbody tr th {\n",
       "        vertical-align: top;\n",
       "    }\n",
       "\n",
       "    .dataframe thead th {\n",
       "        text-align: right;\n",
       "    }\n",
       "</style>\n",
       "<table border=\"1\" class=\"dataframe\">\n",
       "  <thead>\n",
       "    <tr style=\"text-align: right;\">\n",
       "      <th></th>\n",
       "      <th>pkey_grondmonster</th>\n",
       "      <th>naam</th>\n",
       "      <th>pkey_boring</th>\n",
       "      <th>boornummer</th>\n",
       "      <th>datum</th>\n",
       "      <th>x</th>\n",
       "      <th>y</th>\n",
       "      <th>gemeente</th>\n",
       "      <th>diepte_van_m</th>\n",
       "      <th>diepte_tot_m</th>\n",
       "      <th>...</th>\n",
       "      <th>glauconiet_totaal</th>\n",
       "      <th>korrelvolumemassa</th>\n",
       "      <th>volumemassa</th>\n",
       "      <th>watergehalte</th>\n",
       "      <th>glauconiet_gt500</th>\n",
       "      <th>glauconiet_tss</th>\n",
       "      <th>glauconiet_kl63</th>\n",
       "      <th>diameter</th>\n",
       "      <th>fractie</th>\n",
       "      <th>methode</th>\n",
       "    </tr>\n",
       "  </thead>\n",
       "  <tbody>\n",
       "    <tr>\n",
       "      <th>0</th>\n",
       "      <td>https://www.dov.vlaanderen.be/data/grondmonste...</td>\n",
       "      <td>G22</td>\n",
       "      <td>https://www.dov.vlaanderen.be/data/boring/2012...</td>\n",
       "      <td>GEO-11/063-B15</td>\n",
       "      <td>NaN</td>\n",
       "      <td>153284.9</td>\n",
       "      <td>214514.1</td>\n",
       "      <td>NaN</td>\n",
       "      <td>8.5</td>\n",
       "      <td>9.0</td>\n",
       "      <td>...</td>\n",
       "      <td>10.25</td>\n",
       "      <td>NaN</td>\n",
       "      <td>NaN</td>\n",
       "      <td>NaN</td>\n",
       "      <td>0.4</td>\n",
       "      <td>9.56</td>\n",
       "      <td>15.0</td>\n",
       "      <td>11.2</td>\n",
       "      <td>0.0</td>\n",
       "      <td>ZEEFPROEF</td>\n",
       "    </tr>\n",
       "    <tr>\n",
       "      <th>1</th>\n",
       "      <td>https://www.dov.vlaanderen.be/data/grondmonste...</td>\n",
       "      <td>G22</td>\n",
       "      <td>https://www.dov.vlaanderen.be/data/boring/2012...</td>\n",
       "      <td>GEO-11/063-B15</td>\n",
       "      <td>NaN</td>\n",
       "      <td>153284.9</td>\n",
       "      <td>214514.1</td>\n",
       "      <td>NaN</td>\n",
       "      <td>8.5</td>\n",
       "      <td>9.0</td>\n",
       "      <td>...</td>\n",
       "      <td>10.25</td>\n",
       "      <td>NaN</td>\n",
       "      <td>NaN</td>\n",
       "      <td>NaN</td>\n",
       "      <td>0.4</td>\n",
       "      <td>9.56</td>\n",
       "      <td>15.0</td>\n",
       "      <td>8.0</td>\n",
       "      <td>0.1</td>\n",
       "      <td>ZEEFPROEF</td>\n",
       "    </tr>\n",
       "    <tr>\n",
       "      <th>2</th>\n",
       "      <td>https://www.dov.vlaanderen.be/data/grondmonste...</td>\n",
       "      <td>G22</td>\n",
       "      <td>https://www.dov.vlaanderen.be/data/boring/2012...</td>\n",
       "      <td>GEO-11/063-B15</td>\n",
       "      <td>NaN</td>\n",
       "      <td>153284.9</td>\n",
       "      <td>214514.1</td>\n",
       "      <td>NaN</td>\n",
       "      <td>8.5</td>\n",
       "      <td>9.0</td>\n",
       "      <td>...</td>\n",
       "      <td>10.25</td>\n",
       "      <td>NaN</td>\n",
       "      <td>NaN</td>\n",
       "      <td>NaN</td>\n",
       "      <td>0.4</td>\n",
       "      <td>9.56</td>\n",
       "      <td>15.0</td>\n",
       "      <td>5.6</td>\n",
       "      <td>1.0</td>\n",
       "      <td>ZEEFPROEF</td>\n",
       "    </tr>\n",
       "    <tr>\n",
       "      <th>3</th>\n",
       "      <td>https://www.dov.vlaanderen.be/data/grondmonste...</td>\n",
       "      <td>G22</td>\n",
       "      <td>https://www.dov.vlaanderen.be/data/boring/2012...</td>\n",
       "      <td>GEO-11/063-B15</td>\n",
       "      <td>NaN</td>\n",
       "      <td>153284.9</td>\n",
       "      <td>214514.1</td>\n",
       "      <td>NaN</td>\n",
       "      <td>8.5</td>\n",
       "      <td>9.0</td>\n",
       "      <td>...</td>\n",
       "      <td>10.25</td>\n",
       "      <td>NaN</td>\n",
       "      <td>NaN</td>\n",
       "      <td>NaN</td>\n",
       "      <td>0.4</td>\n",
       "      <td>9.56</td>\n",
       "      <td>15.0</td>\n",
       "      <td>4.0</td>\n",
       "      <td>3.1</td>\n",
       "      <td>ZEEFPROEF</td>\n",
       "    </tr>\n",
       "    <tr>\n",
       "      <th>4</th>\n",
       "      <td>https://www.dov.vlaanderen.be/data/grondmonste...</td>\n",
       "      <td>G22</td>\n",
       "      <td>https://www.dov.vlaanderen.be/data/boring/2012...</td>\n",
       "      <td>GEO-11/063-B15</td>\n",
       "      <td>NaN</td>\n",
       "      <td>153284.9</td>\n",
       "      <td>214514.1</td>\n",
       "      <td>NaN</td>\n",
       "      <td>8.5</td>\n",
       "      <td>9.0</td>\n",
       "      <td>...</td>\n",
       "      <td>10.25</td>\n",
       "      <td>NaN</td>\n",
       "      <td>NaN</td>\n",
       "      <td>NaN</td>\n",
       "      <td>0.4</td>\n",
       "      <td>9.56</td>\n",
       "      <td>15.0</td>\n",
       "      <td>2.8</td>\n",
       "      <td>4.6</td>\n",
       "      <td>ZEEFPROEF</td>\n",
       "    </tr>\n",
       "  </tbody>\n",
       "</table>\n",
       "<p>5 rows × 29 columns</p>\n",
       "</div>"
      ],
      "text/plain": [
       "                                   pkey_grondmonster naam  \\\n",
       "0  https://www.dov.vlaanderen.be/data/grondmonste...  G22   \n",
       "1  https://www.dov.vlaanderen.be/data/grondmonste...  G22   \n",
       "2  https://www.dov.vlaanderen.be/data/grondmonste...  G22   \n",
       "3  https://www.dov.vlaanderen.be/data/grondmonste...  G22   \n",
       "4  https://www.dov.vlaanderen.be/data/grondmonste...  G22   \n",
       "\n",
       "                                         pkey_boring      boornummer  datum  \\\n",
       "0  https://www.dov.vlaanderen.be/data/boring/2012...  GEO-11/063-B15    NaN   \n",
       "1  https://www.dov.vlaanderen.be/data/boring/2012...  GEO-11/063-B15    NaN   \n",
       "2  https://www.dov.vlaanderen.be/data/boring/2012...  GEO-11/063-B15    NaN   \n",
       "3  https://www.dov.vlaanderen.be/data/boring/2012...  GEO-11/063-B15    NaN   \n",
       "4  https://www.dov.vlaanderen.be/data/boring/2012...  GEO-11/063-B15    NaN   \n",
       "\n",
       "          x         y  gemeente  diepte_van_m  diepte_tot_m  ...  \\\n",
       "0  153284.9  214514.1       NaN           8.5           9.0  ...   \n",
       "1  153284.9  214514.1       NaN           8.5           9.0  ...   \n",
       "2  153284.9  214514.1       NaN           8.5           9.0  ...   \n",
       "3  153284.9  214514.1       NaN           8.5           9.0  ...   \n",
       "4  153284.9  214514.1       NaN           8.5           9.0  ...   \n",
       "\n",
       "   glauconiet_totaal  korrelvolumemassa volumemassa watergehalte  \\\n",
       "0              10.25                NaN         NaN          NaN   \n",
       "1              10.25                NaN         NaN          NaN   \n",
       "2              10.25                NaN         NaN          NaN   \n",
       "3              10.25                NaN         NaN          NaN   \n",
       "4              10.25                NaN         NaN          NaN   \n",
       "\n",
       "  glauconiet_gt500  glauconiet_tss  glauconiet_kl63  diameter  fractie  \\\n",
       "0              0.4            9.56             15.0      11.2      0.0   \n",
       "1              0.4            9.56             15.0       8.0      0.1   \n",
       "2              0.4            9.56             15.0       5.6      1.0   \n",
       "3              0.4            9.56             15.0       4.0      3.1   \n",
       "4              0.4            9.56             15.0       2.8      4.6   \n",
       "\n",
       "     methode  \n",
       "0  ZEEFPROEF  \n",
       "1  ZEEFPROEF  \n",
       "2  ZEEFPROEF  \n",
       "3  ZEEFPROEF  \n",
       "4  ZEEFPROEF  \n",
       "\n",
       "[5 rows x 29 columns]"
      ]
     },
     "execution_count": 34,
     "metadata": {},
     "output_type": "execute_result"
    }
   ],
   "source": [
    "df.head()"
   ]
  }
 ],
 "metadata": {
  "kernelspec": {
   "display_name": "Python 3.10.4 ('venv': venv)",
   "language": "python",
   "name": "python3"
  },
  "language_info": {
   "codemirror_mode": {
    "name": "ipython",
    "version": 3
   },
   "file_extension": ".py",
   "mimetype": "text/x-python",
   "name": "python",
   "nbconvert_exporter": "python",
   "pygments_lexer": "ipython3",
   "version": "3.10.4"
  },
  "vscode": {
   "interpreter": {
    "hash": "a0d0e535e2a0c7ed2e54797a9491172418d0a0d8405efa8941f8f8b45b28ad7d"
   }
  }
 },
 "nbformat": 4,
 "nbformat_minor": 4
}
