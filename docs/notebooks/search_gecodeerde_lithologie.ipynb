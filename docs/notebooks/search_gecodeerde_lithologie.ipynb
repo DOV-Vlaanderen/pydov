{
 "cells": [
  {
   "cell_type": "markdown",
   "metadata": {},
   "source": [
    "# Example of DOV search methods for interpretations (gecodeerde lithologie)"
   ]
  },
  {
   "cell_type": "markdown",
   "metadata": {},
   "source": [
    "[![Binder](https://mybinder.org/badge_logo.svg)](https://mybinder.org/v2/gh/DOV-Vlaanderen/pydov/master?filepath=docs%2Fnotebooks%2Fsearch_gecodeerde_lithologie.ipynb)"
   ]
  },
  {
   "cell_type": "markdown",
   "metadata": {},
   "source": [
    "## Use cases explained below\n",
    "* Get 'gecodeerde lithologie' in a bounding box\n",
    "* Get 'gecodeerde lithologie' with specific properties within a distance from a point\n",
    "* Get 'gecodeerde lithologie' in a bounding box with specific properties\n",
    "* Get 'gecodeerde lithologie' based on fields not available in the standard output dataframe\n",
    "* Get 'gecodeerde lithologie' data, returning fields not available in the standard output dataframe"
   ]
  },
  {
   "cell_type": "code",
   "execution_count": 1,
   "metadata": {},
   "outputs": [],
   "source": [
    "%matplotlib inline\n",
    "import inspect, sys"
   ]
  },
  {
   "cell_type": "code",
   "execution_count": 2,
   "metadata": {},
   "outputs": [],
   "source": [
    "# check pydov path\n",
    "import pydov"
   ]
  },
  {
   "cell_type": "markdown",
   "metadata": {},
   "source": [
    "## Get information about the datatype 'Gecodeerde lithologie'"
   ]
  },
  {
   "cell_type": "code",
   "execution_count": 3,
   "metadata": {},
   "outputs": [],
   "source": [
    "from pydov.search.interpretaties import GecodeerdeLithologieSearch\n",
    "itp = GecodeerdeLithologieSearch()"
   ]
  },
  {
   "cell_type": "markdown",
   "metadata": {},
   "source": [
    "A description is provided for the 'Gecodeerde lithologie' datatype:"
   ]
  },
  {
   "cell_type": "code",
   "execution_count": 4,
   "metadata": {},
   "outputs": [
    {
     "output_type": "execute_result",
     "data": {
      "text/plain": [
       "'Een gecodeerde lithologie van een boring is een geologische codering van een lithologische beschrijving op basis van een vaste DOV-standaard per diepte-interval. U vindt een overzicht van de gebruikte standaarden op onze website.'"
      ]
     },
     "metadata": {},
     "execution_count": 4
    }
   ],
   "source": [
    "itp.get_description()"
   ]
  },
  {
   "cell_type": "markdown",
   "metadata": {},
   "source": [
    "The different fields that are available for objects of the 'Gecodeerde lithologie' datatype can be requested with the get_fields() method:"
   ]
  },
  {
   "cell_type": "code",
   "execution_count": 5,
   "metadata": {},
   "outputs": [
    {
     "output_type": "stream",
     "name": "stdout",
     "text": [
      "pkey_interpretatie\nType_proef\nProefnummer\npkey_boring\nx\ny\nstart_interpretatie_mtaw\ndiepte_tot_m\ngemeente\nAuteurs\nDatum\nOpdrachten\nbetrouwbaarheid_interpretatie\nGeldig_van\nGeldig_tot\ndiepte_laag_van\ndiepte_laag_tot\nhoofdnaam1_grondsoort\nhoofdnaam2_grondsoort\nbijmenging1_plaatselijk\nbijmenging1_hoeveelheid\nbijmenging1_grondsoort\nbijmenging2_plaatselijk\nbijmenging2_hoeveelheid\nbijmenging2_grondsoort\nbijmenging3_plaatselijk\nbijmenging3_hoeveelheid\nbijmenging3_grondsoort\n"
     ]
    }
   ],
   "source": [
    "fields = itp.get_fields()\n",
    "\n",
    "# print available fields\n",
    "for f in fields.values():\n",
    "    print(f['name'])"
   ]
  },
  {
   "cell_type": "markdown",
   "metadata": {},
   "source": [
    "You can get more information of a field by requesting it from the fields dictionary:\n",
    "* *name*: name of the field\n",
    "* *definition*: definition of this field\n",
    "* *cost*: currently this is either 1 or 10, depending on the datasource of the field. It is an indication of the expected time it will take to retrieve this field in the output dataframe.\n",
    "* *notnull*: whether the field is mandatory or not\n",
    "* *type*: datatype of the values of this field"
   ]
  },
  {
   "cell_type": "code",
   "execution_count": 6,
   "metadata": {},
   "outputs": [
    {
     "output_type": "execute_result",
     "data": {
      "text/plain": [
       "{'name': 'Datum',\n",
       " 'definition': 'De datum waarop de gecodeerde lithologie werd beschreven.',\n",
       " 'type': 'date',\n",
       " 'notnull': False,\n",
       " 'query': True,\n",
       " 'cost': 1}"
      ]
     },
     "metadata": {},
     "execution_count": 6
    }
   ],
   "source": [
    "fields['Datum']"
   ]
  },
  {
   "cell_type": "markdown",
   "metadata": {},
   "source": [
    "## Example use cases"
   ]
  },
  {
   "cell_type": "markdown",
   "metadata": {},
   "source": [
    "### Get 'Gecodeerde lithologie' in a bounding box"
   ]
  },
  {
   "cell_type": "markdown",
   "metadata": {},
   "source": [
    "Get data for all the 'Gecodeerde lithologie' interpretations that are geographically located within the bounds of the specified box.\n",
    "\n",
    "The coordinates are in the Belgian Lambert72 (EPSG:31370) coordinate system and are given in the order of lower left x, lower left y, upper right x, upper right y."
   ]
  },
  {
   "cell_type": "code",
   "execution_count": 7,
   "metadata": {},
   "outputs": [
    {
     "output_type": "stream",
     "name": "stdout",
     "text": [
      "[000/001] .\n"
     ]
    },
    {
     "output_type": "execute_result",
     "data": {
      "text/plain": [
       "                                  pkey_interpretatie  \\\n",
       "0  https://www.dov.vlaanderen.be/data/interpretat...   \n",
       "1  https://www.dov.vlaanderen.be/data/interpretat...   \n",
       "2  https://www.dov.vlaanderen.be/data/interpretat...   \n",
       "3  https://www.dov.vlaanderen.be/data/interpretat...   \n",
       "4  https://www.dov.vlaanderen.be/data/interpretat...   \n",
       "\n",
       "                                         pkey_boring  \\\n",
       "0  https://www.dov.vlaanderen.be/data/boring/1974...   \n",
       "1  https://www.dov.vlaanderen.be/data/boring/1974...   \n",
       "2  https://www.dov.vlaanderen.be/data/boring/1974...   \n",
       "3  https://www.dov.vlaanderen.be/data/boring/1974...   \n",
       "4  https://www.dov.vlaanderen.be/data/boring/1974...   \n",
       "\n",
       "  betrouwbaarheid_interpretatie         x         y  start_interpretatie_mtaw  \\\n",
       "0                          goed  153147.0  206931.0                     14.12   \n",
       "1                          goed  153147.0  206931.0                     14.12   \n",
       "2                          goed  153147.0  206931.0                     14.12   \n",
       "3                          goed  153147.0  206931.0                     14.12   \n",
       "4                          goed  153147.0  206931.0                     14.12   \n",
       "\n",
       "   diepte_laag_van  diepte_laag_tot hoofdnaam1_grondsoort  \\\n",
       "0              0.0              0.5                    LE   \n",
       "1              0.5              1.0                    LE   \n",
       "2              1.0              2.5                    KL   \n",
       "3              2.5              3.5                    FZ   \n",
       "4              3.5              7.0                    FZ   \n",
       "\n",
       "   hoofdnaam2_grondsoort bijmenging1_plaatselijk bijmenging1_hoeveelheid  \\\n",
       "0                    NaN                   False                       N   \n",
       "1                    NaN                     NaN                     NaN   \n",
       "2                    NaN                   False                       N   \n",
       "3                    NaN                   False                       N   \n",
       "4                    NaN                   False                       N   \n",
       "\n",
       "  bijmenging1_grondsoort bijmenging2_plaatselijk bijmenging2_hoeveelheid  \\\n",
       "0                     XZ                     NaN                     NaN   \n",
       "1                    NaN                     NaN                     NaN   \n",
       "2                     XZ                     NaN                     NaN   \n",
       "3                     GL                   False                       N   \n",
       "4                     GL                     NaN                     NaN   \n",
       "\n",
       "  bijmenging2_grondsoort  bijmenging3_plaatselijk  bijmenging3_hoeveelheid  \\\n",
       "0                    NaN                      NaN                      NaN   \n",
       "1                    NaN                      NaN                      NaN   \n",
       "2                    NaN                      NaN                      NaN   \n",
       "3                     KL                      NaN                      NaN   \n",
       "4                    NaN                      NaN                      NaN   \n",
       "\n",
       "   bijmenging3_grondsoort  \n",
       "0                     NaN  \n",
       "1                     NaN  \n",
       "2                     NaN  \n",
       "3                     NaN  \n",
       "4                     NaN  "
      ],
      "text/html": "<div>\n<style scoped>\n    .dataframe tbody tr th:only-of-type {\n        vertical-align: middle;\n    }\n\n    .dataframe tbody tr th {\n        vertical-align: top;\n    }\n\n    .dataframe thead th {\n        text-align: right;\n    }\n</style>\n<table border=\"1\" class=\"dataframe\">\n  <thead>\n    <tr style=\"text-align: right;\">\n      <th></th>\n      <th>pkey_interpretatie</th>\n      <th>pkey_boring</th>\n      <th>betrouwbaarheid_interpretatie</th>\n      <th>x</th>\n      <th>y</th>\n      <th>start_interpretatie_mtaw</th>\n      <th>diepte_laag_van</th>\n      <th>diepte_laag_tot</th>\n      <th>hoofdnaam1_grondsoort</th>\n      <th>hoofdnaam2_grondsoort</th>\n      <th>bijmenging1_plaatselijk</th>\n      <th>bijmenging1_hoeveelheid</th>\n      <th>bijmenging1_grondsoort</th>\n      <th>bijmenging2_plaatselijk</th>\n      <th>bijmenging2_hoeveelheid</th>\n      <th>bijmenging2_grondsoort</th>\n      <th>bijmenging3_plaatselijk</th>\n      <th>bijmenging3_hoeveelheid</th>\n      <th>bijmenging3_grondsoort</th>\n    </tr>\n  </thead>\n  <tbody>\n    <tr>\n      <th>0</th>\n      <td>https://www.dov.vlaanderen.be/data/interpretat...</td>\n      <td>https://www.dov.vlaanderen.be/data/boring/1974...</td>\n      <td>goed</td>\n      <td>153147.0</td>\n      <td>206931.0</td>\n      <td>14.12</td>\n      <td>0.0</td>\n      <td>0.5</td>\n      <td>LE</td>\n      <td>NaN</td>\n      <td>False</td>\n      <td>N</td>\n      <td>XZ</td>\n      <td>NaN</td>\n      <td>NaN</td>\n      <td>NaN</td>\n      <td>NaN</td>\n      <td>NaN</td>\n      <td>NaN</td>\n    </tr>\n    <tr>\n      <th>1</th>\n      <td>https://www.dov.vlaanderen.be/data/interpretat...</td>\n      <td>https://www.dov.vlaanderen.be/data/boring/1974...</td>\n      <td>goed</td>\n      <td>153147.0</td>\n      <td>206931.0</td>\n      <td>14.12</td>\n      <td>0.5</td>\n      <td>1.0</td>\n      <td>LE</td>\n      <td>NaN</td>\n      <td>NaN</td>\n      <td>NaN</td>\n      <td>NaN</td>\n      <td>NaN</td>\n      <td>NaN</td>\n      <td>NaN</td>\n      <td>NaN</td>\n      <td>NaN</td>\n      <td>NaN</td>\n    </tr>\n    <tr>\n      <th>2</th>\n      <td>https://www.dov.vlaanderen.be/data/interpretat...</td>\n      <td>https://www.dov.vlaanderen.be/data/boring/1974...</td>\n      <td>goed</td>\n      <td>153147.0</td>\n      <td>206931.0</td>\n      <td>14.12</td>\n      <td>1.0</td>\n      <td>2.5</td>\n      <td>KL</td>\n      <td>NaN</td>\n      <td>False</td>\n      <td>N</td>\n      <td>XZ</td>\n      <td>NaN</td>\n      <td>NaN</td>\n      <td>NaN</td>\n      <td>NaN</td>\n      <td>NaN</td>\n      <td>NaN</td>\n    </tr>\n    <tr>\n      <th>3</th>\n      <td>https://www.dov.vlaanderen.be/data/interpretat...</td>\n      <td>https://www.dov.vlaanderen.be/data/boring/1974...</td>\n      <td>goed</td>\n      <td>153147.0</td>\n      <td>206931.0</td>\n      <td>14.12</td>\n      <td>2.5</td>\n      <td>3.5</td>\n      <td>FZ</td>\n      <td>NaN</td>\n      <td>False</td>\n      <td>N</td>\n      <td>GL</td>\n      <td>False</td>\n      <td>N</td>\n      <td>KL</td>\n      <td>NaN</td>\n      <td>NaN</td>\n      <td>NaN</td>\n    </tr>\n    <tr>\n      <th>4</th>\n      <td>https://www.dov.vlaanderen.be/data/interpretat...</td>\n      <td>https://www.dov.vlaanderen.be/data/boring/1974...</td>\n      <td>goed</td>\n      <td>153147.0</td>\n      <td>206931.0</td>\n      <td>14.12</td>\n      <td>3.5</td>\n      <td>7.0</td>\n      <td>FZ</td>\n      <td>NaN</td>\n      <td>False</td>\n      <td>N</td>\n      <td>GL</td>\n      <td>NaN</td>\n      <td>NaN</td>\n      <td>NaN</td>\n      <td>NaN</td>\n      <td>NaN</td>\n      <td>NaN</td>\n    </tr>\n  </tbody>\n</table>\n</div>"
     },
     "metadata": {},
     "execution_count": 7
    }
   ],
   "source": [
    "from pydov.util.location import Within, Box\n",
    "\n",
    "df = itp.search(location=Within(Box(153145, 206930, 153150, 206935)))\n",
    "df.head()"
   ]
  },
  {
   "cell_type": "markdown",
   "metadata": {},
   "source": [
    "The dataframe contains one 'Gecodeerde lithologie' interpretation where five layers ('laag') were identified. The available data are flattened to represent unique attributes per row of the dataframe.\n",
    "\n",
    "Using the *pkey_interpretatie* field one can request the details of this interpretation in a webbrowser:"
   ]
  },
  {
   "cell_type": "code",
   "execution_count": 8,
   "metadata": {},
   "outputs": [
    {
     "output_type": "stream",
     "name": "stdout",
     "text": [
      "https://www.dov.vlaanderen.be/data/interpretatie/2001-186544\n"
     ]
    }
   ],
   "source": [
    "for pkey_interpretatie in set(df.pkey_interpretatie):\n",
    "    print(pkey_interpretatie)"
   ]
  },
  {
   "cell_type": "markdown",
   "metadata": {},
   "source": [
    "### Get 'Gecodeerde lithologie' with specific properties within a distance from a point"
   ]
  },
  {
   "cell_type": "markdown",
   "metadata": {},
   "source": [
    "Next to querying interpretations based on their geographic location within a bounding box, we can also search for interpretations matching a specific set of properties. For this we can build a query using a combination of the 'Gecodeerde lithologie' fields and operators provided by the WFS protocol.\n",
    "\n",
    "A list of possible operators can be found below:"
   ]
  },
  {
   "cell_type": "code",
   "execution_count": 9,
   "metadata": {},
   "outputs": [
    {
     "output_type": "execute_result",
     "data": {
      "text/plain": [
       "['PropertyIsBetween',\n",
       " 'PropertyIsEqualTo',\n",
       " 'PropertyIsGreaterThan',\n",
       " 'PropertyIsGreaterThanOrEqualTo',\n",
       " 'PropertyIsLessThan',\n",
       " 'PropertyIsLessThanOrEqualTo',\n",
       " 'PropertyIsLike',\n",
       " 'PropertyIsNotEqualTo',\n",
       " 'PropertyIsNull',\n",
       " 'SortProperty']"
      ]
     },
     "metadata": {},
     "execution_count": 9
    }
   ],
   "source": [
    "[i for i,j in inspect.getmembers(sys.modules['owslib.fes'], inspect.isclass) if 'Property' in i]"
   ]
  },
  {
   "cell_type": "markdown",
   "metadata": {},
   "source": [
    "In this example we build a query using the *PropertyIsGreaterThan* and *PropertyIsEqualTo* operators to find all interpretations that are at least 20 m deep, that are deemed appropriate for a range of 1 km from a defined point:"
   ]
  },
  {
   "cell_type": "code",
   "execution_count": 10,
   "metadata": {},
   "outputs": [
    {
     "output_type": "stream",
     "name": "stdout",
     "text": [
      "[000/002] ..\n"
     ]
    },
    {
     "output_type": "execute_result",
     "data": {
      "text/plain": [
       "                                  pkey_interpretatie  \\\n",
       "0  https://www.dov.vlaanderen.be/data/interpretat...   \n",
       "1  https://www.dov.vlaanderen.be/data/interpretat...   \n",
       "2  https://www.dov.vlaanderen.be/data/interpretat...   \n",
       "3  https://www.dov.vlaanderen.be/data/interpretat...   \n",
       "4  https://www.dov.vlaanderen.be/data/interpretat...   \n",
       "\n",
       "                                         pkey_boring  \\\n",
       "0  https://www.dov.vlaanderen.be/data/boring/1994...   \n",
       "1  https://www.dov.vlaanderen.be/data/boring/1994...   \n",
       "2  https://www.dov.vlaanderen.be/data/boring/1994...   \n",
       "3  https://www.dov.vlaanderen.be/data/boring/1994...   \n",
       "4  https://www.dov.vlaanderen.be/data/boring/1994...   \n",
       "\n",
       "  betrouwbaarheid_interpretatie          x          y  \\\n",
       "0                          goed  152565.03  207059.35   \n",
       "1                          goed  152565.03  207059.35   \n",
       "2                          goed  152565.03  207059.35   \n",
       "3                          goed  152565.03  207059.35   \n",
       "4                          goed  152565.03  207059.35   \n",
       "\n",
       "   start_interpretatie_mtaw  diepte_laag_van  diepte_laag_tot  \\\n",
       "0                     18.75              0.0              1.0   \n",
       "1                     18.75              1.0              2.0   \n",
       "2                     18.75              2.0              4.0   \n",
       "3                     18.75              4.0             18.0   \n",
       "4                     18.75             18.0             19.0   \n",
       "\n",
       "  hoofdnaam1_grondsoort hoofdnaam2_grondsoort bijmenging1_plaatselijk  \\\n",
       "0                    FZ                   NaN                   False   \n",
       "1                    FZ                   NaN                   False   \n",
       "2                    FZ                   NaN                   False   \n",
       "3                    FZ                   NaN                   False   \n",
       "4                    FZ                   NaN                   False   \n",
       "\n",
       "  bijmenging1_hoeveelheid bijmenging1_grondsoort bijmenging2_plaatselijk  \\\n",
       "0                       M                     KA                     NaN   \n",
       "1                       M                     SF                   False   \n",
       "2                       M                     SF                   False   \n",
       "3                       M                     GL                   False   \n",
       "4                       S                     LE                     NaN   \n",
       "\n",
       "  bijmenging2_hoeveelheid bijmenging2_grondsoort bijmenging3_plaatselijk  \\\n",
       "0                     NaN                    NaN                     NaN   \n",
       "1                       M                     ST                     NaN   \n",
       "2                       M                     ST                     NaN   \n",
       "3                       M                     SF                   False   \n",
       "4                     NaN                    NaN                     NaN   \n",
       "\n",
       "  bijmenging3_hoeveelheid bijmenging3_grondsoort  \n",
       "0                     NaN                    NaN  \n",
       "1                     NaN                    NaN  \n",
       "2                     NaN                    NaN  \n",
       "3                       M                     ST  \n",
       "4                     NaN                    NaN  "
      ],
      "text/html": "<div>\n<style scoped>\n    .dataframe tbody tr th:only-of-type {\n        vertical-align: middle;\n    }\n\n    .dataframe tbody tr th {\n        vertical-align: top;\n    }\n\n    .dataframe thead th {\n        text-align: right;\n    }\n</style>\n<table border=\"1\" class=\"dataframe\">\n  <thead>\n    <tr style=\"text-align: right;\">\n      <th></th>\n      <th>pkey_interpretatie</th>\n      <th>pkey_boring</th>\n      <th>betrouwbaarheid_interpretatie</th>\n      <th>x</th>\n      <th>y</th>\n      <th>start_interpretatie_mtaw</th>\n      <th>diepte_laag_van</th>\n      <th>diepte_laag_tot</th>\n      <th>hoofdnaam1_grondsoort</th>\n      <th>hoofdnaam2_grondsoort</th>\n      <th>bijmenging1_plaatselijk</th>\n      <th>bijmenging1_hoeveelheid</th>\n      <th>bijmenging1_grondsoort</th>\n      <th>bijmenging2_plaatselijk</th>\n      <th>bijmenging2_hoeveelheid</th>\n      <th>bijmenging2_grondsoort</th>\n      <th>bijmenging3_plaatselijk</th>\n      <th>bijmenging3_hoeveelheid</th>\n      <th>bijmenging3_grondsoort</th>\n    </tr>\n  </thead>\n  <tbody>\n    <tr>\n      <th>0</th>\n      <td>https://www.dov.vlaanderen.be/data/interpretat...</td>\n      <td>https://www.dov.vlaanderen.be/data/boring/1994...</td>\n      <td>goed</td>\n      <td>152565.03</td>\n      <td>207059.35</td>\n      <td>18.75</td>\n      <td>0.0</td>\n      <td>1.0</td>\n      <td>FZ</td>\n      <td>NaN</td>\n      <td>False</td>\n      <td>M</td>\n      <td>KA</td>\n      <td>NaN</td>\n      <td>NaN</td>\n      <td>NaN</td>\n      <td>NaN</td>\n      <td>NaN</td>\n      <td>NaN</td>\n    </tr>\n    <tr>\n      <th>1</th>\n      <td>https://www.dov.vlaanderen.be/data/interpretat...</td>\n      <td>https://www.dov.vlaanderen.be/data/boring/1994...</td>\n      <td>goed</td>\n      <td>152565.03</td>\n      <td>207059.35</td>\n      <td>18.75</td>\n      <td>1.0</td>\n      <td>2.0</td>\n      <td>FZ</td>\n      <td>NaN</td>\n      <td>False</td>\n      <td>M</td>\n      <td>SF</td>\n      <td>False</td>\n      <td>M</td>\n      <td>ST</td>\n      <td>NaN</td>\n      <td>NaN</td>\n      <td>NaN</td>\n    </tr>\n    <tr>\n      <th>2</th>\n      <td>https://www.dov.vlaanderen.be/data/interpretat...</td>\n      <td>https://www.dov.vlaanderen.be/data/boring/1994...</td>\n      <td>goed</td>\n      <td>152565.03</td>\n      <td>207059.35</td>\n      <td>18.75</td>\n      <td>2.0</td>\n      <td>4.0</td>\n      <td>FZ</td>\n      <td>NaN</td>\n      <td>False</td>\n      <td>M</td>\n      <td>SF</td>\n      <td>False</td>\n      <td>M</td>\n      <td>ST</td>\n      <td>NaN</td>\n      <td>NaN</td>\n      <td>NaN</td>\n    </tr>\n    <tr>\n      <th>3</th>\n      <td>https://www.dov.vlaanderen.be/data/interpretat...</td>\n      <td>https://www.dov.vlaanderen.be/data/boring/1994...</td>\n      <td>goed</td>\n      <td>152565.03</td>\n      <td>207059.35</td>\n      <td>18.75</td>\n      <td>4.0</td>\n      <td>18.0</td>\n      <td>FZ</td>\n      <td>NaN</td>\n      <td>False</td>\n      <td>M</td>\n      <td>GL</td>\n      <td>False</td>\n      <td>M</td>\n      <td>SF</td>\n      <td>False</td>\n      <td>M</td>\n      <td>ST</td>\n    </tr>\n    <tr>\n      <th>4</th>\n      <td>https://www.dov.vlaanderen.be/data/interpretat...</td>\n      <td>https://www.dov.vlaanderen.be/data/boring/1994...</td>\n      <td>goed</td>\n      <td>152565.03</td>\n      <td>207059.35</td>\n      <td>18.75</td>\n      <td>18.0</td>\n      <td>19.0</td>\n      <td>FZ</td>\n      <td>NaN</td>\n      <td>False</td>\n      <td>S</td>\n      <td>LE</td>\n      <td>NaN</td>\n      <td>NaN</td>\n      <td>NaN</td>\n      <td>NaN</td>\n      <td>NaN</td>\n      <td>NaN</td>\n    </tr>\n  </tbody>\n</table>\n</div>"
     },
     "metadata": {},
     "execution_count": 10
    }
   ],
   "source": [
    "from owslib.fes import And, PropertyIsGreaterThan, PropertyIsEqualTo\n",
    "from pydov.util.location import WithinDistance, Point\n",
    "\n",
    "query = And([PropertyIsEqualTo(propertyname='Betrouwbaarheid',\n",
    "                              literal='goed'),\n",
    "            PropertyIsGreaterThan(propertyname='diepte_tot_m',\n",
    "                                 literal='20'),\n",
    "           ])\n",
    "            \n",
    "df = itp.search(query=query, \n",
    "                location=WithinDistance(Point(153145, 206930), 1000))\n",
    "\n",
    "df.head()"
   ]
  },
  {
   "cell_type": "markdown",
   "metadata": {},
   "source": [
    "Once again we can use the *pkey_interpretatie* as a permanent link to the information of these interpretations:"
   ]
  },
  {
   "cell_type": "code",
   "execution_count": 11,
   "metadata": {},
   "outputs": [
    {
     "output_type": "stream",
     "name": "stdout",
     "text": [
      "https://www.dov.vlaanderen.be/data/interpretatie/2016-294473\nhttps://www.dov.vlaanderen.be/data/interpretatie/2016-294475\n"
     ]
    }
   ],
   "source": [
    "for pkey_interpretatie in set(df.pkey_interpretatie):\n",
    "    print(pkey_interpretatie)"
   ]
  },
  {
   "cell_type": "markdown",
   "metadata": {},
   "source": [
    "### Get 'Gecodeerde lithologie' in a bounding box based on specific properties"
   ]
  },
  {
   "cell_type": "markdown",
   "metadata": {},
   "source": [
    "We can combine a query on attributes with a query on geographic location to get the interpretations within a bounding box that have specific properties.\n",
    "\n",
    "The following example requests the interpretations of boreholes only, within the given bounding box.\n",
    "\n",
    "(Note that the datatype of the *literal* parameter should be a string, regardless of the datatype of this field in the output dataframe.)"
   ]
  },
  {
   "cell_type": "code",
   "execution_count": 12,
   "metadata": {},
   "outputs": [
    {
     "output_type": "stream",
     "name": "stdout",
     "text": [
      "[000/001] c\n"
     ]
    },
    {
     "output_type": "execute_result",
     "data": {
      "text/plain": [
       "                                  pkey_interpretatie  \\\n",
       "0  https://www.dov.vlaanderen.be/data/interpretat...   \n",
       "1  https://www.dov.vlaanderen.be/data/interpretat...   \n",
       "2  https://www.dov.vlaanderen.be/data/interpretat...   \n",
       "3  https://www.dov.vlaanderen.be/data/interpretat...   \n",
       "4  https://www.dov.vlaanderen.be/data/interpretat...   \n",
       "\n",
       "                                         pkey_boring  \\\n",
       "0  https://www.dov.vlaanderen.be/data/boring/1974...   \n",
       "1  https://www.dov.vlaanderen.be/data/boring/1974...   \n",
       "2  https://www.dov.vlaanderen.be/data/boring/1974...   \n",
       "3  https://www.dov.vlaanderen.be/data/boring/1974...   \n",
       "4  https://www.dov.vlaanderen.be/data/boring/1974...   \n",
       "\n",
       "  betrouwbaarheid_interpretatie         x         y  start_interpretatie_mtaw  \\\n",
       "0                          goed  153147.0  206931.0                     14.12   \n",
       "1                          goed  153147.0  206931.0                     14.12   \n",
       "2                          goed  153147.0  206931.0                     14.12   \n",
       "3                          goed  153147.0  206931.0                     14.12   \n",
       "4                          goed  153147.0  206931.0                     14.12   \n",
       "\n",
       "   diepte_laag_van  diepte_laag_tot hoofdnaam1_grondsoort  \\\n",
       "0              0.0              0.5                    LE   \n",
       "1              0.5              1.0                    LE   \n",
       "2              1.0              2.5                    KL   \n",
       "3              2.5              3.5                    FZ   \n",
       "4              3.5              7.0                    FZ   \n",
       "\n",
       "   hoofdnaam2_grondsoort bijmenging1_plaatselijk bijmenging1_hoeveelheid  \\\n",
       "0                    NaN                   False                       N   \n",
       "1                    NaN                     NaN                     NaN   \n",
       "2                    NaN                   False                       N   \n",
       "3                    NaN                   False                       N   \n",
       "4                    NaN                   False                       N   \n",
       "\n",
       "  bijmenging1_grondsoort bijmenging2_plaatselijk bijmenging2_hoeveelheid  \\\n",
       "0                     XZ                     NaN                     NaN   \n",
       "1                    NaN                     NaN                     NaN   \n",
       "2                     XZ                     NaN                     NaN   \n",
       "3                     GL                   False                       N   \n",
       "4                     GL                     NaN                     NaN   \n",
       "\n",
       "  bijmenging2_grondsoort  bijmenging3_plaatselijk  bijmenging3_hoeveelheid  \\\n",
       "0                    NaN                      NaN                      NaN   \n",
       "1                    NaN                      NaN                      NaN   \n",
       "2                    NaN                      NaN                      NaN   \n",
       "3                     KL                      NaN                      NaN   \n",
       "4                    NaN                      NaN                      NaN   \n",
       "\n",
       "   bijmenging3_grondsoort  \n",
       "0                     NaN  \n",
       "1                     NaN  \n",
       "2                     NaN  \n",
       "3                     NaN  \n",
       "4                     NaN  "
      ],
      "text/html": "<div>\n<style scoped>\n    .dataframe tbody tr th:only-of-type {\n        vertical-align: middle;\n    }\n\n    .dataframe tbody tr th {\n        vertical-align: top;\n    }\n\n    .dataframe thead th {\n        text-align: right;\n    }\n</style>\n<table border=\"1\" class=\"dataframe\">\n  <thead>\n    <tr style=\"text-align: right;\">\n      <th></th>\n      <th>pkey_interpretatie</th>\n      <th>pkey_boring</th>\n      <th>betrouwbaarheid_interpretatie</th>\n      <th>x</th>\n      <th>y</th>\n      <th>start_interpretatie_mtaw</th>\n      <th>diepte_laag_van</th>\n      <th>diepte_laag_tot</th>\n      <th>hoofdnaam1_grondsoort</th>\n      <th>hoofdnaam2_grondsoort</th>\n      <th>bijmenging1_plaatselijk</th>\n      <th>bijmenging1_hoeveelheid</th>\n      <th>bijmenging1_grondsoort</th>\n      <th>bijmenging2_plaatselijk</th>\n      <th>bijmenging2_hoeveelheid</th>\n      <th>bijmenging2_grondsoort</th>\n      <th>bijmenging3_plaatselijk</th>\n      <th>bijmenging3_hoeveelheid</th>\n      <th>bijmenging3_grondsoort</th>\n    </tr>\n  </thead>\n  <tbody>\n    <tr>\n      <th>0</th>\n      <td>https://www.dov.vlaanderen.be/data/interpretat...</td>\n      <td>https://www.dov.vlaanderen.be/data/boring/1974...</td>\n      <td>goed</td>\n      <td>153147.0</td>\n      <td>206931.0</td>\n      <td>14.12</td>\n      <td>0.0</td>\n      <td>0.5</td>\n      <td>LE</td>\n      <td>NaN</td>\n      <td>False</td>\n      <td>N</td>\n      <td>XZ</td>\n      <td>NaN</td>\n      <td>NaN</td>\n      <td>NaN</td>\n      <td>NaN</td>\n      <td>NaN</td>\n      <td>NaN</td>\n    </tr>\n    <tr>\n      <th>1</th>\n      <td>https://www.dov.vlaanderen.be/data/interpretat...</td>\n      <td>https://www.dov.vlaanderen.be/data/boring/1974...</td>\n      <td>goed</td>\n      <td>153147.0</td>\n      <td>206931.0</td>\n      <td>14.12</td>\n      <td>0.5</td>\n      <td>1.0</td>\n      <td>LE</td>\n      <td>NaN</td>\n      <td>NaN</td>\n      <td>NaN</td>\n      <td>NaN</td>\n      <td>NaN</td>\n      <td>NaN</td>\n      <td>NaN</td>\n      <td>NaN</td>\n      <td>NaN</td>\n      <td>NaN</td>\n    </tr>\n    <tr>\n      <th>2</th>\n      <td>https://www.dov.vlaanderen.be/data/interpretat...</td>\n      <td>https://www.dov.vlaanderen.be/data/boring/1974...</td>\n      <td>goed</td>\n      <td>153147.0</td>\n      <td>206931.0</td>\n      <td>14.12</td>\n      <td>1.0</td>\n      <td>2.5</td>\n      <td>KL</td>\n      <td>NaN</td>\n      <td>False</td>\n      <td>N</td>\n      <td>XZ</td>\n      <td>NaN</td>\n      <td>NaN</td>\n      <td>NaN</td>\n      <td>NaN</td>\n      <td>NaN</td>\n      <td>NaN</td>\n    </tr>\n    <tr>\n      <th>3</th>\n      <td>https://www.dov.vlaanderen.be/data/interpretat...</td>\n      <td>https://www.dov.vlaanderen.be/data/boring/1974...</td>\n      <td>goed</td>\n      <td>153147.0</td>\n      <td>206931.0</td>\n      <td>14.12</td>\n      <td>2.5</td>\n      <td>3.5</td>\n      <td>FZ</td>\n      <td>NaN</td>\n      <td>False</td>\n      <td>N</td>\n      <td>GL</td>\n      <td>False</td>\n      <td>N</td>\n      <td>KL</td>\n      <td>NaN</td>\n      <td>NaN</td>\n      <td>NaN</td>\n    </tr>\n    <tr>\n      <th>4</th>\n      <td>https://www.dov.vlaanderen.be/data/interpretat...</td>\n      <td>https://www.dov.vlaanderen.be/data/boring/1974...</td>\n      <td>goed</td>\n      <td>153147.0</td>\n      <td>206931.0</td>\n      <td>14.12</td>\n      <td>3.5</td>\n      <td>7.0</td>\n      <td>FZ</td>\n      <td>NaN</td>\n      <td>False</td>\n      <td>N</td>\n      <td>GL</td>\n      <td>NaN</td>\n      <td>NaN</td>\n      <td>NaN</td>\n      <td>NaN</td>\n      <td>NaN</td>\n      <td>NaN</td>\n    </tr>\n  </tbody>\n</table>\n</div>"
     },
     "metadata": {},
     "execution_count": 12
    }
   ],
   "source": [
    "from owslib.fes import PropertyIsEqualTo\n",
    "\n",
    "query = PropertyIsEqualTo(\n",
    "            propertyname='Type_proef',\n",
    "            literal='Boring')\n",
    "\n",
    "df = itp.search(\n",
    "    location=Within(Box(153145, 206930, 154145, 207930)),\n",
    "    query=query\n",
    "    )\n",
    "\n",
    "df.head()"
   ]
  },
  {
   "cell_type": "markdown",
   "metadata": {},
   "source": [
    "We can look at one of the interpretations in a webbrowser using its *pkey_interpretatie*:"
   ]
  },
  {
   "cell_type": "code",
   "execution_count": 13,
   "metadata": {},
   "outputs": [
    {
     "output_type": "stream",
     "name": "stdout",
     "text": [
      "https://www.dov.vlaanderen.be/data/interpretatie/2001-186544\n"
     ]
    }
   ],
   "source": [
    "for pkey_interpretatie in set(df.pkey_interpretatie):\n",
    "    print(pkey_interpretatie)"
   ]
  },
  {
   "cell_type": "markdown",
   "metadata": {},
   "source": [
    "### Get 'Gecodeerde lithologie' based on fields not available in the standard output dataframe"
   ]
  },
  {
   "cell_type": "markdown",
   "metadata": {},
   "source": [
    "To keep the output dataframe size acceptable, not all available WFS fields are included in the standard output. However, one can use this information to select interpretations as illustrated below.\n",
    "\n",
    "For example, make a selection of the interpretations in municipality the of Antwerp, before 1/1/1990:\n",
    "\n",
    "!*remark: mind that the municipality attribute is merely an attribute that is defined by the person entering the data. It can be ok, empty, outdated or wrong*!"
   ]
  },
  {
   "cell_type": "code",
   "execution_count": 14,
   "metadata": {},
   "outputs": [
    {
     "output_type": "execute_result",
     "data": {
      "text/plain": [
       "                                  pkey_interpretatie       Datum\n",
       "0  https://www.dov.vlaanderen.be/data/interpretat...  2008-03-28\n",
       "1  https://www.dov.vlaanderen.be/data/interpretat...  2001-07-04\n",
       "2  https://www.dov.vlaanderen.be/data/interpretat...  2001-07-04\n",
       "3  https://www.dov.vlaanderen.be/data/interpretat...  2001-07-16\n",
       "4  https://www.dov.vlaanderen.be/data/interpretat...  2001-07-16"
      ],
      "text/html": "<div>\n<style scoped>\n    .dataframe tbody tr th:only-of-type {\n        vertical-align: middle;\n    }\n\n    .dataframe tbody tr th {\n        vertical-align: top;\n    }\n\n    .dataframe thead th {\n        text-align: right;\n    }\n</style>\n<table border=\"1\" class=\"dataframe\">\n  <thead>\n    <tr style=\"text-align: right;\">\n      <th></th>\n      <th>pkey_interpretatie</th>\n      <th>Datum</th>\n    </tr>\n  </thead>\n  <tbody>\n    <tr>\n      <th>0</th>\n      <td>https://www.dov.vlaanderen.be/data/interpretat...</td>\n      <td>2008-03-28</td>\n    </tr>\n    <tr>\n      <th>1</th>\n      <td>https://www.dov.vlaanderen.be/data/interpretat...</td>\n      <td>2001-07-04</td>\n    </tr>\n    <tr>\n      <th>2</th>\n      <td>https://www.dov.vlaanderen.be/data/interpretat...</td>\n      <td>2001-07-04</td>\n    </tr>\n    <tr>\n      <th>3</th>\n      <td>https://www.dov.vlaanderen.be/data/interpretat...</td>\n      <td>2001-07-16</td>\n    </tr>\n    <tr>\n      <th>4</th>\n      <td>https://www.dov.vlaanderen.be/data/interpretat...</td>\n      <td>2001-07-16</td>\n    </tr>\n  </tbody>\n</table>\n</div>"
     },
     "metadata": {},
     "execution_count": 14
    }
   ],
   "source": [
    "from owslib.fes import And, PropertyIsEqualTo, PropertyIsLessThan\n",
    "\n",
    "query = And([PropertyIsEqualTo(propertyname='gemeente',\n",
    "                               literal='Antwerpen'),\n",
    "             PropertyIsLessThan(propertyname='Datum', \n",
    "                                 literal='2010-01-01')]\n",
    "            )\n",
    "df = itp.search(query=query,\n",
    "                return_fields=('pkey_interpretatie', 'Datum'))\n",
    "df.head()"
   ]
  },
  {
   "cell_type": "markdown",
   "metadata": {},
   "source": [
    "### Get 'Gecodeerde lithologie' data, returning fields not available in the standard output dataframe"
   ]
  },
  {
   "cell_type": "markdown",
   "metadata": {},
   "source": [
    "As denoted in the previous example, not all available fields are available in the default output frame to keep its size limited. However, you can request any available field by including it in the *return_fields* parameter of the search:"
   ]
  },
  {
   "cell_type": "code",
   "execution_count": 15,
   "metadata": {},
   "outputs": [
    {
     "output_type": "error",
     "ename": "InvalidFieldError",
     "evalue": "Unknown return field: 'Z_mTAW'. Did you mean 'start_interpretatie_mtaw'?",
     "traceback": [
      "\u001b[0;31m---------------------------------------------------------------------------\u001b[0m",
      "\u001b[0;31mInvalidFieldError\u001b[0m                         Traceback (most recent call last)",
      "\u001b[0;32m<ipython-input-15-54ebb308efde>\u001b[0m in \u001b[0;36m<module>\u001b[0;34m\u001b[0m\n\u001b[1;32m      3\u001b[0m             literal='Leuven')\n\u001b[1;32m      4\u001b[0m \u001b[0;34m\u001b[0m\u001b[0m\n\u001b[0;32m----> 5\u001b[0;31m df = itp.search(query=query,\n\u001b[0m\u001b[1;32m      6\u001b[0m                 return_fields=('pkey_interpretatie', 'pkey_boring',\n\u001b[1;32m      7\u001b[0m                                'x', 'y', 'Z_mTAW', 'gemeente', 'Auteurs', 'Proefnummer'))\n",
      "\u001b[0;32m~/Sideprojects/pydov/pydov_git/pydov/search/abstract.py\u001b[0m in \u001b[0;36msearch\u001b[0;34m(self, location, query, sort_by, return_fields, max_features)\u001b[0m\n\u001b[1;32m    838\u001b[0m \u001b[0;34m\u001b[0m\u001b[0m\n\u001b[1;32m    839\u001b[0m         \"\"\"\n\u001b[0;32m--> 840\u001b[0;31m         fts = self._search(location=location, query=query, sort_by=sort_by,\n\u001b[0m\u001b[1;32m    841\u001b[0m                            \u001b[0mreturn_fields\u001b[0m\u001b[0;34m=\u001b[0m\u001b[0mreturn_fields\u001b[0m\u001b[0;34m,\u001b[0m\u001b[0;34m\u001b[0m\u001b[0;34m\u001b[0m\u001b[0m\n\u001b[1;32m    842\u001b[0m                            max_features=max_features)\n",
      "\u001b[0;32m~/Sideprojects/pydov/pydov_git/pydov/search/abstract.py\u001b[0m in \u001b[0;36m_search\u001b[0;34m(self, location, query, return_fields, sort_by, max_features, extra_wfs_fields)\u001b[0m\n\u001b[1;32m    659\u001b[0m \u001b[0;34m\u001b[0m\u001b[0m\n\u001b[1;32m    660\u001b[0m         \"\"\"\n\u001b[0;32m--> 661\u001b[0;31m         self._pre_search_validation(location, query, sort_by, return_fields,\n\u001b[0m\u001b[1;32m    662\u001b[0m                                     max_features)\n\u001b[1;32m    663\u001b[0m         \u001b[0mself\u001b[0m\u001b[0;34m.\u001b[0m\u001b[0m_init_namespace\u001b[0m\u001b[0;34m(\u001b[0m\u001b[0;34m)\u001b[0m\u001b[0;34m\u001b[0m\u001b[0;34m\u001b[0m\u001b[0m\n",
      "\u001b[0;32m~/Sideprojects/pydov/pydov_git/pydov/search/abstract.py\u001b[0m in \u001b[0;36m_pre_search_validation\u001b[0;34m(self, location, query, sort_by, return_fields, max_features)\u001b[0m\n\u001b[1;32m    540\u001b[0m                 \u001b[0;32mif\u001b[0m \u001b[0mrf\u001b[0m \u001b[0;32mnot\u001b[0m \u001b[0;32min\u001b[0m \u001b[0mself\u001b[0m\u001b[0;34m.\u001b[0m\u001b[0m_fields\u001b[0m\u001b[0;34m:\u001b[0m\u001b[0;34m\u001b[0m\u001b[0;34m\u001b[0m\u001b[0m\n\u001b[1;32m    541\u001b[0m                     \u001b[0;32mif\u001b[0m \u001b[0mrf\u001b[0m \u001b[0;32min\u001b[0m \u001b[0mself\u001b[0m\u001b[0;34m.\u001b[0m\u001b[0m_map_wfs_source_df\u001b[0m\u001b[0;34m:\u001b[0m\u001b[0;34m\u001b[0m\u001b[0;34m\u001b[0m\u001b[0m\n\u001b[0;32m--> 542\u001b[0;31m                         raise InvalidFieldError(\n\u001b[0m\u001b[1;32m    543\u001b[0m                             \u001b[0;34m\"Unknown return field: \"\u001b[0m\u001b[0;34m\u001b[0m\u001b[0;34m\u001b[0m\u001b[0m\n\u001b[1;32m    544\u001b[0m                             \"'{}'. Did you mean '{}'?\".format(\n",
      "\u001b[0;31mInvalidFieldError\u001b[0m: Unknown return field: 'Z_mTAW'. Did you mean 'start_interpretatie_mtaw'?"
     ]
    }
   ],
   "source": [
    "query = PropertyIsEqualTo(\n",
    "            propertyname='gemeente',\n",
    "            literal='Leuven')\n",
    "\n",
    "df = itp.search(query=query,\n",
    "                return_fields=('pkey_interpretatie', 'pkey_boring',\n",
    "                               'x', 'y', 'Z_mTAW', 'gemeente', 'Auteurs', 'Proefnummer'))\n",
    "\n",
    "df.head()"
   ]
  },
  {
   "cell_type": "markdown",
   "metadata": {},
   "source": [
    "## Visualize results"
   ]
  },
  {
   "cell_type": "markdown",
   "metadata": {},
   "source": [
    "Using Folium, we can display the results of our search on a map."
   ]
  },
  {
   "cell_type": "code",
   "execution_count": 16,
   "metadata": {},
   "outputs": [],
   "source": [
    "# import the necessary modules (not included in the requirements of pydov!)\n",
    "import folium\n",
    "from folium.plugins import MarkerCluster\n",
    "from pyproj import Transformer"
   ]
  },
  {
   "cell_type": "code",
   "execution_count": 17,
   "metadata": {},
   "outputs": [],
   "source": [
    "# convert the coordinates to lat/lon for folium\n",
    "def convert_latlon(x1, y1):\n",
    "    transformer = Transformer.from_crs(\"epsg:31370\", \"epsg:4326\", always_xy=True)\n",
    "    x2,y2 = transformer.transform(x1, y1)\n",
    "    return x2, y2\n",
    "\n",
    "df['lon'], df['lat'] = zip(*map(convert_latlon, df['x'], df['y'])) \n",
    "# convert to list\n",
    "loclist = df[['lat', 'lon']].values.tolist()"
   ]
  },
  {
   "cell_type": "code",
   "execution_count": 18,
   "metadata": {},
   "outputs": [
    {
     "data": {
      "text/html": [
       "<div style=\"width:100%;\"><div style=\"position:relative;width:100%;height:0;padding-bottom:60%;\"><span style=\"color:#565656\">Make this Notebook Trusted to load map: File -> Trust Notebook</span><iframe src=\"about:blank\" style=\"position:absolute;width:100%;height:100%;left:0;top:0;border:none !important;\" data-html=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 onload=\"this.contentDocument.open();this.contentDocument.write(atob(this.getAttribute('data-html')));this.contentDocument.close();\" allowfullscreen webkitallowfullscreen mozallowfullscreen></iframe></div></div>"
      ],
      "text/plain": [
       "<folium.folium.Map at 0x7f40646ff6d0>"
      ]
     },
     "execution_count": 18,
     "metadata": {},
     "output_type": "execute_result"
    }
   ],
   "source": [
    "# initialize the Folium map on the centre of the selected locations, play with the zoom until ok\n",
    "fmap = folium.Map(location=[df['lat'].mean(), df['lon'].mean()], zoom_start=12)\n",
    "marker_cluster = MarkerCluster().add_to(fmap)\n",
    "for loc in range(0, len(loclist)):\n",
    "    folium.Marker(loclist[loc], popup=df['Proefnummer'][loc]).add_to(marker_cluster)\n",
    "fmap\n"
   ]
  },
  {
   "cell_type": "code",
   "execution_count": null,
   "metadata": {},
   "outputs": [],
   "source": []
  }
 ],
 "metadata": {
  "kernelspec": {
   "display_name": "Python 3.7.5 64-bit ('venv': venv)",
   "language": "python",
   "name": "python37564bitvenvvenv7153db2e85324c8ea2b6eb355f534b21"
  },
  "language_info": {
   "codemirror_mode": {
    "name": "ipython",
    "version": 3
   },
   "file_extension": ".py",
   "mimetype": "text/x-python",
   "name": "python",
   "nbconvert_exporter": "python",
   "pygments_lexer": "ipython3",
   "version": "3.8.5-final"
  }
 },
 "nbformat": 4,
 "nbformat_minor": 4
}