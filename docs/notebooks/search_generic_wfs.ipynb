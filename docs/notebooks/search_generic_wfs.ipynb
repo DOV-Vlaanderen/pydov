{
 "cells": [
  {
   "attachments": {},
   "cell_type": "markdown",
   "metadata": {},
   "source": [
    "# Example of DOV search methods for generic WFS layers"
   ]
  },
  {
   "attachments": {},
   "cell_type": "markdown",
   "metadata": {},
   "source": [
    "[![Binder](https://mybinder.org/badge_logo.svg)](https://mybinder.org/v2/gh/DOV-Vlaanderen/pydov/master?filepath=docs%2Fnotebooks%2Fsearch_generic_wfs.ipynb)"
   ]
  },
  {
   "attachments": {},
   "cell_type": "markdown",
   "metadata": {},
   "source": [
    "## Use cases explained below\n",
    "* Get data in a bounding box\n",
    "* Get data with specific properties\n",
    "* Get data in a bounding box based on specific properties\n",
    "* Select data and return a subset of columns\n",
    "* Using sorting and limiting to find the most recent data\n",
    "* Combining attribute queries to limit your results"
   ]
  },
  {
   "cell_type": "code",
   "execution_count": 17,
   "metadata": {},
   "outputs": [],
   "source": [
    "%matplotlib inline\n",
    "import inspect, sys\n",
    "import warnings; warnings.simplefilter('ignore')"
   ]
  },
  {
   "cell_type": "code",
   "execution_count": 18,
   "metadata": {},
   "outputs": [],
   "source": [
    "# check pydov path\n",
    "import pydov"
   ]
  },
  {
   "attachments": {},
   "cell_type": "markdown",
   "metadata": {},
   "source": [
    "Next to the predefined datatypes from pydov, one can also query any WFS layer available in DOV using pydov. This allows for the same workflow and search methods to be used to query all vectordata we publish. To check which layers are available, consult our [metadata catalogue](https://www.dov.vlaanderen.be/geonetwork)."
   ]
  },
  {
   "attachments": {},
   "cell_type": "markdown",
   "metadata": {},
   "source": [
    "## Get information about the datatype"
   ]
  },
  {
   "attachments": {},
   "cell_type": "markdown",
   "metadata": {},
   "source": [
    "When instantiating a `WfsSearch` instance, one has to provide the workspace-qualified layer name of the WFS service one would like to query:"
   ]
  },
  {
   "cell_type": "code",
   "execution_count": 7,
   "metadata": {},
   "outputs": [],
   "source": [
    "from pydov.search.generic import WfsSearch\n",
    "wfs_search = WfsSearch('pfas:pfas_analyseresultaten')"
   ]
  },
  {
   "attachments": {},
   "cell_type": "markdown",
   "metadata": {},
   "source": [
    "Once instantiated, one can request a description of the dataset:"
   ]
  },
  {
   "cell_type": "code",
   "execution_count": 8,
   "metadata": {},
   "outputs": [
    {
     "data": {
      "text/plain": [
       "'PFAS analyseresultaten aangeleverd door bodemsaneringsdeskundigen en opgenomen in de OVAM bodemdatabank.'"
      ]
     },
     "execution_count": 8,
     "metadata": {},
     "output_type": "execute_result"
    }
   ],
   "source": [
    "wfs_search.get_description()"
   ]
  },
  {
   "attachments": {},
   "cell_type": "markdown",
   "metadata": {},
   "source": [
    "And a list of available fields:"
   ]
  },
  {
   "cell_type": "code",
   "execution_count": 9,
   "metadata": {},
   "outputs": [
    {
     "name": "stdout",
     "output_type": "stream",
     "text": [
      "id\n",
      "opdracht\n",
      "pfasdossiernr\n",
      "profielnaam\n",
      "top_in_m\n",
      "basis_in_m\n",
      "jaar\n",
      "datum\n",
      "parameter\n",
      "detectieconditie\n",
      "meetwaarde\n",
      "meeteenheid\n",
      "medium\n",
      "profieltype\n",
      "plaatsing_profiel\n",
      "commentaar\n"
     ]
    }
   ],
   "source": [
    "fields = wfs_search.get_fields()\n",
    "\n",
    "# print available fields\n",
    "for f in fields.values():\n",
    "    print(f['name'])"
   ]
  },
  {
   "attachments": {},
   "cell_type": "markdown",
   "metadata": {},
   "source": [
    "You can get more information of a field by requesting it from the fields dictionary:\n",
    "\n",
    "* *name*: name of the field\n",
    "* *definition*: definition of this field, if available\n",
    "* *cost*: for generic WFS searches, this will be 1 in all cases\n",
    "* *notnull*: whether the field is mandatory or not\n",
    "* *type*: datatype of the values of this field"
   ]
  },
  {
   "cell_type": "code",
   "execution_count": 12,
   "metadata": {},
   "outputs": [
    {
     "data": {
      "text/plain": [
       "{'name': 'top_in_m',\n",
       " 'definition': 'De diepte t.o.v het maaiveld (top) van het geanalyseerde staal',\n",
       " 'type': 'float',\n",
       " 'notnull': False,\n",
       " 'query': True,\n",
       " 'cost': 1}"
      ]
     },
     "execution_count": 12,
     "metadata": {},
     "output_type": "execute_result"
    }
   ],
   "source": [
    "fields['top_in_m']"
   ]
  },
  {
   "attachments": {},
   "cell_type": "markdown",
   "metadata": {},
   "source": [
    "## Example use cases"
   ]
  },
  {
   "attachments": {},
   "cell_type": "markdown",
   "metadata": {},
   "source": [
    "### Get data in a bounding box"
   ]
  },
  {
   "attachments": {},
   "cell_type": "markdown",
   "metadata": {},
   "source": [
    "Get data for all features that are geographically located within the bounds of the specified box.\n",
    "\n",
    "The coordinates are in the Belgian Lambert72 (EPSG:31370) coordinate system and are given in the order of lower left x, lower left y, upper right x, upper right y."
   ]
  },
  {
   "cell_type": "code",
   "execution_count": 14,
   "metadata": {},
   "outputs": [
    {
     "name": "stdout",
     "output_type": "stream",
     "text": [
      "[000/001] .\n"
     ]
    },
    {
     "data": {
      "text/html": [
       "<div>\n",
       "<style scoped>\n",
       "    .dataframe tbody tr th:only-of-type {\n",
       "        vertical-align: middle;\n",
       "    }\n",
       "\n",
       "    .dataframe tbody tr th {\n",
       "        vertical-align: top;\n",
       "    }\n",
       "\n",
       "    .dataframe thead th {\n",
       "        text-align: right;\n",
       "    }\n",
       "</style>\n",
       "<table border=\"1\" class=\"dataframe\">\n",
       "  <thead>\n",
       "    <tr style=\"text-align: right;\">\n",
       "      <th></th>\n",
       "      <th>id</th>\n",
       "      <th>opdracht</th>\n",
       "      <th>pfasdossiernr</th>\n",
       "      <th>profielnaam</th>\n",
       "      <th>top_in_m</th>\n",
       "      <th>basis_in_m</th>\n",
       "      <th>jaar</th>\n",
       "      <th>datum</th>\n",
       "      <th>parameter</th>\n",
       "      <th>detectieconditie</th>\n",
       "      <th>meetwaarde</th>\n",
       "      <th>meeteenheid</th>\n",
       "      <th>medium</th>\n",
       "      <th>profieltype</th>\n",
       "      <th>plaatsing_profiel</th>\n",
       "      <th>commentaar</th>\n",
       "    </tr>\n",
       "  </thead>\n",
       "  <tbody>\n",
       "    <tr>\n",
       "      <th>0</th>\n",
       "      <td>32784976</td>\n",
       "      <td>13935544</td>\n",
       "      <td>61823</td>\n",
       "      <td>47</td>\n",
       "      <td>0.0</td>\n",
       "      <td>0.2</td>\n",
       "      <td>2021</td>\n",
       "      <td>2021-12-16</td>\n",
       "      <td>HFPO-DA</td>\n",
       "      <td>&lt;</td>\n",
       "      <td>1.0</td>\n",
       "      <td>µg/kg ds</td>\n",
       "      <td>Vaste deel van de aarde</td>\n",
       "      <td>Boring</td>\n",
       "      <td>2021-12-10</td>\n",
       "      <td></td>\n",
       "    </tr>\n",
       "    <tr>\n",
       "      <th>1</th>\n",
       "      <td>32784977</td>\n",
       "      <td>13935544</td>\n",
       "      <td>61823</td>\n",
       "      <td>47</td>\n",
       "      <td>0.0</td>\n",
       "      <td>0.2</td>\n",
       "      <td>2021</td>\n",
       "      <td>2021-12-16</td>\n",
       "      <td>MePFOSAtotal</td>\n",
       "      <td>&lt;</td>\n",
       "      <td>0.5</td>\n",
       "      <td>µg/kg ds</td>\n",
       "      <td>Vaste deel van de aarde</td>\n",
       "      <td>Boring</td>\n",
       "      <td>2021-12-10</td>\n",
       "      <td></td>\n",
       "    </tr>\n",
       "    <tr>\n",
       "      <th>2</th>\n",
       "      <td>32784978</td>\n",
       "      <td>13935544</td>\n",
       "      <td>61823</td>\n",
       "      <td>47</td>\n",
       "      <td>0.0</td>\n",
       "      <td>0.2</td>\n",
       "      <td>2021</td>\n",
       "      <td>2021-12-16</td>\n",
       "      <td>PFHpS</td>\n",
       "      <td>&lt;</td>\n",
       "      <td>0.2</td>\n",
       "      <td>µg/kg ds</td>\n",
       "      <td>Vaste deel van de aarde</td>\n",
       "      <td>Boring</td>\n",
       "      <td>2021-12-10</td>\n",
       "      <td></td>\n",
       "    </tr>\n",
       "    <tr>\n",
       "      <th>3</th>\n",
       "      <td>32784979</td>\n",
       "      <td>13935544</td>\n",
       "      <td>61823</td>\n",
       "      <td>47</td>\n",
       "      <td>0.0</td>\n",
       "      <td>0.2</td>\n",
       "      <td>2021</td>\n",
       "      <td>2021-12-16</td>\n",
       "      <td>4:2 FTS</td>\n",
       "      <td>&lt;</td>\n",
       "      <td>0.2</td>\n",
       "      <td>µg/kg ds</td>\n",
       "      <td>Vaste deel van de aarde</td>\n",
       "      <td>Boring</td>\n",
       "      <td>2021-12-10</td>\n",
       "      <td></td>\n",
       "    </tr>\n",
       "    <tr>\n",
       "      <th>4</th>\n",
       "      <td>32784980</td>\n",
       "      <td>13935544</td>\n",
       "      <td>61823</td>\n",
       "      <td>47</td>\n",
       "      <td>0.0</td>\n",
       "      <td>0.2</td>\n",
       "      <td>2021</td>\n",
       "      <td>2021-12-16</td>\n",
       "      <td>PFDA</td>\n",
       "      <td>&lt;</td>\n",
       "      <td>0.2</td>\n",
       "      <td>µg/kg ds</td>\n",
       "      <td>Vaste deel van de aarde</td>\n",
       "      <td>Boring</td>\n",
       "      <td>2021-12-10</td>\n",
       "      <td></td>\n",
       "    </tr>\n",
       "  </tbody>\n",
       "</table>\n",
       "</div>"
      ],
      "text/plain": [
       "         id  opdracht  pfasdossiernr profielnaam  top_in_m  basis_in_m  jaar  \\\n",
       "0  32784976  13935544          61823          47       0.0         0.2  2021   \n",
       "1  32784977  13935544          61823          47       0.0         0.2  2021   \n",
       "2  32784978  13935544          61823          47       0.0         0.2  2021   \n",
       "3  32784979  13935544          61823          47       0.0         0.2  2021   \n",
       "4  32784980  13935544          61823          47       0.0         0.2  2021   \n",
       "\n",
       "        datum     parameter detectieconditie  meetwaarde meeteenheid  \\\n",
       "0  2021-12-16       HFPO-DA                <         1.0    µg/kg ds   \n",
       "1  2021-12-16  MePFOSAtotal                <         0.5    µg/kg ds   \n",
       "2  2021-12-16         PFHpS                <         0.2    µg/kg ds   \n",
       "3  2021-12-16       4:2 FTS                <         0.2    µg/kg ds   \n",
       "4  2021-12-16          PFDA                <         0.2    µg/kg ds   \n",
       "\n",
       "                    medium profieltype plaatsing_profiel commentaar  \n",
       "0  Vaste deel van de aarde      Boring        2021-12-10             \n",
       "1  Vaste deel van de aarde      Boring        2021-12-10             \n",
       "2  Vaste deel van de aarde      Boring        2021-12-10             \n",
       "3  Vaste deel van de aarde      Boring        2021-12-10             \n",
       "4  Vaste deel van de aarde      Boring        2021-12-10             "
      ]
     },
     "execution_count": 14,
     "metadata": {},
     "output_type": "execute_result"
    }
   ],
   "source": [
    "from pydov.util.location import Within, Box\n",
    "\n",
    "df = wfs_search.search(location=Within(Box(143400, 217000, 144000, 217200)))\n",
    "df.head()"
   ]
  },
  {
   "attachments": {},
   "cell_type": "markdown",
   "metadata": {},
   "source": [
    "### Get data with specific properties"
   ]
  },
  {
   "attachments": {},
   "cell_type": "markdown",
   "metadata": {},
   "source": [
    "Next to querying data based on its geographic location within a bounding box, we can also search for data matching a specific set of properties. For this we can build a query using a combination of the available fields and operators provided by the WFS protocol.\n",
    "\n",
    "A list of possible operators can be found below:"
   ]
  },
  {
   "cell_type": "code",
   "execution_count": 19,
   "metadata": {},
   "outputs": [
    {
     "data": {
      "text/plain": [
       "['PropertyIsBetween',\n",
       " 'PropertyIsEqualTo',\n",
       " 'PropertyIsGreaterThan',\n",
       " 'PropertyIsGreaterThanOrEqualTo',\n",
       " 'PropertyIsLessThan',\n",
       " 'PropertyIsLessThanOrEqualTo',\n",
       " 'PropertyIsLike',\n",
       " 'PropertyIsNotEqualTo',\n",
       " 'PropertyIsNull',\n",
       " 'SortProperty']"
      ]
     },
     "execution_count": 19,
     "metadata": {},
     "output_type": "execute_result"
    }
   ],
   "source": [
    "[i for i,j in inspect.getmembers(sys.modules['owslib.fes2'], inspect.isclass) if 'Property' in i]"
   ]
  },
  {
   "cell_type": "markdown",
   "metadata": {},
   "source": [
    "In this example we build a query using the *PropertyIsEqualTo* operator to find all data for the parameter 'PFDA':"
   ]
  },
  {
   "cell_type": "code",
   "execution_count": 22,
   "metadata": {},
   "outputs": [
    {
     "name": "stdout",
     "output_type": "stream",
     "text": [
      "[000/001] .\n"
     ]
    },
    {
     "data": {
      "text/html": [
       "<div>\n",
       "<style scoped>\n",
       "    .dataframe tbody tr th:only-of-type {\n",
       "        vertical-align: middle;\n",
       "    }\n",
       "\n",
       "    .dataframe tbody tr th {\n",
       "        vertical-align: top;\n",
       "    }\n",
       "\n",
       "    .dataframe thead th {\n",
       "        text-align: right;\n",
       "    }\n",
       "</style>\n",
       "<table border=\"1\" class=\"dataframe\">\n",
       "  <thead>\n",
       "    <tr style=\"text-align: right;\">\n",
       "      <th></th>\n",
       "      <th>id</th>\n",
       "      <th>opdracht</th>\n",
       "      <th>pfasdossiernr</th>\n",
       "      <th>profielnaam</th>\n",
       "      <th>top_in_m</th>\n",
       "      <th>basis_in_m</th>\n",
       "      <th>jaar</th>\n",
       "      <th>datum</th>\n",
       "      <th>parameter</th>\n",
       "      <th>detectieconditie</th>\n",
       "      <th>meetwaarde</th>\n",
       "      <th>meeteenheid</th>\n",
       "      <th>medium</th>\n",
       "      <th>profieltype</th>\n",
       "      <th>plaatsing_profiel</th>\n",
       "      <th>commentaar</th>\n",
       "    </tr>\n",
       "  </thead>\n",
       "  <tbody>\n",
       "    <tr>\n",
       "      <th>0</th>\n",
       "      <td>31063085</td>\n",
       "      <td>13077062</td>\n",
       "      <td>6180</td>\n",
       "      <td>PB31</td>\n",
       "      <td>0.2</td>\n",
       "      <td>2.2</td>\n",
       "      <td>2021</td>\n",
       "      <td>2021-06-16</td>\n",
       "      <td>PFDA</td>\n",
       "      <td>&lt;</td>\n",
       "      <td>0.02</td>\n",
       "      <td>µg/l</td>\n",
       "      <td>Grondwater</td>\n",
       "      <td>Peilbuis</td>\n",
       "      <td>NaN</td>\n",
       "      <td></td>\n",
       "    </tr>\n",
       "    <tr>\n",
       "      <th>1</th>\n",
       "      <td>31063205</td>\n",
       "      <td>13077062</td>\n",
       "      <td>6180</td>\n",
       "      <td>108</td>\n",
       "      <td>0.5</td>\n",
       "      <td>0.7</td>\n",
       "      <td>2021</td>\n",
       "      <td>2021-06-01</td>\n",
       "      <td>PFDA</td>\n",
       "      <td>&lt;</td>\n",
       "      <td>0.20</td>\n",
       "      <td>µg/kg ds</td>\n",
       "      <td>Vaste deel van de aarde</td>\n",
       "      <td>Boring</td>\n",
       "      <td>2021-05-21</td>\n",
       "      <td></td>\n",
       "    </tr>\n",
       "    <tr>\n",
       "      <th>2</th>\n",
       "      <td>31063324</td>\n",
       "      <td>13077062</td>\n",
       "      <td>6180</td>\n",
       "      <td>109</td>\n",
       "      <td>0.5</td>\n",
       "      <td>0.7</td>\n",
       "      <td>2021</td>\n",
       "      <td>2021-05-28</td>\n",
       "      <td>PFDA</td>\n",
       "      <td>&lt;</td>\n",
       "      <td>0.20</td>\n",
       "      <td>µg/kg ds</td>\n",
       "      <td>Vaste deel van de aarde</td>\n",
       "      <td>Boring</td>\n",
       "      <td>2021-05-21</td>\n",
       "      <td></td>\n",
       "    </tr>\n",
       "    <tr>\n",
       "      <th>3</th>\n",
       "      <td>31063593</td>\n",
       "      <td>13077062</td>\n",
       "      <td>6180</td>\n",
       "      <td>PB32</td>\n",
       "      <td>0.5</td>\n",
       "      <td>2.5</td>\n",
       "      <td>2021</td>\n",
       "      <td>2021-06-16</td>\n",
       "      <td>PFDA</td>\n",
       "      <td>&lt;</td>\n",
       "      <td>0.02</td>\n",
       "      <td>µg/l</td>\n",
       "      <td>Grondwater</td>\n",
       "      <td>Peilbuis</td>\n",
       "      <td>NaN</td>\n",
       "      <td></td>\n",
       "    </tr>\n",
       "    <tr>\n",
       "      <th>4</th>\n",
       "      <td>31151190</td>\n",
       "      <td>13123519</td>\n",
       "      <td>22248</td>\n",
       "      <td>P101</td>\n",
       "      <td>1.5</td>\n",
       "      <td>3.5</td>\n",
       "      <td>2021</td>\n",
       "      <td>2021-06-30</td>\n",
       "      <td>PFDA</td>\n",
       "      <td>&lt;</td>\n",
       "      <td>1.00</td>\n",
       "      <td>ng/l</td>\n",
       "      <td>Grondwater</td>\n",
       "      <td>Peilbuis</td>\n",
       "      <td>2021-06-11</td>\n",
       "      <td></td>\n",
       "    </tr>\n",
       "  </tbody>\n",
       "</table>\n",
       "</div>"
      ],
      "text/plain": [
       "         id  opdracht  pfasdossiernr profielnaam  top_in_m  basis_in_m  jaar  \\\n",
       "0  31063085  13077062           6180        PB31       0.2         2.2  2021   \n",
       "1  31063205  13077062           6180         108       0.5         0.7  2021   \n",
       "2  31063324  13077062           6180         109       0.5         0.7  2021   \n",
       "3  31063593  13077062           6180        PB32       0.5         2.5  2021   \n",
       "4  31151190  13123519          22248        P101       1.5         3.5  2021   \n",
       "\n",
       "        datum parameter detectieconditie  meetwaarde meeteenheid  \\\n",
       "0  2021-06-16      PFDA                <        0.02        µg/l   \n",
       "1  2021-06-01      PFDA                <        0.20    µg/kg ds   \n",
       "2  2021-05-28      PFDA                <        0.20    µg/kg ds   \n",
       "3  2021-06-16      PFDA                <        0.02        µg/l   \n",
       "4  2021-06-30      PFDA                <        1.00        ng/l   \n",
       "\n",
       "                    medium profieltype plaatsing_profiel commentaar  \n",
       "0               Grondwater    Peilbuis               NaN             \n",
       "1  Vaste deel van de aarde      Boring        2021-05-21             \n",
       "2  Vaste deel van de aarde      Boring        2021-05-21             \n",
       "3               Grondwater    Peilbuis               NaN             \n",
       "4               Grondwater    Peilbuis        2021-06-11             "
      ]
     },
     "execution_count": 22,
     "metadata": {},
     "output_type": "execute_result"
    }
   ],
   "source": [
    "from owslib.fes2 import PropertyIsEqualTo\n",
    "\n",
    "query = PropertyIsEqualTo(propertyname='parameter',\n",
    "                          literal='PFDA')\n",
    "df = wfs_search.search(query=query)\n",
    "\n",
    "df.head()"
   ]
  },
  {
   "attachments": {},
   "cell_type": "markdown",
   "metadata": {},
   "source": [
    "### Get data in a bounding box based on specific properties"
   ]
  },
  {
   "attachments": {},
   "cell_type": "markdown",
   "metadata": {},
   "source": [
    "We can combine a query on attributes with a query on geographic location to get the data within a bounding box that have specific properties.\n",
    "\n",
    "The following example requests the data for the parameter PFDA within the given bounding box.\n",
    "\n",
    "(Note that the datatype of the *literal* parameter should be a string, regardless of the datatype of this field in the output dataframe.)"
   ]
  },
  {
   "cell_type": "code",
   "execution_count": 23,
   "metadata": {},
   "outputs": [
    {
     "name": "stdout",
     "output_type": "stream",
     "text": [
      "[000/001] .\n"
     ]
    },
    {
     "data": {
      "text/html": [
       "<div>\n",
       "<style scoped>\n",
       "    .dataframe tbody tr th:only-of-type {\n",
       "        vertical-align: middle;\n",
       "    }\n",
       "\n",
       "    .dataframe tbody tr th {\n",
       "        vertical-align: top;\n",
       "    }\n",
       "\n",
       "    .dataframe thead th {\n",
       "        text-align: right;\n",
       "    }\n",
       "</style>\n",
       "<table border=\"1\" class=\"dataframe\">\n",
       "  <thead>\n",
       "    <tr style=\"text-align: right;\">\n",
       "      <th></th>\n",
       "      <th>id</th>\n",
       "      <th>opdracht</th>\n",
       "      <th>pfasdossiernr</th>\n",
       "      <th>profielnaam</th>\n",
       "      <th>top_in_m</th>\n",
       "      <th>basis_in_m</th>\n",
       "      <th>jaar</th>\n",
       "      <th>datum</th>\n",
       "      <th>parameter</th>\n",
       "      <th>detectieconditie</th>\n",
       "      <th>meetwaarde</th>\n",
       "      <th>meeteenheid</th>\n",
       "      <th>medium</th>\n",
       "      <th>profieltype</th>\n",
       "      <th>plaatsing_profiel</th>\n",
       "      <th>commentaar</th>\n",
       "    </tr>\n",
       "  </thead>\n",
       "  <tbody>\n",
       "    <tr>\n",
       "      <th>0</th>\n",
       "      <td>32784980</td>\n",
       "      <td>13935544</td>\n",
       "      <td>61823</td>\n",
       "      <td>47</td>\n",
       "      <td>0.0</td>\n",
       "      <td>0.2</td>\n",
       "      <td>2021</td>\n",
       "      <td>2021-12-16</td>\n",
       "      <td>PFDA</td>\n",
       "      <td>&lt;</td>\n",
       "      <td>0.2</td>\n",
       "      <td>µg/kg ds</td>\n",
       "      <td>Vaste deel van de aarde</td>\n",
       "      <td>Boring</td>\n",
       "      <td>2021-12-10</td>\n",
       "      <td></td>\n",
       "    </tr>\n",
       "    <tr>\n",
       "      <th>1</th>\n",
       "      <td>32785041</td>\n",
       "      <td>13935544</td>\n",
       "      <td>61823</td>\n",
       "      <td>44</td>\n",
       "      <td>0.0</td>\n",
       "      <td>0.2</td>\n",
       "      <td>2021</td>\n",
       "      <td>2021-12-16</td>\n",
       "      <td>PFDA</td>\n",
       "      <td>&lt;</td>\n",
       "      <td>0.2</td>\n",
       "      <td>µg/kg ds</td>\n",
       "      <td>Vaste deel van de aarde</td>\n",
       "      <td>Boring</td>\n",
       "      <td>2021-12-10</td>\n",
       "      <td></td>\n",
       "    </tr>\n",
       "    <tr>\n",
       "      <th>2</th>\n",
       "      <td>32785070</td>\n",
       "      <td>13935544</td>\n",
       "      <td>61823</td>\n",
       "      <td>PB7</td>\n",
       "      <td>0.0</td>\n",
       "      <td>0.0</td>\n",
       "      <td>2022</td>\n",
       "      <td>2022-01-18</td>\n",
       "      <td>PFDA</td>\n",
       "      <td>&lt;</td>\n",
       "      <td>1.0</td>\n",
       "      <td>ng/l</td>\n",
       "      <td>Grondwater</td>\n",
       "      <td>Peilbuis</td>\n",
       "      <td>2021-12-10</td>\n",
       "      <td></td>\n",
       "    </tr>\n",
       "    <tr>\n",
       "      <th>3</th>\n",
       "      <td>32785099</td>\n",
       "      <td>13935544</td>\n",
       "      <td>61823</td>\n",
       "      <td>46</td>\n",
       "      <td>0.0</td>\n",
       "      <td>0.2</td>\n",
       "      <td>2021</td>\n",
       "      <td>2021-12-16</td>\n",
       "      <td>PFDA</td>\n",
       "      <td>&lt;</td>\n",
       "      <td>0.2</td>\n",
       "      <td>µg/kg ds</td>\n",
       "      <td>Vaste deel van de aarde</td>\n",
       "      <td>Boring</td>\n",
       "      <td>2021-12-10</td>\n",
       "      <td></td>\n",
       "    </tr>\n",
       "    <tr>\n",
       "      <th>4</th>\n",
       "      <td>32785131</td>\n",
       "      <td>13935544</td>\n",
       "      <td>61823</td>\n",
       "      <td>40</td>\n",
       "      <td>6.1</td>\n",
       "      <td>7.1</td>\n",
       "      <td>2021</td>\n",
       "      <td>2021-12-20</td>\n",
       "      <td>PFDA</td>\n",
       "      <td>&lt;</td>\n",
       "      <td>1.0</td>\n",
       "      <td>ng/l</td>\n",
       "      <td>Grondwater</td>\n",
       "      <td>Peilbuis</td>\n",
       "      <td>2019-10-10</td>\n",
       "      <td></td>\n",
       "    </tr>\n",
       "  </tbody>\n",
       "</table>\n",
       "</div>"
      ],
      "text/plain": [
       "         id  opdracht  pfasdossiernr profielnaam  top_in_m  basis_in_m  jaar  \\\n",
       "0  32784980  13935544          61823          47       0.0         0.2  2021   \n",
       "1  32785041  13935544          61823          44       0.0         0.2  2021   \n",
       "2  32785070  13935544          61823         PB7       0.0         0.0  2022   \n",
       "3  32785099  13935544          61823          46       0.0         0.2  2021   \n",
       "4  32785131  13935544          61823          40       6.1         7.1  2021   \n",
       "\n",
       "        datum parameter detectieconditie  meetwaarde meeteenheid  \\\n",
       "0  2021-12-16      PFDA                <         0.2    µg/kg ds   \n",
       "1  2021-12-16      PFDA                <         0.2    µg/kg ds   \n",
       "2  2022-01-18      PFDA                <         1.0        ng/l   \n",
       "3  2021-12-16      PFDA                <         0.2    µg/kg ds   \n",
       "4  2021-12-20      PFDA                <         1.0        ng/l   \n",
       "\n",
       "                    medium profieltype plaatsing_profiel commentaar  \n",
       "0  Vaste deel van de aarde      Boring        2021-12-10             \n",
       "1  Vaste deel van de aarde      Boring        2021-12-10             \n",
       "2               Grondwater    Peilbuis        2021-12-10             \n",
       "3  Vaste deel van de aarde      Boring        2021-12-10             \n",
       "4               Grondwater    Peilbuis        2019-10-10             "
      ]
     },
     "execution_count": 23,
     "metadata": {},
     "output_type": "execute_result"
    }
   ],
   "source": [
    "from pydov.util.location import Within, Box\n",
    "\n",
    "df = wfs_search.search(\n",
    "    query=PropertyIsEqualTo(propertyname='parameter', literal='PFDA'),\n",
    "    location=Within(Box(143400, 217000, 144000, 217200))\n",
    ")\n",
    "df.head()\n"
   ]
  },
  {
   "attachments": {},
   "cell_type": "markdown",
   "metadata": {},
   "source": [
    "### Select data and return a subset of columns"
   ]
  },
  {
   "attachments": {},
   "cell_type": "markdown",
   "metadata": {},
   "source": [
    "We can limit the columns in the output dataframe by specifying the *return_fields* parameter in our search.\n",
    "\n",
    "In this example we query all the data in a bounding box, but only return some of the fields:"
   ]
  },
  {
   "cell_type": "code",
   "execution_count": 24,
   "metadata": {},
   "outputs": [
    {
     "name": "stdout",
     "output_type": "stream",
     "text": [
      "[000/001] .\n"
     ]
    },
    {
     "data": {
      "text/html": [
       "<div>\n",
       "<style scoped>\n",
       "    .dataframe tbody tr th:only-of-type {\n",
       "        vertical-align: middle;\n",
       "    }\n",
       "\n",
       "    .dataframe tbody tr th {\n",
       "        vertical-align: top;\n",
       "    }\n",
       "\n",
       "    .dataframe thead th {\n",
       "        text-align: right;\n",
       "    }\n",
       "</style>\n",
       "<table border=\"1\" class=\"dataframe\">\n",
       "  <thead>\n",
       "    <tr style=\"text-align: right;\">\n",
       "      <th></th>\n",
       "      <th>datum</th>\n",
       "      <th>parameter</th>\n",
       "      <th>detectieconditie</th>\n",
       "      <th>meetwaarde</th>\n",
       "      <th>meeteenheid</th>\n",
       "      <th>medium</th>\n",
       "    </tr>\n",
       "  </thead>\n",
       "  <tbody>\n",
       "    <tr>\n",
       "      <th>0</th>\n",
       "      <td>2021-12-16</td>\n",
       "      <td>HFPO-DA</td>\n",
       "      <td>&lt;</td>\n",
       "      <td>1.0</td>\n",
       "      <td>µg/kg ds</td>\n",
       "      <td>Vaste deel van de aarde</td>\n",
       "    </tr>\n",
       "    <tr>\n",
       "      <th>1</th>\n",
       "      <td>2021-12-16</td>\n",
       "      <td>MePFOSAtotal</td>\n",
       "      <td>&lt;</td>\n",
       "      <td>0.5</td>\n",
       "      <td>µg/kg ds</td>\n",
       "      <td>Vaste deel van de aarde</td>\n",
       "    </tr>\n",
       "    <tr>\n",
       "      <th>2</th>\n",
       "      <td>2021-12-16</td>\n",
       "      <td>PFHpS</td>\n",
       "      <td>&lt;</td>\n",
       "      <td>0.2</td>\n",
       "      <td>µg/kg ds</td>\n",
       "      <td>Vaste deel van de aarde</td>\n",
       "    </tr>\n",
       "    <tr>\n",
       "      <th>3</th>\n",
       "      <td>2021-12-16</td>\n",
       "      <td>4:2 FTS</td>\n",
       "      <td>&lt;</td>\n",
       "      <td>0.2</td>\n",
       "      <td>µg/kg ds</td>\n",
       "      <td>Vaste deel van de aarde</td>\n",
       "    </tr>\n",
       "    <tr>\n",
       "      <th>4</th>\n",
       "      <td>2021-12-16</td>\n",
       "      <td>PFDA</td>\n",
       "      <td>&lt;</td>\n",
       "      <td>0.2</td>\n",
       "      <td>µg/kg ds</td>\n",
       "      <td>Vaste deel van de aarde</td>\n",
       "    </tr>\n",
       "  </tbody>\n",
       "</table>\n",
       "</div>"
      ],
      "text/plain": [
       "        datum     parameter detectieconditie  meetwaarde meeteenheid  \\\n",
       "0  2021-12-16       HFPO-DA                <         1.0    µg/kg ds   \n",
       "1  2021-12-16  MePFOSAtotal                <         0.5    µg/kg ds   \n",
       "2  2021-12-16         PFHpS                <         0.2    µg/kg ds   \n",
       "3  2021-12-16       4:2 FTS                <         0.2    µg/kg ds   \n",
       "4  2021-12-16          PFDA                <         0.2    µg/kg ds   \n",
       "\n",
       "                    medium  \n",
       "0  Vaste deel van de aarde  \n",
       "1  Vaste deel van de aarde  \n",
       "2  Vaste deel van de aarde  \n",
       "3  Vaste deel van de aarde  \n",
       "4  Vaste deel van de aarde  "
      ]
     },
     "execution_count": 24,
     "metadata": {},
     "output_type": "execute_result"
    }
   ],
   "source": [
    "from pydov.util.location import Within, Box\n",
    "\n",
    "df = wfs_search.search(\n",
    "    location=Within(Box(143400, 217000, 144000, 217200)),\n",
    "    return_fields=['datum', 'parameter', 'detectieconditie', 'meetwaarde', 'meeteenheid', 'medium']\n",
    ")\n",
    "df.head()"
   ]
  },
  {
   "attachments": {},
   "cell_type": "markdown",
   "metadata": {},
   "source": [
    "### Using sorting and limiting to find the most recent data"
   ]
  },
  {
   "attachments": {},
   "cell_type": "markdown",
   "metadata": {},
   "source": [
    "You can use sorting and limiting to find the highest, deepest, oldest, newest, ... data, depending on the available fields.\n",
    "\n",
    "In this example we search for the 100 most recent records:"
   ]
  },
  {
   "cell_type": "code",
   "execution_count": 25,
   "metadata": {},
   "outputs": [
    {
     "name": "stdout",
     "output_type": "stream",
     "text": [
      "[000/001] .\n"
     ]
    },
    {
     "data": {
      "text/html": [
       "<div>\n",
       "<style scoped>\n",
       "    .dataframe tbody tr th:only-of-type {\n",
       "        vertical-align: middle;\n",
       "    }\n",
       "\n",
       "    .dataframe tbody tr th {\n",
       "        vertical-align: top;\n",
       "    }\n",
       "\n",
       "    .dataframe thead th {\n",
       "        text-align: right;\n",
       "    }\n",
       "</style>\n",
       "<table border=\"1\" class=\"dataframe\">\n",
       "  <thead>\n",
       "    <tr style=\"text-align: right;\">\n",
       "      <th></th>\n",
       "      <th>id</th>\n",
       "      <th>opdracht</th>\n",
       "      <th>pfasdossiernr</th>\n",
       "      <th>profielnaam</th>\n",
       "      <th>top_in_m</th>\n",
       "      <th>basis_in_m</th>\n",
       "      <th>jaar</th>\n",
       "      <th>datum</th>\n",
       "      <th>parameter</th>\n",
       "      <th>detectieconditie</th>\n",
       "      <th>meetwaarde</th>\n",
       "      <th>meeteenheid</th>\n",
       "      <th>medium</th>\n",
       "      <th>profieltype</th>\n",
       "      <th>plaatsing_profiel</th>\n",
       "      <th>commentaar</th>\n",
       "    </tr>\n",
       "  </thead>\n",
       "  <tbody>\n",
       "    <tr>\n",
       "      <th>0</th>\n",
       "      <td>34442568</td>\n",
       "      <td>14771859</td>\n",
       "      <td>100624</td>\n",
       "      <td>1</td>\n",
       "      <td>2.57</td>\n",
       "      <td>3.57</td>\n",
       "      <td>2023</td>\n",
       "      <td>2023-03-10</td>\n",
       "      <td>PFDS</td>\n",
       "      <td>&lt;</td>\n",
       "      <td>10.0</td>\n",
       "      <td>ng/l</td>\n",
       "      <td>Grondwater</td>\n",
       "      <td>Peilbuis</td>\n",
       "      <td>2023-02-22</td>\n",
       "      <td></td>\n",
       "    </tr>\n",
       "    <tr>\n",
       "      <th>1</th>\n",
       "      <td>34442573</td>\n",
       "      <td>14771859</td>\n",
       "      <td>100624</td>\n",
       "      <td>1</td>\n",
       "      <td>2.57</td>\n",
       "      <td>3.57</td>\n",
       "      <td>2023</td>\n",
       "      <td>2023-03-10</td>\n",
       "      <td>8:2 FTS</td>\n",
       "      <td>&lt;</td>\n",
       "      <td>10.0</td>\n",
       "      <td>ng/l</td>\n",
       "      <td>Grondwater</td>\n",
       "      <td>Peilbuis</td>\n",
       "      <td>2023-02-22</td>\n",
       "      <td></td>\n",
       "    </tr>\n",
       "    <tr>\n",
       "      <th>2</th>\n",
       "      <td>34442308</td>\n",
       "      <td>14771859</td>\n",
       "      <td>100624</td>\n",
       "      <td>5</td>\n",
       "      <td>2.34</td>\n",
       "      <td>3.34</td>\n",
       "      <td>2023</td>\n",
       "      <td>2023-03-10</td>\n",
       "      <td>EPtPFOSAA</td>\n",
       "      <td>&lt;</td>\n",
       "      <td>10.0</td>\n",
       "      <td>ng/l</td>\n",
       "      <td>Grondwater</td>\n",
       "      <td>Peilbuis</td>\n",
       "      <td>2023-02-23</td>\n",
       "      <td></td>\n",
       "    </tr>\n",
       "    <tr>\n",
       "      <th>3</th>\n",
       "      <td>34442567</td>\n",
       "      <td>14771859</td>\n",
       "      <td>100624</td>\n",
       "      <td>1</td>\n",
       "      <td>2.57</td>\n",
       "      <td>3.57</td>\n",
       "      <td>2023</td>\n",
       "      <td>2023-03-10</td>\n",
       "      <td>Som Indicatief</td>\n",
       "      <td>&lt;</td>\n",
       "      <td>50.0</td>\n",
       "      <td>ng/l</td>\n",
       "      <td>Grondwater</td>\n",
       "      <td>Peilbuis</td>\n",
       "      <td>2023-02-22</td>\n",
       "      <td></td>\n",
       "    </tr>\n",
       "    <tr>\n",
       "      <th>4</th>\n",
       "      <td>34442596</td>\n",
       "      <td>14771859</td>\n",
       "      <td>100624</td>\n",
       "      <td>1</td>\n",
       "      <td>2.57</td>\n",
       "      <td>3.57</td>\n",
       "      <td>2023</td>\n",
       "      <td>2023-03-10</td>\n",
       "      <td>PFECHS</td>\n",
       "      <td>&lt;</td>\n",
       "      <td>10.0</td>\n",
       "      <td>ng/l</td>\n",
       "      <td>Grondwater</td>\n",
       "      <td>Peilbuis</td>\n",
       "      <td>2023-02-22</td>\n",
       "      <td></td>\n",
       "    </tr>\n",
       "  </tbody>\n",
       "</table>\n",
       "</div>"
      ],
      "text/plain": [
       "         id  opdracht  pfasdossiernr profielnaam  top_in_m  basis_in_m  jaar  \\\n",
       "0  34442568  14771859         100624           1      2.57        3.57  2023   \n",
       "1  34442573  14771859         100624           1      2.57        3.57  2023   \n",
       "2  34442308  14771859         100624           5      2.34        3.34  2023   \n",
       "3  34442567  14771859         100624           1      2.57        3.57  2023   \n",
       "4  34442596  14771859         100624           1      2.57        3.57  2023   \n",
       "\n",
       "        datum       parameter detectieconditie  meetwaarde meeteenheid  \\\n",
       "0  2023-03-10            PFDS                <        10.0        ng/l   \n",
       "1  2023-03-10         8:2 FTS                <        10.0        ng/l   \n",
       "2  2023-03-10       EPtPFOSAA                <        10.0        ng/l   \n",
       "3  2023-03-10  Som Indicatief                <        50.0        ng/l   \n",
       "4  2023-03-10          PFECHS                <        10.0        ng/l   \n",
       "\n",
       "       medium profieltype plaatsing_profiel commentaar  \n",
       "0  Grondwater    Peilbuis        2023-02-22             \n",
       "1  Grondwater    Peilbuis        2023-02-22             \n",
       "2  Grondwater    Peilbuis        2023-02-23             \n",
       "3  Grondwater    Peilbuis        2023-02-22             \n",
       "4  Grondwater    Peilbuis        2023-02-22             "
      ]
     },
     "execution_count": 25,
     "metadata": {},
     "output_type": "execute_result"
    }
   ],
   "source": [
    "from owslib.fes2 import SortBy, SortProperty\n",
    "\n",
    "df = wfs_search.search(\n",
    "    sort_by=SortBy([SortProperty('datum', 'DESC')]),\n",
    "    max_features=100\n",
    ")\n",
    "df.head()"
   ]
  },
  {
   "attachments": {},
   "cell_type": "markdown",
   "metadata": {},
   "source": [
    "### Combining attribute queries to limit your results"
   ]
  },
  {
   "attachments": {},
   "cell_type": "markdown",
   "metadata": {},
   "source": [
    "You can combine multiple attribute queries to construct and advanced query to search for exactly what you're looking for. This will be more performant than requesting more data and doing the filtering afterwards.\n",
    "\n",
    "In this example we search for data in given bounding box, for a given year, parameter and medium which exceeds a certain value:"
   ]
  },
  {
   "cell_type": "code",
   "execution_count": 36,
   "metadata": {},
   "outputs": [
    {
     "name": "stdout",
     "output_type": "stream",
     "text": [
      "[000/001] .\n"
     ]
    },
    {
     "data": {
      "text/html": [
       "<div>\n",
       "<style scoped>\n",
       "    .dataframe tbody tr th:only-of-type {\n",
       "        vertical-align: middle;\n",
       "    }\n",
       "\n",
       "    .dataframe tbody tr th {\n",
       "        vertical-align: top;\n",
       "    }\n",
       "\n",
       "    .dataframe thead th {\n",
       "        text-align: right;\n",
       "    }\n",
       "</style>\n",
       "<table border=\"1\" class=\"dataframe\">\n",
       "  <thead>\n",
       "    <tr style=\"text-align: right;\">\n",
       "      <th></th>\n",
       "      <th>id</th>\n",
       "      <th>opdracht</th>\n",
       "      <th>pfasdossiernr</th>\n",
       "      <th>profielnaam</th>\n",
       "      <th>top_in_m</th>\n",
       "      <th>basis_in_m</th>\n",
       "      <th>jaar</th>\n",
       "      <th>datum</th>\n",
       "      <th>parameter</th>\n",
       "      <th>detectieconditie</th>\n",
       "      <th>meetwaarde</th>\n",
       "      <th>meeteenheid</th>\n",
       "      <th>medium</th>\n",
       "      <th>profieltype</th>\n",
       "      <th>plaatsing_profiel</th>\n",
       "      <th>commentaar</th>\n",
       "    </tr>\n",
       "  </thead>\n",
       "  <tbody>\n",
       "    <tr>\n",
       "      <th>0</th>\n",
       "      <td>32785070</td>\n",
       "      <td>13935544</td>\n",
       "      <td>61823</td>\n",
       "      <td>PB7</td>\n",
       "      <td>0.0</td>\n",
       "      <td>0.0</td>\n",
       "      <td>2022</td>\n",
       "      <td>2022-01-18</td>\n",
       "      <td>PFDA</td>\n",
       "      <td>&lt;</td>\n",
       "      <td>1.0</td>\n",
       "      <td>ng/l</td>\n",
       "      <td>Grondwater</td>\n",
       "      <td>Peilbuis</td>\n",
       "      <td>2021-12-10</td>\n",
       "      <td></td>\n",
       "    </tr>\n",
       "  </tbody>\n",
       "</table>\n",
       "</div>"
      ],
      "text/plain": [
       "         id  opdracht  pfasdossiernr profielnaam  top_in_m  basis_in_m  jaar  \\\n",
       "0  32785070  13935544          61823         PB7       0.0         0.0  2022   \n",
       "\n",
       "        datum parameter detectieconditie  meetwaarde meeteenheid      medium  \\\n",
       "0  2022-01-18      PFDA                <         1.0        ng/l  Grondwater   \n",
       "\n",
       "  profieltype plaatsing_profiel commentaar  \n",
       "0    Peilbuis        2021-12-10             "
      ]
     },
     "execution_count": 36,
     "metadata": {},
     "output_type": "execute_result"
    }
   ],
   "source": [
    "from pydov.util.location import Within, Box\n",
    "from owslib.fes2 import PropertyIsEqualTo, PropertyIsGreaterThan, And\n",
    "\n",
    "df = wfs_search.search(\n",
    "    query=And([\n",
    "        PropertyIsEqualTo(propertyname='jaar', literal='2022'),\n",
    "        PropertyIsEqualTo(propertyname='parameter', literal='PFDA'),\n",
    "        PropertyIsEqualTo(propertyname='medium', literal='Grondwater'),\n",
    "        PropertyIsGreaterThan(propertyname='meetwaarde', literal='0.5'),\n",
    "    ]),\n",
    "    location=Within(Box(143400, 217000, 144000, 217200))\n",
    ")\n",
    "df.head()"
   ]
  }
 ],
 "metadata": {
  "kernelspec": {
   "display_name": ".venv",
   "language": "python",
   "name": "python3"
  },
  "language_info": {
   "codemirror_mode": {
    "name": "ipython",
    "version": 3
   },
   "file_extension": ".py",
   "mimetype": "text/x-python",
   "name": "python",
   "nbconvert_exporter": "python",
   "pygments_lexer": "ipython3",
   "version": "3.10.6"
  },
  "orig_nbformat": 4
 },
 "nbformat": 4,
 "nbformat_minor": 2
}
