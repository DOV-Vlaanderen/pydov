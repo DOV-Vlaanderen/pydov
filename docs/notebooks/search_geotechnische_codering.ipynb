{
 "cells": [
  {
   "cell_type": "markdown",
   "metadata": {},
   "source": [
    "# Example of DOV search methods for interpretations (geotechnische codering)"
   ]
  },
  {
   "cell_type": "markdown",
   "metadata": {},
   "source": [
    "[![Binder](https://mybinder.org/badge_logo.svg)](https://mybinder.org/v2/gh/DOV-Vlaanderen/pydov/master?filepath=docs%2Fnotebooks%2Fsearch_geotechnische_codering.ipynb)"
   ]
  },
  {
   "cell_type": "markdown",
   "metadata": {},
   "source": [
    "## Use cases explained below\n",
    "* Get 'geotechnische codering' in a bounding box\n",
    "* Get 'geotechnische codering' with specific properties within a distance from a point\n",
    "* Get 'geotechnische codering' in a bounding box with specific properties\n",
    "* Get 'geotechnische codering' based on fields not available in the standard output dataframe\n",
    "* Get 'geotechnische codering' data, returning fields not available in the standard output dataframe"
   ]
  },
  {
   "cell_type": "code",
   "execution_count": 1,
   "metadata": {},
   "outputs": [],
   "source": [
    "%matplotlib inline\n",
    "import inspect, sys"
   ]
  },
  {
   "cell_type": "code",
   "execution_count": 2,
   "metadata": {},
   "outputs": [],
   "source": [
    "# check pydov path\n",
    "import pydov"
   ]
  },
  {
   "cell_type": "markdown",
   "metadata": {},
   "source": [
    "## Get information about the datatype 'Geotecnische codering'"
   ]
  },
  {
   "cell_type": "code",
   "execution_count": 3,
   "metadata": {},
   "outputs": [],
   "source": [
    "from pydov.search.interpretaties import GeotechnischeCoderingSearch\n",
    "itp = GeotechnischeCoderingSearch()"
   ]
  },
  {
   "cell_type": "markdown",
   "metadata": {},
   "source": [
    "A description is provided for the 'Geotechnische codering' datatype:"
   ]
  },
  {
   "cell_type": "code",
   "execution_count": 4,
   "metadata": {},
   "outputs": [
    {
     "output_type": "execute_result",
     "data": {
      "text/plain": [
       "'Een geotechnische codering van een boring is een codering opgesteld vanuit geotechnisch oogpunt, rekening houdend met informatie uit de lithologie, laboproeven en bijhorende sondering(en).'"
      ]
     },
     "metadata": {},
     "execution_count": 4
    }
   ],
   "source": [
    "itp.get_description()"
   ]
  },
  {
   "cell_type": "markdown",
   "metadata": {},
   "source": [
    "The different fields that are available for objects of the 'Geotechnische codering' datatype can be requested with the get_fields() method:"
   ]
  },
  {
   "cell_type": "code",
   "execution_count": 5,
   "metadata": {},
   "outputs": [
    {
     "output_type": "stream",
     "name": "stdout",
     "text": [
      "pkey_interpretatie\nType_proef\nProefnummer\npkey_boring\nx\ny\nstart_interpretatie_mtaw\ndiepte_tot_m\ngemeente\nAuteurs\nDatum\nOpdrachten\nbetrouwbaarheid_interpretatie\nGeldig_van\nGeldig_tot\ndiepte_laag_van\ndiepte_laag_tot\nhoofdnaam1_grondsoort\nhoofdnaam2_grondsoort\nbijmenging1_plaatselijk\nbijmenging1_hoeveelheid\nbijmenging1_grondsoort\nbijmenging2_plaatselijk\nbijmenging2_hoeveelheid\nbijmenging2_grondsoort\nbijmenging3_plaatselijk\nbijmenging3_hoeveelheid\nbijmenging3_grondsoort\n"
     ]
    }
   ],
   "source": [
    "fields = itp.get_fields()\n",
    "\n",
    "# print available fields\n",
    "for f in fields.values():\n",
    "    print(f['name'])"
   ]
  },
  {
   "cell_type": "markdown",
   "metadata": {},
   "source": [
    "You can get more information of a field by requesting it from the fields dictionary:\n",
    "* *name*: name of the field\n",
    "* *definition*: definition of this field\n",
    "* *cost*: currently this is either 1 or 10, depending on the datasource of the field. It is an indication of the expected time it will take to retrieve this field in the output dataframe.\n",
    "* *notnull*: whether the field is mandatory or not\n",
    "* *type*: datatype of the values of this field"
   ]
  },
  {
   "cell_type": "code",
   "execution_count": 6,
   "metadata": {},
   "outputs": [
    {
     "output_type": "execute_result",
     "data": {
      "text/plain": [
       "{'name': 'Datum',\n",
       " 'definition': 'De datum waarop de geotechnische codering werd beschreven.',\n",
       " 'type': 'date',\n",
       " 'notnull': False,\n",
       " 'query': True,\n",
       " 'cost': 1}"
      ]
     },
     "metadata": {},
     "execution_count": 6
    }
   ],
   "source": [
    "fields['Datum']"
   ]
  },
  {
   "cell_type": "markdown",
   "metadata": {},
   "source": [
    "## Example use cases"
   ]
  },
  {
   "cell_type": "markdown",
   "metadata": {},
   "source": [
    "### Get 'Geotechnische codering' in a bounding box"
   ]
  },
  {
   "cell_type": "markdown",
   "metadata": {},
   "source": [
    "Get data for all the 'Geotechnische codering' interpretations that are geographically located within the bounds of the specified box.\n",
    "\n",
    "The coordinates are in the Belgian Lambert72 (EPSG:31370) coordinate system and are given in the order of lower left x, lower left y, upper right x, upper right y."
   ]
  },
  {
   "cell_type": "code",
   "execution_count": 7,
   "metadata": {},
   "outputs": [
    {
     "output_type": "stream",
     "name": "stdout",
     "text": [
      "[000/001] .\n"
     ]
    },
    {
     "output_type": "execute_result",
     "data": {
      "text/plain": [
       "                                  pkey_interpretatie  \\\n",
       "0  https://www.dov.vlaanderen.be/data/interpretat...   \n",
       "1  https://www.dov.vlaanderen.be/data/interpretat...   \n",
       "2  https://www.dov.vlaanderen.be/data/interpretat...   \n",
       "3  https://www.dov.vlaanderen.be/data/interpretat...   \n",
       "4  https://www.dov.vlaanderen.be/data/interpretat...   \n",
       "\n",
       "                                         pkey_boring  \\\n",
       "0  https://www.dov.vlaanderen.be/data/boring/2011...   \n",
       "1  https://www.dov.vlaanderen.be/data/boring/2011...   \n",
       "2  https://www.dov.vlaanderen.be/data/boring/2011...   \n",
       "3  https://www.dov.vlaanderen.be/data/boring/2011...   \n",
       "4  https://www.dov.vlaanderen.be/data/boring/2011...   \n",
       "\n",
       "  betrouwbaarheid_interpretatie         x         y  start_interpretatie_mtaw  \\\n",
       "0                          goed  108281.2  197850.2                      7.99   \n",
       "1                          goed  108281.2  197850.2                      7.99   \n",
       "2                          goed  108281.2  197850.2                      7.99   \n",
       "3                          goed  108281.2  197850.2                      7.99   \n",
       "4                          goed  108281.2  197850.2                      7.99   \n",
       "\n",
       "   diepte_laag_van  diepte_laag_tot hoofdnaam1_grondsoort  \\\n",
       "0              0.0              0.5                    FZ   \n",
       "1              0.5              1.0                    LE   \n",
       "2              1.0              3.0                    FZ   \n",
       "3              3.0              4.5                    FZ   \n",
       "4              4.5              5.0                    FZ   \n",
       "\n",
       "   hoofdnaam2_grondsoort bijmenging1_plaatselijk bijmenging1_hoeveelheid  \\\n",
       "0                    NaN                   False                       N   \n",
       "1                    NaN                   False                       V   \n",
       "2                    NaN                   False                       W   \n",
       "3                    NaN                     NaN                     NaN   \n",
       "4                    NaN                     NaN                     NaN   \n",
       "\n",
       "  bijmenging1_grondsoort bijmenging2_plaatselijk bijmenging2_hoeveelheid  \\\n",
       "0                     LE                   False                       N   \n",
       "1                     XZ                     NaN                     NaN   \n",
       "2                     LE                     NaN                     NaN   \n",
       "3                    NaN                     NaN                     NaN   \n",
       "4                    NaN                     NaN                     NaN   \n",
       "\n",
       "  bijmenging2_grondsoort  bijmenging3_plaatselijk  bijmenging3_hoeveelheid  \\\n",
       "0                     PL                      NaN                      NaN   \n",
       "1                    NaN                      NaN                      NaN   \n",
       "2                    NaN                      NaN                      NaN   \n",
       "3                    NaN                      NaN                      NaN   \n",
       "4                    NaN                      NaN                      NaN   \n",
       "\n",
       "   bijmenging3_grondsoort  \n",
       "0                     NaN  \n",
       "1                     NaN  \n",
       "2                     NaN  \n",
       "3                     NaN  \n",
       "4                     NaN  "
      ],
      "text/html": "<div>\n<style scoped>\n    .dataframe tbody tr th:only-of-type {\n        vertical-align: middle;\n    }\n\n    .dataframe tbody tr th {\n        vertical-align: top;\n    }\n\n    .dataframe thead th {\n        text-align: right;\n    }\n</style>\n<table border=\"1\" class=\"dataframe\">\n  <thead>\n    <tr style=\"text-align: right;\">\n      <th></th>\n      <th>pkey_interpretatie</th>\n      <th>pkey_boring</th>\n      <th>betrouwbaarheid_interpretatie</th>\n      <th>x</th>\n      <th>y</th>\n      <th>start_interpretatie_mtaw</th>\n      <th>diepte_laag_van</th>\n      <th>diepte_laag_tot</th>\n      <th>hoofdnaam1_grondsoort</th>\n      <th>hoofdnaam2_grondsoort</th>\n      <th>bijmenging1_plaatselijk</th>\n      <th>bijmenging1_hoeveelheid</th>\n      <th>bijmenging1_grondsoort</th>\n      <th>bijmenging2_plaatselijk</th>\n      <th>bijmenging2_hoeveelheid</th>\n      <th>bijmenging2_grondsoort</th>\n      <th>bijmenging3_plaatselijk</th>\n      <th>bijmenging3_hoeveelheid</th>\n      <th>bijmenging3_grondsoort</th>\n    </tr>\n  </thead>\n  <tbody>\n    <tr>\n      <th>0</th>\n      <td>https://www.dov.vlaanderen.be/data/interpretat...</td>\n      <td>https://www.dov.vlaanderen.be/data/boring/2011...</td>\n      <td>goed</td>\n      <td>108281.2</td>\n      <td>197850.2</td>\n      <td>7.99</td>\n      <td>0.0</td>\n      <td>0.5</td>\n      <td>FZ</td>\n      <td>NaN</td>\n      <td>False</td>\n      <td>N</td>\n      <td>LE</td>\n      <td>False</td>\n      <td>N</td>\n      <td>PL</td>\n      <td>NaN</td>\n      <td>NaN</td>\n      <td>NaN</td>\n    </tr>\n    <tr>\n      <th>1</th>\n      <td>https://www.dov.vlaanderen.be/data/interpretat...</td>\n      <td>https://www.dov.vlaanderen.be/data/boring/2011...</td>\n      <td>goed</td>\n      <td>108281.2</td>\n      <td>197850.2</td>\n      <td>7.99</td>\n      <td>0.5</td>\n      <td>1.0</td>\n      <td>LE</td>\n      <td>NaN</td>\n      <td>False</td>\n      <td>V</td>\n      <td>XZ</td>\n      <td>NaN</td>\n      <td>NaN</td>\n      <td>NaN</td>\n      <td>NaN</td>\n      <td>NaN</td>\n      <td>NaN</td>\n    </tr>\n    <tr>\n      <th>2</th>\n      <td>https://www.dov.vlaanderen.be/data/interpretat...</td>\n      <td>https://www.dov.vlaanderen.be/data/boring/2011...</td>\n      <td>goed</td>\n      <td>108281.2</td>\n      <td>197850.2</td>\n      <td>7.99</td>\n      <td>1.0</td>\n      <td>3.0</td>\n      <td>FZ</td>\n      <td>NaN</td>\n      <td>False</td>\n      <td>W</td>\n      <td>LE</td>\n      <td>NaN</td>\n      <td>NaN</td>\n      <td>NaN</td>\n      <td>NaN</td>\n      <td>NaN</td>\n      <td>NaN</td>\n    </tr>\n    <tr>\n      <th>3</th>\n      <td>https://www.dov.vlaanderen.be/data/interpretat...</td>\n      <td>https://www.dov.vlaanderen.be/data/boring/2011...</td>\n      <td>goed</td>\n      <td>108281.2</td>\n      <td>197850.2</td>\n      <td>7.99</td>\n      <td>3.0</td>\n      <td>4.5</td>\n      <td>FZ</td>\n      <td>NaN</td>\n      <td>NaN</td>\n      <td>NaN</td>\n      <td>NaN</td>\n      <td>NaN</td>\n      <td>NaN</td>\n      <td>NaN</td>\n      <td>NaN</td>\n      <td>NaN</td>\n      <td>NaN</td>\n    </tr>\n    <tr>\n      <th>4</th>\n      <td>https://www.dov.vlaanderen.be/data/interpretat...</td>\n      <td>https://www.dov.vlaanderen.be/data/boring/2011...</td>\n      <td>goed</td>\n      <td>108281.2</td>\n      <td>197850.2</td>\n      <td>7.99</td>\n      <td>4.5</td>\n      <td>5.0</td>\n      <td>FZ</td>\n      <td>NaN</td>\n      <td>NaN</td>\n      <td>NaN</td>\n      <td>NaN</td>\n      <td>NaN</td>\n      <td>NaN</td>\n      <td>NaN</td>\n      <td>NaN</td>\n      <td>NaN</td>\n      <td>NaN</td>\n    </tr>\n  </tbody>\n</table>\n</div>"
     },
     "metadata": {},
     "execution_count": 7
    }
   ],
   "source": [
    "from pydov.util.location import Within, Box\n",
    "\n",
    "df = itp.search(location=Within(Box(108281, 197850, 108282, 197851)))\n",
    "df.head()"
   ]
  },
  {
   "cell_type": "markdown",
   "metadata": {},
   "source": [
    "The dataframe contains one 'Geotechnische codering' interpretation where ten layers ('laag') were identified. The available data are flattened to represent unique attributes per row of the dataframe.\n",
    "\n",
    "Using the *pkey_interpretatie* field one can request the details of this interpretation in a webbrowser:"
   ]
  },
  {
   "cell_type": "code",
   "execution_count": 8,
   "metadata": {},
   "outputs": [
    {
     "output_type": "stream",
     "name": "stdout",
     "text": [
      "https://www.dov.vlaanderen.be/data/interpretatie/2011-172244\n"
     ]
    }
   ],
   "source": [
    "for pkey_interpretatie in set(df.pkey_interpretatie):\n",
    "    print(pkey_interpretatie)"
   ]
  },
  {
   "cell_type": "markdown",
   "metadata": {},
   "source": [
    "### Get 'Geotechnische codering' with specific properties within a distance from a point"
   ]
  },
  {
   "cell_type": "markdown",
   "metadata": {},
   "source": [
    "Next to querying interpretations based on their geographic location within a bounding box, we can also search for interpretations matching a specific set of properties. For this we can build a query using a combination of the 'Geotechnische codering' fields and operators provided by the WFS protocol.\n",
    "\n",
    "A list of possible operators can be found below:"
   ]
  },
  {
   "cell_type": "code",
   "execution_count": 9,
   "metadata": {},
   "outputs": [
    {
     "output_type": "execute_result",
     "data": {
      "text/plain": [
       "['PropertyIsBetween',\n",
       " 'PropertyIsEqualTo',\n",
       " 'PropertyIsGreaterThan',\n",
       " 'PropertyIsGreaterThanOrEqualTo',\n",
       " 'PropertyIsLessThan',\n",
       " 'PropertyIsLessThanOrEqualTo',\n",
       " 'PropertyIsLike',\n",
       " 'PropertyIsNotEqualTo',\n",
       " 'PropertyIsNull',\n",
       " 'SortProperty']"
      ]
     },
     "metadata": {},
     "execution_count": 9
    }
   ],
   "source": [
    "[i for i,j in inspect.getmembers(sys.modules['owslib.fes'], inspect.isclass) if 'Property' in i]"
   ]
  },
  {
   "cell_type": "markdown",
   "metadata": {},
   "source": [
    "In this example we build a query using the *PropertyIsGreaterThan* and *PropertyIsEqualTo* operators to find all interpretations that are at least 20 m deep, that are deemed appropriate for a range of 1 km from a defined point:"
   ]
  },
  {
   "cell_type": "code",
   "execution_count": 10,
   "metadata": {},
   "outputs": [
    {
     "output_type": "stream",
     "name": "stdout",
     "text": [
      "[000/003] ...\n"
     ]
    },
    {
     "output_type": "execute_result",
     "data": {
      "text/plain": [
       "                                  pkey_interpretatie  \\\n",
       "0  https://www.dov.vlaanderen.be/data/interpretat...   \n",
       "1  https://www.dov.vlaanderen.be/data/interpretat...   \n",
       "2  https://www.dov.vlaanderen.be/data/interpretat...   \n",
       "3  https://www.dov.vlaanderen.be/data/interpretat...   \n",
       "4  https://www.dov.vlaanderen.be/data/interpretat...   \n",
       "\n",
       "                                         pkey_boring  \\\n",
       "0  https://www.dov.vlaanderen.be/data/boring/1971...   \n",
       "1  https://www.dov.vlaanderen.be/data/boring/1971...   \n",
       "2  https://www.dov.vlaanderen.be/data/boring/1971...   \n",
       "3  https://www.dov.vlaanderen.be/data/boring/1971...   \n",
       "4  https://www.dov.vlaanderen.be/data/boring/1971...   \n",
       "\n",
       "  betrouwbaarheid_interpretatie         x         y  start_interpretatie_mtaw  \\\n",
       "0                          goed  153935.0  207327.0                     16.16   \n",
       "1                          goed  153935.0  207327.0                     16.16   \n",
       "2                          goed  153935.0  207327.0                     16.16   \n",
       "3                          goed  153935.0  207327.0                     16.16   \n",
       "4                          goed  153935.0  207327.0                     16.16   \n",
       "\n",
       "   diepte_laag_van  diepte_laag_tot hoofdnaam1_grondsoort  \\\n",
       "0             0.00             1.75                    FZ   \n",
       "1             1.75             2.25                    FZ   \n",
       "2             2.25             2.70                    KL   \n",
       "3             2.70             3.25                    KL   \n",
       "4             3.25             3.70                    KL   \n",
       "\n",
       "  hoofdnaam2_grondsoort bijmenging1_plaatselijk bijmenging1_hoeveelheid  \\\n",
       "0                    LE                     NaN                     NaN   \n",
       "1                    LE                     NaN                     NaN   \n",
       "2                   NaN                     NaN                     NaN   \n",
       "3                   NaN                     NaN                     NaN   \n",
       "4                   NaN                     NaN                     NaN   \n",
       "\n",
       "  bijmenging1_grondsoort bijmenging2_plaatselijk bijmenging2_hoeveelheid  \\\n",
       "0                    NaN                     NaN                     NaN   \n",
       "1                    NaN                     NaN                     NaN   \n",
       "2                    NaN                     NaN                     NaN   \n",
       "3                    NaN                     NaN                     NaN   \n",
       "4                    NaN                     NaN                     NaN   \n",
       "\n",
       "  bijmenging2_grondsoort bijmenging3_plaatselijk bijmenging3_hoeveelheid  \\\n",
       "0                    NaN                     NaN                     NaN   \n",
       "1                    NaN                     NaN                     NaN   \n",
       "2                    NaN                     NaN                     NaN   \n",
       "3                    NaN                     NaN                     NaN   \n",
       "4                    NaN                     NaN                     NaN   \n",
       "\n",
       "  bijmenging3_grondsoort  \n",
       "0                    NaN  \n",
       "1                    NaN  \n",
       "2                    NaN  \n",
       "3                    NaN  \n",
       "4                    NaN  "
      ],
      "text/html": "<div>\n<style scoped>\n    .dataframe tbody tr th:only-of-type {\n        vertical-align: middle;\n    }\n\n    .dataframe tbody tr th {\n        vertical-align: top;\n    }\n\n    .dataframe thead th {\n        text-align: right;\n    }\n</style>\n<table border=\"1\" class=\"dataframe\">\n  <thead>\n    <tr style=\"text-align: right;\">\n      <th></th>\n      <th>pkey_interpretatie</th>\n      <th>pkey_boring</th>\n      <th>betrouwbaarheid_interpretatie</th>\n      <th>x</th>\n      <th>y</th>\n      <th>start_interpretatie_mtaw</th>\n      <th>diepte_laag_van</th>\n      <th>diepte_laag_tot</th>\n      <th>hoofdnaam1_grondsoort</th>\n      <th>hoofdnaam2_grondsoort</th>\n      <th>bijmenging1_plaatselijk</th>\n      <th>bijmenging1_hoeveelheid</th>\n      <th>bijmenging1_grondsoort</th>\n      <th>bijmenging2_plaatselijk</th>\n      <th>bijmenging2_hoeveelheid</th>\n      <th>bijmenging2_grondsoort</th>\n      <th>bijmenging3_plaatselijk</th>\n      <th>bijmenging3_hoeveelheid</th>\n      <th>bijmenging3_grondsoort</th>\n    </tr>\n  </thead>\n  <tbody>\n    <tr>\n      <th>0</th>\n      <td>https://www.dov.vlaanderen.be/data/interpretat...</td>\n      <td>https://www.dov.vlaanderen.be/data/boring/1971...</td>\n      <td>goed</td>\n      <td>153935.0</td>\n      <td>207327.0</td>\n      <td>16.16</td>\n      <td>0.00</td>\n      <td>1.75</td>\n      <td>FZ</td>\n      <td>LE</td>\n      <td>NaN</td>\n      <td>NaN</td>\n      <td>NaN</td>\n      <td>NaN</td>\n      <td>NaN</td>\n      <td>NaN</td>\n      <td>NaN</td>\n      <td>NaN</td>\n      <td>NaN</td>\n    </tr>\n    <tr>\n      <th>1</th>\n      <td>https://www.dov.vlaanderen.be/data/interpretat...</td>\n      <td>https://www.dov.vlaanderen.be/data/boring/1971...</td>\n      <td>goed</td>\n      <td>153935.0</td>\n      <td>207327.0</td>\n      <td>16.16</td>\n      <td>1.75</td>\n      <td>2.25</td>\n      <td>FZ</td>\n      <td>LE</td>\n      <td>NaN</td>\n      <td>NaN</td>\n      <td>NaN</td>\n      <td>NaN</td>\n      <td>NaN</td>\n      <td>NaN</td>\n      <td>NaN</td>\n      <td>NaN</td>\n      <td>NaN</td>\n    </tr>\n    <tr>\n      <th>2</th>\n      <td>https://www.dov.vlaanderen.be/data/interpretat...</td>\n      <td>https://www.dov.vlaanderen.be/data/boring/1971...</td>\n      <td>goed</td>\n      <td>153935.0</td>\n      <td>207327.0</td>\n      <td>16.16</td>\n      <td>2.25</td>\n      <td>2.70</td>\n      <td>KL</td>\n      <td>NaN</td>\n      <td>NaN</td>\n      <td>NaN</td>\n      <td>NaN</td>\n      <td>NaN</td>\n      <td>NaN</td>\n      <td>NaN</td>\n      <td>NaN</td>\n      <td>NaN</td>\n      <td>NaN</td>\n    </tr>\n    <tr>\n      <th>3</th>\n      <td>https://www.dov.vlaanderen.be/data/interpretat...</td>\n      <td>https://www.dov.vlaanderen.be/data/boring/1971...</td>\n      <td>goed</td>\n      <td>153935.0</td>\n      <td>207327.0</td>\n      <td>16.16</td>\n      <td>2.70</td>\n      <td>3.25</td>\n      <td>KL</td>\n      <td>NaN</td>\n      <td>NaN</td>\n      <td>NaN</td>\n      <td>NaN</td>\n      <td>NaN</td>\n      <td>NaN</td>\n      <td>NaN</td>\n      <td>NaN</td>\n      <td>NaN</td>\n      <td>NaN</td>\n    </tr>\n    <tr>\n      <th>4</th>\n      <td>https://www.dov.vlaanderen.be/data/interpretat...</td>\n      <td>https://www.dov.vlaanderen.be/data/boring/1971...</td>\n      <td>goed</td>\n      <td>153935.0</td>\n      <td>207327.0</td>\n      <td>16.16</td>\n      <td>3.25</td>\n      <td>3.70</td>\n      <td>KL</td>\n      <td>NaN</td>\n      <td>NaN</td>\n      <td>NaN</td>\n      <td>NaN</td>\n      <td>NaN</td>\n      <td>NaN</td>\n      <td>NaN</td>\n      <td>NaN</td>\n      <td>NaN</td>\n      <td>NaN</td>\n    </tr>\n  </tbody>\n</table>\n</div>"
     },
     "metadata": {},
     "execution_count": 10
    }
   ],
   "source": [
    "from owslib.fes import And, PropertyIsGreaterThan, PropertyIsEqualTo\n",
    "from pydov.util.location import WithinDistance, Point\n",
    "\n",
    "query = And([PropertyIsEqualTo(propertyname='Betrouwbaarheid',\n",
    "                              literal='goed'),\n",
    "            PropertyIsGreaterThan(propertyname='diepte_tot_m',\n",
    "                                 literal='20'),\n",
    "           ])\n",
    "            \n",
    "df = itp.search(query=query, \n",
    "                location=WithinDistance(Point(153145, 206930), 1000))\n",
    "\n",
    "df.head()"
   ]
  },
  {
   "cell_type": "markdown",
   "metadata": {},
   "source": [
    "Once again we can use the *pkey_interpretatie* as a permanent link to the information of these interpretations:"
   ]
  },
  {
   "cell_type": "code",
   "execution_count": 11,
   "metadata": {},
   "outputs": [
    {
     "output_type": "stream",
     "name": "stdout",
     "text": [
      "https://www.dov.vlaanderen.be/data/interpretatie/2012-180862\nhttps://www.dov.vlaanderen.be/data/interpretatie/2012-180861\nhttps://www.dov.vlaanderen.be/data/interpretatie/2012-180863\n"
     ]
    }
   ],
   "source": [
    "for pkey_interpretatie in set(df.pkey_interpretatie):\n",
    "    print(pkey_interpretatie)"
   ]
  },
  {
   "cell_type": "markdown",
   "metadata": {},
   "source": [
    "### Get 'Geotechnische codering' in a bounding box based on specific properties"
   ]
  },
  {
   "cell_type": "markdown",
   "metadata": {},
   "source": [
    "We can combine a query on attributes with a query on geographic location to get the interpretations within a bounding box that have specific properties.\n",
    "\n",
    "The following example requests the interpretations of boreholes only, within the given bounding box.\n",
    "\n",
    "(Note that the datatype of the *literal* parameter should be a string, regardless of the datatype of this field in the output dataframe.)"
   ]
  },
  {
   "cell_type": "code",
   "execution_count": 12,
   "metadata": {},
   "outputs": [
    {
     "output_type": "stream",
     "name": "stdout",
     "text": [
      "[000/020] ....cc...c..........\n"
     ]
    },
    {
     "output_type": "execute_result",
     "data": {
      "text/plain": [
       "                                  pkey_interpretatie  \\\n",
       "0  https://www.dov.vlaanderen.be/data/interpretat...   \n",
       "1  https://www.dov.vlaanderen.be/data/interpretat...   \n",
       "2  https://www.dov.vlaanderen.be/data/interpretat...   \n",
       "3  https://www.dov.vlaanderen.be/data/interpretat...   \n",
       "4  https://www.dov.vlaanderen.be/data/interpretat...   \n",
       "\n",
       "                                         pkey_boring  \\\n",
       "0  https://www.dov.vlaanderen.be/data/boring/1970...   \n",
       "1  https://www.dov.vlaanderen.be/data/boring/1970...   \n",
       "2  https://www.dov.vlaanderen.be/data/boring/1970...   \n",
       "3  https://www.dov.vlaanderen.be/data/boring/1970...   \n",
       "4  https://www.dov.vlaanderen.be/data/boring/1970...   \n",
       "\n",
       "  betrouwbaarheid_interpretatie         x         y  start_interpretatie_mtaw  \\\n",
       "0                          goed  153963.0  207151.0                     15.54   \n",
       "1                          goed  153963.0  207151.0                     15.54   \n",
       "2                          goed  153963.0  207151.0                     15.54   \n",
       "3                          goed  153963.0  207151.0                     15.54   \n",
       "4                          goed  153963.0  207151.0                     15.54   \n",
       "\n",
       "   diepte_laag_van  diepte_laag_tot hoofdnaam1_grondsoort  \\\n",
       "0             0.00             0.75                    FZ   \n",
       "1             0.75             1.25                    FZ   \n",
       "2             1.25             1.75                    LE   \n",
       "3             1.75             1.90                    KL   \n",
       "4             1.90             2.75                    KL   \n",
       "\n",
       "  hoofdnaam2_grondsoort bijmenging1_plaatselijk bijmenging1_hoeveelheid  \\\n",
       "0                    LE                     NaN                     NaN   \n",
       "1                    LE                     NaN                     NaN   \n",
       "2                   NaN                   False                       N   \n",
       "3                   NaN                   False                       V   \n",
       "4                   NaN                   False                       V   \n",
       "\n",
       "  bijmenging1_grondsoort bijmenging2_plaatselijk bijmenging2_hoeveelheid  \\\n",
       "0                    NaN                     NaN                     NaN   \n",
       "1                    NaN                     NaN                     NaN   \n",
       "2                     FZ                     NaN                     NaN   \n",
       "3                     FZ                   False                       W   \n",
       "4                     FZ                   False                       W   \n",
       "\n",
       "  bijmenging2_grondsoort bijmenging3_plaatselijk bijmenging3_hoeveelheid  \\\n",
       "0                    NaN                     NaN                     NaN   \n",
       "1                    NaN                     NaN                     NaN   \n",
       "2                    NaN                     NaN                     NaN   \n",
       "3                     GL                     NaN                     NaN   \n",
       "4                     GL                     NaN                     NaN   \n",
       "\n",
       "  bijmenging3_grondsoort  \n",
       "0                    NaN  \n",
       "1                    NaN  \n",
       "2                    NaN  \n",
       "3                    NaN  \n",
       "4                    NaN  "
      ],
      "text/html": "<div>\n<style scoped>\n    .dataframe tbody tr th:only-of-type {\n        vertical-align: middle;\n    }\n\n    .dataframe tbody tr th {\n        vertical-align: top;\n    }\n\n    .dataframe thead th {\n        text-align: right;\n    }\n</style>\n<table border=\"1\" class=\"dataframe\">\n  <thead>\n    <tr style=\"text-align: right;\">\n      <th></th>\n      <th>pkey_interpretatie</th>\n      <th>pkey_boring</th>\n      <th>betrouwbaarheid_interpretatie</th>\n      <th>x</th>\n      <th>y</th>\n      <th>start_interpretatie_mtaw</th>\n      <th>diepte_laag_van</th>\n      <th>diepte_laag_tot</th>\n      <th>hoofdnaam1_grondsoort</th>\n      <th>hoofdnaam2_grondsoort</th>\n      <th>bijmenging1_plaatselijk</th>\n      <th>bijmenging1_hoeveelheid</th>\n      <th>bijmenging1_grondsoort</th>\n      <th>bijmenging2_plaatselijk</th>\n      <th>bijmenging2_hoeveelheid</th>\n      <th>bijmenging2_grondsoort</th>\n      <th>bijmenging3_plaatselijk</th>\n      <th>bijmenging3_hoeveelheid</th>\n      <th>bijmenging3_grondsoort</th>\n    </tr>\n  </thead>\n  <tbody>\n    <tr>\n      <th>0</th>\n      <td>https://www.dov.vlaanderen.be/data/interpretat...</td>\n      <td>https://www.dov.vlaanderen.be/data/boring/1970...</td>\n      <td>goed</td>\n      <td>153963.0</td>\n      <td>207151.0</td>\n      <td>15.54</td>\n      <td>0.00</td>\n      <td>0.75</td>\n      <td>FZ</td>\n      <td>LE</td>\n      <td>NaN</td>\n      <td>NaN</td>\n      <td>NaN</td>\n      <td>NaN</td>\n      <td>NaN</td>\n      <td>NaN</td>\n      <td>NaN</td>\n      <td>NaN</td>\n      <td>NaN</td>\n    </tr>\n    <tr>\n      <th>1</th>\n      <td>https://www.dov.vlaanderen.be/data/interpretat...</td>\n      <td>https://www.dov.vlaanderen.be/data/boring/1970...</td>\n      <td>goed</td>\n      <td>153963.0</td>\n      <td>207151.0</td>\n      <td>15.54</td>\n      <td>0.75</td>\n      <td>1.25</td>\n      <td>FZ</td>\n      <td>LE</td>\n      <td>NaN</td>\n      <td>NaN</td>\n      <td>NaN</td>\n      <td>NaN</td>\n      <td>NaN</td>\n      <td>NaN</td>\n      <td>NaN</td>\n      <td>NaN</td>\n      <td>NaN</td>\n    </tr>\n    <tr>\n      <th>2</th>\n      <td>https://www.dov.vlaanderen.be/data/interpretat...</td>\n      <td>https://www.dov.vlaanderen.be/data/boring/1970...</td>\n      <td>goed</td>\n      <td>153963.0</td>\n      <td>207151.0</td>\n      <td>15.54</td>\n      <td>1.25</td>\n      <td>1.75</td>\n      <td>LE</td>\n      <td>NaN</td>\n      <td>False</td>\n      <td>N</td>\n      <td>FZ</td>\n      <td>NaN</td>\n      <td>NaN</td>\n      <td>NaN</td>\n      <td>NaN</td>\n      <td>NaN</td>\n      <td>NaN</td>\n    </tr>\n    <tr>\n      <th>3</th>\n      <td>https://www.dov.vlaanderen.be/data/interpretat...</td>\n      <td>https://www.dov.vlaanderen.be/data/boring/1970...</td>\n      <td>goed</td>\n      <td>153963.0</td>\n      <td>207151.0</td>\n      <td>15.54</td>\n      <td>1.75</td>\n      <td>1.90</td>\n      <td>KL</td>\n      <td>NaN</td>\n      <td>False</td>\n      <td>V</td>\n      <td>FZ</td>\n      <td>False</td>\n      <td>W</td>\n      <td>GL</td>\n      <td>NaN</td>\n      <td>NaN</td>\n      <td>NaN</td>\n    </tr>\n    <tr>\n      <th>4</th>\n      <td>https://www.dov.vlaanderen.be/data/interpretat...</td>\n      <td>https://www.dov.vlaanderen.be/data/boring/1970...</td>\n      <td>goed</td>\n      <td>153963.0</td>\n      <td>207151.0</td>\n      <td>15.54</td>\n      <td>1.90</td>\n      <td>2.75</td>\n      <td>KL</td>\n      <td>NaN</td>\n      <td>False</td>\n      <td>V</td>\n      <td>FZ</td>\n      <td>False</td>\n      <td>W</td>\n      <td>GL</td>\n      <td>NaN</td>\n      <td>NaN</td>\n      <td>NaN</td>\n    </tr>\n  </tbody>\n</table>\n</div>"
     },
     "metadata": {},
     "execution_count": 12
    }
   ],
   "source": [
    "from owslib.fes import PropertyIsEqualTo\n",
    "\n",
    "query = PropertyIsEqualTo(\n",
    "            propertyname='Type_proef',\n",
    "            literal='Boring')\n",
    "\n",
    "df = itp.search(\n",
    "    location=Within(Box(153145, 206930, 154145, 207930)),\n",
    "    query=query\n",
    "    )\n",
    "\n",
    "df.head()"
   ]
  },
  {
   "cell_type": "markdown",
   "metadata": {},
   "source": [
    "We can look at one of the interpretations in a webbrowser using its *pkey_interpretatie*:"
   ]
  },
  {
   "cell_type": "code",
   "execution_count": 13,
   "metadata": {},
   "outputs": [
    {
     "output_type": "stream",
     "name": "stdout",
     "text": [
      "https://www.dov.vlaanderen.be/data/interpretatie/2013-182275\nhttps://www.dov.vlaanderen.be/data/interpretatie/2013-182282\nhttps://www.dov.vlaanderen.be/data/interpretatie/2012-180861\nhttps://www.dov.vlaanderen.be/data/interpretatie/2012-180855\nhttps://www.dov.vlaanderen.be/data/interpretatie/2012-180863\nhttps://www.dov.vlaanderen.be/data/interpretatie/2013-182278\nhttps://www.dov.vlaanderen.be/data/interpretatie/2013-182280\nhttps://www.dov.vlaanderen.be/data/interpretatie/2012-180853\nhttps://www.dov.vlaanderen.be/data/interpretatie/2012-180851\nhttps://www.dov.vlaanderen.be/data/interpretatie/2012-180852\nhttps://www.dov.vlaanderen.be/data/interpretatie/2013-182276\nhttps://www.dov.vlaanderen.be/data/interpretatie/2013-182359\nhttps://www.dov.vlaanderen.be/data/interpretatie/2013-182358\nhttps://www.dov.vlaanderen.be/data/interpretatie/2012-180866\nhttps://www.dov.vlaanderen.be/data/interpretatie/2013-182279\nhttps://www.dov.vlaanderen.be/data/interpretatie/2013-182281\nhttps://www.dov.vlaanderen.be/data/interpretatie/2012-180864\nhttps://www.dov.vlaanderen.be/data/interpretatie/2013-182360\nhttps://www.dov.vlaanderen.be/data/interpretatie/2012-180862\nhttps://www.dov.vlaanderen.be/data/interpretatie/2012-180867\n"
     ]
    }
   ],
   "source": [
    "for pkey_interpretatie in set(df.pkey_interpretatie):\n",
    "    print(pkey_interpretatie)"
   ]
  },
  {
   "cell_type": "markdown",
   "metadata": {},
   "source": [
    "### Get 'Geotechnische codering' based on fields not available in the standard output dataframe"
   ]
  },
  {
   "cell_type": "markdown",
   "metadata": {},
   "source": [
    "To keep the output dataframe size acceptable, not all available WFS fields are included in the standard output. However, one can use this information to select interpretations as illustrated below.\n",
    "\n",
    "For example, make a selection of the interpretations in municipality the of Antwerp, before 1/1/1990:\n",
    "\n",
    "!*remark: mind that the municipality attribute is merely an attribute that is defined by the person entering the data. It can be ok, empty, outdated or wrong*!"
   ]
  },
  {
   "cell_type": "code",
   "execution_count": 14,
   "metadata": {},
   "outputs": [
    {
     "output_type": "execute_result",
     "data": {
      "text/plain": [
       "                                  pkey_interpretatie       Datum\n",
       "0  https://www.dov.vlaanderen.be/data/interpretat...  2006-03-24\n",
       "1  https://www.dov.vlaanderen.be/data/interpretat...  2006-02-17\n",
       "2  https://www.dov.vlaanderen.be/data/interpretat...  2006-02-27\n",
       "3  https://www.dov.vlaanderen.be/data/interpretat...  2006-02-17\n",
       "4  https://www.dov.vlaanderen.be/data/interpretat...  2005-02-15"
      ],
      "text/html": "<div>\n<style scoped>\n    .dataframe tbody tr th:only-of-type {\n        vertical-align: middle;\n    }\n\n    .dataframe tbody tr th {\n        vertical-align: top;\n    }\n\n    .dataframe thead th {\n        text-align: right;\n    }\n</style>\n<table border=\"1\" class=\"dataframe\">\n  <thead>\n    <tr style=\"text-align: right;\">\n      <th></th>\n      <th>pkey_interpretatie</th>\n      <th>Datum</th>\n    </tr>\n  </thead>\n  <tbody>\n    <tr>\n      <th>0</th>\n      <td>https://www.dov.vlaanderen.be/data/interpretat...</td>\n      <td>2006-03-24</td>\n    </tr>\n    <tr>\n      <th>1</th>\n      <td>https://www.dov.vlaanderen.be/data/interpretat...</td>\n      <td>2006-02-17</td>\n    </tr>\n    <tr>\n      <th>2</th>\n      <td>https://www.dov.vlaanderen.be/data/interpretat...</td>\n      <td>2006-02-27</td>\n    </tr>\n    <tr>\n      <th>3</th>\n      <td>https://www.dov.vlaanderen.be/data/interpretat...</td>\n      <td>2006-02-17</td>\n    </tr>\n    <tr>\n      <th>4</th>\n      <td>https://www.dov.vlaanderen.be/data/interpretat...</td>\n      <td>2005-02-15</td>\n    </tr>\n  </tbody>\n</table>\n</div>"
     },
     "metadata": {},
     "execution_count": 14
    }
   ],
   "source": [
    "from owslib.fes import And, PropertyIsEqualTo, PropertyIsLessThan\n",
    "\n",
    "query = And([PropertyIsEqualTo(propertyname='gemeente',\n",
    "                               literal='Antwerpen'),\n",
    "             PropertyIsLessThan(propertyname='Datum', \n",
    "                                 literal='2010-01-01')]\n",
    "            )\n",
    "df = itp.search(query=query,\n",
    "                return_fields=('pkey_interpretatie', 'Datum'))\n",
    "df.head()"
   ]
  },
  {
   "cell_type": "markdown",
   "metadata": {},
   "source": [
    "### Get 'Geotechnische codering' data, returning fields not available in the standard output dataframe"
   ]
  },
  {
   "cell_type": "markdown",
   "metadata": {},
   "source": [
    "As denoted in the previous example, not all available fields are available in the default output frame to keep its size limited. However, you can request any available field by including it in the *return_fields* parameter of the search:"
   ]
  },
  {
   "cell_type": "code",
   "execution_count": 15,
   "metadata": {},
   "outputs": [
    {
     "output_type": "error",
     "ename": "InvalidFieldError",
     "evalue": "Unknown return field: 'Z_mTAW'. Did you mean 'start_interpretatie_mtaw'?",
     "traceback": [
      "\u001b[0;31m---------------------------------------------------------------------------\u001b[0m",
      "\u001b[0;31mInvalidFieldError\u001b[0m                         Traceback (most recent call last)",
      "\u001b[0;32m<ipython-input-15-54ebb308efde>\u001b[0m in \u001b[0;36m<module>\u001b[0;34m\u001b[0m\n\u001b[1;32m      3\u001b[0m             literal='Leuven')\n\u001b[1;32m      4\u001b[0m \u001b[0;34m\u001b[0m\u001b[0m\n\u001b[0;32m----> 5\u001b[0;31m df = itp.search(query=query,\n\u001b[0m\u001b[1;32m      6\u001b[0m                 return_fields=('pkey_interpretatie', 'pkey_boring',\n\u001b[1;32m      7\u001b[0m                                'x', 'y', 'Z_mTAW', 'gemeente', 'Auteurs', 'Proefnummer'))\n",
      "\u001b[0;32m~/Sideprojects/pydov/pydov_git/pydov/search/abstract.py\u001b[0m in \u001b[0;36msearch\u001b[0;34m(self, location, query, sort_by, return_fields, max_features)\u001b[0m\n\u001b[1;32m    838\u001b[0m \u001b[0;34m\u001b[0m\u001b[0m\n\u001b[1;32m    839\u001b[0m         \"\"\"\n\u001b[0;32m--> 840\u001b[0;31m         fts = self._search(location=location, query=query, sort_by=sort_by,\n\u001b[0m\u001b[1;32m    841\u001b[0m                            \u001b[0mreturn_fields\u001b[0m\u001b[0;34m=\u001b[0m\u001b[0mreturn_fields\u001b[0m\u001b[0;34m,\u001b[0m\u001b[0;34m\u001b[0m\u001b[0;34m\u001b[0m\u001b[0m\n\u001b[1;32m    842\u001b[0m                            max_features=max_features)\n",
      "\u001b[0;32m~/Sideprojects/pydov/pydov_git/pydov/search/abstract.py\u001b[0m in \u001b[0;36m_search\u001b[0;34m(self, location, query, return_fields, sort_by, max_features, extra_wfs_fields)\u001b[0m\n\u001b[1;32m    659\u001b[0m \u001b[0;34m\u001b[0m\u001b[0m\n\u001b[1;32m    660\u001b[0m         \"\"\"\n\u001b[0;32m--> 661\u001b[0;31m         self._pre_search_validation(location, query, sort_by, return_fields,\n\u001b[0m\u001b[1;32m    662\u001b[0m                                     max_features)\n\u001b[1;32m    663\u001b[0m         \u001b[0mself\u001b[0m\u001b[0;34m.\u001b[0m\u001b[0m_init_namespace\u001b[0m\u001b[0;34m(\u001b[0m\u001b[0;34m)\u001b[0m\u001b[0;34m\u001b[0m\u001b[0;34m\u001b[0m\u001b[0m\n",
      "\u001b[0;32m~/Sideprojects/pydov/pydov_git/pydov/search/abstract.py\u001b[0m in \u001b[0;36m_pre_search_validation\u001b[0;34m(self, location, query, sort_by, return_fields, max_features)\u001b[0m\n\u001b[1;32m    540\u001b[0m                 \u001b[0;32mif\u001b[0m \u001b[0mrf\u001b[0m \u001b[0;32mnot\u001b[0m \u001b[0;32min\u001b[0m \u001b[0mself\u001b[0m\u001b[0;34m.\u001b[0m\u001b[0m_fields\u001b[0m\u001b[0;34m:\u001b[0m\u001b[0;34m\u001b[0m\u001b[0;34m\u001b[0m\u001b[0m\n\u001b[1;32m    541\u001b[0m                     \u001b[0;32mif\u001b[0m \u001b[0mrf\u001b[0m \u001b[0;32min\u001b[0m \u001b[0mself\u001b[0m\u001b[0;34m.\u001b[0m\u001b[0m_map_wfs_source_df\u001b[0m\u001b[0;34m:\u001b[0m\u001b[0;34m\u001b[0m\u001b[0;34m\u001b[0m\u001b[0m\n\u001b[0;32m--> 542\u001b[0;31m                         raise InvalidFieldError(\n\u001b[0m\u001b[1;32m    543\u001b[0m                             \u001b[0;34m\"Unknown return field: \"\u001b[0m\u001b[0;34m\u001b[0m\u001b[0;34m\u001b[0m\u001b[0m\n\u001b[1;32m    544\u001b[0m                             \"'{}'. Did you mean '{}'?\".format(\n",
      "\u001b[0;31mInvalidFieldError\u001b[0m: Unknown return field: 'Z_mTAW'. Did you mean 'start_interpretatie_mtaw'?"
     ]
    }
   ],
   "source": [
    "query = PropertyIsEqualTo(\n",
    "            propertyname='gemeente',\n",
    "            literal='Leuven')\n",
    "\n",
    "df = itp.search(query=query,\n",
    "                return_fields=('pkey_interpretatie', 'pkey_boring',\n",
    "                               'x', 'y', 'Z_mTAW', 'gemeente', 'Auteurs', 'Proefnummer'))\n",
    "\n",
    "df.head()"
   ]
  },
  {
   "cell_type": "markdown",
   "metadata": {},
   "source": [
    "## Visualize results"
   ]
  },
  {
   "cell_type": "markdown",
   "metadata": {},
   "source": [
    "Using Folium, we can display the results of our search on a map."
   ]
  },
  {
   "cell_type": "code",
   "execution_count": 16,
   "metadata": {},
   "outputs": [],
   "source": [
    "# import the necessary modules (not included in the requirements of pydov!)\n",
    "import folium\n",
    "from folium.plugins import MarkerCluster\n",
    "from pyproj import Transformer"
   ]
  },
  {
   "cell_type": "code",
   "execution_count": 17,
   "metadata": {},
   "outputs": [],
   "source": [
    "# convert the coordinates to lat/lon for folium\n",
    "def convert_latlon(x1, y1):\n",
    "    transformer = Transformer.from_crs(\"epsg:31370\", \"epsg:4326\", always_xy=True)\n",
    "    x2,y2 = transformer.transform(x1, y1)\n",
    "    return x2, y2\n",
    "\n",
    "df['lon'], df['lat'] = zip(*map(convert_latlon, df['x'], df['y'])) \n",
    "# convert to list\n",
    "loclist = df[['lat', 'lon']].values.tolist()"
   ]
  },
  {
   "cell_type": "code",
   "execution_count": 18,
   "metadata": {},
   "outputs": [
    {
     "data": {
      "text/html": [
       "<div style=\"width:100%;\"><div style=\"position:relative;width:100%;height:0;padding-bottom:60%;\"><span style=\"color:#565656\">Make this Notebook Trusted to load map: File -> Trust Notebook</span><iframe src=\"about:blank\" style=\"position:absolute;width:100%;height:100%;left:0;top:0;border:none !important;\" data-html=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 onload=\"this.contentDocument.open();this.contentDocument.write(atob(this.getAttribute('data-html')));this.contentDocument.close();\" allowfullscreen webkitallowfullscreen mozallowfullscreen></iframe></div></div>"
      ],
      "text/plain": [
       "<folium.folium.Map at 0x7fe318edf150>"
      ]
     },
     "execution_count": 18,
     "metadata": {},
     "output_type": "execute_result"
    }
   ],
   "source": [
    "# initialize the Folium map on the centre of the selected locations, play with the zoom until ok\n",
    "fmap = folium.Map(location=[df['lat'].mean(), df['lon'].mean()], zoom_start=12)\n",
    "marker_cluster = MarkerCluster().add_to(fmap)\n",
    "for loc in range(0, len(loclist)):\n",
    "    folium.Marker(loclist[loc], popup=df['Proefnummer'][loc]).add_to(marker_cluster)\n",
    "fmap\n"
   ]
  },
  {
   "cell_type": "code",
   "execution_count": null,
   "metadata": {},
   "outputs": [],
   "source": []
  }
 ],
 "metadata": {
  "kernelspec": {
   "display_name": "Python 3.7.5 64-bit ('venv': venv)",
   "language": "python",
   "name": "python37564bitvenvvenv7153db2e85324c8ea2b6eb355f534b21"
  },
  "language_info": {
   "codemirror_mode": {
    "name": "ipython",
    "version": 3
   },
   "file_extension": ".py",
   "mimetype": "text/x-python",
   "name": "python",
   "nbconvert_exporter": "python",
   "pygments_lexer": "ipython3",
   "version": "3.8.5-final"
  }
 },
 "nbformat": 4,
 "nbformat_minor": 4
}