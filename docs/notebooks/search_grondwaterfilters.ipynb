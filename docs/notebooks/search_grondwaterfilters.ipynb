{
 "cells": [
  {
   "cell_type": "markdown",
   "metadata": {},
   "source": [
    "# Example of DOV search methods for groundwater screens (grondwaterfilters)\n"
   ]
  },
  {
   "cell_type": "markdown",
   "metadata": {},
   "source": [
    "[![Binder](https://mybinder.org/badge_logo.svg)](https://mybinder.org/v2/gh/DOV-Vlaanderen/pydov/master?filepath=docs%2Fnotebooks%2Fsearch_grondwaterfilters.ipynb)"
   ]
  },
  {
   "cell_type": "markdown",
   "metadata": {},
   "source": [
    "## Use cases:\n",
    "* Get groundwater screens in a bounding box\n",
    "* Get groundwater screens with specific properties\n",
    "* Get the coordinates of all groundwater screens in Ghent\n",
    "* Get the 'meetnet' and 'meetnet_code' for groundwater screens in Boortmeerbeek\n",
    "* Get all details of groundwaterscreens of 'meetnet 9' within the given bounding box\n",
    "* Get groundwater screens based on a combination of specific properties\n",
    "* Get groundwater screens within a groundwater body"
   ]
  },
  {
   "cell_type": "code",
   "execution_count": 1,
   "metadata": {},
   "outputs": [],
   "source": [
    "%matplotlib inline\n",
    "import inspect, sys"
   ]
  },
  {
   "cell_type": "code",
   "execution_count": 2,
   "metadata": {},
   "outputs": [],
   "source": [
    "# check pydov path\n",
    "import pydov"
   ]
  },
  {
   "cell_type": "markdown",
   "metadata": {},
   "source": [
    "## Get information about the datatype 'GrondwaterFilter'"
   ]
  },
  {
   "cell_type": "code",
   "execution_count": 3,
   "metadata": {},
   "outputs": [],
   "source": [
    "from pydov.search.grondwaterfilter import GrondwaterFilterSearch\n",
    "gwfilter = GrondwaterFilterSearch()"
   ]
  },
  {
   "cell_type": "markdown",
   "metadata": {},
   "source": [
    "A description is provided for the 'GrondwaterFilter' datatype:"
   ]
  },
  {
   "cell_type": "code",
   "execution_count": 4,
   "metadata": {},
   "outputs": [
    {
     "name": "stdout",
     "output_type": "stream",
     "text": [
      "In de Databank Ondergrond Vlaanderen zijn verschillende grondwatermeetnetten opgenomen. Deze meetnetten staan in functie van uitgebreide monitoringprogramma’s met de bedoeling een goed beeld te krijgen van de beschikbare grondwaterkwantiteit en grondwaterkwaliteit van de watervoerende lagen in Vlaanderen.\n"
     ]
    }
   ],
   "source": [
    "print(gwfilter.get_description())"
   ]
  },
  {
   "cell_type": "markdown",
   "metadata": {},
   "source": [
    "The different fields that are available for objects of the 'GrondwaterFilter' datatype can be requested with the get_fields() method:"
   ]
  },
  {
   "cell_type": "code",
   "execution_count": 5,
   "metadata": {},
   "outputs": [
    {
     "name": "stdout",
     "output_type": "stream",
     "text": [
      "gw_id\n",
      "pkey_grondwaterlocatie\n",
      "filternummer\n",
      "pkey_filter\n",
      "namen\n",
      "filtergrafiek\n",
      "putgrafiek\n",
      "aquifer\n",
      "diepte_onderkant_filter\n",
      "lengte_filter\n",
      "putsoort\n",
      "filtertype\n",
      "meetnet\n",
      "x\n",
      "y\n",
      "start_grondwaterlocatie_mtaw\n",
      "gemeente\n",
      "grondwaterlichaam\n",
      "regime\n",
      "datum_in_filter\n",
      "datum_uit_filter\n",
      "stijghoogterapport\n",
      "analyserapport\n",
      "boornummer\n",
      "boringfiche\n",
      "peilmetingen_van\n",
      "peilmetingen_tot\n",
      "kwaliteitsmetingen_van\n",
      "kwaliteitsmetingen_tot\n",
      "recentste_exploitant\n",
      "beheerder\n",
      "mv_mtaw\n",
      "meetnet_code\n",
      "aquifer_code\n",
      "grondwaterlichaam_code\n",
      "datum\n",
      "tijdstip\n",
      "peil_mtaw\n",
      "betrouwbaarheid\n",
      "methode\n",
      "filterstatus\n",
      "filtertoestand\n"
     ]
    }
   ],
   "source": [
    "fields = gwfilter.get_fields()\n",
    "\n",
    "# print available fields\n",
    "for f in fields.values():\n",
    "    print(f['name'])"
   ]
  },
  {
   "cell_type": "markdown",
   "metadata": {},
   "source": [
    "You can get more information of a field by requesting it from the fields dictionary:\n",
    "* *name*: name of the field\n",
    "* *definition*: definition of this field\n",
    "* *cost*: currently this is either 1 or 10, depending on the datasource of the field. It is an indication of the expected time it will take to retrieve this field in the output dataframe.\n",
    "* *notnull*: whether the field is mandatory or not\n",
    "* *type*: datatype of the values of this field"
   ]
  },
  {
   "cell_type": "code",
   "execution_count": 6,
   "metadata": {},
   "outputs": [
    {
     "data": {
      "text/plain": [
       "{'name': 'aquifer',\n",
       " 'definition': 'De aquifer waarin de filter hangt. Als tekst, opgebouwd uit de HCOV code (vier karakters) en de naam gescheiden door \" - \"',\n",
       " 'type': 'string',\n",
       " 'notnull': True,\n",
       " 'query': True,\n",
       " 'cost': 1}"
      ]
     },
     "execution_count": 6,
     "metadata": {},
     "output_type": "execute_result"
    }
   ],
   "source": [
    "# print information for a certain field\n",
    "fields['aquifer']"
   ]
  },
  {
   "cell_type": "markdown",
   "metadata": {},
   "source": [
    "Optionally, if the values of the field have a specific domain the possible values are listed as *values*:"
   ]
  },
  {
   "cell_type": "code",
   "execution_count": 7,
   "metadata": {},
   "outputs": [
    {
     "data": {
      "text/plain": [
       "{'Installatie': None,\n",
       " 'batterijput': None,\n",
       " 'bodemlus': None,\n",
       " 'bron, natuurlijke holte': None,\n",
       " 'bronbemaling': None,\n",
       " 'draineringsinrichting': None,\n",
       " 'galerij': None,\n",
       " 'graverij, mijn, groeve': None,\n",
       " 'niet-verbuisde boorput': None,\n",
       " 'onbekend': None,\n",
       " 'ring- of steenput': None,\n",
       " 'verbuisde boorput': None,\n",
       " 'vijver': None}"
      ]
     },
     "execution_count": 7,
     "metadata": {},
     "output_type": "execute_result"
    }
   ],
   "source": [
    "# if an attribute can have several values, these are listed under 'values', e.g. for 'putsoort':\n",
    "fields['putsoort']['values']"
   ]
  },
  {
   "cell_type": "markdown",
   "metadata": {},
   "source": [
    "## Example use cases"
   ]
  },
  {
   "cell_type": "markdown",
   "metadata": {},
   "source": [
    "### Get groundwater screens in a bounding box"
   ]
  },
  {
   "cell_type": "markdown",
   "metadata": {},
   "source": [
    "Get data for all the groundwater screens that are geographically located within the bounds of the specified box.\n",
    "\n",
    "The coordinates are in the Belgian Lambert72 (EPSG:31370) coordinate system and are given in the order of lower left x, lower left y, upper right x, upper right y."
   ]
  },
  {
   "cell_type": "code",
   "execution_count": 8,
   "metadata": {},
   "outputs": [
    {
     "name": "stdout",
     "output_type": "stream",
     "text": [
      "[000/026] ..........................\n"
     ]
    },
    {
     "data": {
      "text/html": [
       "<div>\n",
       "<style scoped>\n",
       "    .dataframe tbody tr th:only-of-type {\n",
       "        vertical-align: middle;\n",
       "    }\n",
       "\n",
       "    .dataframe tbody tr th {\n",
       "        vertical-align: top;\n",
       "    }\n",
       "\n",
       "    .dataframe thead th {\n",
       "        text-align: right;\n",
       "    }\n",
       "</style>\n",
       "<table border=\"1\" class=\"dataframe\">\n",
       "  <thead>\n",
       "    <tr style=\"text-align: right;\">\n",
       "      <th></th>\n",
       "      <th>pkey_filter</th>\n",
       "      <th>pkey_grondwaterlocatie</th>\n",
       "      <th>gw_id</th>\n",
       "      <th>filternummer</th>\n",
       "      <th>filtertype</th>\n",
       "      <th>x</th>\n",
       "      <th>y</th>\n",
       "      <th>start_grondwaterlocatie_mtaw</th>\n",
       "      <th>mv_mtaw</th>\n",
       "      <th>gemeente</th>\n",
       "      <th>...</th>\n",
       "      <th>regime</th>\n",
       "      <th>diepte_onderkant_filter</th>\n",
       "      <th>lengte_filter</th>\n",
       "      <th>datum</th>\n",
       "      <th>tijdstip</th>\n",
       "      <th>peil_mtaw</th>\n",
       "      <th>betrouwbaarheid</th>\n",
       "      <th>methode</th>\n",
       "      <th>filterstatus</th>\n",
       "      <th>filtertoestand</th>\n",
       "    </tr>\n",
       "  </thead>\n",
       "  <tbody>\n",
       "    <tr>\n",
       "      <th>0</th>\n",
       "      <td>https://www.dov.vlaanderen.be/data/filter/1999...</td>\n",
       "      <td>https://www.dov.vlaanderen.be/data/put/2018-00...</td>\n",
       "      <td>SWPP006</td>\n",
       "      <td>1</td>\n",
       "      <td>peilfilter</td>\n",
       "      <td>94147.0</td>\n",
       "      <td>169582.0</td>\n",
       "      <td>9.4</td>\n",
       "      <td>9.4</td>\n",
       "      <td>Wortegem-Petegem</td>\n",
       "      <td>...</td>\n",
       "      <td>onbekend</td>\n",
       "      <td>NaN</td>\n",
       "      <td>NaN</td>\n",
       "      <td>1999-04-13</td>\n",
       "      <td>NaN</td>\n",
       "      <td>9.22</td>\n",
       "      <td>onbekend</td>\n",
       "      <td>peillint</td>\n",
       "      <td>onbekend</td>\n",
       "      <td>1.0</td>\n",
       "    </tr>\n",
       "    <tr>\n",
       "      <th>1</th>\n",
       "      <td>https://www.dov.vlaanderen.be/data/filter/1999...</td>\n",
       "      <td>https://www.dov.vlaanderen.be/data/put/2018-00...</td>\n",
       "      <td>SWPP006</td>\n",
       "      <td>1</td>\n",
       "      <td>peilfilter</td>\n",
       "      <td>94147.0</td>\n",
       "      <td>169582.0</td>\n",
       "      <td>9.4</td>\n",
       "      <td>9.4</td>\n",
       "      <td>Wortegem-Petegem</td>\n",
       "      <td>...</td>\n",
       "      <td>onbekend</td>\n",
       "      <td>NaN</td>\n",
       "      <td>NaN</td>\n",
       "      <td>1999-04-14</td>\n",
       "      <td>NaN</td>\n",
       "      <td>9.41</td>\n",
       "      <td>onbekend</td>\n",
       "      <td>peillint</td>\n",
       "      <td>onbekend</td>\n",
       "      <td>1.0</td>\n",
       "    </tr>\n",
       "    <tr>\n",
       "      <th>2</th>\n",
       "      <td>https://www.dov.vlaanderen.be/data/filter/1999...</td>\n",
       "      <td>https://www.dov.vlaanderen.be/data/put/2018-00...</td>\n",
       "      <td>SWPP006</td>\n",
       "      <td>1</td>\n",
       "      <td>peilfilter</td>\n",
       "      <td>94147.0</td>\n",
       "      <td>169582.0</td>\n",
       "      <td>9.4</td>\n",
       "      <td>9.4</td>\n",
       "      <td>Wortegem-Petegem</td>\n",
       "      <td>...</td>\n",
       "      <td>onbekend</td>\n",
       "      <td>NaN</td>\n",
       "      <td>NaN</td>\n",
       "      <td>1999-04-22</td>\n",
       "      <td>NaN</td>\n",
       "      <td>9.29</td>\n",
       "      <td>onbekend</td>\n",
       "      <td>peillint</td>\n",
       "      <td>onbekend</td>\n",
       "      <td>1.0</td>\n",
       "    </tr>\n",
       "    <tr>\n",
       "      <th>3</th>\n",
       "      <td>https://www.dov.vlaanderen.be/data/filter/1999...</td>\n",
       "      <td>https://www.dov.vlaanderen.be/data/put/2018-00...</td>\n",
       "      <td>SWPP006</td>\n",
       "      <td>1</td>\n",
       "      <td>peilfilter</td>\n",
       "      <td>94147.0</td>\n",
       "      <td>169582.0</td>\n",
       "      <td>9.4</td>\n",
       "      <td>9.4</td>\n",
       "      <td>Wortegem-Petegem</td>\n",
       "      <td>...</td>\n",
       "      <td>onbekend</td>\n",
       "      <td>NaN</td>\n",
       "      <td>NaN</td>\n",
       "      <td>1999-05-06</td>\n",
       "      <td>NaN</td>\n",
       "      <td>9.11</td>\n",
       "      <td>onbekend</td>\n",
       "      <td>peillint</td>\n",
       "      <td>onbekend</td>\n",
       "      <td>1.0</td>\n",
       "    </tr>\n",
       "    <tr>\n",
       "      <th>4</th>\n",
       "      <td>https://www.dov.vlaanderen.be/data/filter/1999...</td>\n",
       "      <td>https://www.dov.vlaanderen.be/data/put/2018-00...</td>\n",
       "      <td>SWPP006</td>\n",
       "      <td>1</td>\n",
       "      <td>peilfilter</td>\n",
       "      <td>94147.0</td>\n",
       "      <td>169582.0</td>\n",
       "      <td>9.4</td>\n",
       "      <td>9.4</td>\n",
       "      <td>Wortegem-Petegem</td>\n",
       "      <td>...</td>\n",
       "      <td>onbekend</td>\n",
       "      <td>NaN</td>\n",
       "      <td>NaN</td>\n",
       "      <td>1999-05-18</td>\n",
       "      <td>NaN</td>\n",
       "      <td>9.01</td>\n",
       "      <td>onbekend</td>\n",
       "      <td>peillint</td>\n",
       "      <td>onbekend</td>\n",
       "      <td>1.0</td>\n",
       "    </tr>\n",
       "  </tbody>\n",
       "</table>\n",
       "<p>5 rows × 23 columns</p>\n",
       "</div>"
      ],
      "text/plain": [
       "                                         pkey_filter  \\\n",
       "0  https://www.dov.vlaanderen.be/data/filter/1999...   \n",
       "1  https://www.dov.vlaanderen.be/data/filter/1999...   \n",
       "2  https://www.dov.vlaanderen.be/data/filter/1999...   \n",
       "3  https://www.dov.vlaanderen.be/data/filter/1999...   \n",
       "4  https://www.dov.vlaanderen.be/data/filter/1999...   \n",
       "\n",
       "                              pkey_grondwaterlocatie    gw_id filternummer  \\\n",
       "0  https://www.dov.vlaanderen.be/data/put/2018-00...  SWPP006            1   \n",
       "1  https://www.dov.vlaanderen.be/data/put/2018-00...  SWPP006            1   \n",
       "2  https://www.dov.vlaanderen.be/data/put/2018-00...  SWPP006            1   \n",
       "3  https://www.dov.vlaanderen.be/data/put/2018-00...  SWPP006            1   \n",
       "4  https://www.dov.vlaanderen.be/data/put/2018-00...  SWPP006            1   \n",
       "\n",
       "   filtertype        x         y  start_grondwaterlocatie_mtaw  mv_mtaw  \\\n",
       "0  peilfilter  94147.0  169582.0                           9.4      9.4   \n",
       "1  peilfilter  94147.0  169582.0                           9.4      9.4   \n",
       "2  peilfilter  94147.0  169582.0                           9.4      9.4   \n",
       "3  peilfilter  94147.0  169582.0                           9.4      9.4   \n",
       "4  peilfilter  94147.0  169582.0                           9.4      9.4   \n",
       "\n",
       "           gemeente  ...    regime diepte_onderkant_filter  lengte_filter  \\\n",
       "0  Wortegem-Petegem  ...  onbekend                     NaN            NaN   \n",
       "1  Wortegem-Petegem  ...  onbekend                     NaN            NaN   \n",
       "2  Wortegem-Petegem  ...  onbekend                     NaN            NaN   \n",
       "3  Wortegem-Petegem  ...  onbekend                     NaN            NaN   \n",
       "4  Wortegem-Petegem  ...  onbekend                     NaN            NaN   \n",
       "\n",
       "        datum  tijdstip  peil_mtaw betrouwbaarheid   methode  filterstatus  \\\n",
       "0  1999-04-13       NaN       9.22        onbekend  peillint      onbekend   \n",
       "1  1999-04-14       NaN       9.41        onbekend  peillint      onbekend   \n",
       "2  1999-04-22       NaN       9.29        onbekend  peillint      onbekend   \n",
       "3  1999-05-06       NaN       9.11        onbekend  peillint      onbekend   \n",
       "4  1999-05-18       NaN       9.01        onbekend  peillint      onbekend   \n",
       "\n",
       "  filtertoestand  \n",
       "0            1.0  \n",
       "1            1.0  \n",
       "2            1.0  \n",
       "3            1.0  \n",
       "4            1.0  \n",
       "\n",
       "[5 rows x 23 columns]"
      ]
     },
     "execution_count": 8,
     "metadata": {},
     "output_type": "execute_result"
    }
   ],
   "source": [
    "from pydov.util.location import Within, Box\n",
    "\n",
    "df = gwfilter.search(location=Within(Box(93378, 168009, 94246, 169873)))\n",
    "df.head()"
   ]
  },
  {
   "cell_type": "markdown",
   "metadata": {},
   "source": [
    "Using the *pkey* attributes one can request the details of the corresponding *put* or *filter* in a webbrowser:"
   ]
  },
  {
   "cell_type": "code",
   "execution_count": 9,
   "metadata": {},
   "outputs": [
    {
     "name": "stdout",
     "output_type": "stream",
     "text": [
      "https://www.dov.vlaanderen.be/data/put/2018-007300\n",
      "https://www.dov.vlaanderen.be/data/put/2018-007285\n",
      "https://www.dov.vlaanderen.be/data/put/2018-007288\n",
      "https://www.dov.vlaanderen.be/data/put/2018-007312\n",
      "https://www.dov.vlaanderen.be/data/put/2018-007290\n",
      "https://www.dov.vlaanderen.be/data/put/2018-007292\n",
      "https://www.dov.vlaanderen.be/data/put/2018-007294\n",
      "https://www.dov.vlaanderen.be/data/put/2018-007287\n",
      "https://www.dov.vlaanderen.be/data/put/2017-002867\n",
      "https://www.dov.vlaanderen.be/data/put/2018-007286\n",
      "https://www.dov.vlaanderen.be/data/put/2017-002866\n",
      "https://www.dov.vlaanderen.be/data/put/2017-002868\n",
      "https://www.dov.vlaanderen.be/data/put/2018-007291\n",
      "https://www.dov.vlaanderen.be/data/put/2018-007293\n",
      "https://www.dov.vlaanderen.be/data/put/2018-007295\n",
      "https://www.dov.vlaanderen.be/data/put/2019-019725\n",
      "https://www.dov.vlaanderen.be/data/put/2018-007289\n",
      "https://www.dov.vlaanderen.be/data/put/2018-007307\n",
      "https://www.dov.vlaanderen.be/data/put/2018-007313\n",
      "https://www.dov.vlaanderen.be/data/put/2018-007299\n",
      "https://www.dov.vlaanderen.be/data/put/2018-007310\n",
      "https://www.dov.vlaanderen.be/data/put/2019-020544\n",
      "https://www.dov.vlaanderen.be/data/put/2018-007311\n",
      "https://www.dov.vlaanderen.be/data/put/2018-007305\n",
      "https://www.dov.vlaanderen.be/data/put/2018-007296\n",
      "https://www.dov.vlaanderen.be/data/put/2018-007304\n",
      "https://www.dov.vlaanderen.be/data/filter/1999-011013\n",
      "https://www.dov.vlaanderen.be/data/filter/1999-011014\n",
      "https://www.dov.vlaanderen.be/data/filter/1999-000605\n",
      "https://www.dov.vlaanderen.be/data/filter/1999-011029\n",
      "https://www.dov.vlaanderen.be/data/filter/2007-011023\n",
      "https://www.dov.vlaanderen.be/data/filter/1999-011005\n",
      "https://www.dov.vlaanderen.be/data/filter/1999-000607\n",
      "https://www.dov.vlaanderen.be/data/filter/1999-011030\n",
      "https://www.dov.vlaanderen.be/data/filter/1999-011006\n",
      "https://www.dov.vlaanderen.be/data/filter/1999-011007\n",
      "https://www.dov.vlaanderen.be/data/filter/1995-061303\n",
      "https://www.dov.vlaanderen.be/data/filter/1999-011011\n",
      "https://www.dov.vlaanderen.be/data/filter/1999-011004\n",
      "https://www.dov.vlaanderen.be/data/filter/1999-011009\n",
      "https://www.dov.vlaanderen.be/data/filter/2007-011018\n",
      "https://www.dov.vlaanderen.be/data/filter/1999-011015\n",
      "https://www.dov.vlaanderen.be/data/filter/1991-062098\n",
      "https://www.dov.vlaanderen.be/data/filter/1999-011010\n",
      "https://www.dov.vlaanderen.be/data/filter/1999-011012\n",
      "https://www.dov.vlaanderen.be/data/filter/1999-000606\n",
      "https://www.dov.vlaanderen.be/data/filter/1999-011032\n",
      "https://www.dov.vlaanderen.be/data/filter/2009-011026\n",
      "https://www.dov.vlaanderen.be/data/filter/2007-011019\n",
      "https://www.dov.vlaanderen.be/data/filter/1999-011031\n",
      "https://www.dov.vlaanderen.be/data/filter/2007-011024\n",
      "https://www.dov.vlaanderen.be/data/filter/1999-011008\n"
     ]
    }
   ],
   "source": [
    "for pkey_grondwaterlocatie in set(df.pkey_grondwaterlocatie):\n",
    "    print(pkey_grondwaterlocatie)\n",
    "\n",
    "for pkey_filter in set(df.pkey_filter):\n",
    "    print(pkey_filter)"
   ]
  },
  {
   "cell_type": "markdown",
   "metadata": {},
   "source": [
    "### Get groundwater screens with specific properties"
   ]
  },
  {
   "cell_type": "markdown",
   "metadata": {},
   "source": [
    "Next to querying groundwater screens based on their geographic location within a bounding box, we can also search for groundwater screens matching a specific set of properties. For this we can build a query using a combination of the 'GrondwaterFilter' fields and operators provided by the WFS protocol.\n",
    "\n",
    "A list of possible operators can be found below:"
   ]
  },
  {
   "cell_type": "code",
   "execution_count": 10,
   "metadata": {},
   "outputs": [
    {
     "data": {
      "text/plain": [
       "['PropertyIsBetween',\n",
       " 'PropertyIsEqualTo',\n",
       " 'PropertyIsGreaterThan',\n",
       " 'PropertyIsGreaterThanOrEqualTo',\n",
       " 'PropertyIsLessThan',\n",
       " 'PropertyIsLessThanOrEqualTo',\n",
       " 'PropertyIsLike',\n",
       " 'PropertyIsNotEqualTo',\n",
       " 'PropertyIsNull',\n",
       " 'SortProperty']"
      ]
     },
     "execution_count": 10,
     "metadata": {},
     "output_type": "execute_result"
    }
   ],
   "source": [
    "[i for i,j in inspect.getmembers(sys.modules['owslib.fes'], inspect.isclass) if 'Property' in i]"
   ]
  },
  {
   "cell_type": "markdown",
   "metadata": {},
   "source": [
    "In this example we build a query using the *PropertyIsEqualTo* operator to find all groundwater screens that are within the community (gemeente) of 'Hamme':"
   ]
  },
  {
   "cell_type": "code",
   "execution_count": 11,
   "metadata": {},
   "outputs": [
    {
     "name": "stdout",
     "output_type": "stream",
     "text": [
      "[000/002] ..\n"
     ]
    },
    {
     "data": {
      "text/html": [
       "<div>\n",
       "<style scoped>\n",
       "    .dataframe tbody tr th:only-of-type {\n",
       "        vertical-align: middle;\n",
       "    }\n",
       "\n",
       "    .dataframe tbody tr th {\n",
       "        vertical-align: top;\n",
       "    }\n",
       "\n",
       "    .dataframe thead th {\n",
       "        text-align: right;\n",
       "    }\n",
       "</style>\n",
       "<table border=\"1\" class=\"dataframe\">\n",
       "  <thead>\n",
       "    <tr style=\"text-align: right;\">\n",
       "      <th></th>\n",
       "      <th>pkey_filter</th>\n",
       "      <th>pkey_grondwaterlocatie</th>\n",
       "      <th>gw_id</th>\n",
       "      <th>filternummer</th>\n",
       "      <th>filtertype</th>\n",
       "      <th>x</th>\n",
       "      <th>y</th>\n",
       "      <th>start_grondwaterlocatie_mtaw</th>\n",
       "      <th>mv_mtaw</th>\n",
       "      <th>gemeente</th>\n",
       "      <th>...</th>\n",
       "      <th>regime</th>\n",
       "      <th>diepte_onderkant_filter</th>\n",
       "      <th>lengte_filter</th>\n",
       "      <th>datum</th>\n",
       "      <th>tijdstip</th>\n",
       "      <th>peil_mtaw</th>\n",
       "      <th>betrouwbaarheid</th>\n",
       "      <th>methode</th>\n",
       "      <th>filterstatus</th>\n",
       "      <th>filtertoestand</th>\n",
       "    </tr>\n",
       "  </thead>\n",
       "  <tbody>\n",
       "    <tr>\n",
       "      <th>0</th>\n",
       "      <td>https://www.dov.vlaanderen.be/data/filter/1993...</td>\n",
       "      <td>https://www.dov.vlaanderen.be/data/put/2019-02...</td>\n",
       "      <td>7-001016</td>\n",
       "      <td>1</td>\n",
       "      <td>pompfilter</td>\n",
       "      <td>224798.0</td>\n",
       "      <td>157819.0</td>\n",
       "      <td>130.8</td>\n",
       "      <td>130.8</td>\n",
       "      <td>Herstappe</td>\n",
       "      <td>...</td>\n",
       "      <td>freatisch</td>\n",
       "      <td>45.0</td>\n",
       "      <td>5.0</td>\n",
       "      <td>NaN</td>\n",
       "      <td>NaN</td>\n",
       "      <td>NaN</td>\n",
       "      <td>NaN</td>\n",
       "      <td>NaN</td>\n",
       "      <td>NaN</td>\n",
       "      <td>NaN</td>\n",
       "    </tr>\n",
       "    <tr>\n",
       "      <th>1</th>\n",
       "      <td>https://www.dov.vlaanderen.be/data/filter/1900...</td>\n",
       "      <td>https://www.dov.vlaanderen.be/data/put/2019-05...</td>\n",
       "      <td>7-97027</td>\n",
       "      <td>1</td>\n",
       "      <td>pompfilter</td>\n",
       "      <td>224843.0</td>\n",
       "      <td>157842.0</td>\n",
       "      <td>-1.0</td>\n",
       "      <td>-1.0</td>\n",
       "      <td>Herstappe</td>\n",
       "      <td>...</td>\n",
       "      <td>onbekend</td>\n",
       "      <td>NaN</td>\n",
       "      <td>NaN</td>\n",
       "      <td>NaN</td>\n",
       "      <td>NaN</td>\n",
       "      <td>NaN</td>\n",
       "      <td>NaN</td>\n",
       "      <td>NaN</td>\n",
       "      <td>NaN</td>\n",
       "      <td>NaN</td>\n",
       "    </tr>\n",
       "  </tbody>\n",
       "</table>\n",
       "<p>2 rows × 23 columns</p>\n",
       "</div>"
      ],
      "text/plain": [
       "                                         pkey_filter  \\\n",
       "0  https://www.dov.vlaanderen.be/data/filter/1993...   \n",
       "1  https://www.dov.vlaanderen.be/data/filter/1900...   \n",
       "\n",
       "                              pkey_grondwaterlocatie     gw_id filternummer  \\\n",
       "0  https://www.dov.vlaanderen.be/data/put/2019-02...  7-001016            1   \n",
       "1  https://www.dov.vlaanderen.be/data/put/2019-05...   7-97027            1   \n",
       "\n",
       "   filtertype         x         y  start_grondwaterlocatie_mtaw  mv_mtaw  \\\n",
       "0  pompfilter  224798.0  157819.0                         130.8    130.8   \n",
       "1  pompfilter  224843.0  157842.0                          -1.0     -1.0   \n",
       "\n",
       "    gemeente  ...     regime diepte_onderkant_filter lengte_filter datum  \\\n",
       "0  Herstappe  ...  freatisch                    45.0           5.0   NaN   \n",
       "1  Herstappe  ...   onbekend                     NaN           NaN   NaN   \n",
       "\n",
       "   tijdstip  peil_mtaw  betrouwbaarheid  methode  filterstatus  filtertoestand  \n",
       "0       NaN        NaN              NaN      NaN           NaN             NaN  \n",
       "1       NaN        NaN              NaN      NaN           NaN             NaN  \n",
       "\n",
       "[2 rows x 23 columns]"
      ]
     },
     "execution_count": 11,
     "metadata": {},
     "output_type": "execute_result"
    }
   ],
   "source": [
    "from owslib.fes import PropertyIsEqualTo\n",
    "\n",
    "query = PropertyIsEqualTo(\n",
    "            propertyname='gemeente',\n",
    "            literal='Herstappe')\n",
    "\n",
    "df = gwfilter.search(query=query)\n",
    "df.head()"
   ]
  },
  {
   "cell_type": "markdown",
   "metadata": {},
   "source": [
    "Once again we can use the *pkey_filter* as a permanent link to the information of the groundwater screens:"
   ]
  },
  {
   "cell_type": "code",
   "execution_count": 12,
   "metadata": {},
   "outputs": [
    {
     "name": "stdout",
     "output_type": "stream",
     "text": [
      "https://www.dov.vlaanderen.be/data/filter/1993-065801\n",
      "https://www.dov.vlaanderen.be/data/filter/1900-050992\n"
     ]
    }
   ],
   "source": [
    "for pkey_filter in set(df.pkey_filter):\n",
    "    print(pkey_filter)"
   ]
  },
  {
   "cell_type": "markdown",
   "metadata": {},
   "source": [
    "### Get the coordinates of all groundwater screens in Ghent"
   ]
  },
  {
   "cell_type": "code",
   "execution_count": 13,
   "metadata": {},
   "outputs": [
    {
     "data": {
      "text/html": [
       "<div>\n",
       "<style scoped>\n",
       "    .dataframe tbody tr th:only-of-type {\n",
       "        vertical-align: middle;\n",
       "    }\n",
       "\n",
       "    .dataframe tbody tr th {\n",
       "        vertical-align: top;\n",
       "    }\n",
       "\n",
       "    .dataframe thead th {\n",
       "        text-align: right;\n",
       "    }\n",
       "</style>\n",
       "<table border=\"1\" class=\"dataframe\">\n",
       "  <thead>\n",
       "    <tr style=\"text-align: right;\">\n",
       "      <th></th>\n",
       "      <th>pkey_filter</th>\n",
       "      <th>x</th>\n",
       "      <th>y</th>\n",
       "      <th>meetnet</th>\n",
       "    </tr>\n",
       "  </thead>\n",
       "  <tbody>\n",
       "    <tr>\n",
       "      <th>0</th>\n",
       "      <td>https://www.dov.vlaanderen.be/data/filter/1900...</td>\n",
       "      <td>110246.555</td>\n",
       "      <td>205702.179</td>\n",
       "      <td>meetnet 7 - winningsputten</td>\n",
       "    </tr>\n",
       "    <tr>\n",
       "      <th>1</th>\n",
       "      <td>https://www.dov.vlaanderen.be/data/filter/1999...</td>\n",
       "      <td>98347.000</td>\n",
       "      <td>191821.000</td>\n",
       "      <td>meetnet 9 - peilputten INBO en natuurorganisaties</td>\n",
       "    </tr>\n",
       "    <tr>\n",
       "      <th>2</th>\n",
       "      <td>https://www.dov.vlaanderen.be/data/filter/1999...</td>\n",
       "      <td>98514.000</td>\n",
       "      <td>191518.000</td>\n",
       "      <td>meetnet 9 - peilputten INBO en natuurorganisaties</td>\n",
       "    </tr>\n",
       "    <tr>\n",
       "      <th>3</th>\n",
       "      <td>https://www.dov.vlaanderen.be/data/filter/1999...</td>\n",
       "      <td>98630.000</td>\n",
       "      <td>191301.000</td>\n",
       "      <td>meetnet 9 - peilputten INBO en natuurorganisaties</td>\n",
       "    </tr>\n",
       "    <tr>\n",
       "      <th>4</th>\n",
       "      <td>https://www.dov.vlaanderen.be/data/filter/1999...</td>\n",
       "      <td>99017.000</td>\n",
       "      <td>191447.000</td>\n",
       "      <td>meetnet 9 - peilputten INBO en natuurorganisaties</td>\n",
       "    </tr>\n",
       "  </tbody>\n",
       "</table>\n",
       "</div>"
      ],
      "text/plain": [
       "                                         pkey_filter           x           y  \\\n",
       "0  https://www.dov.vlaanderen.be/data/filter/1900...  110246.555  205702.179   \n",
       "1  https://www.dov.vlaanderen.be/data/filter/1999...   98347.000  191821.000   \n",
       "2  https://www.dov.vlaanderen.be/data/filter/1999...   98514.000  191518.000   \n",
       "3  https://www.dov.vlaanderen.be/data/filter/1999...   98630.000  191301.000   \n",
       "4  https://www.dov.vlaanderen.be/data/filter/1999...   99017.000  191447.000   \n",
       "\n",
       "                                             meetnet  \n",
       "0                         meetnet 7 - winningsputten  \n",
       "1  meetnet 9 - peilputten INBO en natuurorganisaties  \n",
       "2  meetnet 9 - peilputten INBO en natuurorganisaties  \n",
       "3  meetnet 9 - peilputten INBO en natuurorganisaties  \n",
       "4  meetnet 9 - peilputten INBO en natuurorganisaties  "
      ]
     },
     "execution_count": 13,
     "metadata": {},
     "output_type": "execute_result"
    }
   ],
   "source": [
    "query = PropertyIsEqualTo(propertyname='gemeente',\n",
    "                          literal='Gent')\n",
    "\n",
    "df = gwfilter.search(query=query,\n",
    "                     return_fields=('pkey_filter', 'x', 'y', 'meetnet'))\n",
    "df.head()"
   ]
  },
  {
   "cell_type": "markdown",
   "metadata": {},
   "source": [
    "### Get the 'meetnet' and 'meetnet_code' for groundwater screens in Boortmeerbeek"
   ]
  },
  {
   "cell_type": "code",
   "execution_count": 14,
   "metadata": {},
   "outputs": [
    {
     "name": "stdout",
     "output_type": "stream",
     "text": [
      "[000/050] ..................................................\n"
     ]
    },
    {
     "data": {
      "text/html": [
       "<div>\n",
       "<style scoped>\n",
       "    .dataframe tbody tr th:only-of-type {\n",
       "        vertical-align: middle;\n",
       "    }\n",
       "\n",
       "    .dataframe tbody tr th {\n",
       "        vertical-align: top;\n",
       "    }\n",
       "\n",
       "    .dataframe thead th {\n",
       "        text-align: right;\n",
       "    }\n",
       "</style>\n",
       "<table border=\"1\" class=\"dataframe\">\n",
       "  <thead>\n",
       "    <tr style=\"text-align: right;\">\n",
       "      <th></th>\n",
       "      <th>pkey_filter</th>\n",
       "      <th>meetnet</th>\n",
       "      <th>meetnet_code</th>\n",
       "    </tr>\n",
       "  </thead>\n",
       "  <tbody>\n",
       "    <tr>\n",
       "      <th>0</th>\n",
       "      <td>https://www.dov.vlaanderen.be/data/filter/1981...</td>\n",
       "      <td>meetnet 7 - winningsputten</td>\n",
       "      <td>7</td>\n",
       "    </tr>\n",
       "    <tr>\n",
       "      <th>1</th>\n",
       "      <td>https://www.dov.vlaanderen.be/data/filter/2018...</td>\n",
       "      <td>meetnet 7 - winningsputten</td>\n",
       "      <td>7</td>\n",
       "    </tr>\n",
       "    <tr>\n",
       "      <th>2</th>\n",
       "      <td>https://www.dov.vlaanderen.be/data/filter/1976...</td>\n",
       "      <td>meetnet 7 - winningsputten</td>\n",
       "      <td>7</td>\n",
       "    </tr>\n",
       "    <tr>\n",
       "      <th>3</th>\n",
       "      <td>https://www.dov.vlaanderen.be/data/filter/1980...</td>\n",
       "      <td>meetnet 7 - winningsputten</td>\n",
       "      <td>7</td>\n",
       "    </tr>\n",
       "    <tr>\n",
       "      <th>4</th>\n",
       "      <td>https://www.dov.vlaanderen.be/data/filter/1980...</td>\n",
       "      <td>meetnet 7 - winningsputten</td>\n",
       "      <td>7</td>\n",
       "    </tr>\n",
       "  </tbody>\n",
       "</table>\n",
       "</div>"
      ],
      "text/plain": [
       "                                         pkey_filter  \\\n",
       "0  https://www.dov.vlaanderen.be/data/filter/1981...   \n",
       "1  https://www.dov.vlaanderen.be/data/filter/2018...   \n",
       "2  https://www.dov.vlaanderen.be/data/filter/1976...   \n",
       "3  https://www.dov.vlaanderen.be/data/filter/1980...   \n",
       "4  https://www.dov.vlaanderen.be/data/filter/1980...   \n",
       "\n",
       "                      meetnet meetnet_code  \n",
       "0  meetnet 7 - winningsputten            7  \n",
       "1  meetnet 7 - winningsputten            7  \n",
       "2  meetnet 7 - winningsputten            7  \n",
       "3  meetnet 7 - winningsputten            7  \n",
       "4  meetnet 7 - winningsputten            7  "
      ]
     },
     "execution_count": 14,
     "metadata": {},
     "output_type": "execute_result"
    }
   ],
   "source": [
    "query = PropertyIsEqualTo(propertyname='gemeente',\n",
    "                          literal='Boortmeerbeek')\n",
    "\n",
    "df = gwfilter.search(query=query,\n",
    "                   return_fields=('pkey_filter', 'meetnet', 'meetnet_code'))\n",
    "df.head()"
   ]
  },
  {
   "cell_type": "markdown",
   "metadata": {},
   "source": [
    "### Get all details of groundwaterscreens of 'meetnet 9' within the given bounding box"
   ]
  },
  {
   "cell_type": "code",
   "execution_count": 15,
   "metadata": {},
   "outputs": [
    {
     "name": "stdout",
     "output_type": "stream",
     "text": [
      "[000/017] .................\n"
     ]
    },
    {
     "data": {
      "text/html": [
       "<div>\n",
       "<style scoped>\n",
       "    .dataframe tbody tr th:only-of-type {\n",
       "        vertical-align: middle;\n",
       "    }\n",
       "\n",
       "    .dataframe tbody tr th {\n",
       "        vertical-align: top;\n",
       "    }\n",
       "\n",
       "    .dataframe thead th {\n",
       "        text-align: right;\n",
       "    }\n",
       "</style>\n",
       "<table border=\"1\" class=\"dataframe\">\n",
       "  <thead>\n",
       "    <tr style=\"text-align: right;\">\n",
       "      <th></th>\n",
       "      <th>pkey_filter</th>\n",
       "      <th>pkey_grondwaterlocatie</th>\n",
       "      <th>gw_id</th>\n",
       "      <th>filternummer</th>\n",
       "      <th>filtertype</th>\n",
       "      <th>x</th>\n",
       "      <th>y</th>\n",
       "      <th>start_grondwaterlocatie_mtaw</th>\n",
       "      <th>mv_mtaw</th>\n",
       "      <th>gemeente</th>\n",
       "      <th>...</th>\n",
       "      <th>regime</th>\n",
       "      <th>diepte_onderkant_filter</th>\n",
       "      <th>lengte_filter</th>\n",
       "      <th>datum</th>\n",
       "      <th>tijdstip</th>\n",
       "      <th>peil_mtaw</th>\n",
       "      <th>betrouwbaarheid</th>\n",
       "      <th>methode</th>\n",
       "      <th>filterstatus</th>\n",
       "      <th>filtertoestand</th>\n",
       "    </tr>\n",
       "  </thead>\n",
       "  <tbody>\n",
       "    <tr>\n",
       "      <th>0</th>\n",
       "      <td>https://www.dov.vlaanderen.be/data/filter/1999...</td>\n",
       "      <td>https://www.dov.vlaanderen.be/data/put/2017-00...</td>\n",
       "      <td>WVSP009</td>\n",
       "      <td>1</td>\n",
       "      <td>peilfilter</td>\n",
       "      <td>89720.046875</td>\n",
       "      <td>165712.140625</td>\n",
       "      <td>11.84</td>\n",
       "      <td>11.84</td>\n",
       "      <td>Avelgem</td>\n",
       "      <td>...</td>\n",
       "      <td>onbekend</td>\n",
       "      <td>5.78</td>\n",
       "      <td>1.0</td>\n",
       "      <td>1999-01-12</td>\n",
       "      <td>NaN</td>\n",
       "      <td>12.20</td>\n",
       "      <td>onbekend</td>\n",
       "      <td>peillint</td>\n",
       "      <td>in rust</td>\n",
       "      <td>1.0</td>\n",
       "    </tr>\n",
       "    <tr>\n",
       "      <th>1</th>\n",
       "      <td>https://www.dov.vlaanderen.be/data/filter/1999...</td>\n",
       "      <td>https://www.dov.vlaanderen.be/data/put/2017-00...</td>\n",
       "      <td>WVSP009</td>\n",
       "      <td>1</td>\n",
       "      <td>peilfilter</td>\n",
       "      <td>89720.046875</td>\n",
       "      <td>165712.140625</td>\n",
       "      <td>11.84</td>\n",
       "      <td>11.84</td>\n",
       "      <td>Avelgem</td>\n",
       "      <td>...</td>\n",
       "      <td>onbekend</td>\n",
       "      <td>5.78</td>\n",
       "      <td>1.0</td>\n",
       "      <td>1999-01-21</td>\n",
       "      <td>NaN</td>\n",
       "      <td>12.26</td>\n",
       "      <td>onbekend</td>\n",
       "      <td>peillint</td>\n",
       "      <td>in rust</td>\n",
       "      <td>1.0</td>\n",
       "    </tr>\n",
       "    <tr>\n",
       "      <th>2</th>\n",
       "      <td>https://www.dov.vlaanderen.be/data/filter/1999...</td>\n",
       "      <td>https://www.dov.vlaanderen.be/data/put/2017-00...</td>\n",
       "      <td>WVSP009</td>\n",
       "      <td>1</td>\n",
       "      <td>peilfilter</td>\n",
       "      <td>89720.046875</td>\n",
       "      <td>165712.140625</td>\n",
       "      <td>11.84</td>\n",
       "      <td>11.84</td>\n",
       "      <td>Avelgem</td>\n",
       "      <td>...</td>\n",
       "      <td>onbekend</td>\n",
       "      <td>5.78</td>\n",
       "      <td>1.0</td>\n",
       "      <td>1999-02-01</td>\n",
       "      <td>NaN</td>\n",
       "      <td>12.31</td>\n",
       "      <td>onbekend</td>\n",
       "      <td>peillint</td>\n",
       "      <td>in rust</td>\n",
       "      <td>1.0</td>\n",
       "    </tr>\n",
       "    <tr>\n",
       "      <th>3</th>\n",
       "      <td>https://www.dov.vlaanderen.be/data/filter/1999...</td>\n",
       "      <td>https://www.dov.vlaanderen.be/data/put/2017-00...</td>\n",
       "      <td>WVSP009</td>\n",
       "      <td>1</td>\n",
       "      <td>peilfilter</td>\n",
       "      <td>89720.046875</td>\n",
       "      <td>165712.140625</td>\n",
       "      <td>11.84</td>\n",
       "      <td>11.84</td>\n",
       "      <td>Avelgem</td>\n",
       "      <td>...</td>\n",
       "      <td>onbekend</td>\n",
       "      <td>5.78</td>\n",
       "      <td>1.0</td>\n",
       "      <td>1999-02-06</td>\n",
       "      <td>NaN</td>\n",
       "      <td>12.29</td>\n",
       "      <td>onbekend</td>\n",
       "      <td>peillint</td>\n",
       "      <td>in rust</td>\n",
       "      <td>1.0</td>\n",
       "    </tr>\n",
       "    <tr>\n",
       "      <th>4</th>\n",
       "      <td>https://www.dov.vlaanderen.be/data/filter/1999...</td>\n",
       "      <td>https://www.dov.vlaanderen.be/data/put/2017-00...</td>\n",
       "      <td>WVSP009</td>\n",
       "      <td>1</td>\n",
       "      <td>peilfilter</td>\n",
       "      <td>89720.046875</td>\n",
       "      <td>165712.140625</td>\n",
       "      <td>11.84</td>\n",
       "      <td>11.84</td>\n",
       "      <td>Avelgem</td>\n",
       "      <td>...</td>\n",
       "      <td>onbekend</td>\n",
       "      <td>5.78</td>\n",
       "      <td>1.0</td>\n",
       "      <td>1999-02-12</td>\n",
       "      <td>NaN</td>\n",
       "      <td>12.18</td>\n",
       "      <td>onbekend</td>\n",
       "      <td>peillint</td>\n",
       "      <td>in rust</td>\n",
       "      <td>1.0</td>\n",
       "    </tr>\n",
       "  </tbody>\n",
       "</table>\n",
       "<p>5 rows × 23 columns</p>\n",
       "</div>"
      ],
      "text/plain": [
       "                                         pkey_filter  \\\n",
       "0  https://www.dov.vlaanderen.be/data/filter/1999...   \n",
       "1  https://www.dov.vlaanderen.be/data/filter/1999...   \n",
       "2  https://www.dov.vlaanderen.be/data/filter/1999...   \n",
       "3  https://www.dov.vlaanderen.be/data/filter/1999...   \n",
       "4  https://www.dov.vlaanderen.be/data/filter/1999...   \n",
       "\n",
       "                              pkey_grondwaterlocatie    gw_id filternummer  \\\n",
       "0  https://www.dov.vlaanderen.be/data/put/2017-00...  WVSP009            1   \n",
       "1  https://www.dov.vlaanderen.be/data/put/2017-00...  WVSP009            1   \n",
       "2  https://www.dov.vlaanderen.be/data/put/2017-00...  WVSP009            1   \n",
       "3  https://www.dov.vlaanderen.be/data/put/2017-00...  WVSP009            1   \n",
       "4  https://www.dov.vlaanderen.be/data/put/2017-00...  WVSP009            1   \n",
       "\n",
       "   filtertype             x              y  start_grondwaterlocatie_mtaw  \\\n",
       "0  peilfilter  89720.046875  165712.140625                         11.84   \n",
       "1  peilfilter  89720.046875  165712.140625                         11.84   \n",
       "2  peilfilter  89720.046875  165712.140625                         11.84   \n",
       "3  peilfilter  89720.046875  165712.140625                         11.84   \n",
       "4  peilfilter  89720.046875  165712.140625                         11.84   \n",
       "\n",
       "   mv_mtaw gemeente  ...    regime diepte_onderkant_filter  lengte_filter  \\\n",
       "0    11.84  Avelgem  ...  onbekend                    5.78            1.0   \n",
       "1    11.84  Avelgem  ...  onbekend                    5.78            1.0   \n",
       "2    11.84  Avelgem  ...  onbekend                    5.78            1.0   \n",
       "3    11.84  Avelgem  ...  onbekend                    5.78            1.0   \n",
       "4    11.84  Avelgem  ...  onbekend                    5.78            1.0   \n",
       "\n",
       "        datum  tijdstip  peil_mtaw betrouwbaarheid   methode  filterstatus  \\\n",
       "0  1999-01-12       NaN      12.20        onbekend  peillint       in rust   \n",
       "1  1999-01-21       NaN      12.26        onbekend  peillint       in rust   \n",
       "2  1999-02-01       NaN      12.31        onbekend  peillint       in rust   \n",
       "3  1999-02-06       NaN      12.29        onbekend  peillint       in rust   \n",
       "4  1999-02-12       NaN      12.18        onbekend  peillint       in rust   \n",
       "\n",
       "  filtertoestand  \n",
       "0            1.0  \n",
       "1            1.0  \n",
       "2            1.0  \n",
       "3            1.0  \n",
       "4            1.0  \n",
       "\n",
       "[5 rows x 23 columns]"
      ]
     },
     "execution_count": 15,
     "metadata": {},
     "output_type": "execute_result"
    }
   ],
   "source": [
    "from owslib.fes import PropertyIsLike\n",
    "\n",
    "query = PropertyIsLike(propertyname='meetnet',\n",
    "                       literal='meetnet 9 %')\n",
    "df = gwfilter.search(query=query,\n",
    "                     location=Within(Box(87676, 163442, 91194, 168043)))\n",
    "df.head()"
   ]
  },
  {
   "cell_type": "markdown",
   "metadata": {},
   "source": [
    "### Get groundwater screens based on a combination of specific properties"
   ]
  },
  {
   "cell_type": "markdown",
   "metadata": {},
   "source": [
    "Get all groundwater screens in Hamme that have a value for length_filter and either belong to the primary meetnet of VMM or that have a depth bottom screen less than 3 meter."
   ]
  },
  {
   "cell_type": "code",
   "execution_count": 16,
   "metadata": {},
   "outputs": [
    {
     "data": {
      "text/html": [
       "<div>\n",
       "<style scoped>\n",
       "    .dataframe tbody tr th:only-of-type {\n",
       "        vertical-align: middle;\n",
       "    }\n",
       "\n",
       "    .dataframe tbody tr th {\n",
       "        vertical-align: top;\n",
       "    }\n",
       "\n",
       "    .dataframe thead th {\n",
       "        text-align: right;\n",
       "    }\n",
       "</style>\n",
       "<table border=\"1\" class=\"dataframe\">\n",
       "  <thead>\n",
       "    <tr style=\"text-align: right;\">\n",
       "      <th></th>\n",
       "      <th>pkey_filter</th>\n",
       "      <th>x</th>\n",
       "      <th>y</th>\n",
       "      <th>gw_id</th>\n",
       "      <th>filternummer</th>\n",
       "      <th>diepte_onderkant_filter</th>\n",
       "    </tr>\n",
       "  </thead>\n",
       "  <tbody>\n",
       "    <tr>\n",
       "      <th>0</th>\n",
       "      <td>https://www.dov.vlaanderen.be/data/filter/2001...</td>\n",
       "      <td>130078.000000</td>\n",
       "      <td>196561.000000</td>\n",
       "      <td>MORP002</td>\n",
       "      <td>1</td>\n",
       "      <td>1.91</td>\n",
       "    </tr>\n",
       "    <tr>\n",
       "      <th>1</th>\n",
       "      <td>https://www.dov.vlaanderen.be/data/filter/2003...</td>\n",
       "      <td>131763.200000</td>\n",
       "      <td>198674.500000</td>\n",
       "      <td>802/21/3</td>\n",
       "      <td>1</td>\n",
       "      <td>2.50</td>\n",
       "    </tr>\n",
       "    <tr>\n",
       "      <th>2</th>\n",
       "      <td>https://www.dov.vlaanderen.be/data/filter/2003...</td>\n",
       "      <td>131837.656250</td>\n",
       "      <td>197054.203125</td>\n",
       "      <td>810/21/1</td>\n",
       "      <td>1</td>\n",
       "      <td>2.50</td>\n",
       "    </tr>\n",
       "    <tr>\n",
       "      <th>3</th>\n",
       "      <td>https://www.dov.vlaanderen.be/data/filter/2003...</td>\n",
       "      <td>133865.921875</td>\n",
       "      <td>195656.328125</td>\n",
       "      <td>813/21/2</td>\n",
       "      <td>1</td>\n",
       "      <td>2.50</td>\n",
       "    </tr>\n",
       "    <tr>\n",
       "      <th>4</th>\n",
       "      <td>https://www.dov.vlaanderen.be/data/filter/2000...</td>\n",
       "      <td>130190.000000</td>\n",
       "      <td>196378.000000</td>\n",
       "      <td>MORP001</td>\n",
       "      <td>1</td>\n",
       "      <td>1.59</td>\n",
       "    </tr>\n",
       "  </tbody>\n",
       "</table>\n",
       "</div>"
      ],
      "text/plain": [
       "                                         pkey_filter              x  \\\n",
       "0  https://www.dov.vlaanderen.be/data/filter/2001...  130078.000000   \n",
       "1  https://www.dov.vlaanderen.be/data/filter/2003...  131763.200000   \n",
       "2  https://www.dov.vlaanderen.be/data/filter/2003...  131837.656250   \n",
       "3  https://www.dov.vlaanderen.be/data/filter/2003...  133865.921875   \n",
       "4  https://www.dov.vlaanderen.be/data/filter/2000...  130190.000000   \n",
       "\n",
       "               y     gw_id filternummer  diepte_onderkant_filter  \n",
       "0  196561.000000   MORP002            1                     1.91  \n",
       "1  198674.500000  802/21/3            1                     2.50  \n",
       "2  197054.203125  810/21/1            1                     2.50  \n",
       "3  195656.328125  813/21/2            1                     2.50  \n",
       "4  196378.000000   MORP001            1                     1.59  "
      ]
     },
     "execution_count": 16,
     "metadata": {},
     "output_type": "execute_result"
    }
   ],
   "source": [
    "from owslib.fes import Or, Not, PropertyIsNull, PropertyIsLessThanOrEqualTo, And\n",
    "\n",
    "query = And([PropertyIsEqualTo(propertyname='gemeente',\n",
    "                               literal='Hamme'),\n",
    "             Not([PropertyIsNull(propertyname='lengte_filter')]),\n",
    "             Or([PropertyIsLike(propertyname='meetnet',\n",
    "                                literal='meetnet 1%'),\n",
    "                 PropertyIsLessThanOrEqualTo(\n",
    "                     propertyname='diepte_onderkant_filter',\n",
    "                     literal='3')])])\n",
    "df_hamme = gwfilter.search(query=query,\n",
    "                     return_fields=('pkey_filter', 'x', 'y', 'gw_id', 'filternummer', 'diepte_onderkant_filter'))\n",
    "df_hamme.head()"
   ]
  },
  {
   "cell_type": "markdown",
   "metadata": {},
   "source": [
    "## Combine `datum` and `tijdstip` in a datetime object"
   ]
  },
  {
   "cell_type": "markdown",
   "metadata": {},
   "source": [
    "Get some data and keep only the relevant waterlevel measurements:"
   ]
  },
  {
   "cell_type": "code",
   "execution_count": 17,
   "metadata": {},
   "outputs": [
    {
     "name": "stdout",
     "output_type": "stream",
     "text": [
      "[000/001] .\n"
     ]
    }
   ],
   "source": [
    "query = PropertyIsEqualTo(\n",
    "            propertyname='pkey_filter',\n",
    "            literal='https://www.dov.vlaanderen.be/data/filter/1997-000494')\n",
    "\n",
    "df = gwfilter.search(query=query)\n",
    "df = df[df.filterstatus == \"in rust\"]"
   ]
  },
  {
   "cell_type": "markdown",
   "metadata": {},
   "source": [
    "If the `tijdstip` field contains data, it can be combined with the `datum` field to create a date.datetime object. Make sure to fill the empty `tijdstip` fields with a default timestamp."
   ]
  },
  {
   "cell_type": "code",
   "execution_count": 18,
   "metadata": {},
   "outputs": [
    {
     "data": {
      "text/plain": [
       "0   1998-07-31 01:05:00\n",
       "1   1999-01-16 15:01:00\n",
       "2   1999-08-14 01:05:00\n",
       "3   1999-11-14 02:40:00\n",
       "4   1999-12-27 00:01:00\n",
       "Name: tijd, dtype: datetime64[ns]"
      ]
     },
     "execution_count": 18,
     "metadata": {},
     "output_type": "execute_result"
    }
   ],
   "source": [
    "import pandas as pd\n",
    "df.reset_index(inplace=True)\n",
    "df['tijdstip'] = df.tijdstip.fillna('00:00:00')\n",
    "df['tijd'] = pd.to_datetime(df.datum.astype(str)+' '+df.tijdstip.astype(str))\n",
    "df.tijd.head()"
   ]
  },
  {
   "cell_type": "markdown",
   "metadata": {},
   "source": [
    "## Working with water head time series "
   ]
  },
  {
   "cell_type": "markdown",
   "metadata": {},
   "source": [
    "For further analysis and visualisation of the time series data, we can use the data analysis library [pandas](https://pandas.pydata.org/) and visualisation library [matplotlib](https://matplotlib.org/). "
   ]
  },
  {
   "cell_type": "code",
   "execution_count": 19,
   "metadata": {},
   "outputs": [],
   "source": [
    "import pandas as pd\n",
    "import matplotlib.pyplot as plt"
   ]
  },
  {
   "cell_type": "markdown",
   "metadata": {},
   "source": [
    "Query the data of a specific filter using its `pkey`:"
   ]
  },
  {
   "cell_type": "code",
   "execution_count": 20,
   "metadata": {},
   "outputs": [
    {
     "name": "stdout",
     "output_type": "stream",
     "text": [
      "[000/001] .\n"
     ]
    },
    {
     "data": {
      "text/html": [
       "<div>\n",
       "<style scoped>\n",
       "    .dataframe tbody tr th:only-of-type {\n",
       "        vertical-align: middle;\n",
       "    }\n",
       "\n",
       "    .dataframe tbody tr th {\n",
       "        vertical-align: top;\n",
       "    }\n",
       "\n",
       "    .dataframe thead th {\n",
       "        text-align: right;\n",
       "    }\n",
       "</style>\n",
       "<table border=\"1\" class=\"dataframe\">\n",
       "  <thead>\n",
       "    <tr style=\"text-align: right;\">\n",
       "      <th></th>\n",
       "      <th>pkey_filter</th>\n",
       "      <th>pkey_grondwaterlocatie</th>\n",
       "      <th>gw_id</th>\n",
       "      <th>filternummer</th>\n",
       "      <th>filtertype</th>\n",
       "      <th>x</th>\n",
       "      <th>y</th>\n",
       "      <th>start_grondwaterlocatie_mtaw</th>\n",
       "      <th>mv_mtaw</th>\n",
       "      <th>gemeente</th>\n",
       "      <th>...</th>\n",
       "      <th>regime</th>\n",
       "      <th>diepte_onderkant_filter</th>\n",
       "      <th>lengte_filter</th>\n",
       "      <th>datum</th>\n",
       "      <th>tijdstip</th>\n",
       "      <th>peil_mtaw</th>\n",
       "      <th>betrouwbaarheid</th>\n",
       "      <th>methode</th>\n",
       "      <th>filterstatus</th>\n",
       "      <th>filtertoestand</th>\n",
       "    </tr>\n",
       "  </thead>\n",
       "  <tbody>\n",
       "    <tr>\n",
       "      <th>0</th>\n",
       "      <td>https://www.dov.vlaanderen.be/data/filter/2003...</td>\n",
       "      <td>https://www.dov.vlaanderen.be/data/put/2018-00...</td>\n",
       "      <td>ZWAP205</td>\n",
       "      <td>1</td>\n",
       "      <td>peilfilter</td>\n",
       "      <td>218953.0</td>\n",
       "      <td>198767.0</td>\n",
       "      <td>58.44</td>\n",
       "      <td>58.44</td>\n",
       "      <td>Houthalen-Helchteren</td>\n",
       "      <td>...</td>\n",
       "      <td>onbekend</td>\n",
       "      <td>0.68</td>\n",
       "      <td>0.3</td>\n",
       "      <td>2003-10-18</td>\n",
       "      <td>NaN</td>\n",
       "      <td>58.26</td>\n",
       "      <td>onbekend</td>\n",
       "      <td>peillint</td>\n",
       "      <td>onbekend</td>\n",
       "      <td>1</td>\n",
       "    </tr>\n",
       "    <tr>\n",
       "      <th>1</th>\n",
       "      <td>https://www.dov.vlaanderen.be/data/filter/2003...</td>\n",
       "      <td>https://www.dov.vlaanderen.be/data/put/2018-00...</td>\n",
       "      <td>ZWAP205</td>\n",
       "      <td>1</td>\n",
       "      <td>peilfilter</td>\n",
       "      <td>218953.0</td>\n",
       "      <td>198767.0</td>\n",
       "      <td>58.44</td>\n",
       "      <td>58.44</td>\n",
       "      <td>Houthalen-Helchteren</td>\n",
       "      <td>...</td>\n",
       "      <td>onbekend</td>\n",
       "      <td>0.68</td>\n",
       "      <td>0.3</td>\n",
       "      <td>2003-11-01</td>\n",
       "      <td>NaN</td>\n",
       "      <td>58.30</td>\n",
       "      <td>onbekend</td>\n",
       "      <td>peillint</td>\n",
       "      <td>onbekend</td>\n",
       "      <td>1</td>\n",
       "    </tr>\n",
       "    <tr>\n",
       "      <th>2</th>\n",
       "      <td>https://www.dov.vlaanderen.be/data/filter/2003...</td>\n",
       "      <td>https://www.dov.vlaanderen.be/data/put/2018-00...</td>\n",
       "      <td>ZWAP205</td>\n",
       "      <td>1</td>\n",
       "      <td>peilfilter</td>\n",
       "      <td>218953.0</td>\n",
       "      <td>198767.0</td>\n",
       "      <td>58.44</td>\n",
       "      <td>58.44</td>\n",
       "      <td>Houthalen-Helchteren</td>\n",
       "      <td>...</td>\n",
       "      <td>onbekend</td>\n",
       "      <td>0.68</td>\n",
       "      <td>0.3</td>\n",
       "      <td>2003-11-17</td>\n",
       "      <td>NaN</td>\n",
       "      <td>58.31</td>\n",
       "      <td>onbekend</td>\n",
       "      <td>peillint</td>\n",
       "      <td>onbekend</td>\n",
       "      <td>1</td>\n",
       "    </tr>\n",
       "    <tr>\n",
       "      <th>3</th>\n",
       "      <td>https://www.dov.vlaanderen.be/data/filter/2003...</td>\n",
       "      <td>https://www.dov.vlaanderen.be/data/put/2018-00...</td>\n",
       "      <td>ZWAP205</td>\n",
       "      <td>1</td>\n",
       "      <td>peilfilter</td>\n",
       "      <td>218953.0</td>\n",
       "      <td>198767.0</td>\n",
       "      <td>58.44</td>\n",
       "      <td>58.44</td>\n",
       "      <td>Houthalen-Helchteren</td>\n",
       "      <td>...</td>\n",
       "      <td>onbekend</td>\n",
       "      <td>0.68</td>\n",
       "      <td>0.3</td>\n",
       "      <td>2003-11-23</td>\n",
       "      <td>NaN</td>\n",
       "      <td>58.31</td>\n",
       "      <td>onbekend</td>\n",
       "      <td>peillint</td>\n",
       "      <td>onbekend</td>\n",
       "      <td>1</td>\n",
       "    </tr>\n",
       "    <tr>\n",
       "      <th>4</th>\n",
       "      <td>https://www.dov.vlaanderen.be/data/filter/2003...</td>\n",
       "      <td>https://www.dov.vlaanderen.be/data/put/2018-00...</td>\n",
       "      <td>ZWAP205</td>\n",
       "      <td>1</td>\n",
       "      <td>peilfilter</td>\n",
       "      <td>218953.0</td>\n",
       "      <td>198767.0</td>\n",
       "      <td>58.44</td>\n",
       "      <td>58.44</td>\n",
       "      <td>Houthalen-Helchteren</td>\n",
       "      <td>...</td>\n",
       "      <td>onbekend</td>\n",
       "      <td>0.68</td>\n",
       "      <td>0.3</td>\n",
       "      <td>2003-12-14</td>\n",
       "      <td>NaN</td>\n",
       "      <td>58.30</td>\n",
       "      <td>onbekend</td>\n",
       "      <td>peillint</td>\n",
       "      <td>onbekend</td>\n",
       "      <td>1</td>\n",
       "    </tr>\n",
       "  </tbody>\n",
       "</table>\n",
       "<p>5 rows × 23 columns</p>\n",
       "</div>"
      ],
      "text/plain": [
       "                                         pkey_filter  \\\n",
       "0  https://www.dov.vlaanderen.be/data/filter/2003...   \n",
       "1  https://www.dov.vlaanderen.be/data/filter/2003...   \n",
       "2  https://www.dov.vlaanderen.be/data/filter/2003...   \n",
       "3  https://www.dov.vlaanderen.be/data/filter/2003...   \n",
       "4  https://www.dov.vlaanderen.be/data/filter/2003...   \n",
       "\n",
       "                              pkey_grondwaterlocatie    gw_id filternummer  \\\n",
       "0  https://www.dov.vlaanderen.be/data/put/2018-00...  ZWAP205            1   \n",
       "1  https://www.dov.vlaanderen.be/data/put/2018-00...  ZWAP205            1   \n",
       "2  https://www.dov.vlaanderen.be/data/put/2018-00...  ZWAP205            1   \n",
       "3  https://www.dov.vlaanderen.be/data/put/2018-00...  ZWAP205            1   \n",
       "4  https://www.dov.vlaanderen.be/data/put/2018-00...  ZWAP205            1   \n",
       "\n",
       "   filtertype         x         y  start_grondwaterlocatie_mtaw  mv_mtaw  \\\n",
       "0  peilfilter  218953.0  198767.0                         58.44    58.44   \n",
       "1  peilfilter  218953.0  198767.0                         58.44    58.44   \n",
       "2  peilfilter  218953.0  198767.0                         58.44    58.44   \n",
       "3  peilfilter  218953.0  198767.0                         58.44    58.44   \n",
       "4  peilfilter  218953.0  198767.0                         58.44    58.44   \n",
       "\n",
       "               gemeente  ...    regime diepte_onderkant_filter  lengte_filter  \\\n",
       "0  Houthalen-Helchteren  ...  onbekend                    0.68            0.3   \n",
       "1  Houthalen-Helchteren  ...  onbekend                    0.68            0.3   \n",
       "2  Houthalen-Helchteren  ...  onbekend                    0.68            0.3   \n",
       "3  Houthalen-Helchteren  ...  onbekend                    0.68            0.3   \n",
       "4  Houthalen-Helchteren  ...  onbekend                    0.68            0.3   \n",
       "\n",
       "        datum  tijdstip  peil_mtaw betrouwbaarheid   methode  filterstatus  \\\n",
       "0  2003-10-18       NaN      58.26        onbekend  peillint      onbekend   \n",
       "1  2003-11-01       NaN      58.30        onbekend  peillint      onbekend   \n",
       "2  2003-11-17       NaN      58.31        onbekend  peillint      onbekend   \n",
       "3  2003-11-23       NaN      58.31        onbekend  peillint      onbekend   \n",
       "4  2003-12-14       NaN      58.30        onbekend  peillint      onbekend   \n",
       "\n",
       "  filtertoestand  \n",
       "0              1  \n",
       "1              1  \n",
       "2              1  \n",
       "3              1  \n",
       "4              1  \n",
       "\n",
       "[5 rows x 23 columns]"
      ]
     },
     "execution_count": 20,
     "metadata": {},
     "output_type": "execute_result"
    }
   ],
   "source": [
    "query = PropertyIsEqualTo(\n",
    "            propertyname='pkey_filter',\n",
    "            literal='https://www.dov.vlaanderen.be/data/filter/2003-009883')\n",
    "\n",
    "df = gwfilter.search(query=query)\n",
    "df.head()"
   ]
  },
  {
   "cell_type": "markdown",
   "metadata": {},
   "source": [
    "The date is still stored as a string type. Transforming to a data type using the available pandas function [`to_datetime`](https://pandas.pydata.org/pandas-docs/stable/generated/pandas.to_datetime.html) and using these dates as row index:"
   ]
  },
  {
   "cell_type": "code",
   "execution_count": 21,
   "metadata": {},
   "outputs": [],
   "source": [
    "df['datum'] = pd.to_datetime(df['datum'])\n",
    "df = df.set_index('datum')"
   ]
  },
  {
   "cell_type": "markdown",
   "metadata": {},
   "source": [
    "### Plotting"
   ]
  },
  {
   "cell_type": "markdown",
   "metadata": {},
   "source": [
    "The default plotting functionality of Pandas can be used:"
   ]
  },
  {
   "cell_type": "code",
   "execution_count": 28,
   "metadata": {},
   "outputs": [
    {
     "data": {
      "text/html": [
       "<div>\n",
       "<style scoped>\n",
       "    .dataframe tbody tr th:only-of-type {\n",
       "        vertical-align: middle;\n",
       "    }\n",
       "\n",
       "    .dataframe tbody tr th {\n",
       "        vertical-align: top;\n",
       "    }\n",
       "\n",
       "    .dataframe thead th {\n",
       "        text-align: right;\n",
       "    }\n",
       "</style>\n",
       "<table border=\"1\" class=\"dataframe\">\n",
       "  <thead>\n",
       "    <tr style=\"text-align: right;\">\n",
       "      <th></th>\n",
       "      <th>pkey_filter</th>\n",
       "      <th>pkey_grondwaterlocatie</th>\n",
       "      <th>gw_id</th>\n",
       "      <th>filternummer</th>\n",
       "      <th>filtertype</th>\n",
       "      <th>x</th>\n",
       "      <th>y</th>\n",
       "      <th>start_grondwaterlocatie_mtaw</th>\n",
       "      <th>mv_mtaw</th>\n",
       "      <th>gemeente</th>\n",
       "      <th>...</th>\n",
       "      <th>grondwaterlichaam_code</th>\n",
       "      <th>regime</th>\n",
       "      <th>diepte_onderkant_filter</th>\n",
       "      <th>lengte_filter</th>\n",
       "      <th>tijdstip</th>\n",
       "      <th>peil_mtaw</th>\n",
       "      <th>betrouwbaarheid</th>\n",
       "      <th>methode</th>\n",
       "      <th>filterstatus</th>\n",
       "      <th>filtertoestand</th>\n",
       "    </tr>\n",
       "    <tr>\n",
       "      <th>datum</th>\n",
       "      <th></th>\n",
       "      <th></th>\n",
       "      <th></th>\n",
       "      <th></th>\n",
       "      <th></th>\n",
       "      <th></th>\n",
       "      <th></th>\n",
       "      <th></th>\n",
       "      <th></th>\n",
       "      <th></th>\n",
       "      <th></th>\n",
       "      <th></th>\n",
       "      <th></th>\n",
       "      <th></th>\n",
       "      <th></th>\n",
       "      <th></th>\n",
       "      <th></th>\n",
       "      <th></th>\n",
       "      <th></th>\n",
       "      <th></th>\n",
       "      <th></th>\n",
       "    </tr>\n",
       "  </thead>\n",
       "  <tbody>\n",
       "    <tr>\n",
       "      <th>2003-10-18</th>\n",
       "      <td>https://www.dov.vlaanderen.be/data/filter/2003...</td>\n",
       "      <td>https://www.dov.vlaanderen.be/data/put/2018-00...</td>\n",
       "      <td>ZWAP205</td>\n",
       "      <td>1</td>\n",
       "      <td>peilfilter</td>\n",
       "      <td>218953.0</td>\n",
       "      <td>198767.0</td>\n",
       "      <td>58.44</td>\n",
       "      <td>58.44</td>\n",
       "      <td>Houthalen-Helchteren</td>\n",
       "      <td>...</td>\n",
       "      <td>NaN</td>\n",
       "      <td>onbekend</td>\n",
       "      <td>0.68</td>\n",
       "      <td>0.3</td>\n",
       "      <td>NaN</td>\n",
       "      <td>58.26</td>\n",
       "      <td>onbekend</td>\n",
       "      <td>peillint</td>\n",
       "      <td>onbekend</td>\n",
       "      <td>1</td>\n",
       "    </tr>\n",
       "    <tr>\n",
       "      <th>2003-11-01</th>\n",
       "      <td>https://www.dov.vlaanderen.be/data/filter/2003...</td>\n",
       "      <td>https://www.dov.vlaanderen.be/data/put/2018-00...</td>\n",
       "      <td>ZWAP205</td>\n",
       "      <td>1</td>\n",
       "      <td>peilfilter</td>\n",
       "      <td>218953.0</td>\n",
       "      <td>198767.0</td>\n",
       "      <td>58.44</td>\n",
       "      <td>58.44</td>\n",
       "      <td>Houthalen-Helchteren</td>\n",
       "      <td>...</td>\n",
       "      <td>NaN</td>\n",
       "      <td>onbekend</td>\n",
       "      <td>0.68</td>\n",
       "      <td>0.3</td>\n",
       "      <td>NaN</td>\n",
       "      <td>58.30</td>\n",
       "      <td>onbekend</td>\n",
       "      <td>peillint</td>\n",
       "      <td>onbekend</td>\n",
       "      <td>1</td>\n",
       "    </tr>\n",
       "    <tr>\n",
       "      <th>2003-11-17</th>\n",
       "      <td>https://www.dov.vlaanderen.be/data/filter/2003...</td>\n",
       "      <td>https://www.dov.vlaanderen.be/data/put/2018-00...</td>\n",
       "      <td>ZWAP205</td>\n",
       "      <td>1</td>\n",
       "      <td>peilfilter</td>\n",
       "      <td>218953.0</td>\n",
       "      <td>198767.0</td>\n",
       "      <td>58.44</td>\n",
       "      <td>58.44</td>\n",
       "      <td>Houthalen-Helchteren</td>\n",
       "      <td>...</td>\n",
       "      <td>NaN</td>\n",
       "      <td>onbekend</td>\n",
       "      <td>0.68</td>\n",
       "      <td>0.3</td>\n",
       "      <td>NaN</td>\n",
       "      <td>58.31</td>\n",
       "      <td>onbekend</td>\n",
       "      <td>peillint</td>\n",
       "      <td>onbekend</td>\n",
       "      <td>1</td>\n",
       "    </tr>\n",
       "    <tr>\n",
       "      <th>2003-11-23</th>\n",
       "      <td>https://www.dov.vlaanderen.be/data/filter/2003...</td>\n",
       "      <td>https://www.dov.vlaanderen.be/data/put/2018-00...</td>\n",
       "      <td>ZWAP205</td>\n",
       "      <td>1</td>\n",
       "      <td>peilfilter</td>\n",
       "      <td>218953.0</td>\n",
       "      <td>198767.0</td>\n",
       "      <td>58.44</td>\n",
       "      <td>58.44</td>\n",
       "      <td>Houthalen-Helchteren</td>\n",
       "      <td>...</td>\n",
       "      <td>NaN</td>\n",
       "      <td>onbekend</td>\n",
       "      <td>0.68</td>\n",
       "      <td>0.3</td>\n",
       "      <td>NaN</td>\n",
       "      <td>58.31</td>\n",
       "      <td>onbekend</td>\n",
       "      <td>peillint</td>\n",
       "      <td>onbekend</td>\n",
       "      <td>1</td>\n",
       "    </tr>\n",
       "    <tr>\n",
       "      <th>2003-12-14</th>\n",
       "      <td>https://www.dov.vlaanderen.be/data/filter/2003...</td>\n",
       "      <td>https://www.dov.vlaanderen.be/data/put/2018-00...</td>\n",
       "      <td>ZWAP205</td>\n",
       "      <td>1</td>\n",
       "      <td>peilfilter</td>\n",
       "      <td>218953.0</td>\n",
       "      <td>198767.0</td>\n",
       "      <td>58.44</td>\n",
       "      <td>58.44</td>\n",
       "      <td>Houthalen-Helchteren</td>\n",
       "      <td>...</td>\n",
       "      <td>NaN</td>\n",
       "      <td>onbekend</td>\n",
       "      <td>0.68</td>\n",
       "      <td>0.3</td>\n",
       "      <td>NaN</td>\n",
       "      <td>58.30</td>\n",
       "      <td>onbekend</td>\n",
       "      <td>peillint</td>\n",
       "      <td>onbekend</td>\n",
       "      <td>1</td>\n",
       "    </tr>\n",
       "  </tbody>\n",
       "</table>\n",
       "<p>5 rows × 22 columns</p>\n",
       "</div>"
      ],
      "text/plain": [
       "                                                  pkey_filter  \\\n",
       "datum                                                           \n",
       "2003-10-18  https://www.dov.vlaanderen.be/data/filter/2003...   \n",
       "2003-11-01  https://www.dov.vlaanderen.be/data/filter/2003...   \n",
       "2003-11-17  https://www.dov.vlaanderen.be/data/filter/2003...   \n",
       "2003-11-23  https://www.dov.vlaanderen.be/data/filter/2003...   \n",
       "2003-12-14  https://www.dov.vlaanderen.be/data/filter/2003...   \n",
       "\n",
       "                                       pkey_grondwaterlocatie    gw_id  \\\n",
       "datum                                                                    \n",
       "2003-10-18  https://www.dov.vlaanderen.be/data/put/2018-00...  ZWAP205   \n",
       "2003-11-01  https://www.dov.vlaanderen.be/data/put/2018-00...  ZWAP205   \n",
       "2003-11-17  https://www.dov.vlaanderen.be/data/put/2018-00...  ZWAP205   \n",
       "2003-11-23  https://www.dov.vlaanderen.be/data/put/2018-00...  ZWAP205   \n",
       "2003-12-14  https://www.dov.vlaanderen.be/data/put/2018-00...  ZWAP205   \n",
       "\n",
       "           filternummer  filtertype         x         y  \\\n",
       "datum                                                     \n",
       "2003-10-18            1  peilfilter  218953.0  198767.0   \n",
       "2003-11-01            1  peilfilter  218953.0  198767.0   \n",
       "2003-11-17            1  peilfilter  218953.0  198767.0   \n",
       "2003-11-23            1  peilfilter  218953.0  198767.0   \n",
       "2003-12-14            1  peilfilter  218953.0  198767.0   \n",
       "\n",
       "            start_grondwaterlocatie_mtaw  mv_mtaw              gemeente  ...  \\\n",
       "datum                                                                    ...   \n",
       "2003-10-18                         58.44    58.44  Houthalen-Helchteren  ...   \n",
       "2003-11-01                         58.44    58.44  Houthalen-Helchteren  ...   \n",
       "2003-11-17                         58.44    58.44  Houthalen-Helchteren  ...   \n",
       "2003-11-23                         58.44    58.44  Houthalen-Helchteren  ...   \n",
       "2003-12-14                         58.44    58.44  Houthalen-Helchteren  ...   \n",
       "\n",
       "           grondwaterlichaam_code    regime  diepte_onderkant_filter  \\\n",
       "datum                                                                  \n",
       "2003-10-18                    NaN  onbekend                     0.68   \n",
       "2003-11-01                    NaN  onbekend                     0.68   \n",
       "2003-11-17                    NaN  onbekend                     0.68   \n",
       "2003-11-23                    NaN  onbekend                     0.68   \n",
       "2003-12-14                    NaN  onbekend                     0.68   \n",
       "\n",
       "           lengte_filter  tijdstip  peil_mtaw  betrouwbaarheid   methode  \\\n",
       "datum                                                                      \n",
       "2003-10-18           0.3       NaN      58.26         onbekend  peillint   \n",
       "2003-11-01           0.3       NaN      58.30         onbekend  peillint   \n",
       "2003-11-17           0.3       NaN      58.31         onbekend  peillint   \n",
       "2003-11-23           0.3       NaN      58.31         onbekend  peillint   \n",
       "2003-12-14           0.3       NaN      58.30         onbekend  peillint   \n",
       "\n",
       "           filterstatus filtertoestand  \n",
       "datum                                   \n",
       "2003-10-18     onbekend              1  \n",
       "2003-11-01     onbekend              1  \n",
       "2003-11-17     onbekend              1  \n",
       "2003-11-23     onbekend              1  \n",
       "2003-12-14     onbekend              1  \n",
       "\n",
       "[5 rows x 22 columns]"
      ]
     },
     "execution_count": 28,
     "metadata": {},
     "output_type": "execute_result"
    }
   ],
   "source": [
    "df.head()"
   ]
  },
  {
   "cell_type": "code",
   "execution_count": 37,
   "metadata": {},
   "outputs": [
    {
     "data": {
      "image/png": "[encoded data removed]",
      "text/plain": [
       "<Figure size 864x360 with 1 Axes>"
      ]
     },
     "metadata": {
      "needs_background": "light"
     },
     "output_type": "display_data"
    }
   ],
   "source": [
    "ax = df['peil_mtaw'].plot(style='-', figsize=(12, 5))\n",
    "ax.set_title('Water heads `Put ZWAP205` in Houthalen-Helchteren');\n",
    "ax.set_ylabel('head (m TAW)');\n",
    "ax.set_xlabel('');"
   ]
  },
  {
   "cell_type": "markdown",
   "metadata": {},
   "source": [
    "Or a combination with matplotlib to have full customization options:"
   ]
  },
  {
   "cell_type": "code",
   "execution_count": 25,
   "metadata": {},
   "outputs": [
    {
     "data": {
      "image/png": "[encoded data removed]",
      "text/plain": [
       "<Figure size 864x432 with 2 Axes>"
      ]
     },
     "metadata": {
      "needs_background": "light"
     },
     "output_type": "display_data"
    }
   ],
   "source": [
    "from matplotlib.dates import MonthLocator, YearLocator, DateFormatter\n",
    "from matplotlib.ticker import MaxNLocator, MultipleLocator\n",
    "\n",
    "# Get height of ground surface\n",
    "ground_surface = df[\"mv_mtaw\"][0]\n",
    "\n",
    "# create a plot with 2 subplots\n",
    "fig, (ax1, ax2) = plt.subplots(2, 1, figsize=(12, 6), \n",
    "                               sharex=False, sharey=True)\n",
    "\n",
    "# Plot entire time series in the upper plot\n",
    "df['peil_mtaw'].plot(ax=ax1, title='Water heads `Put ZWAP205`')\n",
    "ax1.xaxis.set_major_locator(YearLocator(5))\n",
    "ax1.xaxis.set_major_formatter(DateFormatter('%Y'))\n",
    "\n",
    "# Plot the data for 2011 in the lower plot\n",
    "df['peil_mtaw'][\"2011\"].plot(ax=ax2,  title='Water heads `Put ZWAP205` year 2011')\n",
    "ax2.xaxis.set_major_locator(MonthLocator(interval=3))\n",
    "ax2.xaxis.set_major_formatter(DateFormatter('%Y-%m'))\n",
    "\n",
    "# Adjust configuration of plot\n",
    "for ax in (ax1, ax2):\n",
    "    ax.set_xlabel('')\n",
    "    ax.set_ylabel('head (mTAW)')\n",
    "    for tick in ax.get_xticklabels():\n",
    "        tick.set_rotation(0)\n",
    "        tick.set_horizontalalignment('center')\n",
    "\n",
    "    # Only draw spine between the y-ticks\n",
    "    ax.spines['left'].set_position(('outward', 10))\n",
    "    # Hide the right and top spines\n",
    "    ax.spines['right'].set_visible(False)\n",
    "    ax.spines['top'].set_visible(False)\n",
    "    ax.yaxis.set_major_locator(MultipleLocator(0.2))\n",
    "    \n",
    "    # Add the ground surface (provided in the data) on the subplots\n",
    "    ax.axhline(ground_surface, color = 'brown')\n",
    "    ax.annotate('Ground surface', \n",
    "             xy=(0.05, 0.68),\n",
    "             xycoords='axes fraction',\n",
    "             xytext=(-25, -15), textcoords='offset points', \n",
    "             fontsize=12, color='brown')   \n",
    "    \n",
    "fig.tight_layout(h_pad=5)"
   ]
  },
  {
   "cell_type": "markdown",
   "metadata": {},
   "source": [
    "### Analysis"
   ]
  },
  {
   "cell_type": "markdown",
   "metadata": {},
   "source": [
    "The Pandas package provides a the functionality to further analyze and process [time series](https://pandas.pydata.org/pandas-docs/stable/timeseries.html) data. Particularly, the [`resample`](https://pandas.pydata.org/pandas-docs/stable/generated/pandas.DataFrame.resample.html) function can be useful."
   ]
  },
  {
   "cell_type": "markdown",
   "metadata": {},
   "source": [
    "For example, calculate the yearly minima and maxima of the time series:"
   ]
  },
  {
   "cell_type": "code",
   "execution_count": 38,
   "metadata": {},
   "outputs": [
    {
     "data": {
      "text/html": [
       "<div>\n",
       "<style scoped>\n",
       "    .dataframe tbody tr th:only-of-type {\n",
       "        vertical-align: middle;\n",
       "    }\n",
       "\n",
       "    .dataframe tbody tr th {\n",
       "        vertical-align: top;\n",
       "    }\n",
       "\n",
       "    .dataframe thead th {\n",
       "        text-align: right;\n",
       "    }\n",
       "</style>\n",
       "<table border=\"1\" class=\"dataframe\">\n",
       "  <thead>\n",
       "    <tr style=\"text-align: right;\">\n",
       "      <th></th>\n",
       "      <th>min</th>\n",
       "      <th>max</th>\n",
       "    </tr>\n",
       "    <tr>\n",
       "      <th>datum</th>\n",
       "      <th></th>\n",
       "      <th></th>\n",
       "    </tr>\n",
       "  </thead>\n",
       "  <tbody>\n",
       "    <tr>\n",
       "      <th>2003-12-31</th>\n",
       "      <td>58.26</td>\n",
       "      <td>58.36</td>\n",
       "    </tr>\n",
       "    <tr>\n",
       "      <th>2004-12-31</th>\n",
       "      <td>58.22</td>\n",
       "      <td>58.36</td>\n",
       "    </tr>\n",
       "    <tr>\n",
       "      <th>2005-12-31</th>\n",
       "      <td>58.18</td>\n",
       "      <td>58.35</td>\n",
       "    </tr>\n",
       "    <tr>\n",
       "      <th>2006-12-31</th>\n",
       "      <td>58.10</td>\n",
       "      <td>58.42</td>\n",
       "    </tr>\n",
       "    <tr>\n",
       "      <th>2007-12-31</th>\n",
       "      <td>58.28</td>\n",
       "      <td>58.53</td>\n",
       "    </tr>\n",
       "    <tr>\n",
       "      <th>2008-12-31</th>\n",
       "      <td>58.34</td>\n",
       "      <td>58.60</td>\n",
       "    </tr>\n",
       "    <tr>\n",
       "      <th>2009-12-31</th>\n",
       "      <td>58.27</td>\n",
       "      <td>58.54</td>\n",
       "    </tr>\n",
       "    <tr>\n",
       "      <th>2010-12-31</th>\n",
       "      <td>58.21</td>\n",
       "      <td>58.56</td>\n",
       "    </tr>\n",
       "    <tr>\n",
       "      <th>2011-12-31</th>\n",
       "      <td>58.32</td>\n",
       "      <td>58.56</td>\n",
       "    </tr>\n",
       "    <tr>\n",
       "      <th>2012-12-31</th>\n",
       "      <td>58.32</td>\n",
       "      <td>58.55</td>\n",
       "    </tr>\n",
       "    <tr>\n",
       "      <th>2013-12-31</th>\n",
       "      <td>58.22</td>\n",
       "      <td>58.56</td>\n",
       "    </tr>\n",
       "    <tr>\n",
       "      <th>2014-12-31</th>\n",
       "      <td>58.21</td>\n",
       "      <td>58.54</td>\n",
       "    </tr>\n",
       "    <tr>\n",
       "      <th>2015-12-31</th>\n",
       "      <td>58.08</td>\n",
       "      <td>58.56</td>\n",
       "    </tr>\n",
       "    <tr>\n",
       "      <th>2016-12-31</th>\n",
       "      <td>58.24</td>\n",
       "      <td>58.54</td>\n",
       "    </tr>\n",
       "    <tr>\n",
       "      <th>2017-12-31</th>\n",
       "      <td>58.27</td>\n",
       "      <td>58.56</td>\n",
       "    </tr>\n",
       "    <tr>\n",
       "      <th>2018-12-31</th>\n",
       "      <td>58.08</td>\n",
       "      <td>58.53</td>\n",
       "    </tr>\n",
       "    <tr>\n",
       "      <th>2019-12-31</th>\n",
       "      <td>58.09</td>\n",
       "      <td>58.52</td>\n",
       "    </tr>\n",
       "  </tbody>\n",
       "</table>\n",
       "</div>"
      ],
      "text/plain": [
       "              min    max\n",
       "datum                   \n",
       "2003-12-31  58.26  58.36\n",
       "2004-12-31  58.22  58.36\n",
       "2005-12-31  58.18  58.35\n",
       "2006-12-31  58.10  58.42\n",
       "2007-12-31  58.28  58.53\n",
       "2008-12-31  58.34  58.60\n",
       "2009-12-31  58.27  58.54\n",
       "2010-12-31  58.21  58.56\n",
       "2011-12-31  58.32  58.56\n",
       "2012-12-31  58.32  58.55\n",
       "2013-12-31  58.22  58.56\n",
       "2014-12-31  58.21  58.54\n",
       "2015-12-31  58.08  58.56\n",
       "2016-12-31  58.24  58.54\n",
       "2017-12-31  58.27  58.56\n",
       "2018-12-31  58.08  58.53\n",
       "2019-12-31  58.09  58.52"
      ]
     },
     "execution_count": 38,
     "metadata": {},
     "output_type": "execute_result"
    }
   ],
   "source": [
    "df[\"peil_mtaw\"].resample(\"A\").agg(['min', 'max'])"
   ]
  },
  {
   "cell_type": "markdown",
   "metadata": {},
   "source": [
    "or the monthly minima and maxima:"
   ]
  },
  {
   "cell_type": "code",
   "execution_count": 40,
   "metadata": {},
   "outputs": [
    {
     "data": {
      "image/png": "[encoded data removed]",
      "text/plain": [
       "<Figure size 432x288 with 1 Axes>"
      ]
     },
     "metadata": {
      "needs_background": "light"
     },
     "output_type": "display_data"
    }
   ],
   "source": [
    "ax = df[\"peil_mtaw\"].resample(\"M\").agg(['min', 'max']).plot()\n",
    "ax.set_title('Monthly minimum and maximum water heads `Put ZWAP205`');\n",
    "ax.set_ylabel('head (m TAW)');\n",
    "ax.set_xlabel('');"
   ]
  },
  {
   "cell_type": "markdown",
   "metadata": {},
   "source": [
    "Calculate 10 and 90 percentiles of the time series with the `quantile` function:"
   ]
  },
  {
   "cell_type": "code",
   "execution_count": 46,
   "metadata": {},
   "outputs": [
    {
     "data": {
      "text/plain": [
       "<matplotlib.legend.Legend at 0x7f9bc7bba1d0>"
      ]
     },
     "execution_count": 46,
     "metadata": {},
     "output_type": "execute_result"
    },
    {
     "data": {
      "image/png": "[encoded data removed]",
      "text/plain": [
       "<Figure size 864x288 with 1 Axes>"
      ]
     },
     "metadata": {
      "needs_background": "light"
     },
     "output_type": "display_data"
    }
   ],
   "source": [
    "fig, ax = plt.subplots(figsize=(12, 4))    \n",
    "ax.plot(df[\"peil_mtaw\"], label='head (mTAW)', linewidth=0.75)\n",
    "\n",
    "ax.axhline(df[\"peil_mtaw\"].quantile(0.1), color = 'brown', label='p10', linewidth=3)\n",
    "ax.axhline(df[\"peil_mtaw\"].quantile(0.9), color = 'darkblue', label='p90', linewidth=3)\n",
    "handles, labels = ax.get_legend_handles_labels()\n",
    "\n",
    "ax.set_title('Water heads `Put ZWAP205` with 10% and 90% quantile');\n",
    "ax.set_ylabel('head (m TAW)');\n",
    "ax.set_xlabel('');\n",
    "\n",
    "fig.legend(handles, labels)"
   ]
  },
  {
   "cell_type": "markdown",
   "metadata": {},
   "source": [
    "A duration exceedance curve provides the percentage of time that the water head is above a given value:"
   ]
  },
  {
   "cell_type": "code",
   "execution_count": 47,
   "metadata": {},
   "outputs": [],
   "source": [
    "import numpy as np"
   ]
  },
  {
   "cell_type": "code",
   "execution_count": 50,
   "metadata": {},
   "outputs": [
    {
     "data": {
      "image/png": "[encoded data removed]",
      "text/plain": [
       "<Figure size 432x288 with 1 Axes>"
      ]
     },
     "metadata": {
      "needs_background": "light"
     },
     "output_type": "display_data"
    }
   ],
   "source": [
    "sorted_heads = np.sort(df[\"peil_mtaw\"])[::-1]\n",
    "exceedence = np.arange(1.,len(sorted_heads)+1) / len(sorted_heads)\n",
    "\n",
    "fig, ax = plt.subplots()\n",
    "ax.plot(exceedence*100, sorted_heads)\n",
    "ax.set_xlabel(\"Exceedence [%]\");\n",
    "ax.set_ylabel(\"Water head (mTAW)\");\n",
    "ax.set_title(\"Duration exceedance curve `Put ZWAP205`\");"
   ]
  },
  {
   "cell_type": "markdown",
   "metadata": {},
   "source": [
    "## Visualize locations"
   ]
  },
  {
   "cell_type": "markdown",
   "metadata": {},
   "source": [
    "Using Folium, we can display the results of our search on a map."
   ]
  },
  {
   "cell_type": "code",
   "execution_count": 51,
   "metadata": {},
   "outputs": [],
   "source": [
    "# import the necessary modules (not included in the requirements of pydov!)\n",
    "import folium\n",
    "from folium.plugins import MarkerCluster\n",
    "from pyproj import Transformer"
   ]
  },
  {
   "cell_type": "code",
   "execution_count": 52,
   "metadata": {},
   "outputs": [],
   "source": [
    "# convert the coordinates to lat/lon for folium\n",
    "def convert_latlon(x1, y1):\n",
    "    transformer = Transformer.from_crs(\"epsg:31370\", \"epsg:4326\", always_xy=True)\n",
    "    x2,y2 = transformer.transform(x1, y1)\n",
    "    return x2, y2\n",
    "\n",
    "df_hamme['lon'], df_hamme['lat'] = zip(*map(convert_latlon, df_hamme['x'], df_hamme['y'])) \n",
    "# convert to list\n",
    "loclist = df_hamme[['lat', 'lon']].values.tolist()"
   ]
  },
  {
   "cell_type": "code",
   "execution_count": 53,
   "metadata": {},
   "outputs": [
    {
     "data": {
      "text/html": [
       "<div style=\"width:100%;\"><div style=\"position:relative;width:100%;height:0;padding-bottom:60%;\"><span style=\"color:#565656\">Make this Notebook Trusted to load map: File -> Trust Notebook</span><iframe src=\"about:blank\" style=\"position:absolute;width:100%;height:100%;left:0;top:0;border:none !important;\" data-html=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 onload=\"this.contentDocument.open();this.contentDocument.write(atob(this.getAttribute('data-html')));this.contentDocument.close();\" allowfullscreen webkitallowfullscreen mozallowfullscreen></iframe></div></div>"
      ],
      "text/plain": [
       "<folium.folium.Map at 0x7f9bc7cb0b50>"
      ]
     },
     "execution_count": 53,
     "metadata": {},
     "output_type": "execute_result"
    }
   ],
   "source": [
    "# initialize the Folium map on the centre of the selected locations, play with the zoom until ok\n",
    "fmap = folium.Map(location=[df_hamme['lat'].mean(), df_hamme['lon'].mean()], zoom_start=12)\n",
    "marker_cluster = MarkerCluster().add_to(fmap)\n",
    "for loc in range(0, len(loclist)):\n",
    "    folium.Marker(loclist[loc], popup=df_hamme['gw_id'][loc]).add_to(marker_cluster)\n",
    "fmap\n"
   ]
  },
  {
   "cell_type": "markdown",
   "metadata": {},
   "source": [
    "### Get groundwater screens within a \"grondwaterlichaam\""
   ]
  },
  {
   "cell_type": "code",
   "execution_count": 54,
   "metadata": {},
   "outputs": [],
   "source": [
    "gwfilter = GrondwaterFilterSearch()"
   ]
  },
  {
   "cell_type": "code",
   "execution_count": 55,
   "metadata": {},
   "outputs": [
    {
     "name": "stdout",
     "output_type": "stream",
     "text": [
      "[000/010] ..........\n"
     ]
    },
    {
     "data": {
      "text/html": [
       "<div>\n",
       "<style scoped>\n",
       "    .dataframe tbody tr th:only-of-type {\n",
       "        vertical-align: middle;\n",
       "    }\n",
       "\n",
       "    .dataframe tbody tr th {\n",
       "        vertical-align: top;\n",
       "    }\n",
       "\n",
       "    .dataframe thead th {\n",
       "        text-align: right;\n",
       "    }\n",
       "</style>\n",
       "<table border=\"1\" class=\"dataframe\">\n",
       "  <thead>\n",
       "    <tr style=\"text-align: right;\">\n",
       "      <th></th>\n",
       "      <th>pkey_filter</th>\n",
       "      <th>gw_id</th>\n",
       "      <th>filternummer</th>\n",
       "      <th>x</th>\n",
       "      <th>y</th>\n",
       "      <th>grondwaterlichaam_code</th>\n",
       "    </tr>\n",
       "  </thead>\n",
       "  <tbody>\n",
       "    <tr>\n",
       "      <th>0</th>\n",
       "      <td>https://www.dov.vlaanderen.be/data/filter/1900...</td>\n",
       "      <td>2-100056</td>\n",
       "      <td>1</td>\n",
       "      <td>199553.0</td>\n",
       "      <td>174938.0</td>\n",
       "      <td>BLKS_1000_GWL_2S</td>\n",
       "    </tr>\n",
       "    <tr>\n",
       "      <th>1</th>\n",
       "      <td>https://www.dov.vlaanderen.be/data/filter/2014...</td>\n",
       "      <td>7-100188</td>\n",
       "      <td>1</td>\n",
       "      <td>207804.0</td>\n",
       "      <td>168688.0</td>\n",
       "      <td>BLKS_1000_GWL_1S</td>\n",
       "    </tr>\n",
       "    <tr>\n",
       "      <th>2</th>\n",
       "      <td>https://www.dov.vlaanderen.be/data/filter/1900...</td>\n",
       "      <td>2-100291</td>\n",
       "      <td>2</td>\n",
       "      <td>215390.0</td>\n",
       "      <td>183107.0</td>\n",
       "      <td>BLKS_1000_GWL_1S</td>\n",
       "    </tr>\n",
       "    <tr>\n",
       "      <th>3</th>\n",
       "      <td>https://www.dov.vlaanderen.be/data/filter/2015...</td>\n",
       "      <td>7-100480</td>\n",
       "      <td>1</td>\n",
       "      <td>220356.0</td>\n",
       "      <td>167455.0</td>\n",
       "      <td>BLKS_1000_GWL_2S</td>\n",
       "    </tr>\n",
       "    <tr>\n",
       "      <th>4</th>\n",
       "      <td>https://www.dov.vlaanderen.be/data/filter/2015...</td>\n",
       "      <td>2-100723</td>\n",
       "      <td>1</td>\n",
       "      <td>191914.0</td>\n",
       "      <td>165452.0</td>\n",
       "      <td>BLKS_1000_GWL_1S</td>\n",
       "    </tr>\n",
       "    <tr>\n",
       "      <th>5</th>\n",
       "      <td>https://www.dov.vlaanderen.be/data/filter/2015...</td>\n",
       "      <td>7-101124</td>\n",
       "      <td>2</td>\n",
       "      <td>229414.0</td>\n",
       "      <td>174604.0</td>\n",
       "      <td>BLKS_1000_GWL_2S</td>\n",
       "    </tr>\n",
       "    <tr>\n",
       "      <th>6</th>\n",
       "      <td>https://www.dov.vlaanderen.be/data/filter/1900...</td>\n",
       "      <td>7-101127</td>\n",
       "      <td>1</td>\n",
       "      <td>204320.0</td>\n",
       "      <td>162825.0</td>\n",
       "      <td>BLKS_1000_GWL_1S</td>\n",
       "    </tr>\n",
       "    <tr>\n",
       "      <th>7</th>\n",
       "      <td>https://www.dov.vlaanderen.be/data/filter/2015...</td>\n",
       "      <td>7-101138</td>\n",
       "      <td>2</td>\n",
       "      <td>226690.0</td>\n",
       "      <td>176348.0</td>\n",
       "      <td>BLKS_1000_GWL_2S</td>\n",
       "    </tr>\n",
       "    <tr>\n",
       "      <th>8</th>\n",
       "      <td>https://www.dov.vlaanderen.be/data/filter/1900...</td>\n",
       "      <td>7-101323</td>\n",
       "      <td>1</td>\n",
       "      <td>207188.0</td>\n",
       "      <td>166062.0</td>\n",
       "      <td>BLKS_1000_GWL_1S</td>\n",
       "    </tr>\n",
       "    <tr>\n",
       "      <th>9</th>\n",
       "      <td>https://www.dov.vlaanderen.be/data/filter/1900...</td>\n",
       "      <td>2-101474</td>\n",
       "      <td>1</td>\n",
       "      <td>199679.0</td>\n",
       "      <td>168452.0</td>\n",
       "      <td>BLKS_1000_GWL_1S</td>\n",
       "    </tr>\n",
       "  </tbody>\n",
       "</table>\n",
       "</div>"
      ],
      "text/plain": [
       "                                         pkey_filter     gw_id filternummer  \\\n",
       "0  https://www.dov.vlaanderen.be/data/filter/1900...  2-100056            1   \n",
       "1  https://www.dov.vlaanderen.be/data/filter/2014...  7-100188            1   \n",
       "2  https://www.dov.vlaanderen.be/data/filter/1900...  2-100291            2   \n",
       "3  https://www.dov.vlaanderen.be/data/filter/2015...  7-100480            1   \n",
       "4  https://www.dov.vlaanderen.be/data/filter/2015...  2-100723            1   \n",
       "5  https://www.dov.vlaanderen.be/data/filter/2015...  7-101124            2   \n",
       "6  https://www.dov.vlaanderen.be/data/filter/1900...  7-101127            1   \n",
       "7  https://www.dov.vlaanderen.be/data/filter/2015...  7-101138            2   \n",
       "8  https://www.dov.vlaanderen.be/data/filter/1900...  7-101323            1   \n",
       "9  https://www.dov.vlaanderen.be/data/filter/1900...  2-101474            1   \n",
       "\n",
       "          x         y grondwaterlichaam_code  \n",
       "0  199553.0  174938.0       BLKS_1000_GWL_2S  \n",
       "1  207804.0  168688.0       BLKS_1000_GWL_1S  \n",
       "2  215390.0  183107.0       BLKS_1000_GWL_1S  \n",
       "3  220356.0  167455.0       BLKS_1000_GWL_2S  \n",
       "4  191914.0  165452.0       BLKS_1000_GWL_1S  \n",
       "5  229414.0  174604.0       BLKS_1000_GWL_2S  \n",
       "6  204320.0  162825.0       BLKS_1000_GWL_1S  \n",
       "7  226690.0  176348.0       BLKS_1000_GWL_2S  \n",
       "8  207188.0  166062.0       BLKS_1000_GWL_1S  \n",
       "9  199679.0  168452.0       BLKS_1000_GWL_1S  "
      ]
     },
     "execution_count": 55,
     "metadata": {},
     "output_type": "execute_result"
    }
   ],
   "source": [
    "query = PropertyIsLike(\n",
    "            propertyname='grondwaterlichaam',\n",
    "            literal='BLKS_1000%')\n",
    "df = gwfilter.search(max_features=10, \n",
    "                     query=query, \n",
    "                     return_fields=(\"pkey_filter\", \"gw_id\", \"filternummer\", \"x\", \"y\", \"grondwaterlichaam_code\"))\n",
    "df"
   ]
  }
 ],
 "metadata": {
  "kernelspec": {
   "display_name": "Python [conda env:pydov]",
   "language": "python",
   "name": "conda-env-pydov-py"
  },
  "language_info": {
   "codemirror_mode": {
    "name": "ipython",
    "version": 3
   },
   "file_extension": ".py",
   "mimetype": "text/x-python",
   "name": "python",
   "nbconvert_exporter": "python",
   "pygments_lexer": "ipython3",
   "version": "3.7.6"
  }
 },
 "nbformat": 4,
 "nbformat_minor": 4
}
