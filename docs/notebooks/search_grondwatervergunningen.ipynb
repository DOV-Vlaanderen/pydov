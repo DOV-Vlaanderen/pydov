{
 "cells": [
  {
   "cell_type": "markdown",
   "metadata": {},
   "source": [
    "# Example of DOV search methods for groundwater permits (grondwatervergunningen)"
   ]
  },
  {
   "cell_type": "markdown",
   "metadata": {},
   "source": [
    "[![Binder](https://mybinder.org/badge_logo.svg)](https://mybinder.org/v2/gh/DOV-Vlaanderen/pydov/master?filepath=docs%2Fnotebooks%2Fsearch_boringen.ipynb)"
   ]
  },
  {
   "cell_type": "markdown",
   "metadata": {},
   "source": [
    "Mind that the data source of groundwater permits is just a WFS. It can be accessed with simple WFS calls from OWSLib. It is included in the pydov API for ease of access for less experienced users. And to provide a general interface with unit testing to all considered objects."
   ]
  },
  {
   "cell_type": "markdown",
   "metadata": {},
   "source": [
    "## Use cases explained below\n",
    "* Get permits in a bounding box\n",
    "* Get permits in a bounding box based on specific properties\n",
    "* Select permits in a municipality and return depth\n",
    "* Get permits, returning fields not available in the standard output dataframe\n",
    "* Get for a certain permit the measured water quality parameters if available"
   ]
  },
  {
   "cell_type": "code",
   "execution_count": 1,
   "metadata": {},
   "outputs": [],
   "source": [
    "%matplotlib inline\n",
    "import inspect, sys\n",
    "import warnings; warnings.simplefilter('ignore')"
   ]
  },
  {
   "cell_type": "code",
   "execution_count": 2,
   "metadata": {},
   "outputs": [],
   "source": [
    "# check pydov path\n",
    "import pydov"
   ]
  },
  {
   "cell_type": "markdown",
   "metadata": {},
   "source": [
    "## Get information about the datatype 'GrondwaterVergunning'"
   ]
  },
  {
   "cell_type": "code",
   "execution_count": 3,
   "metadata": {},
   "outputs": [],
   "source": [
    "from pydov.search.grondwatervergunning import GrondwaterVergunningSearch\n",
    "gwv = GrondwaterVergunningSearch()"
   ]
  },
  {
   "cell_type": "markdown",
   "metadata": {},
   "source": [
    "A description is provided for the 'Gwvergunningen' datatype (in Dutch):"
   ]
  },
  {
   "cell_type": "code",
   "execution_count": 4,
   "metadata": {},
   "outputs": [
    {
     "data": {
      "text/plain": [
       "'Vergunningen verleend voor het winnen van grondwater kunnen gevisualiseerd en bevraagd worden in de Databank Ondergrond Vlaanderen. \\r\\nSinds 1999 zijn vergunningen verleend volgens de VLAREM-wetgeving. Ze zijn ingedeeld in klasse 1, 2 of 3, waarbij er voor klasse 1 en 2 een vergunningsplicht geldt en voor klasse 3 een meldingsplicht. De indelingslijst is terug te vinden in VLAREM I (het winnen van grondwater is opgenomen onder rubriek 53). Oudere aanvragen zijn verleend volgens het Grondwaterdecreet. Deze zijn ingedeeld in categorie A, B en C.'"
      ]
     },
     "execution_count": 4,
     "metadata": {},
     "output_type": "execute_result"
    }
   ],
   "source": [
    "gwv.get_description()"
   ]
  },
  {
   "cell_type": "markdown",
   "metadata": {},
   "source": [
    "The different fields that are available for objects of the 'Gwvergunningen' datatype can be requested with the get_fields() method:"
   ]
  },
  {
   "cell_type": "code",
   "execution_count": 5,
   "metadata": {},
   "outputs": [
    {
     "name": "stdout",
     "output_type": "stream",
     "text": [
      "id_vergunning\n",
      "pkey_installatie\n",
      "exploitant_naam\n",
      "inrichtingsnummer\n",
      "watnr\n",
      "vergunning\n",
      "vlaremrubriek\n",
      "vergund_jaardebiet\n",
      "vergund_dagdebiet\n",
      "van_datum_termijn\n",
      "tot_datum_termijn\n",
      "aquifer_vergunning\n",
      "diepte\n",
      "vergund_aantal_putten\n",
      "inrichtingsklasse\n",
      "vergunningverlenende_overheid_VVO\n",
      "referentie_VVO\n",
      "nacebelcode\n",
      "IIOA_CBBnr\n",
      "IIOA_adres\n",
      "grondwaterlichaam\n",
      "actie_waakgebied\n",
      "x\n",
      "y\n",
      "exploitant_adres\n",
      "cbbnr\n",
      "kbonr\n",
      "heffingsnummer\n",
      "exploitant_namen\n"
     ]
    }
   ],
   "source": [
    "fields = gwv.get_fields()\n",
    "\n",
    "# print available fields\n",
    "for f in fields.values():\n",
    "    print(f['name'])"
   ]
  },
  {
   "cell_type": "markdown",
   "metadata": {},
   "source": [
    "You can get more information of a field by requesting it from the fields dictionary:\n",
    "* *name*: name of the field\n",
    "* *definition*: definition of this field\n",
    "* *cost*: currently this is either 1 or 10, depending on the datasource of the field. It is an indication of the expected time it will take to retrieve this field in the output dataframe. However, since the data source is currently a WFS, the cost of each field is 1\n",
    "* *notnull*: whether the field is mandatory or not\n",
    "* *type*: datatype of the values of this field"
   ]
  },
  {
   "cell_type": "code",
   "execution_count": 6,
   "metadata": {},
   "outputs": [
    {
     "data": {
      "text/plain": [
       "{'name': 'actie_waakgebied',\n",
       " 'definition': 'de actie- en waakgebieden afgebakend i.k.v. het gebiedspecifieke beleid zoals vastgesteld in de herstelprogrammas voor grondwaterlichamen in ontoereikende kwantitatieve toestand binnen het Centraal Vlaams Systeem, het Brulandkrijtsysteem en het Sokkelsysteem (2016-2021)',\n",
       " 'type': 'string',\n",
       " 'notnull': False,\n",
       " 'query': True,\n",
       " 'cost': 1}"
      ]
     },
     "execution_count": 6,
     "metadata": {},
     "output_type": "execute_result"
    }
   ],
   "source": [
    "fields['actie_waakgebied']"
   ]
  },
  {
   "cell_type": "markdown",
   "metadata": {},
   "source": [
    "## Example use cases"
   ]
  },
  {
   "cell_type": "markdown",
   "metadata": {},
   "source": [
    "### Get permits in a bounding box"
   ]
  },
  {
   "cell_type": "markdown",
   "metadata": {},
   "source": [
    "Get data for all the permits that are geographically located within the bounds of the specified box.\n",
    "\n",
    "The coordinates are in the Belgian Lambert72 (EPSG:31370) coordinate system and are given in the order of lower left x, lower left y, upper right x, upper right y."
   ]
  },
  {
   "cell_type": "code",
   "execution_count": 7,
   "metadata": {},
   "outputs": [
    {
     "name": "stdout",
     "output_type": "stream",
     "text": [
      "[000/001] .\n"
     ]
    },
    {
     "data": {
      "text/html": [
       "<div>\n",
       "<style scoped>\n",
       "    .dataframe tbody tr th:only-of-type {\n",
       "        vertical-align: middle;\n",
       "    }\n",
       "\n",
       "    .dataframe tbody tr th {\n",
       "        vertical-align: top;\n",
       "    }\n",
       "\n",
       "    .dataframe thead th {\n",
       "        text-align: right;\n",
       "    }\n",
       "</style>\n",
       "<table border=\"1\" class=\"dataframe\">\n",
       "  <thead>\n",
       "    <tr style=\"text-align: right;\">\n",
       "      <th></th>\n",
       "      <th>id_vergunning</th>\n",
       "      <th>pkey_installatie</th>\n",
       "      <th>x</th>\n",
       "      <th>y</th>\n",
       "      <th>diepte</th>\n",
       "      <th>exploitant_naam</th>\n",
       "      <th>watnr</th>\n",
       "      <th>vlaremrubriek</th>\n",
       "      <th>vergund_jaardebiet</th>\n",
       "      <th>vergund_dagdebiet</th>\n",
       "      <th>van_datum_termijn</th>\n",
       "      <th>tot_datum_termijn</th>\n",
       "      <th>aquifer_vergunning</th>\n",
       "      <th>inrichtingsklasse</th>\n",
       "      <th>nacebelcode</th>\n",
       "      <th>actie_waakgebied</th>\n",
       "      <th>cbbnr</th>\n",
       "      <th>kbonr</th>\n",
       "    </tr>\n",
       "  </thead>\n",
       "  <tbody>\n",
       "    <tr>\n",
       "      <th>0</th>\n",
       "      <td>65861</td>\n",
       "      <td>https://www.dov.vlaanderen.be/data/installatie...</td>\n",
       "      <td>155022.40</td>\n",
       "      <td>207704.41</td>\n",
       "      <td>26.0</td>\n",
       "      <td>FIDES CONSTRUCT</td>\n",
       "      <td>ANT-01035-A</td>\n",
       "      <td>53.2.2.b)2.</td>\n",
       "      <td>40700.0</td>\n",
       "      <td>NaN</td>\n",
       "      <td>2020-01-17</td>\n",
       "      <td>2021-03-11</td>\n",
       "      <td>0254: Zanden van Berchem en/of Voort</td>\n",
       "      <td>Klasse 2</td>\n",
       "      <td>68100: Handel in eigen onroerend goed</td>\n",
       "      <td>NaN</td>\n",
       "      <td>NaN</td>\n",
       "      <td>0538608237</td>\n",
       "    </tr>\n",
       "    <tr>\n",
       "      <th>1</th>\n",
       "      <td>66229</td>\n",
       "      <td>https://www.dov.vlaanderen.be/data/installatie...</td>\n",
       "      <td>157403.75</td>\n",
       "      <td>214471.32</td>\n",
       "      <td>10.0</td>\n",
       "      <td>AQUAFIN</td>\n",
       "      <td>VLA-00197-A</td>\n",
       "      <td>53.2.2.b)2.</td>\n",
       "      <td>493000.0</td>\n",
       "      <td>NaN</td>\n",
       "      <td>2019-08-09</td>\n",
       "      <td>NaN</td>\n",
       "      <td>0200: Kempens Aquifersysteem</td>\n",
       "      <td>Klasse 1 - Vlaams project</td>\n",
       "      <td>37000: Afvalwaterafvoer</td>\n",
       "      <td>NaN</td>\n",
       "      <td>00418870000022</td>\n",
       "      <td>0440691388</td>\n",
       "    </tr>\n",
       "    <tr>\n",
       "      <th>2</th>\n",
       "      <td>66151</td>\n",
       "      <td>https://www.dov.vlaanderen.be/data/installatie...</td>\n",
       "      <td>155260.39</td>\n",
       "      <td>214802.39</td>\n",
       "      <td>18.0</td>\n",
       "      <td>Luc Van Thienen, STRABAG BELGIUM</td>\n",
       "      <td>ANT-00456-A</td>\n",
       "      <td>53.2.2.b)2.</td>\n",
       "      <td>181000.0</td>\n",
       "      <td>NaN</td>\n",
       "      <td>2019-03-22</td>\n",
       "      <td>2029-03-22</td>\n",
       "      <td>0250: Mioceen Aquifersysteem</td>\n",
       "      <td>Klasse 2</td>\n",
       "      <td>41203: Algemene bouw van andere niet-residenti...</td>\n",
       "      <td>geen actie/waakgebieden</td>\n",
       "      <td>NaN</td>\n",
       "      <td>0472028526</td>\n",
       "    </tr>\n",
       "    <tr>\n",
       "      <th>3</th>\n",
       "      <td>66155</td>\n",
       "      <td>https://www.dov.vlaanderen.be/data/installatie...</td>\n",
       "      <td>154146.74</td>\n",
       "      <td>213791.84</td>\n",
       "      <td>8.0</td>\n",
       "      <td>SAMBER COLLEGE</td>\n",
       "      <td>ANT-00514-A</td>\n",
       "      <td>53.2.2.b)2.</td>\n",
       "      <td>31000.0</td>\n",
       "      <td>NaN</td>\n",
       "      <td>2019-05-03</td>\n",
       "      <td>2020-05-03</td>\n",
       "      <td>0100: Quartaire aquifersystemen</td>\n",
       "      <td>Klasse 2</td>\n",
       "      <td>41101: Ontwikkeling van residentiële bouwproje...</td>\n",
       "      <td>geen actie/waakgebieden</td>\n",
       "      <td>NaN</td>\n",
       "      <td>0670629393</td>\n",
       "    </tr>\n",
       "    <tr>\n",
       "      <th>4</th>\n",
       "      <td>66281</td>\n",
       "      <td>https://www.dov.vlaanderen.be/data/installatie...</td>\n",
       "      <td>153359.91</td>\n",
       "      <td>213115.04</td>\n",
       "      <td>15.0</td>\n",
       "      <td>HOOYBERGHS</td>\n",
       "      <td>ANT-01100-A</td>\n",
       "      <td>53.2.2.b)2.</td>\n",
       "      <td>44000.0</td>\n",
       "      <td>NaN</td>\n",
       "      <td>2020-02-28</td>\n",
       "      <td>NaN</td>\n",
       "      <td>0250: Mioceen Aquifersysteem</td>\n",
       "      <td>Klasse 2</td>\n",
       "      <td>41201: Algemene bouw van residentiële gebouwen...</td>\n",
       "      <td>geen actie/waakgebieden</td>\n",
       "      <td>NaN</td>\n",
       "      <td>0424877618</td>\n",
       "    </tr>\n",
       "  </tbody>\n",
       "</table>\n",
       "</div>"
      ],
      "text/plain": [
       "  id_vergunning                                   pkey_installatie          x  \\\n",
       "0         65861  https://www.dov.vlaanderen.be/data/installatie...  155022.40   \n",
       "1         66229  https://www.dov.vlaanderen.be/data/installatie...  157403.75   \n",
       "2         66151  https://www.dov.vlaanderen.be/data/installatie...  155260.39   \n",
       "3         66155  https://www.dov.vlaanderen.be/data/installatie...  154146.74   \n",
       "4         66281  https://www.dov.vlaanderen.be/data/installatie...  153359.91   \n",
       "\n",
       "           y  diepte                   exploitant_naam        watnr  \\\n",
       "0  207704.41    26.0                   FIDES CONSTRUCT  ANT-01035-A   \n",
       "1  214471.32    10.0                           AQUAFIN  VLA-00197-A   \n",
       "2  214802.39    18.0  Luc Van Thienen, STRABAG BELGIUM  ANT-00456-A   \n",
       "3  213791.84     8.0                    SAMBER COLLEGE  ANT-00514-A   \n",
       "4  213115.04    15.0                        HOOYBERGHS  ANT-01100-A   \n",
       "\n",
       "  vlaremrubriek  vergund_jaardebiet  vergund_dagdebiet van_datum_termijn  \\\n",
       "0   53.2.2.b)2.             40700.0                NaN        2020-01-17   \n",
       "1   53.2.2.b)2.            493000.0                NaN        2019-08-09   \n",
       "2   53.2.2.b)2.            181000.0                NaN        2019-03-22   \n",
       "3   53.2.2.b)2.             31000.0                NaN        2019-05-03   \n",
       "4   53.2.2.b)2.             44000.0                NaN        2020-02-28   \n",
       "\n",
       "  tot_datum_termijn                    aquifer_vergunning  \\\n",
       "0        2021-03-11  0254: Zanden van Berchem en/of Voort   \n",
       "1               NaN          0200: Kempens Aquifersysteem   \n",
       "2        2029-03-22          0250: Mioceen Aquifersysteem   \n",
       "3        2020-05-03       0100: Quartaire aquifersystemen   \n",
       "4               NaN          0250: Mioceen Aquifersysteem   \n",
       "\n",
       "           inrichtingsklasse  \\\n",
       "0                   Klasse 2   \n",
       "1  Klasse 1 - Vlaams project   \n",
       "2                   Klasse 2   \n",
       "3                   Klasse 2   \n",
       "4                   Klasse 2   \n",
       "\n",
       "                                         nacebelcode         actie_waakgebied  \\\n",
       "0              68100: Handel in eigen onroerend goed                      NaN   \n",
       "1                            37000: Afvalwaterafvoer                      NaN   \n",
       "2  41203: Algemene bouw van andere niet-residenti...  geen actie/waakgebieden   \n",
       "3  41101: Ontwikkeling van residentiële bouwproje...  geen actie/waakgebieden   \n",
       "4  41201: Algemene bouw van residentiële gebouwen...  geen actie/waakgebieden   \n",
       "\n",
       "            cbbnr       kbonr  \n",
       "0             NaN  0538608237  \n",
       "1  00418870000022  0440691388  \n",
       "2             NaN  0472028526  \n",
       "3             NaN  0670629393  \n",
       "4             NaN  0424877618  "
      ]
     },
     "execution_count": 7,
     "metadata": {},
     "output_type": "execute_result"
    }
   ],
   "source": [
    "from pydov.util.location import Within, Box\n",
    "\n",
    "df = gwv.search(location=Within(Box(153145, 206930, 163150, 216935)))\n",
    "df.head()"
   ]
  },
  {
   "cell_type": "code",
   "execution_count": 8,
   "metadata": {},
   "outputs": [
    {
     "data": {
      "text/plain": [
       "387"
      ]
     },
     "execution_count": 8,
     "metadata": {},
     "output_type": "execute_result"
    }
   ],
   "source": [
    "len(df)"
   ]
  },
  {
   "cell_type": "markdown",
   "metadata": {},
   "source": [
    "359 permits were obtained in this bbox. However, not all permits are stil active, indicated by *tot_datum_termijn*. For more information about the extracted volumes, referenced by *vlaremrubriek*, see Vlarem II. See [this link](https://navigator.emis.vito.be/mijn-navigator?woId=70336) for more information about the potential definitions."
   ]
  },
  {
   "cell_type": "code",
   "execution_count": 9,
   "metadata": {},
   "outputs": [
    {
     "data": {
      "text/plain": [
       "{'name': 'vlaremrubriek',\n",
       " 'definition': 'Code die gebruikt wordt in VLAREM (bijlage 1 VLAREM II) om een rubriek aan te duiden',\n",
       " 'type': 'string',\n",
       " 'notnull': False,\n",
       " 'query': True,\n",
       " 'cost': 1}"
      ]
     },
     "execution_count": 9,
     "metadata": {},
     "output_type": "execute_result"
    }
   ],
   "source": [
    "fields['vlaremrubriek']"
   ]
  },
  {
   "cell_type": "markdown",
   "metadata": {},
   "source": [
    "### Get permits in a bounding box with specific properties"
   ]
  },
  {
   "cell_type": "markdown",
   "metadata": {},
   "source": [
    "Next to querying permits based on their geographic location within a bounding box, we can also search for permits matching a specific set of properties. For this we can build a query using a combination of the 'Gwvergunningen' fields and operators provided by the WFS protocol.\n",
    "\n",
    "A list of possible operators can be found below:"
   ]
  },
  {
   "cell_type": "code",
   "execution_count": 10,
   "metadata": {},
   "outputs": [
    {
     "data": {
      "text/plain": [
       "['PropertyIsBetween',\n",
       " 'PropertyIsEqualTo',\n",
       " 'PropertyIsGreaterThan',\n",
       " 'PropertyIsGreaterThanOrEqualTo',\n",
       " 'PropertyIsLessThan',\n",
       " 'PropertyIsLessThanOrEqualTo',\n",
       " 'PropertyIsLike',\n",
       " 'PropertyIsNotEqualTo',\n",
       " 'PropertyIsNull',\n",
       " 'SortProperty']"
      ]
     },
     "execution_count": 10,
     "metadata": {},
     "output_type": "execute_result"
    }
   ],
   "source": [
    "[i for i,j in inspect.getmembers(sys.modules['owslib.fes2'], inspect.isclass) if 'Property' in i]"
   ]
  },
  {
   "cell_type": "markdown",
   "metadata": {},
   "source": [
    "In this example we build a query using the *PropertyIsGreaterThan* operator in addition to the earlier bbox, to restrict the query to active permits:"
   ]
  },
  {
   "cell_type": "code",
   "execution_count": 11,
   "metadata": {},
   "outputs": [
    {
     "name": "stdout",
     "output_type": "stream",
     "text": [
      "[000/001] .\n"
     ]
    },
    {
     "data": {
      "text/html": [
       "<div>\n",
       "<style scoped>\n",
       "    .dataframe tbody tr th:only-of-type {\n",
       "        vertical-align: middle;\n",
       "    }\n",
       "\n",
       "    .dataframe tbody tr th {\n",
       "        vertical-align: top;\n",
       "    }\n",
       "\n",
       "    .dataframe thead th {\n",
       "        text-align: right;\n",
       "    }\n",
       "</style>\n",
       "<table border=\"1\" class=\"dataframe\">\n",
       "  <thead>\n",
       "    <tr style=\"text-align: right;\">\n",
       "      <th></th>\n",
       "      <th>id_vergunning</th>\n",
       "      <th>pkey_installatie</th>\n",
       "      <th>x</th>\n",
       "      <th>y</th>\n",
       "      <th>diepte</th>\n",
       "      <th>exploitant_naam</th>\n",
       "      <th>watnr</th>\n",
       "      <th>vlaremrubriek</th>\n",
       "      <th>vergund_jaardebiet</th>\n",
       "      <th>vergund_dagdebiet</th>\n",
       "      <th>van_datum_termijn</th>\n",
       "      <th>tot_datum_termijn</th>\n",
       "      <th>aquifer_vergunning</th>\n",
       "      <th>inrichtingsklasse</th>\n",
       "      <th>nacebelcode</th>\n",
       "      <th>actie_waakgebied</th>\n",
       "      <th>cbbnr</th>\n",
       "      <th>kbonr</th>\n",
       "    </tr>\n",
       "  </thead>\n",
       "  <tbody>\n",
       "    <tr>\n",
       "      <th>0</th>\n",
       "      <td>65861</td>\n",
       "      <td>https://www.dov.vlaanderen.be/data/installatie...</td>\n",
       "      <td>155022.40</td>\n",
       "      <td>207704.41</td>\n",
       "      <td>26.0</td>\n",
       "      <td>FIDES CONSTRUCT</td>\n",
       "      <td>ANT-01035-A</td>\n",
       "      <td>53.2.2.b)2.</td>\n",
       "      <td>40700.0</td>\n",
       "      <td>NaN</td>\n",
       "      <td>2020-01-17</td>\n",
       "      <td>2021-03-11</td>\n",
       "      <td>0254: Zanden van Berchem en/of Voort</td>\n",
       "      <td>Klasse 2</td>\n",
       "      <td>68100: Handel in eigen onroerend goed</td>\n",
       "      <td>NaN</td>\n",
       "      <td>NaN</td>\n",
       "      <td>0538608237</td>\n",
       "    </tr>\n",
       "    <tr>\n",
       "      <th>1</th>\n",
       "      <td>66151</td>\n",
       "      <td>https://www.dov.vlaanderen.be/data/installatie...</td>\n",
       "      <td>155260.39</td>\n",
       "      <td>214802.39</td>\n",
       "      <td>18.0</td>\n",
       "      <td>Luc Van Thienen, STRABAG BELGIUM</td>\n",
       "      <td>ANT-00456-A</td>\n",
       "      <td>53.2.2.b)2.</td>\n",
       "      <td>181000.0</td>\n",
       "      <td>NaN</td>\n",
       "      <td>2019-03-22</td>\n",
       "      <td>2029-03-22</td>\n",
       "      <td>0250: Mioceen Aquifersysteem</td>\n",
       "      <td>Klasse 2</td>\n",
       "      <td>41203: Algemene bouw van andere niet-residenti...</td>\n",
       "      <td>geen actie/waakgebieden</td>\n",
       "      <td>NaN</td>\n",
       "      <td>0472028526</td>\n",
       "    </tr>\n",
       "    <tr>\n",
       "      <th>2</th>\n",
       "      <td>66715</td>\n",
       "      <td>https://www.dov.vlaanderen.be/data/installatie...</td>\n",
       "      <td>162006.00</td>\n",
       "      <td>210942.00</td>\n",
       "      <td>50.0</td>\n",
       "      <td>PEERS SONIA</td>\n",
       "      <td>ANT-01082-A</td>\n",
       "      <td>53.8.2</td>\n",
       "      <td>30000.0</td>\n",
       "      <td>NaN</td>\n",
       "      <td>2020-04-02</td>\n",
       "      <td>2040-04-02</td>\n",
       "      <td>0254: Zanden van Berchem en/of Voort</td>\n",
       "      <td>Klasse 2</td>\n",
       "      <td>01301: Boomkwekerijen, m.u.v. bosboomkwekerijen</td>\n",
       "      <td>geen actie/waakgebieden</td>\n",
       "      <td>NaN</td>\n",
       "      <td>0536295875</td>\n",
       "    </tr>\n",
       "    <tr>\n",
       "      <th>3</th>\n",
       "      <td>67288</td>\n",
       "      <td>https://www.dov.vlaanderen.be/data/installatie...</td>\n",
       "      <td>154633.10</td>\n",
       "      <td>212242.23</td>\n",
       "      <td>7.0</td>\n",
       "      <td>Vlaams Bodemsaneringsfonds voor de Textielverz...</td>\n",
       "      <td>ANT-01066-A</td>\n",
       "      <td>53.2.2.b)2.</td>\n",
       "      <td>64800.0</td>\n",
       "      <td>240.0</td>\n",
       "      <td>2020-05-28</td>\n",
       "      <td>2021-02-28</td>\n",
       "      <td>0250: Mioceen Aquifersysteem</td>\n",
       "      <td>Klasse 2</td>\n",
       "      <td>39000: Sanering en ander afvalbeheer</td>\n",
       "      <td>geen actie/waakgebieden</td>\n",
       "      <td>NaN</td>\n",
       "      <td>0886185961</td>\n",
       "    </tr>\n",
       "    <tr>\n",
       "      <th>4</th>\n",
       "      <td>68098</td>\n",
       "      <td>https://www.dov.vlaanderen.be/data/installatie...</td>\n",
       "      <td>159597.00</td>\n",
       "      <td>209631.00</td>\n",
       "      <td>50.0</td>\n",
       "      <td>JIV VLEESWAREN-J. VAN GENECHTEN &amp; CO</td>\n",
       "      <td>ANT-01763-E</td>\n",
       "      <td>53.8.2</td>\n",
       "      <td>15000.0</td>\n",
       "      <td>70.0</td>\n",
       "      <td>2020-09-01</td>\n",
       "      <td>2023-06-26</td>\n",
       "      <td>0254: Zanden van Berchem en/of Voort</td>\n",
       "      <td>Klasse 2</td>\n",
       "      <td>10130: Vervaardiging van producten van vlees o...</td>\n",
       "      <td>geen actie/waakgebieden</td>\n",
       "      <td>NaN</td>\n",
       "      <td>0443377397</td>\n",
       "    </tr>\n",
       "  </tbody>\n",
       "</table>\n",
       "</div>"
      ],
      "text/plain": [
       "  id_vergunning                                   pkey_installatie          x  \\\n",
       "0         65861  https://www.dov.vlaanderen.be/data/installatie...  155022.40   \n",
       "1         66151  https://www.dov.vlaanderen.be/data/installatie...  155260.39   \n",
       "2         66715  https://www.dov.vlaanderen.be/data/installatie...  162006.00   \n",
       "3         67288  https://www.dov.vlaanderen.be/data/installatie...  154633.10   \n",
       "4         68098  https://www.dov.vlaanderen.be/data/installatie...  159597.00   \n",
       "\n",
       "           y  diepte                                    exploitant_naam  \\\n",
       "0  207704.41    26.0                                    FIDES CONSTRUCT   \n",
       "1  214802.39    18.0                   Luc Van Thienen, STRABAG BELGIUM   \n",
       "2  210942.00    50.0                                        PEERS SONIA   \n",
       "3  212242.23     7.0  Vlaams Bodemsaneringsfonds voor de Textielverz...   \n",
       "4  209631.00    50.0               JIV VLEESWAREN-J. VAN GENECHTEN & CO   \n",
       "\n",
       "         watnr vlaremrubriek  vergund_jaardebiet  vergund_dagdebiet  \\\n",
       "0  ANT-01035-A   53.2.2.b)2.             40700.0                NaN   \n",
       "1  ANT-00456-A   53.2.2.b)2.            181000.0                NaN   \n",
       "2  ANT-01082-A        53.8.2             30000.0                NaN   \n",
       "3  ANT-01066-A   53.2.2.b)2.             64800.0              240.0   \n",
       "4  ANT-01763-E        53.8.2             15000.0               70.0   \n",
       "\n",
       "  van_datum_termijn tot_datum_termijn                    aquifer_vergunning  \\\n",
       "0        2020-01-17        2021-03-11  0254: Zanden van Berchem en/of Voort   \n",
       "1        2019-03-22        2029-03-22          0250: Mioceen Aquifersysteem   \n",
       "2        2020-04-02        2040-04-02  0254: Zanden van Berchem en/of Voort   \n",
       "3        2020-05-28        2021-02-28          0250: Mioceen Aquifersysteem   \n",
       "4        2020-09-01        2023-06-26  0254: Zanden van Berchem en/of Voort   \n",
       "\n",
       "  inrichtingsklasse                                        nacebelcode  \\\n",
       "0          Klasse 2              68100: Handel in eigen onroerend goed   \n",
       "1          Klasse 2  41203: Algemene bouw van andere niet-residenti...   \n",
       "2          Klasse 2    01301: Boomkwekerijen, m.u.v. bosboomkwekerijen   \n",
       "3          Klasse 2               39000: Sanering en ander afvalbeheer   \n",
       "4          Klasse 2  10130: Vervaardiging van producten van vlees o...   \n",
       "\n",
       "          actie_waakgebied cbbnr       kbonr  \n",
       "0                      NaN   NaN  0538608237  \n",
       "1  geen actie/waakgebieden   NaN  0472028526  \n",
       "2  geen actie/waakgebieden   NaN  0536295875  \n",
       "3  geen actie/waakgebieden   NaN  0886185961  \n",
       "4  geen actie/waakgebieden   NaN  0443377397  "
      ]
     },
     "execution_count": 11,
     "metadata": {},
     "output_type": "execute_result"
    }
   ],
   "source": [
    "from owslib.fes2 import PropertyIsGreaterThan\n",
    "\n",
    "query = PropertyIsGreaterThan(propertyname='tot_datum_termijn',\n",
    "                          literal='2020-09-01')\n",
    "df = gwv.search(query=query,\n",
    "                location=Within(Box(153145, 206930, 163150, 216935)))\n",
    "\n",
    "df.head()"
   ]
  },
  {
   "cell_type": "code",
   "execution_count": 12,
   "metadata": {},
   "outputs": [
    {
     "data": {
      "text/plain": [
       "63"
      ]
     },
     "execution_count": 12,
     "metadata": {},
     "output_type": "execute_result"
    }
   ],
   "source": [
    "len(df)"
   ]
  },
  {
   "cell_type": "markdown",
   "metadata": {},
   "source": [
    "Contrary to the earlier query, this result contains considerably less active permits in the considered bbox."
   ]
  },
  {
   "cell_type": "markdown",
   "metadata": {},
   "source": [
    "Mind that among these permits, there could also be permits for dewatering works, or ATES systems. Both of these are mostly not important in the development of a hydrogeological model. For dewatering works, it is currently not possible to see the operational status. These works could have well been finished some time ago, or not. See [this link](https://navigator.emis.vito.be/mijn-navigator?woId=70336) for more information about *vlaremrubriek* codes."
   ]
  },
  {
   "cell_type": "markdown",
   "metadata": {},
   "source": [
    "### Select permits in a municipality and return depth"
   ]
  },
  {
   "cell_type": "markdown",
   "metadata": {},
   "source": [
    "We can limit the columns in the output dataframe by specifying the *return_fields* parameter in our search.\n",
    "\n",
    "In this example we query all the permits in the city of Ghent and return their depth. For this a remote WFS GML query is used as described in [this notebook](https://github.com/DOV-Vlaanderen/pydov/blob/master/docs/notebooks/remote_wfs_gml_query.ipynb):"
   ]
  },
  {
   "cell_type": "code",
   "execution_count": 14,
   "metadata": {},
   "outputs": [
    {
     "name": "stdout",
     "output_type": "stream",
     "text": [
      "[000/001] .\n"
     ]
    },
    {
     "data": {
      "text/plain": [
       "array([[<AxesSubplot:title={'center':'diepte'}>]], dtype=object)"
      ]
     },
     "execution_count": 14,
     "metadata": {},
     "output_type": "execute_result"
    },
    {
     "data": {
      "image/png": "[encoded data removed]",
      "text/plain": [
       "<Figure size 432x288 with 1 Axes>"
      ]
     },
     "metadata": {
      "needs_background": "light"
     },
     "output_type": "display_data"
    }
   ],
   "source": [
    "from owslib.etree import etree\n",
    "from owslib.wfs import WebFeatureService\n",
    "from owslib.fes import PropertyIsEqualTo\n",
    "\n",
    "from pydov.util.location import GmlFilter\n",
    "\n",
    "gemeentegrenzen = WebFeatureService(\n",
    "    'https://geoservices.informatievlaanderen.be/overdrachtdiensten/VRBG/wfs',\n",
    "    version='1.1.0')\n",
    "naam_filter = PropertyIsEqualTo(propertyname='NAAM', literal='Gent')\n",
    "gemeente_poly = gemeentegrenzen.getfeature(\n",
    "    typename='VRBG:Refgem',\n",
    "    filter=etree.tostring(naam_filter.toXML()).decode(\"utf8\"),\n",
    "    outputFormat='text/xml; subtype=gml/3.2').read()\n",
    "\n",
    "df = gwv.search(\n",
    "    location=GmlFilter(gemeente_poly, Within), \n",
    "    return_fields=('id_vergunning', 'diepte'))\n",
    "df.hist(column='diepte')"
   ]
  },
  {
   "cell_type": "code",
   "execution_count": 15,
   "metadata": {},
   "outputs": [
    {
     "data": {
      "text/html": [
       "<div>\n",
       "<style scoped>\n",
       "    .dataframe tbody tr th:only-of-type {\n",
       "        vertical-align: middle;\n",
       "    }\n",
       "\n",
       "    .dataframe tbody tr th {\n",
       "        vertical-align: top;\n",
       "    }\n",
       "\n",
       "    .dataframe thead th {\n",
       "        text-align: right;\n",
       "    }\n",
       "</style>\n",
       "<table border=\"1\" class=\"dataframe\">\n",
       "  <thead>\n",
       "    <tr style=\"text-align: right;\">\n",
       "      <th></th>\n",
       "      <th>diepte</th>\n",
       "    </tr>\n",
       "  </thead>\n",
       "  <tbody>\n",
       "    <tr>\n",
       "      <th>count</th>\n",
       "      <td>1151.000000</td>\n",
       "    </tr>\n",
       "    <tr>\n",
       "      <th>mean</th>\n",
       "      <td>23.036977</td>\n",
       "    </tr>\n",
       "    <tr>\n",
       "      <th>std</th>\n",
       "      <td>32.667650</td>\n",
       "    </tr>\n",
       "    <tr>\n",
       "      <th>min</th>\n",
       "      <td>-1.000000</td>\n",
       "    </tr>\n",
       "    <tr>\n",
       "      <th>25%</th>\n",
       "      <td>5.000000</td>\n",
       "    </tr>\n",
       "    <tr>\n",
       "      <th>50%</th>\n",
       "      <td>10.000000</td>\n",
       "    </tr>\n",
       "    <tr>\n",
       "      <th>75%</th>\n",
       "      <td>32.000000</td>\n",
       "    </tr>\n",
       "    <tr>\n",
       "      <th>max</th>\n",
       "      <td>290.000000</td>\n",
       "    </tr>\n",
       "  </tbody>\n",
       "</table>\n",
       "</div>"
      ],
      "text/plain": [
       "            diepte\n",
       "count  1151.000000\n",
       "mean     23.036977\n",
       "std      32.667650\n",
       "min      -1.000000\n",
       "25%       5.000000\n",
       "50%      10.000000\n",
       "75%      32.000000\n",
       "max     290.000000"
      ]
     },
     "execution_count": 15,
     "metadata": {},
     "output_type": "execute_result"
    }
   ],
   "source": [
    "df.describe()"
   ]
  },
  {
   "cell_type": "markdown",
   "metadata": {},
   "source": [
    "### Get permit data, returning fields not available in the standard output dataframe"
   ]
  },
  {
   "cell_type": "markdown",
   "metadata": {},
   "source": [
    "Not all fields are available in the default output frame. However, you can examine the available fields with the *get_fields()* method and pass the desired field name to the *return_fields* parameter."
   ]
  },
  {
   "cell_type": "code",
   "execution_count": 16,
   "metadata": {},
   "outputs": [
    {
     "name": "stdout",
     "output_type": "stream",
     "text": [
      "[000/001] .\n"
     ]
    },
    {
     "data": {
      "text/html": [
       "<div>\n",
       "<style scoped>\n",
       "    .dataframe tbody tr th:only-of-type {\n",
       "        vertical-align: middle;\n",
       "    }\n",
       "\n",
       "    .dataframe tbody tr th {\n",
       "        vertical-align: top;\n",
       "    }\n",
       "\n",
       "    .dataframe thead th {\n",
       "        text-align: right;\n",
       "    }\n",
       "</style>\n",
       "<table border=\"1\" class=\"dataframe\">\n",
       "  <thead>\n",
       "    <tr style=\"text-align: right;\">\n",
       "      <th></th>\n",
       "      <th>id_vergunning</th>\n",
       "      <th>diepte</th>\n",
       "      <th>vergunningverlenende_overheid_VVO</th>\n",
       "    </tr>\n",
       "  </thead>\n",
       "  <tbody>\n",
       "    <tr>\n",
       "      <th>0</th>\n",
       "      <td>67749</td>\n",
       "      <td>10.0</td>\n",
       "      <td>Vlaams Gewest</td>\n",
       "    </tr>\n",
       "    <tr>\n",
       "      <th>1</th>\n",
       "      <td>66228</td>\n",
       "      <td>NaN</td>\n",
       "      <td>Vlaams Gewest</td>\n",
       "    </tr>\n",
       "    <tr>\n",
       "      <th>2</th>\n",
       "      <td>65964</td>\n",
       "      <td>2.5</td>\n",
       "      <td>Provinciebestuur OOST-VLAANDEREN</td>\n",
       "    </tr>\n",
       "    <tr>\n",
       "      <th>3</th>\n",
       "      <td>65967</td>\n",
       "      <td>6.0</td>\n",
       "      <td>Provinciebestuur OOST-VLAANDEREN</td>\n",
       "    </tr>\n",
       "    <tr>\n",
       "      <th>4</th>\n",
       "      <td>66888</td>\n",
       "      <td>5.0</td>\n",
       "      <td>Gemeentebestuur GENT</td>\n",
       "    </tr>\n",
       "  </tbody>\n",
       "</table>\n",
       "</div>"
      ],
      "text/plain": [
       "  id_vergunning  diepte vergunningverlenende_overheid_VVO\n",
       "0         67749    10.0                     Vlaams Gewest\n",
       "1         66228     NaN                     Vlaams Gewest\n",
       "2         65964     2.5  Provinciebestuur OOST-VLAANDEREN\n",
       "3         65967     6.0  Provinciebestuur OOST-VLAANDEREN\n",
       "4         66888     5.0              Gemeentebestuur GENT"
      ]
     },
     "execution_count": 16,
     "metadata": {},
     "output_type": "execute_result"
    }
   ],
   "source": [
    "from owslib.fes2 import PropertyIsGreaterThanOrEqualTo\n",
    "\n",
    "query = PropertyIsGreaterThanOrEqualTo(\n",
    "            propertyname='diepte',\n",
    "            literal='200')\n",
    "\n",
    "df = gwv.search(\n",
    "    location=GmlFilter(gemeente_poly, Within),\n",
    "    return_fields=('id_vergunning', 'diepte', 'vergunningverlenende_overheid_VVO'))\n",
    "\n",
    "df.head()"
   ]
  },
  {
   "cell_type": "markdown",
   "metadata": {},
   "source": [
    "### Estimate groundwater quality data for a certain permit"
   ]
  },
  {
   "cell_type": "markdown",
   "metadata": {},
   "source": [
    "Given groundwater scarcity in Belgium, the reuse of dewatering drainage is increasingly being considerd. In some cases, this water contains a high iron load which is not desirable for a lot of applications.  \n",
    "Determine the groundwater quality for a certain permit, e.g. for the permit at Diestsestraat 209 3000 Leuven."
   ]
  },
  {
   "cell_type": "code",
   "execution_count": 18,
   "metadata": {},
   "outputs": [
    {
     "name": "stdout",
     "output_type": "stream",
     "text": [
      "[000/001] .\n"
     ]
    },
    {
     "data": {
      "text/html": [
       "<div>\n",
       "<style scoped>\n",
       "    .dataframe tbody tr th:only-of-type {\n",
       "        vertical-align: middle;\n",
       "    }\n",
       "\n",
       "    .dataframe tbody tr th {\n",
       "        vertical-align: top;\n",
       "    }\n",
       "\n",
       "    .dataframe thead th {\n",
       "        text-align: right;\n",
       "    }\n",
       "</style>\n",
       "<table border=\"1\" class=\"dataframe\">\n",
       "  <thead>\n",
       "    <tr style=\"text-align: right;\">\n",
       "      <th></th>\n",
       "      <th>id_vergunning</th>\n",
       "      <th>pkey_installatie</th>\n",
       "      <th>x</th>\n",
       "      <th>y</th>\n",
       "      <th>diepte</th>\n",
       "      <th>exploitant_naam</th>\n",
       "      <th>watnr</th>\n",
       "      <th>vlaremrubriek</th>\n",
       "      <th>vergund_jaardebiet</th>\n",
       "      <th>vergund_dagdebiet</th>\n",
       "      <th>van_datum_termijn</th>\n",
       "      <th>tot_datum_termijn</th>\n",
       "      <th>aquifer_vergunning</th>\n",
       "      <th>inrichtingsklasse</th>\n",
       "      <th>nacebelcode</th>\n",
       "      <th>actie_waakgebied</th>\n",
       "      <th>cbbnr</th>\n",
       "      <th>kbonr</th>\n",
       "    </tr>\n",
       "  </thead>\n",
       "  <tbody>\n",
       "    <tr>\n",
       "      <th>0</th>\n",
       "      <td>64279</td>\n",
       "      <td>https://www.dov.vlaanderen.be/data/installatie...</td>\n",
       "      <td>174097.89</td>\n",
       "      <td>174672.54</td>\n",
       "      <td>11.0</td>\n",
       "      <td>Rialto Holding</td>\n",
       "      <td>VLB-00133-A</td>\n",
       "      <td>53.2.2.a)</td>\n",
       "      <td>22450.0</td>\n",
       "      <td>445.0</td>\n",
       "      <td>2019-05-29</td>\n",
       "      <td>NaN</td>\n",
       "      <td>0620: Zand van Brussel</td>\n",
       "      <td>Klasse 3</td>\n",
       "      <td>64200: Holdings</td>\n",
       "      <td>NaN</td>\n",
       "      <td>NaN</td>\n",
       "      <td>0675544028</td>\n",
       "    </tr>\n",
       "  </tbody>\n",
       "</table>\n",
       "</div>"
      ],
      "text/plain": [
       "  id_vergunning                                   pkey_installatie          x  \\\n",
       "0         64279  https://www.dov.vlaanderen.be/data/installatie...  174097.89   \n",
       "\n",
       "           y  diepte exploitant_naam        watnr vlaremrubriek  \\\n",
       "0  174672.54    11.0  Rialto Holding  VLB-00133-A     53.2.2.a)   \n",
       "\n",
       "   vergund_jaardebiet  vergund_dagdebiet van_datum_termijn  tot_datum_termijn  \\\n",
       "0             22450.0              445.0        2019-05-29                NaN   \n",
       "\n",
       "       aquifer_vergunning inrichtingsklasse      nacebelcode  \\\n",
       "0  0620: Zand van Brussel          Klasse 3  64200: Holdings   \n",
       "\n",
       "   actie_waakgebied  cbbnr       kbonr  \n",
       "0               NaN    NaN  0675544028  "
      ]
     },
     "execution_count": 18,
     "metadata": {},
     "output_type": "execute_result"
    }
   ],
   "source": [
    "from pydov.util.location import Within, Box\n",
    "from owslib.fes2 import PropertyIsEqualTo\n",
    "import pandas as pd\n",
    "\n",
    "query = PropertyIsEqualTo(propertyname='inrichtingsnummer',\n",
    "                          literal='20181004-0018')\n",
    "df_permit = gwv.search(query=query)\n",
    "df_permit.head()"
   ]
  },
  {
   "cell_type": "markdown",
   "metadata": {},
   "source": [
    "The water is extracted from the hydrogeological layer 'Zand van Brussel' which is designated with the according HCOV code '0620'. We can now look in the data from the groundwater quality monitoring wells which wells are situated nearby for that specific hydrogeological layer. For this, we first have to look at the dataset comprising the head measurements, that also contains the HCOV code of the aquifer. Subsequently, we can fetch the water quality monitoring data of the selected well screens.  \n",
    "More information on the HCOV code can be found through this [link](https://www.dov.vlaanderen.be/index.php/page/hcov-kartering). "
   ]
  },
  {
   "cell_type": "code",
   "execution_count": 19,
   "metadata": {},
   "outputs": [
    {
     "name": "stdout",
     "output_type": "stream",
     "text": [
      "gw_id\n",
      "pkey_grondwaterlocatie\n",
      "filternummer\n",
      "pkey_filter\n",
      "namen\n",
      "filtergrafiek\n",
      "putgrafiek\n",
      "aquifer\n",
      "diepte_onderkant_filter\n",
      "lengte_filter\n",
      "putsoort\n",
      "filtertype\n",
      "meetnet\n",
      "x\n",
      "y\n",
      "start_grondwaterlocatie_mtaw\n",
      "gemeente\n",
      "grondwaterlichaam\n",
      "regime\n",
      "datum_in_filter\n",
      "datum_uit_filter\n",
      "stijghoogterapport\n",
      "analyserapport\n",
      "boornummer\n",
      "boringfiche\n",
      "peilmetingen_van\n",
      "peilmetingen_tot\n",
      "kwaliteitsmetingen_van\n",
      "kwaliteitsmetingen_tot\n",
      "recentste_exploitant\n",
      "beheerder\n",
      "mv_mtaw\n",
      "meetnet_code\n",
      "aquifer_code\n",
      "grondwaterlichaam_code\n",
      "datum\n",
      "tijdstip\n",
      "peil_mtaw\n",
      "betrouwbaarheid\n",
      "methode\n",
      "filterstatus\n",
      "filtertoestand\n"
     ]
    }
   ],
   "source": [
    "from pydov.search.grondwaterfilter import GrondwaterFilterSearch\n",
    "from pydov.search.grondwatermonster import GrondwaterMonsterSearch\n",
    "from pydov.util.query import Join\n",
    "\n",
    "gfs = GrondwaterFilterSearch()\n",
    "fields = gfs.get_fields()\n",
    "\n",
    "# print available fields\n",
    "for f in fields.values():\n",
    "    print(f['name'])\n"
   ]
  },
  {
   "cell_type": "code",
   "execution_count": 20,
   "metadata": {},
   "outputs": [
    {
     "name": "stdout",
     "output_type": "stream",
     "text": [
      "[000/001] .\n"
     ]
    },
    {
     "data": {
      "text/html": [
       "<div>\n",
       "<style scoped>\n",
       "    .dataframe tbody tr th:only-of-type {\n",
       "        vertical-align: middle;\n",
       "    }\n",
       "\n",
       "    .dataframe tbody tr th {\n",
       "        vertical-align: top;\n",
       "    }\n",
       "\n",
       "    .dataframe thead th {\n",
       "        text-align: right;\n",
       "    }\n",
       "</style>\n",
       "<table border=\"1\" class=\"dataframe\">\n",
       "  <thead>\n",
       "    <tr style=\"text-align: right;\">\n",
       "      <th></th>\n",
       "      <th>pkey_filter</th>\n",
       "      <th>x</th>\n",
       "      <th>y</th>\n",
       "      <th>aquifer</th>\n",
       "      <th>diepte_onderkant_filter</th>\n",
       "    </tr>\n",
       "  </thead>\n",
       "  <tbody>\n",
       "    <tr>\n",
       "      <th>26</th>\n",
       "      <td>https://www.dov.vlaanderen.be/data/filter/2021...</td>\n",
       "      <td>173724.0</td>\n",
       "      <td>175112.0</td>\n",
       "      <td>0620 - Zand van Brussel</td>\n",
       "      <td>19.0</td>\n",
       "    </tr>\n",
       "    <tr>\n",
       "      <th>27</th>\n",
       "      <td>https://www.dov.vlaanderen.be/data/filter/2021...</td>\n",
       "      <td>173727.0</td>\n",
       "      <td>175127.0</td>\n",
       "      <td>0620 - Zand van Brussel</td>\n",
       "      <td>19.0</td>\n",
       "    </tr>\n",
       "    <tr>\n",
       "      <th>28</th>\n",
       "      <td>https://www.dov.vlaanderen.be/data/filter/2021...</td>\n",
       "      <td>173755.0</td>\n",
       "      <td>175104.0</td>\n",
       "      <td>0620 - Zand van Brussel</td>\n",
       "      <td>19.0</td>\n",
       "    </tr>\n",
       "    <tr>\n",
       "      <th>29</th>\n",
       "      <td>https://www.dov.vlaanderen.be/data/filter/2021...</td>\n",
       "      <td>173769.0</td>\n",
       "      <td>175122.0</td>\n",
       "      <td>0620 - Zand van Brussel</td>\n",
       "      <td>19.0</td>\n",
       "    </tr>\n",
       "    <tr>\n",
       "      <th>30</th>\n",
       "      <td>https://www.dov.vlaanderen.be/data/filter/2021...</td>\n",
       "      <td>173798.0</td>\n",
       "      <td>175119.0</td>\n",
       "      <td>0620 - Zand van Brussel</td>\n",
       "      <td>19.0</td>\n",
       "    </tr>\n",
       "  </tbody>\n",
       "</table>\n",
       "</div>"
      ],
      "text/plain": [
       "                                          pkey_filter         x         y  \\\n",
       "26  https://www.dov.vlaanderen.be/data/filter/2021...  173724.0  175112.0   \n",
       "27  https://www.dov.vlaanderen.be/data/filter/2021...  173727.0  175127.0   \n",
       "28  https://www.dov.vlaanderen.be/data/filter/2021...  173755.0  175104.0   \n",
       "29  https://www.dov.vlaanderen.be/data/filter/2021...  173769.0  175122.0   \n",
       "30  https://www.dov.vlaanderen.be/data/filter/2021...  173798.0  175119.0   \n",
       "\n",
       "                    aquifer  diepte_onderkant_filter  \n",
       "26  0620 - Zand van Brussel                     19.0  \n",
       "27  0620 - Zand van Brussel                     19.0  \n",
       "28  0620 - Zand van Brussel                     19.0  \n",
       "29  0620 - Zand van Brussel                     19.0  \n",
       "30  0620 - Zand van Brussel                     19.0  "
      ]
     },
     "execution_count": 20,
     "metadata": {},
     "output_type": "execute_result"
    }
   ],
   "source": [
    "from pydov.search.grondwaterfilter import GrondwaterFilterSearch\n",
    "from pydov.search.grondwatermonster import GrondwaterMonsterSearch\n",
    "from pydov.util.query import Join\n",
    "\n",
    "gfs = GrondwaterFilterSearch()\n",
    "gwmonster = GrondwaterMonsterSearch()\n",
    "\n",
    "df_gfs = gfs.search(location=Within(Box(170000, 174000, 190000, 180000)),\n",
    "                   return_fields=['pkey_filter', 'x', 'y', 'aquifer', 'diepte_onderkant_filter'])\n",
    "\n",
    "filters = df_gfs[(df_gfs['aquifer'].str.contains('0620')) ]\n",
    "filters.head()"
   ]
  },
  {
   "cell_type": "markdown",
   "metadata": {},
   "source": [
    "Now select the according water quality data"
   ]
  },
  {
   "cell_type": "code",
   "execution_count": 21,
   "metadata": {
    "scrolled": true
   },
   "outputs": [
    {
     "name": "stdout",
     "output_type": "stream",
     "text": [
      "[000/001] .\n",
      "[000/202] ccccccccccccccc........cccccccccc.ccc.c.c.cccccccc\n",
      "[050/202] ......cc.cc.cc..cccccccccccccccccc......cccccccc..\n",
      "[100/202] ...c.cc.ccccccccc.cccccc..cc.c....................\n",
      "[150/202] ..................................................\n",
      "[200/202] ..\n"
     ]
    },
    {
     "data": {
      "text/plain": [
       "array([b'Na', b'EC', b'Mg', b'Cd', b'Ca', b'NO2', b'Zn', b'Al', b'CN',\n",
       "       b'Cr', b'K', b'HCO3', b'F', b'Cl', b'As', b'Cu', b'T', b'Ni',\n",
       "       b'Pb', b'NH4', b'TOC', b'Mn', b'NO3', b'CO3', b'Fe', b'O2',\n",
       "       b'Eh\\xc2\\xb0', b'PO4', b'Fe2+', b'SO4', b'Hg', b'pH', b'EC(Lab.)',\n",
       "       b'Co', b'pH(Lab.)', b'Isoprot', b'chazr', b'Bentaz', b'metola-S',\n",
       "       b'atr_des', b'Terbu', b'Diur', b'Simaz', b'VIS', b'DMS',\n",
       "       b'Chlortol', b'BAM', b'Atraz', b'AMPA', b'Chloridaz', b'Glyfos',\n",
       "       b'Linur', b'SomAN', b'SomKAT', b'B', b'%AfwijkBalans',\n",
       "       b'trichlorpyr', b'Mesotri', b'fluopicolide', b'meta9', b'Dchdzn',\n",
       "       b'meta4', b'meta11', b'Imida', b'Triflox', b'Metola-S-ESA',\n",
       "       b'flufe', b'meta8', b'Br', b'TDS', b'Temp.', b'PropaCl', b'24d',\n",
       "       b'Linur_mono', b'Propan', b'Terbu_des', b'Carben',\n",
       "       b'Atr_desisoprop', b'Propaz', b'brom', b'Ethofum', b'mcpa',\n",
       "       b'Carbet', b'Cyana', b'Metaza', b'Prometr', b'Clproph',\n",
       "       b'5ClFenol', b'Metox', b'Ala', b'Metobro', b'Metami', b'245t',\n",
       "       b'24db', b'Fenoprop', b'Mecopr', b'Fluroxypyr', b'Terbutryn',\n",
       "       b'mcpb', b'Methabenz', b'Dichlorpr', b'Sebu', b'Hexaz', b'Dicam',\n",
       "       b'Per', b'Tri'], dtype=object)"
      ]
     },
     "execution_count": 21,
     "metadata": {},
     "output_type": "execute_result"
    }
   ],
   "source": [
    "df_gwq = gwmonster.search(query=Join(filters, 'pkey_filter'),\n",
    "                         )\n",
    "df_gwq['parameter'] = df_gwq['parameter'].str.encode('utf-8')\n",
    "df_gwq['parameter'].unique()"
   ]
  },
  {
   "cell_type": "code",
   "execution_count": 22,
   "metadata": {},
   "outputs": [
    {
     "data": {
      "text/plain": [
       "               parameter\n",
       "waarde  count  b'Fe'        192.000000\n",
       "               b'Fe2+'       75.000000\n",
       "        mean   b'Fe'          1.521719\n",
       "               b'Fe2+'        0.701600\n",
       "        std    b'Fe'          1.970086\n",
       "               b'Fe2+'        1.268584\n",
       "        min    b'Fe'          0.000000\n",
       "               b'Fe2+'        0.000000\n",
       "        25%    b'Fe'          0.020000\n",
       "               b'Fe2+'        0.020000\n",
       "        50%    b'Fe'          0.425000\n",
       "               b'Fe2+'        0.070000\n",
       "        75%    b'Fe'          3.440000\n",
       "               b'Fe2+'        0.650000\n",
       "        max    b'Fe'         12.300000\n",
       "               b'Fe2+'        4.400000\n",
       "dtype: float64"
      ]
     },
     "execution_count": 22,
     "metadata": {},
     "output_type": "execute_result"
    }
   ],
   "source": [
    "pars_select = [b'Fe', b'Fe2+', b'Fe(Tot.)', b'Fe3+']\n",
    "df_selected = df_gwq.loc[df_gwq.parameter.isin(pars_select), :]\n",
    "df_stat = df_selected.loc[:, ['parameter', 'waarde']].groupby('parameter').describe().unstack(1)\n",
    "df_stat"
   ]
  },
  {
   "cell_type": "markdown",
   "metadata": {},
   "source": [
    "Mind the units of the values. "
   ]
  },
  {
   "cell_type": "code",
   "execution_count": 23,
   "metadata": {},
   "outputs": [
    {
     "data": {
      "text/plain": [
       "array(['mg/l'], dtype=object)"
      ]
     },
     "execution_count": 23,
     "metadata": {},
     "output_type": "execute_result"
    }
   ],
   "source": [
    "df_selected.eenheid.unique()"
   ]
  },
  {
   "cell_type": "markdown",
   "metadata": {},
   "source": [
    "As such, the iron content of the considered hydrogeological layer is on average 1.5 mg/L with a stdev of 1.97 mg/L. This is most likely above the standars for use as irrigation water (see this [link](https://lv.vlaanderen.be/nl/voorlichting-info/publicaties/praktijkgidsen/water/duurzaam-watergebruik-de-openluchtgroenteteelt-3#chemische)). Mind that further processing with a limited selection of the two nearest monitoring screens is possible. And even further, an indication of the nearest OVAM sites can be obtaind from the WFS with (in Dutch) 'Dossierinfo' as available from this [link](https://services.ovam.be/geoserver2/wfs?REQUEST=GetCapabilities&SERVICE=WFS)."
   ]
  }
 ],
 "metadata": {
  "kernelspec": {
   "display_name": "Python 3.10.4 ('venv': venv)",
   "language": "python",
   "name": "python3"
  },
  "language_info": {
   "codemirror_mode": {
    "name": "ipython",
    "version": 3
   },
   "file_extension": ".py",
   "mimetype": "text/x-python",
   "name": "python",
   "nbconvert_exporter": "python",
   "pygments_lexer": "ipython3",
   "version": "3.10.4"
  },
  "vscode": {
   "interpreter": {
    "hash": "a0d0e535e2a0c7ed2e54797a9491172418d0a0d8405efa8941f8f8b45b28ad7d"
   }
  }
 },
 "nbformat": 4,
 "nbformat_minor": 4
}
