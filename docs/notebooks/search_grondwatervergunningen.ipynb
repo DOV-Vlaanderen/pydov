{
 "cells": [
  {
   "cell_type": "markdown",
   "metadata": {},
   "source": [
    "# Example of DOV search methods for groundwater permits (grondwatervergunningen)"
   ]
  },
  {
   "cell_type": "markdown",
   "metadata": {},
   "source": [
    "[![Binder](https://mybinder.org/badge_logo.svg)](https://mybinder.org/v2/gh/DOV-Vlaanderen/pydov/master?filepath=docs%2Fnotebooks%2Fsearch_boringen.ipynb)"
   ]
  },
  {
   "cell_type": "markdown",
   "metadata": {},
   "source": [
    "Mind that the data source of groundwater permits is just a WFS. It can be accessed with simple WFS calls from OWSLib. It is included in the pydov API for ease of access for less experienced users. And to provide a general interface with unit testing to all considered objects."
   ]
  },
  {
   "cell_type": "markdown",
   "metadata": {},
   "source": [
    "## Use cases explained below\n",
    "* Get permits in a bounding box\n",
    "* Get permits in a bounding box based on specific properties\n",
    "* Select permits in a municipality and return depth\n",
    "* Get permits, returning fields not available in the standard output dataframe\n",
    "* Get for a certain permit the measured water quality parameters if available"
   ]
  },
  {
   "cell_type": "code",
   "execution_count": 1,
   "metadata": {},
   "outputs": [],
   "source": [
    "%matplotlib inline\n",
    "import inspect, sys\n",
    "import warnings; warnings.simplefilter('ignore')"
   ]
  },
  {
   "cell_type": "code",
   "execution_count": 2,
   "metadata": {},
   "outputs": [],
   "source": [
    "# check pydov path\n",
    "import pydov"
   ]
  },
  {
   "cell_type": "markdown",
   "metadata": {},
   "source": [
    "## Get information about the datatype 'GrondwaterVergunning'"
   ]
  },
  {
   "cell_type": "code",
   "execution_count": 3,
   "metadata": {},
   "outputs": [],
   "source": [
    "from pydov.search.grondwatervergunning import GrondwaterVergunningSearch\n",
    "gwv = GrondwaterVergunningSearch()"
   ]
  },
  {
   "cell_type": "markdown",
   "metadata": {},
   "source": [
    "A description is provided for the 'Gwvergunningen' datatype (in Dutch):"
   ]
  },
  {
   "cell_type": "code",
   "execution_count": 4,
   "metadata": {},
   "outputs": [
    {
     "data": {
      "text/plain": [
       "'Vergunningen verleend voor het winnen van grondwater kunnen gevisualiseerd en bevraagd worden in de Databank Ondergrond Vlaanderen. \\r\\nSinds 1999 zijn vergunningen verleend volgens de VLAREM-wetgeving. Ze zijn ingedeeld in klasse 1, 2 of 3, waarbij er voor klasse 1 en 2 een vergunningsplicht geldt en voor klasse 3 een meldingsplicht. De indelingslijst is terug te vinden in VLAREM I (het winnen van grondwater is opgenomen onder rubriek 53). Oudere aanvragen zijn verleend volgens het Grondwaterdecreet. Deze zijn ingedeeld in categorie A, B en C.'"
      ]
     },
     "execution_count": 4,
     "metadata": {},
     "output_type": "execute_result"
    }
   ],
   "source": [
    "gwv.get_description()"
   ]
  },
  {
   "cell_type": "markdown",
   "metadata": {},
   "source": [
    "The different fields that are available for objects of the 'Gwvergunningen' datatype can be requested with the get_fields() method:"
   ]
  },
  {
   "cell_type": "code",
   "execution_count": 5,
   "metadata": {},
   "outputs": [
    {
     "name": "stdout",
     "output_type": "stream",
     "text": [
      "id_vergunning\n",
      "pkey_installatie\n",
      "exploitant\n",
      "exploitant_naam\n",
      "inrichtingsnummer\n",
      "watnr\n",
      "vergunning\n",
      "vlaremrubriek\n",
      "vergund_jaardebiet\n",
      "vergund_dagdebiet\n",
      "vergund_volume_per_projectdebiet\n",
      "van_datum_termijn\n",
      "tot_datum_termijn\n",
      "aquifer_HCOVv1_vergunning\n",
      "aquifer_vergunning\n",
      "diepte\n",
      "vergund_aantal_putten\n",
      "inrichtingsklasse\n",
      "vergunningverlenende_overheid_VVO\n",
      "referentie_VVO\n",
      "nacebelcode\n",
      "IIOA_CBBnr\n",
      "IIOA_adres\n",
      "grondwaterlichaam\n",
      "actie_waakgebied\n",
      "x\n",
      "y\n",
      "exploitant_adres\n",
      "cbbnr\n",
      "kbonr\n",
      "heffingsnummer\n",
      "exploitant_namen\n",
      "eerste_invoer\n",
      "geom\n"
     ]
    }
   ],
   "source": [
    "fields = gwv.get_fields()\n",
    "\n",
    "# print available fields\n",
    "for f in fields.values():\n",
    "    print(f['name'])"
   ]
  },
  {
   "cell_type": "markdown",
   "metadata": {},
   "source": [
    "You can get more information of a field by requesting it from the fields dictionary:\n",
    "* *name*: name of the field\n",
    "* *definition*: definition of this field\n",
    "* *cost*: currently this is either 1 or 10, depending on the datasource of the field. It is an indication of the expected time it will take to retrieve this field in the output dataframe. However, since the data source is currently a WFS, the cost of each field is 1\n",
    "* *notnull*: whether the field is mandatory or not\n",
    "* *type*: datatype of the values of this field"
   ]
  },
  {
   "cell_type": "code",
   "execution_count": 6,
   "metadata": {},
   "outputs": [
    {
     "data": {
      "text/plain": [
       "{'name': 'actie_waakgebied',\n",
       " 'definition': 'de actie- en waakgebieden afgebakend i.k.v. het gebiedspecifieke beleid zoals vastgesteld in de herstelprogrammas voor grondwaterlichamen in ontoereikende kwantitatieve toestand binnen het Centraal Vlaams Systeem, het Brulandkrijtsysteem en het Sokkelsysteem (2016-2021)',\n",
       " 'type': 'string',\n",
       " 'list': False,\n",
       " 'notnull': False,\n",
       " 'query': True,\n",
       " 'cost': 1}"
      ]
     },
     "execution_count": 6,
     "metadata": {},
     "output_type": "execute_result"
    }
   ],
   "source": [
    "fields['actie_waakgebied']"
   ]
  },
  {
   "cell_type": "markdown",
   "metadata": {},
   "source": [
    "## Example use cases"
   ]
  },
  {
   "cell_type": "markdown",
   "metadata": {},
   "source": [
    "### Get permits in a bounding box"
   ]
  },
  {
   "cell_type": "markdown",
   "metadata": {},
   "source": [
    "Get data for all the permits that are geographically located within the bounds of the specified box.\n",
    "\n",
    "The coordinates are in the Belgian Lambert72 (EPSG:31370) coordinate system and are given in the order of lower left x, lower left y, upper right x, upper right y."
   ]
  },
  {
   "cell_type": "code",
   "execution_count": 7,
   "metadata": {},
   "outputs": [
    {
     "name": "stdout",
     "output_type": "stream",
     "text": [
      "[000/001] .\n"
     ]
    },
    {
     "data": {
      "text/html": [
       "<div>\n",
       "<style scoped>\n",
       "    .dataframe tbody tr th:only-of-type {\n",
       "        vertical-align: middle;\n",
       "    }\n",
       "\n",
       "    .dataframe tbody tr th {\n",
       "        vertical-align: top;\n",
       "    }\n",
       "\n",
       "    .dataframe thead th {\n",
       "        text-align: right;\n",
       "    }\n",
       "</style>\n",
       "<table border=\"1\" class=\"dataframe\">\n",
       "  <thead>\n",
       "    <tr style=\"text-align: right;\">\n",
       "      <th></th>\n",
       "      <th>id_vergunning</th>\n",
       "      <th>pkey_installatie</th>\n",
       "      <th>x</th>\n",
       "      <th>y</th>\n",
       "      <th>diepte</th>\n",
       "      <th>exploitant_naam</th>\n",
       "      <th>watnr</th>\n",
       "      <th>vlaremrubriek</th>\n",
       "      <th>vergund_jaardebiet</th>\n",
       "      <th>vergund_dagdebiet</th>\n",
       "      <th>van_datum_termijn</th>\n",
       "      <th>tot_datum_termijn</th>\n",
       "      <th>aquifer_vergunning</th>\n",
       "      <th>inrichtingsklasse</th>\n",
       "      <th>nacebelcode</th>\n",
       "      <th>actie_waakgebied</th>\n",
       "      <th>cbbnr</th>\n",
       "      <th>kbonr</th>\n",
       "    </tr>\n",
       "  </thead>\n",
       "  <tbody>\n",
       "    <tr>\n",
       "      <th>0</th>\n",
       "      <td>70509</td>\n",
       "      <td>https://www.dov.vlaanderen.be/data/installatie...</td>\n",
       "      <td>157118.69</td>\n",
       "      <td>210256.80</td>\n",
       "      <td>7.5</td>\n",
       "      <td>BOUWONDERNEMING VOORUITZICHT</td>\n",
       "      <td>ANT-02373-A</td>\n",
       "      <td>53.2.2.b)2&lt;25</td>\n",
       "      <td>116363.0</td>\n",
       "      <td>NaN</td>\n",
       "      <td>2021-04-30</td>\n",
       "      <td>2026-04-29</td>\n",
       "      <td>A0200: Kempens Aquifersysteem</td>\n",
       "      <td>Klasse 2</td>\n",
       "      <td>41201: Algemene bouw van residentiële gebouwen</td>\n",
       "      <td>geen actie/waakgebieden</td>\n",
       "      <td>NaN</td>\n",
       "      <td>0404678357</td>\n",
       "    </tr>\n",
       "    <tr>\n",
       "      <th>1</th>\n",
       "      <td>61750</td>\n",
       "      <td>https://www.dov.vlaanderen.be/data/installatie...</td>\n",
       "      <td>157158.00</td>\n",
       "      <td>210393.00</td>\n",
       "      <td>9.0</td>\n",
       "      <td>BOUWONDERNEMING VOORUITZICHT</td>\n",
       "      <td>ANT-00091-A</td>\n",
       "      <td>53.2.2.b)2&lt;25</td>\n",
       "      <td>205020.0</td>\n",
       "      <td>NaN</td>\n",
       "      <td>2018-05-25</td>\n",
       "      <td>2018-11-25</td>\n",
       "      <td>A0200: Kempens Aquifersysteem</td>\n",
       "      <td>Klasse 2</td>\n",
       "      <td>41201: Algemene bouw van residentiële gebouwen...</td>\n",
       "      <td>NaN</td>\n",
       "      <td>NaN</td>\n",
       "      <td>0404678357</td>\n",
       "    </tr>\n",
       "    <tr>\n",
       "      <th>2</th>\n",
       "      <td>64227</td>\n",
       "      <td>https://www.dov.vlaanderen.be/data/installatie...</td>\n",
       "      <td>157158.00</td>\n",
       "      <td>210393.00</td>\n",
       "      <td>9.0</td>\n",
       "      <td>BOUWONDERNEMING VOORUITZICHT</td>\n",
       "      <td>ANT-00589-A</td>\n",
       "      <td>53.2.2.b)2&lt;25</td>\n",
       "      <td>205020.0</td>\n",
       "      <td>NaN</td>\n",
       "      <td>2019-06-07</td>\n",
       "      <td>2020-06-07</td>\n",
       "      <td>A0200: Kempens Aquifersysteem</td>\n",
       "      <td>Klasse 2</td>\n",
       "      <td>41201: Algemene bouw van residentiële gebouwen...</td>\n",
       "      <td>NaN</td>\n",
       "      <td>NaN</td>\n",
       "      <td>0404678357</td>\n",
       "    </tr>\n",
       "    <tr>\n",
       "      <th>3</th>\n",
       "      <td>67692</td>\n",
       "      <td>https://www.dov.vlaanderen.be/data/installatie...</td>\n",
       "      <td>154171.79</td>\n",
       "      <td>214241.69</td>\n",
       "      <td>NaN</td>\n",
       "      <td>AQUAFIN</td>\n",
       "      <td>ANT-01287-A</td>\n",
       "      <td>53.2.2.b)2&lt;25</td>\n",
       "      <td>200000.0</td>\n",
       "      <td>NaN</td>\n",
       "      <td>2021-03-08</td>\n",
       "      <td>2023-09-08</td>\n",
       "      <td>A0100: Quartaire Aquifersystemen</td>\n",
       "      <td>Klasse 2</td>\n",
       "      <td>37: Afvalwaterafvoer</td>\n",
       "      <td>geen actie/waakgebieden</td>\n",
       "      <td>00418870000022</td>\n",
       "      <td>0440691388</td>\n",
       "    </tr>\n",
       "    <tr>\n",
       "      <th>4</th>\n",
       "      <td>66155</td>\n",
       "      <td>https://www.dov.vlaanderen.be/data/installatie...</td>\n",
       "      <td>154146.74</td>\n",
       "      <td>213791.84</td>\n",
       "      <td>8.0</td>\n",
       "      <td>SAMBER COLLEGE</td>\n",
       "      <td>ANT-00514-A</td>\n",
       "      <td>53.2.2.b)2&lt;25</td>\n",
       "      <td>31000.0</td>\n",
       "      <td>NaN</td>\n",
       "      <td>2019-05-03</td>\n",
       "      <td>2020-05-03</td>\n",
       "      <td>A0100: Quartaire Aquifersystemen</td>\n",
       "      <td>Klasse 2</td>\n",
       "      <td>41101: Ontwikkeling van residentiële bouwproje...</td>\n",
       "      <td>geen actie/waakgebieden</td>\n",
       "      <td>NaN</td>\n",
       "      <td>0670629393</td>\n",
       "    </tr>\n",
       "  </tbody>\n",
       "</table>\n",
       "</div>"
      ],
      "text/plain": [
       "  id_vergunning                                   pkey_installatie          x  \\\n",
       "0         70509  https://www.dov.vlaanderen.be/data/installatie...  157118.69   \n",
       "1         61750  https://www.dov.vlaanderen.be/data/installatie...  157158.00   \n",
       "2         64227  https://www.dov.vlaanderen.be/data/installatie...  157158.00   \n",
       "3         67692  https://www.dov.vlaanderen.be/data/installatie...  154171.79   \n",
       "4         66155  https://www.dov.vlaanderen.be/data/installatie...  154146.74   \n",
       "\n",
       "           y  diepte               exploitant_naam        watnr  \\\n",
       "0  210256.80     7.5  BOUWONDERNEMING VOORUITZICHT  ANT-02373-A   \n",
       "1  210393.00     9.0  BOUWONDERNEMING VOORUITZICHT  ANT-00091-A   \n",
       "2  210393.00     9.0  BOUWONDERNEMING VOORUITZICHT  ANT-00589-A   \n",
       "3  214241.69     NaN                       AQUAFIN  ANT-01287-A   \n",
       "4  213791.84     8.0                SAMBER COLLEGE  ANT-00514-A   \n",
       "\n",
       "   vlaremrubriek  vergund_jaardebiet  vergund_dagdebiet van_datum_termijn  \\\n",
       "0  53.2.2.b)2<25            116363.0                NaN        2021-04-30   \n",
       "1  53.2.2.b)2<25            205020.0                NaN        2018-05-25   \n",
       "2  53.2.2.b)2<25            205020.0                NaN        2019-06-07   \n",
       "3  53.2.2.b)2<25            200000.0                NaN        2021-03-08   \n",
       "4  53.2.2.b)2<25             31000.0                NaN        2019-05-03   \n",
       "\n",
       "  tot_datum_termijn                aquifer_vergunning inrichtingsklasse  \\\n",
       "0        2026-04-29     A0200: Kempens Aquifersysteem          Klasse 2   \n",
       "1        2018-11-25     A0200: Kempens Aquifersysteem          Klasse 2   \n",
       "2        2020-06-07     A0200: Kempens Aquifersysteem          Klasse 2   \n",
       "3        2023-09-08  A0100: Quartaire Aquifersystemen          Klasse 2   \n",
       "4        2020-05-03  A0100: Quartaire Aquifersystemen          Klasse 2   \n",
       "\n",
       "                                         nacebelcode         actie_waakgebied  \\\n",
       "0     41201: Algemene bouw van residentiële gebouwen  geen actie/waakgebieden   \n",
       "1  41201: Algemene bouw van residentiële gebouwen...                      NaN   \n",
       "2  41201: Algemene bouw van residentiële gebouwen...                      NaN   \n",
       "3                               37: Afvalwaterafvoer  geen actie/waakgebieden   \n",
       "4  41101: Ontwikkeling van residentiële bouwproje...  geen actie/waakgebieden   \n",
       "\n",
       "            cbbnr       kbonr  \n",
       "0             NaN  0404678357  \n",
       "1             NaN  0404678357  \n",
       "2             NaN  0404678357  \n",
       "3  00418870000022  0440691388  \n",
       "4             NaN  0670629393  "
      ]
     },
     "execution_count": 7,
     "metadata": {},
     "output_type": "execute_result"
    }
   ],
   "source": [
    "from pydov.util.location import Within, Box\n",
    "\n",
    "df = gwv.search(location=Within(Box(153145, 206930, 163150, 216935)))\n",
    "df.head()"
   ]
  },
  {
   "cell_type": "code",
   "execution_count": 8,
   "metadata": {},
   "outputs": [
    {
     "data": {
      "text/plain": [
       "667"
      ]
     },
     "execution_count": 8,
     "metadata": {},
     "output_type": "execute_result"
    }
   ],
   "source": [
    "len(df)"
   ]
  },
  {
   "cell_type": "markdown",
   "metadata": {},
   "source": [
    "667 permits were obtained in this bbox. However, not all permits are stil active, indicated by *tot_datum_termijn*. For more information about the extracted volumes, referenced by *vlaremrubriek*, see Vlarem II. See [this link](https://navigator.emis.vito.be/mijn-navigator?woId=70336) for more information about the potential definitions."
   ]
  },
  {
   "cell_type": "code",
   "execution_count": 9,
   "metadata": {},
   "outputs": [
    {
     "data": {
      "text/plain": [
       "{'name': 'vlaremrubriek',\n",
       " 'definition': 'Code die gebruikt wordt in VLAREM (bijlage 1 VLAREM II) om een rubriek aan te duiden',\n",
       " 'type': 'string',\n",
       " 'list': False,\n",
       " 'notnull': False,\n",
       " 'query': True,\n",
       " 'cost': 1}"
      ]
     },
     "execution_count": 9,
     "metadata": {},
     "output_type": "execute_result"
    }
   ],
   "source": [
    "fields['vlaremrubriek']"
   ]
  },
  {
   "cell_type": "markdown",
   "metadata": {},
   "source": [
    "### Get permits in a bounding box with specific properties"
   ]
  },
  {
   "cell_type": "markdown",
   "metadata": {},
   "source": [
    "Next to querying permits based on their geographic location within a bounding box, we can also search for permits matching a specific set of properties. For this we can build a query using a combination of the 'Gwvergunningen' fields and operators provided by the WFS protocol.\n",
    "\n",
    "A list of possible operators can be found below:"
   ]
  },
  {
   "cell_type": "code",
   "execution_count": 10,
   "metadata": {},
   "outputs": [
    {
     "data": {
      "text/plain": [
       "['PropertyIsBetween',\n",
       " 'PropertyIsEqualTo',\n",
       " 'PropertyIsGreaterThan',\n",
       " 'PropertyIsGreaterThanOrEqualTo',\n",
       " 'PropertyIsLessThan',\n",
       " 'PropertyIsLessThanOrEqualTo',\n",
       " 'PropertyIsLike',\n",
       " 'PropertyIsNotEqualTo',\n",
       " 'PropertyIsNull',\n",
       " 'SortProperty']"
      ]
     },
     "execution_count": 10,
     "metadata": {},
     "output_type": "execute_result"
    }
   ],
   "source": [
    "[i for i,j in inspect.getmembers(sys.modules['owslib.fes2'], inspect.isclass) if 'Property' in i]"
   ]
  },
  {
   "cell_type": "markdown",
   "metadata": {},
   "source": [
    "In this example we build a query using the *PropertyIsGreaterThan* operator in addition to the earlier bbox, to restrict the query to active permits:"
   ]
  },
  {
   "cell_type": "code",
   "execution_count": 11,
   "metadata": {},
   "outputs": [
    {
     "name": "stdout",
     "output_type": "stream",
     "text": [
      "[000/001] .\n"
     ]
    },
    {
     "data": {
      "text/html": [
       "<div>\n",
       "<style scoped>\n",
       "    .dataframe tbody tr th:only-of-type {\n",
       "        vertical-align: middle;\n",
       "    }\n",
       "\n",
       "    .dataframe tbody tr th {\n",
       "        vertical-align: top;\n",
       "    }\n",
       "\n",
       "    .dataframe thead th {\n",
       "        text-align: right;\n",
       "    }\n",
       "</style>\n",
       "<table border=\"1\" class=\"dataframe\">\n",
       "  <thead>\n",
       "    <tr style=\"text-align: right;\">\n",
       "      <th></th>\n",
       "      <th>id_vergunning</th>\n",
       "      <th>pkey_installatie</th>\n",
       "      <th>x</th>\n",
       "      <th>y</th>\n",
       "      <th>diepte</th>\n",
       "      <th>exploitant_naam</th>\n",
       "      <th>watnr</th>\n",
       "      <th>vlaremrubriek</th>\n",
       "      <th>vergund_jaardebiet</th>\n",
       "      <th>vergund_dagdebiet</th>\n",
       "      <th>van_datum_termijn</th>\n",
       "      <th>tot_datum_termijn</th>\n",
       "      <th>aquifer_vergunning</th>\n",
       "      <th>inrichtingsklasse</th>\n",
       "      <th>nacebelcode</th>\n",
       "      <th>actie_waakgebied</th>\n",
       "      <th>cbbnr</th>\n",
       "      <th>kbonr</th>\n",
       "    </tr>\n",
       "  </thead>\n",
       "  <tbody>\n",
       "    <tr>\n",
       "      <th>0</th>\n",
       "      <td>70509</td>\n",
       "      <td>https://www.dov.vlaanderen.be/data/installatie...</td>\n",
       "      <td>157118.69</td>\n",
       "      <td>210256.80</td>\n",
       "      <td>7.5</td>\n",
       "      <td>BOUWONDERNEMING VOORUITZICHT</td>\n",
       "      <td>ANT-02373-A</td>\n",
       "      <td>53.2.2.b)2&lt;25</td>\n",
       "      <td>116363.0</td>\n",
       "      <td>NaN</td>\n",
       "      <td>2021-04-30</td>\n",
       "      <td>2026-04-29</td>\n",
       "      <td>A0200: Kempens Aquifersysteem</td>\n",
       "      <td>Klasse 2</td>\n",
       "      <td>41201: Algemene bouw van residentiële gebouwen</td>\n",
       "      <td>geen actie/waakgebieden</td>\n",
       "      <td>NaN</td>\n",
       "      <td>0404678357</td>\n",
       "    </tr>\n",
       "    <tr>\n",
       "      <th>1</th>\n",
       "      <td>67692</td>\n",
       "      <td>https://www.dov.vlaanderen.be/data/installatie...</td>\n",
       "      <td>154171.79</td>\n",
       "      <td>214241.69</td>\n",
       "      <td>NaN</td>\n",
       "      <td>AQUAFIN</td>\n",
       "      <td>ANT-01287-A</td>\n",
       "      <td>53.2.2.b)2&lt;25</td>\n",
       "      <td>200000.0</td>\n",
       "      <td>NaN</td>\n",
       "      <td>2021-03-08</td>\n",
       "      <td>2023-09-08</td>\n",
       "      <td>A0100: Quartaire Aquifersystemen</td>\n",
       "      <td>Klasse 2</td>\n",
       "      <td>37: Afvalwaterafvoer</td>\n",
       "      <td>geen actie/waakgebieden</td>\n",
       "      <td>00418870000022</td>\n",
       "      <td>0440691388</td>\n",
       "    </tr>\n",
       "    <tr>\n",
       "      <th>2</th>\n",
       "      <td>56901</td>\n",
       "      <td>https://www.dov.vlaanderen.be/data/installatie...</td>\n",
       "      <td>160621.00</td>\n",
       "      <td>215168.00</td>\n",
       "      <td>65.0</td>\n",
       "      <td>VAN DE VELDE KATHY</td>\n",
       "      <td>ANT/gw2-6688</td>\n",
       "      <td>53.6.1&lt;25</td>\n",
       "      <td>10800.0</td>\n",
       "      <td>30.0</td>\n",
       "      <td>2013-12-03</td>\n",
       "      <td>2033-12-03</td>\n",
       "      <td>A0254: Zanden van Berchem en Voort buiten de R...</td>\n",
       "      <td>Klasse 2</td>\n",
       "      <td>0000: onbekend</td>\n",
       "      <td>geen actie/waakgebieden</td>\n",
       "      <td>NaN</td>\n",
       "      <td>NaN</td>\n",
       "    </tr>\n",
       "    <tr>\n",
       "      <th>3</th>\n",
       "      <td>56904</td>\n",
       "      <td>https://www.dov.vlaanderen.be/data/installatie...</td>\n",
       "      <td>157300.00</td>\n",
       "      <td>214115.00</td>\n",
       "      <td>45.0</td>\n",
       "      <td>VENNESHOP BVBA</td>\n",
       "      <td>ANT-gw2/6919</td>\n",
       "      <td>53.8.2&lt;17</td>\n",
       "      <td>5000.0</td>\n",
       "      <td>20.0</td>\n",
       "      <td>2014-10-24</td>\n",
       "      <td>2034-10-24</td>\n",
       "      <td>A0254: Zanden van Berchem en Voort buiten de R...</td>\n",
       "      <td>Klasse 2</td>\n",
       "      <td>9601: Wassen en (chemisch) reinigen van textie...</td>\n",
       "      <td>geen actie/waakgebieden</td>\n",
       "      <td>NaN</td>\n",
       "      <td>NaN</td>\n",
       "    </tr>\n",
       "    <tr>\n",
       "      <th>4</th>\n",
       "      <td>56979</td>\n",
       "      <td>https://www.dov.vlaanderen.be/data/installatie...</td>\n",
       "      <td>160161.00</td>\n",
       "      <td>215342.00</td>\n",
       "      <td>50.0</td>\n",
       "      <td>JAGERS RIEN</td>\n",
       "      <td>ANT/gw2-6306</td>\n",
       "      <td>53.6.1&lt;25</td>\n",
       "      <td>5037.0</td>\n",
       "      <td>13.8</td>\n",
       "      <td>2012-11-22</td>\n",
       "      <td>2032-06-26</td>\n",
       "      <td>A0254: Zanden van Berchem en Voort buiten de R...</td>\n",
       "      <td>Klasse 2</td>\n",
       "      <td>0000: onbekend</td>\n",
       "      <td>geen actie/waakgebieden</td>\n",
       "      <td>NaN</td>\n",
       "      <td>NaN</td>\n",
       "    </tr>\n",
       "  </tbody>\n",
       "</table>\n",
       "</div>"
      ],
      "text/plain": [
       "  id_vergunning                                   pkey_installatie          x  \\\n",
       "0         70509  https://www.dov.vlaanderen.be/data/installatie...  157118.69   \n",
       "1         67692  https://www.dov.vlaanderen.be/data/installatie...  154171.79   \n",
       "2         56901  https://www.dov.vlaanderen.be/data/installatie...  160621.00   \n",
       "3         56904  https://www.dov.vlaanderen.be/data/installatie...  157300.00   \n",
       "4         56979  https://www.dov.vlaanderen.be/data/installatie...  160161.00   \n",
       "\n",
       "           y  diepte               exploitant_naam         watnr  \\\n",
       "0  210256.80     7.5  BOUWONDERNEMING VOORUITZICHT   ANT-02373-A   \n",
       "1  214241.69     NaN                       AQUAFIN   ANT-01287-A   \n",
       "2  215168.00    65.0            VAN DE VELDE KATHY  ANT/gw2-6688   \n",
       "3  214115.00    45.0                VENNESHOP BVBA  ANT-gw2/6919   \n",
       "4  215342.00    50.0                   JAGERS RIEN  ANT/gw2-6306   \n",
       "\n",
       "   vlaremrubriek  vergund_jaardebiet  vergund_dagdebiet van_datum_termijn  \\\n",
       "0  53.2.2.b)2<25            116363.0                NaN        2021-04-30   \n",
       "1  53.2.2.b)2<25            200000.0                NaN        2021-03-08   \n",
       "2      53.6.1<25             10800.0               30.0        2013-12-03   \n",
       "3      53.8.2<17              5000.0               20.0        2014-10-24   \n",
       "4      53.6.1<25              5037.0               13.8        2012-11-22   \n",
       "\n",
       "  tot_datum_termijn                                 aquifer_vergunning  \\\n",
       "0        2026-04-29                      A0200: Kempens Aquifersysteem   \n",
       "1        2023-09-08                   A0100: Quartaire Aquifersystemen   \n",
       "2        2033-12-03  A0254: Zanden van Berchem en Voort buiten de R...   \n",
       "3        2034-10-24  A0254: Zanden van Berchem en Voort buiten de R...   \n",
       "4        2032-06-26  A0254: Zanden van Berchem en Voort buiten de R...   \n",
       "\n",
       "  inrichtingsklasse                                        nacebelcode  \\\n",
       "0          Klasse 2     41201: Algemene bouw van residentiële gebouwen   \n",
       "1          Klasse 2                               37: Afvalwaterafvoer   \n",
       "2          Klasse 2                                     0000: onbekend   \n",
       "3          Klasse 2  9601: Wassen en (chemisch) reinigen van textie...   \n",
       "4          Klasse 2                                     0000: onbekend   \n",
       "\n",
       "          actie_waakgebied           cbbnr       kbonr  \n",
       "0  geen actie/waakgebieden             NaN  0404678357  \n",
       "1  geen actie/waakgebieden  00418870000022  0440691388  \n",
       "2  geen actie/waakgebieden             NaN         NaN  \n",
       "3  geen actie/waakgebieden             NaN         NaN  \n",
       "4  geen actie/waakgebieden             NaN         NaN  "
      ]
     },
     "execution_count": 11,
     "metadata": {},
     "output_type": "execute_result"
    }
   ],
   "source": [
    "from owslib.fes2 import PropertyIsGreaterThan\n",
    "\n",
    "query = PropertyIsGreaterThan(propertyname='tot_datum_termijn',\n",
    "                          literal='2020-09-01')\n",
    "df = gwv.search(query=query,\n",
    "                location=Within(Box(153145, 206930, 163150, 216935)))\n",
    "\n",
    "df.head()"
   ]
  },
  {
   "cell_type": "code",
   "execution_count": 12,
   "metadata": {},
   "outputs": [
    {
     "data": {
      "text/plain": [
       "319"
      ]
     },
     "execution_count": 12,
     "metadata": {},
     "output_type": "execute_result"
    }
   ],
   "source": [
    "len(df)"
   ]
  },
  {
   "cell_type": "markdown",
   "metadata": {},
   "source": [
    "Contrary to the earlier query, this result contains considerably less active permits in the considered bbox."
   ]
  },
  {
   "cell_type": "markdown",
   "metadata": {},
   "source": [
    "Mind that among these permits, there could also be permits for dewatering works, or ATES systems. Both of these are mostly not important in the development of a hydrogeological model. For dewatering works, it is currently not possible to see the operational status. These works could have well been finished some time ago, or not. See [this link](https://navigator.emis.vito.be/mijn-navigator?woId=70336) for more information about *vlaremrubriek* codes."
   ]
  },
  {
   "cell_type": "markdown",
   "metadata": {},
   "source": [
    "### Select permits in a municipality and return depth"
   ]
  },
  {
   "cell_type": "markdown",
   "metadata": {},
   "source": [
    "We can limit the columns in the output dataframe by specifying the *return_fields* parameter in our search.\n",
    "\n",
    "In this example we query all the permits in the city of Ghent and return their depth. For this a remote WFS GML query is used as described in [this notebook](https://github.com/DOV-Vlaanderen/pydov/blob/master/docs/notebooks/remote_wfs_gml_query.ipynb):"
   ]
  },
  {
   "cell_type": "code",
   "execution_count": 13,
   "metadata": {},
   "outputs": [
    {
     "name": "stdout",
     "output_type": "stream",
     "text": [
      "[000/001] .\n"
     ]
    },
    {
     "data": {
      "text/plain": [
       "array([[<Axes: title={'center': 'diepte'}>]], dtype=object)"
      ]
     },
     "execution_count": 13,
     "metadata": {},
     "output_type": "execute_result"
    },
    {
     "data": {
      "image/png": "[encoded data removed]",
      "text/plain": [
       "<Figure size 640x480 with 1 Axes>"
      ]
     },
     "metadata": {},
     "output_type": "display_data"
    }
   ],
   "source": [
    "from owslib.etree import etree\n",
    "from owslib.wfs import WebFeatureService\n",
    "from owslib.fes import PropertyIsEqualTo\n",
    "\n",
    "from pydov.util.location import GmlFilter\n",
    "\n",
    "gemeentegrenzen = WebFeatureService(\n",
    "    'https://geo.api.vlaanderen.be/VRBG/wfs',\n",
    "    version='1.1.0')\n",
    "naam_filter = PropertyIsEqualTo(propertyname='NAAM', literal='Gent')\n",
    "gemeente_poly = gemeentegrenzen.getfeature(\n",
    "    typename='VRBG:Refgem',\n",
    "    filter=etree.tostring(naam_filter.toXML()).decode(\"utf8\"),\n",
    "    outputFormat='text/xml; subtype=gml/3.2').read()\n",
    "\n",
    "df = gwv.search(\n",
    "    location=GmlFilter(gemeente_poly, Within), \n",
    "    return_fields=('id_vergunning', 'diepte'))\n",
    "df.hist(column='diepte')"
   ]
  },
  {
   "cell_type": "code",
   "execution_count": 14,
   "metadata": {},
   "outputs": [
    {
     "data": {
      "text/html": [
       "<div>\n",
       "<style scoped>\n",
       "    .dataframe tbody tr th:only-of-type {\n",
       "        vertical-align: middle;\n",
       "    }\n",
       "\n",
       "    .dataframe tbody tr th {\n",
       "        vertical-align: top;\n",
       "    }\n",
       "\n",
       "    .dataframe thead th {\n",
       "        text-align: right;\n",
       "    }\n",
       "</style>\n",
       "<table border=\"1\" class=\"dataframe\">\n",
       "  <thead>\n",
       "    <tr style=\"text-align: right;\">\n",
       "      <th></th>\n",
       "      <th>diepte</th>\n",
       "    </tr>\n",
       "  </thead>\n",
       "  <tbody>\n",
       "    <tr>\n",
       "      <th>count</th>\n",
       "      <td>1828.000000</td>\n",
       "    </tr>\n",
       "    <tr>\n",
       "      <th>mean</th>\n",
       "      <td>17.707998</td>\n",
       "    </tr>\n",
       "    <tr>\n",
       "      <th>std</th>\n",
       "      <td>29.255697</td>\n",
       "    </tr>\n",
       "    <tr>\n",
       "      <th>min</th>\n",
       "      <td>-1.000000</td>\n",
       "    </tr>\n",
       "    <tr>\n",
       "      <th>25%</th>\n",
       "      <td>5.000000</td>\n",
       "    </tr>\n",
       "    <tr>\n",
       "      <th>50%</th>\n",
       "      <td>7.000000</td>\n",
       "    </tr>\n",
       "    <tr>\n",
       "      <th>75%</th>\n",
       "      <td>18.000000</td>\n",
       "    </tr>\n",
       "    <tr>\n",
       "      <th>max</th>\n",
       "      <td>385.000000</td>\n",
       "    </tr>\n",
       "  </tbody>\n",
       "</table>\n",
       "</div>"
      ],
      "text/plain": [
       "            diepte\n",
       "count  1828.000000\n",
       "mean     17.707998\n",
       "std      29.255697\n",
       "min      -1.000000\n",
       "25%       5.000000\n",
       "50%       7.000000\n",
       "75%      18.000000\n",
       "max     385.000000"
      ]
     },
     "execution_count": 14,
     "metadata": {},
     "output_type": "execute_result"
    }
   ],
   "source": [
    "df.describe()"
   ]
  },
  {
   "cell_type": "markdown",
   "metadata": {},
   "source": [
    "### Get permit data, returning fields not available in the standard output dataframe"
   ]
  },
  {
   "cell_type": "markdown",
   "metadata": {},
   "source": [
    "Not all fields are available in the default output frame. However, you can examine the available fields with the *get_fields()* method and pass the desired field name to the *return_fields* parameter."
   ]
  },
  {
   "cell_type": "code",
   "execution_count": 15,
   "metadata": {},
   "outputs": [
    {
     "name": "stdout",
     "output_type": "stream",
     "text": [
      "[000/001] .\n"
     ]
    },
    {
     "data": {
      "text/html": [
       "<div>\n",
       "<style scoped>\n",
       "    .dataframe tbody tr th:only-of-type {\n",
       "        vertical-align: middle;\n",
       "    }\n",
       "\n",
       "    .dataframe tbody tr th {\n",
       "        vertical-align: top;\n",
       "    }\n",
       "\n",
       "    .dataframe thead th {\n",
       "        text-align: right;\n",
       "    }\n",
       "</style>\n",
       "<table border=\"1\" class=\"dataframe\">\n",
       "  <thead>\n",
       "    <tr style=\"text-align: right;\">\n",
       "      <th></th>\n",
       "      <th>id_vergunning</th>\n",
       "      <th>diepte</th>\n",
       "      <th>vergunningverlenende_overheid_VVO</th>\n",
       "    </tr>\n",
       "  </thead>\n",
       "  <tbody>\n",
       "    <tr>\n",
       "      <th>0</th>\n",
       "      <td>69758</td>\n",
       "      <td>2.2</td>\n",
       "      <td>Gemeentebestuur GENT</td>\n",
       "    </tr>\n",
       "    <tr>\n",
       "      <th>1</th>\n",
       "      <td>64011</td>\n",
       "      <td>NaN</td>\n",
       "      <td>Gemeentebestuur GENT</td>\n",
       "    </tr>\n",
       "    <tr>\n",
       "      <th>2</th>\n",
       "      <td>63640</td>\n",
       "      <td>3.0</td>\n",
       "      <td>Vlaams Gewest</td>\n",
       "    </tr>\n",
       "    <tr>\n",
       "      <th>3</th>\n",
       "      <td>63638</td>\n",
       "      <td>NaN</td>\n",
       "      <td>Vlaams Gewest</td>\n",
       "    </tr>\n",
       "    <tr>\n",
       "      <th>4</th>\n",
       "      <td>63938</td>\n",
       "      <td>7.0</td>\n",
       "      <td>Gemeentebestuur GENT</td>\n",
       "    </tr>\n",
       "  </tbody>\n",
       "</table>\n",
       "</div>"
      ],
      "text/plain": [
       "  id_vergunning  diepte vergunningverlenende_overheid_VVO\n",
       "0         69758     2.2              Gemeentebestuur GENT\n",
       "1         64011     NaN              Gemeentebestuur GENT\n",
       "2         63640     3.0                     Vlaams Gewest\n",
       "3         63638     NaN                     Vlaams Gewest\n",
       "4         63938     7.0              Gemeentebestuur GENT"
      ]
     },
     "execution_count": 15,
     "metadata": {},
     "output_type": "execute_result"
    }
   ],
   "source": [
    "from owslib.fes2 import PropertyIsGreaterThanOrEqualTo\n",
    "\n",
    "query = PropertyIsGreaterThanOrEqualTo(\n",
    "            propertyname='diepte',\n",
    "            literal='200')\n",
    "\n",
    "df = gwv.search(\n",
    "    location=GmlFilter(gemeente_poly, Within),\n",
    "    return_fields=('id_vergunning', 'diepte', 'vergunningverlenende_overheid_VVO'))\n",
    "\n",
    "df.head()"
   ]
  },
  {
   "cell_type": "markdown",
   "metadata": {},
   "source": [
    "### Estimate groundwater quality data for a certain permit"
   ]
  },
  {
   "cell_type": "markdown",
   "metadata": {},
   "source": [
    "Given groundwater scarcity in Belgium, the reuse of dewatering drainage is increasingly being considerd. In some cases, this water contains a high iron load which is not desirable for a lot of applications.  \n",
    "Determine the groundwater quality for a certain permit, e.g. for the permit at Diestsestraat 209 3000 Leuven."
   ]
  },
  {
   "cell_type": "code",
   "execution_count": 16,
   "metadata": {},
   "outputs": [
    {
     "name": "stdout",
     "output_type": "stream",
     "text": [
      "[000/001] .\n"
     ]
    },
    {
     "data": {
      "text/html": [
       "<div>\n",
       "<style scoped>\n",
       "    .dataframe tbody tr th:only-of-type {\n",
       "        vertical-align: middle;\n",
       "    }\n",
       "\n",
       "    .dataframe tbody tr th {\n",
       "        vertical-align: top;\n",
       "    }\n",
       "\n",
       "    .dataframe thead th {\n",
       "        text-align: right;\n",
       "    }\n",
       "</style>\n",
       "<table border=\"1\" class=\"dataframe\">\n",
       "  <thead>\n",
       "    <tr style=\"text-align: right;\">\n",
       "      <th></th>\n",
       "      <th>id_vergunning</th>\n",
       "      <th>pkey_installatie</th>\n",
       "      <th>x</th>\n",
       "      <th>y</th>\n",
       "      <th>diepte</th>\n",
       "      <th>exploitant_naam</th>\n",
       "      <th>watnr</th>\n",
       "      <th>vlaremrubriek</th>\n",
       "      <th>vergund_jaardebiet</th>\n",
       "      <th>vergund_dagdebiet</th>\n",
       "      <th>van_datum_termijn</th>\n",
       "      <th>tot_datum_termijn</th>\n",
       "      <th>aquifer_vergunning</th>\n",
       "      <th>inrichtingsklasse</th>\n",
       "      <th>nacebelcode</th>\n",
       "      <th>actie_waakgebied</th>\n",
       "      <th>cbbnr</th>\n",
       "      <th>kbonr</th>\n",
       "    </tr>\n",
       "  </thead>\n",
       "  <tbody>\n",
       "    <tr>\n",
       "      <th>0</th>\n",
       "      <td>64279</td>\n",
       "      <td>https://www.dov.vlaanderen.be/data/installatie...</td>\n",
       "      <td>174097.89</td>\n",
       "      <td>174672.54</td>\n",
       "      <td>11.0</td>\n",
       "      <td>Rialto Holding</td>\n",
       "      <td>VLB-00133-A</td>\n",
       "      <td>53.2.2.a)&lt;25</td>\n",
       "      <td>22450.0</td>\n",
       "      <td>445.0</td>\n",
       "      <td>2019-05-29</td>\n",
       "      <td>2023-03-16</td>\n",
       "      <td>A0620: Zand van Brussel</td>\n",
       "      <td>Klasse 3</td>\n",
       "      <td>64200: Holdings</td>\n",
       "      <td>NaN</td>\n",
       "      <td>NaN</td>\n",
       "      <td>0675544028</td>\n",
       "    </tr>\n",
       "  </tbody>\n",
       "</table>\n",
       "</div>"
      ],
      "text/plain": [
       "  id_vergunning                                   pkey_installatie          x  \\\n",
       "0         64279  https://www.dov.vlaanderen.be/data/installatie...  174097.89   \n",
       "\n",
       "           y  diepte exploitant_naam        watnr vlaremrubriek  \\\n",
       "0  174672.54    11.0  Rialto Holding  VLB-00133-A  53.2.2.a)<25   \n",
       "\n",
       "   vergund_jaardebiet  vergund_dagdebiet van_datum_termijn tot_datum_termijn  \\\n",
       "0             22450.0              445.0        2019-05-29        2023-03-16   \n",
       "\n",
       "        aquifer_vergunning inrichtingsklasse      nacebelcode  \\\n",
       "0  A0620: Zand van Brussel          Klasse 3  64200: Holdings   \n",
       "\n",
       "   actie_waakgebied  cbbnr       kbonr  \n",
       "0               NaN    NaN  0675544028  "
      ]
     },
     "execution_count": 16,
     "metadata": {},
     "output_type": "execute_result"
    }
   ],
   "source": [
    "from pydov.util.location import Within, Box\n",
    "from owslib.fes2 import PropertyIsEqualTo\n",
    "import pandas as pd\n",
    "\n",
    "query = PropertyIsEqualTo(propertyname='inrichtingsnummer',\n",
    "                          literal='20181004-0018')\n",
    "df_permit = gwv.search(query=query)\n",
    "df_permit.head()"
   ]
  },
  {
   "cell_type": "markdown",
   "metadata": {},
   "source": [
    "The water is extracted from the hydrogeological layer 'Zand van Brussel' which is designated with the according HCOV code '0620'. We can now look in the data from the groundwater quality monitoring wells which wells are situated nearby for that specific hydrogeological layer. For this, we first have to look at the dataset comprising the head measurements, that also contains the HCOV code of the aquifer. Subsequently, we can fetch the water quality monitoring data of the selected well screens.  \n",
    "More information on the HCOV code can be found through this [link](https://www.dov.vlaanderen.be/index.php/page/hcov-kartering). "
   ]
  },
  {
   "cell_type": "code",
   "execution_count": 17,
   "metadata": {},
   "outputs": [
    {
     "name": "stdout",
     "output_type": "stream",
     "text": [
      "gw_id\n",
      "pkey_grondwaterlocatie\n",
      "filternummer\n",
      "pkey_filter\n",
      "namen\n",
      "filtergrafiek\n",
      "putgrafiek\n",
      "Aquifer_HCOVv1\n",
      "Aquifer_HCOVv2\n",
      "diepte_onderkant_filter\n",
      "lengte_filter\n",
      "putsoort\n",
      "filtertype\n",
      "meetnet\n",
      "x\n",
      "y\n",
      "start_grondwaterlocatie_mtaw\n",
      "gemeente\n",
      "grondwaterlichaam\n",
      "afgesloten_volgens_gwdecreet\n",
      "datum_in_filter\n",
      "datum_uit_filter\n",
      "stijghoogterapport\n",
      "analyserapport\n",
      "boornummer\n",
      "boringfiche\n",
      "peilmetingen_van\n",
      "peilmetingen_tot\n",
      "kwaliteitsmetingen_van\n",
      "kwaliteitsmetingen_tot\n",
      "recentste_exploitant\n",
      "beheerder\n",
      "aantal_dagen_sinds_laatste_meting\n",
      "eerste_invoer\n",
      "recentste_installatie\n",
      "geom\n",
      "meetnet_code\n",
      "aquifer_code\n",
      "grondwaterlichaam_code\n",
      "regime\n",
      "datum\n",
      "tijdstip\n",
      "peil_mtaw\n",
      "betrouwbaarheid\n",
      "methode\n",
      "filterstatus\n",
      "filtertoestand\n",
      "mv_mtaw\n"
     ]
    }
   ],
   "source": [
    "from pydov.search.grondwaterfilter import GrondwaterFilterSearch\n",
    "from pydov.search.grondwatermonster import GrondwaterMonsterSearch\n",
    "from pydov.util.query import Join\n",
    "\n",
    "gfs = GrondwaterFilterSearch()\n",
    "fields = gfs.get_fields()\n",
    "\n",
    "# print available fields\n",
    "for f in fields.values():\n",
    "    print(f['name'])\n"
   ]
  },
  {
   "cell_type": "code",
   "execution_count": 18,
   "metadata": {},
   "outputs": [
    {
     "name": "stdout",
     "output_type": "stream",
     "text": [
      "[000/001] .\n"
     ]
    },
    {
     "data": {
      "text/html": [
       "<div>\n",
       "<style scoped>\n",
       "    .dataframe tbody tr th:only-of-type {\n",
       "        vertical-align: middle;\n",
       "    }\n",
       "\n",
       "    .dataframe tbody tr th {\n",
       "        vertical-align: top;\n",
       "    }\n",
       "\n",
       "    .dataframe thead th {\n",
       "        text-align: right;\n",
       "    }\n",
       "</style>\n",
       "<table border=\"1\" class=\"dataframe\">\n",
       "  <thead>\n",
       "    <tr style=\"text-align: right;\">\n",
       "      <th></th>\n",
       "      <th>pkey_filter</th>\n",
       "      <th>x</th>\n",
       "      <th>y</th>\n",
       "      <th>Aquifer_HCOVv2</th>\n",
       "      <th>diepte_onderkant_filter</th>\n",
       "    </tr>\n",
       "  </thead>\n",
       "  <tbody>\n",
       "    <tr>\n",
       "      <th>0</th>\n",
       "      <td>https://www.dov.vlaanderen.be/data/filter/2007...</td>\n",
       "      <td>171437.14</td>\n",
       "      <td>174199.89</td>\n",
       "      <td>A0620 - Zand van Brussel</td>\n",
       "      <td>52.00</td>\n",
       "    </tr>\n",
       "    <tr>\n",
       "      <th>11</th>\n",
       "      <td>https://www.dov.vlaanderen.be/data/filter/2006...</td>\n",
       "      <td>171800.00</td>\n",
       "      <td>179870.00</td>\n",
       "      <td>A0620 - Zand van Brussel</td>\n",
       "      <td>NaN</td>\n",
       "    </tr>\n",
       "    <tr>\n",
       "      <th>14</th>\n",
       "      <td>https://www.dov.vlaanderen.be/data/filter/1972...</td>\n",
       "      <td>176075.00</td>\n",
       "      <td>176046.00</td>\n",
       "      <td>A0620 - Zand van Brussel</td>\n",
       "      <td>33.24</td>\n",
       "    </tr>\n",
       "    <tr>\n",
       "      <th>20</th>\n",
       "      <td>https://www.dov.vlaanderen.be/data/filter/2024...</td>\n",
       "      <td>176420.07</td>\n",
       "      <td>176010.01</td>\n",
       "      <td>A0620 - Zand van Brussel</td>\n",
       "      <td>37.10</td>\n",
       "    </tr>\n",
       "    <tr>\n",
       "      <th>22</th>\n",
       "      <td>https://www.dov.vlaanderen.be/data/filter/1992...</td>\n",
       "      <td>174176.90</td>\n",
       "      <td>175530.46</td>\n",
       "      <td>A0620 - Zand van Brussel</td>\n",
       "      <td>24.00</td>\n",
       "    </tr>\n",
       "  </tbody>\n",
       "</table>\n",
       "</div>"
      ],
      "text/plain": [
       "                                          pkey_filter          x          y  \\\n",
       "0   https://www.dov.vlaanderen.be/data/filter/2007...  171437.14  174199.89   \n",
       "11  https://www.dov.vlaanderen.be/data/filter/2006...  171800.00  179870.00   \n",
       "14  https://www.dov.vlaanderen.be/data/filter/1972...  176075.00  176046.00   \n",
       "20  https://www.dov.vlaanderen.be/data/filter/2024...  176420.07  176010.01   \n",
       "22  https://www.dov.vlaanderen.be/data/filter/1992...  174176.90  175530.46   \n",
       "\n",
       "              Aquifer_HCOVv2  diepte_onderkant_filter  \n",
       "0   A0620 - Zand van Brussel                    52.00  \n",
       "11  A0620 - Zand van Brussel                      NaN  \n",
       "14  A0620 - Zand van Brussel                    33.24  \n",
       "20  A0620 - Zand van Brussel                    37.10  \n",
       "22  A0620 - Zand van Brussel                    24.00  "
      ]
     },
     "execution_count": 18,
     "metadata": {},
     "output_type": "execute_result"
    }
   ],
   "source": [
    "from pydov.search.grondwaterfilter import GrondwaterFilterSearch\n",
    "from pydov.search.grondwatermonster import GrondwaterMonsterSearch\n",
    "from pydov.util.query import Join\n",
    "\n",
    "gfs = GrondwaterFilterSearch()\n",
    "gwmonster = GrondwaterMonsterSearch()\n",
    "\n",
    "df_gfs = gfs.search(location=Within(Box(170000, 174000, 190000, 180000)),\n",
    "                    return_fields=['pkey_filter', 'x', 'y', 'Aquifer_HCOVv2', 'diepte_onderkant_filter'])\n",
    "\n",
    "filters = df_gfs[(df_gfs['Aquifer_HCOVv2'].str.contains('0620'))]\n",
    "filters.head()"
   ]
  },
  {
   "cell_type": "markdown",
   "metadata": {},
   "source": [
    "Now select the according water quality data"
   ]
  },
  {
   "cell_type": "code",
   "execution_count": 19,
   "metadata": {
    "scrolled": true
   },
   "outputs": [
    {
     "name": "stdout",
     "output_type": "stream",
     "text": [
      "[000/001] .\n",
      "[000/266] cccccccccccccccccccccccccccccccccccccccccccccccccc\n",
      "[050/266] cccccccccccccccccccccccccccccccccccccccccccccccccc\n",
      "[100/266] cccccccccccccccccccccccccccccccccccccccccccccccccc\n",
      "[150/266] cccccccccccccccccccccccccccccccccccccccccccccccccc\n",
      "[200/266] cccccccccccccccccccccccccccccccccccccccccccccccccc\n",
      "[250/266] ccccccccccccccc.\n"
     ]
    },
    {
     "data": {
      "text/plain": [
       "array([b'EC', b'Ca', b'O2', b'CO3', b'T', b'Na', b'Eh\\xc2\\xb0', b'NH4',\n",
       "       b'Fe', b'As', b'Hg', b'Fe2+', b'NO3', b'F', b'Terbu', b'Ni',\n",
       "       b'TOC', b'Cu', b'Chlortol', b'Cl', b'pH', b'DMS', b'HCO3', b'Mg',\n",
       "       b'Bentaz', b'Cr', b'chazr', b'Atraz', b'Co', b'Al', b'Zn', b'VIS',\n",
       "       b'SO4', b'Isoprot', b'PO4', b'K', b'Chloridaz', b'NO2', b'Mn',\n",
       "       b'BAM', b'atr_des', b'AMPA', b'Simaz', b'metola-S', b'Cd', b'Pb',\n",
       "       b'Diur', b'pH(Lab.)', b'EC(Lab.)', b'CN', b'Glyfos', b'Linur',\n",
       "       b'Ala', b'Per', b'Fenoprop', b'Metox', b'Propaz', b'Fluroxypyr',\n",
       "       b'24db', b'Tri', b'Cyana', b'Metobro', b'PropaCl', b'Metaza',\n",
       "       b'Sebu', b'Atr_desisoprop', b'SomKAT', b'245t', b'Terbu_des',\n",
       "       b'Methabenz', b'SomAN', b'brom', b'mcpb', b'Linur_mono', b'Dicam',\n",
       "       b'Clproph', b'Terbutryn', b'Carbet', b'Prometr', b'5ClFenol',\n",
       "       b'Propan', b'24d', b'Mecopr', b'Hexaz', b'Metami', b'mcpa',\n",
       "       b'Ethofum', b'B', b'Carben', b'Dichlorpr', b'%AfwijkBalans',\n",
       "       b'trichlorpyr', b'Mesotri', b'fluopicolide', b'meta9', b'Dchdzn',\n",
       "       b'meta4', b'meta11', b'Imida', b'Triflox', b'Metola-S-ESA',\n",
       "       b'flufe', b'meta8', b'TDS', b'Br', b'Temp.',\n",
       "       b'medesfenylchloridaz'], dtype=object)"
      ]
     },
     "execution_count": 19,
     "metadata": {},
     "output_type": "execute_result"
    }
   ],
   "source": [
    "df_gwq = gwmonster.search(query=Join(filters, 'pkey_filter'),\n",
    "                         )\n",
    "df_gwq['parameter'] = df_gwq['parameter'].str.encode('utf-8')\n",
    "df_gwq['parameter'].unique()"
   ]
  },
  {
   "cell_type": "code",
   "execution_count": 20,
   "metadata": {},
   "outputs": [
    {
     "data": {
      "text/plain": [
       "               parameter\n",
       "waarde  count  b'Fe'        217.000000\n",
       "               b'Fe2+'       75.000000\n",
       "        mean   b'Fe'          1.426221\n",
       "               b'Fe2+'        0.701600\n",
       "        std    b'Fe'          1.932993\n",
       "               b'Fe2+'        1.268584\n",
       "        min    b'Fe'          0.000000\n",
       "               b'Fe2+'        0.000000\n",
       "        25%    b'Fe'          0.020000\n",
       "               b'Fe2+'        0.020000\n",
       "        50%    b'Fe'          0.190000\n",
       "               b'Fe2+'        0.070000\n",
       "        75%    b'Fe'          3.260000\n",
       "               b'Fe2+'        0.650000\n",
       "        max    b'Fe'         12.300000\n",
       "               b'Fe2+'        4.400000\n",
       "dtype: float64"
      ]
     },
     "execution_count": 20,
     "metadata": {},
     "output_type": "execute_result"
    }
   ],
   "source": [
    "pars_select = [b'Fe', b'Fe2+', b'Fe(Tot.)', b'Fe3+']\n",
    "df_selected = df_gwq.loc[df_gwq.parameter.isin(pars_select), :]\n",
    "df_stat = df_selected.loc[:, ['parameter', 'waarde']].groupby('parameter').describe().unstack(1)\n",
    "df_stat"
   ]
  },
  {
   "cell_type": "markdown",
   "metadata": {},
   "source": [
    "Mind the units of the values. "
   ]
  },
  {
   "cell_type": "code",
   "execution_count": 21,
   "metadata": {},
   "outputs": [
    {
     "data": {
      "text/plain": [
       "array(['mg/l'], dtype=object)"
      ]
     },
     "execution_count": 21,
     "metadata": {},
     "output_type": "execute_result"
    }
   ],
   "source": [
    "df_selected.eenheid.unique()"
   ]
  },
  {
   "cell_type": "markdown",
   "metadata": {},
   "source": [
    "As such, the iron content of the considered hydrogeological layer is on average 1.5 mg/L with a stdev of 1.97 mg/L. This is most likely above the standars for use as irrigation water (see this [link](https://lv.vlaanderen.be/nl/voorlichting-info/publicaties/praktijkgidsen/water/duurzaam-watergebruik-de-openluchtgroenteteelt-3#chemische)). Mind that further processing with a limited selection of the two nearest monitoring screens is possible. And even further, an indication of the nearest OVAM sites can be obtaind from the WFS with (in Dutch) 'Dossierinfo' as available from this [link](https://services.ovam.be/geoserver2/wfs?REQUEST=GetCapabilities&SERVICE=WFS)."
   ]
  }
 ],
 "metadata": {
  "kernelspec": {
   "display_name": ".venv",
   "language": "python",
   "name": "python3"
  },
  "language_info": {
   "codemirror_mode": {
    "name": "ipython",
    "version": 3
   },
   "file_extension": ".py",
   "mimetype": "text/x-python",
   "name": "python",
   "nbconvert_exporter": "python",
   "pygments_lexer": "ipython3",
   "version": "3.10.12"
  }
 },
 "nbformat": 4,
 "nbformat_minor": 4
}
