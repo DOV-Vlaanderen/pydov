{
 "cells": [
  {
   "cell_type": "markdown",
   "metadata": {},
   "source": [
    "# Example of DOV search methods for interpretations (informele stratigrafie)"
   ]
  },
  {
   "cell_type": "markdown",
   "metadata": {},
   "source": [
    "[![Binder](https://mybinder.org/badge_logo.svg)](https://mybinder.org/v2/gh/DOV-Vlaanderen/pydov/master?filepath=docs%2Fnotebooks%2Fsearch_informele_stratigrafie.ipynb)"
   ]
  },
  {
   "cell_type": "markdown",
   "metadata": {},
   "source": [
    "## Use cases explained below\n",
    "* Get 'informele stratigrafie' in a bounding box\n",
    "* Get 'informele stratigrafie' with specific properties\n",
    "* Get 'informele stratigrafie' in a bounding box based on specific properties\n",
    "* Select 'informele stratigrafie' in a municipality and return date\n",
    "* Get 'informele stratigrafie' based on fields not available in the standard output dataframe\n",
    "* Get 'informele stratigrafie' data, returning fields not available in the standard output dataframe"
   ]
  },
  {
   "cell_type": "code",
   "execution_count": 1,
   "metadata": {},
   "outputs": [],
   "source": [
    "%matplotlib inline\n",
    "import inspect, sys"
   ]
  },
  {
   "cell_type": "code",
   "execution_count": 2,
   "metadata": {},
   "outputs": [],
   "source": [
    "# check pydov path\n",
    "import pydov"
   ]
  },
  {
   "cell_type": "markdown",
   "metadata": {},
   "source": [
    "## Get information about the datatype 'Informele stratigrafie'"
   ]
  },
  {
   "cell_type": "code",
   "execution_count": 3,
   "metadata": {},
   "outputs": [],
   "source": [
    "from pydov.search.interpretaties import InformeleStratigrafieSearch\n",
    "itp = InformeleStratigrafieSearch()"
   ]
  },
  {
   "cell_type": "markdown",
   "metadata": {},
   "source": [
    "A description is provided for the 'Informele stratigrafie' datatype:"
   ]
  },
  {
   "cell_type": "code",
   "execution_count": 4,
   "metadata": {},
   "outputs": [
    {
     "output_type": "execute_result",
     "data": {
      "text/plain": [
       "'Een informele stratigrafie van een boring is, net als een formele stratigrafie, een lithostratigrafische interpretatie van een (gecodeerde) lithologische beschrijving per diepte-interval. Het verschil met de formele stratigrafie is dat de informele stratigrafie niet moet voldoen aan een algemeen aanvaarde standaard. De informele stratigrafie is een plaats in DOV om oude interpretaties of interpretaties die niet voldoen aan de huidige stratigrafische indeling toch weer te geven. De informele stratigrafie kan ook een gedetailleerde beschrijving bevatten van een lithostratigrafische eenheid.'"
      ]
     },
     "metadata": {},
     "execution_count": 4
    }
   ],
   "source": [
    "itp.get_description()"
   ]
  },
  {
   "cell_type": "markdown",
   "metadata": {},
   "source": [
    "The different fields that are available for objects of the 'Informele stratigrafie' datatype can be requested with the get_fields() method:"
   ]
  },
  {
   "cell_type": "code",
   "execution_count": 5,
   "metadata": {},
   "outputs": [
    {
     "output_type": "stream",
     "name": "stdout",
     "text": [
      "pkey_interpretatie\nType_proef\nProefnummer\nProeffiche\nx\ny\nstart_interpretatie_mtaw\ndiepte_tot_m\ngemeente\nAuteurs\nDatum\nOpdrachten\nbetrouwbaarheid_interpretatie\nGeldig_van\nGeldig_tot\ndiepte_laag_van\ndiepte_laag_tot\nbeschrijving\npkey_boring\npkey_sondering\n"
     ]
    }
   ],
   "source": [
    "fields = itp.get_fields()\n",
    "\n",
    "# print available fields\n",
    "for f in fields.values():\n",
    "    print(f['name'])"
   ]
  },
  {
   "cell_type": "markdown",
   "metadata": {},
   "source": [
    "You can get more information of a field by requesting it from the fields dictionary:\n",
    "* *name*: name of the field\n",
    "* *definition*: definition of this field\n",
    "* *cost*: currently this is either 1 or 10, depending on the datasource of the field. It is an indication of the expected time it will take to retrieve this field in the output dataframe.\n",
    "* *notnull*: whether the field is mandatory or not\n",
    "* *type*: datatype of the values of this field"
   ]
  },
  {
   "cell_type": "code",
   "execution_count": 6,
   "metadata": {},
   "outputs": [
    {
     "output_type": "execute_result",
     "data": {
      "text/plain": [
       "{'name': 'Datum',\n",
       " 'definition': 'De datum waarop de informele stratigrafie werd beschreven.',\n",
       " 'type': 'date',\n",
       " 'notnull': False,\n",
       " 'query': True,\n",
       " 'cost': 1}"
      ]
     },
     "metadata": {},
     "execution_count": 6
    }
   ],
   "source": [
    "fields['Datum']"
   ]
  },
  {
   "cell_type": "markdown",
   "metadata": {},
   "source": [
    "## Example use cases"
   ]
  },
  {
   "cell_type": "markdown",
   "metadata": {},
   "source": [
    "### Get 'informele stratigrafie' in a bounding box"
   ]
  },
  {
   "cell_type": "markdown",
   "metadata": {},
   "source": [
    "Get data for all the 'informele stratigrafie' interpretations that are geographically located within the bounds of the specified box.\n",
    "\n",
    "The coordinates are in the Belgian Lambert72 (EPSG:31370) coordinate system and are given in the order of lower left x, lower left y, upper right x, upper right y."
   ]
  },
  {
   "cell_type": "code",
   "execution_count": 7,
   "metadata": {},
   "outputs": [
    {
     "output_type": "stream",
     "name": "stdout",
     "text": [
      "[000/001] .\n"
     ]
    },
    {
     "output_type": "execute_result",
     "data": {
      "text/plain": [
       "                                  pkey_interpretatie  pkey_boring  \\\n",
       "0  https://www.dov.vlaanderen.be/data/interpretat...          NaN   \n",
       "1  https://www.dov.vlaanderen.be/data/interpretat...          NaN   \n",
       "\n",
       "   pkey_sondering betrouwbaarheid_interpretatie         x         y  \\\n",
       "0             NaN                          goed  153147.0  206931.0   \n",
       "1             NaN                          goed  153147.0  206931.0   \n",
       "\n",
       "   start_interpretatie_mtaw  diepte_laag_van  diepte_laag_tot  \\\n",
       "0                     14.12              0.0             3.00   \n",
       "1                     14.12              3.0            14.05   \n",
       "\n",
       "                      beschrijving  \n",
       "0                         Quartair  \n",
       "1  Tertiair - Mioceen: Antwerpiaan  "
      ],
      "text/html": "<div>\n<style scoped>\n    .dataframe tbody tr th:only-of-type {\n        vertical-align: middle;\n    }\n\n    .dataframe tbody tr th {\n        vertical-align: top;\n    }\n\n    .dataframe thead th {\n        text-align: right;\n    }\n</style>\n<table border=\"1\" class=\"dataframe\">\n  <thead>\n    <tr style=\"text-align: right;\">\n      <th></th>\n      <th>pkey_interpretatie</th>\n      <th>pkey_boring</th>\n      <th>pkey_sondering</th>\n      <th>betrouwbaarheid_interpretatie</th>\n      <th>x</th>\n      <th>y</th>\n      <th>start_interpretatie_mtaw</th>\n      <th>diepte_laag_van</th>\n      <th>diepte_laag_tot</th>\n      <th>beschrijving</th>\n    </tr>\n  </thead>\n  <tbody>\n    <tr>\n      <th>0</th>\n      <td>https://www.dov.vlaanderen.be/data/interpretat...</td>\n      <td>NaN</td>\n      <td>NaN</td>\n      <td>goed</td>\n      <td>153147.0</td>\n      <td>206931.0</td>\n      <td>14.12</td>\n      <td>0.0</td>\n      <td>3.00</td>\n      <td>Quartair</td>\n    </tr>\n    <tr>\n      <th>1</th>\n      <td>https://www.dov.vlaanderen.be/data/interpretat...</td>\n      <td>NaN</td>\n      <td>NaN</td>\n      <td>goed</td>\n      <td>153147.0</td>\n      <td>206931.0</td>\n      <td>14.12</td>\n      <td>3.0</td>\n      <td>14.05</td>\n      <td>Tertiair - Mioceen: Antwerpiaan</td>\n    </tr>\n  </tbody>\n</table>\n</div>"
     },
     "metadata": {},
     "execution_count": 7
    }
   ],
   "source": [
    "from pydov.util.location import Within, Box\n",
    "\n",
    "df = itp.search(location=Within(Box(153145, 206930, 153150, 206935)))\n",
    "df.head()"
   ]
  },
  {
   "cell_type": "markdown",
   "metadata": {},
   "source": [
    "The dataframe contains one 'informele stratigrafie' interpretation where three layers ('laag') were identified. The available data are flattened to represent unique attributes per row of the dataframe.\n",
    "\n",
    "Using the *pkey_interpretatie* field one can request the details of this interpretation in a webbrowser:"
   ]
  },
  {
   "cell_type": "code",
   "execution_count": 8,
   "metadata": {},
   "outputs": [
    {
     "output_type": "stream",
     "name": "stdout",
     "text": [
      "https://www.dov.vlaanderen.be/data/interpretatie/1975-213484\n"
     ]
    }
   ],
   "source": [
    "for pkey_interpretatie in set(df.pkey_interpretatie):\n",
    "    print(pkey_interpretatie)"
   ]
  },
  {
   "cell_type": "markdown",
   "metadata": {},
   "source": [
    "### Get 'informele stratigrafie' with specific properties"
   ]
  },
  {
   "cell_type": "markdown",
   "metadata": {},
   "source": [
    "Next to querying interpretations based on their geographic location within a bounding box, we can also search for interpretations matching a specific set of properties. For this we can build a query using a combination of the 'InformeleStratigrafie' fields and operators provided by the WFS protocol.\n",
    "\n",
    "A list of possible operators can be found below:"
   ]
  },
  {
   "cell_type": "code",
   "execution_count": 9,
   "metadata": {},
   "outputs": [
    {
     "output_type": "execute_result",
     "data": {
      "text/plain": [
       "['PropertyIsBetween',\n",
       " 'PropertyIsEqualTo',\n",
       " 'PropertyIsGreaterThan',\n",
       " 'PropertyIsGreaterThanOrEqualTo',\n",
       " 'PropertyIsLessThan',\n",
       " 'PropertyIsLessThanOrEqualTo',\n",
       " 'PropertyIsLike',\n",
       " 'PropertyIsNotEqualTo',\n",
       " 'PropertyIsNull',\n",
       " 'SortProperty']"
      ]
     },
     "metadata": {},
     "execution_count": 9
    }
   ],
   "source": [
    "[i for i,j in inspect.getmembers(sys.modules['owslib.fes'], inspect.isclass) if 'Property' in i]"
   ]
  },
  {
   "cell_type": "markdown",
   "metadata": {},
   "source": [
    "In this example we build a query using the *PropertyIsEqualTo* operator to find all interpretations that are within the community (gemeente) of 'Herstappe':"
   ]
  },
  {
   "cell_type": "code",
   "execution_count": 10,
   "metadata": {},
   "outputs": [
    {
     "output_type": "stream",
     "name": "stdout",
     "text": [
      "[000/003] ...\n"
     ]
    },
    {
     "output_type": "execute_result",
     "data": {
      "text/plain": [
       "                                  pkey_interpretatie  pkey_boring  \\\n",
       "0  https://www.dov.vlaanderen.be/data/interpretat...          NaN   \n",
       "1  https://www.dov.vlaanderen.be/data/interpretat...          NaN   \n",
       "2  https://www.dov.vlaanderen.be/data/interpretat...          NaN   \n",
       "3  https://www.dov.vlaanderen.be/data/interpretat...          NaN   \n",
       "\n",
       "   pkey_sondering betrouwbaarheid_interpretatie         x         y  \\\n",
       "0             NaN                          goed  224820.0  157794.0   \n",
       "1             NaN                          goed  224687.4  158191.0   \n",
       "2             NaN                          goed  224687.4  158191.0   \n",
       "3             NaN                          goed  224820.0  157794.0   \n",
       "\n",
       "   start_interpretatie_mtaw  diepte_laag_van  diepte_laag_tot  \\\n",
       "0                     132.0             0.00            50.00   \n",
       "1                     124.0             0.00             3.75   \n",
       "2                     124.0             3.75             6.00   \n",
       "3                     132.0             5.00            50.00   \n",
       "\n",
       "          beschrijving  \n",
       "0                    ?  \n",
       "1                   q2  \n",
       "2                  q1c  \n",
       "3  Formatie van Gulpen  "
      ],
      "text/html": "<div>\n<style scoped>\n    .dataframe tbody tr th:only-of-type {\n        vertical-align: middle;\n    }\n\n    .dataframe tbody tr th {\n        vertical-align: top;\n    }\n\n    .dataframe thead th {\n        text-align: right;\n    }\n</style>\n<table border=\"1\" class=\"dataframe\">\n  <thead>\n    <tr style=\"text-align: right;\">\n      <th></th>\n      <th>pkey_interpretatie</th>\n      <th>pkey_boring</th>\n      <th>pkey_sondering</th>\n      <th>betrouwbaarheid_interpretatie</th>\n      <th>x</th>\n      <th>y</th>\n      <th>start_interpretatie_mtaw</th>\n      <th>diepte_laag_van</th>\n      <th>diepte_laag_tot</th>\n      <th>beschrijving</th>\n    </tr>\n  </thead>\n  <tbody>\n    <tr>\n      <th>0</th>\n      <td>https://www.dov.vlaanderen.be/data/interpretat...</td>\n      <td>NaN</td>\n      <td>NaN</td>\n      <td>goed</td>\n      <td>224820.0</td>\n      <td>157794.0</td>\n      <td>132.0</td>\n      <td>0.00</td>\n      <td>50.00</td>\n      <td>?</td>\n    </tr>\n    <tr>\n      <th>1</th>\n      <td>https://www.dov.vlaanderen.be/data/interpretat...</td>\n      <td>NaN</td>\n      <td>NaN</td>\n      <td>goed</td>\n      <td>224687.4</td>\n      <td>158191.0</td>\n      <td>124.0</td>\n      <td>0.00</td>\n      <td>3.75</td>\n      <td>q2</td>\n    </tr>\n    <tr>\n      <th>2</th>\n      <td>https://www.dov.vlaanderen.be/data/interpretat...</td>\n      <td>NaN</td>\n      <td>NaN</td>\n      <td>goed</td>\n      <td>224687.4</td>\n      <td>158191.0</td>\n      <td>124.0</td>\n      <td>3.75</td>\n      <td>6.00</td>\n      <td>q1c</td>\n    </tr>\n    <tr>\n      <th>3</th>\n      <td>https://www.dov.vlaanderen.be/data/interpretat...</td>\n      <td>NaN</td>\n      <td>NaN</td>\n      <td>goed</td>\n      <td>224820.0</td>\n      <td>157794.0</td>\n      <td>132.0</td>\n      <td>5.00</td>\n      <td>50.00</td>\n      <td>Formatie van Gulpen</td>\n    </tr>\n  </tbody>\n</table>\n</div>"
     },
     "metadata": {},
     "execution_count": 10
    }
   ],
   "source": [
    "from owslib.fes import PropertyIsEqualTo\n",
    "\n",
    "query = PropertyIsEqualTo(propertyname='gemeente',\n",
    "                          literal='Herstappe')\n",
    "df = itp.search(query=query)\n",
    "\n",
    "df.head()"
   ]
  },
  {
   "cell_type": "markdown",
   "metadata": {},
   "source": [
    "Once again we can use the *pkey_interpretatie* as a permanent link to the information of these interpretations:"
   ]
  },
  {
   "cell_type": "code",
   "execution_count": 11,
   "metadata": {},
   "outputs": [
    {
     "output_type": "stream",
     "name": "stdout",
     "text": [
      "https://www.dov.vlaanderen.be/data/interpretatie/2016-271517\nhttps://www.dov.vlaanderen.be/data/interpretatie/2010-106477\nhttps://www.dov.vlaanderen.be/data/interpretatie/1993-097697\n"
     ]
    }
   ],
   "source": [
    "for pkey_interpretatie in set(df.pkey_interpretatie):\n",
    "    print(pkey_interpretatie)"
   ]
  },
  {
   "cell_type": "markdown",
   "metadata": {},
   "source": [
    "### Get 'informele stratigrafie' in a bounding box based on specific properties"
   ]
  },
  {
   "cell_type": "markdown",
   "metadata": {},
   "source": [
    "We can combine a query on attributes with a query on geographic location to get the interpretations within a bounding box that have specific properties.\n",
    "\n",
    "The following example requests the interpretations of boreholes only, within the given bounding box.\n",
    "\n",
    "(Note that the datatype of the *literal* parameter should be a string, regardless of the datatype of this field in the output dataframe.)"
   ]
  },
  {
   "cell_type": "code",
   "execution_count": 12,
   "metadata": {},
   "outputs": [
    {
     "output_type": "stream",
     "name": "stdout",
     "text": [
      "[000/003] ...\n"
     ]
    },
    {
     "output_type": "execute_result",
     "data": {
      "text/plain": [
       "                                  pkey_interpretatie  pkey_boring  \\\n",
       "0  https://www.dov.vlaanderen.be/data/interpretat...          NaN   \n",
       "1  https://www.dov.vlaanderen.be/data/interpretat...          NaN   \n",
       "2  https://www.dov.vlaanderen.be/data/interpretat...          NaN   \n",
       "3  https://www.dov.vlaanderen.be/data/interpretat...          NaN   \n",
       "\n",
       "   pkey_sondering betrouwbaarheid_interpretatie         x         y  \\\n",
       "0             NaN                          goed  205952.9  205993.0   \n",
       "1             NaN                          goed  205952.9  205993.0   \n",
       "2             NaN                          goed  205970.0  205270.5   \n",
       "3             NaN                          goed  205264.2  205607.5   \n",
       "\n",
       "   start_interpretatie_mtaw  diepte_laag_van  diepte_laag_tot beschrijving  \n",
       "0                     33.00              0.0              1.0            R  \n",
       "1                     33.00              1.0              2.3           q4  \n",
       "2                     34.00              0.0              2.3           q4  \n",
       "3                     33.38              0.0              8.0     Kwartair  "
      ],
      "text/html": "<div>\n<style scoped>\n    .dataframe tbody tr th:only-of-type {\n        vertical-align: middle;\n    }\n\n    .dataframe tbody tr th {\n        vertical-align: top;\n    }\n\n    .dataframe thead th {\n        text-align: right;\n    }\n</style>\n<table border=\"1\" class=\"dataframe\">\n  <thead>\n    <tr style=\"text-align: right;\">\n      <th></th>\n      <th>pkey_interpretatie</th>\n      <th>pkey_boring</th>\n      <th>pkey_sondering</th>\n      <th>betrouwbaarheid_interpretatie</th>\n      <th>x</th>\n      <th>y</th>\n      <th>start_interpretatie_mtaw</th>\n      <th>diepte_laag_van</th>\n      <th>diepte_laag_tot</th>\n      <th>beschrijving</th>\n    </tr>\n  </thead>\n  <tbody>\n    <tr>\n      <th>0</th>\n      <td>https://www.dov.vlaanderen.be/data/interpretat...</td>\n      <td>NaN</td>\n      <td>NaN</td>\n      <td>goed</td>\n      <td>205952.9</td>\n      <td>205993.0</td>\n      <td>33.00</td>\n      <td>0.0</td>\n      <td>1.0</td>\n      <td>R</td>\n    </tr>\n    <tr>\n      <th>1</th>\n      <td>https://www.dov.vlaanderen.be/data/interpretat...</td>\n      <td>NaN</td>\n      <td>NaN</td>\n      <td>goed</td>\n      <td>205952.9</td>\n      <td>205993.0</td>\n      <td>33.00</td>\n      <td>1.0</td>\n      <td>2.3</td>\n      <td>q4</td>\n    </tr>\n    <tr>\n      <th>2</th>\n      <td>https://www.dov.vlaanderen.be/data/interpretat...</td>\n      <td>NaN</td>\n      <td>NaN</td>\n      <td>goed</td>\n      <td>205970.0</td>\n      <td>205270.5</td>\n      <td>34.00</td>\n      <td>0.0</td>\n      <td>2.3</td>\n      <td>q4</td>\n    </tr>\n    <tr>\n      <th>3</th>\n      <td>https://www.dov.vlaanderen.be/data/interpretat...</td>\n      <td>NaN</td>\n      <td>NaN</td>\n      <td>goed</td>\n      <td>205264.2</td>\n      <td>205607.5</td>\n      <td>33.38</td>\n      <td>0.0</td>\n      <td>8.0</td>\n      <td>Kwartair</td>\n    </tr>\n  </tbody>\n</table>\n</div>"
     },
     "metadata": {},
     "execution_count": 12
    }
   ],
   "source": [
    "from owslib.fes import PropertyIsEqualTo\n",
    "\n",
    "query = PropertyIsEqualTo(\n",
    "            propertyname='Type_proef',\n",
    "            literal='Boring')\n",
    "\n",
    "df = itp.search(\n",
    "    location=Within(Box(205000, 205000, 206000, 206000)),\n",
    "    query=query\n",
    "    )\n",
    "\n",
    "df.head()"
   ]
  },
  {
   "cell_type": "markdown",
   "metadata": {},
   "source": [
    "We can look at one of the interpretations in a webbrowser using its *pkey_interpretatie*:"
   ]
  },
  {
   "cell_type": "code",
   "execution_count": 13,
   "metadata": {},
   "outputs": [
    {
     "output_type": "stream",
     "name": "stdout",
     "text": [
      "https://www.dov.vlaanderen.be/data/interpretatie/1975-044576\nhttps://www.dov.vlaanderen.be/data/interpretatie/1896-044149\nhttps://www.dov.vlaanderen.be/data/interpretatie/1896-044150\n"
     ]
    }
   ],
   "source": [
    "for pkey_interpretatie in set(df.pkey_interpretatie):\n",
    "    print(pkey_interpretatie)"
   ]
  },
  {
   "cell_type": "markdown",
   "metadata": {},
   "source": [
    "### Select 'informele stratigrafie' in a municipality and return date"
   ]
  },
  {
   "cell_type": "markdown",
   "metadata": {},
   "source": [
    "We can limit the columns in the output dataframe by specifying the *return_fields* parameter in our search.\n",
    "\n",
    "In this example we query all the 'informele stratigrafie' interpretations in the city of Ghent and return their date:"
   ]
  },
  {
   "cell_type": "code",
   "execution_count": 14,
   "metadata": {},
   "outputs": [
    {
     "output_type": "execute_result",
     "data": {
      "text/plain": [
       "        Datum\n",
       "0  1983-12-05\n",
       "1         NaN\n",
       "2         NaN\n",
       "3         NaN\n",
       "4         NaN"
      ],
      "text/html": "<div>\n<style scoped>\n    .dataframe tbody tr th:only-of-type {\n        vertical-align: middle;\n    }\n\n    .dataframe tbody tr th {\n        vertical-align: top;\n    }\n\n    .dataframe thead th {\n        text-align: right;\n    }\n</style>\n<table border=\"1\" class=\"dataframe\">\n  <thead>\n    <tr style=\"text-align: right;\">\n      <th></th>\n      <th>Datum</th>\n    </tr>\n  </thead>\n  <tbody>\n    <tr>\n      <th>0</th>\n      <td>1983-12-05</td>\n    </tr>\n    <tr>\n      <th>1</th>\n      <td>NaN</td>\n    </tr>\n    <tr>\n      <th>2</th>\n      <td>NaN</td>\n    </tr>\n    <tr>\n      <th>3</th>\n      <td>NaN</td>\n    </tr>\n    <tr>\n      <th>4</th>\n      <td>NaN</td>\n    </tr>\n  </tbody>\n</table>\n</div>"
     },
     "metadata": {},
     "execution_count": 14
    }
   ],
   "source": [
    "query = PropertyIsEqualTo(propertyname='gemeente',\n",
    "                          literal='Gent')\n",
    "df = itp.search(query=query,\n",
    "                return_fields=('Datum',))\n",
    "df.head()"
   ]
  },
  {
   "cell_type": "code",
   "execution_count": 15,
   "metadata": {},
   "outputs": [
    {
     "output_type": "execute_result",
     "data": {
      "text/plain": [
       "             Datum\n",
       "count          642\n",
       "unique         248\n",
       "top     1996-11-25\n",
       "freq            41"
      ],
      "text/html": "<div>\n<style scoped>\n    .dataframe tbody tr th:only-of-type {\n        vertical-align: middle;\n    }\n\n    .dataframe tbody tr th {\n        vertical-align: top;\n    }\n\n    .dataframe thead th {\n        text-align: right;\n    }\n</style>\n<table border=\"1\" class=\"dataframe\">\n  <thead>\n    <tr style=\"text-align: right;\">\n      <th></th>\n      <th>Datum</th>\n    </tr>\n  </thead>\n  <tbody>\n    <tr>\n      <th>count</th>\n      <td>642</td>\n    </tr>\n    <tr>\n      <th>unique</th>\n      <td>248</td>\n    </tr>\n    <tr>\n      <th>top</th>\n      <td>1996-11-25</td>\n    </tr>\n    <tr>\n      <th>freq</th>\n      <td>41</td>\n    </tr>\n  </tbody>\n</table>\n</div>"
     },
     "metadata": {},
     "execution_count": 15
    }
   ],
   "source": [
    "df.describe()"
   ]
  },
  {
   "cell_type": "markdown",
   "metadata": {},
   "source": [
    "### Get 'informele stratigrafie' based on fields not available in the standard output dataframe"
   ]
  },
  {
   "cell_type": "markdown",
   "metadata": {},
   "source": [
    "To keep the output dataframe size acceptable, not all available WFS fields are included in the standard output. However, one can use this information to select interpretations as illustrated below.\n",
    "\n",
    "For example, make a selection of the interpretations in municipality the of Antwerp, before 1/1/1900:"
   ]
  },
  {
   "cell_type": "code",
   "execution_count": 16,
   "metadata": {},
   "outputs": [
    {
     "output_type": "execute_result",
     "data": {
      "text/plain": [
       "                                  pkey_interpretatie       Datum\n",
       "0  https://www.dov.vlaanderen.be/data/interpretat...  1895-05-21\n",
       "1  https://www.dov.vlaanderen.be/data/interpretat...  1895-05-21\n",
       "2  https://www.dov.vlaanderen.be/data/interpretat...  1895-05-21\n",
       "3  https://www.dov.vlaanderen.be/data/interpretat...  1895-06-10\n",
       "4  https://www.dov.vlaanderen.be/data/interpretat...  1895-06-10"
      ],
      "text/html": "<div>\n<style scoped>\n    .dataframe tbody tr th:only-of-type {\n        vertical-align: middle;\n    }\n\n    .dataframe tbody tr th {\n        vertical-align: top;\n    }\n\n    .dataframe thead th {\n        text-align: right;\n    }\n</style>\n<table border=\"1\" class=\"dataframe\">\n  <thead>\n    <tr style=\"text-align: right;\">\n      <th></th>\n      <th>pkey_interpretatie</th>\n      <th>Datum</th>\n    </tr>\n  </thead>\n  <tbody>\n    <tr>\n      <th>0</th>\n      <td>https://www.dov.vlaanderen.be/data/interpretat...</td>\n      <td>1895-05-21</td>\n    </tr>\n    <tr>\n      <th>1</th>\n      <td>https://www.dov.vlaanderen.be/data/interpretat...</td>\n      <td>1895-05-21</td>\n    </tr>\n    <tr>\n      <th>2</th>\n      <td>https://www.dov.vlaanderen.be/data/interpretat...</td>\n      <td>1895-05-21</td>\n    </tr>\n    <tr>\n      <th>3</th>\n      <td>https://www.dov.vlaanderen.be/data/interpretat...</td>\n      <td>1895-06-10</td>\n    </tr>\n    <tr>\n      <th>4</th>\n      <td>https://www.dov.vlaanderen.be/data/interpretat...</td>\n      <td>1895-06-10</td>\n    </tr>\n  </tbody>\n</table>\n</div>"
     },
     "metadata": {},
     "execution_count": 16
    }
   ],
   "source": [
    "from owslib.fes import And, PropertyIsEqualTo, PropertyIsLessThan\n",
    "\n",
    "query = And([PropertyIsEqualTo(propertyname='gemeente',\n",
    "                               literal='Antwerpen'),\n",
    "             PropertyIsLessThan(propertyname='Datum', \n",
    "                                 literal='1900-01-01')]\n",
    "            )\n",
    "df = itp.search(query=query,\n",
    "                return_fields=('pkey_interpretatie', 'Datum'))\n",
    "df.head()"
   ]
  },
  {
   "cell_type": "markdown",
   "metadata": {},
   "source": [
    "### Get 'informele stratigrafie' data, returning fields not available in the standard output dataframe"
   ]
  },
  {
   "cell_type": "markdown",
   "metadata": {},
   "source": [
    "As denoted in the previous example, not all available fields are available in the default output frame to keep its size limited. However, you can request any available field by including it in the *return_fields* parameter of the search:"
   ]
  },
  {
   "cell_type": "code",
   "execution_count": 17,
   "metadata": {},
   "outputs": [
    {
     "output_type": "error",
     "ename": "InvalidFieldError",
     "evalue": "Unknown return field: 'Z_mTAW'. Did you mean 'start_interpretatie_mtaw'?",
     "traceback": [
      "\u001b[0;31m---------------------------------------------------------------------------\u001b[0m",
      "\u001b[0;31mInvalidFieldError\u001b[0m                         Traceback (most recent call last)",
      "\u001b[0;32m<ipython-input-17-fb275693a765>\u001b[0m in \u001b[0;36m<module>\u001b[0;34m\u001b[0m\n\u001b[1;32m      3\u001b[0m             literal='Herstappe')\n\u001b[1;32m      4\u001b[0m \u001b[0;34m\u001b[0m\u001b[0m\n\u001b[0;32m----> 5\u001b[0;31m df = itp.search(query=query,\n\u001b[0m\u001b[1;32m      6\u001b[0m                 return_fields=('pkey_interpretatie', 'pkey_boring', 'pkey_sondering',\n\u001b[1;32m      7\u001b[0m                                'x', 'y', 'Z_mTAW', 'gemeente', 'Auteurs', 'Proefnummer'))\n",
      "\u001b[0;32m~/Sideprojects/pydov/pydov_git/pydov/search/abstract.py\u001b[0m in \u001b[0;36msearch\u001b[0;34m(self, location, query, sort_by, return_fields, max_features)\u001b[0m\n\u001b[1;32m    838\u001b[0m \u001b[0;34m\u001b[0m\u001b[0m\n\u001b[1;32m    839\u001b[0m         \"\"\"\n\u001b[0;32m--> 840\u001b[0;31m         fts = self._search(location=location, query=query, sort_by=sort_by,\n\u001b[0m\u001b[1;32m    841\u001b[0m                            \u001b[0mreturn_fields\u001b[0m\u001b[0;34m=\u001b[0m\u001b[0mreturn_fields\u001b[0m\u001b[0;34m,\u001b[0m\u001b[0;34m\u001b[0m\u001b[0;34m\u001b[0m\u001b[0m\n\u001b[1;32m    842\u001b[0m                            max_features=max_features)\n",
      "\u001b[0;32m~/Sideprojects/pydov/pydov_git/pydov/search/abstract.py\u001b[0m in \u001b[0;36m_search\u001b[0;34m(self, location, query, return_fields, sort_by, max_features, extra_wfs_fields)\u001b[0m\n\u001b[1;32m    659\u001b[0m \u001b[0;34m\u001b[0m\u001b[0m\n\u001b[1;32m    660\u001b[0m         \"\"\"\n\u001b[0;32m--> 661\u001b[0;31m         self._pre_search_validation(location, query, sort_by, return_fields,\n\u001b[0m\u001b[1;32m    662\u001b[0m                                     max_features)\n\u001b[1;32m    663\u001b[0m         \u001b[0mself\u001b[0m\u001b[0;34m.\u001b[0m\u001b[0m_init_namespace\u001b[0m\u001b[0;34m(\u001b[0m\u001b[0;34m)\u001b[0m\u001b[0;34m\u001b[0m\u001b[0;34m\u001b[0m\u001b[0m\n",
      "\u001b[0;32m~/Sideprojects/pydov/pydov_git/pydov/search/abstract.py\u001b[0m in \u001b[0;36m_pre_search_validation\u001b[0;34m(self, location, query, sort_by, return_fields, max_features)\u001b[0m\n\u001b[1;32m    540\u001b[0m                 \u001b[0;32mif\u001b[0m \u001b[0mrf\u001b[0m \u001b[0;32mnot\u001b[0m \u001b[0;32min\u001b[0m \u001b[0mself\u001b[0m\u001b[0;34m.\u001b[0m\u001b[0m_fields\u001b[0m\u001b[0;34m:\u001b[0m\u001b[0;34m\u001b[0m\u001b[0;34m\u001b[0m\u001b[0m\n\u001b[1;32m    541\u001b[0m                     \u001b[0;32mif\u001b[0m \u001b[0mrf\u001b[0m \u001b[0;32min\u001b[0m \u001b[0mself\u001b[0m\u001b[0;34m.\u001b[0m\u001b[0m_map_wfs_source_df\u001b[0m\u001b[0;34m:\u001b[0m\u001b[0;34m\u001b[0m\u001b[0;34m\u001b[0m\u001b[0m\n\u001b[0;32m--> 542\u001b[0;31m                         raise InvalidFieldError(\n\u001b[0m\u001b[1;32m    543\u001b[0m                             \u001b[0;34m\"Unknown return field: \"\u001b[0m\u001b[0;34m\u001b[0m\u001b[0;34m\u001b[0m\u001b[0m\n\u001b[1;32m    544\u001b[0m                             \"'{}'. Did you mean '{}'?\".format(\n",
      "\u001b[0;31mInvalidFieldError\u001b[0m: Unknown return field: 'Z_mTAW'. Did you mean 'start_interpretatie_mtaw'?"
     ]
    }
   ],
   "source": [
    "query = PropertyIsEqualTo(\n",
    "            propertyname='gemeente',\n",
    "            literal='Herstappe')\n",
    "\n",
    "df = itp.search(query=query,\n",
    "                return_fields=('pkey_interpretatie', 'pkey_boring', 'pkey_sondering',\n",
    "                               'x', 'y', 'Z_mTAW', 'gemeente', 'Auteurs', 'Proefnummer'))\n",
    "\n",
    "df.head()"
   ]
  },
  {
   "cell_type": "markdown",
   "metadata": {},
   "source": [
    "## Visualize results"
   ]
  },
  {
   "cell_type": "markdown",
   "metadata": {},
   "source": [
    "Using Folium, we can display the results of our search on a map."
   ]
  },
  {
   "cell_type": "code",
   "execution_count": 18,
   "metadata": {},
   "outputs": [],
   "source": [
    "# import the necessary modules (not included in the requirements of pydov!)\n",
    "import folium\n",
    "from folium.plugins import MarkerCluster\n",
    "from pyproj import Transformer"
   ]
  },
  {
   "cell_type": "code",
   "execution_count": 19,
   "metadata": {},
   "outputs": [],
   "source": [
    "# convert the coordinates to lat/lon for folium\n",
    "def convert_latlon(x1, y1):\n",
    "    transformer = Transformer.from_crs(\"epsg:31370\", \"epsg:4326\", always_xy=True)\n",
    "    x2,y2 = transformer.transform(x1, y1)\n",
    "    return x2, y2\n",
    "\n",
    "df['lon'], df['lat'] = zip(*map(convert_latlon, df['x'], df['y'])) \n",
    "# convert to list\n",
    "loclist = df[['lat', 'lon']].values.tolist()"
   ]
  },
  {
   "cell_type": "code",
   "execution_count": 20,
   "metadata": {},
   "outputs": [
    {
     "data": {
      "text/html": [
       "<div style=\"width:100%;\"><div style=\"position:relative;width:100%;height:0;padding-bottom:60%;\"><span style=\"color:#565656\">Make this Notebook Trusted to load map: File -> Trust Notebook</span><iframe src=\"about:blank\" style=\"position:absolute;width:100%;height:100%;left:0;top:0;border:none !important;\" data-html=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 onload=\"this.contentDocument.open();this.contentDocument.write(atob(this.getAttribute('data-html')));this.contentDocument.close();\" allowfullscreen webkitallowfullscreen mozallowfullscreen></iframe></div></div>"
      ],
      "text/plain": [
       "<folium.folium.Map at 0x7feb1d121990>"
      ]
     },
     "execution_count": 20,
     "metadata": {},
     "output_type": "execute_result"
    }
   ],
   "source": [
    "# initialize the Folium map on the centre of the selected locations, play with the zoom until ok\n",
    "fmap = folium.Map(location=[df['lat'].mean(), df['lon'].mean()], zoom_start=12)\n",
    "marker_cluster = MarkerCluster().add_to(fmap)\n",
    "for loc in range(0, len(loclist)):\n",
    "    folium.Marker(loclist[loc], popup=df['Proefnummer'][loc]).add_to(marker_cluster)\n",
    "fmap\n"
   ]
  }
 ],
 "metadata": {
  "kernelspec": {
   "display_name": "Python 3.7.5 64-bit ('venv': venv)",
   "language": "python",
   "name": "python37564bitvenvvenv7153db2e85324c8ea2b6eb355f534b21"
  },
  "language_info": {
   "codemirror_mode": {
    "name": "ipython",
    "version": 3
   },
   "file_extension": ".py",
   "mimetype": "text/x-python",
   "name": "python",
   "nbconvert_exporter": "python",
   "pygments_lexer": "ipython3",
   "version": "3.8.5-final"
  }
 },
 "nbformat": 4,
 "nbformat_minor": 4
}