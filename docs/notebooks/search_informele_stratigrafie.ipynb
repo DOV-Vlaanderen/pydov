{
 "cells": [
  {
   "cell_type": "markdown",
   "metadata": {},
   "source": [
    "# Example of DOV search methods for interpretations (informele stratigrafie)"
   ]
  },
  {
   "cell_type": "markdown",
   "metadata": {},
   "source": [
    "[![Binder](https://mybinder.org/badge_logo.svg)](https://mybinder.org/v2/gh/DOV-Vlaanderen/pydov/master?filepath=docs%2Fnotebooks%2Fsearch_informele_stratigrafie.ipynb)"
   ]
  },
  {
   "cell_type": "markdown",
   "metadata": {},
   "source": [
    "## Use cases explained below\n",
    "* Get 'informele stratigrafie' in a bounding box\n",
    "* Get 'informele stratigrafie' with specific properties\n",
    "* Get 'informele stratigrafie' in a bounding box based on specific properties\n",
    "* Select 'informele stratigrafie' in a municipality and return date\n",
    "* Get 'informele stratigrafie' based on fields not available in the standard output dataframe\n",
    "* Get 'informele stratigrafie' data, returning fields not available in the standard output dataframe"
   ]
  },
  {
   "cell_type": "code",
   "execution_count": 1,
   "metadata": {},
   "outputs": [],
   "source": [
    "%matplotlib inline\n",
    "import inspect, sys"
   ]
  },
  {
   "cell_type": "code",
   "execution_count": 2,
   "metadata": {},
   "outputs": [],
   "source": [
    "# check pydov path\n",
    "import pydov"
   ]
  },
  {
   "cell_type": "markdown",
   "metadata": {},
   "source": [
    "## Get information about the datatype 'Informele stratigrafie'"
   ]
  },
  {
   "cell_type": "code",
   "execution_count": 3,
   "metadata": {},
   "outputs": [],
   "source": [
    "from pydov.search.interpretaties import InformeleStratigrafieSearch\n",
    "itp = InformeleStratigrafieSearch()"
   ]
  },
  {
   "cell_type": "markdown",
   "metadata": {},
   "source": [
    "A description is provided for the 'Informele stratigrafie' datatype:"
   ]
  },
  {
   "cell_type": "code",
   "execution_count": 4,
   "metadata": {},
   "outputs": [
    {
     "data": {
      "text/plain": [
       "'Een informele stratigrafie van een boring is, net als een formele stratigrafie, een lithostratigrafische interpretatie van een (gecodeerde) lithologische beschrijving per diepte-interval. Het verschil met de formele stratigrafie is dat de informele stratigrafie niet moet voldoen aan een algemeen aanvaarde standaard. De informele stratigrafie is een plaats in DOV om oude interpretaties of interpretaties die niet voldoen aan de huidige stratigrafische indeling toch weer te geven. De informele stratigrafie kan ook een gedetailleerde beschrijving bevatten van een lithostratigrafische eenheid.'"
      ]
     },
     "execution_count": 4,
     "metadata": {},
     "output_type": "execute_result"
    }
   ],
   "source": [
    "itp.get_description()"
   ]
  },
  {
   "cell_type": "markdown",
   "metadata": {},
   "source": [
    "The different fields that are available for objects of the 'Informele stratigrafie' datatype can be requested with the get_fields() method:"
   ]
  },
  {
   "cell_type": "code",
   "execution_count": 5,
   "metadata": {},
   "outputs": [
    {
     "name": "stdout",
     "output_type": "stream",
     "text": [
      "pkey_interpretatie\n",
      "Type_proef\n",
      "Proefnummer\n",
      "Proeffiche\n",
      "x\n",
      "y\n",
      "start_interpretatie_mtaw\n",
      "diepte_tot_m\n",
      "gemeente\n",
      "Auteurs\n",
      "Datum\n",
      "Opdrachten\n",
      "betrouwbaarheid_interpretatie\n",
      "Geldig_van\n",
      "Geldig_tot\n",
      "eerste_invoer\n",
      "geom\n",
      "diepte_laag_van\n",
      "diepte_laag_tot\n",
      "beschrijving\n",
      "pkey_boring\n",
      "pkey_sondering\n"
     ]
    }
   ],
   "source": [
    "fields = itp.get_fields()\n",
    "\n",
    "# print available fields\n",
    "for f in fields.values():\n",
    "    print(f['name'])"
   ]
  },
  {
   "cell_type": "markdown",
   "metadata": {},
   "source": [
    "You can get more information of a field by requesting it from the fields dictionary:\n",
    "* *name*: name of the field\n",
    "* *definition*: definition of this field\n",
    "* *cost*: currently this is either 1 or 10, depending on the datasource of the field. It is an indication of the expected time it will take to retrieve this field in the output dataframe.\n",
    "* *notnull*: whether the field is mandatory or not\n",
    "* *type*: datatype of the values of this field"
   ]
  },
  {
   "cell_type": "code",
   "execution_count": 6,
   "metadata": {},
   "outputs": [
    {
     "data": {
      "text/plain": [
       "{'name': 'Datum',\n",
       " 'definition': 'De datum waarop de informele stratigrafie werd beschreven.',\n",
       " 'type': 'date',\n",
       " 'notnull': False,\n",
       " 'query': True,\n",
       " 'cost': 1}"
      ]
     },
     "execution_count": 6,
     "metadata": {},
     "output_type": "execute_result"
    }
   ],
   "source": [
    "fields['Datum']"
   ]
  },
  {
   "cell_type": "markdown",
   "metadata": {},
   "source": [
    "## Example use cases"
   ]
  },
  {
   "cell_type": "markdown",
   "metadata": {},
   "source": [
    "### Get 'informele stratigrafie' in a bounding box"
   ]
  },
  {
   "cell_type": "markdown",
   "metadata": {},
   "source": [
    "Get data for all the 'informele stratigrafie' interpretations that are geographically located within the bounds of the specified box.\n",
    "\n",
    "The coordinates are in the Belgian Lambert72 (EPSG:31370) coordinate system and are given in the order of lower left x, lower left y, upper right x, upper right y."
   ]
  },
  {
   "cell_type": "code",
   "execution_count": 7,
   "metadata": {},
   "outputs": [
    {
     "name": "stdout",
     "output_type": "stream",
     "text": [
      "[000/001] .\n",
      "[000/001] .\n"
     ]
    },
    {
     "data": {
      "text/html": [
       "<div>\n",
       "<style scoped>\n",
       "    .dataframe tbody tr th:only-of-type {\n",
       "        vertical-align: middle;\n",
       "    }\n",
       "\n",
       "    .dataframe tbody tr th {\n",
       "        vertical-align: top;\n",
       "    }\n",
       "\n",
       "    .dataframe thead th {\n",
       "        text-align: right;\n",
       "    }\n",
       "</style>\n",
       "<table border=\"1\" class=\"dataframe\">\n",
       "  <thead>\n",
       "    <tr style=\"text-align: right;\">\n",
       "      <th></th>\n",
       "      <th>pkey_interpretatie</th>\n",
       "      <th>pkey_boring</th>\n",
       "      <th>pkey_sondering</th>\n",
       "      <th>betrouwbaarheid_interpretatie</th>\n",
       "      <th>x</th>\n",
       "      <th>y</th>\n",
       "      <th>start_interpretatie_mtaw</th>\n",
       "      <th>diepte_laag_van</th>\n",
       "      <th>diepte_laag_tot</th>\n",
       "      <th>beschrijving</th>\n",
       "    </tr>\n",
       "  </thead>\n",
       "  <tbody>\n",
       "    <tr>\n",
       "      <th>0</th>\n",
       "      <td>https://www.dov.vlaanderen.be/data/interpretat...</td>\n",
       "      <td>https://www.dov.vlaanderen.be/data/boring/1974...</td>\n",
       "      <td>NaN</td>\n",
       "      <td>goed</td>\n",
       "      <td>153147.0</td>\n",
       "      <td>206931.0</td>\n",
       "      <td>14.12</td>\n",
       "      <td>0.0</td>\n",
       "      <td>3.00</td>\n",
       "      <td>Quartair</td>\n",
       "    </tr>\n",
       "    <tr>\n",
       "      <th>1</th>\n",
       "      <td>https://www.dov.vlaanderen.be/data/interpretat...</td>\n",
       "      <td>https://www.dov.vlaanderen.be/data/boring/1974...</td>\n",
       "      <td>NaN</td>\n",
       "      <td>goed</td>\n",
       "      <td>153147.0</td>\n",
       "      <td>206931.0</td>\n",
       "      <td>14.12</td>\n",
       "      <td>3.0</td>\n",
       "      <td>14.05</td>\n",
       "      <td>Tertiair - Mioceen: Antwerpiaan</td>\n",
       "    </tr>\n",
       "  </tbody>\n",
       "</table>\n",
       "</div>"
      ],
      "text/plain": [
       "                                  pkey_interpretatie  \\\n",
       "0  https://www.dov.vlaanderen.be/data/interpretat...   \n",
       "1  https://www.dov.vlaanderen.be/data/interpretat...   \n",
       "\n",
       "                                         pkey_boring  pkey_sondering  \\\n",
       "0  https://www.dov.vlaanderen.be/data/boring/1974...             NaN   \n",
       "1  https://www.dov.vlaanderen.be/data/boring/1974...             NaN   \n",
       "\n",
       "  betrouwbaarheid_interpretatie         x         y  start_interpretatie_mtaw  \\\n",
       "0                          goed  153147.0  206931.0                     14.12   \n",
       "1                          goed  153147.0  206931.0                     14.12   \n",
       "\n",
       "   diepte_laag_van  diepte_laag_tot                     beschrijving  \n",
       "0              0.0             3.00                         Quartair  \n",
       "1              3.0            14.05  Tertiair - Mioceen: Antwerpiaan  "
      ]
     },
     "execution_count": 7,
     "metadata": {},
     "output_type": "execute_result"
    }
   ],
   "source": [
    "from pydov.util.location import Within, Box\n",
    "\n",
    "df = itp.search(location=Within(Box(153145, 206930, 153150, 206935, epsg=31370)))\n",
    "df.head()"
   ]
  },
  {
   "cell_type": "markdown",
   "metadata": {},
   "source": [
    "The dataframe contains one 'informele stratigrafie' interpretation where three layers ('laag') were identified. The available data are flattened to represent unique attributes per row of the dataframe.\n",
    "\n",
    "Using the *pkey_interpretatie* field one can request the details of this interpretation in a webbrowser:"
   ]
  },
  {
   "cell_type": "code",
   "execution_count": 8,
   "metadata": {},
   "outputs": [
    {
     "name": "stdout",
     "output_type": "stream",
     "text": [
      "https://www.dov.vlaanderen.be/data/interpretatie/1975-213484\n"
     ]
    }
   ],
   "source": [
    "for pkey_interpretatie in set(df.pkey_interpretatie):\n",
    "    print(pkey_interpretatie)"
   ]
  },
  {
   "cell_type": "markdown",
   "metadata": {},
   "source": [
    "### Get 'informele stratigrafie' with specific properties"
   ]
  },
  {
   "cell_type": "markdown",
   "metadata": {},
   "source": [
    "Next to querying interpretations based on their geographic location within a bounding box, we can also search for interpretations matching a specific set of properties. For this we can build a query using a combination of the 'InformeleStratigrafie' fields and operators provided by the WFS protocol.\n",
    "\n",
    "A list of possible operators can be found below:"
   ]
  },
  {
   "cell_type": "code",
   "execution_count": 9,
   "metadata": {},
   "outputs": [
    {
     "data": {
      "text/plain": [
       "['PropertyIsBetween',\n",
       " 'PropertyIsEqualTo',\n",
       " 'PropertyIsGreaterThan',\n",
       " 'PropertyIsGreaterThanOrEqualTo',\n",
       " 'PropertyIsLessThan',\n",
       " 'PropertyIsLessThanOrEqualTo',\n",
       " 'PropertyIsLike',\n",
       " 'PropertyIsNotEqualTo',\n",
       " 'PropertyIsNull',\n",
       " 'SortProperty']"
      ]
     },
     "execution_count": 9,
     "metadata": {},
     "output_type": "execute_result"
    }
   ],
   "source": [
    "[i for i,j in inspect.getmembers(sys.modules['owslib.fes2'], inspect.isclass) if 'Property' in i]"
   ]
  },
  {
   "cell_type": "markdown",
   "metadata": {},
   "source": [
    "In this example we build a query using the *PropertyIsEqualTo* operator to find all interpretations that are within the community (gemeente) of 'Herstappe':"
   ]
  },
  {
   "cell_type": "code",
   "execution_count": 10,
   "metadata": {},
   "outputs": [
    {
     "name": "stdout",
     "output_type": "stream",
     "text": [
      "[000/001] .\n",
      "[000/003] ...\n"
     ]
    },
    {
     "data": {
      "text/html": [
       "<div>\n",
       "<style scoped>\n",
       "    .dataframe tbody tr th:only-of-type {\n",
       "        vertical-align: middle;\n",
       "    }\n",
       "\n",
       "    .dataframe tbody tr th {\n",
       "        vertical-align: top;\n",
       "    }\n",
       "\n",
       "    .dataframe thead th {\n",
       "        text-align: right;\n",
       "    }\n",
       "</style>\n",
       "<table border=\"1\" class=\"dataframe\">\n",
       "  <thead>\n",
       "    <tr style=\"text-align: right;\">\n",
       "      <th></th>\n",
       "      <th>pkey_interpretatie</th>\n",
       "      <th>pkey_boring</th>\n",
       "      <th>pkey_sondering</th>\n",
       "      <th>betrouwbaarheid_interpretatie</th>\n",
       "      <th>x</th>\n",
       "      <th>y</th>\n",
       "      <th>start_interpretatie_mtaw</th>\n",
       "      <th>diepte_laag_van</th>\n",
       "      <th>diepte_laag_tot</th>\n",
       "      <th>beschrijving</th>\n",
       "    </tr>\n",
       "  </thead>\n",
       "  <tbody>\n",
       "    <tr>\n",
       "      <th>0</th>\n",
       "      <td>https://www.dov.vlaanderen.be/data/interpretat...</td>\n",
       "      <td>https://www.dov.vlaanderen.be/data/boring/1993...</td>\n",
       "      <td>NaN</td>\n",
       "      <td>goed</td>\n",
       "      <td>224820.0</td>\n",
       "      <td>157794.0</td>\n",
       "      <td>132.0</td>\n",
       "      <td>0.00</td>\n",
       "      <td>50.00</td>\n",
       "      <td>?</td>\n",
       "    </tr>\n",
       "    <tr>\n",
       "      <th>1</th>\n",
       "      <td>https://www.dov.vlaanderen.be/data/interpretat...</td>\n",
       "      <td>https://www.dov.vlaanderen.be/data/boring/2016...</td>\n",
       "      <td>NaN</td>\n",
       "      <td>goed</td>\n",
       "      <td>224687.4</td>\n",
       "      <td>158191.0</td>\n",
       "      <td>124.0</td>\n",
       "      <td>0.00</td>\n",
       "      <td>3.75</td>\n",
       "      <td>q2</td>\n",
       "    </tr>\n",
       "    <tr>\n",
       "      <th>2</th>\n",
       "      <td>https://www.dov.vlaanderen.be/data/interpretat...</td>\n",
       "      <td>https://www.dov.vlaanderen.be/data/boring/2016...</td>\n",
       "      <td>NaN</td>\n",
       "      <td>goed</td>\n",
       "      <td>224687.4</td>\n",
       "      <td>158191.0</td>\n",
       "      <td>124.0</td>\n",
       "      <td>3.75</td>\n",
       "      <td>6.00</td>\n",
       "      <td>q1c</td>\n",
       "    </tr>\n",
       "    <tr>\n",
       "      <th>3</th>\n",
       "      <td>https://www.dov.vlaanderen.be/data/interpretat...</td>\n",
       "      <td>https://www.dov.vlaanderen.be/data/boring/1993...</td>\n",
       "      <td>NaN</td>\n",
       "      <td>goed</td>\n",
       "      <td>224820.0</td>\n",
       "      <td>157794.0</td>\n",
       "      <td>132.0</td>\n",
       "      <td>5.00</td>\n",
       "      <td>50.00</td>\n",
       "      <td>Formatie van Gulpen</td>\n",
       "    </tr>\n",
       "  </tbody>\n",
       "</table>\n",
       "</div>"
      ],
      "text/plain": [
       "                                  pkey_interpretatie  \\\n",
       "0  https://www.dov.vlaanderen.be/data/interpretat...   \n",
       "1  https://www.dov.vlaanderen.be/data/interpretat...   \n",
       "2  https://www.dov.vlaanderen.be/data/interpretat...   \n",
       "3  https://www.dov.vlaanderen.be/data/interpretat...   \n",
       "\n",
       "                                         pkey_boring  pkey_sondering  \\\n",
       "0  https://www.dov.vlaanderen.be/data/boring/1993...             NaN   \n",
       "1  https://www.dov.vlaanderen.be/data/boring/2016...             NaN   \n",
       "2  https://www.dov.vlaanderen.be/data/boring/2016...             NaN   \n",
       "3  https://www.dov.vlaanderen.be/data/boring/1993...             NaN   \n",
       "\n",
       "  betrouwbaarheid_interpretatie         x         y  start_interpretatie_mtaw  \\\n",
       "0                          goed  224820.0  157794.0                     132.0   \n",
       "1                          goed  224687.4  158191.0                     124.0   \n",
       "2                          goed  224687.4  158191.0                     124.0   \n",
       "3                          goed  224820.0  157794.0                     132.0   \n",
       "\n",
       "   diepte_laag_van  diepte_laag_tot         beschrijving  \n",
       "0             0.00            50.00                    ?  \n",
       "1             0.00             3.75                   q2  \n",
       "2             3.75             6.00                  q1c  \n",
       "3             5.00            50.00  Formatie van Gulpen  "
      ]
     },
     "execution_count": 10,
     "metadata": {},
     "output_type": "execute_result"
    }
   ],
   "source": [
    "from owslib.fes2 import PropertyIsEqualTo\n",
    "\n",
    "query = PropertyIsEqualTo(propertyname='gemeente',\n",
    "                          literal='Herstappe')\n",
    "df = itp.search(query=query)\n",
    "\n",
    "df.head()"
   ]
  },
  {
   "cell_type": "markdown",
   "metadata": {},
   "source": [
    "Once again we can use the *pkey_interpretatie* as a permanent link to the information of these interpretations:"
   ]
  },
  {
   "cell_type": "code",
   "execution_count": 11,
   "metadata": {},
   "outputs": [
    {
     "name": "stdout",
     "output_type": "stream",
     "text": [
      "https://www.dov.vlaanderen.be/data/interpretatie/1993-097697\n",
      "https://www.dov.vlaanderen.be/data/interpretatie/2016-271517\n",
      "https://www.dov.vlaanderen.be/data/interpretatie/2010-106477\n"
     ]
    }
   ],
   "source": [
    "for pkey_interpretatie in set(df.pkey_interpretatie):\n",
    "    print(pkey_interpretatie)"
   ]
  },
  {
   "cell_type": "markdown",
   "metadata": {},
   "source": [
    "### Get 'informele stratigrafie' in a bounding box based on specific properties"
   ]
  },
  {
   "cell_type": "markdown",
   "metadata": {},
   "source": [
    "We can combine a query on attributes with a query on geographic location to get the interpretations within a bounding box that have specific properties.\n",
    "\n",
    "The following example requests the interpretations of boreholes only, within the given bounding box.\n",
    "\n",
    "(Note that the datatype of the *literal* parameter should be a string, regardless of the datatype of this field in the output dataframe.)"
   ]
  },
  {
   "cell_type": "code",
   "execution_count": 12,
   "metadata": {},
   "outputs": [
    {
     "name": "stdout",
     "output_type": "stream",
     "text": [
      "[000/001] .\n",
      "[000/003] ...\n"
     ]
    },
    {
     "data": {
      "text/html": [
       "<div>\n",
       "<style scoped>\n",
       "    .dataframe tbody tr th:only-of-type {\n",
       "        vertical-align: middle;\n",
       "    }\n",
       "\n",
       "    .dataframe tbody tr th {\n",
       "        vertical-align: top;\n",
       "    }\n",
       "\n",
       "    .dataframe thead th {\n",
       "        text-align: right;\n",
       "    }\n",
       "</style>\n",
       "<table border=\"1\" class=\"dataframe\">\n",
       "  <thead>\n",
       "    <tr style=\"text-align: right;\">\n",
       "      <th></th>\n",
       "      <th>pkey_interpretatie</th>\n",
       "      <th>pkey_boring</th>\n",
       "      <th>pkey_sondering</th>\n",
       "      <th>betrouwbaarheid_interpretatie</th>\n",
       "      <th>x</th>\n",
       "      <th>y</th>\n",
       "      <th>start_interpretatie_mtaw</th>\n",
       "      <th>diepte_laag_van</th>\n",
       "      <th>diepte_laag_tot</th>\n",
       "      <th>beschrijving</th>\n",
       "    </tr>\n",
       "  </thead>\n",
       "  <tbody>\n",
       "    <tr>\n",
       "      <th>0</th>\n",
       "      <td>https://www.dov.vlaanderen.be/data/interpretat...</td>\n",
       "      <td>https://www.dov.vlaanderen.be/data/boring/1975...</td>\n",
       "      <td>NaN</td>\n",
       "      <td>goed</td>\n",
       "      <td>205264.2</td>\n",
       "      <td>205607.5</td>\n",
       "      <td>33.38</td>\n",
       "      <td>0.0</td>\n",
       "      <td>8.0</td>\n",
       "      <td>Kwartair</td>\n",
       "    </tr>\n",
       "    <tr>\n",
       "      <th>1</th>\n",
       "      <td>https://www.dov.vlaanderen.be/data/interpretat...</td>\n",
       "      <td>https://www.dov.vlaanderen.be/data/boring/1896...</td>\n",
       "      <td>NaN</td>\n",
       "      <td>goed</td>\n",
       "      <td>205952.9</td>\n",
       "      <td>205993.0</td>\n",
       "      <td>33.00</td>\n",
       "      <td>0.0</td>\n",
       "      <td>1.0</td>\n",
       "      <td>R</td>\n",
       "    </tr>\n",
       "    <tr>\n",
       "      <th>2</th>\n",
       "      <td>https://www.dov.vlaanderen.be/data/interpretat...</td>\n",
       "      <td>https://www.dov.vlaanderen.be/data/boring/1896...</td>\n",
       "      <td>NaN</td>\n",
       "      <td>goed</td>\n",
       "      <td>205952.9</td>\n",
       "      <td>205993.0</td>\n",
       "      <td>33.00</td>\n",
       "      <td>1.0</td>\n",
       "      <td>2.3</td>\n",
       "      <td>q4</td>\n",
       "    </tr>\n",
       "    <tr>\n",
       "      <th>3</th>\n",
       "      <td>https://www.dov.vlaanderen.be/data/interpretat...</td>\n",
       "      <td>https://www.dov.vlaanderen.be/data/boring/1896...</td>\n",
       "      <td>NaN</td>\n",
       "      <td>goed</td>\n",
       "      <td>205970.0</td>\n",
       "      <td>205270.5</td>\n",
       "      <td>34.00</td>\n",
       "      <td>0.0</td>\n",
       "      <td>2.3</td>\n",
       "      <td>q4</td>\n",
       "    </tr>\n",
       "  </tbody>\n",
       "</table>\n",
       "</div>"
      ],
      "text/plain": [
       "                                  pkey_interpretatie  \\\n",
       "0  https://www.dov.vlaanderen.be/data/interpretat...   \n",
       "1  https://www.dov.vlaanderen.be/data/interpretat...   \n",
       "2  https://www.dov.vlaanderen.be/data/interpretat...   \n",
       "3  https://www.dov.vlaanderen.be/data/interpretat...   \n",
       "\n",
       "                                         pkey_boring  pkey_sondering  \\\n",
       "0  https://www.dov.vlaanderen.be/data/boring/1975...             NaN   \n",
       "1  https://www.dov.vlaanderen.be/data/boring/1896...             NaN   \n",
       "2  https://www.dov.vlaanderen.be/data/boring/1896...             NaN   \n",
       "3  https://www.dov.vlaanderen.be/data/boring/1896...             NaN   \n",
       "\n",
       "  betrouwbaarheid_interpretatie         x         y  start_interpretatie_mtaw  \\\n",
       "0                          goed  205264.2  205607.5                     33.38   \n",
       "1                          goed  205952.9  205993.0                     33.00   \n",
       "2                          goed  205952.9  205993.0                     33.00   \n",
       "3                          goed  205970.0  205270.5                     34.00   \n",
       "\n",
       "   diepte_laag_van  diepte_laag_tot beschrijving  \n",
       "0              0.0              8.0     Kwartair  \n",
       "1              0.0              1.0            R  \n",
       "2              1.0              2.3           q4  \n",
       "3              0.0              2.3           q4  "
      ]
     },
     "execution_count": 12,
     "metadata": {},
     "output_type": "execute_result"
    }
   ],
   "source": [
    "from owslib.fes2 import PropertyIsEqualTo\n",
    "\n",
    "query = PropertyIsEqualTo(\n",
    "            propertyname='Type_proef',\n",
    "            literal='Boring')\n",
    "\n",
    "df = itp.search(\n",
    "    location=Within(Box(205000, 205000, 206000, 206000, epsg=31370)),\n",
    "    query=query\n",
    "    )\n",
    "\n",
    "df.head()"
   ]
  },
  {
   "cell_type": "markdown",
   "metadata": {},
   "source": [
    "We can look at one of the interpretations in a webbrowser using its *pkey_interpretatie*:"
   ]
  },
  {
   "cell_type": "code",
   "execution_count": 13,
   "metadata": {},
   "outputs": [
    {
     "name": "stdout",
     "output_type": "stream",
     "text": [
      "https://www.dov.vlaanderen.be/data/interpretatie/1975-044576\n",
      "https://www.dov.vlaanderen.be/data/interpretatie/1896-044150\n",
      "https://www.dov.vlaanderen.be/data/interpretatie/1896-044149\n"
     ]
    }
   ],
   "source": [
    "for pkey_interpretatie in set(df.pkey_interpretatie):\n",
    "    print(pkey_interpretatie)"
   ]
  },
  {
   "cell_type": "markdown",
   "metadata": {},
   "source": [
    "### Select 'informele stratigrafie' in a municipality and return date"
   ]
  },
  {
   "cell_type": "markdown",
   "metadata": {},
   "source": [
    "We can limit the columns in the output dataframe by specifying the *return_fields* parameter in our search.\n",
    "\n",
    "In this example we query all the 'informele stratigrafie' interpretations in the city of Ghent and return their date:"
   ]
  },
  {
   "cell_type": "code",
   "execution_count": 14,
   "metadata": {},
   "outputs": [
    {
     "name": "stdout",
     "output_type": "stream",
     "text": [
      "[000/001] .\n"
     ]
    },
    {
     "data": {
      "text/html": [
       "<div>\n",
       "<style scoped>\n",
       "    .dataframe tbody tr th:only-of-type {\n",
       "        vertical-align: middle;\n",
       "    }\n",
       "\n",
       "    .dataframe tbody tr th {\n",
       "        vertical-align: top;\n",
       "    }\n",
       "\n",
       "    .dataframe thead th {\n",
       "        text-align: right;\n",
       "    }\n",
       "</style>\n",
       "<table border=\"1\" class=\"dataframe\">\n",
       "  <thead>\n",
       "    <tr style=\"text-align: right;\">\n",
       "      <th></th>\n",
       "      <th>Datum</th>\n",
       "    </tr>\n",
       "  </thead>\n",
       "  <tbody>\n",
       "    <tr>\n",
       "      <th>0</th>\n",
       "      <td>1980-01-30</td>\n",
       "    </tr>\n",
       "    <tr>\n",
       "      <th>1</th>\n",
       "      <td>NaN</td>\n",
       "    </tr>\n",
       "    <tr>\n",
       "      <th>2</th>\n",
       "      <td>1981-02-25</td>\n",
       "    </tr>\n",
       "    <tr>\n",
       "      <th>3</th>\n",
       "      <td>NaN</td>\n",
       "    </tr>\n",
       "    <tr>\n",
       "      <th>4</th>\n",
       "      <td>1993-09-01</td>\n",
       "    </tr>\n",
       "  </tbody>\n",
       "</table>\n",
       "</div>"
      ],
      "text/plain": [
       "        Datum\n",
       "0  1980-01-30\n",
       "1         NaN\n",
       "2  1981-02-25\n",
       "3         NaN\n",
       "4  1993-09-01"
      ]
     },
     "execution_count": 14,
     "metadata": {},
     "output_type": "execute_result"
    }
   ],
   "source": [
    "query = PropertyIsEqualTo(propertyname='gemeente',\n",
    "                          literal='Gent')\n",
    "df = itp.search(query=query,\n",
    "                return_fields=('Datum',))\n",
    "df.head()"
   ]
  },
  {
   "cell_type": "code",
   "execution_count": 15,
   "metadata": {},
   "outputs": [
    {
     "data": {
      "text/html": [
       "<div>\n",
       "<style scoped>\n",
       "    .dataframe tbody tr th:only-of-type {\n",
       "        vertical-align: middle;\n",
       "    }\n",
       "\n",
       "    .dataframe tbody tr th {\n",
       "        vertical-align: top;\n",
       "    }\n",
       "\n",
       "    .dataframe thead th {\n",
       "        text-align: right;\n",
       "    }\n",
       "</style>\n",
       "<table border=\"1\" class=\"dataframe\">\n",
       "  <thead>\n",
       "    <tr style=\"text-align: right;\">\n",
       "      <th></th>\n",
       "      <th>Datum</th>\n",
       "    </tr>\n",
       "  </thead>\n",
       "  <tbody>\n",
       "    <tr>\n",
       "      <th>count</th>\n",
       "      <td>659</td>\n",
       "    </tr>\n",
       "    <tr>\n",
       "      <th>unique</th>\n",
       "      <td>256</td>\n",
       "    </tr>\n",
       "    <tr>\n",
       "      <th>top</th>\n",
       "      <td>1996-11-25</td>\n",
       "    </tr>\n",
       "    <tr>\n",
       "      <th>freq</th>\n",
       "      <td>41</td>\n",
       "    </tr>\n",
       "  </tbody>\n",
       "</table>\n",
       "</div>"
      ],
      "text/plain": [
       "             Datum\n",
       "count          659\n",
       "unique         256\n",
       "top     1996-11-25\n",
       "freq            41"
      ]
     },
     "execution_count": 15,
     "metadata": {},
     "output_type": "execute_result"
    }
   ],
   "source": [
    "df.describe()"
   ]
  },
  {
   "cell_type": "markdown",
   "metadata": {},
   "source": [
    "### Get 'informele stratigrafie' based on fields not available in the standard output dataframe"
   ]
  },
  {
   "cell_type": "markdown",
   "metadata": {},
   "source": [
    "To keep the output dataframe size acceptable, not all available WFS fields are included in the standard output. However, one can use this information to select interpretations as illustrated below.\n",
    "\n",
    "For example, make a selection of the interpretations in municipality the of Antwerp, before 1/1/1900:"
   ]
  },
  {
   "cell_type": "code",
   "execution_count": 16,
   "metadata": {},
   "outputs": [
    {
     "name": "stdout",
     "output_type": "stream",
     "text": [
      "[000/001] .\n"
     ]
    },
    {
     "data": {
      "text/html": [
       "<div>\n",
       "<style scoped>\n",
       "    .dataframe tbody tr th:only-of-type {\n",
       "        vertical-align: middle;\n",
       "    }\n",
       "\n",
       "    .dataframe tbody tr th {\n",
       "        vertical-align: top;\n",
       "    }\n",
       "\n",
       "    .dataframe thead th {\n",
       "        text-align: right;\n",
       "    }\n",
       "</style>\n",
       "<table border=\"1\" class=\"dataframe\">\n",
       "  <thead>\n",
       "    <tr style=\"text-align: right;\">\n",
       "      <th></th>\n",
       "      <th>pkey_interpretatie</th>\n",
       "      <th>Datum</th>\n",
       "    </tr>\n",
       "  </thead>\n",
       "  <tbody>\n",
       "    <tr>\n",
       "      <th>0</th>\n",
       "      <td>https://www.dov.vlaanderen.be/data/interpretat...</td>\n",
       "      <td>1879-08-18</td>\n",
       "    </tr>\n",
       "    <tr>\n",
       "      <th>1</th>\n",
       "      <td>https://www.dov.vlaanderen.be/data/interpretat...</td>\n",
       "      <td>1879-01-25</td>\n",
       "    </tr>\n",
       "    <tr>\n",
       "      <th>2</th>\n",
       "      <td>https://www.dov.vlaanderen.be/data/interpretat...</td>\n",
       "      <td>1894-04-27</td>\n",
       "    </tr>\n",
       "    <tr>\n",
       "      <th>3</th>\n",
       "      <td>https://www.dov.vlaanderen.be/data/interpretat...</td>\n",
       "      <td>1879-01-14</td>\n",
       "    </tr>\n",
       "    <tr>\n",
       "      <th>4</th>\n",
       "      <td>https://www.dov.vlaanderen.be/data/interpretat...</td>\n",
       "      <td>1895-04-11</td>\n",
       "    </tr>\n",
       "  </tbody>\n",
       "</table>\n",
       "</div>"
      ],
      "text/plain": [
       "                                  pkey_interpretatie       Datum\n",
       "0  https://www.dov.vlaanderen.be/data/interpretat...  1879-08-18\n",
       "1  https://www.dov.vlaanderen.be/data/interpretat...  1879-01-25\n",
       "2  https://www.dov.vlaanderen.be/data/interpretat...  1894-04-27\n",
       "3  https://www.dov.vlaanderen.be/data/interpretat...  1879-01-14\n",
       "4  https://www.dov.vlaanderen.be/data/interpretat...  1895-04-11"
      ]
     },
     "execution_count": 16,
     "metadata": {},
     "output_type": "execute_result"
    }
   ],
   "source": [
    "from owslib.fes2 import And, PropertyIsEqualTo, PropertyIsLessThan\n",
    "\n",
    "query = And([PropertyIsEqualTo(propertyname='gemeente',\n",
    "                               literal='Antwerpen'),\n",
    "             PropertyIsLessThan(propertyname='Datum', \n",
    "                                 literal='1900-01-01')]\n",
    "            )\n",
    "df = itp.search(query=query,\n",
    "                return_fields=('pkey_interpretatie', 'Datum'))\n",
    "df.head()"
   ]
  },
  {
   "cell_type": "markdown",
   "metadata": {},
   "source": [
    "### Get 'informele stratigrafie' data, returning fields not available in the standard output dataframe"
   ]
  },
  {
   "cell_type": "markdown",
   "metadata": {},
   "source": [
    "As denoted in the previous example, not all available fields are available in the default output frame to keep its size limited. However, you can request any available field by including it in the *return_fields* parameter of the search:"
   ]
  },
  {
   "cell_type": "code",
   "execution_count": 17,
   "metadata": {},
   "outputs": [
    {
     "name": "stdout",
     "output_type": "stream",
     "text": [
      "[000/001] .\n"
     ]
    },
    {
     "data": {
      "text/html": [
       "<div>\n",
       "<style scoped>\n",
       "    .dataframe tbody tr th:only-of-type {\n",
       "        vertical-align: middle;\n",
       "    }\n",
       "\n",
       "    .dataframe tbody tr th {\n",
       "        vertical-align: top;\n",
       "    }\n",
       "\n",
       "    .dataframe thead th {\n",
       "        text-align: right;\n",
       "    }\n",
       "</style>\n",
       "<table border=\"1\" class=\"dataframe\">\n",
       "  <thead>\n",
       "    <tr style=\"text-align: right;\">\n",
       "      <th></th>\n",
       "      <th>pkey_interpretatie</th>\n",
       "      <th>pkey_boring</th>\n",
       "      <th>pkey_sondering</th>\n",
       "      <th>x</th>\n",
       "      <th>y</th>\n",
       "      <th>start_interpretatie_mtaw</th>\n",
       "      <th>gemeente</th>\n",
       "      <th>Auteurs</th>\n",
       "      <th>Proefnummer</th>\n",
       "    </tr>\n",
       "  </thead>\n",
       "  <tbody>\n",
       "    <tr>\n",
       "      <th>0</th>\n",
       "      <td>https://www.dov.vlaanderen.be/data/interpretat...</td>\n",
       "      <td>https://www.dov.vlaanderen.be/data/boring/1993...</td>\n",
       "      <td>NaN</td>\n",
       "      <td>224820.0</td>\n",
       "      <td>157794.0</td>\n",
       "      <td>132.0</td>\n",
       "      <td>Herstappe</td>\n",
       "      <td>Boormeester,  - bedrijf-dienst onbekend</td>\n",
       "      <td>kb41d120e-B1027</td>\n",
       "    </tr>\n",
       "    <tr>\n",
       "      <th>1</th>\n",
       "      <td>https://www.dov.vlaanderen.be/data/interpretat...</td>\n",
       "      <td>https://www.dov.vlaanderen.be/data/boring/2016...</td>\n",
       "      <td>NaN</td>\n",
       "      <td>224687.4</td>\n",
       "      <td>158191.0</td>\n",
       "      <td>124.0</td>\n",
       "      <td>Herstappe</td>\n",
       "      <td>Rutot, A. - Belgische Geologische Dienst (BGD)</td>\n",
       "      <td>kb33d106e-B236</td>\n",
       "    </tr>\n",
       "    <tr>\n",
       "      <th>2</th>\n",
       "      <td>https://www.dov.vlaanderen.be/data/interpretat...</td>\n",
       "      <td>https://www.dov.vlaanderen.be/data/boring/1993...</td>\n",
       "      <td>NaN</td>\n",
       "      <td>224820.0</td>\n",
       "      <td>157794.0</td>\n",
       "      <td>132.0</td>\n",
       "      <td>Herstappe</td>\n",
       "      <td>Lagrou, David - VLAKO</td>\n",
       "      <td>kb41d120e-B1027</td>\n",
       "    </tr>\n",
       "  </tbody>\n",
       "</table>\n",
       "</div>"
      ],
      "text/plain": [
       "                                  pkey_interpretatie  \\\n",
       "0  https://www.dov.vlaanderen.be/data/interpretat...   \n",
       "1  https://www.dov.vlaanderen.be/data/interpretat...   \n",
       "2  https://www.dov.vlaanderen.be/data/interpretat...   \n",
       "\n",
       "                                         pkey_boring  pkey_sondering  \\\n",
       "0  https://www.dov.vlaanderen.be/data/boring/1993...             NaN   \n",
       "1  https://www.dov.vlaanderen.be/data/boring/2016...             NaN   \n",
       "2  https://www.dov.vlaanderen.be/data/boring/1993...             NaN   \n",
       "\n",
       "          x         y  start_interpretatie_mtaw   gemeente  \\\n",
       "0  224820.0  157794.0                     132.0  Herstappe   \n",
       "1  224687.4  158191.0                     124.0  Herstappe   \n",
       "2  224820.0  157794.0                     132.0  Herstappe   \n",
       "\n",
       "                                          Auteurs      Proefnummer  \n",
       "0         Boormeester,  - bedrijf-dienst onbekend  kb41d120e-B1027  \n",
       "1  Rutot, A. - Belgische Geologische Dienst (BGD)   kb33d106e-B236  \n",
       "2                           Lagrou, David - VLAKO  kb41d120e-B1027  "
      ]
     },
     "execution_count": 17,
     "metadata": {},
     "output_type": "execute_result"
    }
   ],
   "source": [
    "query = PropertyIsEqualTo(\n",
    "            propertyname='gemeente',\n",
    "            literal='Herstappe')\n",
    "\n",
    "df = itp.search(query=query,\n",
    "                return_fields=('pkey_interpretatie', 'pkey_boring', 'pkey_sondering',\n",
    "                               'x', 'y', 'start_interpretatie_mtaw', 'gemeente', 'Auteurs', 'Proefnummer'))\n",
    "\n",
    "df.head()"
   ]
  },
  {
   "cell_type": "markdown",
   "metadata": {},
   "source": [
    "## Visualize results"
   ]
  },
  {
   "cell_type": "markdown",
   "metadata": {},
   "source": [
    "Using Folium, we can display the results of our search on a map."
   ]
  },
  {
   "cell_type": "code",
   "execution_count": 18,
   "metadata": {},
   "outputs": [],
   "source": [
    "# import the necessary modules (not included in the requirements of pydov!)\n",
    "import folium\n",
    "from folium.plugins import MarkerCluster\n",
    "from pyproj import Transformer"
   ]
  },
  {
   "cell_type": "code",
   "execution_count": 19,
   "metadata": {},
   "outputs": [],
   "source": [
    "# convert the coordinates to lat/lon for folium\n",
    "def convert_latlon(x1, y1):\n",
    "    transformer = Transformer.from_crs(\"epsg:31370\", \"epsg:4326\", always_xy=True)\n",
    "    x2,y2 = transformer.transform(x1, y1)\n",
    "    return x2, y2\n",
    "\n",
    "df['lon'], df['lat'] = zip(*map(convert_latlon, df['x'], df['y'])) \n",
    "# convert to list\n",
    "loclist = df[['lat', 'lon']].values.tolist()"
   ]
  },
  {
   "cell_type": "code",
   "execution_count": 20,
   "metadata": {},
   "outputs": [
    {
     "data": {
      "text/html": [
       "<div style=\"width:100%;\"><div style=\"position:relative;width:100%;height:0;padding-bottom:60%;\"><span style=\"color:#565656\">Make this Notebook Trusted to load map: File -> Trust Notebook</span><iframe srcdoc=\"&lt;!DOCTYPE html&gt;\n",
       "&lt;html&gt;\n",
       "&lt;head&gt;\n",
       "    \n",
       "    &lt;meta http-equiv=&quot;content-type&quot; content=&quot;text/html; charset=UTF-8&quot; /&gt;\n",
       "    \n",
       "        &lt;script&gt;\n",
       "            L_NO_TOUCH = false;\n",
       "            L_DISABLE_3D = false;\n",
       "        &lt;/script&gt;\n",
       "    \n",
       "    &lt;style&gt;html, body {width: 100%;height: 100%;margin: 0;padding: 0;}&lt;/style&gt;\n",
       "    &lt;style&gt;#map {position:absolute;top:0;bottom:0;right:0;left:0;}&lt;/style&gt;\n",
       "    &lt;script src=&quot;https://cdn.jsdelivr.net/npm/leaflet@1.9.3/dist/leaflet.js&quot;&gt;&lt;/script&gt;\n",
       "    &lt;script src=&quot;https://code.jquery.com/jquery-1.12.4.min.js&quot;&gt;&lt;/script&gt;\n",
       "    &lt;script src=&quot;https://cdn.jsdelivr.net/npm/bootstrap@5.2.2/dist/js/bootstrap.bundle.min.js&quot;&gt;&lt;/script&gt;\n",
       "    &lt;script src=&quot;https://cdnjs.cloudflare.com/ajax/libs/Leaflet.awesome-markers/2.0.2/leaflet.awesome-markers.js&quot;&gt;&lt;/script&gt;\n",
       "    &lt;link rel=&quot;stylesheet&quot; href=&quot;https://cdn.jsdelivr.net/npm/leaflet@1.9.3/dist/leaflet.css&quot;/&gt;\n",
       "    &lt;link rel=&quot;stylesheet&quot; href=&quot;https://cdn.jsdelivr.net/npm/bootstrap@5.2.2/dist/css/bootstrap.min.css&quot;/&gt;\n",
       "    &lt;link rel=&quot;stylesheet&quot; href=&quot;https://netdna.bootstrapcdn.com/bootstrap/3.0.0/css/bootstrap.min.css&quot;/&gt;\n",
       "    &lt;link rel=&quot;stylesheet&quot; href=&quot;https://cdn.jsdelivr.net/npm/@fortawesome/fontawesome-free@6.2.0/css/all.min.css&quot;/&gt;\n",
       "    &lt;link rel=&quot;stylesheet&quot; href=&quot;https://cdnjs.cloudflare.com/ajax/libs/Leaflet.awesome-markers/2.0.2/leaflet.awesome-markers.css&quot;/&gt;\n",
       "    &lt;link rel=&quot;stylesheet&quot; href=&quot;https://cdn.jsdelivr.net/gh/python-visualization/folium/folium/templates/leaflet.awesome.rotate.min.css&quot;/&gt;\n",
       "    \n",
       "            &lt;meta name=&quot;viewport&quot; content=&quot;width=device-width,\n",
       "                initial-scale=1.0, maximum-scale=1.0, user-scalable=no&quot; /&gt;\n",
       "            &lt;style&gt;\n",
       "                #map_4349b673c8111cbbbcbe0b09d4bf503d {\n",
       "                    position: relative;\n",
       "                    width: 100.0%;\n",
       "                    height: 100.0%;\n",
       "                    left: 0.0%;\n",
       "                    top: 0.0%;\n",
       "                }\n",
       "                .leaflet-container { font-size: 1rem; }\n",
       "            &lt;/style&gt;\n",
       "        \n",
       "    &lt;script src=&quot;https://cdnjs.cloudflare.com/ajax/libs/leaflet.markercluster/1.1.0/leaflet.markercluster.js&quot;&gt;&lt;/script&gt;\n",
       "    &lt;link rel=&quot;stylesheet&quot; href=&quot;https://cdnjs.cloudflare.com/ajax/libs/leaflet.markercluster/1.1.0/MarkerCluster.css&quot;/&gt;\n",
       "    &lt;link rel=&quot;stylesheet&quot; href=&quot;https://cdnjs.cloudflare.com/ajax/libs/leaflet.markercluster/1.1.0/MarkerCluster.Default.css&quot;/&gt;\n",
       "&lt;/head&gt;\n",
       "&lt;body&gt;\n",
       "    \n",
       "    \n",
       "            &lt;div class=&quot;folium-map&quot; id=&quot;map_4349b673c8111cbbbcbe0b09d4bf503d&quot; &gt;&lt;/div&gt;\n",
       "        \n",
       "&lt;/body&gt;\n",
       "&lt;script&gt;\n",
       "    \n",
       "    \n",
       "            var map_4349b673c8111cbbbcbe0b09d4bf503d = L.map(\n",
       "                &quot;map_4349b673c8111cbbbcbe0b09d4bf503d&quot;,\n",
       "                {\n",
       "                    center: [50.727072685723414, 5.427857906342159],\n",
       "                    crs: L.CRS.EPSG3857,\n",
       "                    zoom: 12,\n",
       "                    zoomControl: true,\n",
       "                    preferCanvas: false,\n",
       "                }\n",
       "            );\n",
       "\n",
       "            \n",
       "\n",
       "        \n",
       "    \n",
       "            var tile_layer_95361271d18cfc1e43dee4755c508354 = L.tileLayer(\n",
       "                &quot;https://{s}.tile.openstreetmap.org/{z}/{x}/{y}.png&quot;,\n",
       "                {&quot;attribution&quot;: &quot;Data by \\u0026copy; \\u003ca target=\\&quot;_blank\\&quot; href=\\&quot;http://openstreetmap.org\\&quot;\\u003eOpenStreetMap\\u003c/a\\u003e, under \\u003ca target=\\&quot;_blank\\&quot; href=\\&quot;http://www.openstreetmap.org/copyright\\&quot;\\u003eODbL\\u003c/a\\u003e.&quot;, &quot;detectRetina&quot;: false, &quot;maxNativeZoom&quot;: 18, &quot;maxZoom&quot;: 18, &quot;minZoom&quot;: 0, &quot;noWrap&quot;: false, &quot;opacity&quot;: 1, &quot;subdomains&quot;: &quot;abc&quot;, &quot;tms&quot;: false}\n",
       "            ).addTo(map_4349b673c8111cbbbcbe0b09d4bf503d);\n",
       "        \n",
       "    \n",
       "            var marker_cluster_b644bb4f9c457b3bb959b1a92ea19925 = L.markerClusterGroup(\n",
       "                {}\n",
       "            );\n",
       "            map_4349b673c8111cbbbcbe0b09d4bf503d.addLayer(marker_cluster_b644bb4f9c457b3bb959b1a92ea19925);\n",
       "        \n",
       "    \n",
       "            var marker_8848b29b3331f7c69339b9f0e4b20b81 = L.marker(\n",
       "                [50.72587748858335, 5.428457124595979],\n",
       "                {}\n",
       "            ).addTo(marker_cluster_b644bb4f9c457b3bb959b1a92ea19925);\n",
       "        \n",
       "    \n",
       "        var popup_b856347e544171351558b68508156cde = L.popup({&quot;maxWidth&quot;: &quot;100%&quot;});\n",
       "\n",
       "        \n",
       "            \n",
       "                var html_f34ab6b8e74fdadd7cbad018f507be87 = $(`&lt;div id=&quot;html_f34ab6b8e74fdadd7cbad018f507be87&quot; style=&quot;width: 100.0%; height: 100.0%;&quot;&gt;kb41d120e-B1027&lt;/div&gt;`)[0];\n",
       "                popup_b856347e544171351558b68508156cde.setContent(html_f34ab6b8e74fdadd7cbad018f507be87);\n",
       "            \n",
       "        \n",
       "\n",
       "        marker_8848b29b3331f7c69339b9f0e4b20b81.bindPopup(popup_b856347e544171351558b68508156cde)\n",
       "        ;\n",
       "\n",
       "        \n",
       "    \n",
       "    \n",
       "            var marker_827e056e8a6bee278daa9ff59258f43e = L.marker(\n",
       "                [50.72946308000354, 5.426659469834521],\n",
       "                {}\n",
       "            ).addTo(marker_cluster_b644bb4f9c457b3bb959b1a92ea19925);\n",
       "        \n",
       "    \n",
       "        var popup_3f959214e21765a47cd994adda583ebc = L.popup({&quot;maxWidth&quot;: &quot;100%&quot;});\n",
       "\n",
       "        \n",
       "            \n",
       "                var html_b7e860e416c2171e46c5cc029590fdfe = $(`&lt;div id=&quot;html_b7e860e416c2171e46c5cc029590fdfe&quot; style=&quot;width: 100.0%; height: 100.0%;&quot;&gt;kb33d106e-B236&lt;/div&gt;`)[0];\n",
       "                popup_3f959214e21765a47cd994adda583ebc.setContent(html_b7e860e416c2171e46c5cc029590fdfe);\n",
       "            \n",
       "        \n",
       "\n",
       "        marker_827e056e8a6bee278daa9ff59258f43e.bindPopup(popup_3f959214e21765a47cd994adda583ebc)\n",
       "        ;\n",
       "\n",
       "        \n",
       "    \n",
       "    \n",
       "            var marker_3779fd313688880f3fd3ab8f958a2ce3 = L.marker(\n",
       "                [50.72587748858335, 5.428457124595979],\n",
       "                {}\n",
       "            ).addTo(marker_cluster_b644bb4f9c457b3bb959b1a92ea19925);\n",
       "        \n",
       "    \n",
       "        var popup_26fed23682dd9783aa436790beeec74a = L.popup({&quot;maxWidth&quot;: &quot;100%&quot;});\n",
       "\n",
       "        \n",
       "            \n",
       "                var html_49cf850ca19ca31cc11e946c9da1b24d = $(`&lt;div id=&quot;html_49cf850ca19ca31cc11e946c9da1b24d&quot; style=&quot;width: 100.0%; height: 100.0%;&quot;&gt;kb41d120e-B1027&lt;/div&gt;`)[0];\n",
       "                popup_26fed23682dd9783aa436790beeec74a.setContent(html_49cf850ca19ca31cc11e946c9da1b24d);\n",
       "            \n",
       "        \n",
       "\n",
       "        marker_3779fd313688880f3fd3ab8f958a2ce3.bindPopup(popup_26fed23682dd9783aa436790beeec74a)\n",
       "        ;\n",
       "\n",
       "        \n",
       "    \n",
       "&lt;/script&gt;\n",
       "&lt;/html&gt;\" style=\"position:absolute;width:100%;height:100%;left:0;top:0;border:none !important;\" allowfullscreen webkitallowfullscreen mozallowfullscreen></iframe></div></div>"
      ],
      "text/plain": [
       "<folium.folium.Map at 0x7f85e85c16f0>"
      ]
     },
     "execution_count": 20,
     "metadata": {},
     "output_type": "execute_result"
    }
   ],
   "source": [
    "# initialize the Folium map on the centre of the selected locations, play with the zoom until ok\n",
    "fmap = folium.Map(location=[df['lat'].mean(), df['lon'].mean()], zoom_start=12)\n",
    "marker_cluster = MarkerCluster().add_to(fmap)\n",
    "for loc in range(0, len(loclist)):\n",
    "    folium.Marker(loclist[loc], popup=df['Proefnummer'][loc]).add_to(marker_cluster)\n",
    "fmap\n"
   ]
  }
 ],
 "metadata": {
  "kernelspec": {
   "display_name": "Python 3 (ipykernel)",
   "language": "python",
   "name": "python3"
  },
  "language_info": {
   "codemirror_mode": {
    "name": "ipython",
    "version": 3
   },
   "file_extension": ".py",
   "mimetype": "text/x-python",
   "name": "python",
   "nbconvert_exporter": "python",
   "pygments_lexer": "ipython3",
   "version": "3.11.9"
  },
  "vscode": {
   "interpreter": {
    "hash": "a0d0e535e2a0c7ed2e54797a9491172418d0a0d8405efa8941f8f8b45b28ad7d"
   }
  }
 },
 "nbformat": 4,
 "nbformat_minor": 4
}
