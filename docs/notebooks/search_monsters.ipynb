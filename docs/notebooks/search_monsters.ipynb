{
 "cells": [
  {
   "cell_type": "markdown",
   "metadata": {},
   "source": [
    "# Example of DOV search methods for samples (monsters)"
   ]
  },
  {
   "cell_type": "markdown",
   "metadata": {},
   "source": [
    "[![Binder](https://mybinder.org/badge_logo.svg)](https://mybinder.org/v2/gh/DOV-Vlaanderen/pydov/master?filepath=docs%2Fnotebooks%2Fsearch_grondmonsters.ipynb)"
   ]
  },
  {
   "cell_type": "markdown",
   "metadata": {},
   "source": [
    "## Use cases explained below\n",
    "* Get samples in a bounding box\n",
    "* Get samples in a bounding box based on specific properties\n",
    "* Get sample based on fields not available in the standard output dataframe\n",
    "* Get a boxplot with the depth distribution of samples with sampling instrument 'steekbuis'\n",
    "* Finding the boreholes associated with the monsters and visualize results\n",
    "* Adding the sampled object to the monster dataframe"
   ]
  },
  {
   "cell_type": "code",
   "execution_count": 38,
   "metadata": {},
   "outputs": [],
   "source": [
    "%matplotlib inline\n",
    "import inspect, sys"
   ]
  },
  {
   "cell_type": "code",
   "execution_count": 39,
   "metadata": {},
   "outputs": [],
   "source": [
    "# check pydov path\n",
    "import pydov"
   ]
  },
  {
   "cell_type": "markdown",
   "metadata": {},
   "source": [
    "## Get information about the datatype 'Monster'"
   ]
  },
  {
   "cell_type": "code",
   "execution_count": 40,
   "metadata": {},
   "outputs": [],
   "source": [
    "from pydov.search.monster import MonsterSearch\n",
    "monster = MonsterSearch()"
   ]
  },
  {
   "cell_type": "markdown",
   "metadata": {},
   "source": [
    "A description is provided for the 'Monster' datatype:"
   ]
  },
  {
   "cell_type": "code",
   "execution_count": 41,
   "metadata": {},
   "outputs": [
    {
     "name": "stdout",
     "output_type": "stream",
     "text": [
      "Monsters in DOV zijn monsters die gekoppeld zijn aan een boring. Deze monsters zijn gekenmerkt door een diepte ten opzichte van het maaiveld en door de manier van staalname. De geografische ligging (X en Y (mL72) en Z (mTAW)) nemen ze over van de gekoppelde boring. Aan deze monsters zijn laboproeven, namelijk resultaten afkomstig van analyses in het laboratorium of enkel referenties naar bepaalde analyses, gekoppeld. De analyseresultaten van de monsters kunnen zeer divers zijn, namelijk onderkenningsproeven met centraal de korrelgrootteverdeling maar ook plasticiteitsgrenzen en humus- en kalkgehalte, metingen van volumemassa- en watergehalte en referenties van doorlatendheid, samendrukbaarheid en schuifweerstandkarakteristieken, glauconietgehalte en steenkoolanalyses. De gegevens van de monsters en de laboresultaten kunnen worden geëxporteerd in een rapport.\n"
     ]
    }
   ],
   "source": [
    "print(monster.get_description())"
   ]
  },
  {
   "cell_type": "markdown",
   "metadata": {},
   "source": [
    "The different fields that are available for objects of the 'Grondmonster' datatype can be requested with the get_fields() method:"
   ]
  },
  {
   "cell_type": "code",
   "execution_count": 42,
   "metadata": {},
   "outputs": [
    {
     "name": "stdout",
     "output_type": "stream",
     "text": [
      "id\n",
      "naam\n",
      "pkey_monster\n",
      "gekoppeld_aan\n",
      "pkey_parents\n",
      "materiaalklasse\n",
      "diepte_van_m\n",
      "diepte_tot_m\n",
      "observaties\n",
      "datum_monstername\n",
      "monstersamenstelling\n",
      "monstertype\n",
      "bemonsteringsprocedure\n",
      "bemonsteringsinstrument\n",
      "bemonstering_door\n",
      "opmerkingen\n",
      "opslaglocatie\n",
      "opdracht\n",
      "permkey_monster\n",
      "geom\n"
     ]
    }
   ],
   "source": [
    "fields = monster.get_fields()\n",
    "\n",
    "# print available fields\n",
    "for f in fields.values():\n",
    "    print(f['name'])"
   ]
  },
  {
   "cell_type": "markdown",
   "metadata": {},
   "source": [
    "You can get more information of a field by requesting it from the fields dictionary:\n",
    "* *name*: name of the field\n",
    "* *definition*: definition of this field\n",
    "* *cost*: currently this is either 1 or 10, depending on the datasource of the field. It is an indication of the expected time it will take to retrieve this field in the output dataframe.\n",
    "* *notnull*: whether the field is mandatory or not\n",
    "* *type*: datatype of the values of this field"
   ]
  },
  {
   "cell_type": "code",
   "execution_count": 43,
   "metadata": {},
   "outputs": [
    {
     "data": {
      "text/plain": [
       "{'name': 'materiaalklasse',\n",
       " 'definition': 'aan te vullen',\n",
       " 'type': 'string',\n",
       " 'list': False,\n",
       " 'notnull': False,\n",
       " 'query': True,\n",
       " 'cost': 1}"
      ]
     },
     "execution_count": 43,
     "metadata": {},
     "output_type": "execute_result"
    }
   ],
   "source": [
    "fields['materiaalklasse']"
   ]
  },
  {
   "cell_type": "markdown",
   "metadata": {},
   "source": [
    "## Example use cases"
   ]
  },
  {
   "cell_type": "markdown",
   "metadata": {},
   "source": [
    "### Get samples in a bounding box"
   ]
  },
  {
   "cell_type": "markdown",
   "metadata": {},
   "source": [
    "Get data for all the samples that are geographically located within the bounds of the specified box.\n",
    "\n",
    "The coordinates are in the Belgian Lambert72 (EPSG:31370) coordinate system and are given in the order of lower left x, lower left y, upper right x, upper right y."
   ]
  },
  {
   "cell_type": "code",
   "execution_count": 44,
   "metadata": {},
   "outputs": [
    {
     "name": "stdout",
     "output_type": "stream",
     "text": [
      "[000/001] .\n"
     ]
    },
    {
     "data": {
      "text/html": [
       "<div>\n",
       "<style scoped>\n",
       "    .dataframe tbody tr th:only-of-type {\n",
       "        vertical-align: middle;\n",
       "    }\n",
       "\n",
       "    .dataframe tbody tr th {\n",
       "        vertical-align: top;\n",
       "    }\n",
       "\n",
       "    .dataframe thead th {\n",
       "        text-align: right;\n",
       "    }\n",
       "</style>\n",
       "<table border=\"1\" class=\"dataframe\">\n",
       "  <thead>\n",
       "    <tr style=\"text-align: right;\">\n",
       "      <th></th>\n",
       "      <th>pkey_monster</th>\n",
       "      <th>naam</th>\n",
       "      <th>pkey_parents</th>\n",
       "      <th>materiaalklasse</th>\n",
       "      <th>datum_monstername</th>\n",
       "      <th>diepte_van_m</th>\n",
       "      <th>diepte_tot_m</th>\n",
       "      <th>monstertype</th>\n",
       "      <th>monstersamenstelling</th>\n",
       "      <th>bemonsteringsprocedure</th>\n",
       "      <th>bemonsteringsinstrument</th>\n",
       "      <th>bemonstering_door</th>\n",
       "    </tr>\n",
       "  </thead>\n",
       "  <tbody>\n",
       "    <tr>\n",
       "      <th>0</th>\n",
       "      <td>https://oefen.dov.vlaanderen.be/data/monster/2...</td>\n",
       "      <td>12</td>\n",
       "      <td>[https://oefen.dov.vlaanderen.be/data/boring/2...</td>\n",
       "      <td>sediment</td>\n",
       "      <td>2002-03-04</td>\n",
       "      <td>5.50</td>\n",
       "      <td>6.00</td>\n",
       "      <td>ongeroerd</td>\n",
       "      <td>ENKELVOUDIG</td>\n",
       "      <td>NaN</td>\n",
       "      <td>steekbus</td>\n",
       "      <td>MVG - Afdeling Geotechniek</td>\n",
       "    </tr>\n",
       "    <tr>\n",
       "      <th>1</th>\n",
       "      <td>https://oefen.dov.vlaanderen.be/data/monster/2...</td>\n",
       "      <td>16A</td>\n",
       "      <td>[https://oefen.dov.vlaanderen.be/data/boring/2...</td>\n",
       "      <td>sediment</td>\n",
       "      <td>2002-03-04</td>\n",
       "      <td>7.00</td>\n",
       "      <td>7.12</td>\n",
       "      <td>ongeroerd</td>\n",
       "      <td>ENKELVOUDIG</td>\n",
       "      <td>NaN</td>\n",
       "      <td>steekbus</td>\n",
       "      <td>MVG - Afdeling Geotechniek</td>\n",
       "    </tr>\n",
       "    <tr>\n",
       "      <th>2</th>\n",
       "      <td>https://oefen.dov.vlaanderen.be/data/monster/2...</td>\n",
       "      <td>16B</td>\n",
       "      <td>[https://oefen.dov.vlaanderen.be/data/boring/2...</td>\n",
       "      <td>sediment</td>\n",
       "      <td>2002-03-04</td>\n",
       "      <td>7.12</td>\n",
       "      <td>7.27</td>\n",
       "      <td>ongeroerd</td>\n",
       "      <td>ENKELVOUDIG</td>\n",
       "      <td>NaN</td>\n",
       "      <td>steekbus</td>\n",
       "      <td>MVG - Afdeling Geotechniek</td>\n",
       "    </tr>\n",
       "    <tr>\n",
       "      <th>3</th>\n",
       "      <td>https://oefen.dov.vlaanderen.be/data/monster/2...</td>\n",
       "      <td>16C</td>\n",
       "      <td>[https://oefen.dov.vlaanderen.be/data/boring/2...</td>\n",
       "      <td>sediment</td>\n",
       "      <td>2002-03-04</td>\n",
       "      <td>7.27</td>\n",
       "      <td>7.43</td>\n",
       "      <td>ongeroerd</td>\n",
       "      <td>ENKELVOUDIG</td>\n",
       "      <td>NaN</td>\n",
       "      <td>steekbus</td>\n",
       "      <td>MVG - Afdeling Geotechniek</td>\n",
       "    </tr>\n",
       "    <tr>\n",
       "      <th>4</th>\n",
       "      <td>https://oefen.dov.vlaanderen.be/data/monster/2...</td>\n",
       "      <td>16D</td>\n",
       "      <td>[https://oefen.dov.vlaanderen.be/data/boring/2...</td>\n",
       "      <td>sediment</td>\n",
       "      <td>2002-03-04</td>\n",
       "      <td>7.43</td>\n",
       "      <td>7.50</td>\n",
       "      <td>ongeroerd</td>\n",
       "      <td>ENKELVOUDIG</td>\n",
       "      <td>NaN</td>\n",
       "      <td>steekbus</td>\n",
       "      <td>MVG - Afdeling Geotechniek</td>\n",
       "    </tr>\n",
       "  </tbody>\n",
       "</table>\n",
       "</div>"
      ],
      "text/plain": [
       "                                        pkey_monster naam  \\\n",
       "0  https://oefen.dov.vlaanderen.be/data/monster/2...   12   \n",
       "1  https://oefen.dov.vlaanderen.be/data/monster/2...  16A   \n",
       "2  https://oefen.dov.vlaanderen.be/data/monster/2...  16B   \n",
       "3  https://oefen.dov.vlaanderen.be/data/monster/2...  16C   \n",
       "4  https://oefen.dov.vlaanderen.be/data/monster/2...  16D   \n",
       "\n",
       "                                        pkey_parents materiaalklasse  \\\n",
       "0  [https://oefen.dov.vlaanderen.be/data/boring/2...        sediment   \n",
       "1  [https://oefen.dov.vlaanderen.be/data/boring/2...        sediment   \n",
       "2  [https://oefen.dov.vlaanderen.be/data/boring/2...        sediment   \n",
       "3  [https://oefen.dov.vlaanderen.be/data/boring/2...        sediment   \n",
       "4  [https://oefen.dov.vlaanderen.be/data/boring/2...        sediment   \n",
       "\n",
       "  datum_monstername  diepte_van_m  diepte_tot_m monstertype  \\\n",
       "0        2002-03-04          5.50          6.00   ongeroerd   \n",
       "1        2002-03-04          7.00          7.12   ongeroerd   \n",
       "2        2002-03-04          7.12          7.27   ongeroerd   \n",
       "3        2002-03-04          7.27          7.43   ongeroerd   \n",
       "4        2002-03-04          7.43          7.50   ongeroerd   \n",
       "\n",
       "  monstersamenstelling bemonsteringsprocedure bemonsteringsinstrument  \\\n",
       "0          ENKELVOUDIG                    NaN                steekbus   \n",
       "1          ENKELVOUDIG                    NaN                steekbus   \n",
       "2          ENKELVOUDIG                    NaN                steekbus   \n",
       "3          ENKELVOUDIG                    NaN                steekbus   \n",
       "4          ENKELVOUDIG                    NaN                steekbus   \n",
       "\n",
       "            bemonstering_door  \n",
       "0  MVG - Afdeling Geotechniek  \n",
       "1  MVG - Afdeling Geotechniek  \n",
       "2  MVG - Afdeling Geotechniek  \n",
       "3  MVG - Afdeling Geotechniek  \n",
       "4  MVG - Afdeling Geotechniek  "
      ]
     },
     "execution_count": 44,
     "metadata": {},
     "output_type": "execute_result"
    }
   ],
   "source": [
    "from pydov.util.location import Within, Box\n",
    "\n",
    "df = monster.search(location=Within(Box(122000, 187000, 124000, 189000)))\n",
    "df.head()"
   ]
  },
  {
   "cell_type": "markdown",
   "metadata": {},
   "source": [
    "The dataframe contains samples. The available data are flattened to represent unique attributes per row of the dataframe.\n",
    "\n",
    "Using the *pkey_monster* field one can request the details of this sample in a webbrowser:\n",
    "https://www.dov.vlaanderen.be/data/grondmonster/*pkey_monster*"
   ]
  },
  {
   "cell_type": "code",
   "execution_count": 45,
   "metadata": {},
   "outputs": [
    {
     "name": "stdout",
     "output_type": "stream",
     "text": [
      "https://oefen.dov.vlaanderen.be/data/monster/2017-180446\n"
     ]
    }
   ],
   "source": [
    "for pkey_monster in set(df.loc[df.naam == '16C'].pkey_monster):\n",
    "    print(pkey_monster)"
   ]
  },
  {
   "cell_type": "markdown",
   "metadata": {},
   "source": [
    "### Get samples with specific properties"
   ]
  },
  {
   "cell_type": "markdown",
   "metadata": {},
   "source": [
    "Next to querying samples based on their geographic location within a bounding box, we can also search for borehole samples matching a specific set of properties. For this we can build a query using a combination of the 'Monster' fields and operators provided by the WFS protocol.\n",
    "\n",
    "A list of possible operators can be found below:"
   ]
  },
  {
   "cell_type": "code",
   "execution_count": 46,
   "metadata": {},
   "outputs": [
    {
     "data": {
      "text/plain": [
       "['PropertyIsBetween',\n",
       " 'PropertyIsEqualTo',\n",
       " 'PropertyIsGreaterThan',\n",
       " 'PropertyIsGreaterThanOrEqualTo',\n",
       " 'PropertyIsLessThan',\n",
       " 'PropertyIsLessThanOrEqualTo',\n",
       " 'PropertyIsLike',\n",
       " 'PropertyIsNotEqualTo',\n",
       " 'PropertyIsNull',\n",
       " 'SortProperty']"
      ]
     },
     "execution_count": 46,
     "metadata": {},
     "output_type": "execute_result"
    }
   ],
   "source": [
    "[i for i,j in inspect.getmembers(sys.modules['owslib.fes2'], inspect.isclass) if 'Property' in i]"
   ]
  },
  {
   "cell_type": "markdown",
   "metadata": {},
   "source": [
    "In this example we build a query using the *PropertyIsEqualTo* operator to find all boreholes that are within the community (gemeente) of 'Wichelen':"
   ]
  },
  {
   "cell_type": "code",
   "execution_count": 47,
   "metadata": {},
   "outputs": [
    {
     "name": "stdout",
     "output_type": "stream",
     "text": [
      "[000/001] .\n"
     ]
    },
    {
     "data": {
      "text/html": [
       "<div>\n",
       "<style scoped>\n",
       "    .dataframe tbody tr th:only-of-type {\n",
       "        vertical-align: middle;\n",
       "    }\n",
       "\n",
       "    .dataframe tbody tr th {\n",
       "        vertical-align: top;\n",
       "    }\n",
       "\n",
       "    .dataframe thead th {\n",
       "        text-align: right;\n",
       "    }\n",
       "</style>\n",
       "<table border=\"1\" class=\"dataframe\">\n",
       "  <thead>\n",
       "    <tr style=\"text-align: right;\">\n",
       "      <th></th>\n",
       "      <th>pkey_monster</th>\n",
       "      <th>naam</th>\n",
       "      <th>pkey_parents</th>\n",
       "      <th>materiaalklasse</th>\n",
       "      <th>datum_monstername</th>\n",
       "      <th>diepte_van_m</th>\n",
       "      <th>diepte_tot_m</th>\n",
       "      <th>monstertype</th>\n",
       "      <th>monstersamenstelling</th>\n",
       "      <th>bemonsteringsprocedure</th>\n",
       "      <th>bemonsteringsinstrument</th>\n",
       "      <th>bemonstering_door</th>\n",
       "    </tr>\n",
       "  </thead>\n",
       "  <tbody>\n",
       "    <tr>\n",
       "      <th>0</th>\n",
       "      <td>https://oefen.dov.vlaanderen.be/data/monster/2...</td>\n",
       "      <td>1</td>\n",
       "      <td>[https://oefen.dov.vlaanderen.be/data/boring/1...</td>\n",
       "      <td>sediment</td>\n",
       "      <td>1971-04-01</td>\n",
       "      <td>1.0</td>\n",
       "      <td>1.14</td>\n",
       "      <td>ongeroerd</td>\n",
       "      <td>ENKELVOUDIG</td>\n",
       "      <td>NaN</td>\n",
       "      <td>steekbus</td>\n",
       "      <td>Rijksinstituut voor Grondmechanica</td>\n",
       "    </tr>\n",
       "    <tr>\n",
       "      <th>1</th>\n",
       "      <td>https://oefen.dov.vlaanderen.be/data/monster/2...</td>\n",
       "      <td>1</td>\n",
       "      <td>[https://oefen.dov.vlaanderen.be/data/boring/1...</td>\n",
       "      <td>sediment</td>\n",
       "      <td>1971-04-06</td>\n",
       "      <td>1.0</td>\n",
       "      <td>1.16</td>\n",
       "      <td>ongeroerd</td>\n",
       "      <td>ENKELVOUDIG</td>\n",
       "      <td>NaN</td>\n",
       "      <td>steekbus</td>\n",
       "      <td>Rijksinstituut voor Grondmechanica</td>\n",
       "    </tr>\n",
       "    <tr>\n",
       "      <th>2</th>\n",
       "      <td>https://oefen.dov.vlaanderen.be/data/monster/2...</td>\n",
       "      <td>1</td>\n",
       "      <td>[https://oefen.dov.vlaanderen.be/data/boring/1...</td>\n",
       "      <td>sediment</td>\n",
       "      <td>1971-04-06</td>\n",
       "      <td>1.0</td>\n",
       "      <td>1.37</td>\n",
       "      <td>ongeroerd</td>\n",
       "      <td>ENKELVOUDIG</td>\n",
       "      <td>NaN</td>\n",
       "      <td>steekbus</td>\n",
       "      <td>Rijksinstituut voor Grondmechanica</td>\n",
       "    </tr>\n",
       "    <tr>\n",
       "      <th>3</th>\n",
       "      <td>https://oefen.dov.vlaanderen.be/data/monster/2...</td>\n",
       "      <td>1</td>\n",
       "      <td>[https://oefen.dov.vlaanderen.be/data/boring/1...</td>\n",
       "      <td>sediment</td>\n",
       "      <td>1971-04-02</td>\n",
       "      <td>1.0</td>\n",
       "      <td>1.19</td>\n",
       "      <td>ongeroerd</td>\n",
       "      <td>ENKELVOUDIG</td>\n",
       "      <td>NaN</td>\n",
       "      <td>steekbus</td>\n",
       "      <td>Rijksinstituut voor Grondmechanica</td>\n",
       "    </tr>\n",
       "    <tr>\n",
       "      <th>4</th>\n",
       "      <td>https://oefen.dov.vlaanderen.be/data/monster/2...</td>\n",
       "      <td>1</td>\n",
       "      <td>[https://oefen.dov.vlaanderen.be/data/boring/1...</td>\n",
       "      <td>sediment</td>\n",
       "      <td>1973-10-29</td>\n",
       "      <td>1.0</td>\n",
       "      <td>1.29</td>\n",
       "      <td>ongeroerd</td>\n",
       "      <td>ENKELVOUDIG</td>\n",
       "      <td>NaN</td>\n",
       "      <td>steekbus</td>\n",
       "      <td>Rijksinstituut voor Grondmechanica</td>\n",
       "    </tr>\n",
       "  </tbody>\n",
       "</table>\n",
       "</div>"
      ],
      "text/plain": [
       "                                        pkey_monster naam  \\\n",
       "0  https://oefen.dov.vlaanderen.be/data/monster/2...    1   \n",
       "1  https://oefen.dov.vlaanderen.be/data/monster/2...    1   \n",
       "2  https://oefen.dov.vlaanderen.be/data/monster/2...    1   \n",
       "3  https://oefen.dov.vlaanderen.be/data/monster/2...    1   \n",
       "4  https://oefen.dov.vlaanderen.be/data/monster/2...    1   \n",
       "\n",
       "                                        pkey_parents materiaalklasse  \\\n",
       "0  [https://oefen.dov.vlaanderen.be/data/boring/1...        sediment   \n",
       "1  [https://oefen.dov.vlaanderen.be/data/boring/1...        sediment   \n",
       "2  [https://oefen.dov.vlaanderen.be/data/boring/1...        sediment   \n",
       "3  [https://oefen.dov.vlaanderen.be/data/boring/1...        sediment   \n",
       "4  [https://oefen.dov.vlaanderen.be/data/boring/1...        sediment   \n",
       "\n",
       "  datum_monstername  diepte_van_m  diepte_tot_m monstertype  \\\n",
       "0        1971-04-01           1.0          1.14   ongeroerd   \n",
       "1        1971-04-06           1.0          1.16   ongeroerd   \n",
       "2        1971-04-06           1.0          1.37   ongeroerd   \n",
       "3        1971-04-02           1.0          1.19   ongeroerd   \n",
       "4        1973-10-29           1.0          1.29   ongeroerd   \n",
       "\n",
       "  monstersamenstelling bemonsteringsprocedure bemonsteringsinstrument  \\\n",
       "0          ENKELVOUDIG                    NaN                steekbus   \n",
       "1          ENKELVOUDIG                    NaN                steekbus   \n",
       "2          ENKELVOUDIG                    NaN                steekbus   \n",
       "3          ENKELVOUDIG                    NaN                steekbus   \n",
       "4          ENKELVOUDIG                    NaN                steekbus   \n",
       "\n",
       "                    bemonstering_door  \n",
       "0  Rijksinstituut voor Grondmechanica  \n",
       "1  Rijksinstituut voor Grondmechanica  \n",
       "2  Rijksinstituut voor Grondmechanica  \n",
       "3  Rijksinstituut voor Grondmechanica  \n",
       "4  Rijksinstituut voor Grondmechanica  "
      ]
     },
     "execution_count": 47,
     "metadata": {},
     "output_type": "execute_result"
    }
   ],
   "source": [
    "from owslib.fes2 import PropertyIsEqualTo\n",
    "\n",
    "query = PropertyIsEqualTo(propertyname='bemonsteringsinstrument',\n",
    "                          literal='steekbus')\n",
    "df = monster.search(query=query)\n",
    "\n",
    "df.head()"
   ]
  },
  {
   "cell_type": "markdown",
   "metadata": {},
   "source": [
    "Once again we can use the *pkey_monster* as a permanent link to the information of these samples:"
   ]
  },
  {
   "cell_type": "code",
   "execution_count": 48,
   "metadata": {},
   "outputs": [],
   "source": [
    "for pkey_monster in set(df.loc[df['pkey_parents'].str.contains('boring/1981-016310', na=False), 'pkey_monster']):\n",
    "    print(pkey_monster)"
   ]
  },
  {
   "cell_type": "markdown",
   "metadata": {},
   "source": [
    "### Get samples in a bounding box based on specific properties"
   ]
  },
  {
   "cell_type": "markdown",
   "metadata": {},
   "source": [
    "We can combine a query on attributes with a query on geographic location to get the samples within a bounding box that have specific properties.\n",
    "\n",
    "The following example requests the samples with a depth greater than or equal to 15 meters within the given bounding box.\n",
    "\n",
    "(Note that the datatype of the *literal* parameter should be a string, regardless of the datatype of this field in the output dataframe.)"
   ]
  },
  {
   "cell_type": "code",
   "execution_count": 49,
   "metadata": {},
   "outputs": [
    {
     "name": "stdout",
     "output_type": "stream",
     "text": [
      "[000/001] .\n"
     ]
    },
    {
     "data": {
      "text/html": [
       "<div>\n",
       "<style scoped>\n",
       "    .dataframe tbody tr th:only-of-type {\n",
       "        vertical-align: middle;\n",
       "    }\n",
       "\n",
       "    .dataframe tbody tr th {\n",
       "        vertical-align: top;\n",
       "    }\n",
       "\n",
       "    .dataframe thead th {\n",
       "        text-align: right;\n",
       "    }\n",
       "</style>\n",
       "<table border=\"1\" class=\"dataframe\">\n",
       "  <thead>\n",
       "    <tr style=\"text-align: right;\">\n",
       "      <th></th>\n",
       "      <th>pkey_monster</th>\n",
       "      <th>naam</th>\n",
       "      <th>pkey_parents</th>\n",
       "      <th>materiaalklasse</th>\n",
       "      <th>datum_monstername</th>\n",
       "      <th>diepte_van_m</th>\n",
       "      <th>diepte_tot_m</th>\n",
       "      <th>monstertype</th>\n",
       "      <th>monstersamenstelling</th>\n",
       "      <th>bemonsteringsprocedure</th>\n",
       "      <th>bemonsteringsinstrument</th>\n",
       "      <th>bemonstering_door</th>\n",
       "    </tr>\n",
       "  </thead>\n",
       "  <tbody>\n",
       "    <tr>\n",
       "      <th>0</th>\n",
       "      <td>https://oefen.dov.vlaanderen.be/data/monster/2...</td>\n",
       "      <td>39A</td>\n",
       "      <td>[https://oefen.dov.vlaanderen.be/data/boring/2...</td>\n",
       "      <td>sediment</td>\n",
       "      <td>2002-03-04</td>\n",
       "      <td>17.00</td>\n",
       "      <td>17.37</td>\n",
       "      <td>ongeroerd</td>\n",
       "      <td>ENKELVOUDIG</td>\n",
       "      <td>NaN</td>\n",
       "      <td>steekbus</td>\n",
       "      <td>MVG - Afdeling Geotechniek</td>\n",
       "    </tr>\n",
       "    <tr>\n",
       "      <th>1</th>\n",
       "      <td>https://oefen.dov.vlaanderen.be/data/monster/2...</td>\n",
       "      <td>39B</td>\n",
       "      <td>[https://oefen.dov.vlaanderen.be/data/boring/2...</td>\n",
       "      <td>sediment</td>\n",
       "      <td>2002-03-04</td>\n",
       "      <td>17.37</td>\n",
       "      <td>17.40</td>\n",
       "      <td>ongeroerd</td>\n",
       "      <td>ENKELVOUDIG</td>\n",
       "      <td>NaN</td>\n",
       "      <td>steekbus</td>\n",
       "      <td>MVG - Afdeling Geotechniek</td>\n",
       "    </tr>\n",
       "    <tr>\n",
       "      <th>2</th>\n",
       "      <td>https://oefen.dov.vlaanderen.be/data/monster/2...</td>\n",
       "      <td>N4A</td>\n",
       "      <td>[https://oefen.dov.vlaanderen.be/data/boring/2...</td>\n",
       "      <td>sediment</td>\n",
       "      <td>2009-05-28</td>\n",
       "      <td>15.75</td>\n",
       "      <td>15.90</td>\n",
       "      <td>ongeroerd</td>\n",
       "      <td>ENKELVOUDIG</td>\n",
       "      <td>22475-1-2007</td>\n",
       "      <td>steekbus</td>\n",
       "      <td>VO - Afdeling Geotechniek</td>\n",
       "    </tr>\n",
       "    <tr>\n",
       "      <th>3</th>\n",
       "      <td>https://oefen.dov.vlaanderen.be/data/monster/2...</td>\n",
       "      <td>N4B</td>\n",
       "      <td>[https://oefen.dov.vlaanderen.be/data/boring/2...</td>\n",
       "      <td>sediment</td>\n",
       "      <td>2009-05-28</td>\n",
       "      <td>15.90</td>\n",
       "      <td>16.15</td>\n",
       "      <td>ongeroerd</td>\n",
       "      <td>ENKELVOUDIG</td>\n",
       "      <td>22475-1-2007</td>\n",
       "      <td>steekbus</td>\n",
       "      <td>VO - Afdeling Geotechniek</td>\n",
       "    </tr>\n",
       "    <tr>\n",
       "      <th>4</th>\n",
       "      <td>https://oefen.dov.vlaanderen.be/data/monster/2...</td>\n",
       "      <td>N8</td>\n",
       "      <td>[https://oefen.dov.vlaanderen.be/data/boring/2...</td>\n",
       "      <td>sediment</td>\n",
       "      <td>2005-01-18</td>\n",
       "      <td>16.50</td>\n",
       "      <td>17.00</td>\n",
       "      <td>ongeroerd</td>\n",
       "      <td>ENKELVOUDIG</td>\n",
       "      <td>NaN</td>\n",
       "      <td>steekbus</td>\n",
       "      <td>MVG - Afdeling Geotechniek</td>\n",
       "    </tr>\n",
       "  </tbody>\n",
       "</table>\n",
       "</div>"
      ],
      "text/plain": [
       "                                        pkey_monster naam  \\\n",
       "0  https://oefen.dov.vlaanderen.be/data/monster/2...  39A   \n",
       "1  https://oefen.dov.vlaanderen.be/data/monster/2...  39B   \n",
       "2  https://oefen.dov.vlaanderen.be/data/monster/2...  N4A   \n",
       "3  https://oefen.dov.vlaanderen.be/data/monster/2...  N4B   \n",
       "4  https://oefen.dov.vlaanderen.be/data/monster/2...   N8   \n",
       "\n",
       "                                        pkey_parents materiaalklasse  \\\n",
       "0  [https://oefen.dov.vlaanderen.be/data/boring/2...        sediment   \n",
       "1  [https://oefen.dov.vlaanderen.be/data/boring/2...        sediment   \n",
       "2  [https://oefen.dov.vlaanderen.be/data/boring/2...        sediment   \n",
       "3  [https://oefen.dov.vlaanderen.be/data/boring/2...        sediment   \n",
       "4  [https://oefen.dov.vlaanderen.be/data/boring/2...        sediment   \n",
       "\n",
       "  datum_monstername  diepte_van_m  diepte_tot_m monstertype  \\\n",
       "0        2002-03-04         17.00         17.37   ongeroerd   \n",
       "1        2002-03-04         17.37         17.40   ongeroerd   \n",
       "2        2009-05-28         15.75         15.90   ongeroerd   \n",
       "3        2009-05-28         15.90         16.15   ongeroerd   \n",
       "4        2005-01-18         16.50         17.00   ongeroerd   \n",
       "\n",
       "  monstersamenstelling bemonsteringsprocedure bemonsteringsinstrument  \\\n",
       "0          ENKELVOUDIG                    NaN                steekbus   \n",
       "1          ENKELVOUDIG                    NaN                steekbus   \n",
       "2          ENKELVOUDIG           22475-1-2007                steekbus   \n",
       "3          ENKELVOUDIG           22475-1-2007                steekbus   \n",
       "4          ENKELVOUDIG                    NaN                steekbus   \n",
       "\n",
       "            bemonstering_door  \n",
       "0  MVG - Afdeling Geotechniek  \n",
       "1  MVG - Afdeling Geotechniek  \n",
       "2   VO - Afdeling Geotechniek  \n",
       "3   VO - Afdeling Geotechniek  \n",
       "4  MVG - Afdeling Geotechniek  "
      ]
     },
     "execution_count": 49,
     "metadata": {},
     "output_type": "execute_result"
    }
   ],
   "source": [
    "from owslib.fes2 import PropertyIsGreaterThanOrEqualTo\n",
    "\n",
    "query = PropertyIsGreaterThanOrEqualTo(\n",
    "            propertyname='diepte_tot_m',\n",
    "            literal='15')\n",
    "\n",
    "df = monster.search(\n",
    "    location=Within(Box(122000, 187000, 124000, 189000)),\n",
    "    query=query\n",
    "    )\n",
    "\n",
    "df.head()"
   ]
  },
  {
   "cell_type": "markdown",
   "metadata": {},
   "source": [
    "### Get sample based on fields not available in the standard output dataframe"
   ]
  },
  {
   "cell_type": "markdown",
   "metadata": {},
   "source": [
    "To keep the output dataframe size acceptable, not all available WFS fields are included in the standard output. However, one can use this information to select samples as illustrated below.\n",
    "\n",
    "For example, make a selection of the monsters that are stored at the geotheek in Vilvoorde:"
   ]
  },
  {
   "cell_type": "code",
   "execution_count": 104,
   "metadata": {},
   "outputs": [
    {
     "name": "stdout",
     "output_type": "stream",
     "text": [
      "[000/001] .\n"
     ]
    },
    {
     "data": {
      "text/html": [
       "<div>\n",
       "<style scoped>\n",
       "    .dataframe tbody tr th:only-of-type {\n",
       "        vertical-align: middle;\n",
       "    }\n",
       "\n",
       "    .dataframe tbody tr th {\n",
       "        vertical-align: top;\n",
       "    }\n",
       "\n",
       "    .dataframe thead th {\n",
       "        text-align: right;\n",
       "    }\n",
       "</style>\n",
       "<table border=\"1\" class=\"dataframe\">\n",
       "  <thead>\n",
       "    <tr style=\"text-align: right;\">\n",
       "      <th></th>\n",
       "      <th>pkey_monster</th>\n",
       "      <th>naam</th>\n",
       "      <th>pkey_parents</th>\n",
       "      <th>materiaalklasse</th>\n",
       "      <th>datum_monstername</th>\n",
       "      <th>diepte_van_m</th>\n",
       "      <th>diepte_tot_m</th>\n",
       "      <th>monstertype</th>\n",
       "      <th>monstersamenstelling</th>\n",
       "      <th>bemonsteringsprocedure</th>\n",
       "      <th>bemonsteringsinstrument</th>\n",
       "      <th>bemonstering_door</th>\n",
       "    </tr>\n",
       "  </thead>\n",
       "  <tbody>\n",
       "    <tr>\n",
       "      <th>0</th>\n",
       "      <td>https://oefen.dov.vlaanderen.be/data/monster/2...</td>\n",
       "      <td>1</td>\n",
       "      <td>[https://oefen.dov.vlaanderen.be/data/boring/2...</td>\n",
       "      <td>sediment</td>\n",
       "      <td>2007-01-30</td>\n",
       "      <td>1.2</td>\n",
       "      <td>1.50</td>\n",
       "      <td>geroerd</td>\n",
       "      <td>ENKELVOUDIG</td>\n",
       "      <td>NaN</td>\n",
       "      <td>boor</td>\n",
       "      <td>NaN</td>\n",
       "    </tr>\n",
       "    <tr>\n",
       "      <th>1</th>\n",
       "      <td>https://oefen.dov.vlaanderen.be/data/monster/2...</td>\n",
       "      <td>1</td>\n",
       "      <td>[https://oefen.dov.vlaanderen.be/data/boring/1...</td>\n",
       "      <td>sediment</td>\n",
       "      <td>1969-11-05</td>\n",
       "      <td>1.0</td>\n",
       "      <td>1.24</td>\n",
       "      <td>ongeroerd</td>\n",
       "      <td>ENKELVOUDIG</td>\n",
       "      <td>NaN</td>\n",
       "      <td>steekbus</td>\n",
       "      <td>Rijksinstituut voor Grondmechanica</td>\n",
       "    </tr>\n",
       "    <tr>\n",
       "      <th>2</th>\n",
       "      <td>https://oefen.dov.vlaanderen.be/data/monster/2...</td>\n",
       "      <td>2</td>\n",
       "      <td>[https://oefen.dov.vlaanderen.be/data/boring/1...</td>\n",
       "      <td>sediment</td>\n",
       "      <td>1972-12-01</td>\n",
       "      <td>3.2</td>\n",
       "      <td>3.20</td>\n",
       "      <td>geroerd</td>\n",
       "      <td>ENKELVOUDIG</td>\n",
       "      <td>NaN</td>\n",
       "      <td>boor</td>\n",
       "      <td>NaN</td>\n",
       "    </tr>\n",
       "    <tr>\n",
       "      <th>3</th>\n",
       "      <td>https://oefen.dov.vlaanderen.be/data/monster/2...</td>\n",
       "      <td>7</td>\n",
       "      <td>[https://oefen.dov.vlaanderen.be/data/boring/1...</td>\n",
       "      <td>sediment</td>\n",
       "      <td>1971-03-29</td>\n",
       "      <td>7.5</td>\n",
       "      <td>7.68</td>\n",
       "      <td>ongeroerd</td>\n",
       "      <td>ENKELVOUDIG</td>\n",
       "      <td>NaN</td>\n",
       "      <td>steekbus</td>\n",
       "      <td>Rijksinstituut voor Grondmechanica</td>\n",
       "    </tr>\n",
       "    <tr>\n",
       "      <th>4</th>\n",
       "      <td>https://oefen.dov.vlaanderen.be/data/monster/2...</td>\n",
       "      <td>CMON_P84df67e_laag_0_10_MG_2022</td>\n",
       "      <td>[https://oefen.dov.vlaanderen.be/data/bodemdie...</td>\n",
       "      <td>bodem</td>\n",
       "      <td>2022-02-16</td>\n",
       "      <td>0.0</td>\n",
       "      <td>0.10</td>\n",
       "      <td>geroerd</td>\n",
       "      <td>MENGMONSTER</td>\n",
       "      <td>csp</td>\n",
       "      <td>NaN</td>\n",
       "      <td>VO - Instituut voor Natuur- en Bosonderzoek (I...</td>\n",
       "    </tr>\n",
       "  </tbody>\n",
       "</table>\n",
       "</div>"
      ],
      "text/plain": [
       "                                        pkey_monster  \\\n",
       "0  https://oefen.dov.vlaanderen.be/data/monster/2...   \n",
       "1  https://oefen.dov.vlaanderen.be/data/monster/2...   \n",
       "2  https://oefen.dov.vlaanderen.be/data/monster/2...   \n",
       "3  https://oefen.dov.vlaanderen.be/data/monster/2...   \n",
       "4  https://oefen.dov.vlaanderen.be/data/monster/2...   \n",
       "\n",
       "                              naam  \\\n",
       "0                                1   \n",
       "1                                1   \n",
       "2                                2   \n",
       "3                                7   \n",
       "4  CMON_P84df67e_laag_0_10_MG_2022   \n",
       "\n",
       "                                        pkey_parents materiaalklasse  \\\n",
       "0  [https://oefen.dov.vlaanderen.be/data/boring/2...        sediment   \n",
       "1  [https://oefen.dov.vlaanderen.be/data/boring/1...        sediment   \n",
       "2  [https://oefen.dov.vlaanderen.be/data/boring/1...        sediment   \n",
       "3  [https://oefen.dov.vlaanderen.be/data/boring/1...        sediment   \n",
       "4  [https://oefen.dov.vlaanderen.be/data/bodemdie...           bodem   \n",
       "\n",
       "  datum_monstername  diepte_van_m  diepte_tot_m monstertype  \\\n",
       "0        2007-01-30           1.2          1.50     geroerd   \n",
       "1        1969-11-05           1.0          1.24   ongeroerd   \n",
       "2        1972-12-01           3.2          3.20     geroerd   \n",
       "3        1971-03-29           7.5          7.68   ongeroerd   \n",
       "4        2022-02-16           0.0          0.10     geroerd   \n",
       "\n",
       "  monstersamenstelling bemonsteringsprocedure bemonsteringsinstrument  \\\n",
       "0          ENKELVOUDIG                    NaN                    boor   \n",
       "1          ENKELVOUDIG                    NaN                steekbus   \n",
       "2          ENKELVOUDIG                    NaN                    boor   \n",
       "3          ENKELVOUDIG                    NaN                steekbus   \n",
       "4          MENGMONSTER                    csp                     NaN   \n",
       "\n",
       "                                   bemonstering_door  \n",
       "0                                                NaN  \n",
       "1                 Rijksinstituut voor Grondmechanica  \n",
       "2                                                NaN  \n",
       "3                 Rijksinstituut voor Grondmechanica  \n",
       "4  VO - Instituut voor Natuur- en Bosonderzoek (I...  "
      ]
     },
     "execution_count": 104,
     "metadata": {},
     "output_type": "execute_result"
    }
   ],
   "source": [
    "from owslib.fes2 import And, Not\n",
    "\n",
    "query = PropertyIsEqualTo(propertyname='opslaglocatie',\n",
    "                               literal='Geotheek Vilvoorde')\n",
    "\n",
    "df = monster.search(query=query, max_features = 10)\n",
    "df.head()"
   ]
  },
  {
   "cell_type": "markdown",
   "metadata": {},
   "source": [
    "### Get a boxplot with the depth distribution of samples with sampling instrument 'steekbuis'"
   ]
  },
  {
   "cell_type": "code",
   "execution_count": 105,
   "metadata": {},
   "outputs": [
    {
     "name": "stdout",
     "output_type": "stream",
     "text": [
      "[000/001] .\n"
     ]
    }
   ],
   "source": [
    "query = PropertyIsEqualTo(propertyname='bemonsteringsinstrument',\n",
    "                          literal='steekbus')\n",
    "df = monster.search(query=query)\n"
   ]
  },
  {
   "cell_type": "code",
   "execution_count": 106,
   "metadata": {},
   "outputs": [
    {
     "data": {
      "text/html": [
       "<div>\n",
       "<style scoped>\n",
       "    .dataframe tbody tr th:only-of-type {\n",
       "        vertical-align: middle;\n",
       "    }\n",
       "\n",
       "    .dataframe tbody tr th {\n",
       "        vertical-align: top;\n",
       "    }\n",
       "\n",
       "    .dataframe thead th {\n",
       "        text-align: right;\n",
       "    }\n",
       "</style>\n",
       "<table border=\"1\" class=\"dataframe\">\n",
       "  <thead>\n",
       "    <tr style=\"text-align: right;\">\n",
       "      <th></th>\n",
       "      <th>diepte_van_m</th>\n",
       "      <th>diepte_tot_m</th>\n",
       "    </tr>\n",
       "  </thead>\n",
       "  <tbody>\n",
       "    <tr>\n",
       "      <th>count</th>\n",
       "      <td>31569.000000</td>\n",
       "      <td>31591.000000</td>\n",
       "    </tr>\n",
       "    <tr>\n",
       "      <th>mean</th>\n",
       "      <td>6.755560</td>\n",
       "      <td>7.085249</td>\n",
       "    </tr>\n",
       "    <tr>\n",
       "      <th>std</th>\n",
       "      <td>7.109394</td>\n",
       "      <td>7.148988</td>\n",
       "    </tr>\n",
       "    <tr>\n",
       "      <th>min</th>\n",
       "      <td>0.000000</td>\n",
       "      <td>0.100000</td>\n",
       "    </tr>\n",
       "    <tr>\n",
       "      <th>25%</th>\n",
       "      <td>2.000000</td>\n",
       "      <td>2.290000</td>\n",
       "    </tr>\n",
       "    <tr>\n",
       "      <th>50%</th>\n",
       "      <td>4.400000</td>\n",
       "      <td>4.650000</td>\n",
       "    </tr>\n",
       "    <tr>\n",
       "      <th>75%</th>\n",
       "      <td>9.000000</td>\n",
       "      <td>9.220000</td>\n",
       "    </tr>\n",
       "    <tr>\n",
       "      <th>max</th>\n",
       "      <td>60.000000</td>\n",
       "      <td>60.300000</td>\n",
       "    </tr>\n",
       "  </tbody>\n",
       "</table>\n",
       "</div>"
      ],
      "text/plain": [
       "       diepte_van_m  diepte_tot_m\n",
       "count  31569.000000  31591.000000\n",
       "mean       6.755560      7.085249\n",
       "std        7.109394      7.148988\n",
       "min        0.000000      0.100000\n",
       "25%        2.000000      2.290000\n",
       "50%        4.400000      4.650000\n",
       "75%        9.000000      9.220000\n",
       "max       60.000000     60.300000"
      ]
     },
     "execution_count": 106,
     "metadata": {},
     "output_type": "execute_result"
    }
   ],
   "source": [
    "df.describe()"
   ]
  },
  {
   "cell_type": "code",
   "execution_count": 107,
   "metadata": {},
   "outputs": [
    {
     "data": {
      "text/plain": [
       "Text(0.5, 1.0, \"Depth distribution samples with sampling instrument 'steekbus'\")"
      ]
     },
     "execution_count": 107,
     "metadata": {},
     "output_type": "execute_result"
    },
    {
     "data": {
      "image/png": "[encoded data removed]",
      "text/plain": [
       "<Figure size 640x480 with 1 Axes>"
      ]
     },
     "metadata": {},
     "output_type": "display_data"
    }
   ],
   "source": [
    "ax = df[df.diepte_tot_m != 0].boxplot()\n",
    "ax.set_ylabel(\"depth (m)\")\n",
    "ax.set_title(\"Depth distribution samples with sampling instrument 'steekbus'\")"
   ]
  },
  {
   "cell_type": "markdown",
   "metadata": {},
   "source": [
    "To keep the output dataframe size acceptable, not all available WFS fields are included in the standard output. However, one can use this information to select borehole samples as illustrated below.\n",
    "\n",
    "For example, make a selection of the borehole samples in the municipality of Antwerp, for which a mechanical test was carried out"
   ]
  },
  {
   "cell_type": "code",
   "execution_count": 16,
   "metadata": {},
   "outputs": [
    {
     "name": "stdout",
     "output_type": "stream",
     "text": [
      "[000/001] .\n"
     ]
    },
    {
     "data": {
      "text/html": [
       "<div>\n",
       "<style scoped>\n",
       "    .dataframe tbody tr th:only-of-type {\n",
       "        vertical-align: middle;\n",
       "    }\n",
       "\n",
       "    .dataframe tbody tr th {\n",
       "        vertical-align: top;\n",
       "    }\n",
       "\n",
       "    .dataframe thead th {\n",
       "        text-align: right;\n",
       "    }\n",
       "</style>\n",
       "<table border=\"1\" class=\"dataframe\">\n",
       "  <thead>\n",
       "    <tr style=\"text-align: right;\">\n",
       "      <th></th>\n",
       "      <th>pkey_grondmonster</th>\n",
       "      <th>boornummer</th>\n",
       "      <th>x</th>\n",
       "      <th>y</th>\n",
       "    </tr>\n",
       "  </thead>\n",
       "  <tbody>\n",
       "    <tr>\n",
       "      <th>0</th>\n",
       "      <td>https://www.dov.vlaanderen.be/data/grondmonste...</td>\n",
       "      <td>GEO-14/029-B5</td>\n",
       "      <td>145459.26</td>\n",
       "      <td>221075.09</td>\n",
       "    </tr>\n",
       "    <tr>\n",
       "      <th>1</th>\n",
       "      <td>https://www.dov.vlaanderen.be/data/grondmonste...</td>\n",
       "      <td>GEO-14/029-B5</td>\n",
       "      <td>145459.26</td>\n",
       "      <td>221075.09</td>\n",
       "    </tr>\n",
       "    <tr>\n",
       "      <th>2</th>\n",
       "      <td>https://www.dov.vlaanderen.be/data/grondmonste...</td>\n",
       "      <td>GEO-14/029-B56</td>\n",
       "      <td>147046.11</td>\n",
       "      <td>219486.68</td>\n",
       "    </tr>\n",
       "    <tr>\n",
       "      <th>3</th>\n",
       "      <td>https://www.dov.vlaanderen.be/data/grondmonste...</td>\n",
       "      <td>GEO-14/029-B56</td>\n",
       "      <td>147046.11</td>\n",
       "      <td>219486.68</td>\n",
       "    </tr>\n",
       "    <tr>\n",
       "      <th>4</th>\n",
       "      <td>https://www.dov.vlaanderen.be/data/grondmonste...</td>\n",
       "      <td>GEO-14/029-B56</td>\n",
       "      <td>147046.11</td>\n",
       "      <td>219486.68</td>\n",
       "    </tr>\n",
       "  </tbody>\n",
       "</table>\n",
       "</div>"
      ],
      "text/plain": [
       "                                   pkey_grondmonster      boornummer  \\\n",
       "0  https://www.dov.vlaanderen.be/data/grondmonste...   GEO-14/029-B5   \n",
       "1  https://www.dov.vlaanderen.be/data/grondmonste...   GEO-14/029-B5   \n",
       "2  https://www.dov.vlaanderen.be/data/grondmonste...  GEO-14/029-B56   \n",
       "3  https://www.dov.vlaanderen.be/data/grondmonste...  GEO-14/029-B56   \n",
       "4  https://www.dov.vlaanderen.be/data/grondmonste...  GEO-14/029-B56   \n",
       "\n",
       "           x          y  \n",
       "0  145459.26  221075.09  \n",
       "1  145459.26  221075.09  \n",
       "2  147046.11  219486.68  \n",
       "3  147046.11  219486.68  \n",
       "4  147046.11  219486.68  "
      ]
     },
     "execution_count": 16,
     "metadata": {},
     "output_type": "execute_result"
    }
   ],
   "source": [
    "from owslib.fes2 import And\n",
    "\n",
    "query = And([PropertyIsEqualTo(propertyname='gemeente',\n",
    "                               literal='Antwerpen'),\n",
    "             PropertyIsEqualTo(propertyname='mechanisch', \n",
    "                               literal='True')]\n",
    "            )\n",
    "df = grondmonster.search(query=query,\n",
    "                   return_fields=('pkey_grondmonster', 'boornummer', 'x', 'y'))\n",
    "df.head()"
   ]
  },
  {
   "cell_type": "markdown",
   "metadata": {},
   "source": [
    "The data from the mechanical tests are not always available through the webservice. Following the URI of the borehole sample, one can access the available information in the subtype 'mechanisch'."
   ]
  },
  {
   "cell_type": "code",
   "execution_count": 17,
   "metadata": {},
   "outputs": [
    {
     "name": "stdout",
     "output_type": "stream",
     "text": [
      "https://www.dov.vlaanderen.be/data/grondmonster/2018-211727\n",
      "https://www.dov.vlaanderen.be/data/grondmonster/2018-211729\n",
      "https://www.dov.vlaanderen.be/data/grondmonster/2018-211656\n",
      "https://www.dov.vlaanderen.be/data/grondmonster/2018-211728\n"
     ]
    }
   ],
   "source": [
    "for pkey_grondmonster in set(df.loc[df.boornummer=='1445-GEO-17/047-B211'].pkey_grondmonster):\n",
    "    print(pkey_grondmonster)"
   ]
  },
  {
   "cell_type": "markdown",
   "metadata": {},
   "source": [
    "## Finding the boreholes associated with the monsters and visualize results"
   ]
  },
  {
   "cell_type": "code",
   "execution_count": 108,
   "metadata": {},
   "outputs": [],
   "source": [
    "# import the necessary modules (not included in the requirements of pydov!)\n",
    "import geopandas as gpd"
   ]
  },
  {
   "cell_type": "code",
   "execution_count": 109,
   "metadata": {},
   "outputs": [
    {
     "data": {
      "text/plain": [
       "{'name': 'geom',\n",
       " 'definition': None,\n",
       " 'type': 'geometry',\n",
       " 'list': False,\n",
       " 'notnull': False,\n",
       " 'query': False,\n",
       " 'cost': 1}"
      ]
     },
     "execution_count": 109,
     "metadata": {},
     "output_type": "execute_result"
    }
   ],
   "source": [
    "from pydov.search.boring import BoringSearch\n",
    "from pydov.util.query import FuzzyJoin, Join\n",
    "bs = BoringSearch()\n",
    "bs.get_fields()['geom']"
   ]
  },
  {
   "cell_type": "code",
   "execution_count": 112,
   "metadata": {},
   "outputs": [
    {
     "name": "stdout",
     "output_type": "stream",
     "text": [
      "[000/001] .\n"
     ]
    },
    {
     "data": {
      "text/html": [
       "<div>\n",
       "<style scoped>\n",
       "    .dataframe tbody tr th:only-of-type {\n",
       "        vertical-align: middle;\n",
       "    }\n",
       "\n",
       "    .dataframe tbody tr th {\n",
       "        vertical-align: top;\n",
       "    }\n",
       "\n",
       "    .dataframe thead th {\n",
       "        text-align: right;\n",
       "    }\n",
       "</style>\n",
       "<table border=\"1\" class=\"dataframe\">\n",
       "  <thead>\n",
       "    <tr style=\"text-align: right;\">\n",
       "      <th></th>\n",
       "      <th>pkey_boring</th>\n",
       "      <th>geom</th>\n",
       "      <th>boornummer</th>\n",
       "    </tr>\n",
       "  </thead>\n",
       "  <tbody>\n",
       "    <tr>\n",
       "      <th>0</th>\n",
       "      <td>https://oefen.dov.vlaanderen.be/data/boring/19...</td>\n",
       "      <td>POINT (157647 186350)</td>\n",
       "      <td>GEO-66/037-IIA-b202</td>\n",
       "    </tr>\n",
       "    <tr>\n",
       "      <th>1</th>\n",
       "      <td>https://oefen.dov.vlaanderen.be/data/boring/19...</td>\n",
       "      <td>POINT (157950 185966)</td>\n",
       "      <td>GEO-66/037-IIA-b208</td>\n",
       "    </tr>\n",
       "    <tr>\n",
       "      <th>2</th>\n",
       "      <td>https://oefen.dov.vlaanderen.be/data/boring/19...</td>\n",
       "      <td>POINT (158231 185468)</td>\n",
       "      <td>GEO-66/037-IIA-b213</td>\n",
       "    </tr>\n",
       "    <tr>\n",
       "      <th>3</th>\n",
       "      <td>https://oefen.dov.vlaanderen.be/data/boring/19...</td>\n",
       "      <td>POINT (158350 185151)</td>\n",
       "      <td>GEO-66/037-IIA-b217</td>\n",
       "    </tr>\n",
       "    <tr>\n",
       "      <th>4</th>\n",
       "      <td>https://oefen.dov.vlaanderen.be/data/boring/19...</td>\n",
       "      <td>POINT (158504 184502)</td>\n",
       "      <td>GEO-66/037-IIB-b225</td>\n",
       "    </tr>\n",
       "  </tbody>\n",
       "</table>\n",
       "</div>"
      ],
      "text/plain": [
       "                                         pkey_boring                   geom  \\\n",
       "0  https://oefen.dov.vlaanderen.be/data/boring/19...  POINT (157647 186350)   \n",
       "1  https://oefen.dov.vlaanderen.be/data/boring/19...  POINT (157950 185966)   \n",
       "2  https://oefen.dov.vlaanderen.be/data/boring/19...  POINT (158231 185468)   \n",
       "3  https://oefen.dov.vlaanderen.be/data/boring/19...  POINT (158350 185151)   \n",
       "4  https://oefen.dov.vlaanderen.be/data/boring/19...  POINT (158504 184502)   \n",
       "\n",
       "            boornummer  \n",
       "0  GEO-66/037-IIA-b202  \n",
       "1  GEO-66/037-IIA-b208  \n",
       "2  GEO-66/037-IIA-b213  \n",
       "3  GEO-66/037-IIA-b217  \n",
       "4  GEO-66/037-IIB-b225  "
      ]
     },
     "execution_count": 112,
     "metadata": {},
     "output_type": "execute_result"
    }
   ],
   "source": [
    "boringen = bs.search(query=Join(df, on='pkey_boring', using='pkey_parents'), return_fields = ('pkey_boring','geom','boornummer'), max_features = 100)\n",
    "boringen.head()"
   ]
  },
  {
   "cell_type": "code",
   "execution_count": 113,
   "metadata": {},
   "outputs": [
    {
     "data": {
      "text/html": [
       "<div style=\"width:100%;\"><div style=\"position:relative;width:100%;height:0;padding-bottom:60%;\"><span style=\"color:#565656\">Make this Notebook Trusted to load map: File -> Trust Notebook</span><iframe srcdoc=\"&lt;!DOCTYPE html&gt;\n",
       "&lt;html&gt;\n",
       "&lt;head&gt;\n",
       "    \n",
       "    &lt;meta http-equiv=&quot;content-type&quot; content=&quot;text/html; charset=UTF-8&quot; /&gt;\n",
       "    \n",
       "        &lt;script&gt;\n",
       "            L_NO_TOUCH = false;\n",
       "            L_DISABLE_3D = false;\n",
       "        &lt;/script&gt;\n",
       "    \n",
       "    &lt;style&gt;html, body {width: 100%;height: 100%;margin: 0;padding: 0;}&lt;/style&gt;\n",
       "    &lt;style&gt;#map {position:absolute;top:0;bottom:0;right:0;left:0;}&lt;/style&gt;\n",
       "    &lt;script src=&quot;https://cdn.jsdelivr.net/npm/leaflet@1.9.3/dist/leaflet.js&quot;&gt;&lt;/script&gt;\n",
       "    &lt;script src=&quot;https://code.jquery.com/jquery-3.7.1.min.js&quot;&gt;&lt;/script&gt;\n",
       "    &lt;script src=&quot;https://cdn.jsdelivr.net/npm/bootstrap@5.2.2/dist/js/bootstrap.bundle.min.js&quot;&gt;&lt;/script&gt;\n",
       "    &lt;script src=&quot;https://cdnjs.cloudflare.com/ajax/libs/Leaflet.awesome-markers/2.0.2/leaflet.awesome-markers.js&quot;&gt;&lt;/script&gt;\n",
       "    &lt;link rel=&quot;stylesheet&quot; href=&quot;https://cdn.jsdelivr.net/npm/leaflet@1.9.3/dist/leaflet.css&quot;/&gt;\n",
       "    &lt;link rel=&quot;stylesheet&quot; href=&quot;https://cdn.jsdelivr.net/npm/bootstrap@5.2.2/dist/css/bootstrap.min.css&quot;/&gt;\n",
       "    &lt;link rel=&quot;stylesheet&quot; href=&quot;https://netdna.bootstrapcdn.com/bootstrap/3.0.0/css/bootstrap-glyphicons.css&quot;/&gt;\n",
       "    &lt;link rel=&quot;stylesheet&quot; href=&quot;https://cdn.jsdelivr.net/npm/@fortawesome/fontawesome-free@6.2.0/css/all.min.css&quot;/&gt;\n",
       "    &lt;link rel=&quot;stylesheet&quot; href=&quot;https://cdnjs.cloudflare.com/ajax/libs/Leaflet.awesome-markers/2.0.2/leaflet.awesome-markers.css&quot;/&gt;\n",
       "    &lt;link rel=&quot;stylesheet&quot; href=&quot;https://cdn.jsdelivr.net/gh/python-visualization/folium/folium/templates/leaflet.awesome.rotate.min.css&quot;/&gt;\n",
       "    \n",
       "            &lt;meta name=&quot;viewport&quot; content=&quot;width=device-width,\n",
       "                initial-scale=1.0, maximum-scale=1.0, user-scalable=no&quot; /&gt;\n",
       "            &lt;style&gt;\n",
       "                #map_1b2c278441422224c01515ec32042d88 {\n",
       "                    position: relative;\n",
       "                    width: 100.0%;\n",
       "                    height: 100.0%;\n",
       "                    left: 0.0%;\n",
       "                    top: 0.0%;\n",
       "                }\n",
       "                .leaflet-container { font-size: 1rem; }\n",
       "            &lt;/style&gt;\n",
       "        \n",
       "    \n",
       "                    &lt;style&gt;\n",
       "                        .foliumtooltip {\n",
       "                            \n",
       "                        }\n",
       "                       .foliumtooltip table{\n",
       "                            margin: auto;\n",
       "                        }\n",
       "                        .foliumtooltip tr{\n",
       "                            text-align: left;\n",
       "                        }\n",
       "                        .foliumtooltip th{\n",
       "                            padding: 2px; padding-right: 8px;\n",
       "                        }\n",
       "                    &lt;/style&gt;\n",
       "            \n",
       "&lt;/head&gt;\n",
       "&lt;body&gt;\n",
       "    \n",
       "    \n",
       "            &lt;div class=&quot;folium-map&quot; id=&quot;map_1b2c278441422224c01515ec32042d88&quot; &gt;&lt;/div&gt;\n",
       "        \n",
       "&lt;/body&gt;\n",
       "&lt;script&gt;\n",
       "    \n",
       "    \n",
       "            var map_1b2c278441422224c01515ec32042d88 = L.map(\n",
       "                &quot;map_1b2c278441422224c01515ec32042d88&quot;,\n",
       "                {\n",
       "                    center: [51.03287609024151, 3.6033638650028084],\n",
       "                    crs: L.CRS.EPSG3857,\n",
       "                    ...{\n",
       "  &quot;zoom&quot;: 10,\n",
       "  &quot;zoomControl&quot;: true,\n",
       "  &quot;preferCanvas&quot;: false,\n",
       "}\n",
       "\n",
       "                }\n",
       "            );\n",
       "            L.control.scale().addTo(map_1b2c278441422224c01515ec32042d88);\n",
       "\n",
       "            \n",
       "\n",
       "        \n",
       "    \n",
       "            var tile_layer_d93873a1e18d37ec8caa54ae0f9338f8 = L.tileLayer(\n",
       "                &quot;https://tile.openstreetmap.org/{z}/{x}/{y}.png&quot;,\n",
       "                {\n",
       "  &quot;minZoom&quot;: 0,\n",
       "  &quot;maxZoom&quot;: 19,\n",
       "  &quot;maxNativeZoom&quot;: 19,\n",
       "  &quot;noWrap&quot;: false,\n",
       "  &quot;attribution&quot;: &quot;\\u0026copy; \\u003ca href=\\&quot;https://www.openstreetmap.org/copyright\\&quot;\\u003eOpenStreetMap\\u003c/a\\u003e contributors&quot;,\n",
       "  &quot;subdomains&quot;: &quot;abc&quot;,\n",
       "  &quot;detectRetina&quot;: false,\n",
       "  &quot;tms&quot;: false,\n",
       "  &quot;opacity&quot;: 1,\n",
       "}\n",
       "\n",
       "            );\n",
       "        \n",
       "    \n",
       "            tile_layer_d93873a1e18d37ec8caa54ae0f9338f8.addTo(map_1b2c278441422224c01515ec32042d88);\n",
       "        \n",
       "    \n",
       "            map_1b2c278441422224c01515ec32042d88.fitBounds(\n",
       "                [[50.83027398332684, 2.7169030732794006], [51.235478197156176, 4.489824656726216]],\n",
       "                {}\n",
       "            );\n",
       "        \n",
       "    \n",
       "        function geo_json_45ba25e88fce06a98f6933c20b4a2b09_styler(feature) {\n",
       "            switch(feature.id) {\n",
       "                default:\n",
       "                    return {&quot;fillOpacity&quot;: 0.5, &quot;weight&quot;: 2};\n",
       "            }\n",
       "        }\n",
       "        function geo_json_45ba25e88fce06a98f6933c20b4a2b09_highlighter(feature) {\n",
       "            switch(feature.id) {\n",
       "                default:\n",
       "                    return {&quot;fillOpacity&quot;: 0.75};\n",
       "            }\n",
       "        }\n",
       "        function geo_json_45ba25e88fce06a98f6933c20b4a2b09_pointToLayer(feature, latlng) {\n",
       "            var opts = {&quot;bubblingMouseEvents&quot;: true, &quot;color&quot;: &quot;#3388ff&quot;, &quot;dashArray&quot;: null, &quot;dashOffset&quot;: null, &quot;fill&quot;: true, &quot;fillColor&quot;: &quot;#3388ff&quot;, &quot;fillOpacity&quot;: 0.2, &quot;fillRule&quot;: &quot;evenodd&quot;, &quot;lineCap&quot;: &quot;round&quot;, &quot;lineJoin&quot;: &quot;round&quot;, &quot;opacity&quot;: 1.0, &quot;radius&quot;: 2, &quot;stroke&quot;: true, &quot;weight&quot;: 3};\n",
       "            \n",
       "            let style = geo_json_45ba25e88fce06a98f6933c20b4a2b09_styler(feature)\n",
       "            Object.assign(opts, style)\n",
       "            \n",
       "            return new L.CircleMarker(latlng, opts)\n",
       "        }\n",
       "\n",
       "        function geo_json_45ba25e88fce06a98f6933c20b4a2b09_onEachFeature(feature, layer) {\n",
       "            layer.on({\n",
       "                mouseout: function(e) {\n",
       "                    if(typeof e.target.setStyle === &quot;function&quot;){\n",
       "                            geo_json_45ba25e88fce06a98f6933c20b4a2b09.resetStyle(e.target);\n",
       "                    }\n",
       "                },\n",
       "                mouseover: function(e) {\n",
       "                    if(typeof e.target.setStyle === &quot;function&quot;){\n",
       "                        const highlightStyle = geo_json_45ba25e88fce06a98f6933c20b4a2b09_highlighter(e.target.feature)\n",
       "                        e.target.setStyle(highlightStyle);\n",
       "                    }\n",
       "                },\n",
       "            });\n",
       "        };\n",
       "        var geo_json_45ba25e88fce06a98f6933c20b4a2b09 = L.geoJson(null, {\n",
       "                onEachFeature: geo_json_45ba25e88fce06a98f6933c20b4a2b09_onEachFeature,\n",
       "            \n",
       "                style: geo_json_45ba25e88fce06a98f6933c20b4a2b09_styler,\n",
       "                pointToLayer: geo_json_45ba25e88fce06a98f6933c20b4a2b09_pointToLayer,\n",
       "            ...{\n",
       "}\n",
       "        });\n",
       "\n",
       "        function geo_json_45ba25e88fce06a98f6933c20b4a2b09_add (data) {\n",
       "            geo_json_45ba25e88fce06a98f6933c20b4a2b09\n",
       "                .addData(data);\n",
       "        }\n",
       "            geo_json_45ba25e88fce06a98f6933c20b4a2b09_add({&quot;bbox&quot;: [2.7169030732794006, 50.83027398332684, 4.489824656726216, 51.235478197156176], &quot;features&quot;: [{&quot;bbox&quot;: [4.477662487390305, 50.9873358684803, 4.477662487390305, 50.9873358684803], &quot;geometry&quot;: {&quot;coordinates&quot;: [4.477662487390305, 50.9873358684803], &quot;type&quot;: &quot;Point&quot;}, &quot;id&quot;: &quot;0&quot;, &quot;properties&quot;: {&quot;boornummer&quot;: &quot;GEO-66/037-IIA-b202&quot;, &quot;pkey_boring&quot;: &quot;https://oefen.dov.vlaanderen.be/data/boring/1966-032624&quot;}, &quot;type&quot;: &quot;Feature&quot;}, {&quot;bbox&quot;: [4.481969401489315, 50.98387994364155, 4.481969401489315, 50.98387994364155], &quot;geometry&quot;: {&quot;coordinates&quot;: [4.481969401489315, 50.98387994364155], &quot;type&quot;: &quot;Point&quot;}, &quot;id&quot;: &quot;1&quot;, &quot;properties&quot;: {&quot;boornummer&quot;: &quot;GEO-66/037-IIA-b208&quot;, &quot;pkey_boring&quot;: &quot;https://oefen.dov.vlaanderen.be/data/boring/1966-032628&quot;}, &quot;type&quot;: &quot;Feature&quot;}, {&quot;bbox&quot;: [4.485959826733702, 50.97939940935003, 4.485959826733702, 50.97939940935003], &quot;geometry&quot;: {&quot;coordinates&quot;: [4.485959826733702, 50.97939940935003], &quot;type&quot;: &quot;Point&quot;}, &quot;id&quot;: &quot;2&quot;, &quot;properties&quot;: {&quot;boornummer&quot;: &quot;GEO-66/037-IIA-b213&quot;, &quot;pkey_boring&quot;: &quot;https://oefen.dov.vlaanderen.be/data/boring/1966-032633&quot;}, &quot;type&quot;: &quot;Feature&quot;}, {&quot;bbox&quot;: [4.48764705897937, 50.97654813835896, 4.48764705897937, 50.97654813835896], &quot;geometry&quot;: {&quot;coordinates&quot;: [4.48764705897937, 50.97654813835896], &quot;type&quot;: &quot;Point&quot;}, &quot;id&quot;: &quot;3&quot;, &quot;properties&quot;: {&quot;boornummer&quot;: &quot;GEO-66/037-IIA-b217&quot;, &quot;pkey_boring&quot;: &quot;https://oefen.dov.vlaanderen.be/data/boring/1966-032637&quot;}, &quot;type&quot;: &quot;Feature&quot;}, {&quot;bbox&quot;: [4.489824656726216, 50.97071192285173, 4.489824656726216, 50.97071192285173], &quot;geometry&quot;: {&quot;coordinates&quot;: [4.489824656726216, 50.97071192285173], &quot;type&quot;: &quot;Point&quot;}, &quot;id&quot;: &quot;4&quot;, &quot;properties&quot;: {&quot;boornummer&quot;: &quot;GEO-66/037-IIB-b225&quot;, &quot;pkey_boring&quot;: &quot;https://oefen.dov.vlaanderen.be/data/boring/1966-032643&quot;}, &quot;type&quot;: &quot;Feature&quot;}, {&quot;bbox&quot;: [4.461062868146255, 50.91884318359315, 4.461062868146255, 50.91884318359315], &quot;geometry&quot;: {&quot;coordinates&quot;: [4.461062868146255, 50.91884318359315], &quot;type&quot;: &quot;Point&quot;}, &quot;id&quot;: &quot;5&quot;, &quot;properties&quot;: {&quot;boornummer&quot;: &quot;GEO-66/037-IID-b285&quot;, &quot;pkey_boring&quot;: &quot;https://oefen.dov.vlaanderen.be/data/boring/1966-018422&quot;}, &quot;type&quot;: &quot;Feature&quot;}, {&quot;bbox&quot;: [4.433949159739211, 50.95355115660695, 4.433949159739211, 50.95355115660695], &quot;geometry&quot;: {&quot;coordinates&quot;: [4.433949159739211, 50.95355115660695], &quot;type&quot;: &quot;Point&quot;}, &quot;id&quot;: &quot;6&quot;, &quot;properties&quot;: {&quot;boornummer&quot;: &quot;GEO-74/238-b1&quot;, &quot;pkey_boring&quot;: &quot;https://oefen.dov.vlaanderen.be/data/boring/1974-018459&quot;}, &quot;type&quot;: &quot;Feature&quot;}, {&quot;bbox&quot;: [4.480348393702832, 50.94329521147157, 4.480348393702832, 50.94329521147157], &quot;geometry&quot;: {&quot;coordinates&quot;: [4.480348393702832, 50.94329521147157], &quot;type&quot;: &quot;Point&quot;}, &quot;id&quot;: &quot;7&quot;, &quot;properties&quot;: {&quot;boornummer&quot;: &quot;GEO-66/037-IIC-b256&quot;, &quot;pkey_boring&quot;: &quot;https://oefen.dov.vlaanderen.be/data/boring/1966-032923&quot;}, &quot;type&quot;: &quot;Feature&quot;}, {&quot;bbox&quot;: [4.477765288704219, 50.93998959869676, 4.477765288704219, 50.93998959869676], &quot;geometry&quot;: {&quot;coordinates&quot;: [4.477765288704219, 50.93998959869676], &quot;type&quot;: &quot;Point&quot;}, &quot;id&quot;: &quot;8&quot;, &quot;properties&quot;: {&quot;boornummer&quot;: &quot;GEO-66/037-IIC-b259&quot;, &quot;pkey_boring&quot;: &quot;https://oefen.dov.vlaanderen.be/data/boring/1966-032933&quot;}, &quot;type&quot;: &quot;Feature&quot;}, {&quot;bbox&quot;: [4.4745691733791215, 50.935965340418115, 4.4745691733791215, 50.935965340418115], &quot;geometry&quot;: {&quot;coordinates&quot;: [4.4745691733791215, 50.935965340418115], &quot;type&quot;: &quot;Point&quot;}, &quot;id&quot;: &quot;9&quot;, &quot;properties&quot;: {&quot;boornummer&quot;: &quot;GEO-66/037-IIC-b264&quot;, &quot;pkey_boring&quot;: &quot;https://oefen.dov.vlaanderen.be/data/boring/1966-033000&quot;}, &quot;type&quot;: &quot;Feature&quot;}, {&quot;bbox&quot;: [3.5866416682440794, 50.83027398332684, 3.5866416682440794, 50.83027398332684], &quot;geometry&quot;: {&quot;coordinates&quot;: [3.5866416682440794, 50.83027398332684], &quot;type&quot;: &quot;Point&quot;}, &quot;id&quot;: &quot;10&quot;, &quot;properties&quot;: {&quot;boornummer&quot;: &quot;GEO-92/122-B1&quot;, &quot;pkey_boring&quot;: &quot;https://oefen.dov.vlaanderen.be/data/boring/1993-076577&quot;}, &quot;type&quot;: &quot;Feature&quot;}, {&quot;bbox&quot;: [4.42128809183689, 50.94515972973315, 4.42128809183689, 50.94515972973315], &quot;geometry&quot;: {&quot;coordinates&quot;: [4.42128809183689, 50.94515972973315], &quot;type&quot;: &quot;Point&quot;}, &quot;id&quot;: &quot;11&quot;, &quot;properties&quot;: {&quot;boornummer&quot;: &quot;GEO-98/111-B1&quot;, &quot;pkey_boring&quot;: &quot;https://oefen.dov.vlaanderen.be/data/boring/1998-076635&quot;}, &quot;type&quot;: &quot;Feature&quot;}, {&quot;bbox&quot;: [2.910853508990366, 51.23199131090044, 2.910853508990366, 51.23199131090044], &quot;geometry&quot;: {&quot;coordinates&quot;: [2.910853508990366, 51.23199131090044], &quot;type&quot;: &quot;Point&quot;}, &quot;id&quot;: &quot;12&quot;, &quot;properties&quot;: {&quot;boornummer&quot;: &quot;GEO-95/002-B1&quot;, &quot;pkey_boring&quot;: &quot;https://oefen.dov.vlaanderen.be/data/boring/1995-109266&quot;}, &quot;type&quot;: &quot;Feature&quot;}, {&quot;bbox&quot;: [2.9129618846969345, 51.233257903065244, 2.9129618846969345, 51.233257903065244], &quot;geometry&quot;: {&quot;coordinates&quot;: [2.9129618846969345, 51.233257903065244], &quot;type&quot;: &quot;Point&quot;}, &quot;id&quot;: &quot;13&quot;, &quot;properties&quot;: {&quot;boornummer&quot;: &quot;GEO-95/002-B2&quot;, &quot;pkey_boring&quot;: &quot;https://oefen.dov.vlaanderen.be/data/boring/1995-109267&quot;}, &quot;type&quot;: &quot;Feature&quot;}, {&quot;bbox&quot;: [2.915527886079532, 51.234548057409775, 2.915527886079532, 51.234548057409775], &quot;geometry&quot;: {&quot;coordinates&quot;: [2.915527886079532, 51.234548057409775], &quot;type&quot;: &quot;Point&quot;}, &quot;id&quot;: &quot;14&quot;, &quot;properties&quot;: {&quot;boornummer&quot;: &quot;GEO-95/002-B3&quot;, &quot;pkey_boring&quot;: &quot;https://oefen.dov.vlaanderen.be/data/boring/1995-109268&quot;}, &quot;type&quot;: &quot;Feature&quot;}, {&quot;bbox&quot;: [2.917331921404825, 51.235478197156176, 2.917331921404825, 51.235478197156176], &quot;geometry&quot;: {&quot;coordinates&quot;: [2.917331921404825, 51.235478197156176], &quot;type&quot;: &quot;Point&quot;}, &quot;id&quot;: &quot;15&quot;, &quot;properties&quot;: {&quot;boornummer&quot;: &quot;GEO-95/002-B4&quot;, &quot;pkey_boring&quot;: &quot;https://oefen.dov.vlaanderen.be/data/boring/1995-109269&quot;}, &quot;type&quot;: &quot;Feature&quot;}, {&quot;bbox&quot;: [2.9331014945575147, 51.22771441601009, 2.9331014945575147, 51.22771441601009], &quot;geometry&quot;: {&quot;coordinates&quot;: [2.9331014945575147, 51.22771441601009], &quot;type&quot;: &quot;Point&quot;}, &quot;id&quot;: &quot;16&quot;, &quot;properties&quot;: {&quot;boornummer&quot;: &quot;GEO-94/060-B1&quot;, &quot;pkey_boring&quot;: &quot;https://oefen.dov.vlaanderen.be/data/boring/1995-109270&quot;}, &quot;type&quot;: &quot;Feature&quot;}, {&quot;bbox&quot;: [2.9297722925835985, 51.225309582597, 2.9297722925835985, 51.225309582597], &quot;geometry&quot;: {&quot;coordinates&quot;: [2.9297722925835985, 51.225309582597], &quot;type&quot;: &quot;Point&quot;}, &quot;id&quot;: &quot;17&quot;, &quot;properties&quot;: {&quot;boornummer&quot;: &quot;GEO-85/043-a&quot;, &quot;pkey_boring&quot;: &quot;https://oefen.dov.vlaanderen.be/data/boring/1985-114427&quot;}, &quot;type&quot;: &quot;Feature&quot;}, {&quot;bbox&quot;: [2.930027283878155, 51.2249800520012, 2.930027283878155, 51.2249800520012], &quot;geometry&quot;: {&quot;coordinates&quot;: [2.930027283878155, 51.2249800520012], &quot;type&quot;: &quot;Point&quot;}, &quot;id&quot;: &quot;18&quot;, &quot;properties&quot;: {&quot;boornummer&quot;: &quot;GEO-85/043-b&quot;, &quot;pkey_boring&quot;: &quot;https://oefen.dov.vlaanderen.be/data/boring/1985-082206&quot;}, &quot;type&quot;: &quot;Feature&quot;}, {&quot;bbox&quot;: [2.930623679740309, 51.2243040596504, 2.930623679740309, 51.2243040596504], &quot;geometry&quot;: {&quot;coordinates&quot;: [2.930623679740309, 51.2243040596504], &quot;type&quot;: &quot;Point&quot;}, &quot;id&quot;: &quot;19&quot;, &quot;properties&quot;: {&quot;boornummer&quot;: &quot;GEO-85/043-c&quot;, &quot;pkey_boring&quot;: &quot;https://oefen.dov.vlaanderen.be/data/boring/1985-114428&quot;}, &quot;type&quot;: &quot;Feature&quot;}, {&quot;bbox&quot;: [3.0809377170610426, 51.198230555459375, 3.0809377170610426, 51.198230555459375], &quot;geometry&quot;: {&quot;coordinates&quot;: [3.0809377170610426, 51.198230555459375], &quot;type&quot;: &quot;Point&quot;}, &quot;id&quot;: &quot;20&quot;, &quot;properties&quot;: {&quot;boornummer&quot;: &quot;GEO-67/116A-b1&quot;, &quot;pkey_boring&quot;: &quot;https://oefen.dov.vlaanderen.be/data/boring/1967-076973&quot;}, &quot;type&quot;: &quot;Feature&quot;}, {&quot;bbox&quot;: [3.0799518115616316, 51.19766244383091, 3.0799518115616316, 51.19766244383091], &quot;geometry&quot;: {&quot;coordinates&quot;: [3.0799518115616316, 51.19766244383091], &quot;type&quot;: &quot;Point&quot;}, &quot;id&quot;: &quot;21&quot;, &quot;properties&quot;: {&quot;boornummer&quot;: &quot;GEO-67/116A-b2&quot;, &quot;pkey_boring&quot;: &quot;https://oefen.dov.vlaanderen.be/data/boring/1967-076949&quot;}, &quot;type&quot;: &quot;Feature&quot;}, {&quot;bbox&quot;: [3.078880603888525, 51.1970754133367, 3.078880603888525, 51.1970754133367], &quot;geometry&quot;: {&quot;coordinates&quot;: [3.078880603888525, 51.1970754133367], &quot;type&quot;: &quot;Point&quot;}, &quot;id&quot;: &quot;22&quot;, &quot;properties&quot;: {&quot;boornummer&quot;: &quot;GEO-67/116A-b3&quot;, &quot;pkey_boring&quot;: &quot;https://oefen.dov.vlaanderen.be/data/boring/1967-076946&quot;}, &quot;type&quot;: &quot;Feature&quot;}, {&quot;bbox&quot;: [3.077737159245511, 51.196514553413095, 3.077737159245511, 51.196514553413095], &quot;geometry&quot;: {&quot;coordinates&quot;: [3.077737159245511, 51.196514553413095], &quot;type&quot;: &quot;Point&quot;}, &quot;id&quot;: &quot;23&quot;, &quot;properties&quot;: {&quot;boornummer&quot;: &quot;GEO-67/116A-b4&quot;, &quot;pkey_boring&quot;: &quot;https://oefen.dov.vlaanderen.be/data/boring/1967-076974&quot;}, &quot;type&quot;: &quot;Feature&quot;}, {&quot;bbox&quot;: [3.0766075479516743, 51.195971812863476, 3.0766075479516743, 51.195971812863476], &quot;geometry&quot;: {&quot;coordinates&quot;: [3.0766075479516743, 51.195971812863476], &quot;type&quot;: &quot;Point&quot;}, &quot;id&quot;: &quot;24&quot;, &quot;properties&quot;: {&quot;boornummer&quot;: &quot;GEO-67/116A-b5&quot;, &quot;pkey_boring&quot;: &quot;https://oefen.dov.vlaanderen.be/data/boring/1967-076975&quot;}, &quot;type&quot;: &quot;Feature&quot;}, {&quot;bbox&quot;: [3.0754209987718726, 51.19541944841652, 3.0754209987718726, 51.19541944841652], &quot;geometry&quot;: {&quot;coordinates&quot;: [3.0754209987718726, 51.19541944841652], &quot;type&quot;: &quot;Point&quot;}, &quot;id&quot;: &quot;25&quot;, &quot;properties&quot;: {&quot;boornummer&quot;: &quot;GEO-67/116A-b6&quot;, &quot;pkey_boring&quot;: &quot;https://oefen.dov.vlaanderen.be/data/boring/1967-076976&quot;}, &quot;type&quot;: &quot;Feature&quot;}, {&quot;bbox&quot;: [3.0719004329553385, 51.19390654738902, 3.0719004329553385, 51.19390654738902], &quot;geometry&quot;: {&quot;coordinates&quot;: [3.0719004329553385, 51.19390654738902], &quot;type&quot;: &quot;Point&quot;}, &quot;id&quot;: &quot;26&quot;, &quot;properties&quot;: {&quot;boornummer&quot;: &quot;GEO-67/116A-b7bis&quot;, &quot;pkey_boring&quot;: &quot;https://oefen.dov.vlaanderen.be/data/boring/1967-024177&quot;}, &quot;type&quot;: &quot;Feature&quot;}, {&quot;bbox&quot;: [3.0708427158617697, 51.193355548544645, 3.0708427158617697, 51.193355548544645], &quot;geometry&quot;: {&quot;coordinates&quot;: [3.0708427158617697, 51.193355548544645], &quot;type&quot;: &quot;Point&quot;}, &quot;id&quot;: &quot;27&quot;, &quot;properties&quot;: {&quot;boornummer&quot;: &quot;GEO-67/116A-b8&quot;, &quot;pkey_boring&quot;: &quot;https://oefen.dov.vlaanderen.be/data/boring/1967-024178&quot;}, &quot;type&quot;: &quot;Feature&quot;}, {&quot;bbox&quot;: [3.069636246005687, 51.193009672038706, 3.069636246005687, 51.193009672038706], &quot;geometry&quot;: {&quot;coordinates&quot;: [3.069636246005687, 51.193009672038706], &quot;type&quot;: &quot;Point&quot;}, &quot;id&quot;: &quot;28&quot;, &quot;properties&quot;: {&quot;boornummer&quot;: &quot;GEO-67/116A-b9&quot;, &quot;pkey_boring&quot;: &quot;https://oefen.dov.vlaanderen.be/data/boring/1967-024179&quot;}, &quot;type&quot;: &quot;Feature&quot;}, {&quot;bbox&quot;: [3.0683753384183645, 51.19256429568407, 3.0683753384183645, 51.19256429568407], &quot;geometry&quot;: {&quot;coordinates&quot;: [3.0683753384183645, 51.19256429568407], &quot;type&quot;: &quot;Point&quot;}, &quot;id&quot;: &quot;29&quot;, &quot;properties&quot;: {&quot;boornummer&quot;: &quot;GEO-67/116A-b10&quot;, &quot;pkey_boring&quot;: &quot;https://oefen.dov.vlaanderen.be/data/boring/1967-108572&quot;}, &quot;type&quot;: &quot;Feature&quot;}, {&quot;bbox&quot;: [3.064368197817102, 51.19107277990392, 3.064368197817102, 51.19107277990392], &quot;geometry&quot;: {&quot;coordinates&quot;: [3.064368197817102, 51.19107277990392], &quot;type&quot;: &quot;Point&quot;}, &quot;id&quot;: &quot;30&quot;, &quot;properties&quot;: {&quot;boornummer&quot;: &quot;GEO-67/116A-b12&quot;, &quot;pkey_boring&quot;: &quot;https://oefen.dov.vlaanderen.be/data/boring/1967-024180&quot;}, &quot;type&quot;: &quot;Feature&quot;}, {&quot;bbox&quot;: [3.063063481965916, 51.190662821531006, 3.063063481965916, 51.190662821531006], &quot;geometry&quot;: {&quot;coordinates&quot;: [3.063063481965916, 51.190662821531006], &quot;type&quot;: &quot;Point&quot;}, &quot;id&quot;: &quot;31&quot;, &quot;properties&quot;: {&quot;boornummer&quot;: &quot;GEO-67/116A-b13&quot;, &quot;pkey_boring&quot;: &quot;https://oefen.dov.vlaanderen.be/data/boring/1967-024181&quot;}, &quot;type&quot;: &quot;Feature&quot;}, {&quot;bbox&quot;: [3.0618295425168833, 51.190280600602776, 3.0618295425168833, 51.190280600602776], &quot;geometry&quot;: {&quot;coordinates&quot;: [3.0618295425168833, 51.190280600602776], &quot;type&quot;: &quot;Point&quot;}, &quot;id&quot;: &quot;32&quot;, &quot;properties&quot;: {&quot;boornummer&quot;: &quot;GEO-67/116B-b46&quot;, &quot;pkey_boring&quot;: &quot;https://oefen.dov.vlaanderen.be/data/boring/1967-076947&quot;}, &quot;type&quot;: &quot;Feature&quot;}, {&quot;bbox&quot;: [3.059043814786691, 51.18962946665547, 3.059043814786691, 51.18962946665547], &quot;geometry&quot;: {&quot;coordinates&quot;: [3.059043814786691, 51.18962946665547], &quot;type&quot;: &quot;Point&quot;}, &quot;id&quot;: &quot;33&quot;, &quot;properties&quot;: {&quot;boornummer&quot;: &quot;GEO-67/116B-b48&quot;, &quot;pkey_boring&quot;: &quot;https://oefen.dov.vlaanderen.be/data/boring/1967-024182&quot;}, &quot;type&quot;: &quot;Feature&quot;}, {&quot;bbox&quot;: [3.0562998051893038, 51.18902367871599, 3.0562998051893038, 51.18902367871599], &quot;geometry&quot;: {&quot;coordinates&quot;: [3.0562998051893038, 51.18902367871599], &quot;type&quot;: &quot;Point&quot;}, &quot;id&quot;: &quot;34&quot;, &quot;properties&quot;: {&quot;boornummer&quot;: &quot;GEO-67/116B-b50&quot;, &quot;pkey_boring&quot;: &quot;https://oefen.dov.vlaanderen.be/data/boring/1967-024183&quot;}, &quot;type&quot;: &quot;Feature&quot;}, {&quot;bbox&quot;: [3.0549643388471104, 51.188694196890616, 3.0549643388471104, 51.188694196890616], &quot;geometry&quot;: {&quot;coordinates&quot;: [3.0549643388471104, 51.188694196890616], &quot;type&quot;: &quot;Point&quot;}, &quot;id&quot;: &quot;35&quot;, &quot;properties&quot;: {&quot;boornummer&quot;: &quot;GEO-67/116B-b51&quot;, &quot;pkey_boring&quot;: &quot;https://oefen.dov.vlaanderen.be/data/boring/1967-024189&quot;}, &quot;type&quot;: &quot;Feature&quot;}, {&quot;bbox&quot;: [3.0522628332292423, 51.188106766010684, 3.0522628332292423, 51.188106766010684], &quot;geometry&quot;: {&quot;coordinates&quot;: [3.0522628332292423, 51.188106766010684], &quot;type&quot;: &quot;Point&quot;}, &quot;id&quot;: &quot;36&quot;, &quot;properties&quot;: {&quot;boornummer&quot;: &quot;GEO-67/116B-b53&quot;, &quot;pkey_boring&quot;: &quot;https://oefen.dov.vlaanderen.be/data/boring/1967-024190&quot;}, &quot;type&quot;: &quot;Feature&quot;}, {&quot;bbox&quot;: [3.045610998660177, 51.18658511613047, 3.045610998660177, 51.18658511613047], &quot;geometry&quot;: {&quot;coordinates&quot;: [3.045610998660177, 51.18658511613047], &quot;type&quot;: &quot;Point&quot;}, &quot;id&quot;: &quot;37&quot;, &quot;properties&quot;: {&quot;boornummer&quot;: &quot;GEO-67/116B-b58&quot;, &quot;pkey_boring&quot;: &quot;https://oefen.dov.vlaanderen.be/data/boring/1967-077434&quot;}, &quot;type&quot;: &quot;Feature&quot;}, {&quot;bbox&quot;: [3.0328422402486104, 51.18388834173273, 3.0328422402486104, 51.18388834173273], &quot;geometry&quot;: {&quot;coordinates&quot;: [3.0328422402486104, 51.18388834173273], &quot;type&quot;: &quot;Point&quot;}, &quot;id&quot;: &quot;38&quot;, &quot;properties&quot;: {&quot;boornummer&quot;: &quot;GEO-67/116C-b68&quot;, &quot;pkey_boring&quot;: &quot;https://oefen.dov.vlaanderen.be/data/boring/1967-033545&quot;}, &quot;type&quot;: &quot;Feature&quot;}, {&quot;bbox&quot;: [3.030741352350351, 51.18332517861488, 3.030741352350351, 51.18332517861488], &quot;geometry&quot;: {&quot;coordinates&quot;: [3.030741352350351, 51.18332517861488], &quot;type&quot;: &quot;Point&quot;}, &quot;id&quot;: &quot;39&quot;, &quot;properties&quot;: {&quot;boornummer&quot;: &quot;GEO-67/116C-b70&quot;, &quot;pkey_boring&quot;: &quot;https://oefen.dov.vlaanderen.be/data/boring/1967-033546&quot;}, &quot;type&quot;: &quot;Feature&quot;}, {&quot;bbox&quot;: [3.0268379428065093, 51.18227404616592, 3.0268379428065093, 51.18227404616592], &quot;geometry&quot;: {&quot;coordinates&quot;: [3.0268379428065093, 51.18227404616592], &quot;type&quot;: &quot;Point&quot;}, &quot;id&quot;: &quot;40&quot;, &quot;properties&quot;: {&quot;boornummer&quot;: &quot;GEO-67/116C-b73&quot;, &quot;pkey_boring&quot;: &quot;https://oefen.dov.vlaanderen.be/data/boring/1967-033547&quot;}, &quot;type&quot;: &quot;Feature&quot;}, {&quot;bbox&quot;: [3.0230550571188597, 51.181017384707694, 3.0230550571188597, 51.181017384707694], &quot;geometry&quot;: {&quot;coordinates&quot;: [3.0230550571188597, 51.181017384707694], &quot;type&quot;: &quot;Point&quot;}, &quot;id&quot;: &quot;41&quot;, &quot;properties&quot;: {&quot;boornummer&quot;: &quot;GEO-67/116C-b76&quot;, &quot;pkey_boring&quot;: &quot;https://oefen.dov.vlaanderen.be/data/boring/1967-033548&quot;}, &quot;type&quot;: &quot;Feature&quot;}, {&quot;bbox&quot;: [3.020649969477008, 51.18009996420667, 3.020649969477008, 51.18009996420667], &quot;geometry&quot;: {&quot;coordinates&quot;: [3.020649969477008, 51.18009996420667], &quot;type&quot;: &quot;Point&quot;}, &quot;id&quot;: &quot;42&quot;, &quot;properties&quot;: {&quot;boornummer&quot;: &quot;GEO-67/116C-b78&quot;, &quot;pkey_boring&quot;: &quot;https://oefen.dov.vlaanderen.be/data/boring/1967-033549&quot;}, &quot;type&quot;: &quot;Feature&quot;}, {&quot;bbox&quot;: [3.018259534467554, 51.17917367076783, 3.018259534467554, 51.17917367076783], &quot;geometry&quot;: {&quot;coordinates&quot;: [3.018259534467554, 51.17917367076783], &quot;type&quot;: &quot;Point&quot;}, &quot;id&quot;: &quot;43&quot;, &quot;properties&quot;: {&quot;boornummer&quot;: &quot;GEO-67/116C-b80&quot;, &quot;pkey_boring&quot;: &quot;https://oefen.dov.vlaanderen.be/data/boring/1967-077436&quot;}, &quot;type&quot;: &quot;Feature&quot;}, {&quot;bbox&quot;: [3.0159271668489085, 51.17822102220693, 3.0159271668489085, 51.17822102220693], &quot;geometry&quot;: {&quot;coordinates&quot;: [3.0159271668489085, 51.17822102220693], &quot;type&quot;: &quot;Point&quot;}, &quot;id&quot;: &quot;44&quot;, &quot;properties&quot;: {&quot;boornummer&quot;: &quot;GEO-67/116C-b82&quot;, &quot;pkey_boring&quot;: &quot;https://oefen.dov.vlaanderen.be/data/boring/1967-033550&quot;}, &quot;type&quot;: &quot;Feature&quot;}, {&quot;bbox&quot;: [3.014724623008606, 51.177766738596894, 3.014724623008606, 51.177766738596894], &quot;geometry&quot;: {&quot;coordinates&quot;: [3.014724623008606, 51.177766738596894], &quot;type&quot;: &quot;Point&quot;}, &quot;id&quot;: &quot;45&quot;, &quot;properties&quot;: {&quot;boornummer&quot;: &quot;GEO-67/116C-b83&quot;, &quot;pkey_boring&quot;: &quot;https://oefen.dov.vlaanderen.be/data/boring/1967-033551&quot;}, &quot;type&quot;: &quot;Feature&quot;}, {&quot;bbox&quot;: [3.0140461571703248, 51.17748926200256, 3.0140461571703248, 51.17748926200256], &quot;geometry&quot;: {&quot;coordinates&quot;: [3.0140461571703248, 51.17748926200256], &quot;type&quot;: &quot;Point&quot;}, &quot;id&quot;: &quot;46&quot;, &quot;properties&quot;: {&quot;boornummer&quot;: &quot;GEO-67/116C-b84&quot;, &quot;pkey_boring&quot;: &quot;https://oefen.dov.vlaanderen.be/data/boring/1967-034295&quot;}, &quot;type&quot;: &quot;Feature&quot;}, {&quot;bbox&quot;: [3.0127175835232363, 51.176943612206, 3.0127175835232363, 51.176943612206], &quot;geometry&quot;: {&quot;coordinates&quot;: [3.0127175835232363, 51.176943612206], &quot;type&quot;: &quot;Point&quot;}, &quot;id&quot;: &quot;47&quot;, &quot;properties&quot;: {&quot;boornummer&quot;: &quot;GEO-67/116C-b85&quot;, &quot;pkey_boring&quot;: &quot;https://oefen.dov.vlaanderen.be/data/boring/1967-033552&quot;}, &quot;type&quot;: &quot;Feature&quot;}, {&quot;bbox&quot;: [3.0115148426024723, 51.176498282744525, 3.0115148426024723, 51.176498282744525], &quot;geometry&quot;: {&quot;coordinates&quot;: [3.0115148426024723, 51.176498282744525], &quot;type&quot;: &quot;Point&quot;}, &quot;id&quot;: &quot;48&quot;, &quot;properties&quot;: {&quot;boornummer&quot;: &quot;GEO-67/116D-b86&quot;, &quot;pkey_boring&quot;: &quot;https://oefen.dov.vlaanderen.be/data/boring/1967-033553&quot;}, &quot;type&quot;: &quot;Feature&quot;}, {&quot;bbox&quot;: [3.0102832688888896, 51.17606159929204, 3.0102832688888896, 51.17606159929204], &quot;geometry&quot;: {&quot;coordinates&quot;: [3.0102832688888896, 51.17606159929204], &quot;type&quot;: &quot;Point&quot;}, &quot;id&quot;: &quot;49&quot;, &quot;properties&quot;: {&quot;boornummer&quot;: &quot;GEO-67/116D-b87&quot;, &quot;pkey_boring&quot;: &quot;https://oefen.dov.vlaanderen.be/data/boring/1967-077437&quot;}, &quot;type&quot;: &quot;Feature&quot;}, {&quot;bbox&quot;: [2.976467383255977, 51.217031244224366, 2.976467383255977, 51.217031244224366], &quot;geometry&quot;: {&quot;coordinates&quot;: [2.976467383255977, 51.217031244224366], &quot;type&quot;: &quot;Point&quot;}, &quot;id&quot;: &quot;50&quot;, &quot;properties&quot;: {&quot;boornummer&quot;: &quot;GEO-70/053-A&quot;, &quot;pkey_boring&quot;: &quot;https://oefen.dov.vlaanderen.be/data/boring/1970-024188&quot;}, &quot;type&quot;: &quot;Feature&quot;}, {&quot;bbox&quot;: [2.9945914991364404, 51.213566316771136, 2.9945914991364404, 51.213566316771136], &quot;geometry&quot;: {&quot;coordinates&quot;: [2.9945914991364404, 51.213566316771136], &quot;type&quot;: &quot;Point&quot;}, &quot;id&quot;: &quot;51&quot;, &quot;properties&quot;: {&quot;boornummer&quot;: &quot;GEO-70/053-B&quot;, &quot;pkey_boring&quot;: &quot;https://oefen.dov.vlaanderen.be/data/boring/1970-026951&quot;}, &quot;type&quot;: &quot;Feature&quot;}, {&quot;bbox&quot;: [2.9776080243008836, 51.21670304674493, 2.9776080243008836, 51.21670304674493], &quot;geometry&quot;: {&quot;coordinates&quot;: [2.9776080243008836, 51.21670304674493], &quot;type&quot;: &quot;Point&quot;}, &quot;id&quot;: &quot;52&quot;, &quot;properties&quot;: {&quot;boornummer&quot;: &quot;GEO-79/130-C&quot;, &quot;pkey_boring&quot;: &quot;https://oefen.dov.vlaanderen.be/data/boring/1979-107829&quot;}, &quot;type&quot;: &quot;Feature&quot;}, {&quot;bbox&quot;: [2.9395177543295987, 51.22602107174402, 2.9395177543295987, 51.22602107174402], &quot;geometry&quot;: {&quot;coordinates&quot;: [2.9395177543295987, 51.22602107174402], &quot;type&quot;: &quot;Point&quot;}, &quot;id&quot;: &quot;53&quot;, &quot;properties&quot;: {&quot;boornummer&quot;: &quot;GEO-94/060-B5&quot;, &quot;pkey_boring&quot;: &quot;https://oefen.dov.vlaanderen.be/data/boring/1995-077451&quot;}, &quot;type&quot;: &quot;Feature&quot;}, {&quot;bbox&quot;: [2.941768302628204, 51.22452892599561, 2.941768302628204, 51.22452892599561], &quot;geometry&quot;: {&quot;coordinates&quot;: [2.941768302628204, 51.22452892599561], &quot;type&quot;: &quot;Point&quot;}, &quot;id&quot;: &quot;54&quot;, &quot;properties&quot;: {&quot;boornummer&quot;: &quot;GEO-94/055-B8&quot;, &quot;pkey_boring&quot;: &quot;https://oefen.dov.vlaanderen.be/data/boring/1995-077452&quot;}, &quot;type&quot;: &quot;Feature&quot;}, {&quot;bbox&quot;: [2.943288325802913, 51.22374713984658, 2.943288325802913, 51.22374713984658], &quot;geometry&quot;: {&quot;coordinates&quot;: [2.943288325802913, 51.22374713984658], &quot;type&quot;: &quot;Point&quot;}, &quot;id&quot;: &quot;55&quot;, &quot;properties&quot;: {&quot;boornummer&quot;: &quot;GEO-94/055-B9bis&quot;, &quot;pkey_boring&quot;: &quot;https://oefen.dov.vlaanderen.be/data/boring/1995-077455&quot;}, &quot;type&quot;: &quot;Feature&quot;}, {&quot;bbox&quot;: [2.9448045020421736, 51.22355863024801, 2.9448045020421736, 51.22355863024801], &quot;geometry&quot;: {&quot;coordinates&quot;: [2.9448045020421736, 51.22355863024801], &quot;type&quot;: &quot;Point&quot;}, &quot;id&quot;: &quot;56&quot;, &quot;properties&quot;: {&quot;boornummer&quot;: &quot;GEO-94/055-B13&quot;, &quot;pkey_boring&quot;: &quot;https://oefen.dov.vlaanderen.be/data/boring/1995-077456&quot;}, &quot;type&quot;: &quot;Feature&quot;}, {&quot;bbox&quot;: [2.946829510619851, 51.22311550821328, 2.946829510619851, 51.22311550821328], &quot;geometry&quot;: {&quot;coordinates&quot;: [2.946829510619851, 51.22311550821328], &quot;type&quot;: &quot;Point&quot;}, &quot;id&quot;: &quot;57&quot;, &quot;properties&quot;: {&quot;boornummer&quot;: &quot;GEO-94/058-B15&quot;, &quot;pkey_boring&quot;: &quot;https://oefen.dov.vlaanderen.be/data/boring/1995-077457&quot;}, &quot;type&quot;: &quot;Feature&quot;}, {&quot;bbox&quot;: [2.949616343132245, 51.22162966144853, 2.949616343132245, 51.22162966144853], &quot;geometry&quot;: {&quot;coordinates&quot;: [2.949616343132245, 51.22162966144853], &quot;type&quot;: &quot;Point&quot;}, &quot;id&quot;: &quot;58&quot;, &quot;properties&quot;: {&quot;boornummer&quot;: &quot;GEO-94/058-B20&quot;, &quot;pkey_boring&quot;: &quot;https://oefen.dov.vlaanderen.be/data/boring/1995-077458&quot;}, &quot;type&quot;: &quot;Feature&quot;}, {&quot;bbox&quot;: [2.940557025096396, 51.22294105105565, 2.940557025096396, 51.22294105105565], &quot;geometry&quot;: {&quot;coordinates&quot;: [2.940557025096396, 51.22294105105565], &quot;type&quot;: &quot;Point&quot;}, &quot;id&quot;: &quot;59&quot;, &quot;properties&quot;: {&quot;boornummer&quot;: &quot;GEO-96/096-B3&quot;, &quot;pkey_boring&quot;: &quot;https://oefen.dov.vlaanderen.be/data/boring/1996-077460&quot;}, &quot;type&quot;: &quot;Feature&quot;}, {&quot;bbox&quot;: [2.943842942956544, 51.21707422009201, 2.943842942956544, 51.21707422009201], &quot;geometry&quot;: {&quot;coordinates&quot;: [2.943842942956544, 51.21707422009201], &quot;type&quot;: &quot;Point&quot;}, &quot;id&quot;: &quot;60&quot;, &quot;properties&quot;: {&quot;boornummer&quot;: &quot;GEO-96/154-B1&quot;, &quot;pkey_boring&quot;: &quot;https://oefen.dov.vlaanderen.be/data/boring/1997-024187&quot;}, &quot;type&quot;: &quot;Feature&quot;}, {&quot;bbox&quot;: [2.7193177767639742, 51.083644687686146, 2.7193177767639742, 51.083644687686146], &quot;geometry&quot;: {&quot;coordinates&quot;: [2.7193177767639742, 51.083644687686146], &quot;type&quot;: &quot;Point&quot;}, &quot;id&quot;: &quot;61&quot;, &quot;properties&quot;: {&quot;boornummer&quot;: &quot;GEO-67/116N-b335&quot;, &quot;pkey_boring&quot;: &quot;https://oefen.dov.vlaanderen.be/data/boring/1971-010058&quot;}, &quot;type&quot;: &quot;Feature&quot;}, {&quot;bbox&quot;: [2.7169030732794006, 51.08249599304332, 2.7169030732794006, 51.08249599304332], &quot;geometry&quot;: {&quot;coordinates&quot;: [2.7169030732794006, 51.08249599304332], &quot;type&quot;: &quot;Point&quot;}, &quot;id&quot;: &quot;62&quot;, &quot;properties&quot;: {&quot;boornummer&quot;: &quot;GEO-67/116N-b337&quot;, &quot;pkey_boring&quot;: &quot;https://oefen.dov.vlaanderen.be/data/boring/1971-010059&quot;}, &quot;type&quot;: &quot;Feature&quot;}, {&quot;bbox&quot;: [3.008996623924711, 51.17555234858053, 3.008996623924711, 51.17555234858053], &quot;geometry&quot;: {&quot;coordinates&quot;: [3.008996623924711, 51.17555234858053], &quot;type&quot;: &quot;Point&quot;}, &quot;id&quot;: &quot;63&quot;, &quot;properties&quot;: {&quot;boornummer&quot;: &quot;GEO-67/116D-b88&quot;, &quot;pkey_boring&quot;: &quot;https://oefen.dov.vlaanderen.be/data/boring/1967-033554&quot;}, &quot;type&quot;: &quot;Feature&quot;}, {&quot;bbox&quot;: [3.0010310526441404, 51.173581496658265, 3.0010310526441404, 51.173581496658265], &quot;geometry&quot;: {&quot;coordinates&quot;: [3.0010310526441404, 51.173581496658265], &quot;type&quot;: &quot;Point&quot;}, &quot;id&quot;: &quot;64&quot;, &quot;properties&quot;: {&quot;boornummer&quot;: &quot;GEO-67/116D-b94&quot;, &quot;pkey_boring&quot;: &quot;https://oefen.dov.vlaanderen.be/data/boring/1967-033566&quot;}, &quot;type&quot;: &quot;Feature&quot;}, {&quot;bbox&quot;: [2.9968728935756914, 51.172975908479266, 2.9968728935756914, 51.172975908479266], &quot;geometry&quot;: {&quot;coordinates&quot;: [2.9968728935756914, 51.172975908479266], &quot;type&quot;: &quot;Point&quot;}, &quot;id&quot;: &quot;65&quot;, &quot;properties&quot;: {&quot;boornummer&quot;: &quot;GEO-67/116D-b97&quot;, &quot;pkey_boring&quot;: &quot;https://oefen.dov.vlaanderen.be/data/boring/1967-033556&quot;}, &quot;type&quot;: &quot;Feature&quot;}, {&quot;bbox&quot;: [2.992288613157936, 51.17227530837764, 2.992288613157936, 51.17227530837764], &quot;geometry&quot;: {&quot;coordinates&quot;: [2.992288613157936, 51.17227530837764], &quot;type&quot;: &quot;Point&quot;}, &quot;id&quot;: &quot;66&quot;, &quot;properties&quot;: {&quot;boornummer&quot;: &quot;GEO-67/116D-b101&quot;, &quot;pkey_boring&quot;: &quot;https://oefen.dov.vlaanderen.be/data/boring/1967-033557&quot;}, &quot;type&quot;: &quot;Feature&quot;}, {&quot;bbox&quot;: [2.9894702344979813, 51.1718288982174, 2.9894702344979813, 51.1718288982174], &quot;geometry&quot;: {&quot;coordinates&quot;: [2.9894702344979813, 51.1718288982174], &quot;type&quot;: &quot;Point&quot;}, &quot;id&quot;: &quot;67&quot;, &quot;properties&quot;: {&quot;boornummer&quot;: &quot;GEO-67/116D-b103&quot;, &quot;pkey_boring&quot;: &quot;https://oefen.dov.vlaanderen.be/data/boring/1967-033558&quot;}, &quot;type&quot;: &quot;Feature&quot;}, {&quot;bbox&quot;: [2.988116388190462, 51.17166924510133, 2.988116388190462, 51.17166924510133], &quot;geometry&quot;: {&quot;coordinates&quot;: [2.988116388190462, 51.17166924510133], &quot;type&quot;: &quot;Point&quot;}, &quot;id&quot;: &quot;68&quot;, &quot;properties&quot;: {&quot;boornummer&quot;: &quot;GEO-67/116D-b104&quot;, &quot;pkey_boring&quot;: &quot;https://oefen.dov.vlaanderen.be/data/boring/1967-033559&quot;}, &quot;type&quot;: &quot;Feature&quot;}, {&quot;bbox&quot;: [2.9838881556038226, 51.17102641612423, 2.9838881556038226, 51.17102641612423], &quot;geometry&quot;: {&quot;coordinates&quot;: [2.9838881556038226, 51.17102641612423], &quot;type&quot;: &quot;Point&quot;}, &quot;id&quot;: &quot;69&quot;, &quot;properties&quot;: {&quot;boornummer&quot;: &quot;GEO-67/116E-b107&quot;, &quot;pkey_boring&quot;: &quot;https://oefen.dov.vlaanderen.be/data/boring/1967-033560&quot;}, &quot;type&quot;: &quot;Feature&quot;}, {&quot;bbox&quot;: [2.9824785038294084, 51.17082109312323, 2.9824785038294084, 51.17082109312323], &quot;geometry&quot;: {&quot;coordinates&quot;: [2.9824785038294084, 51.17082109312323], &quot;type&quot;: &quot;Point&quot;}, &quot;id&quot;: &quot;70&quot;, &quot;properties&quot;: {&quot;boornummer&quot;: &quot;GEO-67/116E-b108&quot;, &quot;pkey_boring&quot;: &quot;https://oefen.dov.vlaanderen.be/data/boring/1967-033561&quot;}, &quot;type&quot;: &quot;Feature&quot;}, {&quot;bbox&quot;: [2.9811541025768364, 51.170634734595446, 2.9811541025768364, 51.170634734595446], &quot;geometry&quot;: {&quot;coordinates&quot;: [2.9811541025768364, 51.170634734595446], &quot;type&quot;: &quot;Point&quot;}, &quot;id&quot;: &quot;71&quot;, &quot;properties&quot;: {&quot;boornummer&quot;: &quot;GEO-67/116E-b109&quot;, &quot;pkey_boring&quot;: &quot;https://oefen.dov.vlaanderen.be/data/boring/1967-033562&quot;}, &quot;type&quot;: &quot;Feature&quot;}, {&quot;bbox&quot;: [2.9783057334786895, 51.17024164395666, 2.9783057334786895, 51.17024164395666], &quot;geometry&quot;: {&quot;coordinates&quot;: [2.9783057334786895, 51.17024164395666], &quot;type&quot;: &quot;Point&quot;}, &quot;id&quot;: &quot;72&quot;, &quot;properties&quot;: {&quot;boornummer&quot;: &quot;GEO-67/116E-b111&quot;, &quot;pkey_boring&quot;: &quot;https://oefen.dov.vlaanderen.be/data/boring/1967-033563&quot;}, &quot;type&quot;: &quot;Feature&quot;}, {&quot;bbox&quot;: [2.9740065586106, 51.1695886327375, 2.9740065586106, 51.1695886327375], &quot;geometry&quot;: {&quot;coordinates&quot;: [2.9740065586106, 51.1695886327375], &quot;type&quot;: &quot;Point&quot;}, &quot;id&quot;: &quot;73&quot;, &quot;properties&quot;: {&quot;boornummer&quot;: &quot;GEO-67/116E-b114&quot;, &quot;pkey_boring&quot;: &quot;https://oefen.dov.vlaanderen.be/data/boring/1967-033564&quot;}, &quot;type&quot;: &quot;Feature&quot;}, {&quot;bbox&quot;: [2.972112846590281, 51.169314538623254, 2.972112846590281, 51.169314538623254], &quot;geometry&quot;: {&quot;coordinates&quot;: [2.972112846590281, 51.169314538623254], &quot;type&quot;: &quot;Point&quot;}, &quot;id&quot;: &quot;74&quot;, &quot;properties&quot;: {&quot;boornummer&quot;: &quot;GEO-67/116E-b115&quot;, &quot;pkey_boring&quot;: &quot;https://oefen.dov.vlaanderen.be/data/boring/1967-033565&quot;}, &quot;type&quot;: &quot;Feature&quot;}, {&quot;bbox&quot;: [2.970789336575802, 51.16910110283439, 2.970789336575802, 51.16910110283439], &quot;geometry&quot;: {&quot;coordinates&quot;: [2.970789336575802, 51.16910110283439], &quot;type&quot;: &quot;Point&quot;}, &quot;id&quot;: &quot;75&quot;, &quot;properties&quot;: {&quot;boornummer&quot;: &quot;GEO-67/116E-b116&quot;, &quot;pkey_boring&quot;: &quot;https://oefen.dov.vlaanderen.be/data/boring/1967-024196&quot;}, &quot;type&quot;: &quot;Feature&quot;}, {&quot;bbox&quot;: [2.9682138264945346, 51.16867503397819, 2.9682138264945346, 51.16867503397819], &quot;geometry&quot;: {&quot;coordinates&quot;: [2.9682138264945346, 51.16867503397819], &quot;type&quot;: &quot;Point&quot;}, &quot;id&quot;: &quot;76&quot;, &quot;properties&quot;: {&quot;boornummer&quot;: &quot;GEO-67/116E-b117&quot;, &quot;pkey_boring&quot;: &quot;https://oefen.dov.vlaanderen.be/data/boring/1967-024197&quot;}, &quot;type&quot;: &quot;Feature&quot;}, {&quot;bbox&quot;: [2.966946991533244, 51.168480206805064, 2.966946991533244, 51.168480206805064], &quot;geometry&quot;: {&quot;coordinates&quot;: [2.966946991533244, 51.168480206805064], &quot;type&quot;: &quot;Point&quot;}, &quot;id&quot;: &quot;77&quot;, &quot;properties&quot;: {&quot;boornummer&quot;: &quot;GEO-67/116E-b118&quot;, &quot;pkey_boring&quot;: &quot;https://oefen.dov.vlaanderen.be/data/boring/1967-024198&quot;}, &quot;type&quot;: &quot;Feature&quot;}, {&quot;bbox&quot;: [2.964119385284728, 51.16788024302066, 2.964119385284728, 51.16788024302066], &quot;geometry&quot;: {&quot;coordinates&quot;: [2.964119385284728, 51.16788024302066], &quot;type&quot;: &quot;Point&quot;}, &quot;id&quot;: &quot;78&quot;, &quot;properties&quot;: {&quot;boornummer&quot;: &quot;GEO-67/116E-b119&quot;, &quot;pkey_boring&quot;: &quot;https://oefen.dov.vlaanderen.be/data/boring/1967-024199&quot;}, &quot;type&quot;: &quot;Feature&quot;}, {&quot;bbox&quot;: [2.962798116996381, 51.16759482184985, 2.962798116996381, 51.16759482184985], &quot;geometry&quot;: {&quot;coordinates&quot;: [2.962798116996381, 51.16759482184985], &quot;type&quot;: &quot;Point&quot;}, &quot;id&quot;: &quot;79&quot;, &quot;properties&quot;: {&quot;boornummer&quot;: &quot;GEO-67/116E-b120&quot;, &quot;pkey_boring&quot;: &quot;https://oefen.dov.vlaanderen.be/data/boring/1967-024200&quot;}, &quot;type&quot;: &quot;Feature&quot;}, {&quot;bbox&quot;: [2.96143533612813, 51.167263940267404, 2.96143533612813, 51.167263940267404], &quot;geometry&quot;: {&quot;coordinates&quot;: [2.96143533612813, 51.167263940267404], &quot;type&quot;: &quot;Point&quot;}, &quot;id&quot;: &quot;80&quot;, &quot;properties&quot;: {&quot;boornummer&quot;: &quot;GEO-67/116E-b121&quot;, &quot;pkey_boring&quot;: &quot;https://oefen.dov.vlaanderen.be/data/boring/1967-024201&quot;}, &quot;type&quot;: &quot;Feature&quot;}, {&quot;bbox&quot;: [2.960157255299254, 51.16697001332591, 2.960157255299254, 51.16697001332591], &quot;geometry&quot;: {&quot;coordinates&quot;: [2.960157255299254, 51.16697001332591], &quot;type&quot;: &quot;Point&quot;}, &quot;id&quot;: &quot;81&quot;, &quot;properties&quot;: {&quot;boornummer&quot;: &quot;GEO-67/116E-b122&quot;, &quot;pkey_boring&quot;: &quot;https://oefen.dov.vlaanderen.be/data/boring/1967-024202&quot;}, &quot;type&quot;: &quot;Feature&quot;}, {&quot;bbox&quot;: [2.956343111006921, 51.1658995942098, 2.956343111006921, 51.1658995942098], &quot;geometry&quot;: {&quot;coordinates&quot;: [2.956343111006921, 51.1658995942098], &quot;type&quot;: &quot;Point&quot;}, &quot;id&quot;: &quot;82&quot;, &quot;properties&quot;: {&quot;boornummer&quot;: &quot;GEO-67/116E-b125&quot;, &quot;pkey_boring&quot;: &quot;https://oefen.dov.vlaanderen.be/data/boring/1967-024203&quot;}, &quot;type&quot;: &quot;Feature&quot;}, {&quot;bbox&quot;: [2.9797153493994757, 51.17044701680453, 2.9797153493994757, 51.17044701680453], &quot;geometry&quot;: {&quot;coordinates&quot;: [2.9797153493994757, 51.17044701680453], &quot;type&quot;: &quot;Point&quot;}, &quot;id&quot;: &quot;83&quot;, &quot;properties&quot;: {&quot;boornummer&quot;: &quot;GEO-67/116E-b110&quot;, &quot;pkey_boring&quot;: &quot;https://oefen.dov.vlaanderen.be/data/boring/1967-024204&quot;}, &quot;type&quot;: &quot;Feature&quot;}, {&quot;bbox&quot;: [3.6550145691232103, 50.92982276073247, 3.6550145691232103, 50.92982276073247], &quot;geometry&quot;: {&quot;coordinates&quot;: [3.6550145691232103, 50.92982276073247], &quot;type&quot;: &quot;Point&quot;}, &quot;id&quot;: &quot;84&quot;, &quot;properties&quot;: {&quot;boornummer&quot;: &quot;GEO-43/315-A&quot;, &quot;pkey_boring&quot;: &quot;https://oefen.dov.vlaanderen.be/data/boring/1945-026983&quot;}, &quot;type&quot;: &quot;Feature&quot;}, {&quot;bbox&quot;: [3.6540340822702673, 50.9297538781138, 3.6540340822702673, 50.9297538781138], &quot;geometry&quot;: {&quot;coordinates&quot;: [3.6540340822702673, 50.9297538781138], &quot;type&quot;: &quot;Point&quot;}, &quot;id&quot;: &quot;85&quot;, &quot;properties&quot;: {&quot;boornummer&quot;: &quot;GEO-43/315-B&quot;, &quot;pkey_boring&quot;: &quot;https://oefen.dov.vlaanderen.be/data/boring/1945-026984&quot;}, &quot;type&quot;: &quot;Feature&quot;}, {&quot;bbox&quot;: [3.664797814466365, 50.91772763239825, 3.664797814466365, 50.91772763239825], &quot;geometry&quot;: {&quot;coordinates&quot;: [3.664797814466365, 50.91772763239825], &quot;type&quot;: &quot;Point&quot;}, &quot;id&quot;: &quot;86&quot;, &quot;properties&quot;: {&quot;boornummer&quot;: &quot;GEO-61/2890-a&quot;, &quot;pkey_boring&quot;: &quot;https://oefen.dov.vlaanderen.be/data/boring/1961-026985&quot;}, &quot;type&quot;: &quot;Feature&quot;}, {&quot;bbox&quot;: [3.663050260035331, 50.91856219120047, 3.663050260035331, 50.91856219120047], &quot;geometry&quot;: {&quot;coordinates&quot;: [3.663050260035331, 50.91856219120047], &quot;type&quot;: &quot;Point&quot;}, &quot;id&quot;: &quot;87&quot;, &quot;properties&quot;: {&quot;boornummer&quot;: &quot;GEO-61/2890-b&quot;, &quot;pkey_boring&quot;: &quot;https://oefen.dov.vlaanderen.be/data/boring/1961-026986&quot;}, &quot;type&quot;: &quot;Feature&quot;}, {&quot;bbox&quot;: [3.6620218133178053, 50.91980558654367, 3.6620218133178053, 50.91980558654367], &quot;geometry&quot;: {&quot;coordinates&quot;: [3.6620218133178053, 50.91980558654367], &quot;type&quot;: &quot;Point&quot;}, &quot;id&quot;: &quot;88&quot;, &quot;properties&quot;: {&quot;boornummer&quot;: &quot;GEO-61/2890-c&quot;, &quot;pkey_boring&quot;: &quot;https://oefen.dov.vlaanderen.be/data/boring/1961-026987&quot;}, &quot;type&quot;: &quot;Feature&quot;}, {&quot;bbox&quot;: [3.6605836078750293, 50.92086671104489, 3.6605836078750293, 50.92086671104489], &quot;geometry&quot;: {&quot;coordinates&quot;: [3.6605836078750293, 50.92086671104489], &quot;type&quot;: &quot;Point&quot;}, &quot;id&quot;: &quot;89&quot;, &quot;properties&quot;: {&quot;boornummer&quot;: &quot;GEO-61/2890-d&quot;, &quot;pkey_boring&quot;: &quot;https://oefen.dov.vlaanderen.be/data/boring/1961-026988&quot;}, &quot;type&quot;: &quot;Feature&quot;}, {&quot;bbox&quot;: [3.659400373324755, 50.92199228451004, 3.659400373324755, 50.92199228451004], &quot;geometry&quot;: {&quot;coordinates&quot;: [3.659400373324755, 50.92199228451004], &quot;type&quot;: &quot;Point&quot;}, &quot;id&quot;: &quot;90&quot;, &quot;properties&quot;: {&quot;boornummer&quot;: &quot;GEO-61/2890-e&quot;, &quot;pkey_boring&quot;: &quot;https://oefen.dov.vlaanderen.be/data/boring/1961-026989&quot;}, &quot;type&quot;: &quot;Feature&quot;}, {&quot;bbox&quot;: [3.6587268932222874, 50.92326476073328, 3.6587268932222874, 50.92326476073328], &quot;geometry&quot;: {&quot;coordinates&quot;: [3.6587268932222874, 50.92326476073328], &quot;type&quot;: &quot;Point&quot;}, &quot;id&quot;: &quot;91&quot;, &quot;properties&quot;: {&quot;boornummer&quot;: &quot;GEO-61/2890-f&quot;, &quot;pkey_boring&quot;: &quot;https://oefen.dov.vlaanderen.be/data/boring/1961-026990&quot;}, &quot;type&quot;: &quot;Feature&quot;}, {&quot;bbox&quot;: [3.6581514364610364, 50.92463671215147, 3.6581514364610364, 50.92463671215147], &quot;geometry&quot;: {&quot;coordinates&quot;: [3.6581514364610364, 50.92463671215147], &quot;type&quot;: &quot;Point&quot;}, &quot;id&quot;: &quot;92&quot;, &quot;properties&quot;: {&quot;boornummer&quot;: &quot;GEO-61/2890-g&quot;, &quot;pkey_boring&quot;: &quot;https://oefen.dov.vlaanderen.be/data/boring/1961-026991&quot;}, &quot;type&quot;: &quot;Feature&quot;}, {&quot;bbox&quot;: [3.6580459746029956, 50.92596655323341, 3.6580459746029956, 50.92596655323341], &quot;geometry&quot;: {&quot;coordinates&quot;: [3.6580459746029956, 50.92596655323341], &quot;type&quot;: &quot;Point&quot;}, &quot;id&quot;: &quot;93&quot;, &quot;properties&quot;: {&quot;boornummer&quot;: &quot;GEO-61/2890-h&quot;, &quot;pkey_boring&quot;: &quot;https://oefen.dov.vlaanderen.be/data/boring/1961-026992&quot;}, &quot;type&quot;: &quot;Feature&quot;}, {&quot;bbox&quot;: [3.6569090086198845, 50.928719518758506, 3.6569090086198845, 50.928719518758506], &quot;geometry&quot;: {&quot;coordinates&quot;: [3.6569090086198845, 50.928719518758506], &quot;type&quot;: &quot;Point&quot;}, &quot;id&quot;: &quot;94&quot;, &quot;properties&quot;: {&quot;boornummer&quot;: &quot;GEO-61/2890-j&quot;, &quot;pkey_boring&quot;: &quot;https://oefen.dov.vlaanderen.be/data/boring/1961-026993&quot;}, &quot;type&quot;: &quot;Feature&quot;}, {&quot;bbox&quot;: [3.6557235774501686, 50.92997089689256, 3.6557235774501686, 50.92997089689256], &quot;geometry&quot;: {&quot;coordinates&quot;: [3.6557235774501686, 50.92997089689256], &quot;type&quot;: &quot;Point&quot;}, &quot;id&quot;: &quot;95&quot;, &quot;properties&quot;: {&quot;boornummer&quot;: &quot;GEO-61/2890-k&quot;, &quot;pkey_boring&quot;: &quot;https://oefen.dov.vlaanderen.be/data/boring/1961-026994&quot;}, &quot;type&quot;: &quot;Feature&quot;}, {&quot;bbox&quot;: [3.6528158848177346, 50.935014436098655, 3.6528158848177346, 50.935014436098655], &quot;geometry&quot;: {&quot;coordinates&quot;: [3.6528158848177346, 50.935014436098655], &quot;type&quot;: &quot;Point&quot;}, &quot;id&quot;: &quot;96&quot;, &quot;properties&quot;: {&quot;boornummer&quot;: &quot;GEO-61/2890-o&quot;, &quot;pkey_boring&quot;: &quot;https://oefen.dov.vlaanderen.be/data/boring/1961-026998&quot;}, &quot;type&quot;: &quot;Feature&quot;}, {&quot;bbox&quot;: [3.6514611236389074, 50.936156863297796, 3.6514611236389074, 50.936156863297796], &quot;geometry&quot;: {&quot;coordinates&quot;: [3.6514611236389074, 50.936156863297796], &quot;type&quot;: &quot;Point&quot;}, &quot;id&quot;: &quot;97&quot;, &quot;properties&quot;: {&quot;boornummer&quot;: &quot;GEO-61/2890-p&quot;, &quot;pkey_boring&quot;: &quot;https://oefen.dov.vlaanderen.be/data/boring/1961-026999&quot;}, &quot;type&quot;: &quot;Feature&quot;}, {&quot;bbox&quot;: [3.649518391678547, 50.941314072855, 3.649518391678547, 50.941314072855], &quot;geometry&quot;: {&quot;coordinates&quot;: [3.649518391678547, 50.941314072855], &quot;type&quot;: &quot;Point&quot;}, &quot;id&quot;: &quot;98&quot;, &quot;properties&quot;: {&quot;boornummer&quot;: &quot;GEO-61/2890-t&quot;, &quot;pkey_boring&quot;: &quot;https://oefen.dov.vlaanderen.be/data/boring/1961-027003&quot;}, &quot;type&quot;: &quot;Feature&quot;}, {&quot;bbox&quot;: [3.7215404868392308, 50.99005111777964, 3.7215404868392308, 50.99005111777964], &quot;geometry&quot;: {&quot;coordinates&quot;: [3.7215404868392308, 50.99005111777964], &quot;type&quot;: &quot;Point&quot;}, &quot;id&quot;: &quot;99&quot;, &quot;properties&quot;: {&quot;boornummer&quot;: &quot;GEO-67/565-b1&quot;, &quot;pkey_boring&quot;: &quot;https://oefen.dov.vlaanderen.be/data/boring/1968-024206&quot;}, &quot;type&quot;: &quot;Feature&quot;}], &quot;type&quot;: &quot;FeatureCollection&quot;});\n",
       "\n",
       "        \n",
       "    \n",
       "    geo_json_45ba25e88fce06a98f6933c20b4a2b09.bindTooltip(\n",
       "    function(layer){\n",
       "    let div = L.DomUtil.create(&#x27;div&#x27;);\n",
       "    \n",
       "    let handleObject = feature=&gt;typeof(feature)==&#x27;object&#x27; ? JSON.stringify(feature) : feature;\n",
       "    let fields = [&quot;pkey_boring&quot;, &quot;boornummer&quot;];\n",
       "    let aliases = [&quot;pkey_boring&quot;, &quot;boornummer&quot;];\n",
       "    let table = &#x27;&lt;table&gt;&#x27; +\n",
       "        String(\n",
       "        fields.map(\n",
       "        (v,i)=&gt;\n",
       "        `&lt;tr&gt;\n",
       "            &lt;th&gt;${aliases[i]}&lt;/th&gt;\n",
       "            \n",
       "            &lt;td&gt;${handleObject(layer.feature.properties[v])}&lt;/td&gt;\n",
       "        &lt;/tr&gt;`).join(&#x27;&#x27;))\n",
       "    +&#x27;&lt;/table&gt;&#x27;;\n",
       "    div.innerHTML=table;\n",
       "    \n",
       "    return div\n",
       "    }\n",
       "    ,{\n",
       "  &quot;sticky&quot;: true,\n",
       "  &quot;className&quot;: &quot;foliumtooltip&quot;,\n",
       "});\n",
       "                     \n",
       "    \n",
       "            geo_json_45ba25e88fce06a98f6933c20b4a2b09.addTo(map_1b2c278441422224c01515ec32042d88);\n",
       "        \n",
       "&lt;/script&gt;\n",
       "&lt;/html&gt;\" style=\"position:absolute;width:100%;height:100%;left:0;top:0;border:none !important;\" allowfullscreen webkitallowfullscreen mozallowfullscreen></iframe></div></div>"
      ],
      "text/plain": [
       "<folium.folium.Map at 0x1f07863f6d0>"
      ]
     },
     "execution_count": 113,
     "metadata": {},
     "output_type": "execute_result"
    }
   ],
   "source": [
    "gdf = gpd.GeoDataFrame(boringen, geometry='geom', crs='EPSG:31370')\n",
    "gdf.explore()"
   ]
  },
  {
   "cell_type": "markdown",
   "metadata": {},
   "source": [
    "## Adding the sampled object to the monster dataframe"
   ]
  },
  {
   "cell_type": "markdown",
   "metadata": {},
   "source": [
    "The default dataframe of the Monster datatype doesn't contains information about the 'sampled object' by default. This can be added to the dataframe as its subtype. "
   ]
  },
  {
   "cell_type": "code",
   "execution_count": 69,
   "metadata": {},
   "outputs": [
    {
     "data": {
      "text/plain": [
       "{'BemonsterdObject': {'name': 'BemonsterdObject',\n",
       "  'class': pydov.types.monster.BemonsterdObject,\n",
       "  'definition': 'Subtype listing the method used to make the borehole. It has the following fields: bemonsterd_object_type, bemonsterd_object_naam, bemonsterd_object_permkey.'}}"
      ]
     },
     "execution_count": 69,
     "metadata": {},
     "output_type": "execute_result"
    }
   ],
   "source": [
    "from pydov.types.monster import Monster\n",
    "\n",
    "Monster.get_subtypes()"
   ]
  },
  {
   "cell_type": "markdown",
   "metadata": {},
   "source": [
    "To retrieve the colors instead of the method, we can instantiate the search class with the `Kleur` subtype:"
   ]
  },
  {
   "cell_type": "code",
   "execution_count": 70,
   "metadata": {},
   "outputs": [],
   "source": [
    "from pydov.types.monster import BemonsterdObject\n",
    "\n",
    "monster_search = MonsterSearch(\n",
    "    objecttype=Monster.with_subtype(BemonsterdObject)\n",
    ")"
   ]
  },
  {
   "cell_type": "code",
   "execution_count": 71,
   "metadata": {},
   "outputs": [
    {
     "data": {
      "text/plain": [
       "{'name': 'bemonsterd_object_permkey',\n",
       " 'type': 'string',\n",
       " 'list': False,\n",
       " 'definition': 'Een unieke DOV identifier in de vorm van een permkey.',\n",
       " 'notnull': False,\n",
       " 'query': False,\n",
       " 'cost': 10}"
      ]
     },
     "execution_count": 71,
     "metadata": {},
     "output_type": "execute_result"
    }
   ],
   "source": [
    "monster_search.get_fields()['bemonsterd_object_permkey']"
   ]
  },
  {
   "cell_type": "code",
   "execution_count": 76,
   "metadata": {},
   "outputs": [
    {
     "name": "stdout",
     "output_type": "stream",
     "text": [
      "[000/001] .\n",
      "[000/010] cccccccccc\n"
     ]
    },
    {
     "data": {
      "text/html": [
       "<div>\n",
       "<style scoped>\n",
       "    .dataframe tbody tr th:only-of-type {\n",
       "        vertical-align: middle;\n",
       "    }\n",
       "\n",
       "    .dataframe tbody tr th {\n",
       "        vertical-align: top;\n",
       "    }\n",
       "\n",
       "    .dataframe thead th {\n",
       "        text-align: right;\n",
       "    }\n",
       "</style>\n",
       "<table border=\"1\" class=\"dataframe\">\n",
       "  <thead>\n",
       "    <tr style=\"text-align: right;\">\n",
       "      <th></th>\n",
       "      <th>pkey_monster</th>\n",
       "      <th>naam</th>\n",
       "      <th>pkey_parents</th>\n",
       "      <th>materiaalklasse</th>\n",
       "      <th>datum_monstername</th>\n",
       "      <th>diepte_van_m</th>\n",
       "      <th>diepte_tot_m</th>\n",
       "      <th>monstertype</th>\n",
       "      <th>monstersamenstelling</th>\n",
       "      <th>bemonsteringsprocedure</th>\n",
       "      <th>bemonsteringsinstrument</th>\n",
       "      <th>bemonstering_door</th>\n",
       "      <th>bemonsterd_object_type</th>\n",
       "      <th>bemonsterd_object_naam</th>\n",
       "      <th>bemonsterd_object_permkey</th>\n",
       "    </tr>\n",
       "  </thead>\n",
       "  <tbody>\n",
       "    <tr>\n",
       "      <th>0</th>\n",
       "      <td>https://oefen.dov.vlaanderen.be/data/monster/2...</td>\n",
       "      <td>12</td>\n",
       "      <td>[https://oefen.dov.vlaanderen.be/data/boring/2...</td>\n",
       "      <td>sediment</td>\n",
       "      <td>2002-03-04</td>\n",
       "      <td>5.50</td>\n",
       "      <td>6.00</td>\n",
       "      <td>ongeroerd</td>\n",
       "      <td>ENKELVOUDIG</td>\n",
       "      <td>NaN</td>\n",
       "      <td>steekbus</td>\n",
       "      <td>MVG - Afdeling Geotechniek</td>\n",
       "      <td>BORING</td>\n",
       "      <td>GEO-02/028-B5</td>\n",
       "      <td>2002-003282</td>\n",
       "    </tr>\n",
       "    <tr>\n",
       "      <th>1</th>\n",
       "      <td>https://oefen.dov.vlaanderen.be/data/monster/2...</td>\n",
       "      <td>16A</td>\n",
       "      <td>[https://oefen.dov.vlaanderen.be/data/boring/2...</td>\n",
       "      <td>sediment</td>\n",
       "      <td>2002-03-04</td>\n",
       "      <td>7.00</td>\n",
       "      <td>7.12</td>\n",
       "      <td>ongeroerd</td>\n",
       "      <td>ENKELVOUDIG</td>\n",
       "      <td>NaN</td>\n",
       "      <td>steekbus</td>\n",
       "      <td>MVG - Afdeling Geotechniek</td>\n",
       "      <td>BORING</td>\n",
       "      <td>GEO-02/028-B5</td>\n",
       "      <td>2002-003282</td>\n",
       "    </tr>\n",
       "    <tr>\n",
       "      <th>2</th>\n",
       "      <td>https://oefen.dov.vlaanderen.be/data/monster/2...</td>\n",
       "      <td>16B</td>\n",
       "      <td>[https://oefen.dov.vlaanderen.be/data/boring/2...</td>\n",
       "      <td>sediment</td>\n",
       "      <td>2002-03-04</td>\n",
       "      <td>7.12</td>\n",
       "      <td>7.27</td>\n",
       "      <td>ongeroerd</td>\n",
       "      <td>ENKELVOUDIG</td>\n",
       "      <td>NaN</td>\n",
       "      <td>steekbus</td>\n",
       "      <td>MVG - Afdeling Geotechniek</td>\n",
       "      <td>BORING</td>\n",
       "      <td>GEO-02/028-B5</td>\n",
       "      <td>2002-003282</td>\n",
       "    </tr>\n",
       "    <tr>\n",
       "      <th>3</th>\n",
       "      <td>https://oefen.dov.vlaanderen.be/data/monster/2...</td>\n",
       "      <td>16C</td>\n",
       "      <td>[https://oefen.dov.vlaanderen.be/data/boring/2...</td>\n",
       "      <td>sediment</td>\n",
       "      <td>2002-03-04</td>\n",
       "      <td>7.27</td>\n",
       "      <td>7.43</td>\n",
       "      <td>ongeroerd</td>\n",
       "      <td>ENKELVOUDIG</td>\n",
       "      <td>NaN</td>\n",
       "      <td>steekbus</td>\n",
       "      <td>MVG - Afdeling Geotechniek</td>\n",
       "      <td>BORING</td>\n",
       "      <td>GEO-02/028-B5</td>\n",
       "      <td>2002-003282</td>\n",
       "    </tr>\n",
       "    <tr>\n",
       "      <th>4</th>\n",
       "      <td>https://oefen.dov.vlaanderen.be/data/monster/2...</td>\n",
       "      <td>16D</td>\n",
       "      <td>[https://oefen.dov.vlaanderen.be/data/boring/2...</td>\n",
       "      <td>sediment</td>\n",
       "      <td>2002-03-04</td>\n",
       "      <td>7.43</td>\n",
       "      <td>7.50</td>\n",
       "      <td>ongeroerd</td>\n",
       "      <td>ENKELVOUDIG</td>\n",
       "      <td>NaN</td>\n",
       "      <td>steekbus</td>\n",
       "      <td>MVG - Afdeling Geotechniek</td>\n",
       "      <td>BORING</td>\n",
       "      <td>GEO-02/028-B5</td>\n",
       "      <td>2002-003282</td>\n",
       "    </tr>\n",
       "  </tbody>\n",
       "</table>\n",
       "</div>"
      ],
      "text/plain": [
       "                                        pkey_monster naam  \\\n",
       "0  https://oefen.dov.vlaanderen.be/data/monster/2...   12   \n",
       "1  https://oefen.dov.vlaanderen.be/data/monster/2...  16A   \n",
       "2  https://oefen.dov.vlaanderen.be/data/monster/2...  16B   \n",
       "3  https://oefen.dov.vlaanderen.be/data/monster/2...  16C   \n",
       "4  https://oefen.dov.vlaanderen.be/data/monster/2...  16D   \n",
       "\n",
       "                                        pkey_parents materiaalklasse  \\\n",
       "0  [https://oefen.dov.vlaanderen.be/data/boring/2...        sediment   \n",
       "1  [https://oefen.dov.vlaanderen.be/data/boring/2...        sediment   \n",
       "2  [https://oefen.dov.vlaanderen.be/data/boring/2...        sediment   \n",
       "3  [https://oefen.dov.vlaanderen.be/data/boring/2...        sediment   \n",
       "4  [https://oefen.dov.vlaanderen.be/data/boring/2...        sediment   \n",
       "\n",
       "  datum_monstername  diepte_van_m  diepte_tot_m monstertype  \\\n",
       "0        2002-03-04          5.50          6.00   ongeroerd   \n",
       "1        2002-03-04          7.00          7.12   ongeroerd   \n",
       "2        2002-03-04          7.12          7.27   ongeroerd   \n",
       "3        2002-03-04          7.27          7.43   ongeroerd   \n",
       "4        2002-03-04          7.43          7.50   ongeroerd   \n",
       "\n",
       "  monstersamenstelling  bemonsteringsprocedure bemonsteringsinstrument  \\\n",
       "0          ENKELVOUDIG                     NaN                steekbus   \n",
       "1          ENKELVOUDIG                     NaN                steekbus   \n",
       "2          ENKELVOUDIG                     NaN                steekbus   \n",
       "3          ENKELVOUDIG                     NaN                steekbus   \n",
       "4          ENKELVOUDIG                     NaN                steekbus   \n",
       "\n",
       "            bemonstering_door bemonsterd_object_type bemonsterd_object_naam  \\\n",
       "0  MVG - Afdeling Geotechniek                 BORING          GEO-02/028-B5   \n",
       "1  MVG - Afdeling Geotechniek                 BORING          GEO-02/028-B5   \n",
       "2  MVG - Afdeling Geotechniek                 BORING          GEO-02/028-B5   \n",
       "3  MVG - Afdeling Geotechniek                 BORING          GEO-02/028-B5   \n",
       "4  MVG - Afdeling Geotechniek                 BORING          GEO-02/028-B5   \n",
       "\n",
       "  bemonsterd_object_permkey  \n",
       "0               2002-003282  \n",
       "1               2002-003282  \n",
       "2               2002-003282  \n",
       "3               2002-003282  \n",
       "4               2002-003282  "
      ]
     },
     "execution_count": 76,
     "metadata": {},
     "output_type": "execute_result"
    }
   ],
   "source": [
    "df = monster_search.search(location=Within(Box(122000, 187000, 124000, 189000)), max_features = 10)\n",
    "df.head()"
   ]
  }
 ],
 "metadata": {
  "kernelspec": {
   "display_name": "Python 3 (ipykernel)",
   "language": "python",
   "name": "python3"
  },
  "language_info": {
   "codemirror_mode": {
    "name": "ipython",
    "version": 3
   },
   "file_extension": ".py",
   "mimetype": "text/x-python",
   "name": "python",
   "nbconvert_exporter": "python",
   "pygments_lexer": "ipython3",
   "version": "3.11.9"
  }
 },
 "nbformat": 4,
 "nbformat_minor": 4
}
