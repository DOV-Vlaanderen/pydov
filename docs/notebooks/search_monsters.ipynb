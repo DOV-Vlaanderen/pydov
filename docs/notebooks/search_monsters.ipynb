{
 "cells": [
  {
   "cell_type": "markdown",
   "metadata": {},
   "source": [
    "# Example of DOV search methods for samples (monsters)"
   ]
  },
  {
   "cell_type": "markdown",
   "metadata": {},
   "source": [
    "[![Binder](https://mybinder.org/badge_logo.svg)](https://mybinder.org/v2/gh/DOV-Vlaanderen/pydov/master?filepath=docs%2Fnotebooks%2Fsearch_grondmonsters.ipynb)"
   ]
  },
  {
   "cell_type": "markdown",
   "metadata": {},
   "source": [
    "## Use cases explained below\n",
    "* Get samples in a bounding box\n",
    "* Get samples in a bounding box based on specific properties\n",
    "* Get sample based on fields not available in the standard output dataframe\n",
    "* Get a boxplot with the depth distribution of samples with sampling instrument 'steekbuis'\n",
    "* Finding the boreholes associated with the monsters and visualize results\n",
    "* Adding the sampled object to the monster dataframe"
   ]
  },
  {
   "cell_type": "code",
   "execution_count": 4,
   "metadata": {},
   "outputs": [],
   "source": [
    "%matplotlib inline\n",
    "import inspect, sys"
   ]
  },
  {
   "cell_type": "code",
   "execution_count": 3,
   "metadata": {},
   "outputs": [],
   "source": [
    "# check pydov path\n",
    "import pydov"
   ]
  },
  {
   "cell_type": "markdown",
   "metadata": {},
   "source": [
    "## Get information about the datatype 'Monster'"
   ]
  },
  {
   "cell_type": "code",
   "execution_count": 5,
   "metadata": {},
   "outputs": [],
   "source": [
    "from pydov.search.monster import MonsterSearch\n",
    "monster = MonsterSearch()"
   ]
  },
  {
   "cell_type": "markdown",
   "metadata": {},
   "source": [
    "A description is provided for the 'Monster' datatype:"
   ]
  },
  {
   "cell_type": "code",
   "execution_count": 4,
   "metadata": {},
   "outputs": [
    {
     "name": "stdout",
     "output_type": "stream",
     "text": [
      "Monsters in DOV zijn monsters die gekoppeld zijn aan een boring. Deze monsters zijn gekenmerkt door een diepte ten opzichte van het maaiveld en door de manier van staalname. De geografische ligging (X en Y (mL72) en Z (mTAW)) nemen ze over van de gekoppelde boring. Aan deze monsters zijn laboproeven, namelijk resultaten afkomstig van analyses in het laboratorium of enkel referenties naar bepaalde analyses, gekoppeld. De analyseresultaten van de monsters kunnen zeer divers zijn, namelijk onderkenningsproeven met centraal de korrelgrootteverdeling maar ook plasticiteitsgrenzen en humus- en kalkgehalte, metingen van volumemassa- en watergehalte en referenties van doorlatendheid, samendrukbaarheid en schuifweerstandkarakteristieken, glauconietgehalte en steenkoolanalyses. De gegevens van de monsters en de laboresultaten kunnen worden geëxporteerd in een rapport.\n"
     ]
    }
   ],
   "source": [
    "print(monster.get_description())"
   ]
  },
  {
   "cell_type": "markdown",
   "metadata": {},
   "source": [
    "The different fields that are available for objects of the 'Grondmonster' datatype can be requested with the get_fields() method:"
   ]
  },
  {
   "cell_type": "code",
   "execution_count": 5,
   "metadata": {},
   "outputs": [
    {
     "name": "stdout",
     "output_type": "stream",
     "text": [
      "id\n",
      "naam\n",
      "pkey_monster\n",
      "gekoppeld_aan\n",
      "pkey_parents\n",
      "materiaalklasse\n",
      "diepte_van_m\n",
      "diepte_tot_m\n",
      "observaties\n",
      "datum_monstername\n",
      "monstersamenstelling\n",
      "monstertype\n",
      "bemonsteringsprocedure\n",
      "bemonsteringsinstrument\n",
      "bemonstering_door\n",
      "opmerkingen\n",
      "opslaglocatie\n",
      "opdracht\n",
      "permkey_monster\n",
      "geom\n"
     ]
    }
   ],
   "source": [
    "fields = monster.get_fields()\n",
    "\n",
    "# print available fields\n",
    "for f in fields.values():\n",
    "    print(f['name'])"
   ]
  },
  {
   "cell_type": "markdown",
   "metadata": {},
   "source": [
    "You can get more information of a field by requesting it from the fields dictionary:\n",
    "* *name*: name of the field\n",
    "* *definition*: definition of this field\n",
    "* *cost*: currently this is either 1 or 10, depending on the datasource of the field. It is an indication of the expected time it will take to retrieve this field in the output dataframe.\n",
    "* *notnull*: whether the field is mandatory or not\n",
    "* *type*: datatype of the values of this field"
   ]
  },
  {
   "cell_type": "code",
   "execution_count": 6,
   "metadata": {},
   "outputs": [
    {
     "data": {
      "text/plain": [
       "{'name': 'materiaalklasse',\n",
       " 'definition': 'aan te vullen',\n",
       " 'type': 'string',\n",
       " 'list': False,\n",
       " 'notnull': False,\n",
       " 'query': True,\n",
       " 'cost': 1}"
      ]
     },
     "execution_count": 6,
     "metadata": {},
     "output_type": "execute_result"
    }
   ],
   "source": [
    "fields['materiaalklasse']"
   ]
  },
  {
   "cell_type": "markdown",
   "metadata": {},
   "source": [
    "## Example use cases"
   ]
  },
  {
   "cell_type": "markdown",
   "metadata": {},
   "source": [
    "### Get samples in a bounding box"
   ]
  },
  {
   "cell_type": "markdown",
   "metadata": {},
   "source": [
    "Get data for all the samples that are geographically located within the bounds of the specified box.\n",
    "\n",
    "The coordinates are in the Belgian Lambert72 (EPSG:31370) coordinate system and are given in the order of lower left x, lower left y, upper right x, upper right y."
   ]
  },
  {
   "cell_type": "code",
   "execution_count": 7,
   "metadata": {},
   "outputs": [
    {
     "name": "stdout",
     "output_type": "stream",
     "text": [
      "[000/001] .\n"
     ]
    },
    {
     "data": {
      "text/html": [
       "<div>\n",
       "<style scoped>\n",
       "    .dataframe tbody tr th:only-of-type {\n",
       "        vertical-align: middle;\n",
       "    }\n",
       "\n",
       "    .dataframe tbody tr th {\n",
       "        vertical-align: top;\n",
       "    }\n",
       "\n",
       "    .dataframe thead th {\n",
       "        text-align: right;\n",
       "    }\n",
       "</style>\n",
       "<table border=\"1\" class=\"dataframe\">\n",
       "  <thead>\n",
       "    <tr style=\"text-align: right;\">\n",
       "      <th></th>\n",
       "      <th>pkey_monster</th>\n",
       "      <th>naam</th>\n",
       "      <th>pkey_parents</th>\n",
       "      <th>materiaalklasse</th>\n",
       "      <th>datum_monstername</th>\n",
       "      <th>diepte_van_m</th>\n",
       "      <th>diepte_tot_m</th>\n",
       "      <th>monstertype</th>\n",
       "      <th>monstersamenstelling</th>\n",
       "      <th>bemonsteringsprocedure</th>\n",
       "      <th>bemonsteringsinstrument</th>\n",
       "      <th>bemonstering_door</th>\n",
       "    </tr>\n",
       "  </thead>\n",
       "  <tbody>\n",
       "    <tr>\n",
       "      <th>0</th>\n",
       "      <td>https://oefen.dov.vlaanderen.be/data/monster/2...</td>\n",
       "      <td>12</td>\n",
       "      <td>[https://oefen.dov.vlaanderen.be/data/boring/2...</td>\n",
       "      <td>sediment</td>\n",
       "      <td>2002-03-04</td>\n",
       "      <td>5.50</td>\n",
       "      <td>6.00</td>\n",
       "      <td>ongeroerd</td>\n",
       "      <td>ENKELVOUDIG</td>\n",
       "      <td>NaN</td>\n",
       "      <td>steekbus</td>\n",
       "      <td>MVG - Afdeling Geotechniek</td>\n",
       "    </tr>\n",
       "    <tr>\n",
       "      <th>1</th>\n",
       "      <td>https://oefen.dov.vlaanderen.be/data/monster/2...</td>\n",
       "      <td>16A</td>\n",
       "      <td>[https://oefen.dov.vlaanderen.be/data/boring/2...</td>\n",
       "      <td>sediment</td>\n",
       "      <td>2002-03-04</td>\n",
       "      <td>7.00</td>\n",
       "      <td>7.12</td>\n",
       "      <td>ongeroerd</td>\n",
       "      <td>ENKELVOUDIG</td>\n",
       "      <td>NaN</td>\n",
       "      <td>steekbus</td>\n",
       "      <td>MVG - Afdeling Geotechniek</td>\n",
       "    </tr>\n",
       "    <tr>\n",
       "      <th>2</th>\n",
       "      <td>https://oefen.dov.vlaanderen.be/data/monster/2...</td>\n",
       "      <td>16B</td>\n",
       "      <td>[https://oefen.dov.vlaanderen.be/data/boring/2...</td>\n",
       "      <td>sediment</td>\n",
       "      <td>2002-03-04</td>\n",
       "      <td>7.12</td>\n",
       "      <td>7.27</td>\n",
       "      <td>ongeroerd</td>\n",
       "      <td>ENKELVOUDIG</td>\n",
       "      <td>NaN</td>\n",
       "      <td>steekbus</td>\n",
       "      <td>MVG - Afdeling Geotechniek</td>\n",
       "    </tr>\n",
       "    <tr>\n",
       "      <th>3</th>\n",
       "      <td>https://oefen.dov.vlaanderen.be/data/monster/2...</td>\n",
       "      <td>16C</td>\n",
       "      <td>[https://oefen.dov.vlaanderen.be/data/boring/2...</td>\n",
       "      <td>sediment</td>\n",
       "      <td>2002-03-04</td>\n",
       "      <td>7.27</td>\n",
       "      <td>7.43</td>\n",
       "      <td>ongeroerd</td>\n",
       "      <td>ENKELVOUDIG</td>\n",
       "      <td>NaN</td>\n",
       "      <td>steekbus</td>\n",
       "      <td>MVG - Afdeling Geotechniek</td>\n",
       "    </tr>\n",
       "    <tr>\n",
       "      <th>4</th>\n",
       "      <td>https://oefen.dov.vlaanderen.be/data/monster/2...</td>\n",
       "      <td>16D</td>\n",
       "      <td>[https://oefen.dov.vlaanderen.be/data/boring/2...</td>\n",
       "      <td>sediment</td>\n",
       "      <td>2002-03-04</td>\n",
       "      <td>7.43</td>\n",
       "      <td>7.50</td>\n",
       "      <td>ongeroerd</td>\n",
       "      <td>ENKELVOUDIG</td>\n",
       "      <td>NaN</td>\n",
       "      <td>steekbus</td>\n",
       "      <td>MVG - Afdeling Geotechniek</td>\n",
       "    </tr>\n",
       "  </tbody>\n",
       "</table>\n",
       "</div>"
      ],
      "text/plain": [
       "                                        pkey_monster naam  \\\n",
       "0  https://oefen.dov.vlaanderen.be/data/monster/2...   12   \n",
       "1  https://oefen.dov.vlaanderen.be/data/monster/2...  16A   \n",
       "2  https://oefen.dov.vlaanderen.be/data/monster/2...  16B   \n",
       "3  https://oefen.dov.vlaanderen.be/data/monster/2...  16C   \n",
       "4  https://oefen.dov.vlaanderen.be/data/monster/2...  16D   \n",
       "\n",
       "                                        pkey_parents materiaalklasse  \\\n",
       "0  [https://oefen.dov.vlaanderen.be/data/boring/2...        sediment   \n",
       "1  [https://oefen.dov.vlaanderen.be/data/boring/2...        sediment   \n",
       "2  [https://oefen.dov.vlaanderen.be/data/boring/2...        sediment   \n",
       "3  [https://oefen.dov.vlaanderen.be/data/boring/2...        sediment   \n",
       "4  [https://oefen.dov.vlaanderen.be/data/boring/2...        sediment   \n",
       "\n",
       "  datum_monstername  diepte_van_m  diepte_tot_m monstertype  \\\n",
       "0        2002-03-04          5.50          6.00   ongeroerd   \n",
       "1        2002-03-04          7.00          7.12   ongeroerd   \n",
       "2        2002-03-04          7.12          7.27   ongeroerd   \n",
       "3        2002-03-04          7.27          7.43   ongeroerd   \n",
       "4        2002-03-04          7.43          7.50   ongeroerd   \n",
       "\n",
       "  monstersamenstelling bemonsteringsprocedure bemonsteringsinstrument  \\\n",
       "0          ENKELVOUDIG                    NaN                steekbus   \n",
       "1          ENKELVOUDIG                    NaN                steekbus   \n",
       "2          ENKELVOUDIG                    NaN                steekbus   \n",
       "3          ENKELVOUDIG                    NaN                steekbus   \n",
       "4          ENKELVOUDIG                    NaN                steekbus   \n",
       "\n",
       "            bemonstering_door  \n",
       "0  MVG - Afdeling Geotechniek  \n",
       "1  MVG - Afdeling Geotechniek  \n",
       "2  MVG - Afdeling Geotechniek  \n",
       "3  MVG - Afdeling Geotechniek  \n",
       "4  MVG - Afdeling Geotechniek  "
      ]
     },
     "execution_count": 7,
     "metadata": {},
     "output_type": "execute_result"
    }
   ],
   "source": [
    "from pydov.util.location import Within, Box\n",
    "\n",
    "df = monster.search(location=Within(Box(122000, 187000, 124000, 189000, epsg=31370)))\n",
    "df.head()"
   ]
  },
  {
   "cell_type": "markdown",
   "metadata": {},
   "source": [
    "The dataframe contains samples. The available data are flattened to represent unique attributes per row of the dataframe.\n",
    "\n",
    "Using the *pkey_monster* field one can request the details of this sample in a webbrowser:\n",
    "https://www.dov.vlaanderen.be/data/grondmonster/*pkey_monster*"
   ]
  },
  {
   "cell_type": "code",
   "execution_count": 8,
   "metadata": {},
   "outputs": [
    {
     "name": "stdout",
     "output_type": "stream",
     "text": [
      "https://oefen.dov.vlaanderen.be/data/monster/2017-180446\n"
     ]
    }
   ],
   "source": [
    "for pkey_monster in set(df.loc[df.naam == '16C'].pkey_monster):\n",
    "    print(pkey_monster)"
   ]
  },
  {
   "cell_type": "markdown",
   "metadata": {},
   "source": [
    "### Get samples with specific properties"
   ]
  },
  {
   "cell_type": "markdown",
   "metadata": {},
   "source": [
    "Next to querying samples based on their geographic location within a bounding box, we can also search for borehole samples matching a specific set of properties. For this we can build a query using a combination of the 'Monster' fields and operators provided by the WFS protocol.\n",
    "\n",
    "A list of possible operators can be found below:"
   ]
  },
  {
   "cell_type": "code",
   "execution_count": 7,
   "metadata": {},
   "outputs": [
    {
     "data": {
      "text/plain": [
       "['PropertyIsBetween',\n",
       " 'PropertyIsEqualTo',\n",
       " 'PropertyIsGreaterThan',\n",
       " 'PropertyIsGreaterThanOrEqualTo',\n",
       " 'PropertyIsLessThan',\n",
       " 'PropertyIsLessThanOrEqualTo',\n",
       " 'PropertyIsLike',\n",
       " 'PropertyIsNotEqualTo',\n",
       " 'PropertyIsNull',\n",
       " 'SortProperty']"
      ]
     },
     "execution_count": 9,
     "metadata": {},
     "output_type": "execute_result"
    }
   ],
   "source": [
    "[i for i,j in inspect.getmembers(sys.modules['owslib.fes2'], inspect.isclass) if 'Property' in i]"
   ]
  },
  {
   "cell_type": "markdown",
   "metadata": {},
   "source": [
    "In this example we build a query using the *PropertyIsEqualTo* operator to find all boreholes that are within the community (gemeente) of 'Wichelen':"
   ]
  },
  {
   "cell_type": "code",
   "execution_count": 8,
   "metadata": {},
   "outputs": [
    {
     "name": "stdout",
     "output_type": "stream",
     "text": [
      "[000/001] .\n"
     ]
    },
    {
     "data": {
      "text/html": [
       "<div>\n",
       "<style scoped>\n",
       "    .dataframe tbody tr th:only-of-type {\n",
       "        vertical-align: middle;\n",
       "    }\n",
       "\n",
       "    .dataframe tbody tr th {\n",
       "        vertical-align: top;\n",
       "    }\n",
       "\n",
       "    .dataframe thead th {\n",
       "        text-align: right;\n",
       "    }\n",
       "</style>\n",
       "<table border=\"1\" class=\"dataframe\">\n",
       "  <thead>\n",
       "    <tr style=\"text-align: right;\">\n",
       "      <th></th>\n",
       "      <th>pkey_monster</th>\n",
       "      <th>naam</th>\n",
       "      <th>pkey_parents</th>\n",
       "      <th>materiaalklasse</th>\n",
       "      <th>datum_monstername</th>\n",
       "      <th>diepte_van_m</th>\n",
       "      <th>diepte_tot_m</th>\n",
       "      <th>monstertype</th>\n",
       "      <th>monstersamenstelling</th>\n",
       "      <th>bemonsteringsprocedure</th>\n",
       "      <th>bemonsteringsinstrument</th>\n",
       "      <th>bemonstering_door</th>\n",
       "    </tr>\n",
       "  </thead>\n",
       "  <tbody>\n",
       "    <tr>\n",
       "      <th>0</th>\n",
       "      <td>https://oefen.dov.vlaanderen.be/data/monster/2...</td>\n",
       "      <td>1</td>\n",
       "      <td>[https://oefen.dov.vlaanderen.be/data/boring/1...</td>\n",
       "      <td>sediment</td>\n",
       "      <td>1971-04-01</td>\n",
       "      <td>1.0</td>\n",
       "      <td>1.14</td>\n",
       "      <td>ongeroerd</td>\n",
       "      <td>ENKELVOUDIG</td>\n",
       "      <td>NaN</td>\n",
       "      <td>steekbus</td>\n",
       "      <td>Rijksinstituut voor Grondmechanica</td>\n",
       "    </tr>\n",
       "    <tr>\n",
       "      <th>1</th>\n",
       "      <td>https://oefen.dov.vlaanderen.be/data/monster/2...</td>\n",
       "      <td>1</td>\n",
       "      <td>[https://oefen.dov.vlaanderen.be/data/boring/1...</td>\n",
       "      <td>sediment</td>\n",
       "      <td>1971-04-06</td>\n",
       "      <td>1.0</td>\n",
       "      <td>1.16</td>\n",
       "      <td>ongeroerd</td>\n",
       "      <td>ENKELVOUDIG</td>\n",
       "      <td>NaN</td>\n",
       "      <td>steekbus</td>\n",
       "      <td>Rijksinstituut voor Grondmechanica</td>\n",
       "    </tr>\n",
       "    <tr>\n",
       "      <th>2</th>\n",
       "      <td>https://oefen.dov.vlaanderen.be/data/monster/2...</td>\n",
       "      <td>1</td>\n",
       "      <td>[https://oefen.dov.vlaanderen.be/data/boring/1...</td>\n",
       "      <td>sediment</td>\n",
       "      <td>1971-04-06</td>\n",
       "      <td>1.0</td>\n",
       "      <td>1.37</td>\n",
       "      <td>ongeroerd</td>\n",
       "      <td>ENKELVOUDIG</td>\n",
       "      <td>NaN</td>\n",
       "      <td>steekbus</td>\n",
       "      <td>Rijksinstituut voor Grondmechanica</td>\n",
       "    </tr>\n",
       "    <tr>\n",
       "      <th>3</th>\n",
       "      <td>https://oefen.dov.vlaanderen.be/data/monster/2...</td>\n",
       "      <td>1</td>\n",
       "      <td>[https://oefen.dov.vlaanderen.be/data/boring/1...</td>\n",
       "      <td>sediment</td>\n",
       "      <td>1971-04-02</td>\n",
       "      <td>1.0</td>\n",
       "      <td>1.19</td>\n",
       "      <td>ongeroerd</td>\n",
       "      <td>ENKELVOUDIG</td>\n",
       "      <td>NaN</td>\n",
       "      <td>steekbus</td>\n",
       "      <td>Rijksinstituut voor Grondmechanica</td>\n",
       "    </tr>\n",
       "    <tr>\n",
       "      <th>4</th>\n",
       "      <td>https://oefen.dov.vlaanderen.be/data/monster/2...</td>\n",
       "      <td>1</td>\n",
       "      <td>[https://oefen.dov.vlaanderen.be/data/boring/1...</td>\n",
       "      <td>sediment</td>\n",
       "      <td>1973-10-29</td>\n",
       "      <td>1.0</td>\n",
       "      <td>1.29</td>\n",
       "      <td>ongeroerd</td>\n",
       "      <td>ENKELVOUDIG</td>\n",
       "      <td>NaN</td>\n",
       "      <td>steekbus</td>\n",
       "      <td>Rijksinstituut voor Grondmechanica</td>\n",
       "    </tr>\n",
       "  </tbody>\n",
       "</table>\n",
       "</div>"
      ],
      "text/plain": [
       "                                        pkey_monster naam  \\\n",
       "0  https://oefen.dov.vlaanderen.be/data/monster/2...    1   \n",
       "1  https://oefen.dov.vlaanderen.be/data/monster/2...    1   \n",
       "2  https://oefen.dov.vlaanderen.be/data/monster/2...    1   \n",
       "3  https://oefen.dov.vlaanderen.be/data/monster/2...    1   \n",
       "4  https://oefen.dov.vlaanderen.be/data/monster/2...    1   \n",
       "\n",
       "                                        pkey_parents materiaalklasse  \\\n",
       "0  [https://oefen.dov.vlaanderen.be/data/boring/1...        sediment   \n",
       "1  [https://oefen.dov.vlaanderen.be/data/boring/1...        sediment   \n",
       "2  [https://oefen.dov.vlaanderen.be/data/boring/1...        sediment   \n",
       "3  [https://oefen.dov.vlaanderen.be/data/boring/1...        sediment   \n",
       "4  [https://oefen.dov.vlaanderen.be/data/boring/1...        sediment   \n",
       "\n",
       "  datum_monstername  diepte_van_m  diepte_tot_m monstertype  \\\n",
       "0        1971-04-01           1.0          1.14   ongeroerd   \n",
       "1        1971-04-06           1.0          1.16   ongeroerd   \n",
       "2        1971-04-06           1.0          1.37   ongeroerd   \n",
       "3        1971-04-02           1.0          1.19   ongeroerd   \n",
       "4        1973-10-29           1.0          1.29   ongeroerd   \n",
       "\n",
       "  monstersamenstelling bemonsteringsprocedure bemonsteringsinstrument  \\\n",
       "0          ENKELVOUDIG                    NaN                steekbus   \n",
       "1          ENKELVOUDIG                    NaN                steekbus   \n",
       "2          ENKELVOUDIG                    NaN                steekbus   \n",
       "3          ENKELVOUDIG                    NaN                steekbus   \n",
       "4          ENKELVOUDIG                    NaN                steekbus   \n",
       "\n",
       "                    bemonstering_door  \n",
       "0  Rijksinstituut voor Grondmechanica  \n",
       "1  Rijksinstituut voor Grondmechanica  \n",
       "2  Rijksinstituut voor Grondmechanica  \n",
       "3  Rijksinstituut voor Grondmechanica  \n",
       "4  Rijksinstituut voor Grondmechanica  "
      ]
     },
     "execution_count": 10,
     "metadata": {},
     "output_type": "execute_result"
    }
   ],
   "source": [
    "from owslib.fes2 import PropertyIsEqualTo\n",
    "\n",
    "query = PropertyIsEqualTo(propertyname='bemonsteringsinstrument',\n",
    "                          literal='steekbus')\n",
    "df = monster.search(query=query)\n",
    "\n",
    "df.head()"
   ]
  },
  {
   "cell_type": "markdown",
   "metadata": {},
   "source": [
    "Once again we can use the *pkey_monster* as a permanent link to the information of these samples:"
   ]
  },
  {
   "cell_type": "code",
   "execution_count": 9,
   "metadata": {},
   "outputs": [],
   "source": [
    "for pkey_monster in set(df.loc[df['pkey_parents'].str.contains('boring/1981-016310', na=False), 'pkey_monster']):\n",
    "    print(pkey_monster)"
   ]
  },
  {
   "cell_type": "markdown",
   "metadata": {},
   "source": [
    "### Get samples in a bounding box based on specific properties"
   ]
  },
  {
   "cell_type": "markdown",
   "metadata": {},
   "source": [
    "We can combine a query on attributes with a query on geographic location to get the samples within a bounding box that have specific properties.\n",
    "\n",
    "The following example requests the samples with a depth greater than or equal to 15 meters within the given bounding box.\n",
    "\n",
    "(Note that the datatype of the *literal* parameter should be a string, regardless of the datatype of this field in the output dataframe.)"
   ]
  },
  {
   "cell_type": "code",
   "execution_count": 12,
   "metadata": {},
   "outputs": [
    {
     "name": "stdout",
     "output_type": "stream",
     "text": [
      "[000/001] .\n"
     ]
    },
    {
     "data": {
      "text/html": [
       "<div>\n",
       "<style scoped>\n",
       "    .dataframe tbody tr th:only-of-type {\n",
       "        vertical-align: middle;\n",
       "    }\n",
       "\n",
       "    .dataframe tbody tr th {\n",
       "        vertical-align: top;\n",
       "    }\n",
       "\n",
       "    .dataframe thead th {\n",
       "        text-align: right;\n",
       "    }\n",
       "</style>\n",
       "<table border=\"1\" class=\"dataframe\">\n",
       "  <thead>\n",
       "    <tr style=\"text-align: right;\">\n",
       "      <th></th>\n",
       "      <th>pkey_monster</th>\n",
       "      <th>naam</th>\n",
       "      <th>pkey_parents</th>\n",
       "      <th>materiaalklasse</th>\n",
       "      <th>datum_monstername</th>\n",
       "      <th>diepte_van_m</th>\n",
       "      <th>diepte_tot_m</th>\n",
       "      <th>monstertype</th>\n",
       "      <th>monstersamenstelling</th>\n",
       "      <th>bemonsteringsprocedure</th>\n",
       "      <th>bemonsteringsinstrument</th>\n",
       "      <th>bemonstering_door</th>\n",
       "    </tr>\n",
       "  </thead>\n",
       "  <tbody>\n",
       "    <tr>\n",
       "      <th>0</th>\n",
       "      <td>https://oefen.dov.vlaanderen.be/data/monster/2...</td>\n",
       "      <td>39A</td>\n",
       "      <td>[https://oefen.dov.vlaanderen.be/data/boring/2...</td>\n",
       "      <td>sediment</td>\n",
       "      <td>2002-03-04</td>\n",
       "      <td>17.00</td>\n",
       "      <td>17.37</td>\n",
       "      <td>ongeroerd</td>\n",
       "      <td>ENKELVOUDIG</td>\n",
       "      <td>NaN</td>\n",
       "      <td>steekbus</td>\n",
       "      <td>MVG - Afdeling Geotechniek</td>\n",
       "    </tr>\n",
       "    <tr>\n",
       "      <th>1</th>\n",
       "      <td>https://oefen.dov.vlaanderen.be/data/monster/2...</td>\n",
       "      <td>39B</td>\n",
       "      <td>[https://oefen.dov.vlaanderen.be/data/boring/2...</td>\n",
       "      <td>sediment</td>\n",
       "      <td>2002-03-04</td>\n",
       "      <td>17.37</td>\n",
       "      <td>17.40</td>\n",
       "      <td>ongeroerd</td>\n",
       "      <td>ENKELVOUDIG</td>\n",
       "      <td>NaN</td>\n",
       "      <td>steekbus</td>\n",
       "      <td>MVG - Afdeling Geotechniek</td>\n",
       "    </tr>\n",
       "    <tr>\n",
       "      <th>2</th>\n",
       "      <td>https://oefen.dov.vlaanderen.be/data/monster/2...</td>\n",
       "      <td>N4A</td>\n",
       "      <td>[https://oefen.dov.vlaanderen.be/data/boring/2...</td>\n",
       "      <td>sediment</td>\n",
       "      <td>2009-05-28</td>\n",
       "      <td>15.75</td>\n",
       "      <td>15.90</td>\n",
       "      <td>ongeroerd</td>\n",
       "      <td>ENKELVOUDIG</td>\n",
       "      <td>22475-1-2007</td>\n",
       "      <td>steekbus</td>\n",
       "      <td>VO - Afdeling Geotechniek</td>\n",
       "    </tr>\n",
       "    <tr>\n",
       "      <th>3</th>\n",
       "      <td>https://oefen.dov.vlaanderen.be/data/monster/2...</td>\n",
       "      <td>N4B</td>\n",
       "      <td>[https://oefen.dov.vlaanderen.be/data/boring/2...</td>\n",
       "      <td>sediment</td>\n",
       "      <td>2009-05-28</td>\n",
       "      <td>15.90</td>\n",
       "      <td>16.15</td>\n",
       "      <td>ongeroerd</td>\n",
       "      <td>ENKELVOUDIG</td>\n",
       "      <td>22475-1-2007</td>\n",
       "      <td>steekbus</td>\n",
       "      <td>VO - Afdeling Geotechniek</td>\n",
       "    </tr>\n",
       "    <tr>\n",
       "      <th>4</th>\n",
       "      <td>https://oefen.dov.vlaanderen.be/data/monster/2...</td>\n",
       "      <td>N8</td>\n",
       "      <td>[https://oefen.dov.vlaanderen.be/data/boring/2...</td>\n",
       "      <td>sediment</td>\n",
       "      <td>2005-01-18</td>\n",
       "      <td>16.50</td>\n",
       "      <td>17.00</td>\n",
       "      <td>ongeroerd</td>\n",
       "      <td>ENKELVOUDIG</td>\n",
       "      <td>NaN</td>\n",
       "      <td>steekbus</td>\n",
       "      <td>MVG - Afdeling Geotechniek</td>\n",
       "    </tr>\n",
       "  </tbody>\n",
       "</table>\n",
       "</div>"
      ],
      "text/plain": [
       "                                        pkey_monster naam  \\\n",
       "0  https://oefen.dov.vlaanderen.be/data/monster/2...  39A   \n",
       "1  https://oefen.dov.vlaanderen.be/data/monster/2...  39B   \n",
       "2  https://oefen.dov.vlaanderen.be/data/monster/2...  N4A   \n",
       "3  https://oefen.dov.vlaanderen.be/data/monster/2...  N4B   \n",
       "4  https://oefen.dov.vlaanderen.be/data/monster/2...   N8   \n",
       "\n",
       "                                        pkey_parents materiaalklasse  \\\n",
       "0  [https://oefen.dov.vlaanderen.be/data/boring/2...        sediment   \n",
       "1  [https://oefen.dov.vlaanderen.be/data/boring/2...        sediment   \n",
       "2  [https://oefen.dov.vlaanderen.be/data/boring/2...        sediment   \n",
       "3  [https://oefen.dov.vlaanderen.be/data/boring/2...        sediment   \n",
       "4  [https://oefen.dov.vlaanderen.be/data/boring/2...        sediment   \n",
       "\n",
       "  datum_monstername  diepte_van_m  diepte_tot_m monstertype  \\\n",
       "0        2002-03-04         17.00         17.37   ongeroerd   \n",
       "1        2002-03-04         17.37         17.40   ongeroerd   \n",
       "2        2009-05-28         15.75         15.90   ongeroerd   \n",
       "3        2009-05-28         15.90         16.15   ongeroerd   \n",
       "4        2005-01-18         16.50         17.00   ongeroerd   \n",
       "\n",
       "  monstersamenstelling bemonsteringsprocedure bemonsteringsinstrument  \\\n",
       "0          ENKELVOUDIG                    NaN                steekbus   \n",
       "1          ENKELVOUDIG                    NaN                steekbus   \n",
       "2          ENKELVOUDIG           22475-1-2007                steekbus   \n",
       "3          ENKELVOUDIG           22475-1-2007                steekbus   \n",
       "4          ENKELVOUDIG                    NaN                steekbus   \n",
       "\n",
       "            bemonstering_door  \n",
       "0  MVG - Afdeling Geotechniek  \n",
       "1  MVG - Afdeling Geotechniek  \n",
       "2   VO - Afdeling Geotechniek  \n",
       "3   VO - Afdeling Geotechniek  \n",
       "4  MVG - Afdeling Geotechniek  "
      ]
     },
     "execution_count": 12,
     "metadata": {},
     "output_type": "execute_result"
    }
   ],
   "source": [
    "from owslib.fes2 import PropertyIsGreaterThanOrEqualTo\n",
    "\n",
    "query = PropertyIsGreaterThanOrEqualTo(\n",
    "            propertyname='diepte_tot_m',\n",
    "            literal='15')\n",
    "\n",
    "df = monster.search(\n",
    "    location=Within(Box(122000, 187000, 124000, 189000, epsg=31370)),\n",
    "    query=query\n",
    "    )\n",
    "\n",
    "df.head()"
   ]
  },
  {
   "cell_type": "markdown",
   "metadata": {},
   "source": [
    "### Get sample based on fields not available in the standard output dataframe"
   ]
  },
  {
   "cell_type": "markdown",
   "metadata": {},
   "source": [
    "To keep the output dataframe size acceptable, not all available WFS fields are included in the standard output. However, one can use this information to select samples as illustrated below.\n",
    "\n",
    "For example, make a selection of the monsters that are stored at the geotheek in Vilvoorde:"
   ]
  },
  {
   "cell_type": "code",
   "execution_count": 6,
   "metadata": {},
   "outputs": [
    {
     "ename": "NameError",
     "evalue": "name 'PropertyIsEqualTo' is not defined",
     "output_type": "error",
     "traceback": [
      "\u001b[31m---------------------------------------------------------------------------\u001b[39m",
      "\u001b[31mNameError\u001b[39m                                 Traceback (most recent call last)",
      "\u001b[36mCell\u001b[39m\u001b[36m \u001b[39m\u001b[32mIn[6]\u001b[39m\u001b[32m, line 3\u001b[39m\n\u001b[32m      1\u001b[39m \u001b[38;5;28;01mfrom\u001b[39;00m\u001b[38;5;250m \u001b[39m\u001b[34;01mowslib\u001b[39;00m\u001b[34;01m.\u001b[39;00m\u001b[34;01mfes2\u001b[39;00m\u001b[38;5;250m \u001b[39m\u001b[38;5;28;01mimport\u001b[39;00m And, Not\n\u001b[32m----> \u001b[39m\u001b[32m3\u001b[39m query = \u001b[43mPropertyIsEqualTo\u001b[49m(propertyname=\u001b[33m'\u001b[39m\u001b[33mopslaglocatie\u001b[39m\u001b[33m'\u001b[39m,\n\u001b[32m      4\u001b[39m                                literal=\u001b[33m'\u001b[39m\u001b[33mGeotheek Vilvoorde\u001b[39m\u001b[33m'\u001b[39m)\n\u001b[32m      6\u001b[39m df = monster.search(query=query, max_features = \u001b[32m10\u001b[39m)\n\u001b[32m      7\u001b[39m df.head()\n",
      "\u001b[31mNameError\u001b[39m: name 'PropertyIsEqualTo' is not defined"
     ]
    }
   ],
   "source": [
    "from owslib.fes2 import And, Not\n",
    "\n",
    "query = PropertyIsEqualTo(propertyname='opslaglocatie',\n",
    "                               literal='Geotheek Vilvoorde')\n",
    "\n",
    "df = monster.search(query=query, max_features = 10)\n",
    "df.head()"
   ]
  },
  {
   "cell_type": "markdown",
   "metadata": {},
   "source": [
    "### Get sample with data from a subtype"
   ]
  },
  {
   "cell_type": "markdown",
   "metadata": {},
   "source": [
    "There are different subtypes availeble within monster search: 'BemonsterdObject', 'Opslaglocatie', 'Monsterbehandeling'\n",
    "\n"
   ]
  },
  {
   "cell_type": "code",
   "execution_count": 22,
   "metadata": {},
   "outputs": [
    {
     "name": "stdout",
     "output_type": "stream",
     "text": [
      "[000/000] ."
     ]
    },
    {
     "data": {
      "text/html": [
       "<div>\n",
       "<style scoped>\n",
       "    .dataframe tbody tr th:only-of-type {\n",
       "        vertical-align: middle;\n",
       "    }\n",
       "\n",
       "    .dataframe tbody tr th {\n",
       "        vertical-align: top;\n",
       "    }\n",
       "\n",
       "    .dataframe thead th {\n",
       "        text-align: right;\n",
       "    }\n",
       "</style>\n",
       "<table border=\"1\" class=\"dataframe\">\n",
       "  <thead>\n",
       "    <tr style=\"text-align: right;\">\n",
       "      <th></th>\n",
       "      <th>pkey_monster</th>\n",
       "      <th>naam</th>\n",
       "      <th>pkey_parents</th>\n",
       "      <th>materiaalklasse</th>\n",
       "      <th>datum_monstername</th>\n",
       "      <th>diepte_van_m</th>\n",
       "      <th>diepte_tot_m</th>\n",
       "      <th>monstertype</th>\n",
       "      <th>monstersamenstelling</th>\n",
       "      <th>bemonsteringsprocedure</th>\n",
       "      <th>bemonsteringsinstrument</th>\n",
       "      <th>bemonstering_door</th>\n",
       "      <th>monsterbehandeling_door</th>\n",
       "      <th>monsterbehandeling_datum</th>\n",
       "      <th>monsterbehandeling_tijdstip</th>\n",
       "      <th>monsterbehandeling_behandeling</th>\n",
       "      <th>monsterbehandeling_behandeling_waarde</th>\n",
       "    </tr>\n",
       "  </thead>\n",
       "  <tbody>\n",
       "  </tbody>\n",
       "</table>\n",
       "</div>"
      ],
      "text/plain": [
       "Empty DataFrame\n",
       "Columns: [pkey_monster, naam, pkey_parents, materiaalklasse, datum_monstername, diepte_van_m, diepte_tot_m, monstertype, monstersamenstelling, bemonsteringsprocedure, bemonsteringsinstrument, bemonstering_door, monsterbehandeling_door, monsterbehandeling_datum, monsterbehandeling_tijdstip, monsterbehandeling_behandeling, monsterbehandeling_behandeling_waarde]\n",
       "Index: []"
      ]
     },
     "execution_count": 22,
     "metadata": {},
     "output_type": "execute_result"
    }
   ],
   "source": [
    "from pydov.search.monster import MonsterSearch\n",
    "from pydov.types.monster import Monster, Monsterbehandeling\n",
    "from owslib.fes2 import PropertyIsLike\n",
    "\n",
    "monster = MonsterSearch(\n",
    "    objecttype=Monster.with_subtype(Monsterbehandeling))\n",
    "query = PropertyIsLike(propertyname='pkey_monster', literal='2025-377219')\n",
    "df = monster.search(query=query, max_features = 10)\n",
    "df.head()"
   ]
  },
  {
   "cell_type": "markdown",
   "metadata": {},
   "source": [
    "### Get a boxplot with the depth distribution of samples with sampling instrument 'steekbuis'"
   ]
  },
  {
   "cell_type": "code",
   "execution_count": 14,
   "metadata": {},
   "outputs": [
    {
     "ename": "NameError",
     "evalue": "name 'grondmonster' is not defined",
     "output_type": "error",
     "traceback": [
      "\u001b[31m---------------------------------------------------------------------------\u001b[39m",
      "\u001b[31mNameError\u001b[39m                                 Traceback (most recent call last)",
      "\u001b[36mCell\u001b[39m\u001b[36m \u001b[39m\u001b[32mIn[15]\u001b[39m\u001b[32m, line 8\u001b[39m\n\u001b[32m      1\u001b[39m \u001b[38;5;28;01mfrom\u001b[39;00m\u001b[38;5;250m \u001b[39m\u001b[34;01mowslib\u001b[39;00m\u001b[34;01m.\u001b[39;00m\u001b[34;01mfes2\u001b[39;00m\u001b[38;5;250m \u001b[39m\u001b[38;5;28;01mimport\u001b[39;00m And\n\u001b[32m      3\u001b[39m query = And([PropertyIsEqualTo(propertyname=\u001b[33m'\u001b[39m\u001b[33mgemeente\u001b[39m\u001b[33m'\u001b[39m,\n\u001b[32m      4\u001b[39m                                literal=\u001b[33m'\u001b[39m\u001b[33mAntwerpen\u001b[39m\u001b[33m'\u001b[39m),\n\u001b[32m      5\u001b[39m              PropertyIsEqualTo(propertyname=\u001b[33m'\u001b[39m\u001b[33mmechanisch\u001b[39m\u001b[33m'\u001b[39m, \n\u001b[32m      6\u001b[39m                                literal=\u001b[33m'\u001b[39m\u001b[33mTrue\u001b[39m\u001b[33m'\u001b[39m)]\n\u001b[32m      7\u001b[39m             )\n\u001b[32m----> \u001b[39m\u001b[32m8\u001b[39m df = \u001b[43mgrondmonster\u001b[49m.search(query=query,\n\u001b[32m      9\u001b[39m                    return_fields=(\u001b[33m'\u001b[39m\u001b[33mpkey_grondmonster\u001b[39m\u001b[33m'\u001b[39m, \u001b[33m'\u001b[39m\u001b[33mboornummer\u001b[39m\u001b[33m'\u001b[39m, \u001b[33m'\u001b[39m\u001b[33mx\u001b[39m\u001b[33m'\u001b[39m, \u001b[33m'\u001b[39m\u001b[33my\u001b[39m\u001b[33m'\u001b[39m))\n\u001b[32m     10\u001b[39m df.head()\n",
      "\u001b[31mNameError\u001b[39m: name 'grondmonster' is not defined"
     ]
    }
   ],
   "source": [
    "query = PropertyIsEqualTo(propertyname='bemonsteringsinstrument',\n",
    "                          literal='steekbus')\n",
    "df = monster.search(query=query)\n"
   ]
  },
  {
   "cell_type": "code",
   "execution_count": 15,
   "metadata": {},
   "outputs": [
    {
     "data": {
      "text/html": [
       "<div>\n",
       "<style scoped>\n",
       "    .dataframe tbody tr th:only-of-type {\n",
       "        vertical-align: middle;\n",
       "    }\n",
       "\n",
       "    .dataframe tbody tr th {\n",
       "        vertical-align: top;\n",
       "    }\n",
       "\n",
       "    .dataframe thead th {\n",
       "        text-align: right;\n",
       "    }\n",
       "</style>\n",
       "<table border=\"1\" class=\"dataframe\">\n",
       "  <thead>\n",
       "    <tr style=\"text-align: right;\">\n",
       "      <th></th>\n",
       "      <th>diepte_van_m</th>\n",
       "      <th>diepte_tot_m</th>\n",
       "    </tr>\n",
       "  </thead>\n",
       "  <tbody>\n",
       "    <tr>\n",
       "      <th>count</th>\n",
       "      <td>31569.000000</td>\n",
       "      <td>31591.000000</td>\n",
       "    </tr>\n",
       "    <tr>\n",
       "      <th>mean</th>\n",
       "      <td>6.755560</td>\n",
       "      <td>7.085249</td>\n",
       "    </tr>\n",
       "    <tr>\n",
       "      <th>std</th>\n",
       "      <td>7.109394</td>\n",
       "      <td>7.148988</td>\n",
       "    </tr>\n",
       "    <tr>\n",
       "      <th>min</th>\n",
       "      <td>0.000000</td>\n",
       "      <td>0.100000</td>\n",
       "    </tr>\n",
       "    <tr>\n",
       "      <th>25%</th>\n",
       "      <td>2.000000</td>\n",
       "      <td>2.290000</td>\n",
       "    </tr>\n",
       "    <tr>\n",
       "      <th>50%</th>\n",
       "      <td>4.400000</td>\n",
       "      <td>4.650000</td>\n",
       "    </tr>\n",
       "    <tr>\n",
       "      <th>75%</th>\n",
       "      <td>9.000000</td>\n",
       "      <td>9.220000</td>\n",
       "    </tr>\n",
       "    <tr>\n",
       "      <th>max</th>\n",
       "      <td>60.000000</td>\n",
       "      <td>60.300000</td>\n",
       "    </tr>\n",
       "  </tbody>\n",
       "</table>\n",
       "</div>"
      ],
      "text/plain": [
       "       diepte_van_m  diepte_tot_m\n",
       "count  31569.000000  31591.000000\n",
       "mean       6.755560      7.085249\n",
       "std        7.109394      7.148988\n",
       "min        0.000000      0.100000\n",
       "25%        2.000000      2.290000\n",
       "50%        4.400000      4.650000\n",
       "75%        9.000000      9.220000\n",
       "max       60.000000     60.300000"
      ]
     },
     "execution_count": 15,
     "metadata": {},
     "output_type": "execute_result"
    }
   ],
   "source": [
    "df.describe()"
   ]
  },
  {
   "cell_type": "code",
   "execution_count": 15,
   "metadata": {},
   "outputs": [
    {
     "data": {
      "text/plain": [
       "Text(0.5, 1.0, \"Depth distribution samples with sampling instrument 'steekbus'\")"
      ]
     },
     "execution_count": 16,
     "metadata": {},
     "output_type": "execute_result"
    },
    {
     "data": {
      "image/png": "[encoded data removed]",
      "text/plain": [
       "<Figure size 640x480 with 1 Axes>"
      ]
     },
     "metadata": {},
     "output_type": "display_data"
    }
   ],
   "source": [
    "ax = df[df.diepte_tot_m != 0].boxplot()\n",
    "ax.set_ylabel(\"depth (m)\")\n",
    "ax.set_title(\"Depth distribution samples with sampling instrument 'steekbus'\")"
   ]
  },
  {
   "cell_type": "markdown",
   "metadata": {},
   "source": [
    "## Finding the boreholes associated with the monsters and visualize results"
   ]
  },
  {
   "cell_type": "code",
   "execution_count": 19,
   "metadata": {},
   "outputs": [],
   "source": [
    "# import the necessary modules (not included in the requirements of pydov!)\n",
    "import geopandas as gpd"
   ]
  },
  {
   "cell_type": "code",
   "execution_count": 20,
   "metadata": {},
   "outputs": [
    {
     "data": {
      "text/plain": [
       "{'name': 'geom',\n",
       " 'definition': None,\n",
       " 'type': 'geometry',\n",
       " 'list': False,\n",
       " 'notnull': False,\n",
       " 'query': False,\n",
       " 'cost': 1}"
      ]
     },
     "execution_count": 20,
     "metadata": {},
     "output_type": "execute_result"
    }
   ],
   "source": [
    "from pydov.search.boring import BoringSearch\n",
    "from pydov.util.query import FuzzyJoin, Join\n",
    "bs = BoringSearch()\n",
    "bs.get_fields()['geom']"
   ]
  },
  {
   "cell_type": "code",
   "execution_count": 13,
   "metadata": {},
   "outputs": [
    {
     "name": "stdout",
     "output_type": "stream",
     "text": [
      "[000/001] .\n"
     ]
    },
    {
     "data": {
      "text/html": [
       "<div>\n",
       "<style scoped>\n",
       "    .dataframe tbody tr th:only-of-type {\n",
       "        vertical-align: middle;\n",
       "    }\n",
       "\n",
       "    .dataframe tbody tr th {\n",
       "        vertical-align: top;\n",
       "    }\n",
       "\n",
       "    .dataframe thead th {\n",
       "        text-align: right;\n",
       "    }\n",
       "</style>\n",
       "<table border=\"1\" class=\"dataframe\">\n",
       "  <thead>\n",
       "    <tr style=\"text-align: right;\">\n",
       "      <th></th>\n",
       "      <th>pkey_boring</th>\n",
       "      <th>geom</th>\n",
       "      <th>boornummer</th>\n",
       "    </tr>\n",
       "  </thead>\n",
       "  <tbody>\n",
       "    <tr>\n",
       "      <th>0</th>\n",
       "      <td>https://oefen.dov.vlaanderen.be/data/boring/19...</td>\n",
       "      <td>POINT (151471 214936)</td>\n",
       "      <td>GEO-70/569-A</td>\n",
       "    </tr>\n",
       "    <tr>\n",
       "      <th>1</th>\n",
       "      <td>https://oefen.dov.vlaanderen.be/data/boring/19...</td>\n",
       "      <td>POINT (151481 214814)</td>\n",
       "      <td>GEO-70/569-B</td>\n",
       "    </tr>\n",
       "    <tr>\n",
       "      <th>2</th>\n",
       "      <td>https://oefen.dov.vlaanderen.be/data/boring/19...</td>\n",
       "      <td>POINT (157761 193731)</td>\n",
       "      <td>GEO-72/045-b43</td>\n",
       "    </tr>\n",
       "    <tr>\n",
       "      <th>3</th>\n",
       "      <td>https://oefen.dov.vlaanderen.be/data/boring/19...</td>\n",
       "      <td>POINT (166358 229511)</td>\n",
       "      <td>GEO-71/105-b31</td>\n",
       "    </tr>\n",
       "    <tr>\n",
       "      <th>4</th>\n",
       "      <td>https://oefen.dov.vlaanderen.be/data/boring/19...</td>\n",
       "      <td>POINT (166054 229460)</td>\n",
       "      <td>GEO-71/105-b32</td>\n",
       "    </tr>\n",
       "  </tbody>\n",
       "</table>\n",
       "</div>"
      ],
      "text/plain": [
       "                                         pkey_boring                   geom  \\\n",
       "0  https://oefen.dov.vlaanderen.be/data/boring/19...  POINT (151471 214936)   \n",
       "1  https://oefen.dov.vlaanderen.be/data/boring/19...  POINT (151481 214814)   \n",
       "2  https://oefen.dov.vlaanderen.be/data/boring/19...  POINT (157761 193731)   \n",
       "3  https://oefen.dov.vlaanderen.be/data/boring/19...  POINT (166358 229511)   \n",
       "4  https://oefen.dov.vlaanderen.be/data/boring/19...  POINT (166054 229460)   \n",
       "\n",
       "       boornummer  \n",
       "0    GEO-70/569-A  \n",
       "1    GEO-70/569-B  \n",
       "2  GEO-72/045-b43  \n",
       "3  GEO-71/105-b31  \n",
       "4  GEO-71/105-b32  "
      ]
     },
     "execution_count": 13,
     "metadata": {},
     "output_type": "execute_result"
    }
   ],
   "source": [
    "boringen = bs.search(query=Join(df.iloc[0:100], on='pkey_boring', using='pkey_parents'), return_fields = ('pkey_boring','geom','boornummer'), max_features = 100)\n",
    "boringen.head()"
   ]
  },
  {
   "cell_type": "code",
   "execution_count": 14,
   "metadata": {},
   "outputs": [
    {
     "data": {
      "text/html": [
       "<div style=\"width:100%;\"><div style=\"position:relative;width:100%;height:0;padding-bottom:60%;\"><span style=\"color:#565656\">Make this Notebook Trusted to load map: File -> Trust Notebook</span><iframe srcdoc=\"&lt;!DOCTYPE html&gt;\n",
       "&lt;html&gt;\n",
       "&lt;head&gt;\n",
       "    \n",
       "    &lt;meta http-equiv=&quot;content-type&quot; content=&quot;text/html; charset=UTF-8&quot; /&gt;\n",
       "    \n",
       "        &lt;script&gt;\n",
       "            L_NO_TOUCH = false;\n",
       "            L_DISABLE_3D = false;\n",
       "        &lt;/script&gt;\n",
       "    \n",
       "    &lt;style&gt;html, body {width: 100%;height: 100%;margin: 0;padding: 0;}&lt;/style&gt;\n",
       "    &lt;style&gt;#map {position:absolute;top:0;bottom:0;right:0;left:0;}&lt;/style&gt;\n",
       "    &lt;script src=&quot;https://cdn.jsdelivr.net/npm/leaflet@1.9.3/dist/leaflet.js&quot;&gt;&lt;/script&gt;\n",
       "    &lt;script src=&quot;https://code.jquery.com/jquery-1.12.4.min.js&quot;&gt;&lt;/script&gt;\n",
       "    &lt;script src=&quot;https://cdn.jsdelivr.net/npm/bootstrap@5.2.2/dist/js/bootstrap.bundle.min.js&quot;&gt;&lt;/script&gt;\n",
       "    &lt;script src=&quot;https://cdnjs.cloudflare.com/ajax/libs/Leaflet.awesome-markers/2.0.2/leaflet.awesome-markers.js&quot;&gt;&lt;/script&gt;\n",
       "    &lt;link rel=&quot;stylesheet&quot; href=&quot;https://cdn.jsdelivr.net/npm/leaflet@1.9.3/dist/leaflet.css&quot;/&gt;\n",
       "    &lt;link rel=&quot;stylesheet&quot; href=&quot;https://cdn.jsdelivr.net/npm/bootstrap@5.2.2/dist/css/bootstrap.min.css&quot;/&gt;\n",
       "    &lt;link rel=&quot;stylesheet&quot; href=&quot;https://netdna.bootstrapcdn.com/bootstrap/3.0.0/css/bootstrap.min.css&quot;/&gt;\n",
       "    &lt;link rel=&quot;stylesheet&quot; href=&quot;https://cdn.jsdelivr.net/npm/@fortawesome/fontawesome-free@6.2.0/css/all.min.css&quot;/&gt;\n",
       "    &lt;link rel=&quot;stylesheet&quot; href=&quot;https://cdnjs.cloudflare.com/ajax/libs/Leaflet.awesome-markers/2.0.2/leaflet.awesome-markers.css&quot;/&gt;\n",
       "    &lt;link rel=&quot;stylesheet&quot; href=&quot;https://cdn.jsdelivr.net/gh/python-visualization/folium/folium/templates/leaflet.awesome.rotate.min.css&quot;/&gt;\n",
       "    \n",
       "            &lt;meta name=&quot;viewport&quot; content=&quot;width=device-width,\n",
       "                initial-scale=1.0, maximum-scale=1.0, user-scalable=no&quot; /&gt;\n",
       "            &lt;style&gt;\n",
       "                #map_cf74142a89f8b3f72982cac7840989ba {\n",
       "                    position: relative;\n",
       "                    width: 100.0%;\n",
       "                    height: 100.0%;\n",
       "                    left: 0.0%;\n",
       "                    top: 0.0%;\n",
       "                }\n",
       "                .leaflet-container { font-size: 1rem; }\n",
       "            &lt;/style&gt;\n",
       "        \n",
       "    \n",
       "                    &lt;style&gt;\n",
       "                        .foliumtooltip {\n",
       "                            \n",
       "                        }\n",
       "                       .foliumtooltip table{\n",
       "                            margin: auto;\n",
       "                        }\n",
       "                        .foliumtooltip tr{\n",
       "                            text-align: left;\n",
       "                        }\n",
       "                        .foliumtooltip th{\n",
       "                            padding: 2px; padding-right: 8px;\n",
       "                        }\n",
       "                    &lt;/style&gt;\n",
       "            \n",
       "&lt;/head&gt;\n",
       "&lt;body&gt;\n",
       "    \n",
       "    \n",
       "            &lt;div class=&quot;folium-map&quot; id=&quot;map_cf74142a89f8b3f72982cac7840989ba&quot; &gt;&lt;/div&gt;\n",
       "        \n",
       "&lt;/body&gt;\n",
       "&lt;script&gt;\n",
       "    \n",
       "    \n",
       "            var map_cf74142a89f8b3f72982cac7840989ba = L.map(\n",
       "                &quot;map_cf74142a89f8b3f72982cac7840989ba&quot;,\n",
       "                {\n",
       "                    center: [51.064047078559526, 4.323986473265181],\n",
       "                    crs: L.CRS.EPSG3857,\n",
       "                    zoom: 10,\n",
       "                    zoomControl: true,\n",
       "                    preferCanvas: false,\n",
       "                }\n",
       "            );\n",
       "            L.control.scale().addTo(map_cf74142a89f8b3f72982cac7840989ba);\n",
       "\n",
       "            \n",
       "\n",
       "        \n",
       "    \n",
       "            var tile_layer_cd96fa520381e45830be8b08c75d911c = L.tileLayer(\n",
       "                &quot;https://{s}.tile.openstreetmap.org/{z}/{x}/{y}.png&quot;,\n",
       "                {&quot;attribution&quot;: &quot;Data by \\u0026copy; \\u003ca target=\\&quot;_blank\\&quot; href=\\&quot;http://openstreetmap.org\\&quot;\\u003eOpenStreetMap\\u003c/a\\u003e, under \\u003ca target=\\&quot;_blank\\&quot; href=\\&quot;http://www.openstreetmap.org/copyright\\&quot;\\u003eODbL\\u003c/a\\u003e.&quot;, &quot;detectRetina&quot;: false, &quot;maxNativeZoom&quot;: 18, &quot;maxZoom&quot;: 18, &quot;minZoom&quot;: 0, &quot;noWrap&quot;: false, &quot;opacity&quot;: 1, &quot;subdomains&quot;: &quot;abc&quot;, &quot;tms&quot;: false}\n",
       "            ).addTo(map_cf74142a89f8b3f72982cac7840989ba);\n",
       "        \n",
       "    \n",
       "            map_cf74142a89f8b3f72982cac7840989ba.fitBounds(\n",
       "                [[50.752988290039816, 3.2393105061932035], [51.375105867079235, 5.408662440337158]],\n",
       "                {}\n",
       "            );\n",
       "        \n",
       "    \n",
       "        function geo_json_01bc3ac32281bfe05346f1481c3addb8_styler(feature) {\n",
       "            switch(feature.id) {\n",
       "                default:\n",
       "                    return {&quot;fillOpacity&quot;: 0.5, &quot;weight&quot;: 2};\n",
       "            }\n",
       "        }\n",
       "        function geo_json_01bc3ac32281bfe05346f1481c3addb8_highlighter(feature) {\n",
       "            switch(feature.id) {\n",
       "                default:\n",
       "                    return {&quot;fillOpacity&quot;: 0.75};\n",
       "            }\n",
       "        }\n",
       "        function geo_json_01bc3ac32281bfe05346f1481c3addb8_pointToLayer(feature, latlng) {\n",
       "            var opts = {&quot;bubblingMouseEvents&quot;: true, &quot;color&quot;: &quot;#3388ff&quot;, &quot;dashArray&quot;: null, &quot;dashOffset&quot;: null, &quot;fill&quot;: true, &quot;fillColor&quot;: &quot;#3388ff&quot;, &quot;fillOpacity&quot;: 0.2, &quot;fillRule&quot;: &quot;evenodd&quot;, &quot;lineCap&quot;: &quot;round&quot;, &quot;lineJoin&quot;: &quot;round&quot;, &quot;opacity&quot;: 1.0, &quot;radius&quot;: 2, &quot;stroke&quot;: true, &quot;weight&quot;: 3};\n",
       "            \n",
       "            let style = geo_json_01bc3ac32281bfe05346f1481c3addb8_styler(feature)\n",
       "            Object.assign(opts, style)\n",
       "            \n",
       "            return new L.CircleMarker(latlng, opts)\n",
       "        }\n",
       "\n",
       "        function geo_json_01bc3ac32281bfe05346f1481c3addb8_onEachFeature(feature, layer) {\n",
       "            layer.on({\n",
       "                mouseout: function(e) {\n",
       "                    if(typeof e.target.setStyle === &quot;function&quot;){\n",
       "                        geo_json_01bc3ac32281bfe05346f1481c3addb8.resetStyle(e.target);\n",
       "                    }\n",
       "                },\n",
       "                mouseover: function(e) {\n",
       "                    if(typeof e.target.setStyle === &quot;function&quot;){\n",
       "                        const highlightStyle = geo_json_01bc3ac32281bfe05346f1481c3addb8_highlighter(e.target.feature)\n",
       "                        e.target.setStyle(highlightStyle);\n",
       "                    }\n",
       "                },\n",
       "            });\n",
       "        };\n",
       "        var geo_json_01bc3ac32281bfe05346f1481c3addb8 = L.geoJson(null, {\n",
       "                onEachFeature: geo_json_01bc3ac32281bfe05346f1481c3addb8_onEachFeature,\n",
       "            \n",
       "                style: geo_json_01bc3ac32281bfe05346f1481c3addb8_styler,\n",
       "                pointToLayer: geo_json_01bc3ac32281bfe05346f1481c3addb8_pointToLayer\n",
       "        });\n",
       "\n",
       "        function geo_json_01bc3ac32281bfe05346f1481c3addb8_add (data) {\n",
       "            geo_json_01bc3ac32281bfe05346f1481c3addb8\n",
       "                .addData(data)\n",
       "                .addTo(map_cf74142a89f8b3f72982cac7840989ba);\n",
       "        }\n",
       "            geo_json_01bc3ac32281bfe05346f1481c3addb8_add({&quot;bbox&quot;: [3.2393105061932035, 50.752988290039816, 5.408662440337158, 51.375105867079235], &quot;features&quot;: [{&quot;bbox&quot;: [4.389823557100121, 51.24433685885295, 4.389823557100121, 51.24433685885295], &quot;geometry&quot;: {&quot;coordinates&quot;: [4.389823557100121, 51.24433685885295], &quot;type&quot;: &quot;Point&quot;}, &quot;id&quot;: &quot;0&quot;, &quot;properties&quot;: {&quot;boornummer&quot;: &quot;GEO-70/569-A&quot;, &quot;pkey_boring&quot;: &quot;https://oefen.dov.vlaanderen.be/data/boring/1971-081470&quot;}, &quot;type&quot;: &quot;Feature&quot;}, {&quot;bbox&quot;: [4.389966246385105, 51.2432402592778, 4.389966246385105, 51.2432402592778], &quot;geometry&quot;: {&quot;coordinates&quot;: [4.389966246385105, 51.2432402592778], &quot;type&quot;: &quot;Point&quot;}, &quot;id&quot;: &quot;1&quot;, &quot;properties&quot;: {&quot;boornummer&quot;: &quot;GEO-70/569-B&quot;, &quot;pkey_boring&quot;: &quot;https://oefen.dov.vlaanderen.be/data/boring/1971-081476&quot;}, &quot;type&quot;: &quot;Feature&quot;}, {&quot;bbox&quot;: [4.47944375453124, 51.05368234765792, 4.47944375453124, 51.05368234765792], &quot;geometry&quot;: {&quot;coordinates&quot;: [4.47944375453124, 51.05368234765792], &quot;type&quot;: &quot;Point&quot;}, &quot;id&quot;: &quot;2&quot;, &quot;properties&quot;: {&quot;boornummer&quot;: &quot;GEO-72/045-b43&quot;, &quot;pkey_boring&quot;: &quot;https://oefen.dov.vlaanderen.be/data/boring/1972-060360&quot;}, &quot;type&quot;: &quot;Feature&quot;}, {&quot;bbox&quot;: [4.603674045586583, 51.375105867079235, 4.603674045586583, 51.375105867079235], &quot;geometry&quot;: {&quot;coordinates&quot;: [4.603674045586583, 51.375105867079235], &quot;type&quot;: &quot;Point&quot;}, &quot;id&quot;: &quot;3&quot;, &quot;properties&quot;: {&quot;boornummer&quot;: &quot;GEO-71/105-b31&quot;, &quot;pkey_boring&quot;: &quot;https://oefen.dov.vlaanderen.be/data/boring/1971-028063&quot;}, &quot;type&quot;: &quot;Feature&quot;}, {&quot;bbox&quot;: [4.599306110472341, 51.37465608082806, 4.599306110472341, 51.37465608082806], &quot;geometry&quot;: {&quot;coordinates&quot;: [4.599306110472341, 51.37465608082806], &quot;type&quot;: &quot;Point&quot;}, &quot;id&quot;: &quot;4&quot;, &quot;properties&quot;: {&quot;boornummer&quot;: &quot;GEO-71/105-b32&quot;, &quot;pkey_boring&quot;: &quot;https://oefen.dov.vlaanderen.be/data/boring/1971-028064&quot;}, &quot;type&quot;: &quot;Feature&quot;}, {&quot;bbox&quot;: [4.6007557173935885, 51.37449146498579, 4.6007557173935885, 51.37449146498579], &quot;geometry&quot;: {&quot;coordinates&quot;: [4.6007557173935885, 51.37449146498579], &quot;type&quot;: &quot;Point&quot;}, &quot;id&quot;: &quot;5&quot;, &quot;properties&quot;: {&quot;boornummer&quot;: &quot;GEO-71/105-b33&quot;, &quot;pkey_boring&quot;: &quot;https://oefen.dov.vlaanderen.be/data/boring/1971-028065&quot;}, &quot;type&quot;: &quot;Feature&quot;}, {&quot;bbox&quot;: [4.602133647548671, 51.37435393641503, 4.602133647548671, 51.37435393641503], &quot;geometry&quot;: {&quot;coordinates&quot;: [4.602133647548671, 51.37435393641503], &quot;type&quot;: &quot;Point&quot;}, &quot;id&quot;: &quot;6&quot;, &quot;properties&quot;: {&quot;boornummer&quot;: &quot;GEO-71/105-b34&quot;, &quot;pkey_boring&quot;: &quot;https://oefen.dov.vlaanderen.be/data/boring/1971-028066&quot;}, &quot;type&quot;: &quot;Feature&quot;}, {&quot;bbox&quot;: [3.2633795918084187, 50.752988290039816, 3.2633795918084187, 50.752988290039816], &quot;geometry&quot;: {&quot;coordinates&quot;: [3.2633795918084187, 50.752988290039816], &quot;type&quot;: &quot;Point&quot;}, &quot;id&quot;: &quot;7&quot;, &quot;properties&quot;: {&quot;boornummer&quot;: &quot;GEO-73/511-b1&quot;, &quot;pkey_boring&quot;: &quot;https://oefen.dov.vlaanderen.be/data/boring/1973-017706&quot;}, &quot;type&quot;: &quot;Feature&quot;}, {&quot;bbox&quot;: [3.2644699997581306, 50.75726017961035, 3.2644699997581306, 50.75726017961035], &quot;geometry&quot;: {&quot;coordinates&quot;: [3.2644699997581306, 50.75726017961035], &quot;type&quot;: &quot;Point&quot;}, &quot;id&quot;: &quot;8&quot;, &quot;properties&quot;: {&quot;boornummer&quot;: &quot;GEO-73/511-b2&quot;, &quot;pkey_boring&quot;: &quot;https://oefen.dov.vlaanderen.be/data/boring/1973-017708&quot;}, &quot;type&quot;: &quot;Feature&quot;}, {&quot;bbox&quot;: [3.2393105061932035, 51.30604911672496, 3.2393105061932035, 51.30604911672496], &quot;geometry&quot;: {&quot;coordinates&quot;: [3.2393105061932035, 51.30604911672496], &quot;type&quot;: &quot;Point&quot;}, &quot;id&quot;: &quot;9&quot;, &quot;properties&quot;: {&quot;boornummer&quot;: &quot;GEO-73/568-B1 (A)&quot;, &quot;pkey_boring&quot;: &quot;https://oefen.dov.vlaanderen.be/data/boring/1973-017722&quot;}, &quot;type&quot;: &quot;Feature&quot;}, {&quot;bbox&quot;: [4.076854055158578, 50.87447970046915, 4.076854055158578, 50.87447970046915], &quot;geometry&quot;: {&quot;coordinates&quot;: [4.076854055158578, 50.87447970046915], &quot;type&quot;: &quot;Point&quot;}, &quot;id&quot;: &quot;10&quot;, &quot;properties&quot;: {&quot;boornummer&quot;: &quot;GEO-73/547-b1&quot;, &quot;pkey_boring&quot;: &quot;https://oefen.dov.vlaanderen.be/data/boring/1973-026575&quot;}, &quot;type&quot;: &quot;Feature&quot;}, {&quot;bbox&quot;: [4.077850809993857, 50.8741225892096, 4.077850809993857, 50.8741225892096], &quot;geometry&quot;: {&quot;coordinates&quot;: [4.077850809993857, 50.8741225892096], &quot;type&quot;: &quot;Point&quot;}, &quot;id&quot;: &quot;11&quot;, &quot;properties&quot;: {&quot;boornummer&quot;: &quot;GEO-73/547-b2&quot;, &quot;pkey_boring&quot;: &quot;https://oefen.dov.vlaanderen.be/data/boring/1973-026576&quot;}, &quot;type&quot;: &quot;Feature&quot;}, {&quot;bbox&quot;: [5.396365220478687, 51.26613554213004, 5.396365220478687, 51.26613554213004], &quot;geometry&quot;: {&quot;coordinates&quot;: [5.396365220478687, 51.26613554213004], &quot;type&quot;: &quot;Point&quot;}, &quot;id&quot;: &quot;12&quot;, &quot;properties&quot;: {&quot;boornummer&quot;: &quot;GEO-73/498-b1&quot;, &quot;pkey_boring&quot;: &quot;https://oefen.dov.vlaanderen.be/data/boring/1973-104649&quot;}, &quot;type&quot;: &quot;Feature&quot;}, {&quot;bbox&quot;: [5.396469983012084, 51.2643907486793, 5.396469983012084, 51.2643907486793], &quot;geometry&quot;: {&quot;coordinates&quot;: [5.396469983012084, 51.2643907486793], &quot;type&quot;: &quot;Point&quot;}, &quot;id&quot;: &quot;13&quot;, &quot;properties&quot;: {&quot;boornummer&quot;: &quot;GEO-73/498-b3&quot;, &quot;pkey_boring&quot;: &quot;https://oefen.dov.vlaanderen.be/data/boring/1973-104654&quot;}, &quot;type&quot;: &quot;Feature&quot;}, {&quot;bbox&quot;: [5.408329376045241, 51.239180379741214, 5.408329376045241, 51.239180379741214], &quot;geometry&quot;: {&quot;coordinates&quot;: [5.408329376045241, 51.239180379741214], &quot;type&quot;: &quot;Point&quot;}, &quot;id&quot;: &quot;14&quot;, &quot;properties&quot;: {&quot;boornummer&quot;: &quot;GEO-73/498-b34&quot;, &quot;pkey_boring&quot;: &quot;https://oefen.dov.vlaanderen.be/data/boring/1974-104656&quot;}, &quot;type&quot;: &quot;Feature&quot;}, {&quot;bbox&quot;: [5.408662440337158, 51.236139097464395, 5.408662440337158, 51.236139097464395], &quot;geometry&quot;: {&quot;coordinates&quot;: [5.408662440337158, 51.236139097464395], &quot;type&quot;: &quot;Point&quot;}, &quot;id&quot;: &quot;15&quot;, &quot;properties&quot;: {&quot;boornummer&quot;: &quot;GEO-73/498-b40&quot;, &quot;pkey_boring&quot;: &quot;https://oefen.dov.vlaanderen.be/data/boring/1974-017745&quot;}, &quot;type&quot;: &quot;Feature&quot;}, {&quot;bbox&quot;: [5.4052454685599045, 51.229301347840135, 5.4052454685599045, 51.229301347840135], &quot;geometry&quot;: {&quot;coordinates&quot;: [5.4052454685599045, 51.229301347840135], &quot;type&quot;: &quot;Point&quot;}, &quot;id&quot;: &quot;16&quot;, &quot;properties&quot;: {&quot;boornummer&quot;: &quot;GEO-73/498-b48&quot;, &quot;pkey_boring&quot;: &quot;https://oefen.dov.vlaanderen.be/data/boring/1974-104672&quot;}, &quot;type&quot;: &quot;Feature&quot;}, {&quot;bbox&quot;: [5.401688965540866, 51.222581569957825, 5.401688965540866, 51.222581569957825], &quot;geometry&quot;: {&quot;coordinates&quot;: [5.401688965540866, 51.222581569957825], &quot;type&quot;: &quot;Point&quot;}, &quot;id&quot;: &quot;17&quot;, &quot;properties&quot;: {&quot;boornummer&quot;: &quot;GEO-73/498-b56&quot;, &quot;pkey_boring&quot;: &quot;https://oefen.dov.vlaanderen.be/data/boring/1974-092503&quot;}, &quot;type&quot;: &quot;Feature&quot;}, {&quot;bbox&quot;: [5.399774639596008, 51.21887673865441, 5.399774639596008, 51.21887673865441], &quot;geometry&quot;: {&quot;coordinates&quot;: [5.399774639596008, 51.21887673865441], &quot;type&quot;: &quot;Point&quot;}, &quot;id&quot;: &quot;18&quot;, &quot;properties&quot;: {&quot;boornummer&quot;: &quot;GEO-73/498-b60&quot;, &quot;pkey_boring&quot;: &quot;https://oefen.dov.vlaanderen.be/data/boring/1974-017750&quot;}, &quot;type&quot;: &quot;Feature&quot;}, {&quot;bbox&quot;: [5.39937133811351, 51.21811617024515, 5.39937133811351, 51.21811617024515], &quot;geometry&quot;: {&quot;coordinates&quot;: [5.39937133811351, 51.21811617024515], &quot;type&quot;: &quot;Point&quot;}, &quot;id&quot;: &quot;19&quot;, &quot;properties&quot;: {&quot;boornummer&quot;: &quot;GEO-73/498-b61&quot;, &quot;pkey_boring&quot;: &quot;https://oefen.dov.vlaanderen.be/data/boring/1974-017752&quot;}, &quot;type&quot;: &quot;Feature&quot;}, {&quot;bbox&quot;: [5.395709835851496, 51.21110046768278, 5.395709835851496, 51.21110046768278], &quot;geometry&quot;: {&quot;coordinates&quot;: [5.395709835851496, 51.21110046768278], &quot;type&quot;: &quot;Point&quot;}, &quot;id&quot;: &quot;20&quot;, &quot;properties&quot;: {&quot;boornummer&quot;: &quot;GEO-73/498-b73&quot;, &quot;pkey_boring&quot;: &quot;https://oefen.dov.vlaanderen.be/data/boring/1974-104674&quot;}, &quot;type&quot;: &quot;Feature&quot;}, {&quot;bbox&quot;: [5.3979362934405675, 51.258777785422666, 5.3979362934405675, 51.258777785422666], &quot;geometry&quot;: {&quot;coordinates&quot;: [5.3979362934405675, 51.258777785422666], &quot;type&quot;: &quot;Point&quot;}, &quot;id&quot;: &quot;21&quot;, &quot;properties&quot;: {&quot;boornummer&quot;: &quot;GEO-73/498-b9&quot;, &quot;pkey_boring&quot;: &quot;https://oefen.dov.vlaanderen.be/data/boring/1973-104676&quot;}, &quot;type&quot;: &quot;Feature&quot;}, {&quot;bbox&quot;: [4.463880388819474, 51.03810916349434, 4.463880388819474, 51.03810916349434], &quot;geometry&quot;: {&quot;coordinates&quot;: [4.463880388819474, 51.03810916349434], &quot;type&quot;: &quot;Point&quot;}, &quot;id&quot;: &quot;22&quot;, &quot;properties&quot;: {&quot;boornummer&quot;: &quot;GEO-72/045-b1&quot;, &quot;pkey_boring&quot;: &quot;https://oefen.dov.vlaanderen.be/data/boring/1972-060298&quot;}, &quot;type&quot;: &quot;Feature&quot;}, {&quot;bbox&quot;: [4.458060025026761, 51.04378580297647, 4.458060025026761, 51.04378580297647], &quot;geometry&quot;: {&quot;coordinates&quot;: [4.458060025026761, 51.04378580297647], &quot;type&quot;: &quot;Point&quot;}, &quot;id&quot;: &quot;23&quot;, &quot;properties&quot;: {&quot;boornummer&quot;: &quot;GEO-72/045-b10&quot;, &quot;pkey_boring&quot;: &quot;https://oefen.dov.vlaanderen.be/data/boring/1972-060299&quot;}, &quot;type&quot;: &quot;Feature&quot;}, {&quot;bbox&quot;: [4.557984467698064, 51.05694378220629, 4.557984467698064, 51.05694378220629], &quot;geometry&quot;: {&quot;coordinates&quot;: [4.557984467698064, 51.05694378220629], &quot;type&quot;: &quot;Point&quot;}, &quot;id&quot;: &quot;24&quot;, &quot;properties&quot;: {&quot;boornummer&quot;: &quot;GEO-72/045-b100&quot;, &quot;pkey_boring&quot;: &quot;https://oefen.dov.vlaanderen.be/data/boring/1972-060300&quot;}, &quot;type&quot;: &quot;Feature&quot;}, {&quot;bbox&quot;: [4.556774171976007, 51.057458097433035, 4.556774171976007, 51.057458097433035], &quot;geometry&quot;: {&quot;coordinates&quot;: [4.556774171976007, 51.057458097433035], &quot;type&quot;: &quot;Point&quot;}, &quot;id&quot;: &quot;25&quot;, &quot;properties&quot;: {&quot;boornummer&quot;: &quot;GEO-72/045-b101&quot;, &quot;pkey_boring&quot;: &quot;https://oefen.dov.vlaanderen.be/data/boring/1972-060301&quot;}, &quot;type&quot;: &quot;Feature&quot;}, {&quot;bbox&quot;: [4.555247645746314, 51.057370643074705, 4.555247645746314, 51.057370643074705], &quot;geometry&quot;: {&quot;coordinates&quot;: [4.555247645746314, 51.057370643074705], &quot;type&quot;: &quot;Point&quot;}, &quot;id&quot;: &quot;26&quot;, &quot;properties&quot;: {&quot;boornummer&quot;: &quot;GEO-72/045-b102&quot;, &quot;pkey_boring&quot;: &quot;https://oefen.dov.vlaanderen.be/data/boring/1972-060302&quot;}, &quot;type&quot;: &quot;Feature&quot;}, {&quot;bbox&quot;: [4.554231989306912, 51.05662616909021, 4.554231989306912, 51.05662616909021], &quot;geometry&quot;: {&quot;coordinates&quot;: [4.554231989306912, 51.05662616909021], &quot;type&quot;: &quot;Point&quot;}, &quot;id&quot;: &quot;27&quot;, &quot;properties&quot;: {&quot;boornummer&quot;: &quot;GEO-72/045-b103&quot;, &quot;pkey_boring&quot;: &quot;https://oefen.dov.vlaanderen.be/data/boring/1972-060303&quot;}, &quot;type&quot;: &quot;Feature&quot;}, {&quot;bbox&quot;: [4.553745799358649, 51.056312322881105, 4.553745799358649, 51.056312322881105], &quot;geometry&quot;: {&quot;coordinates&quot;: [4.553745799358649, 51.056312322881105], &quot;type&quot;: &quot;Point&quot;}, &quot;id&quot;: &quot;28&quot;, &quot;properties&quot;: {&quot;boornummer&quot;: &quot;GEO-72/045-b104&quot;, &quot;pkey_boring&quot;: &quot;https://oefen.dov.vlaanderen.be/data/boring/1972-060304&quot;}, &quot;type&quot;: &quot;Feature&quot;}, {&quot;bbox&quot;: [4.458446357482267, 51.04447765803585, 4.458446357482267, 51.04447765803585], &quot;geometry&quot;: {&quot;coordinates&quot;: [4.458446357482267, 51.04447765803585], &quot;type&quot;: &quot;Point&quot;}, &quot;id&quot;: &quot;29&quot;, &quot;properties&quot;: {&quot;boornummer&quot;: &quot;GEO-72/045-b11&quot;, &quot;pkey_boring&quot;: &quot;https://oefen.dov.vlaanderen.be/data/boring/1972-060310&quot;}, &quot;type&quot;: &quot;Feature&quot;}, {&quot;bbox&quot;: [4.4605610710372705, 51.04666932460625, 4.4605610710372705, 51.04666932460625], &quot;geometry&quot;: {&quot;coordinates&quot;: [4.4605610710372705, 51.04666932460625], &quot;type&quot;: &quot;Point&quot;}, &quot;id&quot;: &quot;30&quot;, &quot;properties&quot;: {&quot;boornummer&quot;: &quot;GEO-72/045-b14&quot;, &quot;pkey_boring&quot;: &quot;https://oefen.dov.vlaanderen.be/data/boring/1972-060331&quot;}, &quot;type&quot;: &quot;Feature&quot;}, {&quot;bbox&quot;: [4.461546087316493, 51.04720788483889, 4.461546087316493, 51.04720788483889], &quot;geometry&quot;: {&quot;coordinates&quot;: [4.461546087316493, 51.04720788483889], &quot;type&quot;: &quot;Point&quot;}, &quot;id&quot;: &quot;31&quot;, &quot;properties&quot;: {&quot;boornummer&quot;: &quot;GEO-72/045-b16&quot;, &quot;pkey_boring&quot;: &quot;https://oefen.dov.vlaanderen.be/data/boring/1972-060333&quot;}, &quot;type&quot;: &quot;Feature&quot;}, {&quot;bbox&quot;: [4.462759473162118, 51.047836143003195, 4.462759473162118, 51.047836143003195], &quot;geometry&quot;: {&quot;coordinates&quot;: [4.462759473162118, 51.047836143003195], &quot;type&quot;: &quot;Point&quot;}, &quot;id&quot;: &quot;32&quot;, &quot;properties&quot;: {&quot;boornummer&quot;: &quot;GEO-72/045-b17&quot;, &quot;pkey_boring&quot;: &quot;https://oefen.dov.vlaanderen.be/data/boring/1971-060334&quot;}, &quot;type&quot;: &quot;Feature&quot;}, {&quot;bbox&quot;: [4.463858715328785, 51.04841953664212, 4.463858715328785, 51.04841953664212], &quot;geometry&quot;: {&quot;coordinates&quot;: [4.463858715328785, 51.04841953664212], &quot;type&quot;: &quot;Point&quot;}, &quot;id&quot;: &quot;33&quot;, &quot;properties&quot;: {&quot;boornummer&quot;: &quot;GEO-72/045-b18&quot;, &quot;pkey_boring&quot;: &quot;https://oefen.dov.vlaanderen.be/data/boring/1972-060335&quot;}, &quot;type&quot;: &quot;Feature&quot;}, {&quot;bbox&quot;: [4.462582767736449, 51.03801133320432, 4.462582767736449, 51.03801133320432], &quot;geometry&quot;: {&quot;coordinates&quot;: [4.462582767736449, 51.03801133320432], &quot;type&quot;: &quot;Point&quot;}, &quot;id&quot;: &quot;34&quot;, &quot;properties&quot;: {&quot;boornummer&quot;: &quot;GEO-72/045-b2&quot;, &quot;pkey_boring&quot;: &quot;https://oefen.dov.vlaanderen.be/data/boring/1972-060337&quot;}, &quot;type&quot;: &quot;Feature&quot;}, {&quot;bbox&quot;: [4.466100045665125, 51.049577268258766, 4.466100045665125, 51.049577268258766], &quot;geometry&quot;: {&quot;coordinates&quot;: [4.466100045665125, 51.049577268258766], &quot;type&quot;: &quot;Point&quot;}, &quot;id&quot;: &quot;35&quot;, &quot;properties&quot;: {&quot;boornummer&quot;: &quot;GEO-72/045-b20&quot;, &quot;pkey_boring&quot;: &quot;https://oefen.dov.vlaanderen.be/data/boring/1972-060338&quot;}, &quot;type&quot;: &quot;Feature&quot;}, {&quot;bbox&quot;: [4.462498547383517, 51.03866759709427, 4.462498547383517, 51.03866759709427], &quot;geometry&quot;: {&quot;coordinates&quot;: [4.462498547383517, 51.03866759709427], &quot;type&quot;: &quot;Point&quot;}, &quot;id&quot;: &quot;36&quot;, &quot;properties&quot;: {&quot;boornummer&quot;: &quot;GEO-72/045-b21&quot;, &quot;pkey_boring&quot;: &quot;https://oefen.dov.vlaanderen.be/data/boring/1972-060339&quot;}, &quot;type&quot;: &quot;Feature&quot;}, {&quot;bbox&quot;: [4.458514944215537, 51.04307532548887, 4.458514944215537, 51.04307532548887], &quot;geometry&quot;: {&quot;coordinates&quot;: [4.458514944215537, 51.04307532548887], &quot;type&quot;: &quot;Point&quot;}, &quot;id&quot;: &quot;37&quot;, &quot;properties&quot;: {&quot;boornummer&quot;: &quot;GEO-72/045-b25&quot;, &quot;pkey_boring&quot;: &quot;https://oefen.dov.vlaanderen.be/data/boring/1972-060340&quot;}, &quot;type&quot;: &quot;Feature&quot;}, {&quot;bbox&quot;: [4.45899800022519, 51.0421760557976, 4.45899800022519, 51.0421760557976], &quot;geometry&quot;: {&quot;coordinates&quot;: [4.45899800022519, 51.0421760557976], &quot;type&quot;: &quot;Point&quot;}, &quot;id&quot;: &quot;38&quot;, &quot;properties&quot;: {&quot;boornummer&quot;: &quot;GEO-72/045-b26&quot;, &quot;pkey_boring&quot;: &quot;https://oefen.dov.vlaanderen.be/data/boring/1972-060341&quot;}, &quot;type&quot;: &quot;Feature&quot;}, {&quot;bbox&quot;: [4.457355454961398, 51.048181944002806, 4.457355454961398, 51.048181944002806], &quot;geometry&quot;: {&quot;coordinates&quot;: [4.457355454961398, 51.048181944002806], &quot;type&quot;: &quot;Point&quot;}, &quot;id&quot;: &quot;39&quot;, &quot;properties&quot;: {&quot;boornummer&quot;: &quot;GEO-72/045-b28&quot;, &quot;pkey_boring&quot;: &quot;https://oefen.dov.vlaanderen.be/data/boring/1972-108834&quot;}, &quot;type&quot;: &quot;Feature&quot;}, {&quot;bbox&quot;: [4.459137818503948, 51.04808170083505, 4.459137818503948, 51.04808170083505], &quot;geometry&quot;: {&quot;coordinates&quot;: [4.459137818503948, 51.04808170083505], &quot;type&quot;: &quot;Point&quot;}, &quot;id&quot;: &quot;40&quot;, &quot;properties&quot;: {&quot;boornummer&quot;: &quot;GEO-72/045-b29&quot;, &quot;pkey_boring&quot;: &quot;https://oefen.dov.vlaanderen.be/data/boring/1972-060344&quot;}, &quot;type&quot;: &quot;Feature&quot;}, {&quot;bbox&quot;: [4.460572588091279, 51.038066863367646, 4.460572588091279, 51.038066863367646], &quot;geometry&quot;: {&quot;coordinates&quot;: [4.460572588091279, 51.038066863367646], &quot;type&quot;: &quot;Point&quot;}, &quot;id&quot;: &quot;41&quot;, &quot;properties&quot;: {&quot;boornummer&quot;: &quot;GEO-72/045-b3&quot;, &quot;pkey_boring&quot;: &quot;https://oefen.dov.vlaanderen.be/data/boring/1972-060345&quot;}, &quot;type&quot;: &quot;Feature&quot;}, {&quot;bbox&quot;: [4.460207190490863, 51.04799996851439, 4.460207190490863, 51.04799996851439], &quot;geometry&quot;: {&quot;coordinates&quot;: [4.460207190490863, 51.04799996851439], &quot;type&quot;: &quot;Point&quot;}, &quot;id&quot;: &quot;42&quot;, &quot;properties&quot;: {&quot;boornummer&quot;: &quot;GEO-72/045-b30&quot;, &quot;pkey_boring&quot;: &quot;https://oefen.dov.vlaanderen.be/data/boring/1972-060346&quot;}, &quot;type&quot;: &quot;Feature&quot;}, {&quot;bbox&quot;: [4.461604708866823, 51.04799886700104, 4.461604708866823, 51.04799886700104], &quot;geometry&quot;: {&quot;coordinates&quot;: [4.461604708866823, 51.04799886700104], &quot;type&quot;: &quot;Point&quot;}, &quot;id&quot;: &quot;43&quot;, &quot;properties&quot;: {&quot;boornummer&quot;: &quot;GEO-72/045-b31&quot;, &quot;pkey_boring&quot;: &quot;https://oefen.dov.vlaanderen.be/data/boring/1972-060347&quot;}, &quot;type&quot;: &quot;Feature&quot;}, {&quot;bbox&quot;: [4.466770970144052, 51.04989132145441, 4.466770970144052, 51.04989132145441], &quot;geometry&quot;: {&quot;coordinates&quot;: [4.466770970144052, 51.04989132145441], &quot;type&quot;: &quot;Point&quot;}, &quot;id&quot;: &quot;44&quot;, &quot;properties&quot;: {&quot;boornummer&quot;: &quot;GEO-72/045-b33&quot;, &quot;pkey_boring&quot;: &quot;https://oefen.dov.vlaanderen.be/data/boring/1972-060349&quot;}, &quot;type&quot;: &quot;Feature&quot;}, {&quot;bbox&quot;: [4.469097855667791, 51.050977012226355, 4.469097855667791, 51.050977012226355], &quot;geometry&quot;: {&quot;coordinates&quot;: [4.469097855667791, 51.050977012226355], &quot;type&quot;: &quot;Point&quot;}, &quot;id&quot;: &quot;45&quot;, &quot;properties&quot;: {&quot;boornummer&quot;: &quot;GEO-72/045-b35&quot;, &quot;pkey_boring&quot;: &quot;https://oefen.dov.vlaanderen.be/data/boring/1972-060351&quot;}, &quot;type&quot;: &quot;Feature&quot;}, {&quot;bbox&quot;: [4.470268381305171, 51.051479383831946, 4.470268381305171, 51.051479383831946], &quot;geometry&quot;: {&quot;coordinates&quot;: [4.470268381305171, 51.051479383831946], &quot;type&quot;: &quot;Point&quot;}, &quot;id&quot;: &quot;46&quot;, &quot;properties&quot;: {&quot;boornummer&quot;: &quot;GEO-72/045-b36&quot;, &quot;pkey_boring&quot;: &quot;https://oefen.dov.vlaanderen.be/data/boring/1972-060352&quot;}, &quot;type&quot;: &quot;Feature&quot;}, {&quot;bbox&quot;: [4.471510081126018, 51.05190976965681, 4.471510081126018, 51.05190976965681], &quot;geometry&quot;: {&quot;coordinates&quot;: [4.471510081126018, 51.05190976965681], &quot;type&quot;: &quot;Point&quot;}, &quot;id&quot;: &quot;47&quot;, &quot;properties&quot;: {&quot;boornummer&quot;: &quot;GEO-72/045-b37&quot;, &quot;pkey_boring&quot;: &quot;https://oefen.dov.vlaanderen.be/data/boring/1972-060353&quot;}, &quot;type&quot;: &quot;Feature&quot;}, {&quot;bbox&quot;: [4.459204405947609, 51.038337599889296, 4.459204405947609, 51.038337599889296], &quot;geometry&quot;: {&quot;coordinates&quot;: [4.459204405947609, 51.038337599889296], &quot;type&quot;: &quot;Point&quot;}, &quot;id&quot;: &quot;48&quot;, &quot;properties&quot;: {&quot;boornummer&quot;: &quot;GEO-72/045-b4&quot;, &quot;pkey_boring&quot;: &quot;https://oefen.dov.vlaanderen.be/data/boring/1972-060356&quot;}, &quot;type&quot;: &quot;Feature&quot;}, {&quot;bbox&quot;: [4.475334698117709, 51.053003000915595, 4.475334698117709, 51.053003000915595], &quot;geometry&quot;: {&quot;coordinates&quot;: [4.475334698117709, 51.053003000915595], &quot;type&quot;: &quot;Point&quot;}, &quot;id&quot;: &quot;49&quot;, &quot;properties&quot;: {&quot;boornummer&quot;: &quot;GEO-72/045-b40&quot;, &quot;pkey_boring&quot;: &quot;https://oefen.dov.vlaanderen.be/data/boring/1972-060357&quot;}, &quot;type&quot;: &quot;Feature&quot;}, {&quot;bbox&quot;: [4.476704488585517, 51.053280403033, 4.476704488585517, 51.053280403033], &quot;geometry&quot;: {&quot;coordinates&quot;: [4.476704488585517, 51.053280403033], &quot;type&quot;: &quot;Point&quot;}, &quot;id&quot;: &quot;50&quot;, &quot;properties&quot;: {&quot;boornummer&quot;: &quot;GEO-72/045-b41&quot;, &quot;pkey_boring&quot;: &quot;https://oefen.dov.vlaanderen.be/data/boring/1972-060358&quot;}, &quot;type&quot;: &quot;Feature&quot;}, {&quot;bbox&quot;: [4.478159804333554, 51.05353074247402, 4.478159804333554, 51.05353074247402], &quot;geometry&quot;: {&quot;coordinates&quot;: [4.478159804333554, 51.05353074247402], &quot;type&quot;: &quot;Point&quot;}, &quot;id&quot;: &quot;51&quot;, &quot;properties&quot;: {&quot;boornummer&quot;: &quot;GEO-72/045-b42&quot;, &quot;pkey_boring&quot;: &quot;https://oefen.dov.vlaanderen.be/data/boring/1972-060359&quot;}, &quot;type&quot;: &quot;Feature&quot;}, {&quot;bbox&quot;: [4.482810253422802, 51.053939796169814, 4.482810253422802, 51.053939796169814], &quot;geometry&quot;: {&quot;coordinates&quot;: [4.482810253422802, 51.053939796169814], &quot;type&quot;: &quot;Point&quot;}, &quot;id&quot;: &quot;52&quot;, &quot;properties&quot;: {&quot;boornummer&quot;: &quot;GEO-72/045-b45&quot;, &quot;pkey_boring&quot;: &quot;https://oefen.dov.vlaanderen.be/data/boring/1972-060362&quot;}, &quot;type&quot;: &quot;Feature&quot;}, {&quot;bbox&quot;: [4.484350615197831, 51.05395626365076, 4.484350615197831, 51.05395626365076], &quot;geometry&quot;: {&quot;coordinates&quot;: [4.484350615197831, 51.05395626365076], &quot;type&quot;: &quot;Point&quot;}, &quot;id&quot;: &quot;53&quot;, &quot;properties&quot;: {&quot;boornummer&quot;: &quot;GEO-72/045-b46&quot;, &quot;pkey_boring&quot;: &quot;https://oefen.dov.vlaanderen.be/data/boring/1972-060363&quot;}, &quot;type&quot;: &quot;Feature&quot;}, {&quot;bbox&quot;: [4.488742816172437, 51.05373611150249, 4.488742816172437, 51.05373611150249], &quot;geometry&quot;: {&quot;coordinates&quot;: [4.488742816172437, 51.05373611150249], &quot;type&quot;: &quot;Point&quot;}, &quot;id&quot;: &quot;54&quot;, &quot;properties&quot;: {&quot;boornummer&quot;: &quot;GEO-72/045-b49&quot;, &quot;pkey_boring&quot;: &quot;https://oefen.dov.vlaanderen.be/data/boring/1972-060365&quot;}, &quot;type&quot;: &quot;Feature&quot;}, {&quot;bbox&quot;: [4.458093379467715, 51.03888678282702, 4.458093379467715, 51.03888678282702], &quot;geometry&quot;: {&quot;coordinates&quot;: [4.458093379467715, 51.03888678282702], &quot;type&quot;: &quot;Point&quot;}, &quot;id&quot;: &quot;55&quot;, &quot;properties&quot;: {&quot;boornummer&quot;: &quot;GEO-72/045-b5&quot;, &quot;pkey_boring&quot;: &quot;https://oefen.dov.vlaanderen.be/data/boring/1972-060366&quot;}, &quot;type&quot;: &quot;Feature&quot;}, {&quot;bbox&quot;: [4.491537316323323, 51.0534006245914, 4.491537316323323, 51.0534006245914], &quot;geometry&quot;: {&quot;coordinates&quot;: [4.491537316323323, 51.0534006245914], &quot;type&quot;: &quot;Point&quot;}, &quot;id&quot;: &quot;56&quot;, &quot;properties&quot;: {&quot;boornummer&quot;: &quot;GEO-72/045-b51&quot;, &quot;pkey_boring&quot;: &quot;https://oefen.dov.vlaanderen.be/data/boring/1972-060368&quot;}, &quot;type&quot;: &quot;Feature&quot;}, {&quot;bbox&quot;: [4.494930168057713, 51.05283970465432, 4.494930168057713, 51.05283970465432], &quot;geometry&quot;: {&quot;coordinates&quot;: [4.494930168057713, 51.05283970465432], &quot;type&quot;: &quot;Point&quot;}, &quot;id&quot;: &quot;57&quot;, &quot;properties&quot;: {&quot;boornummer&quot;: &quot;GEO-72/045-b53&quot;, &quot;pkey_boring&quot;: &quot;https://oefen.dov.vlaanderen.be/data/boring/1972-060370&quot;}, &quot;type&quot;: &quot;Feature&quot;}, {&quot;bbox&quot;: [4.4962843794370295, 51.05259553675611, 4.4962843794370295, 51.05259553675611], &quot;geometry&quot;: {&quot;coordinates&quot;: [4.4962843794370295, 51.05259553675611], &quot;type&quot;: &quot;Point&quot;}, &quot;id&quot;: &quot;58&quot;, &quot;properties&quot;: {&quot;boornummer&quot;: &quot;GEO-72/045-b54&quot;, &quot;pkey_boring&quot;: &quot;https://oefen.dov.vlaanderen.be/data/boring/1972-060371&quot;}, &quot;type&quot;: &quot;Feature&quot;}, {&quot;bbox&quot;: [4.497410538438824, 51.05240553760143, 4.497410538438824, 51.05240553760143], &quot;geometry&quot;: {&quot;coordinates&quot;: [4.497410538438824, 51.05240553760143], &quot;type&quot;: &quot;Point&quot;}, &quot;id&quot;: &quot;59&quot;, &quot;properties&quot;: {&quot;boornummer&quot;: &quot;GEO-72/045-b55&quot;, &quot;pkey_boring&quot;: &quot;https://oefen.dov.vlaanderen.be/data/boring/1972-060372&quot;}, &quot;type&quot;: &quot;Feature&quot;}, {&quot;bbox&quot;: [4.499049906967279, 51.05214304649267, 4.499049906967279, 51.05214304649267], &quot;geometry&quot;: {&quot;coordinates&quot;: [4.499049906967279, 51.05214304649267], &quot;type&quot;: &quot;Point&quot;}, &quot;id&quot;: &quot;60&quot;, &quot;properties&quot;: {&quot;boornummer&quot;: &quot;GEO-72/045-b56&quot;, &quot;pkey_boring&quot;: &quot;https://oefen.dov.vlaanderen.be/data/boring/1972-060374&quot;}, &quot;type&quot;: &quot;Feature&quot;}, {&quot;bbox&quot;: [4.5004612755459155, 51.05195270064749, 4.5004612755459155, 51.05195270064749], &quot;geometry&quot;: {&quot;coordinates&quot;: [4.5004612755459155, 51.05195270064749], &quot;type&quot;: &quot;Point&quot;}, &quot;id&quot;: &quot;61&quot;, &quot;properties&quot;: {&quot;boornummer&quot;: &quot;GEO-72/045-b57&quot;, &quot;pkey_boring&quot;: &quot;https://oefen.dov.vlaanderen.be/data/boring/1972-060375&quot;}, &quot;type&quot;: &quot;Feature&quot;}, {&quot;bbox&quot;: [4.501943657408529, 51.05166337865279, 4.501943657408529, 51.05166337865279], &quot;geometry&quot;: {&quot;coordinates&quot;: [4.501943657408529, 51.05166337865279], &quot;type&quot;: &quot;Point&quot;}, &quot;id&quot;: &quot;62&quot;, &quot;properties&quot;: {&quot;boornummer&quot;: &quot;GEO-72/045-b58&quot;, &quot;pkey_boring&quot;: &quot;https://oefen.dov.vlaanderen.be/data/boring/1972-060376&quot;}, &quot;type&quot;: &quot;Feature&quot;}, {&quot;bbox&quot;: [4.50311255531273, 51.05147327629906, 4.50311255531273, 51.05147327629906], &quot;geometry&quot;: {&quot;coordinates&quot;: [4.50311255531273, 51.05147327629906], &quot;type&quot;: &quot;Point&quot;}, &quot;id&quot;: &quot;63&quot;, &quot;properties&quot;: {&quot;boornummer&quot;: &quot;GEO-72/045-b59&quot;, &quot;pkey_boring&quot;: &quot;https://oefen.dov.vlaanderen.be/data/boring/1972-060377&quot;}, &quot;type&quot;: &quot;Feature&quot;}, {&quot;bbox&quot;: [4.4572821001579905, 51.03962449717884, 4.4572821001579905, 51.03962449717884], &quot;geometry&quot;: {&quot;coordinates&quot;: [4.4572821001579905, 51.03962449717884], &quot;type&quot;: &quot;Point&quot;}, &quot;id&quot;: &quot;64&quot;, &quot;properties&quot;: {&quot;boornummer&quot;: &quot;GEO-72/045-b6&quot;, &quot;pkey_boring&quot;: &quot;https://oefen.dov.vlaanderen.be/data/boring/1972-060378&quot;}, &quot;type&quot;: &quot;Feature&quot;}, {&quot;bbox&quot;: [4.505963491796524, 51.0510115365084, 4.505963491796524, 51.0510115365084], &quot;geometry&quot;: {&quot;coordinates&quot;: [4.505963491796524, 51.0510115365084], &quot;type&quot;: &quot;Point&quot;}, &quot;id&quot;: &quot;65&quot;, &quot;properties&quot;: {&quot;boornummer&quot;: &quot;GEO-72/045-b61&quot;, &quot;pkey_boring&quot;: &quot;https://oefen.dov.vlaanderen.be/data/boring/1972-060380&quot;}, &quot;type&quot;: &quot;Feature&quot;}, {&quot;bbox&quot;: [4.50713235708951, 51.05082139422692, 4.50713235708951, 51.05082139422692], &quot;geometry&quot;: {&quot;coordinates&quot;: [4.50713235708951, 51.05082139422692], &quot;type&quot;: &quot;Point&quot;}, &quot;id&quot;: &quot;66&quot;, &quot;properties&quot;: {&quot;boornummer&quot;: &quot;GEO-72/045-b62&quot;, &quot;pkey_boring&quot;: &quot;https://oefen.dov.vlaanderen.be/data/boring/1972-060381&quot;}, &quot;type&quot;: &quot;Feature&quot;}, {&quot;bbox&quot;: [4.508829092800608, 51.05070252242052, 4.508829092800608, 51.05070252242052], &quot;geometry&quot;: {&quot;coordinates&quot;: [4.508829092800608, 51.05070252242052], &quot;type&quot;: &quot;Point&quot;}, &quot;id&quot;: &quot;67&quot;, &quot;properties&quot;: {&quot;boornummer&quot;: &quot;GEO-72/045-b63&quot;, &quot;pkey_boring&quot;: &quot;https://oefen.dov.vlaanderen.be/data/boring/1972-060382&quot;}, &quot;type&quot;: &quot;Feature&quot;}, {&quot;bbox&quot;: [4.5118092141560036, 51.05054611123704, 4.5118092141560036, 51.05054611123704], &quot;geometry&quot;: {&quot;coordinates&quot;: [4.5118092141560036, 51.05054611123704], &quot;type&quot;: &quot;Point&quot;}, &quot;id&quot;: &quot;68&quot;, &quot;properties&quot;: {&quot;boornummer&quot;: &quot;GEO-72/045-b65&quot;, &quot;pkey_boring&quot;: &quot;https://oefen.dov.vlaanderen.be/data/boring/1972-060384&quot;}, &quot;type&quot;: &quot;Feature&quot;}, {&quot;bbox&quot;: [4.5128786336323214, 51.05049086763272, 4.5128786336323214, 51.05049086763272], &quot;geometry&quot;: {&quot;coordinates&quot;: [4.5128786336323214, 51.05049086763272], &quot;type&quot;: &quot;Point&quot;}, &quot;id&quot;: &quot;69&quot;, &quot;properties&quot;: {&quot;boornummer&quot;: &quot;GEO-72/045-b66&quot;, &quot;pkey_boring&quot;: &quot;https://oefen.dov.vlaanderen.be/data/boring/1972-060385&quot;}, &quot;type&quot;: &quot;Feature&quot;}, {&quot;bbox&quot;: [4.516529170084625, 51.05038744471219, 4.516529170084625, 51.05038744471219], &quot;geometry&quot;: {&quot;coordinates&quot;: [4.516529170084625, 51.05038744471219], &quot;type&quot;: &quot;Point&quot;}, &quot;id&quot;: &quot;70&quot;, &quot;properties&quot;: {&quot;boornummer&quot;: &quot;GEO-72/045-b68&quot;, &quot;pkey_boring&quot;: &quot;https://oefen.dov.vlaanderen.be/data/boring/1972-060387&quot;}, &quot;type&quot;: &quot;Feature&quot;}, {&quot;bbox&quot;: [4.456913051250631, 51.04049670769686, 4.456913051250631, 51.04049670769686], &quot;geometry&quot;: {&quot;coordinates&quot;: [4.456913051250631, 51.04049670769686], &quot;type&quot;: &quot;Point&quot;}, &quot;id&quot;: &quot;71&quot;, &quot;properties&quot;: {&quot;boornummer&quot;: &quot;GEO-72/045-b7&quot;, &quot;pkey_boring&quot;: &quot;https://oefen.dov.vlaanderen.be/data/boring/1972-060389&quot;}, &quot;type&quot;: &quot;Feature&quot;}, {&quot;bbox&quot;: [4.518768655005142, 51.05053741334095, 4.518768655005142, 51.05053741334095], &quot;geometry&quot;: {&quot;coordinates&quot;: [4.518768655005142, 51.05053741334095], &quot;type&quot;: &quot;Point&quot;}, &quot;id&quot;: &quot;72&quot;, &quot;properties&quot;: {&quot;boornummer&quot;: &quot;GEO-72/045-b70&quot;, &quot;pkey_boring&quot;: &quot;https://oefen.dov.vlaanderen.be/data/boring/1972-060390&quot;}, &quot;type&quot;: &quot;Feature&quot;}, {&quot;bbox&quot;: [4.521621591952524, 51.05074946409289, 4.521621591952524, 51.05074946409289], &quot;geometry&quot;: {&quot;coordinates&quot;: [4.521621591952524, 51.05074946409289], &quot;type&quot;: &quot;Point&quot;}, &quot;id&quot;: &quot;73&quot;, &quot;properties&quot;: {&quot;boornummer&quot;: &quot;GEO-72/045-b72&quot;, &quot;pkey_boring&quot;: &quot;https://oefen.dov.vlaanderen.be/data/boring/1972-060392&quot;}, &quot;type&quot;: &quot;Feature&quot;}, {&quot;bbox&quot;: [4.522876905481831, 51.050846699657676, 4.522876905481831, 51.050846699657676], &quot;geometry&quot;: {&quot;coordinates&quot;: [4.522876905481831, 51.050846699657676], &quot;type&quot;: &quot;Point&quot;}, &quot;id&quot;: &quot;74&quot;, &quot;properties&quot;: {&quot;boornummer&quot;: &quot;GEO-72/045-b73&quot;, &quot;pkey_boring&quot;: &quot;https://oefen.dov.vlaanderen.be/data/boring/1972-060393&quot;}, &quot;type&quot;: &quot;Feature&quot;}, {&quot;bbox&quot;: [4.524303479482586, 51.05097965068932, 4.524303479482586, 51.05097965068932], &quot;geometry&quot;: {&quot;coordinates&quot;: [4.524303479482586, 51.05097965068932], &quot;type&quot;: &quot;Point&quot;}, &quot;id&quot;: &quot;75&quot;, &quot;properties&quot;: {&quot;boornummer&quot;: &quot;GEO-72/045-b74&quot;, &quot;pkey_boring&quot;: &quot;https://oefen.dov.vlaanderen.be/data/boring/1972-060394&quot;}, &quot;type&quot;: &quot;Feature&quot;}, {&quot;bbox&quot;: [4.525829830216255, 51.05109447293529, 4.525829830216255, 51.05109447293529], &quot;geometry&quot;: {&quot;coordinates&quot;: [4.525829830216255, 51.05109447293529], &quot;type&quot;: &quot;Point&quot;}, &quot;id&quot;: &quot;76&quot;, &quot;properties&quot;: {&quot;boornummer&quot;: &quot;GEO-72/045-b75&quot;, &quot;pkey_boring&quot;: &quot;https://oefen.dov.vlaanderen.be/data/boring/1972-060395&quot;}, &quot;type&quot;: &quot;Feature&quot;}, {&quot;bbox&quot;: [4.528354729060609, 51.05127983264687, 4.528354729060609, 51.05127983264687], &quot;geometry&quot;: {&quot;coordinates&quot;: [4.528354729060609, 51.05127983264687], &quot;type&quot;: &quot;Point&quot;}, &quot;id&quot;: &quot;77&quot;, &quot;properties&quot;: {&quot;boornummer&quot;: &quot;GEO-72/045-b77&quot;, &quot;pkey_boring&quot;: &quot;https://oefen.dov.vlaanderen.be/data/boring/1972-060397&quot;}, &quot;type&quot;: &quot;Feature&quot;}, {&quot;bbox&quot;: [4.529809823570485, 51.05140368924083, 4.529809823570485, 51.05140368924083], &quot;geometry&quot;: {&quot;coordinates&quot;: [4.529809823570485, 51.05140368924083], &quot;type&quot;: &quot;Point&quot;}, &quot;id&quot;: &quot;78&quot;, &quot;properties&quot;: {&quot;boornummer&quot;: &quot;GEO-72/045-b78&quot;, &quot;pkey_boring&quot;: &quot;https://oefen.dov.vlaanderen.be/data/boring/1972-060398&quot;}, &quot;type&quot;: &quot;Feature&quot;}, {&quot;bbox&quot;: [4.531250695681983, 51.05153653653476, 4.531250695681983, 51.05153653653476], &quot;geometry&quot;: {&quot;coordinates&quot;: [4.531250695681983, 51.05153653653476], &quot;type&quot;: &quot;Point&quot;}, &quot;id&quot;: &quot;79&quot;, &quot;properties&quot;: {&quot;boornummer&quot;: &quot;GEO-72/045-b79&quot;, &quot;pkey_boring&quot;: &quot;https://oefen.dov.vlaanderen.be/data/boring/1972-060399&quot;}, &quot;type&quot;: &quot;Feature&quot;}, {&quot;bbox&quot;: [4.457029183285761, 51.04158428682163, 4.457029183285761, 51.04158428682163], &quot;geometry&quot;: {&quot;coordinates&quot;: [4.457029183285761, 51.04158428682163], &quot;type&quot;: &quot;Point&quot;}, &quot;id&quot;: &quot;80&quot;, &quot;properties&quot;: {&quot;boornummer&quot;: &quot;GEO-72/045-b8&quot;, &quot;pkey_boring&quot;: &quot;https://oefen.dov.vlaanderen.be/data/boring/1972-060400&quot;}, &quot;type&quot;: &quot;Feature&quot;}, {&quot;bbox&quot;: [4.532648633452989, 51.05162448137792, 4.532648633452989, 51.05162448137792], &quot;geometry&quot;: {&quot;coordinates&quot;: [4.532648633452989, 51.05162448137792], &quot;type&quot;: &quot;Point&quot;}, &quot;id&quot;: &quot;81&quot;, &quot;properties&quot;: {&quot;boornummer&quot;: &quot;GEO-72/045-b80&quot;, &quot;pkey_boring&quot;: &quot;https://oefen.dov.vlaanderen.be/data/boring/1972-060401&quot;}, &quot;type&quot;: &quot;Feature&quot;}, {&quot;bbox&quot;: [4.533989562353621, 51.05172147891356, 4.533989562353621, 51.05172147891356], &quot;geometry&quot;: {&quot;coordinates&quot;: [4.533989562353621, 51.05172147891356], &quot;type&quot;: &quot;Point&quot;}, &quot;id&quot;: &quot;82&quot;, &quot;properties&quot;: {&quot;boornummer&quot;: &quot;GEO-72/045-b81&quot;, &quot;pkey_boring&quot;: &quot;https://oefen.dov.vlaanderen.be/data/boring/1972-060402&quot;}, &quot;type&quot;: &quot;Feature&quot;}, {&quot;bbox&quot;: [4.535644347035839, 51.05184498202797, 4.535644347035839, 51.05184498202797], &quot;geometry&quot;: {&quot;coordinates&quot;: [4.535644347035839, 51.05184498202797], &quot;type&quot;: &quot;Point&quot;}, &quot;id&quot;: &quot;83&quot;, &quot;properties&quot;: {&quot;boornummer&quot;: &quot;GEO-72/045-b82&quot;, &quot;pkey_boring&quot;: &quot;https://oefen.dov.vlaanderen.be/data/boring/1972-060403&quot;}, &quot;type&quot;: &quot;Feature&quot;}, {&quot;bbox&quot;: [4.537056434000028, 51.05189689859056, 4.537056434000028, 51.05189689859056], &quot;geometry&quot;: {&quot;coordinates&quot;: [4.537056434000028, 51.05189689859056], &quot;type&quot;: &quot;Point&quot;}, &quot;id&quot;: &quot;84&quot;, &quot;properties&quot;: {&quot;boornummer&quot;: &quot;GEO-72/045-b83&quot;, &quot;pkey_boring&quot;: &quot;https://oefen.dov.vlaanderen.be/data/boring/1972-060404&quot;}, &quot;type&quot;: &quot;Feature&quot;}, {&quot;bbox&quot;: [4.538525701336089, 51.051984671366746, 4.538525701336089, 51.051984671366746], &quot;geometry&quot;: {&quot;coordinates&quot;: [4.538525701336089, 51.051984671366746], &quot;type&quot;: &quot;Point&quot;}, &quot;id&quot;: &quot;85&quot;, &quot;properties&quot;: {&quot;boornummer&quot;: &quot;GEO-72/045-b84&quot;, &quot;pkey_boring&quot;: &quot;https://oefen.dov.vlaanderen.be/data/boring/1972-060405&quot;}, &quot;type&quot;: &quot;Feature&quot;}, {&quot;bbox&quot;: [4.53968138367667, 51.05211782790403, 4.53968138367667, 51.05211782790403], &quot;geometry&quot;: {&quot;coordinates&quot;: [4.53968138367667, 51.05211782790403], &quot;type&quot;: &quot;Point&quot;}, &quot;id&quot;: &quot;86&quot;, &quot;properties&quot;: {&quot;boornummer&quot;: &quot;GEO-72/045-b85&quot;, &quot;pkey_boring&quot;: &quot;https://oefen.dov.vlaanderen.be/data/boring/1972-060406&quot;}, &quot;type&quot;: &quot;Feature&quot;}, {&quot;bbox&quot;: [4.541293878244614, 51.05236715880281, 4.541293878244614, 51.05236715880281], &quot;geometry&quot;: {&quot;coordinates&quot;: [4.541293878244614, 51.05236715880281], &quot;type&quot;: &quot;Point&quot;}, &quot;id&quot;: &quot;87&quot;, &quot;properties&quot;: {&quot;boornummer&quot;: &quot;GEO-72/045-b86&quot;, &quot;pkey_boring&quot;: &quot;https://oefen.dov.vlaanderen.be/data/boring/1972-060407&quot;}, &quot;type&quot;: &quot;Feature&quot;}, {&quot;bbox&quot;: [4.545559624467322, 51.05275632332085, 4.545559624467322, 51.05275632332085], &quot;geometry&quot;: {&quot;coordinates&quot;: [4.545559624467322, 51.05275632332085], &quot;type&quot;: &quot;Point&quot;}, &quot;id&quot;: &quot;88&quot;, &quot;properties&quot;: {&quot;boornummer&quot;: &quot;GEO-72/045-b89&quot;, &quot;pkey_boring&quot;: &quot;https://oefen.dov.vlaanderen.be/data/boring/1972-060409&quot;}, &quot;type&quot;: &quot;Feature&quot;}, {&quot;bbox&quot;: [4.457487565528536, 51.04268958403141, 4.457487565528536, 51.04268958403141], &quot;geometry&quot;: {&quot;coordinates&quot;: [4.457487565528536, 51.04268958403141], &quot;type&quot;: &quot;Point&quot;}, &quot;id&quot;: &quot;89&quot;, &quot;properties&quot;: {&quot;boornummer&quot;: &quot;GEO-72/045-b9&quot;, &quot;pkey_boring&quot;: &quot;https://oefen.dov.vlaanderen.be/data/boring/1972-060410&quot;}, &quot;type&quot;: &quot;Feature&quot;}, {&quot;bbox&quot;: [4.547128733187474, 51.05283484940124, 4.547128733187474, 51.05283484940124], &quot;geometry&quot;: {&quot;coordinates&quot;: [4.547128733187474, 51.05283484940124], &quot;type&quot;: &quot;Point&quot;}, &quot;id&quot;: &quot;90&quot;, &quot;properties&quot;: {&quot;boornummer&quot;: &quot;GEO-72/045-b90&quot;, &quot;pkey_boring&quot;: &quot;https://oefen.dov.vlaanderen.be/data/boring/1972-060411&quot;}, &quot;type&quot;: &quot;Feature&quot;}, {&quot;bbox&quot;: [4.548584203073539, 51.05303038532959, 4.548584203073539, 51.05303038532959], &quot;geometry&quot;: {&quot;coordinates&quot;: [4.548584203073539, 51.05303038532959], &quot;type&quot;: &quot;Point&quot;}, &quot;id&quot;: &quot;91&quot;, &quot;properties&quot;: {&quot;boornummer&quot;: &quot;GEO-72/045-b91&quot;, &quot;pkey_boring&quot;: &quot;https://oefen.dov.vlaanderen.be/data/boring/1972-060412&quot;}, &quot;type&quot;: &quot;Feature&quot;}, {&quot;bbox&quot;: [4.5500259474382405, 51.05336075895654, 4.5500259474382405, 51.05336075895654], &quot;geometry&quot;: {&quot;coordinates&quot;: [4.5500259474382405, 51.05336075895654], &quot;type&quot;: &quot;Point&quot;}, &quot;id&quot;: &quot;92&quot;, &quot;properties&quot;: {&quot;boornummer&quot;: &quot;GEO-72/045-b92&quot;, &quot;pkey_boring&quot;: &quot;https://oefen.dov.vlaanderen.be/data/boring/1972-060413&quot;}, &quot;type&quot;: &quot;Feature&quot;}, {&quot;bbox&quot;: [4.551453133032971, 51.053610236919766, 4.551453133032971, 51.053610236919766], &quot;geometry&quot;: {&quot;coordinates&quot;: [4.551453133032971, 51.053610236919766], &quot;type&quot;: &quot;Point&quot;}, &quot;id&quot;: &quot;93&quot;, &quot;properties&quot;: {&quot;boornummer&quot;: &quot;GEO-72/045-b93&quot;, &quot;pkey_boring&quot;: &quot;https://oefen.dov.vlaanderen.be/data/boring/1972-060414&quot;}, &quot;type&quot;: &quot;Feature&quot;}, {&quot;bbox&quot;: [4.552723237437639, 51.0538060101349, 4.552723237437639, 51.0538060101349], &quot;geometry&quot;: {&quot;coordinates&quot;: [4.552723237437639, 51.0538060101349], &quot;type&quot;: &quot;Point&quot;}, &quot;id&quot;: &quot;94&quot;, &quot;properties&quot;: {&quot;boornummer&quot;: &quot;GEO-72/045-b94&quot;, &quot;pkey_boring&quot;: &quot;https://oefen.dov.vlaanderen.be/data/boring/1972-060415&quot;}, &quot;type&quot;: &quot;Feature&quot;}, {&quot;bbox&quot;: [4.553979518816604, 51.05410965904098, 4.553979518816604, 51.05410965904098], &quot;geometry&quot;: {&quot;coordinates&quot;: [4.553979518816604, 51.05410965904098], &quot;type&quot;: &quot;Point&quot;}, &quot;id&quot;: &quot;95&quot;, &quot;properties&quot;: {&quot;boornummer&quot;: &quot;GEO-72/045-b95&quot;, &quot;pkey_boring&quot;: &quot;https://oefen.dov.vlaanderen.be/data/boring/1972-060416&quot;}, &quot;type&quot;: &quot;Feature&quot;}, {&quot;bbox&quot;: [4.555307092090028, 51.0544041922939, 4.555307092090028, 51.0544041922939], &quot;geometry&quot;: {&quot;coordinates&quot;: [4.555307092090028, 51.0544041922939], &quot;type&quot;: &quot;Point&quot;}, &quot;id&quot;: &quot;96&quot;, &quot;properties&quot;: {&quot;boornummer&quot;: &quot;GEO-72/045-b96&quot;, &quot;pkey_boring&quot;: &quot;https://oefen.dov.vlaanderen.be/data/boring/1972-060417&quot;}, &quot;type&quot;: &quot;Feature&quot;}, {&quot;bbox&quot;: [4.556791858467623, 51.05477037057081, 4.556791858467623, 51.05477037057081], &quot;geometry&quot;: {&quot;coordinates&quot;: [4.556791858467623, 51.05477037057081], &quot;type&quot;: &quot;Point&quot;}, &quot;id&quot;: &quot;97&quot;, &quot;properties&quot;: {&quot;boornummer&quot;: &quot;GEO-72/045-b97&quot;, &quot;pkey_boring&quot;: &quot;https://oefen.dov.vlaanderen.be/data/boring/1972-060418&quot;}, &quot;type&quot;: &quot;Feature&quot;}, {&quot;bbox&quot;: [4.55767809527276, 51.0552543514633, 4.55767809527276, 51.0552543514633], &quot;geometry&quot;: {&quot;coordinates&quot;: [4.55767809527276, 51.0552543514633], &quot;type&quot;: &quot;Point&quot;}, &quot;id&quot;: &quot;98&quot;, &quot;properties&quot;: {&quot;boornummer&quot;: &quot;GEO-72/045-b98&quot;, &quot;pkey_boring&quot;: &quot;https://oefen.dov.vlaanderen.be/data/boring/1971-060419&quot;}, &quot;type&quot;: &quot;Feature&quot;}, {&quot;bbox&quot;: [4.558295185920037, 51.05618820849537, 4.558295185920037, 51.05618820849537], &quot;geometry&quot;: {&quot;coordinates&quot;: [4.558295185920037, 51.05618820849537], &quot;type&quot;: &quot;Point&quot;}, &quot;id&quot;: &quot;99&quot;, &quot;properties&quot;: {&quot;boornummer&quot;: &quot;GEO-72/045-b99&quot;, &quot;pkey_boring&quot;: &quot;https://oefen.dov.vlaanderen.be/data/boring/1972-060420&quot;}, &quot;type&quot;: &quot;Feature&quot;}], &quot;type&quot;: &quot;FeatureCollection&quot;});\n",
       "\n",
       "        \n",
       "    \n",
       "    geo_json_01bc3ac32281bfe05346f1481c3addb8.bindTooltip(\n",
       "    function(layer){\n",
       "    let div = L.DomUtil.create(&#x27;div&#x27;);\n",
       "    \n",
       "    let handleObject = feature=&gt;typeof(feature)==&#x27;object&#x27; ? JSON.stringify(feature) : feature;\n",
       "    let fields = [&quot;pkey_boring&quot;, &quot;boornummer&quot;];\n",
       "    let aliases = [&quot;pkey_boring&quot;, &quot;boornummer&quot;];\n",
       "    let table = &#x27;&lt;table&gt;&#x27; +\n",
       "        String(\n",
       "        fields.map(\n",
       "        (v,i)=&gt;\n",
       "        `&lt;tr&gt;\n",
       "            &lt;th&gt;${aliases[i]}&lt;/th&gt;\n",
       "            \n",
       "            &lt;td&gt;${handleObject(layer.feature.properties[v])}&lt;/td&gt;\n",
       "        &lt;/tr&gt;`).join(&#x27;&#x27;))\n",
       "    +&#x27;&lt;/table&gt;&#x27;;\n",
       "    div.innerHTML=table;\n",
       "    \n",
       "    return div\n",
       "    }\n",
       "    ,{&quot;className&quot;: &quot;foliumtooltip&quot;, &quot;sticky&quot;: true});\n",
       "                     \n",
       "&lt;/script&gt;\n",
       "&lt;/html&gt;\" style=\"position:absolute;width:100%;height:100%;left:0;top:0;border:none !important;\" allowfullscreen webkitallowfullscreen mozallowfullscreen></iframe></div></div>"
      ],
      "text/plain": [
       "<folium.folium.Map at 0x72540d8daf50>"
      ]
     },
     "execution_count": 14,
     "metadata": {},
     "output_type": "execute_result"
    }
   ],
   "source": [
    "gdf = gpd.GeoDataFrame(boringen, geometry='geom', crs='EPSG:31370')\n",
    "gdf.explore()"
   ]
  },
  {
   "cell_type": "markdown",
   "metadata": {},
   "source": [
    "## Adding the sampled object to the monster dataframe"
   ]
  },
  {
   "cell_type": "markdown",
   "metadata": {},
   "source": [
    "The default dataframe of the Monster datatype doesn't contains information about the 'sampled object' by default. This can be added to the dataframe as its subtype.\n",
    "\n",
    "You can find which extra subtypes are available for a certain type with the `get_subtypes` method:"
   ]
  },
  {
   "cell_type": "code",
   "execution_count": 25,
   "metadata": {},
   "outputs": [
    {
     "data": {
      "text/plain": [
       "{'BemonsterdObject': {'name': 'BemonsterdObject',\n",
       "  'class': pydov.types.monster.BemonsterdObject,\n",
       "  'definition': 'Subtype listing the method used to make the borehole. It has the following fields: bemonsterd_object_type, bemonsterd_object_naam, bemonsterd_object_permkey.'}}"
      ]
     },
     "execution_count": 25,
     "metadata": {},
     "output_type": "execute_result"
    }
   ],
   "source": [
    "from pydov.types.monster import Monster\n",
    "\n",
    "Monster.get_subtypes()"
   ]
  },
  {
   "cell_type": "markdown",
   "metadata": {},
   "source": [
    "To get the details about the sampled objects, we can instantiate the search class with the `BemonsterdObject` subtype:"
   ]
  },
  {
   "cell_type": "code",
   "execution_count": 26,
   "metadata": {},
   "outputs": [],
   "source": [
    "from pydov.types.monster import BemonsterdObject\n",
    "\n",
    "monster_search = MonsterSearch(\n",
    "    objecttype=Monster.with_subtype(BemonsterdObject)\n",
    ")"
   ]
  },
  {
   "cell_type": "markdown",
   "metadata": {},
   "source": [
    "When we now request information about the fields, this will include the extra fields from the subtype:"
   ]
  },
  {
   "cell_type": "code",
   "execution_count": 27,
   "metadata": {},
   "outputs": [
    {
     "data": {
      "text/plain": [
       "{'name': 'bemonsterd_object_permkey',\n",
       " 'type': 'string',\n",
       " 'list': False,\n",
       " 'definition': 'Een unieke DOV identifier in de vorm van een permkey.',\n",
       " 'notnull': False,\n",
       " 'query': False,\n",
       " 'cost': 10}"
      ]
     },
     "execution_count": 27,
     "metadata": {},
     "output_type": "execute_result"
    }
   ],
   "source": [
    "monster_search.get_fields()['bemonsterd_object_permkey']"
   ]
  },
  {
   "cell_type": "markdown",
   "metadata": {},
   "source": [
    "And when we query the data, the extra fields will be part of the resulting dataframe:"
   ]
  },
  {
   "cell_type": "code",
   "execution_count": 28,
   "metadata": {},
   "outputs": [
    {
     "name": "stdout",
     "output_type": "stream",
     "text": [
      "[000/001] .\n",
      "[000/010] ..........\n"
     ]
    },
    {
     "data": {
      "text/html": [
       "<div>\n",
       "<style scoped>\n",
       "    .dataframe tbody tr th:only-of-type {\n",
       "        vertical-align: middle;\n",
       "    }\n",
       "\n",
       "    .dataframe tbody tr th {\n",
       "        vertical-align: top;\n",
       "    }\n",
       "\n",
       "    .dataframe thead th {\n",
       "        text-align: right;\n",
       "    }\n",
       "</style>\n",
       "<table border=\"1\" class=\"dataframe\">\n",
       "  <thead>\n",
       "    <tr style=\"text-align: right;\">\n",
       "      <th></th>\n",
       "      <th>pkey_monster</th>\n",
       "      <th>naam</th>\n",
       "      <th>pkey_parents</th>\n",
       "      <th>materiaalklasse</th>\n",
       "      <th>datum_monstername</th>\n",
       "      <th>diepte_van_m</th>\n",
       "      <th>diepte_tot_m</th>\n",
       "      <th>monstertype</th>\n",
       "      <th>monstersamenstelling</th>\n",
       "      <th>bemonsteringsprocedure</th>\n",
       "      <th>bemonsteringsinstrument</th>\n",
       "      <th>bemonstering_door</th>\n",
       "      <th>bemonsterd_object_type</th>\n",
       "      <th>bemonsterd_object_naam</th>\n",
       "      <th>bemonsterd_object_permkey</th>\n",
       "    </tr>\n",
       "  </thead>\n",
       "  <tbody>\n",
       "    <tr>\n",
       "      <th>0</th>\n",
       "      <td>https://oefen.dov.vlaanderen.be/data/monster/2...</td>\n",
       "      <td>12</td>\n",
       "      <td>[https://oefen.dov.vlaanderen.be/data/boring/2...</td>\n",
       "      <td>sediment</td>\n",
       "      <td>2002-03-04</td>\n",
       "      <td>5.50</td>\n",
       "      <td>6.00</td>\n",
       "      <td>ongeroerd</td>\n",
       "      <td>ENKELVOUDIG</td>\n",
       "      <td>NaN</td>\n",
       "      <td>steekbus</td>\n",
       "      <td>MVG - Afdeling Geotechniek</td>\n",
       "      <td>BORING</td>\n",
       "      <td>GEO-02/028-B5</td>\n",
       "      <td>2002-003282</td>\n",
       "    </tr>\n",
       "    <tr>\n",
       "      <th>1</th>\n",
       "      <td>https://oefen.dov.vlaanderen.be/data/monster/2...</td>\n",
       "      <td>16A</td>\n",
       "      <td>[https://oefen.dov.vlaanderen.be/data/boring/2...</td>\n",
       "      <td>sediment</td>\n",
       "      <td>2002-03-04</td>\n",
       "      <td>7.00</td>\n",
       "      <td>7.12</td>\n",
       "      <td>ongeroerd</td>\n",
       "      <td>ENKELVOUDIG</td>\n",
       "      <td>NaN</td>\n",
       "      <td>steekbus</td>\n",
       "      <td>MVG - Afdeling Geotechniek</td>\n",
       "      <td>BORING</td>\n",
       "      <td>GEO-02/028-B5</td>\n",
       "      <td>2002-003282</td>\n",
       "    </tr>\n",
       "    <tr>\n",
       "      <th>2</th>\n",
       "      <td>https://oefen.dov.vlaanderen.be/data/monster/2...</td>\n",
       "      <td>16B</td>\n",
       "      <td>[https://oefen.dov.vlaanderen.be/data/boring/2...</td>\n",
       "      <td>sediment</td>\n",
       "      <td>2002-03-04</td>\n",
       "      <td>7.12</td>\n",
       "      <td>7.27</td>\n",
       "      <td>ongeroerd</td>\n",
       "      <td>ENKELVOUDIG</td>\n",
       "      <td>NaN</td>\n",
       "      <td>steekbus</td>\n",
       "      <td>MVG - Afdeling Geotechniek</td>\n",
       "      <td>BORING</td>\n",
       "      <td>GEO-02/028-B5</td>\n",
       "      <td>2002-003282</td>\n",
       "    </tr>\n",
       "    <tr>\n",
       "      <th>3</th>\n",
       "      <td>https://oefen.dov.vlaanderen.be/data/monster/2...</td>\n",
       "      <td>16C</td>\n",
       "      <td>[https://oefen.dov.vlaanderen.be/data/boring/2...</td>\n",
       "      <td>sediment</td>\n",
       "      <td>2002-03-04</td>\n",
       "      <td>7.27</td>\n",
       "      <td>7.43</td>\n",
       "      <td>ongeroerd</td>\n",
       "      <td>ENKELVOUDIG</td>\n",
       "      <td>NaN</td>\n",
       "      <td>steekbus</td>\n",
       "      <td>MVG - Afdeling Geotechniek</td>\n",
       "      <td>BORING</td>\n",
       "      <td>GEO-02/028-B5</td>\n",
       "      <td>2002-003282</td>\n",
       "    </tr>\n",
       "    <tr>\n",
       "      <th>4</th>\n",
       "      <td>https://oefen.dov.vlaanderen.be/data/monster/2...</td>\n",
       "      <td>16D</td>\n",
       "      <td>[https://oefen.dov.vlaanderen.be/data/boring/2...</td>\n",
       "      <td>sediment</td>\n",
       "      <td>2002-03-04</td>\n",
       "      <td>7.43</td>\n",
       "      <td>7.50</td>\n",
       "      <td>ongeroerd</td>\n",
       "      <td>ENKELVOUDIG</td>\n",
       "      <td>NaN</td>\n",
       "      <td>steekbus</td>\n",
       "      <td>MVG - Afdeling Geotechniek</td>\n",
       "      <td>BORING</td>\n",
       "      <td>GEO-02/028-B5</td>\n",
       "      <td>2002-003282</td>\n",
       "    </tr>\n",
       "  </tbody>\n",
       "</table>\n",
       "</div>"
      ],
      "text/plain": [
       "                                        pkey_monster naam  \\\n",
       "0  https://oefen.dov.vlaanderen.be/data/monster/2...   12   \n",
       "1  https://oefen.dov.vlaanderen.be/data/monster/2...  16A   \n",
       "2  https://oefen.dov.vlaanderen.be/data/monster/2...  16B   \n",
       "3  https://oefen.dov.vlaanderen.be/data/monster/2...  16C   \n",
       "4  https://oefen.dov.vlaanderen.be/data/monster/2...  16D   \n",
       "\n",
       "                                        pkey_parents materiaalklasse  \\\n",
       "0  [https://oefen.dov.vlaanderen.be/data/boring/2...        sediment   \n",
       "1  [https://oefen.dov.vlaanderen.be/data/boring/2...        sediment   \n",
       "2  [https://oefen.dov.vlaanderen.be/data/boring/2...        sediment   \n",
       "3  [https://oefen.dov.vlaanderen.be/data/boring/2...        sediment   \n",
       "4  [https://oefen.dov.vlaanderen.be/data/boring/2...        sediment   \n",
       "\n",
       "  datum_monstername  diepte_van_m  diepte_tot_m monstertype  \\\n",
       "0        2002-03-04          5.50          6.00   ongeroerd   \n",
       "1        2002-03-04          7.00          7.12   ongeroerd   \n",
       "2        2002-03-04          7.12          7.27   ongeroerd   \n",
       "3        2002-03-04          7.27          7.43   ongeroerd   \n",
       "4        2002-03-04          7.43          7.50   ongeroerd   \n",
       "\n",
       "  monstersamenstelling  bemonsteringsprocedure bemonsteringsinstrument  \\\n",
       "0          ENKELVOUDIG                     NaN                steekbus   \n",
       "1          ENKELVOUDIG                     NaN                steekbus   \n",
       "2          ENKELVOUDIG                     NaN                steekbus   \n",
       "3          ENKELVOUDIG                     NaN                steekbus   \n",
       "4          ENKELVOUDIG                     NaN                steekbus   \n",
       "\n",
       "            bemonstering_door bemonsterd_object_type bemonsterd_object_naam  \\\n",
       "0  MVG - Afdeling Geotechniek                 BORING          GEO-02/028-B5   \n",
       "1  MVG - Afdeling Geotechniek                 BORING          GEO-02/028-B5   \n",
       "2  MVG - Afdeling Geotechniek                 BORING          GEO-02/028-B5   \n",
       "3  MVG - Afdeling Geotechniek                 BORING          GEO-02/028-B5   \n",
       "4  MVG - Afdeling Geotechniek                 BORING          GEO-02/028-B5   \n",
       "\n",
       "  bemonsterd_object_permkey  \n",
       "0               2002-003282  \n",
       "1               2002-003282  \n",
       "2               2002-003282  \n",
       "3               2002-003282  \n",
       "4               2002-003282  "
      ]
     },
     "execution_count": 28,
     "metadata": {},
     "output_type": "execute_result"
    }
   ],
   "source": [
    "df = monster_search.search(location=Within(Box(122000, 187000, 124000, 189000, epsg=31370)), max_features = 10)\n",
    "df.head()"
   ]
  },
  {
   "cell_type": "markdown",
   "metadata": {},
   "source": [
    "Mind that one sample can originate from multiple 'sampled objects', so it's possible for one sample to be split into multiple rows. Also, since we are now requesting fields from XML, querying will be significantly slower than before."
   ]
  },
  {
   "cell_type": "markdown",
   "metadata": {},
   "source": [
    "## Get more details about a sample"
   ]
  },
  {
   "cell_type": "markdown",
   "metadata": {},
   "source": [
    "To get more details about a sample than is available in the default dataframe, you can add an extra fieldset containing extra details.\n",
    "\n",
    "You can find which extra fieldsets are available for a certain type with the `get_fieldsets` method:"
   ]
  },
  {
   "cell_type": "code",
   "execution_count": 3,
   "metadata": {},
   "outputs": [
    {
     "data": {
      "text/plain": [
       "{'MonsterDetails': {'name': 'MonsterDetails',\n",
       "  'class': pydov.types.monster.MonsterDetails,\n",
       "  'definition': 'Fieldset containing fields with extra details about the sample. It has the following fields: tijdstip_monstername.'}}"
      ]
     },
     "execution_count": 3,
     "metadata": {},
     "output_type": "execute_result"
    }
   ],
   "source": [
    "from pydov.types.monster import Monster\n",
    "\n",
    "Monster.get_fieldsets()"
   ]
  },
  {
   "cell_type": "markdown",
   "metadata": {},
   "source": [
    "In this case, the fieldset `MonsterDetails` is available, which will add the extra field `tijdstip_monstername`.\n",
    "\n",
    "To use it, we can add the extra fields from the fieldset when instantiating our search instance:"
   ]
  },
  {
   "cell_type": "code",
   "execution_count": 4,
   "metadata": {},
   "outputs": [],
   "source": [
    "from pydov.search.monster import MonsterSearch\n",
    "from pydov.types.monster import Monster, MonsterDetails\n",
    "\n",
    "monster_search = MonsterSearch(\n",
    "    objecttype=Monster.with_extra_fields(MonsterDetails))"
   ]
  },
  {
   "cell_type": "markdown",
   "metadata": {},
   "source": [
    "When we now request information about the fields, this will include the extra fields from the fieldset:"
   ]
  },
  {
   "cell_type": "code",
   "execution_count": 5,
   "metadata": {},
   "outputs": [
    {
     "data": {
      "text/plain": [
       "{'name': 'tijdstip_monstername',\n",
       " 'type': 'string',\n",
       " 'list': False,\n",
       " 'definition': 'Tijdstip waarop het monster werd verkregen uit het bemonsterdObject.',\n",
       " 'notnull': False,\n",
       " 'query': False,\n",
       " 'cost': 10}"
      ]
     },
     "execution_count": 5,
     "metadata": {},
     "output_type": "execute_result"
    }
   ],
   "source": [
    "monster_search.get_fields()['tijdstip_monstername']"
   ]
  },
  {
   "cell_type": "markdown",
   "metadata": {},
   "source": [
    "And when we query the data, the extra details will be part of the resulting dataframe:"
   ]
  },
  {
   "cell_type": "code",
   "execution_count": 7,
   "metadata": {},
   "outputs": [
    {
     "name": "stdout",
     "output_type": "stream",
     "text": [
      "[000/001] .\n",
      "[000/001] c\n"
     ]
    },
    {
     "data": {
      "text/html": [
       "<div>\n",
       "<style scoped>\n",
       "    .dataframe tbody tr th:only-of-type {\n",
       "        vertical-align: middle;\n",
       "    }\n",
       "\n",
       "    .dataframe tbody tr th {\n",
       "        vertical-align: top;\n",
       "    }\n",
       "\n",
       "    .dataframe thead th {\n",
       "        text-align: right;\n",
       "    }\n",
       "</style>\n",
       "<table border=\"1\" class=\"dataframe\">\n",
       "  <thead>\n",
       "    <tr style=\"text-align: right;\">\n",
       "      <th></th>\n",
       "      <th>pkey_monster</th>\n",
       "      <th>naam</th>\n",
       "      <th>pkey_parents</th>\n",
       "      <th>materiaalklasse</th>\n",
       "      <th>datum_monstername</th>\n",
       "      <th>diepte_van_m</th>\n",
       "      <th>diepte_tot_m</th>\n",
       "      <th>monstertype</th>\n",
       "      <th>monstersamenstelling</th>\n",
       "      <th>bemonsteringsprocedure</th>\n",
       "      <th>bemonsteringsinstrument</th>\n",
       "      <th>bemonstering_door</th>\n",
       "      <th>tijdstip_monstername</th>\n",
       "    </tr>\n",
       "  </thead>\n",
       "  <tbody>\n",
       "    <tr>\n",
       "      <th>0</th>\n",
       "      <td>https://oefen.dov.vlaanderen.be/data/monster/2...</td>\n",
       "      <td>CMON_Pae34829_laag_0_10_MG_2022</td>\n",
       "      <td>NaN</td>\n",
       "      <td>bodem</td>\n",
       "      <td>2022-01-19</td>\n",
       "      <td>0.0</td>\n",
       "      <td>0.1</td>\n",
       "      <td>geroerd</td>\n",
       "      <td>MENGMONSTER</td>\n",
       "      <td>csp</td>\n",
       "      <td>NaN</td>\n",
       "      <td>VO - Instituut voor Landbouw-, Visserij- en Vo...</td>\n",
       "      <td>10:00:00</td>\n",
       "    </tr>\n",
       "  </tbody>\n",
       "</table>\n",
       "</div>"
      ],
      "text/plain": [
       "                                        pkey_monster  \\\n",
       "0  https://oefen.dov.vlaanderen.be/data/monster/2...   \n",
       "\n",
       "                              naam  pkey_parents materiaalklasse  \\\n",
       "0  CMON_Pae34829_laag_0_10_MG_2022           NaN           bodem   \n",
       "\n",
       "  datum_monstername  diepte_van_m  diepte_tot_m monstertype  \\\n",
       "0        2022-01-19           0.0           0.1     geroerd   \n",
       "\n",
       "  monstersamenstelling bemonsteringsprocedure  bemonsteringsinstrument  \\\n",
       "0          MENGMONSTER                    csp                      NaN   \n",
       "\n",
       "                                   bemonstering_door tijdstip_monstername  \n",
       "0  VO - Instituut voor Landbouw-, Visserij- en Vo...             10:00:00  "
      ]
     },
     "execution_count": 7,
     "metadata": {},
     "output_type": "execute_result"
    }
   ],
   "source": [
    "from owslib.fes2 import PropertyIsEqualTo\n",
    "\n",
    "monster_search.search(\n",
    "    query=PropertyIsEqualTo(\n",
    "        'pkey_monster', 'https://oefen.dov.vlaanderen.be/data/monster/2022-324252')\n",
    ")"
   ]
  }
 ],
 "metadata": {
  "kernelspec": {
   "display_name": "Python 3 (ipykernel)",
   "language": "python",
   "name": "python3"
  },
  "language_info": {
   "codemirror_mode": {
    "name": "ipython",
    "version": 3
   },
   "file_extension": ".py",
   "mimetype": "text/x-python",
   "name": "python",
   "nbconvert_exporter": "python",
   "pygments_lexer": "ipython3",
   "version": "3.11.9"
  }
 },
 "nbformat": 4,
 "nbformat_minor": 4
}
