{
 "cells": [
  {
   "cell_type": "markdown",
   "metadata": {},
   "source": [
    "# Example of DOV search methods for observations (observaties)"
   ]
  },
  {
   "cell_type": "markdown",
   "metadata": {},
   "source": [
    "[![Binder](https://mybinder.org/badge_logo.svg)](https://mybinder.org/v2/gh/DOV-Vlaanderen/pydov/master?filepath=docs%2Fnotebooks%2Fsearch_observaties.ipynb)"
   ]
  },
  {
   "cell_type": "markdown",
   "metadata": {},
   "source": [
    "## Use cases explained below\n",
    "* Get observations in a bounding box\n",
    "* Get observations with specific properties\n",
    "* Get observations in a bounding box based on specific properties\n",
    "* Select observations in a municipality and return depth\n",
    "* Get observations based on fields not available in the standard output dataframee"
   ]
  },
  {
   "cell_type": "code",
   "execution_count": 1,
   "metadata": {},
   "outputs": [],
   "source": [
    "import os\n",
    "os.environ['PYDOV_BASE_URL'] = 'https://oefen.dov.vlaanderen.be/'"
   ]
  },
  {
   "cell_type": "code",
   "execution_count": 2,
   "metadata": {},
   "outputs": [],
   "source": [
    "%matplotlib inline\n",
    "import inspect, sys\n",
    "import warnings; warnings.simplefilter('ignore')"
   ]
  },
  {
   "cell_type": "code",
   "execution_count": 3,
   "metadata": {},
   "outputs": [],
   "source": [
    "# check pydov path\n",
    "import pydov"
   ]
  },
  {
   "cell_type": "markdown",
   "metadata": {},
   "source": [
    "## Get information about the datatype 'Observatie'"
   ]
  },
  {
   "cell_type": "code",
   "execution_count": 4,
   "metadata": {},
   "outputs": [],
   "source": [
    "from pydov.search.observatie import ObservatieSearch\n",
    "observatie = ObservatieSearch()"
   ]
  },
  {
   "cell_type": "markdown",
   "metadata": {},
   "source": [
    "A description is provided for the 'Observatie' datatype:"
   ]
  },
  {
   "cell_type": "code",
   "execution_count": 5,
   "metadata": {},
   "outputs": [
    {
     "data": {
      "text/plain": [
       "'DIT IS EEN TEST'"
      ]
     },
     "execution_count": 5,
     "metadata": {},
     "output_type": "execute_result"
    }
   ],
   "source": [
    "observatie.get_description()"
   ]
  },
  {
   "cell_type": "markdown",
   "metadata": {},
   "source": [
    "The different fields that are available for objects of the 'Observatie' datatype can be requested with the get_fields() method:"
   ]
  },
  {
   "cell_type": "code",
   "execution_count": 6,
   "metadata": {},
   "outputs": [
    {
     "name": "stdout",
     "output_type": "stream",
     "text": [
      "id\n",
      "pkey_observatie\n",
      "pkey_parent\n",
      "parameter\n",
      "parametergroep\n",
      "observatietype\n",
      "detectieconditie\n",
      "resultaat\n",
      "eenheid\n",
      "fenomeentijd\n",
      "resultaattijd\n",
      "methode\n",
      "uitvoerder\n",
      "diepte_van_m\n",
      "diepte_tot_m\n",
      "herkomst\n",
      "opmerking\n",
      "opdracht\n",
      "geom\n"
     ]
    }
   ],
   "source": [
    "fields = observatie.get_fields()\n",
    "\n",
    "# print available fields\n",
    "for f in fields.values():\n",
    "    print(f['name'])"
   ]
  },
  {
   "cell_type": "markdown",
   "metadata": {},
   "source": [
    "You can get more information of a field by requesting it from the fields dictionary:\n",
    "* *name*: name of the field\n",
    "* *definition*: definition of this field\n",
    "* *cost*: currently this is either 1 or 10, depending on the datasource of the field. It is an indication of the expected time it will take to retrieve this field in the output dataframe.\n",
    "* *notnull*: whether the field is mandatory or not\n",
    "* *type*: datatype of the values of this field"
   ]
  },
  {
   "cell_type": "code",
   "execution_count": 7,
   "metadata": {},
   "outputs": [
    {
     "data": {
      "text/plain": [
       "{'name': 'diepte_van_m',\n",
       " 'definition': None,\n",
       " 'type': 'float',\n",
       " 'list': False,\n",
       " 'notnull': False,\n",
       " 'query': True,\n",
       " 'cost': 1}"
      ]
     },
     "execution_count": 7,
     "metadata": {},
     "output_type": "execute_result"
    }
   ],
   "source": [
    "fields['diepte_van_m']"
   ]
  },
  {
   "cell_type": "markdown",
   "metadata": {},
   "source": [
    "## Example use cases"
   ]
  },
  {
   "cell_type": "markdown",
   "metadata": {},
   "source": [
    "### Get observations in a bounding box"
   ]
  },
  {
   "cell_type": "markdown",
   "metadata": {},
   "source": [
    "Get data for all the observations that are geographically located within the bounds of the specified box.\n",
    "\n",
    "The coordinates are in the Belgian Lambert72 (EPSG:31370) coordinate system and are given in the order of lower left x, lower left y, upper right x, upper right y."
   ]
  },
  {
   "cell_type": "code",
   "execution_count": 8,
   "metadata": {},
   "outputs": [
    {
     "name": "stdout",
     "output_type": "stream",
     "text": [
      "[000/001] .\n"
     ]
    },
    {
     "data": {
      "text/html": [
       "<div>\n",
       "<style scoped>\n",
       "    .dataframe tbody tr th:only-of-type {\n",
       "        vertical-align: middle;\n",
       "    }\n",
       "\n",
       "    .dataframe tbody tr th {\n",
       "        vertical-align: top;\n",
       "    }\n",
       "\n",
       "    .dataframe thead th {\n",
       "        text-align: right;\n",
       "    }\n",
       "</style>\n",
       "<table border=\"1\" class=\"dataframe\">\n",
       "  <thead>\n",
       "    <tr style=\"text-align: right;\">\n",
       "      <th></th>\n",
       "      <th>pkey_observatie</th>\n",
       "      <th>pkey_parent</th>\n",
       "      <th>fenomeentijd</th>\n",
       "      <th>diepte_van_m</th>\n",
       "      <th>diepte_tot_m</th>\n",
       "      <th>parametergroep</th>\n",
       "      <th>parameter</th>\n",
       "      <th>detectieconditie</th>\n",
       "      <th>resultaat</th>\n",
       "      <th>eenheid</th>\n",
       "      <th>methode</th>\n",
       "      <th>uitvoerder</th>\n",
       "      <th>herkomst</th>\n",
       "    </tr>\n",
       "  </thead>\n",
       "  <tbody>\n",
       "    <tr>\n",
       "      <th>0</th>\n",
       "      <td>https://oefen.dov.vlaanderen.be/data/observati...</td>\n",
       "      <td>https://oefen.dov.vlaanderen.be/data/monster/2...</td>\n",
       "      <td>2018-01-09</td>\n",
       "      <td>4.75</td>\n",
       "      <td>5.0</td>\n",
       "      <td>Onderkenning-grondsoort</td>\n",
       "      <td>Grondsoort volgens ASTM, de code (ASTM_code)</td>\n",
       "      <td>NaN</td>\n",
       "      <td>CL</td>\n",
       "      <td>-</td>\n",
       "      <td>Onbekend</td>\n",
       "      <td>VO - Afdeling Geotechniek</td>\n",
       "      <td>LABO</td>\n",
       "    </tr>\n",
       "    <tr>\n",
       "      <th>1</th>\n",
       "      <td>https://oefen.dov.vlaanderen.be/data/observati...</td>\n",
       "      <td>https://oefen.dov.vlaanderen.be/data/monster/2...</td>\n",
       "      <td>2018-01-09</td>\n",
       "      <td>4.75</td>\n",
       "      <td>5.0</td>\n",
       "      <td>Onderkenningsproeven-korrelverdeling</td>\n",
       "      <td>Korrelverdeling d.m.v. zeefproef (Korrelverdel...</td>\n",
       "      <td>NaN</td>\n",
       "      <td>NaN</td>\n",
       "      <td>NaN</td>\n",
       "      <td>Zeving</td>\n",
       "      <td>VO - Afdeling Geotechniek</td>\n",
       "      <td>LABO</td>\n",
       "    </tr>\n",
       "    <tr>\n",
       "      <th>2</th>\n",
       "      <td>https://oefen.dov.vlaanderen.be/data/observati...</td>\n",
       "      <td>https://oefen.dov.vlaanderen.be/data/monster/2...</td>\n",
       "      <td>2018-01-09</td>\n",
       "      <td>4.75</td>\n",
       "      <td>5.0</td>\n",
       "      <td>Onderkenning - proeven</td>\n",
       "      <td>Gehalte Kalkachtige stoffen (Gehalte Kalkachti...</td>\n",
       "      <td>NaN</td>\n",
       "      <td>13.2</td>\n",
       "      <td>%</td>\n",
       "      <td>Chemische reactie met waterstofchloride</td>\n",
       "      <td>VO - Afdeling Geotechniek</td>\n",
       "      <td>LABO</td>\n",
       "    </tr>\n",
       "    <tr>\n",
       "      <th>3</th>\n",
       "      <td>https://oefen.dov.vlaanderen.be/data/observati...</td>\n",
       "      <td>https://oefen.dov.vlaanderen.be/data/monster/2...</td>\n",
       "      <td>2018-01-09</td>\n",
       "      <td>4.75</td>\n",
       "      <td>5.0</td>\n",
       "      <td>Onderkenning - proeven</td>\n",
       "      <td>Consistentiegrenzen - Vloeigrens (Consistentie...</td>\n",
       "      <td>NaN</td>\n",
       "      <td>#</td>\n",
       "      <td>%</td>\n",
       "      <td>Onbekend</td>\n",
       "      <td>VO - Afdeling Geotechniek</td>\n",
       "      <td>LABO</td>\n",
       "    </tr>\n",
       "    <tr>\n",
       "      <th>4</th>\n",
       "      <td>https://oefen.dov.vlaanderen.be/data/observati...</td>\n",
       "      <td>https://oefen.dov.vlaanderen.be/data/monster/2...</td>\n",
       "      <td>2018-01-09</td>\n",
       "      <td>NaN</td>\n",
       "      <td>NaN</td>\n",
       "      <td>Volumemassa-watergehalte</td>\n",
       "      <td>Volumemassa nat (volumemassa nat)</td>\n",
       "      <td>NaN</td>\n",
       "      <td>2.05</td>\n",
       "      <td>t/m³</td>\n",
       "      <td>Volumieke massa door weging</td>\n",
       "      <td>VO - Afdeling Geotechniek</td>\n",
       "      <td>LABO</td>\n",
       "    </tr>\n",
       "  </tbody>\n",
       "</table>\n",
       "</div>"
      ],
      "text/plain": [
       "                                     pkey_observatie  \\\n",
       "0  https://oefen.dov.vlaanderen.be/data/observati...   \n",
       "1  https://oefen.dov.vlaanderen.be/data/observati...   \n",
       "2  https://oefen.dov.vlaanderen.be/data/observati...   \n",
       "3  https://oefen.dov.vlaanderen.be/data/observati...   \n",
       "4  https://oefen.dov.vlaanderen.be/data/observati...   \n",
       "\n",
       "                                         pkey_parent fenomeentijd  \\\n",
       "0  https://oefen.dov.vlaanderen.be/data/monster/2...   2018-01-09   \n",
       "1  https://oefen.dov.vlaanderen.be/data/monster/2...   2018-01-09   \n",
       "2  https://oefen.dov.vlaanderen.be/data/monster/2...   2018-01-09   \n",
       "3  https://oefen.dov.vlaanderen.be/data/monster/2...   2018-01-09   \n",
       "4  https://oefen.dov.vlaanderen.be/data/monster/2...   2018-01-09   \n",
       "\n",
       "   diepte_van_m  diepte_tot_m                        parametergroep  \\\n",
       "0          4.75           5.0               Onderkenning-grondsoort   \n",
       "1          4.75           5.0  Onderkenningsproeven-korrelverdeling   \n",
       "2          4.75           5.0                Onderkenning - proeven   \n",
       "3          4.75           5.0                Onderkenning - proeven   \n",
       "4           NaN           NaN              Volumemassa-watergehalte   \n",
       "\n",
       "                                           parameter  detectieconditie  \\\n",
       "0       Grondsoort volgens ASTM, de code (ASTM_code)               NaN   \n",
       "1  Korrelverdeling d.m.v. zeefproef (Korrelverdel...               NaN   \n",
       "2  Gehalte Kalkachtige stoffen (Gehalte Kalkachti...               NaN   \n",
       "3  Consistentiegrenzen - Vloeigrens (Consistentie...               NaN   \n",
       "4                  Volumemassa nat (volumemassa nat)               NaN   \n",
       "\n",
       "  resultaat eenheid                                  methode  \\\n",
       "0        CL       -                                 Onbekend   \n",
       "1       NaN     NaN                                   Zeving   \n",
       "2      13.2       %  Chemische reactie met waterstofchloride   \n",
       "3         #       %                                 Onbekend   \n",
       "4      2.05    t/m³              Volumieke massa door weging   \n",
       "\n",
       "                  uitvoerder herkomst  \n",
       "0  VO - Afdeling Geotechniek     LABO  \n",
       "1  VO - Afdeling Geotechniek     LABO  \n",
       "2  VO - Afdeling Geotechniek     LABO  \n",
       "3  VO - Afdeling Geotechniek     LABO  \n",
       "4  VO - Afdeling Geotechniek     LABO  "
      ]
     },
     "execution_count": 8,
     "metadata": {},
     "output_type": "execute_result"
    }
   ],
   "source": [
    "from pydov.util.location import Within, Box\n",
    "\n",
    "df = observatie.search(location=Within(Box(114000, 172310, 114005, 172315)), max_features = 10)\n",
    "df.head()"
   ]
  },
  {
   "cell_type": "markdown",
   "metadata": {},
   "source": [
    "The dataframe contains several observations made at the same location\n",
    "\n",
    "Using the *pkey_observatie* field one can request the details of these obsevrations in a webbrowser:"
   ]
  },
  {
   "cell_type": "code",
   "execution_count": 9,
   "metadata": {},
   "outputs": [
    {
     "name": "stdout",
     "output_type": "stream",
     "text": [
      "https://oefen.dov.vlaanderen.be/data/observatie/2022-6629656\n",
      "https://oefen.dov.vlaanderen.be/data/observatie/2022-6584164\n",
      "https://oefen.dov.vlaanderen.be/data/observatie/2022-3762474\n",
      "https://oefen.dov.vlaanderen.be/data/observatie/2022-6766131\n",
      "https://oefen.dov.vlaanderen.be/data/observatie/2022-2533722\n",
      "https://oefen.dov.vlaanderen.be/data/observatie/2022-6129664\n",
      "https://oefen.dov.vlaanderen.be/data/observatie/2022-1576601\n",
      "https://oefen.dov.vlaanderen.be/data/observatie/2022-3762475\n",
      "https://oefen.dov.vlaanderen.be/data/observatie/2022-4763586\n",
      "https://oefen.dov.vlaanderen.be/data/observatie/2022-4262285\n"
     ]
    }
   ],
   "source": [
    "for pkey_observatie in set(df.pkey_observatie):\n",
    "    print(pkey_observatie)"
   ]
  },
  {
   "cell_type": "markdown",
   "metadata": {},
   "source": [
    "### Get observations with specific properties"
   ]
  },
  {
   "cell_type": "markdown",
   "metadata": {},
   "source": [
    "Next to querying observations based on their geographic location within a bounding box, we can also search for observations matching a specific set of properties. For this we can build a query using a combination of the 'Observatie' fields and operators provided by the WFS protocol.\n",
    "\n",
    "A list of possible operators can be found below:"
   ]
  },
  {
   "cell_type": "code",
   "execution_count": 10,
   "metadata": {},
   "outputs": [
    {
     "data": {
      "text/plain": [
       "['PropertyIsBetween',\n",
       " 'PropertyIsEqualTo',\n",
       " 'PropertyIsGreaterThan',\n",
       " 'PropertyIsGreaterThanOrEqualTo',\n",
       " 'PropertyIsLessThan',\n",
       " 'PropertyIsLessThanOrEqualTo',\n",
       " 'PropertyIsLike',\n",
       " 'PropertyIsNotEqualTo',\n",
       " 'PropertyIsNull',\n",
       " 'SortProperty']"
      ]
     },
     "execution_count": 10,
     "metadata": {},
     "output_type": "execute_result"
    }
   ],
   "source": [
    "[i for i,j in inspect.getmembers(sys.modules['owslib.fes2'], inspect.isclass) if 'Property' in i]"
   ]
  },
  {
   "cell_type": "markdown",
   "metadata": {},
   "source": [
    "In this example we build a query using the *PropertyIsEqualTo* operator to find all observations concerning the parameter \"Watergehalte (watergehalte)\":"
   ]
  },
  {
   "cell_type": "code",
   "execution_count": 11,
   "metadata": {},
   "outputs": [
    {
     "name": "stdout",
     "output_type": "stream",
     "text": [
      "[000/001] .\n"
     ]
    },
    {
     "data": {
      "text/html": [
       "<div>\n",
       "<style scoped>\n",
       "    .dataframe tbody tr th:only-of-type {\n",
       "        vertical-align: middle;\n",
       "    }\n",
       "\n",
       "    .dataframe tbody tr th {\n",
       "        vertical-align: top;\n",
       "    }\n",
       "\n",
       "    .dataframe thead th {\n",
       "        text-align: right;\n",
       "    }\n",
       "</style>\n",
       "<table border=\"1\" class=\"dataframe\">\n",
       "  <thead>\n",
       "    <tr style=\"text-align: right;\">\n",
       "      <th></th>\n",
       "      <th>pkey_observatie</th>\n",
       "      <th>pkey_parent</th>\n",
       "      <th>fenomeentijd</th>\n",
       "      <th>diepte_van_m</th>\n",
       "      <th>diepte_tot_m</th>\n",
       "      <th>parametergroep</th>\n",
       "      <th>parameter</th>\n",
       "      <th>detectieconditie</th>\n",
       "      <th>resultaat</th>\n",
       "      <th>eenheid</th>\n",
       "      <th>methode</th>\n",
       "      <th>uitvoerder</th>\n",
       "      <th>herkomst</th>\n",
       "    </tr>\n",
       "  </thead>\n",
       "  <tbody>\n",
       "    <tr>\n",
       "      <th>0</th>\n",
       "      <td>https://oefen.dov.vlaanderen.be/data/observati...</td>\n",
       "      <td>https://oefen.dov.vlaanderen.be/data/monster/2...</td>\n",
       "      <td>2007-04-23</td>\n",
       "      <td>NaN</td>\n",
       "      <td>NaN</td>\n",
       "      <td>Volumemassa-watergehalte</td>\n",
       "      <td>Watergehalte (watergehalte)</td>\n",
       "      <td>NaN</td>\n",
       "      <td>58.0</td>\n",
       "      <td>%</td>\n",
       "      <td>Gewichtsverlies na drogen in droogstoof</td>\n",
       "      <td>VO - Afdeling Geotechniek</td>\n",
       "      <td>LABO</td>\n",
       "    </tr>\n",
       "    <tr>\n",
       "      <th>1</th>\n",
       "      <td>https://oefen.dov.vlaanderen.be/data/observati...</td>\n",
       "      <td>https://oefen.dov.vlaanderen.be/data/monster/2...</td>\n",
       "      <td>2013-08-22</td>\n",
       "      <td>NaN</td>\n",
       "      <td>NaN</td>\n",
       "      <td>Volumemassa-watergehalte</td>\n",
       "      <td>Watergehalte (watergehalte)</td>\n",
       "      <td>NaN</td>\n",
       "      <td>25.1</td>\n",
       "      <td>%</td>\n",
       "      <td>Gewichtsverlies na drogen in droogstoof</td>\n",
       "      <td>VO - Afdeling Geotechniek</td>\n",
       "      <td>LABO</td>\n",
       "    </tr>\n",
       "    <tr>\n",
       "      <th>2</th>\n",
       "      <td>https://oefen.dov.vlaanderen.be/data/observati...</td>\n",
       "      <td>https://oefen.dov.vlaanderen.be/data/monster/2...</td>\n",
       "      <td>2020-10-13</td>\n",
       "      <td>NaN</td>\n",
       "      <td>NaN</td>\n",
       "      <td>Volumemassa-watergehalte</td>\n",
       "      <td>Watergehalte (watergehalte)</td>\n",
       "      <td>NaN</td>\n",
       "      <td>17.8</td>\n",
       "      <td>%</td>\n",
       "      <td>Gewichtsverlies na drogen in droogstoof</td>\n",
       "      <td>VO - Afdeling Geotechniek</td>\n",
       "      <td>LABO</td>\n",
       "    </tr>\n",
       "    <tr>\n",
       "      <th>3</th>\n",
       "      <td>https://oefen.dov.vlaanderen.be/data/observati...</td>\n",
       "      <td>https://oefen.dov.vlaanderen.be/data/monster/2...</td>\n",
       "      <td>2001-02-05</td>\n",
       "      <td>NaN</td>\n",
       "      <td>NaN</td>\n",
       "      <td>Volumemassa-watergehalte</td>\n",
       "      <td>Watergehalte (watergehalte)</td>\n",
       "      <td>NaN</td>\n",
       "      <td>68.8</td>\n",
       "      <td>%</td>\n",
       "      <td>Gewichtsverlies na drogen in droogstoof</td>\n",
       "      <td>MVG - Afdeling Geotechniek</td>\n",
       "      <td>LABO</td>\n",
       "    </tr>\n",
       "    <tr>\n",
       "      <th>4</th>\n",
       "      <td>https://oefen.dov.vlaanderen.be/data/observati...</td>\n",
       "      <td>https://oefen.dov.vlaanderen.be/data/monster/2...</td>\n",
       "      <td>2018-06-26</td>\n",
       "      <td>NaN</td>\n",
       "      <td>NaN</td>\n",
       "      <td>Volumemassa-watergehalte</td>\n",
       "      <td>Watergehalte (watergehalte)</td>\n",
       "      <td>NaN</td>\n",
       "      <td>19.5</td>\n",
       "      <td>%</td>\n",
       "      <td>Gewichtsverlies na drogen in droogstoof</td>\n",
       "      <td>VO - Afdeling Geotechniek</td>\n",
       "      <td>LABO</td>\n",
       "    </tr>\n",
       "  </tbody>\n",
       "</table>\n",
       "</div>"
      ],
      "text/plain": [
       "                                     pkey_observatie  \\\n",
       "0  https://oefen.dov.vlaanderen.be/data/observati...   \n",
       "1  https://oefen.dov.vlaanderen.be/data/observati...   \n",
       "2  https://oefen.dov.vlaanderen.be/data/observati...   \n",
       "3  https://oefen.dov.vlaanderen.be/data/observati...   \n",
       "4  https://oefen.dov.vlaanderen.be/data/observati...   \n",
       "\n",
       "                                         pkey_parent fenomeentijd  \\\n",
       "0  https://oefen.dov.vlaanderen.be/data/monster/2...   2007-04-23   \n",
       "1  https://oefen.dov.vlaanderen.be/data/monster/2...   2013-08-22   \n",
       "2  https://oefen.dov.vlaanderen.be/data/monster/2...   2020-10-13   \n",
       "3  https://oefen.dov.vlaanderen.be/data/monster/2...   2001-02-05   \n",
       "4  https://oefen.dov.vlaanderen.be/data/monster/2...   2018-06-26   \n",
       "\n",
       "   diepte_van_m  diepte_tot_m            parametergroep  \\\n",
       "0           NaN           NaN  Volumemassa-watergehalte   \n",
       "1           NaN           NaN  Volumemassa-watergehalte   \n",
       "2           NaN           NaN  Volumemassa-watergehalte   \n",
       "3           NaN           NaN  Volumemassa-watergehalte   \n",
       "4           NaN           NaN  Volumemassa-watergehalte   \n",
       "\n",
       "                     parameter  detectieconditie resultaat eenheid  \\\n",
       "0  Watergehalte (watergehalte)               NaN      58.0       %   \n",
       "1  Watergehalte (watergehalte)               NaN      25.1       %   \n",
       "2  Watergehalte (watergehalte)               NaN      17.8       %   \n",
       "3  Watergehalte (watergehalte)               NaN      68.8       %   \n",
       "4  Watergehalte (watergehalte)               NaN      19.5       %   \n",
       "\n",
       "                                   methode                  uitvoerder  \\\n",
       "0  Gewichtsverlies na drogen in droogstoof   VO - Afdeling Geotechniek   \n",
       "1  Gewichtsverlies na drogen in droogstoof   VO - Afdeling Geotechniek   \n",
       "2  Gewichtsverlies na drogen in droogstoof   VO - Afdeling Geotechniek   \n",
       "3  Gewichtsverlies na drogen in droogstoof  MVG - Afdeling Geotechniek   \n",
       "4  Gewichtsverlies na drogen in droogstoof   VO - Afdeling Geotechniek   \n",
       "\n",
       "  herkomst  \n",
       "0     LABO  \n",
       "1     LABO  \n",
       "2     LABO  \n",
       "3     LABO  \n",
       "4     LABO  "
      ]
     },
     "execution_count": 11,
     "metadata": {},
     "output_type": "execute_result"
    }
   ],
   "source": [
    "from owslib.fes2 import PropertyIsEqualTo\n",
    "\n",
    "query = PropertyIsEqualTo(propertyname='parameter',\n",
    "                          literal='Watergehalte (watergehalte)')\n",
    "df = observatie.search(query=query, max_features = 10)\n",
    "\n",
    "df.head()"
   ]
  },
  {
   "cell_type": "markdown",
   "metadata": {},
   "source": [
    "Once again we can use the *pkey_observatie* as a permanent link to the information of these observations:"
   ]
  },
  {
   "cell_type": "code",
   "execution_count": 12,
   "metadata": {
    "scrolled": true
   },
   "outputs": [
    {
     "name": "stdout",
     "output_type": "stream",
     "text": [
      "https://oefen.dov.vlaanderen.be/data/observatie/2022-4714997\n",
      "https://oefen.dov.vlaanderen.be/data/observatie/2023-10613480\n",
      "https://oefen.dov.vlaanderen.be/data/observatie/2022-1856858\n",
      "https://oefen.dov.vlaanderen.be/data/observatie/2022-2074890\n",
      "https://oefen.dov.vlaanderen.be/data/observatie/2022-2074549\n",
      "https://oefen.dov.vlaanderen.be/data/observatie/2022-3304344\n",
      "https://oefen.dov.vlaanderen.be/data/observatie/2022-3850260\n",
      "https://oefen.dov.vlaanderen.be/data/observatie/2022-4908176\n",
      "https://oefen.dov.vlaanderen.be/data/observatie/2022-1984189\n",
      "https://oefen.dov.vlaanderen.be/data/observatie/2022-1950577\n"
     ]
    }
   ],
   "source": [
    "for pkey_observatie in set(df.pkey_observatie):\n",
    "    print(pkey_observatie)"
   ]
  },
  {
   "cell_type": "markdown",
   "metadata": {},
   "source": [
    "### Get observations in a bounding box based on specific properties"
   ]
  },
  {
   "cell_type": "markdown",
   "metadata": {},
   "source": [
    "We can combine a query on attributes with a query on geographic location to get the observations within a bounding box that have specific properties.\n",
    "\n",
    "The following example requests the observations where the parameter 'Watergehalte (watergehalte)' is greater than 30 and within the given bounding box.\n",
    "\n",
    "(Note that the datatype of the *literal* parameter should be a string, regardless of the datatype of this field in the output dataframe.)"
   ]
  },
  {
   "cell_type": "code",
   "execution_count": 13,
   "metadata": {},
   "outputs": [
    {
     "name": "stdout",
     "output_type": "stream",
     "text": [
      "[000/001] .\n"
     ]
    },
    {
     "data": {
      "text/html": [
       "<div>\n",
       "<style scoped>\n",
       "    .dataframe tbody tr th:only-of-type {\n",
       "        vertical-align: middle;\n",
       "    }\n",
       "\n",
       "    .dataframe tbody tr th {\n",
       "        vertical-align: top;\n",
       "    }\n",
       "\n",
       "    .dataframe thead th {\n",
       "        text-align: right;\n",
       "    }\n",
       "</style>\n",
       "<table border=\"1\" class=\"dataframe\">\n",
       "  <thead>\n",
       "    <tr style=\"text-align: right;\">\n",
       "      <th></th>\n",
       "      <th>pkey_observatie</th>\n",
       "      <th>pkey_parent</th>\n",
       "      <th>fenomeentijd</th>\n",
       "      <th>diepte_van_m</th>\n",
       "      <th>diepte_tot_m</th>\n",
       "      <th>parametergroep</th>\n",
       "      <th>parameter</th>\n",
       "      <th>detectieconditie</th>\n",
       "      <th>resultaat</th>\n",
       "      <th>eenheid</th>\n",
       "      <th>methode</th>\n",
       "      <th>uitvoerder</th>\n",
       "      <th>herkomst</th>\n",
       "    </tr>\n",
       "  </thead>\n",
       "  <tbody>\n",
       "    <tr>\n",
       "      <th>0</th>\n",
       "      <td>https://oefen.dov.vlaanderen.be/data/observati...</td>\n",
       "      <td>https://oefen.dov.vlaanderen.be/data/monster/2...</td>\n",
       "      <td>2018-01-09</td>\n",
       "      <td>NaN</td>\n",
       "      <td>NaN</td>\n",
       "      <td>Volumemassa-watergehalte</td>\n",
       "      <td>Watergehalte (watergehalte)</td>\n",
       "      <td>NaN</td>\n",
       "      <td>51.7</td>\n",
       "      <td>%</td>\n",
       "      <td>Gewichtsverlies na drogen in droogstoof</td>\n",
       "      <td>VO - Afdeling Geotechniek</td>\n",
       "      <td>LABO</td>\n",
       "    </tr>\n",
       "    <tr>\n",
       "      <th>1</th>\n",
       "      <td>https://oefen.dov.vlaanderen.be/data/observati...</td>\n",
       "      <td>https://oefen.dov.vlaanderen.be/data/monster/2...</td>\n",
       "      <td>2018-01-09</td>\n",
       "      <td>NaN</td>\n",
       "      <td>NaN</td>\n",
       "      <td>Volumemassa-watergehalte</td>\n",
       "      <td>Watergehalte (watergehalte)</td>\n",
       "      <td>NaN</td>\n",
       "      <td>36.3</td>\n",
       "      <td>%</td>\n",
       "      <td>Gewichtsverlies na drogen in droogstoof</td>\n",
       "      <td>VO - Afdeling Geotechniek</td>\n",
       "      <td>LABO</td>\n",
       "    </tr>\n",
       "  </tbody>\n",
       "</table>\n",
       "</div>"
      ],
      "text/plain": [
       "                                     pkey_observatie  \\\n",
       "0  https://oefen.dov.vlaanderen.be/data/observati...   \n",
       "1  https://oefen.dov.vlaanderen.be/data/observati...   \n",
       "\n",
       "                                         pkey_parent fenomeentijd  \\\n",
       "0  https://oefen.dov.vlaanderen.be/data/monster/2...   2018-01-09   \n",
       "1  https://oefen.dov.vlaanderen.be/data/monster/2...   2018-01-09   \n",
       "\n",
       "   diepte_van_m  diepte_tot_m            parametergroep  \\\n",
       "0           NaN           NaN  Volumemassa-watergehalte   \n",
       "1           NaN           NaN  Volumemassa-watergehalte   \n",
       "\n",
       "                     parameter  detectieconditie resultaat eenheid  \\\n",
       "0  Watergehalte (watergehalte)               NaN      51.7       %   \n",
       "1  Watergehalte (watergehalte)               NaN      36.3       %   \n",
       "\n",
       "                                   methode                 uitvoerder herkomst  \n",
       "0  Gewichtsverlies na drogen in droogstoof  VO - Afdeling Geotechniek     LABO  \n",
       "1  Gewichtsverlies na drogen in droogstoof  VO - Afdeling Geotechniek     LABO  "
      ]
     },
     "execution_count": 13,
     "metadata": {},
     "output_type": "execute_result"
    }
   ],
   "source": [
    "from owslib.fes2 import PropertyIsGreaterThanOrEqualTo, And\n",
    "\n",
    "query = And([PropertyIsGreaterThanOrEqualTo(propertyname='resultaat',literal='30'),\n",
    "            PropertyIsEqualTo(propertyname='parameter', literal='Watergehalte (watergehalte)')])\n",
    "\n",
    "df = observatie.search(\n",
    "    location=Within(Box(114000, 172310, 114005, 172315)),\n",
    "    query=query,\n",
    "    max_features = 10\n",
    "    )\n",
    "\n",
    "df.head()"
   ]
  },
  {
   "cell_type": "markdown",
   "metadata": {},
   "source": [
    "We can look at one of theobservations in a webbrowser using its *pkey_observatie*:"
   ]
  },
  {
   "cell_type": "code",
   "execution_count": 14,
   "metadata": {},
   "outputs": [
    {
     "name": "stdout",
     "output_type": "stream",
     "text": [
      "https://oefen.dov.vlaanderen.be/data/observatie/2022-2533717\n",
      "https://oefen.dov.vlaanderen.be/data/observatie/2022-2761922\n"
     ]
    }
   ],
   "source": [
    "for pkey_observatie in set(df.pkey_observatie):\n",
    "    print(pkey_observatie)"
   ]
  },
  {
   "cell_type": "markdown",
   "metadata": {},
   "source": [
    "### Select observations with specific conditions and return the results"
   ]
  },
  {
   "cell_type": "markdown",
   "metadata": {},
   "source": [
    "We can limit the columns in the output dataframe by specifying the *return_fields* parameter in our search.\n",
    "\n",
    "In this example we query all the observations that have a value (resultaat) greater than 10 for parameter 'Watergehalte (watergehalte)' and\treturn its value (resultaat):"
   ]
  },
  {
   "cell_type": "code",
   "execution_count": 15,
   "metadata": {
    "scrolled": true
   },
   "outputs": [
    {
     "name": "stdout",
     "output_type": "stream",
     "text": [
      "[000/001] .\n"
     ]
    },
    {
     "data": {
      "text/html": [
       "<div>\n",
       "<style scoped>\n",
       "    .dataframe tbody tr th:only-of-type {\n",
       "        vertical-align: middle;\n",
       "    }\n",
       "\n",
       "    .dataframe tbody tr th {\n",
       "        vertical-align: top;\n",
       "    }\n",
       "\n",
       "    .dataframe thead th {\n",
       "        text-align: right;\n",
       "    }\n",
       "</style>\n",
       "<table border=\"1\" class=\"dataframe\">\n",
       "  <thead>\n",
       "    <tr style=\"text-align: right;\">\n",
       "      <th></th>\n",
       "      <th>resultaat</th>\n",
       "    </tr>\n",
       "  </thead>\n",
       "  <tbody>\n",
       "    <tr>\n",
       "      <th>0</th>\n",
       "      <td>58.0</td>\n",
       "    </tr>\n",
       "    <tr>\n",
       "      <th>1</th>\n",
       "      <td>25.1</td>\n",
       "    </tr>\n",
       "    <tr>\n",
       "      <th>2</th>\n",
       "      <td>17.8</td>\n",
       "    </tr>\n",
       "    <tr>\n",
       "      <th>3</th>\n",
       "      <td>68.8</td>\n",
       "    </tr>\n",
       "    <tr>\n",
       "      <th>4</th>\n",
       "      <td>19.5</td>\n",
       "    </tr>\n",
       "  </tbody>\n",
       "</table>\n",
       "</div>"
      ],
      "text/plain": [
       "  resultaat\n",
       "0      58.0\n",
       "1      25.1\n",
       "2      17.8\n",
       "3      68.8\n",
       "4      19.5"
      ]
     },
     "execution_count": 15,
     "metadata": {},
     "output_type": "execute_result"
    }
   ],
   "source": [
    "query = And([PropertyIsGreaterThanOrEqualTo(propertyname='resultaat',literal='10'),\n",
    "            PropertyIsEqualTo(propertyname='parameter', literal='Watergehalte (watergehalte)')])\n",
    "\n",
    "df = observatie.search(query=query,\n",
    "                       return_fields=('resultaat',),\n",
    "                       max_features=10)\n",
    "df.head()"
   ]
  },
  {
   "cell_type": "code",
   "execution_count": 16,
   "metadata": {},
   "outputs": [
    {
     "data": {
      "text/html": [
       "<div>\n",
       "<style scoped>\n",
       "    .dataframe tbody tr th:only-of-type {\n",
       "        vertical-align: middle;\n",
       "    }\n",
       "\n",
       "    .dataframe tbody tr th {\n",
       "        vertical-align: top;\n",
       "    }\n",
       "\n",
       "    .dataframe thead th {\n",
       "        text-align: right;\n",
       "    }\n",
       "</style>\n",
       "<table border=\"1\" class=\"dataframe\">\n",
       "  <thead>\n",
       "    <tr style=\"text-align: right;\">\n",
       "      <th></th>\n",
       "      <th>resultaat</th>\n",
       "    </tr>\n",
       "  </thead>\n",
       "  <tbody>\n",
       "    <tr>\n",
       "      <th>count</th>\n",
       "      <td>10</td>\n",
       "    </tr>\n",
       "    <tr>\n",
       "      <th>unique</th>\n",
       "      <td>10</td>\n",
       "    </tr>\n",
       "    <tr>\n",
       "      <th>top</th>\n",
       "      <td>58.0</td>\n",
       "    </tr>\n",
       "    <tr>\n",
       "      <th>freq</th>\n",
       "      <td>1</td>\n",
       "    </tr>\n",
       "  </tbody>\n",
       "</table>\n",
       "</div>"
      ],
      "text/plain": [
       "       resultaat\n",
       "count         10\n",
       "unique        10\n",
       "top         58.0\n",
       "freq           1"
      ]
     },
     "execution_count": 16,
     "metadata": {},
     "output_type": "execute_result"
    }
   ],
   "source": [
    "df.describe()"
   ]
  },
  {
   "cell_type": "markdown",
   "metadata": {},
   "source": [
    "By discarding the observations with a resultaat less than 50, we get a different result:"
   ]
  },
  {
   "cell_type": "code",
   "execution_count": 17,
   "metadata": {},
   "outputs": [
    {
     "data": {
      "text/html": [
       "<div>\n",
       "<style scoped>\n",
       "    .dataframe tbody tr th:only-of-type {\n",
       "        vertical-align: middle;\n",
       "    }\n",
       "\n",
       "    .dataframe tbody tr th {\n",
       "        vertical-align: top;\n",
       "    }\n",
       "\n",
       "    .dataframe thead th {\n",
       "        text-align: right;\n",
       "    }\n",
       "</style>\n",
       "<table border=\"1\" class=\"dataframe\">\n",
       "  <thead>\n",
       "    <tr style=\"text-align: right;\">\n",
       "      <th></th>\n",
       "      <th>resultaat</th>\n",
       "    </tr>\n",
       "  </thead>\n",
       "  <tbody>\n",
       "    <tr>\n",
       "      <th>count</th>\n",
       "      <td>7</td>\n",
       "    </tr>\n",
       "    <tr>\n",
       "      <th>unique</th>\n",
       "      <td>7</td>\n",
       "    </tr>\n",
       "    <tr>\n",
       "      <th>top</th>\n",
       "      <td>25.1</td>\n",
       "    </tr>\n",
       "    <tr>\n",
       "      <th>freq</th>\n",
       "      <td>1</td>\n",
       "    </tr>\n",
       "  </tbody>\n",
       "</table>\n",
       "</div>"
      ],
      "text/plain": [
       "       resultaat\n",
       "count          7\n",
       "unique         7\n",
       "top         25.1\n",
       "freq           1"
      ]
     },
     "execution_count": 17,
     "metadata": {},
     "output_type": "execute_result"
    }
   ],
   "source": [
    "df[df.resultaat.astype(float) < 50.0].describe()"
   ]
  },
  {
   "cell_type": "code",
   "execution_count": 18,
   "metadata": {},
   "outputs": [
    {
     "data": {
      "image/png": "[encoded data removed]",
      "text/plain": [
       "<Figure size 640x480 with 1 Axes>"
      ]
     },
     "metadata": {},
     "output_type": "display_data"
    }
   ],
   "source": [
    "ax = df[df.resultaat.astype(float) < 50.0].astype(float).boxplot()\n",
    "ax.set_ylabel(\"Water content(%)\");\n",
    "ax.set_title(\"Distribution of water content\");"
   ]
  },
  {
   "cell_type": "markdown",
   "metadata": {},
   "source": [
    "### Get observations based on fields not available in the standard output dataframe"
   ]
  },
  {
   "cell_type": "markdown",
   "metadata": {},
   "source": [
    "To keep the output dataframe size acceptable, not all available WFS fields are included in the standard output. However, one can use this information to select observations as illustrated below.\n",
    "\n",
    "For example, make a selection of the observations that have an 'opdracht':"
   ]
  },
  {
   "cell_type": "code",
   "execution_count": 19,
   "metadata": {},
   "outputs": [
    {
     "name": "stdout",
     "output_type": "stream",
     "text": [
      "[000/001] .\n"
     ]
    },
    {
     "data": {
      "text/html": [
       "<div>\n",
       "<style scoped>\n",
       "    .dataframe tbody tr th:only-of-type {\n",
       "        vertical-align: middle;\n",
       "    }\n",
       "\n",
       "    .dataframe tbody tr th {\n",
       "        vertical-align: top;\n",
       "    }\n",
       "\n",
       "    .dataframe thead th {\n",
       "        text-align: right;\n",
       "    }\n",
       "</style>\n",
       "<table border=\"1\" class=\"dataframe\">\n",
       "  <thead>\n",
       "    <tr style=\"text-align: right;\">\n",
       "      <th></th>\n",
       "      <th>pkey_observatie</th>\n",
       "      <th>opdracht</th>\n",
       "    </tr>\n",
       "  </thead>\n",
       "  <tbody>\n",
       "    <tr>\n",
       "      <th>0</th>\n",
       "      <td>https://oefen.dov.vlaanderen.be/data/observati...</td>\n",
       "      <td>Bodemkoolstofmonitoringnetwerk Cmon leesrechte...</td>\n",
       "    </tr>\n",
       "    <tr>\n",
       "      <th>1</th>\n",
       "      <td>https://oefen.dov.vlaanderen.be/data/observati...</td>\n",
       "      <td>Bodemkoolstofmonitoringnetwerk Cmon leesrechte...</td>\n",
       "    </tr>\n",
       "    <tr>\n",
       "      <th>2</th>\n",
       "      <td>https://oefen.dov.vlaanderen.be/data/observati...</td>\n",
       "      <td>Bodemkoolstofmonitoringnetwerk Cmon leesrechte...</td>\n",
       "    </tr>\n",
       "    <tr>\n",
       "      <th>3</th>\n",
       "      <td>https://oefen.dov.vlaanderen.be/data/observati...</td>\n",
       "      <td>Bodemkoolstofmonitoringnetwerk Cmon: staalname...</td>\n",
       "    </tr>\n",
       "    <tr>\n",
       "      <th>4</th>\n",
       "      <td>https://oefen.dov.vlaanderen.be/data/observati...</td>\n",
       "      <td>Bodemkoolstofmonitoringnetwerk Cmon leesrechte...</td>\n",
       "    </tr>\n",
       "  </tbody>\n",
       "</table>\n",
       "</div>"
      ],
      "text/plain": [
       "                                     pkey_observatie  \\\n",
       "0  https://oefen.dov.vlaanderen.be/data/observati...   \n",
       "1  https://oefen.dov.vlaanderen.be/data/observati...   \n",
       "2  https://oefen.dov.vlaanderen.be/data/observati...   \n",
       "3  https://oefen.dov.vlaanderen.be/data/observati...   \n",
       "4  https://oefen.dov.vlaanderen.be/data/observati...   \n",
       "\n",
       "                                            opdracht  \n",
       "0  Bodemkoolstofmonitoringnetwerk Cmon leesrechte...  \n",
       "1  Bodemkoolstofmonitoringnetwerk Cmon leesrechte...  \n",
       "2  Bodemkoolstofmonitoringnetwerk Cmon leesrechte...  \n",
       "3  Bodemkoolstofmonitoringnetwerk Cmon: staalname...  \n",
       "4  Bodemkoolstofmonitoringnetwerk Cmon leesrechte...  "
      ]
     },
     "execution_count": 19,
     "metadata": {},
     "output_type": "execute_result"
    }
   ],
   "source": [
    "from owslib.fes2 import Not\n",
    "from owslib.fes2 import PropertyIsNull\n",
    "\n",
    "query = Not([PropertyIsNull(propertyname='opdracht')])\n",
    "\n",
    "df = observatie.search(query=query, max_features = 10,\n",
    "                   return_fields=('pkey_observatie', 'opdracht'))\n",
    "df.head()"
   ]
  },
  {
   "cell_type": "markdown",
   "metadata": {},
   "source": [
    "### Select observations with extra details\n",
    "\n",
    "We can ask extra info from an observation from the XML. In this example we want the details of an observation"
   ]
  },
  {
   "cell_type": "code",
   "execution_count": 20,
   "metadata": {},
   "outputs": [
    {
     "name": "stdout",
     "output_type": "stream",
     "text": [
      "[000/001] .\n",
      "[000/010] ..........\n"
     ]
    },
    {
     "data": {
      "text/html": [
       "<div>\n",
       "<style scoped>\n",
       "    .dataframe tbody tr th:only-of-type {\n",
       "        vertical-align: middle;\n",
       "    }\n",
       "\n",
       "    .dataframe tbody tr th {\n",
       "        vertical-align: top;\n",
       "    }\n",
       "\n",
       "    .dataframe thead th {\n",
       "        text-align: right;\n",
       "    }\n",
       "</style>\n",
       "<table border=\"1\" class=\"dataframe\">\n",
       "  <thead>\n",
       "    <tr style=\"text-align: right;\">\n",
       "      <th></th>\n",
       "      <th>pkey_observatie</th>\n",
       "      <th>pkey_parent</th>\n",
       "      <th>fenomeentijd</th>\n",
       "      <th>diepte_van_m</th>\n",
       "      <th>diepte_tot_m</th>\n",
       "      <th>parametergroep</th>\n",
       "      <th>parameter</th>\n",
       "      <th>detectieconditie</th>\n",
       "      <th>resultaat</th>\n",
       "      <th>eenheid</th>\n",
       "      <th>methode</th>\n",
       "      <th>uitvoerder</th>\n",
       "      <th>herkomst</th>\n",
       "      <th>betrouwbaarheid</th>\n",
       "      <th>geobserveerd_object_type</th>\n",
       "      <th>geobserveerd_object_naam</th>\n",
       "      <th>geobserveerd_object_permkey</th>\n",
       "    </tr>\n",
       "  </thead>\n",
       "  <tbody>\n",
       "    <tr>\n",
       "      <th>0</th>\n",
       "      <td>https://oefen.dov.vlaanderen.be/data/observati...</td>\n",
       "      <td>https://oefen.dov.vlaanderen.be/data/bodemdiep...</td>\n",
       "      <td>1958-12-01</td>\n",
       "      <td>NaN</td>\n",
       "      <td>NaN</td>\n",
       "      <td>Bodem_kleur</td>\n",
       "      <td>Kleur volgens Munsell - VALUE (kleur1) (kleur_...</td>\n",
       "      <td>NaN</td>\n",
       "      <td>4.0</td>\n",
       "      <td>NaN</td>\n",
       "      <td>Onbekend</td>\n",
       "      <td>NaN</td>\n",
       "      <td>VELD</td>\n",
       "      <td>B</td>\n",
       "      <td>bodemdiepteinterval</td>\n",
       "      <td>1 horizont Ap</td>\n",
       "      <td>2019-016864</td>\n",
       "    </tr>\n",
       "    <tr>\n",
       "      <th>1</th>\n",
       "      <td>https://oefen.dov.vlaanderen.be/data/observati...</td>\n",
       "      <td>https://oefen.dov.vlaanderen.be/data/bodemdiep...</td>\n",
       "      <td>1961-03-27</td>\n",
       "      <td>NaN</td>\n",
       "      <td>NaN</td>\n",
       "      <td>Bodem_kleur</td>\n",
       "      <td>Kleur volgens Munsell - HUE_letters (kleur1) (...</td>\n",
       "      <td>NaN</td>\n",
       "      <td>Y</td>\n",
       "      <td>NaN</td>\n",
       "      <td>Onbekend</td>\n",
       "      <td>NaN</td>\n",
       "      <td>VELD</td>\n",
       "      <td>B</td>\n",
       "      <td>bodemdiepteinterval</td>\n",
       "      <td>5 horizont Cg3</td>\n",
       "      <td>2019-038323</td>\n",
       "    </tr>\n",
       "    <tr>\n",
       "      <th>2</th>\n",
       "      <td>https://oefen.dov.vlaanderen.be/data/observati...</td>\n",
       "      <td>https://oefen.dov.vlaanderen.be/data/bodemdiep...</td>\n",
       "      <td>1961-05-04</td>\n",
       "      <td>NaN</td>\n",
       "      <td>NaN</td>\n",
       "      <td>Bodem_kleur</td>\n",
       "      <td>Kleur volgens Munsell - HUE_letters (kleur1) (...</td>\n",
       "      <td>NaN</td>\n",
       "      <td>YR</td>\n",
       "      <td>NaN</td>\n",
       "      <td>Onbekend</td>\n",
       "      <td>NaN</td>\n",
       "      <td>VELD</td>\n",
       "      <td>B</td>\n",
       "      <td>bodemdiepteinterval</td>\n",
       "      <td>3 horizont A22</td>\n",
       "      <td>2019-029315</td>\n",
       "    </tr>\n",
       "    <tr>\n",
       "      <th>3</th>\n",
       "      <td>https://oefen.dov.vlaanderen.be/data/observati...</td>\n",
       "      <td>https://oefen.dov.vlaanderen.be/data/bodemdiep...</td>\n",
       "      <td>1963-11-08</td>\n",
       "      <td>NaN</td>\n",
       "      <td>NaN</td>\n",
       "      <td>Bodem_fysisch_vocht</td>\n",
       "      <td>Gley roest - contrast (gley_roest_contrast)</td>\n",
       "      <td>NaN</td>\n",
       "      <td>Rc2 - Duidelijk</td>\n",
       "      <td>NaN</td>\n",
       "      <td>Onbekend</td>\n",
       "      <td>NaN</td>\n",
       "      <td>VELD</td>\n",
       "      <td>B</td>\n",
       "      <td>bodemdiepteinterval</td>\n",
       "      <td>5 horizont Cg1</td>\n",
       "      <td>2019-021705</td>\n",
       "    </tr>\n",
       "    <tr>\n",
       "      <th>4</th>\n",
       "      <td>https://oefen.dov.vlaanderen.be/data/observati...</td>\n",
       "      <td>https://oefen.dov.vlaanderen.be/data/bodemdiep...</td>\n",
       "      <td>1961-06-07</td>\n",
       "      <td>NaN</td>\n",
       "      <td>NaN</td>\n",
       "      <td>Bodem_fysisch_vocht</td>\n",
       "      <td>Vochtgehalte gradatie (vocht_gradatie)</td>\n",
       "      <td>NaN</td>\n",
       "      <td>6 - verzopen / verdronken</td>\n",
       "      <td>NaN</td>\n",
       "      <td>Onbekend</td>\n",
       "      <td>NaN</td>\n",
       "      <td>VELD</td>\n",
       "      <td>B</td>\n",
       "      <td>bodemdiepteinterval</td>\n",
       "      <td>8 horizont DG</td>\n",
       "      <td>2019-013484</td>\n",
       "    </tr>\n",
       "  </tbody>\n",
       "</table>\n",
       "</div>"
      ],
      "text/plain": [
       "                                     pkey_observatie  \\\n",
       "0  https://oefen.dov.vlaanderen.be/data/observati...   \n",
       "1  https://oefen.dov.vlaanderen.be/data/observati...   \n",
       "2  https://oefen.dov.vlaanderen.be/data/observati...   \n",
       "3  https://oefen.dov.vlaanderen.be/data/observati...   \n",
       "4  https://oefen.dov.vlaanderen.be/data/observati...   \n",
       "\n",
       "                                         pkey_parent fenomeentijd  \\\n",
       "0  https://oefen.dov.vlaanderen.be/data/bodemdiep...   1958-12-01   \n",
       "1  https://oefen.dov.vlaanderen.be/data/bodemdiep...   1961-03-27   \n",
       "2  https://oefen.dov.vlaanderen.be/data/bodemdiep...   1961-05-04   \n",
       "3  https://oefen.dov.vlaanderen.be/data/bodemdiep...   1963-11-08   \n",
       "4  https://oefen.dov.vlaanderen.be/data/bodemdiep...   1961-06-07   \n",
       "\n",
       "   diepte_van_m  diepte_tot_m       parametergroep  \\\n",
       "0           NaN           NaN          Bodem_kleur   \n",
       "1           NaN           NaN          Bodem_kleur   \n",
       "2           NaN           NaN          Bodem_kleur   \n",
       "3           NaN           NaN  Bodem_fysisch_vocht   \n",
       "4           NaN           NaN  Bodem_fysisch_vocht   \n",
       "\n",
       "                                           parameter  detectieconditie  \\\n",
       "0  Kleur volgens Munsell - VALUE (kleur1) (kleur_...               NaN   \n",
       "1  Kleur volgens Munsell - HUE_letters (kleur1) (...               NaN   \n",
       "2  Kleur volgens Munsell - HUE_letters (kleur1) (...               NaN   \n",
       "3        Gley roest - contrast (gley_roest_contrast)               NaN   \n",
       "4             Vochtgehalte gradatie (vocht_gradatie)               NaN   \n",
       "\n",
       "                   resultaat eenheid   methode  uitvoerder herkomst  \\\n",
       "0                        4.0     NaN  Onbekend         NaN     VELD   \n",
       "1                          Y     NaN  Onbekend         NaN     VELD   \n",
       "2                         YR     NaN  Onbekend         NaN     VELD   \n",
       "3            Rc2 - Duidelijk     NaN  Onbekend         NaN     VELD   \n",
       "4  6 - verzopen / verdronken     NaN  Onbekend         NaN     VELD   \n",
       "\n",
       "  betrouwbaarheid geobserveerd_object_type geobserveerd_object_naam  \\\n",
       "0               B      bodemdiepteinterval            1 horizont Ap   \n",
       "1               B      bodemdiepteinterval           5 horizont Cg3   \n",
       "2               B      bodemdiepteinterval           3 horizont A22   \n",
       "3               B      bodemdiepteinterval           5 horizont Cg1   \n",
       "4               B      bodemdiepteinterval            8 horizont DG   \n",
       "\n",
       "  geobserveerd_object_permkey  \n",
       "0                 2019-016864  \n",
       "1                 2019-038323  \n",
       "2                 2019-029315  \n",
       "3                 2019-021705  \n",
       "4                 2019-013484  "
      ]
     },
     "execution_count": 20,
     "metadata": {},
     "output_type": "execute_result"
    }
   ],
   "source": [
    "from pydov.search.observatie import ObservatieSearch\n",
    "from pydov.types.observatie import Observatie, ObservatieDetails\n",
    "\n",
    "observatie = ObservatieSearch(objecttype=Observatie.with_extra_fields(ObservatieDetails)\n",
    "                              )\n",
    "\n",
    "df = observatie.search(max_features=10)\n",
    "df.head()"
   ]
  },
  {
   "cell_type": "markdown",
   "metadata": {},
   "source": [
    "### Get observations with data from the subtype 'ObservatieHerhaling'"
   ]
  },
  {
   "cell_type": "markdown",
   "metadata": {},
   "source": [
    "There are different subtypes available within observations search: 'ObservatieHerhaling'\n",
    "\n"
   ]
  },
  {
   "cell_type": "code",
   "execution_count": 21,
   "metadata": {},
   "outputs": [
    {
     "name": "stdout",
     "output_type": "stream",
     "text": [
      "[000/001] .\n",
      "[000/001] .\n"
     ]
    },
    {
     "data": {
      "text/html": [
       "<div>\n",
       "<style scoped>\n",
       "    .dataframe tbody tr th:only-of-type {\n",
       "        vertical-align: middle;\n",
       "    }\n",
       "\n",
       "    .dataframe tbody tr th {\n",
       "        vertical-align: top;\n",
       "    }\n",
       "\n",
       "    .dataframe thead th {\n",
       "        text-align: right;\n",
       "    }\n",
       "</style>\n",
       "<table border=\"1\" class=\"dataframe\">\n",
       "  <thead>\n",
       "    <tr style=\"text-align: right;\">\n",
       "      <th></th>\n",
       "      <th>pkey_observatie</th>\n",
       "      <th>pkey_parent</th>\n",
       "      <th>fenomeentijd</th>\n",
       "      <th>diepte_van_m</th>\n",
       "      <th>diepte_tot_m</th>\n",
       "      <th>parametergroep</th>\n",
       "      <th>parameter</th>\n",
       "      <th>detectieconditie</th>\n",
       "      <th>resultaat</th>\n",
       "      <th>eenheid</th>\n",
       "      <th>methode</th>\n",
       "      <th>uitvoerder</th>\n",
       "      <th>herkomst</th>\n",
       "      <th>herhaling_aantal</th>\n",
       "      <th>herhaling_minimum</th>\n",
       "      <th>herhaling_maximum</th>\n",
       "      <th>herhaling_standaardafwijking</th>\n",
       "    </tr>\n",
       "  </thead>\n",
       "  <tbody>\n",
       "    <tr>\n",
       "      <th>0</th>\n",
       "      <td>https://oefen.dov.vlaanderen.be/data/observati...</td>\n",
       "      <td>https://oefen.dov.vlaanderen.be/data/bodemdiep...</td>\n",
       "      <td>2022-02-17</td>\n",
       "      <td>NaN</td>\n",
       "      <td>NaN</td>\n",
       "      <td>Bodem_terrein</td>\n",
       "      <td>Strooisellaag of viltlaag - dikte (strooisella...</td>\n",
       "      <td>NaN</td>\n",
       "      <td>1.0</td>\n",
       "      <td>cm</td>\n",
       "      <td>Cmon staalnameprotocol</td>\n",
       "      <td>NaN</td>\n",
       "      <td>VELD</td>\n",
       "      <td>32</td>\n",
       "      <td>1.0</td>\n",
       "      <td>1.0</td>\n",
       "      <td>0.0</td>\n",
       "    </tr>\n",
       "  </tbody>\n",
       "</table>\n",
       "</div>"
      ],
      "text/plain": [
       "                                     pkey_observatie  \\\n",
       "0  https://oefen.dov.vlaanderen.be/data/observati...   \n",
       "\n",
       "                                         pkey_parent fenomeentijd  \\\n",
       "0  https://oefen.dov.vlaanderen.be/data/bodemdiep...   2022-02-17   \n",
       "\n",
       "   diepte_van_m  diepte_tot_m parametergroep  \\\n",
       "0           NaN           NaN  Bodem_terrein   \n",
       "\n",
       "                                           parameter  detectieconditie  \\\n",
       "0  Strooisellaag of viltlaag - dikte (strooisella...               NaN   \n",
       "\n",
       "  resultaat eenheid                 methode  uitvoerder herkomst  \\\n",
       "0       1.0      cm  Cmon staalnameprotocol         NaN     VELD   \n",
       "\n",
       "   herhaling_aantal  herhaling_minimum  herhaling_maximum  \\\n",
       "0                32                1.0                1.0   \n",
       "\n",
       "   herhaling_standaardafwijking  \n",
       "0                           0.0  "
      ]
     },
     "execution_count": 21,
     "metadata": {},
     "output_type": "execute_result"
    }
   ],
   "source": [
    "from pydov.search.observatie import ObservatieSearch\n",
    "from pydov.types.observatie import Observatie, ObservatieHerhaling\n",
    "from owslib.fes2 import PropertyIsLike\n",
    "\n",
    "observatie = ObservatieSearch(\n",
    "    objecttype=Observatie.with_subtype(ObservatieHerhaling))\n",
    "query = PropertyIsLike(propertyname='pkey_observatie',\n",
    "                       literal='%2022-11963810%')\n",
    "df = observatie.search(query=query, max_features = 10)\n",
    "df.head()"
   ]
  },
  {
   "cell_type": "markdown",
   "metadata": {},
   "source": [
    "## Visualize results"
   ]
  },
  {
   "cell_type": "markdown",
   "metadata": {},
   "source": [
    "Using Geopandas GeoDataFrame, we can easily display the results of our search on a map."
   ]
  },
  {
   "cell_type": "code",
   "execution_count": 22,
   "metadata": {},
   "outputs": [
    {
     "name": "stdout",
     "output_type": "stream",
     "text": [
      "[000/001] .\n"
     ]
    }
   ],
   "source": [
    "import geopandas as gpd\n",
    "\n",
    "query = And([PropertyIsGreaterThanOrEqualTo(propertyname='resultaat',literal='10'),\n",
    "            PropertyIsEqualTo(propertyname='parameter', literal='Watergehalte (watergehalte)')])\n",
    "df = observatie.search(query=query,\n",
    "                   return_fields=('pkey_observatie','resultaat','geom'), max_features = 100)"
   ]
  },
  {
   "cell_type": "code",
   "execution_count": 23,
   "metadata": {},
   "outputs": [
    {
     "data": {
      "text/html": [
       "<div style=\"width:100%;\"><div style=\"position:relative;width:100%;height:0;padding-bottom:60%;\"><span style=\"color:#565656\">Make this Notebook Trusted to load map: File -> Trust Notebook</span><iframe srcdoc=\"&lt;!DOCTYPE html&gt;\n",
       "&lt;html&gt;\n",
       "&lt;head&gt;\n",
       "    \n",
       "    &lt;meta http-equiv=&quot;content-type&quot; content=&quot;text/html; charset=UTF-8&quot; /&gt;\n",
       "    \n",
       "        &lt;script&gt;\n",
       "            L_NO_TOUCH = false;\n",
       "            L_DISABLE_3D = false;\n",
       "        &lt;/script&gt;\n",
       "    \n",
       "    &lt;style&gt;html, body {width: 100%;height: 100%;margin: 0;padding: 0;}&lt;/style&gt;\n",
       "    &lt;style&gt;#map {position:absolute;top:0;bottom:0;right:0;left:0;}&lt;/style&gt;\n",
       "    &lt;script src=&quot;https://cdn.jsdelivr.net/npm/leaflet@1.9.3/dist/leaflet.js&quot;&gt;&lt;/script&gt;\n",
       "    &lt;script src=&quot;https://code.jquery.com/jquery-1.12.4.min.js&quot;&gt;&lt;/script&gt;\n",
       "    &lt;script src=&quot;https://cdn.jsdelivr.net/npm/bootstrap@5.2.2/dist/js/bootstrap.bundle.min.js&quot;&gt;&lt;/script&gt;\n",
       "    &lt;script src=&quot;https://cdnjs.cloudflare.com/ajax/libs/Leaflet.awesome-markers/2.0.2/leaflet.awesome-markers.js&quot;&gt;&lt;/script&gt;\n",
       "    &lt;link rel=&quot;stylesheet&quot; href=&quot;https://cdn.jsdelivr.net/npm/leaflet@1.9.3/dist/leaflet.css&quot;/&gt;\n",
       "    &lt;link rel=&quot;stylesheet&quot; href=&quot;https://cdn.jsdelivr.net/npm/bootstrap@5.2.2/dist/css/bootstrap.min.css&quot;/&gt;\n",
       "    &lt;link rel=&quot;stylesheet&quot; href=&quot;https://netdna.bootstrapcdn.com/bootstrap/3.0.0/css/bootstrap.min.css&quot;/&gt;\n",
       "    &lt;link rel=&quot;stylesheet&quot; href=&quot;https://cdn.jsdelivr.net/npm/@fortawesome/fontawesome-free@6.2.0/css/all.min.css&quot;/&gt;\n",
       "    &lt;link rel=&quot;stylesheet&quot; href=&quot;https://cdnjs.cloudflare.com/ajax/libs/Leaflet.awesome-markers/2.0.2/leaflet.awesome-markers.css&quot;/&gt;\n",
       "    &lt;link rel=&quot;stylesheet&quot; href=&quot;https://cdn.jsdelivr.net/gh/python-visualization/folium/folium/templates/leaflet.awesome.rotate.min.css&quot;/&gt;\n",
       "    \n",
       "            &lt;meta name=&quot;viewport&quot; content=&quot;width=device-width,\n",
       "                initial-scale=1.0, maximum-scale=1.0, user-scalable=no&quot; /&gt;\n",
       "            &lt;style&gt;\n",
       "                #map_8a3db829ef9dad432bedc19c4995d11f {\n",
       "                    position: relative;\n",
       "                    width: 100.0%;\n",
       "                    height: 100.0%;\n",
       "                    left: 0.0%;\n",
       "                    top: 0.0%;\n",
       "                }\n",
       "                .leaflet-container { font-size: 1rem; }\n",
       "            &lt;/style&gt;\n",
       "        \n",
       "    \n",
       "                    &lt;style&gt;\n",
       "                        .foliumtooltip {\n",
       "                            \n",
       "                        }\n",
       "                       .foliumtooltip table{\n",
       "                            margin: auto;\n",
       "                        }\n",
       "                        .foliumtooltip tr{\n",
       "                            text-align: left;\n",
       "                        }\n",
       "                        .foliumtooltip th{\n",
       "                            padding: 2px; padding-right: 8px;\n",
       "                        }\n",
       "                    &lt;/style&gt;\n",
       "            \n",
       "&lt;/head&gt;\n",
       "&lt;body&gt;\n",
       "    \n",
       "    \n",
       "            &lt;div class=&quot;folium-map&quot; id=&quot;map_8a3db829ef9dad432bedc19c4995d11f&quot; &gt;&lt;/div&gt;\n",
       "        \n",
       "&lt;/body&gt;\n",
       "&lt;script&gt;\n",
       "    \n",
       "    \n",
       "            var map_8a3db829ef9dad432bedc19c4995d11f = L.map(\n",
       "                &quot;map_8a3db829ef9dad432bedc19c4995d11f&quot;,\n",
       "                {\n",
       "                    center: [51.04396615924202, 4.238859253459792],\n",
       "                    crs: L.CRS.EPSG3857,\n",
       "                    zoom: 10,\n",
       "                    zoomControl: true,\n",
       "                    preferCanvas: false,\n",
       "                }\n",
       "            );\n",
       "            L.control.scale().addTo(map_8a3db829ef9dad432bedc19c4995d11f);\n",
       "\n",
       "            \n",
       "\n",
       "        \n",
       "    \n",
       "            var tile_layer_d3b17963f6df648bbcda720399647b09 = L.tileLayer(\n",
       "                &quot;https://{s}.tile.openstreetmap.org/{z}/{x}/{y}.png&quot;,\n",
       "                {&quot;attribution&quot;: &quot;Data by \\u0026copy; \\u003ca target=\\&quot;_blank\\&quot; href=\\&quot;http://openstreetmap.org\\&quot;\\u003eOpenStreetMap\\u003c/a\\u003e, under \\u003ca target=\\&quot;_blank\\&quot; href=\\&quot;http://www.openstreetmap.org/copyright\\&quot;\\u003eODbL\\u003c/a\\u003e.&quot;, &quot;detectRetina&quot;: false, &quot;maxNativeZoom&quot;: 18, &quot;maxZoom&quot;: 18, &quot;minZoom&quot;: 0, &quot;noWrap&quot;: false, &quot;opacity&quot;: 1, &quot;subdomains&quot;: &quot;abc&quot;, &quot;tms&quot;: false}\n",
       "            ).addTo(map_8a3db829ef9dad432bedc19c4995d11f);\n",
       "        \n",
       "    \n",
       "            map_8a3db829ef9dad432bedc19c4995d11f.fitBounds(\n",
       "                [[50.73414723451664, 2.7240300019021397], [51.3537850839674, 5.753688505017445]],\n",
       "                {}\n",
       "            );\n",
       "        \n",
       "    \n",
       "        function geo_json_76990b63111beb7b77299c08f65fa292_styler(feature) {\n",
       "            switch(feature.id) {\n",
       "                default:\n",
       "                    return {&quot;fillOpacity&quot;: 0.5, &quot;weight&quot;: 2};\n",
       "            }\n",
       "        }\n",
       "        function geo_json_76990b63111beb7b77299c08f65fa292_highlighter(feature) {\n",
       "            switch(feature.id) {\n",
       "                default:\n",
       "                    return {&quot;fillOpacity&quot;: 0.75};\n",
       "            }\n",
       "        }\n",
       "        function geo_json_76990b63111beb7b77299c08f65fa292_pointToLayer(feature, latlng) {\n",
       "            var opts = {&quot;bubblingMouseEvents&quot;: true, &quot;color&quot;: &quot;#3388ff&quot;, &quot;dashArray&quot;: null, &quot;dashOffset&quot;: null, &quot;fill&quot;: true, &quot;fillColor&quot;: &quot;#3388ff&quot;, &quot;fillOpacity&quot;: 0.2, &quot;fillRule&quot;: &quot;evenodd&quot;, &quot;lineCap&quot;: &quot;round&quot;, &quot;lineJoin&quot;: &quot;round&quot;, &quot;opacity&quot;: 1.0, &quot;radius&quot;: 2, &quot;stroke&quot;: true, &quot;weight&quot;: 3};\n",
       "            \n",
       "            let style = geo_json_76990b63111beb7b77299c08f65fa292_styler(feature)\n",
       "            Object.assign(opts, style)\n",
       "            \n",
       "            return new L.CircleMarker(latlng, opts)\n",
       "        }\n",
       "\n",
       "        function geo_json_76990b63111beb7b77299c08f65fa292_onEachFeature(feature, layer) {\n",
       "            layer.on({\n",
       "                mouseout: function(e) {\n",
       "                    if(typeof e.target.setStyle === &quot;function&quot;){\n",
       "                        geo_json_76990b63111beb7b77299c08f65fa292.resetStyle(e.target);\n",
       "                    }\n",
       "                },\n",
       "                mouseover: function(e) {\n",
       "                    if(typeof e.target.setStyle === &quot;function&quot;){\n",
       "                        const highlightStyle = geo_json_76990b63111beb7b77299c08f65fa292_highlighter(e.target.feature)\n",
       "                        e.target.setStyle(highlightStyle);\n",
       "                    }\n",
       "                },\n",
       "            });\n",
       "        };\n",
       "        var geo_json_76990b63111beb7b77299c08f65fa292 = L.geoJson(null, {\n",
       "                onEachFeature: geo_json_76990b63111beb7b77299c08f65fa292_onEachFeature,\n",
       "            \n",
       "                style: geo_json_76990b63111beb7b77299c08f65fa292_styler,\n",
       "                pointToLayer: geo_json_76990b63111beb7b77299c08f65fa292_pointToLayer\n",
       "        });\n",
       "\n",
       "        function geo_json_76990b63111beb7b77299c08f65fa292_add (data) {\n",
       "            geo_json_76990b63111beb7b77299c08f65fa292\n",
       "                .addData(data)\n",
       "                .addTo(map_8a3db829ef9dad432bedc19c4995d11f);\n",
       "        }\n",
       "            geo_json_76990b63111beb7b77299c08f65fa292_add({&quot;bbox&quot;: [2.7240300019021397, 50.73414723451664, 5.753688505017445, 51.3537850839674], &quot;features&quot;: [{&quot;bbox&quot;: [3.939156566139297, 51.01012596233863, 3.939156566139297, 51.01012596233863], &quot;geometry&quot;: {&quot;coordinates&quot;: [3.939156566139297, 51.01012596233863], &quot;type&quot;: &quot;Point&quot;}, &quot;id&quot;: &quot;0&quot;, &quot;properties&quot;: {&quot;pkey_observatie&quot;: &quot;https://oefen.dov.vlaanderen.be/data/observatie/2022-2074549&quot;, &quot;resultaat&quot;: &quot;58.0&quot;}, &quot;type&quot;: &quot;Feature&quot;}, {&quot;bbox&quot;: [4.390109331259996, 51.24299395306358, 4.390109331259996, 51.24299395306358], &quot;geometry&quot;: {&quot;coordinates&quot;: [4.390109331259996, 51.24299395306358], &quot;type&quot;: &quot;Point&quot;}, &quot;id&quot;: &quot;1&quot;, &quot;properties&quot;: {&quot;pkey_observatie&quot;: &quot;https://oefen.dov.vlaanderen.be/data/observatie/2022-2074890&quot;, &quot;resultaat&quot;: &quot;25.1&quot;}, &quot;type&quot;: &quot;Feature&quot;}, {&quot;bbox&quot;: [3.7252250820882775, 51.08295845953801, 3.7252250820882775, 51.08295845953801], &quot;geometry&quot;: {&quot;coordinates&quot;: [3.7252250820882775, 51.08295845953801], &quot;type&quot;: &quot;Point&quot;}, &quot;id&quot;: &quot;2&quot;, &quot;properties&quot;: {&quot;pkey_observatie&quot;: &quot;https://oefen.dov.vlaanderen.be/data/observatie/2022-1950577&quot;, &quot;resultaat&quot;: &quot;17.8&quot;}, &quot;type&quot;: &quot;Feature&quot;}, {&quot;bbox&quot;: [4.2100269192699935, 51.242790411977786, 4.2100269192699935, 51.242790411977786], &quot;geometry&quot;: {&quot;coordinates&quot;: [4.2100269192699935, 51.242790411977786], &quot;type&quot;: &quot;Point&quot;}, &quot;id&quot;: &quot;3&quot;, &quot;properties&quot;: {&quot;pkey_observatie&quot;: &quot;https://oefen.dov.vlaanderen.be/data/observatie/2022-1984189&quot;, &quot;resultaat&quot;: &quot;68.8&quot;}, &quot;type&quot;: &quot;Feature&quot;}, {&quot;bbox&quot;: [3.3703939706009396, 50.90037557679348, 3.3703939706009396, 50.90037557679348], &quot;geometry&quot;: {&quot;coordinates&quot;: [3.3703939706009396, 50.90037557679348], &quot;type&quot;: &quot;Point&quot;}, &quot;id&quot;: &quot;4&quot;, &quot;properties&quot;: {&quot;pkey_observatie&quot;: &quot;https://oefen.dov.vlaanderen.be/data/observatie/2022-1856858&quot;, &quot;resultaat&quot;: &quot;19.5&quot;}, &quot;type&quot;: &quot;Feature&quot;}, {&quot;bbox&quot;: [4.183578335167664, 51.05597613842355, 4.183578335167664, 51.05597613842355], &quot;geometry&quot;: {&quot;coordinates&quot;: [4.183578335167664, 51.05597613842355], &quot;type&quot;: &quot;Point&quot;}, &quot;id&quot;: &quot;5&quot;, &quot;properties&quot;: {&quot;pkey_observatie&quot;: &quot;https://oefen.dov.vlaanderen.be/data/observatie/2022-3850260&quot;, &quot;resultaat&quot;: &quot;17.7&quot;}, &quot;type&quot;: &quot;Feature&quot;}, {&quot;bbox&quot;: [4.282834853737131, 50.79290924778709, 4.282834853737131, 50.79290924778709], &quot;geometry&quot;: {&quot;coordinates&quot;: [4.282834853737131, 50.79290924778709], &quot;type&quot;: &quot;Point&quot;}, &quot;id&quot;: &quot;6&quot;, &quot;properties&quot;: {&quot;pkey_observatie&quot;: &quot;https://oefen.dov.vlaanderen.be/data/observatie/2023-10613480&quot;, &quot;resultaat&quot;: &quot;15.2&quot;}, &quot;type&quot;: &quot;Feature&quot;}, {&quot;bbox&quot;: [3.2663978616575333, 50.830531115557235, 3.2663978616575333, 50.830531115557235], &quot;geometry&quot;: {&quot;coordinates&quot;: [3.2663978616575333, 50.830531115557235], &quot;type&quot;: &quot;Point&quot;}, &quot;id&quot;: &quot;7&quot;, &quot;properties&quot;: {&quot;pkey_observatie&quot;: &quot;https://oefen.dov.vlaanderen.be/data/observatie/2022-3304344&quot;, &quot;resultaat&quot;: &quot;20.1&quot;}, &quot;type&quot;: &quot;Feature&quot;}, {&quot;bbox&quot;: [4.5722645385495255, 51.00214444131978, 4.5722645385495255, 51.00214444131978], &quot;geometry&quot;: {&quot;coordinates&quot;: [4.5722645385495255, 51.00214444131978], &quot;type&quot;: &quot;Point&quot;}, &quot;id&quot;: &quot;8&quot;, &quot;properties&quot;: {&quot;pkey_observatie&quot;: &quot;https://oefen.dov.vlaanderen.be/data/observatie/2022-4908176&quot;, &quot;resultaat&quot;: &quot;22.5&quot;}, &quot;type&quot;: &quot;Feature&quot;}, {&quot;bbox&quot;: [4.325190977456185, 51.18233386908123, 4.325190977456185, 51.18233386908123], &quot;geometry&quot;: {&quot;coordinates&quot;: [4.325190977456185, 51.18233386908123], &quot;type&quot;: &quot;Point&quot;}, &quot;id&quot;: &quot;9&quot;, &quot;properties&quot;: {&quot;pkey_observatie&quot;: &quot;https://oefen.dov.vlaanderen.be/data/observatie/2022-4714997&quot;, &quot;resultaat&quot;: &quot;302.8&quot;}, &quot;type&quot;: &quot;Feature&quot;}, {&quot;bbox&quot;: [4.352314133006431, 51.08689394815595, 4.352314133006431, 51.08689394815595], &quot;geometry&quot;: {&quot;coordinates&quot;: [4.352314133006431, 51.08689394815595], &quot;type&quot;: &quot;Point&quot;}, &quot;id&quot;: &quot;10&quot;, &quot;properties&quot;: {&quot;pkey_observatie&quot;: &quot;https://oefen.dov.vlaanderen.be/data/observatie/2022-6490533&quot;, &quot;resultaat&quot;: &quot;43.8&quot;}, &quot;type&quot;: &quot;Feature&quot;}, {&quot;bbox&quot;: [3.8738820257103592, 51.005902485886345, 3.8738820257103592, 51.005902485886345], &quot;geometry&quot;: {&quot;coordinates&quot;: [3.8738820257103592, 51.005902485886345], &quot;type&quot;: &quot;Point&quot;}, &quot;id&quot;: &quot;11&quot;, &quot;properties&quot;: {&quot;pkey_observatie&quot;: &quot;https://oefen.dov.vlaanderen.be/data/observatie/2022-5808647&quot;, &quot;resultaat&quot;: &quot;46.2&quot;}, &quot;type&quot;: &quot;Feature&quot;}, {&quot;bbox&quot;: [4.148449834121337, 51.04245353406574, 4.148449834121337, 51.04245353406574], &quot;geometry&quot;: {&quot;coordinates&quot;: [4.148449834121337, 51.04245353406574], &quot;type&quot;: &quot;Point&quot;}, &quot;id&quot;: &quot;12&quot;, &quot;properties&quot;: {&quot;pkey_observatie&quot;: &quot;https://oefen.dov.vlaanderen.be/data/observatie/2022-2120154&quot;, &quot;resultaat&quot;: &quot;25.6&quot;}, &quot;type&quot;: &quot;Feature&quot;}, {&quot;bbox&quot;: [4.159344070138726, 51.10740974237615, 4.159344070138726, 51.10740974237615], &quot;geometry&quot;: {&quot;coordinates&quot;: [4.159344070138726, 51.10740974237615], &quot;type&quot;: &quot;Point&quot;}, &quot;id&quot;: &quot;13&quot;, &quot;properties&quot;: {&quot;pkey_observatie&quot;: &quot;https://oefen.dov.vlaanderen.be/data/observatie/2022-2667730&quot;, &quot;resultaat&quot;: &quot;36.2&quot;}, &quot;type&quot;: &quot;Feature&quot;}, {&quot;bbox&quot;: [3.2098573407338504, 51.27957019799559, 3.2098573407338504, 51.27957019799559], &quot;geometry&quot;: {&quot;coordinates&quot;: [3.2098573407338504, 51.27957019799559], &quot;type&quot;: &quot;Point&quot;}, &quot;id&quot;: &quot;14&quot;, &quot;properties&quot;: {&quot;pkey_observatie&quot;: &quot;https://oefen.dov.vlaanderen.be/data/observatie/2022-1573680&quot;, &quot;resultaat&quot;: &quot;25.3&quot;}, &quot;type&quot;: &quot;Feature&quot;}, {&quot;bbox&quot;: [2.7240300019021397, 51.15164695031895, 2.7240300019021397, 51.15164695031895], &quot;geometry&quot;: {&quot;coordinates&quot;: [2.7240300019021397, 51.15164695031895], &quot;type&quot;: &quot;Point&quot;}, &quot;id&quot;: &quot;15&quot;, &quot;properties&quot;: {&quot;pkey_observatie&quot;: &quot;https://oefen.dov.vlaanderen.be/data/observatie/2022-4077541&quot;, &quot;resultaat&quot;: &quot;49.6&quot;}, &quot;type&quot;: &quot;Feature&quot;}, {&quot;bbox&quot;: [4.181008444874956, 51.04505857144216, 4.181008444874956, 51.04505857144216], &quot;geometry&quot;: {&quot;coordinates&quot;: [4.181008444874956, 51.04505857144216], &quot;type&quot;: &quot;Point&quot;}, &quot;id&quot;: &quot;16&quot;, &quot;properties&quot;: {&quot;pkey_observatie&quot;: &quot;https://oefen.dov.vlaanderen.be/data/observatie/2022-3895798&quot;, &quot;resultaat&quot;: &quot;33.1&quot;}, &quot;type&quot;: &quot;Feature&quot;}, {&quot;bbox&quot;: [4.392433383983591, 50.97610112774681, 4.392433383983591, 50.97610112774681], &quot;geometry&quot;: {&quot;coordinates&quot;: [4.392433383983591, 50.97610112774681], &quot;type&quot;: &quot;Point&quot;}, &quot;id&quot;: &quot;17&quot;, &quot;properties&quot;: {&quot;pkey_observatie&quot;: &quot;https://oefen.dov.vlaanderen.be/data/observatie/2022-2940717&quot;, &quot;resultaat&quot;: &quot;16.7&quot;}, &quot;type&quot;: &quot;Feature&quot;}, {&quot;bbox&quot;: [3.2736156314064004, 50.83640048347073, 3.2736156314064004, 50.83640048347073], &quot;geometry&quot;: {&quot;coordinates&quot;: [3.2736156314064004, 50.83640048347073], &quot;type&quot;: &quot;Point&quot;}, &quot;id&quot;: &quot;18&quot;, &quot;properties&quot;: {&quot;pkey_observatie&quot;: &quot;https://oefen.dov.vlaanderen.be/data/observatie/2022-2804326&quot;, &quot;resultaat&quot;: &quot;25.8&quot;}, &quot;type&quot;: &quot;Feature&quot;}, {&quot;bbox&quot;: [4.428046395398314, 51.236027791091836, 4.428046395398314, 51.236027791091836], &quot;geometry&quot;: {&quot;coordinates&quot;: [4.428046395398314, 51.236027791091836], &quot;type&quot;: &quot;Point&quot;}, &quot;id&quot;: &quot;19&quot;, &quot;properties&quot;: {&quot;pkey_observatie&quot;: &quot;https://oefen.dov.vlaanderen.be/data/observatie/2022-3440925&quot;, &quot;resultaat&quot;: &quot;26.6&quot;}, &quot;type&quot;: &quot;Feature&quot;}, {&quot;bbox&quot;: [4.298783869737979, 51.302692537075906, 4.298783869737979, 51.302692537075906], &quot;geometry&quot;: {&quot;coordinates&quot;: [4.298783869737979, 51.302692537075906], &quot;type&quot;: &quot;Point&quot;}, &quot;id&quot;: &quot;20&quot;, &quot;properties&quot;: {&quot;pkey_observatie&quot;: &quot;https://oefen.dov.vlaanderen.be/data/observatie/2022-4988296&quot;, &quot;resultaat&quot;: &quot;25.2&quot;}, &quot;type&quot;: &quot;Feature&quot;}, {&quot;bbox&quot;: [5.396703302605753, 51.243812604028115, 5.396703302605753, 51.243812604028115], &quot;geometry&quot;: {&quot;coordinates&quot;: [5.396703302605753, 51.243812604028115], &quot;type&quot;: &quot;Point&quot;}, &quot;id&quot;: &quot;21&quot;, &quot;properties&quot;: {&quot;pkey_observatie&quot;: &quot;https://oefen.dov.vlaanderen.be/data/observatie/2022-5534759&quot;, &quot;resultaat&quot;: &quot;19.4&quot;}, &quot;type&quot;: &quot;Feature&quot;}, {&quot;bbox&quot;: [3.450243344777631, 51.07440452087543, 3.450243344777631, 51.07440452087543], &quot;geometry&quot;: {&quot;coordinates&quot;: [3.450243344777631, 51.07440452087543], &quot;type&quot;: &quot;Point&quot;}, &quot;id&quot;: &quot;22&quot;, &quot;properties&quot;: {&quot;pkey_observatie&quot;: &quot;https://oefen.dov.vlaanderen.be/data/observatie/2022-4486968&quot;, &quot;resultaat&quot;: &quot;22.6&quot;}, &quot;type&quot;: &quot;Feature&quot;}, {&quot;bbox&quot;: [4.349177279021934, 51.21579402725025, 4.349177279021934, 51.21579402725025], &quot;geometry&quot;: {&quot;coordinates&quot;: [4.349177279021934, 51.21579402725025], &quot;type&quot;: &quot;Point&quot;}, &quot;id&quot;: &quot;23&quot;, &quot;properties&quot;: {&quot;pkey_observatie&quot;: &quot;https://oefen.dov.vlaanderen.be/data/observatie/2022-4440953&quot;, &quot;resultaat&quot;: &quot;22.1&quot;}, &quot;type&quot;: &quot;Feature&quot;}, {&quot;bbox&quot;: [3.3385345344341144, 51.29242654508359, 3.3385345344341144, 51.29242654508359], &quot;geometry&quot;: {&quot;coordinates&quot;: [3.3385345344341144, 51.29242654508359], &quot;type&quot;: &quot;Point&quot;}, &quot;id&quot;: &quot;24&quot;, &quot;properties&quot;: {&quot;pkey_observatie&quot;: &quot;https://oefen.dov.vlaanderen.be/data/observatie/2022-4450748&quot;, &quot;resultaat&quot;: &quot;31.0&quot;}, &quot;type&quot;: &quot;Feature&quot;}, {&quot;bbox&quot;: [4.407144255487866, 51.21079304380832, 4.407144255487866, 51.21079304380832], &quot;geometry&quot;: {&quot;coordinates&quot;: [4.407144255487866, 51.21079304380832], &quot;type&quot;: &quot;Point&quot;}, &quot;id&quot;: &quot;25&quot;, &quot;properties&quot;: {&quot;pkey_observatie&quot;: &quot;https://oefen.dov.vlaanderen.be/data/observatie/2022-4578913&quot;, &quot;resultaat&quot;: &quot;48.4&quot;}, &quot;type&quot;: &quot;Feature&quot;}, {&quot;bbox&quot;: [4.274312764943049, 51.35201524753215, 4.274312764943049, 51.35201524753215], &quot;geometry&quot;: {&quot;coordinates&quot;: [4.274312764943049, 51.35201524753215], &quot;type&quot;: &quot;Point&quot;}, &quot;id&quot;: &quot;26&quot;, &quot;properties&quot;: {&quot;pkey_observatie&quot;: &quot;https://oefen.dov.vlaanderen.be/data/observatie/2022-6763779&quot;, &quot;resultaat&quot;: &quot;117.0&quot;}, &quot;type&quot;: &quot;Feature&quot;}, {&quot;bbox&quot;: [4.3784459587178635, 51.21230838435655, 4.3784459587178635, 51.21230838435655], &quot;geometry&quot;: {&quot;coordinates&quot;: [4.3784459587178635, 51.21230838435655], &quot;type&quot;: &quot;Point&quot;}, &quot;id&quot;: &quot;27&quot;, &quot;properties&quot;: {&quot;pkey_observatie&quot;: &quot;https://oefen.dov.vlaanderen.be/data/observatie/2022-5854513&quot;, &quot;resultaat&quot;: &quot;59.9&quot;}, &quot;type&quot;: &quot;Feature&quot;}, {&quot;bbox&quot;: [4.230914081581003, 50.82884431795813, 4.230914081581003, 50.82884431795813], &quot;geometry&quot;: {&quot;coordinates&quot;: [4.230914081581003, 50.82884431795813], &quot;type&quot;: &quot;Point&quot;}, &quot;id&quot;: &quot;28&quot;, &quot;properties&quot;: {&quot;pkey_observatie&quot;: &quot;https://oefen.dov.vlaanderen.be/data/observatie/2022-5854126&quot;, &quot;resultaat&quot;: &quot;37.7&quot;}, &quot;type&quot;: &quot;Feature&quot;}, {&quot;bbox&quot;: [5.081126271271483, 50.73414723451664, 5.081126271271483, 50.73414723451664], &quot;geometry&quot;: {&quot;coordinates&quot;: [5.081126271271483, 50.73414723451664], &quot;type&quot;: &quot;Point&quot;}, &quot;id&quot;: &quot;29&quot;, &quot;properties&quot;: {&quot;pkey_observatie&quot;: &quot;https://oefen.dov.vlaanderen.be/data/observatie/2022-5672319&quot;, &quot;resultaat&quot;: &quot;19.9&quot;}, &quot;type&quot;: &quot;Feature&quot;}, {&quot;bbox&quot;: [4.374573845160852, 51.204544545239756, 4.374573845160852, 51.204544545239756], &quot;geometry&quot;: {&quot;coordinates&quot;: [4.374573845160852, 51.204544545239756], &quot;type&quot;: &quot;Point&quot;}, &quot;id&quot;: &quot;30&quot;, &quot;properties&quot;: {&quot;pkey_observatie&quot;: &quot;https://oefen.dov.vlaanderen.be/data/observatie/2022-2074638&quot;, &quot;resultaat&quot;: &quot;27.1&quot;}, &quot;type&quot;: &quot;Feature&quot;}, {&quot;bbox&quot;: [5.015033789636016, 51.11632101119219, 5.015033789636016, 51.11632101119219], &quot;geometry&quot;: {&quot;coordinates&quot;: [5.015033789636016, 51.11632101119219], &quot;type&quot;: &quot;Point&quot;}, &quot;id&quot;: &quot;31&quot;, &quot;properties&quot;: {&quot;pkey_observatie&quot;: &quot;https://oefen.dov.vlaanderen.be/data/observatie/2022-2440281&quot;, &quot;resultaat&quot;: &quot;14.0&quot;}, &quot;type&quot;: &quot;Feature&quot;}, {&quot;bbox&quot;: [4.186189550909966, 51.05917711907909, 4.186189550909966, 51.05917711907909], &quot;geometry&quot;: {&quot;coordinates&quot;: [4.186189550909966, 51.05917711907909], &quot;type&quot;: &quot;Point&quot;}, &quot;id&quot;: &quot;32&quot;, &quot;properties&quot;: {&quot;pkey_observatie&quot;: &quot;https://oefen.dov.vlaanderen.be/data/observatie/2022-1482436&quot;, &quot;resultaat&quot;: &quot;41.9&quot;}, &quot;type&quot;: &quot;Feature&quot;}, {&quot;bbox&quot;: [4.402156179550087, 51.23979323158236, 4.402156179550087, 51.23979323158236], &quot;geometry&quot;: {&quot;coordinates&quot;: [4.402156179550087, 51.23979323158236], &quot;type&quot;: &quot;Point&quot;}, &quot;id&quot;: &quot;33&quot;, &quot;properties&quot;: {&quot;pkey_observatie&quot;: &quot;https://oefen.dov.vlaanderen.be/data/observatie/2022-1304013&quot;, &quot;resultaat&quot;: &quot;25.4&quot;}, &quot;type&quot;: &quot;Feature&quot;}, {&quot;bbox&quot;: [3.1068833041957356, 51.31452025077132, 3.1068833041957356, 51.31452025077132], &quot;geometry&quot;: {&quot;coordinates&quot;: [3.1068833041957356, 51.31452025077132], &quot;type&quot;: &quot;Point&quot;}, &quot;id&quot;: &quot;34&quot;, &quot;properties&quot;: {&quot;pkey_observatie&quot;: &quot;https://oefen.dov.vlaanderen.be/data/observatie/2022-1902238&quot;, &quot;resultaat&quot;: &quot;21.4&quot;}, &quot;type&quot;: &quot;Feature&quot;}, {&quot;bbox&quot;: [3.8580617948969094, 50.860464050154626, 3.8580617948969094, 50.860464050154626], &quot;geometry&quot;: {&quot;coordinates&quot;: [3.8580617948969094, 50.860464050154626], &quot;type&quot;: &quot;Point&quot;}, &quot;id&quot;: &quot;35&quot;, &quot;properties&quot;: {&quot;pkey_observatie&quot;: &quot;https://oefen.dov.vlaanderen.be/data/observatie/2022-1984105&quot;, &quot;resultaat&quot;: &quot;39.7&quot;}, &quot;type&quot;: &quot;Feature&quot;}, {&quot;bbox&quot;: [4.373669004147908, 51.23558410576446, 4.373669004147908, 51.23558410576446], &quot;geometry&quot;: {&quot;coordinates&quot;: [4.373669004147908, 51.23558410576446], &quot;type&quot;: &quot;Point&quot;}, &quot;id&quot;: &quot;36&quot;, &quot;properties&quot;: {&quot;pkey_observatie&quot;: &quot;https://oefen.dov.vlaanderen.be/data/observatie/2022-4123159&quot;, &quot;resultaat&quot;: &quot;23.5&quot;}, &quot;type&quot;: &quot;Feature&quot;}, {&quot;bbox&quot;: [4.168746606326382, 51.0946636775456, 4.168746606326382, 51.0946636775456], &quot;geometry&quot;: {&quot;coordinates&quot;: [4.168746606326382, 51.0946636775456], &quot;type&quot;: &quot;Point&quot;}, &quot;id&quot;: &quot;37&quot;, &quot;properties&quot;: {&quot;pkey_observatie&quot;: &quot;https://oefen.dov.vlaanderen.be/data/observatie/2022-3123131&quot;, &quot;resultaat&quot;: &quot;24.3&quot;}, &quot;type&quot;: &quot;Feature&quot;}, {&quot;bbox&quot;: [3.8710205333160257, 51.005682243550936, 3.8710205333160257, 51.005682243550936], &quot;geometry&quot;: {&quot;coordinates&quot;: [3.8710205333160257, 51.005682243550936], &quot;type&quot;: &quot;Point&quot;}, &quot;id&quot;: &quot;38&quot;, &quot;properties&quot;: {&quot;pkey_observatie&quot;: &quot;https://oefen.dov.vlaanderen.be/data/observatie/2022-3213532&quot;, &quot;resultaat&quot;: &quot;24.7&quot;}, &quot;type&quot;: &quot;Feature&quot;}, {&quot;bbox&quot;: [4.427013155370452, 51.244811696607115, 4.427013155370452, 51.244811696607115], &quot;geometry&quot;: {&quot;coordinates&quot;: [4.427013155370452, 51.244811696607115], &quot;type&quot;: &quot;Point&quot;}, &quot;id&quot;: &quot;39&quot;, &quot;properties&quot;: {&quot;pkey_observatie&quot;: &quot;https://oefen.dov.vlaanderen.be/data/observatie/2022-5170659&quot;, &quot;resultaat&quot;: &quot;26.8&quot;}, &quot;type&quot;: &quot;Feature&quot;}, {&quot;bbox&quot;: [3.944734912124029, 51.00497429952201, 3.944734912124029, 51.00497429952201], &quot;geometry&quot;: {&quot;coordinates&quot;: [3.944734912124029, 51.00497429952201], &quot;type&quot;: &quot;Point&quot;}, &quot;id&quot;: &quot;40&quot;, &quot;properties&quot;: {&quot;pkey_observatie&quot;: &quot;https://oefen.dov.vlaanderen.be/data/observatie/2022-5262219&quot;, &quot;resultaat&quot;: &quot;39.9&quot;}, &quot;type&quot;: &quot;Feature&quot;}, {&quot;bbox&quot;: [3.3615932623159215, 50.89842115399506, 3.3615932623159215, 50.89842115399506], &quot;geometry&quot;: {&quot;coordinates&quot;: [3.3615932623159215, 50.89842115399506], &quot;type&quot;: &quot;Point&quot;}, &quot;id&quot;: &quot;41&quot;, &quot;properties&quot;: {&quot;pkey_observatie&quot;: &quot;https://oefen.dov.vlaanderen.be/data/observatie/2022-4450740&quot;, &quot;resultaat&quot;: &quot;32.9&quot;}, &quot;type&quot;: &quot;Feature&quot;}, {&quot;bbox&quot;: [4.082628430053581, 51.10289124863535, 4.082628430053581, 51.10289124863535], &quot;geometry&quot;: {&quot;coordinates&quot;: [4.082628430053581, 51.10289124863535], &quot;type&quot;: &quot;Point&quot;}, &quot;id&quot;: &quot;42&quot;, &quot;properties&quot;: {&quot;pkey_observatie&quot;: &quot;https://oefen.dov.vlaanderen.be/data/observatie/2022-4578807&quot;, &quot;resultaat&quot;: &quot;51.8&quot;}, &quot;type&quot;: &quot;Feature&quot;}, {&quot;bbox&quot;: [2.97035117037674, 51.218019907295094, 2.97035117037674, 51.218019907295094], &quot;geometry&quot;: {&quot;coordinates&quot;: [2.97035117037674, 51.218019907295094], &quot;type&quot;: &quot;Point&quot;}, &quot;id&quot;: &quot;43&quot;, &quot;properties&quot;: {&quot;pkey_observatie&quot;: &quot;https://oefen.dov.vlaanderen.be/data/observatie/2022-6400032&quot;, &quot;resultaat&quot;: &quot;50.6&quot;}, &quot;type&quot;: &quot;Feature&quot;}, {&quot;bbox&quot;: [3.10121664643861, 50.78040120753109, 3.10121664643861, 50.78040120753109], &quot;geometry&quot;: {&quot;coordinates&quot;: [3.10121664643861, 50.78040120753109], &quot;type&quot;: &quot;Point&quot;}, &quot;id&quot;: &quot;44&quot;, &quot;properties&quot;: {&quot;pkey_observatie&quot;: &quot;https://oefen.dov.vlaanderen.be/data/observatie/2022-14225807&quot;, &quot;resultaat&quot;: &quot;29.8&quot;}, &quot;type&quot;: &quot;Feature&quot;}, {&quot;bbox&quot;: [4.327977051870236, 51.187319606763644, 4.327977051870236, 51.187319606763644], &quot;geometry&quot;: {&quot;coordinates&quot;: [4.327977051870236, 51.187319606763644], &quot;type&quot;: &quot;Point&quot;}, &quot;id&quot;: &quot;45&quot;, &quot;properties&quot;: {&quot;pkey_observatie&quot;: &quot;https://oefen.dov.vlaanderen.be/data/observatie/2022-2302307&quot;, &quot;resultaat&quot;: &quot;37.2&quot;}, &quot;type&quot;: &quot;Feature&quot;}, {&quot;bbox&quot;: [4.205574430349032, 51.15035958376388, 4.205574430349032, 51.15035958376388], &quot;geometry&quot;: {&quot;coordinates&quot;: [4.205574430349032, 51.15035958376388], &quot;type&quot;: &quot;Point&quot;}, &quot;id&quot;: &quot;46&quot;, &quot;properties&quot;: {&quot;pkey_observatie&quot;: &quot;https://oefen.dov.vlaanderen.be/data/observatie/2022-2348233&quot;, &quot;resultaat&quot;: &quot;25.2&quot;}, &quot;type&quot;: &quot;Feature&quot;}, {&quot;bbox&quot;: [4.377532284233351, 51.30417873098995, 4.377532284233351, 51.30417873098995], &quot;geometry&quot;: {&quot;coordinates&quot;: [4.377532284233351, 51.30417873098995], &quot;type&quot;: &quot;Point&quot;}, &quot;id&quot;: &quot;47&quot;, &quot;properties&quot;: {&quot;pkey_observatie&quot;: &quot;https://oefen.dov.vlaanderen.be/data/observatie/2022-2166441&quot;, &quot;resultaat&quot;: &quot;24.2&quot;}, &quot;type&quot;: &quot;Feature&quot;}, {&quot;bbox&quot;: [3.7882054575615838, 51.028774995091986, 3.7882054575615838, 51.028774995091986], &quot;geometry&quot;: {&quot;coordinates&quot;: [3.7882054575615838, 51.028774995091986], &quot;type&quot;: &quot;Point&quot;}, &quot;id&quot;: &quot;48&quot;, &quot;properties&quot;: {&quot;pkey_observatie&quot;: &quot;https://oefen.dov.vlaanderen.be/data/observatie/2022-2621971&quot;, &quot;resultaat&quot;: &quot;29.1&quot;}, &quot;type&quot;: &quot;Feature&quot;}, {&quot;bbox&quot;: [4.485952884745834, 51.24102256871157, 4.485952884745834, 51.24102256871157], &quot;geometry&quot;: {&quot;coordinates&quot;: [4.485952884745834, 51.24102256871157], &quot;type&quot;: &quot;Point&quot;}, &quot;id&quot;: &quot;49&quot;, &quot;properties&quot;: {&quot;pkey_observatie&quot;: &quot;https://oefen.dov.vlaanderen.be/data/observatie/2022-2713645&quot;, &quot;resultaat&quot;: &quot;26.3&quot;}, &quot;type&quot;: &quot;Feature&quot;}, {&quot;bbox&quot;: [4.190167657810626, 51.03308493057011, 4.190167657810626, 51.03308493057011], &quot;geometry&quot;: {&quot;coordinates&quot;: [4.190167657810626, 51.03308493057011], &quot;type&quot;: &quot;Point&quot;}, &quot;id&quot;: &quot;50&quot;, &quot;properties&quot;: {&quot;pkey_observatie&quot;: &quot;https://oefen.dov.vlaanderen.be/data/observatie/2022-3850806&quot;, &quot;resultaat&quot;: &quot;11.8&quot;}, &quot;type&quot;: &quot;Feature&quot;}, {&quot;bbox&quot;: [3.9194139769540373, 51.01677630032037, 3.9194139769540373, 51.01677630032037], &quot;geometry&quot;: {&quot;coordinates&quot;: [3.9194139769540373, 51.01677630032037], &quot;type&quot;: &quot;Point&quot;}, &quot;id&quot;: &quot;51&quot;, &quot;properties&quot;: {&quot;pkey_observatie&quot;: &quot;https://oefen.dov.vlaanderen.be/data/observatie/2022-3123507&quot;, &quot;resultaat&quot;: &quot;32.4&quot;}, &quot;type&quot;: &quot;Feature&quot;}, {&quot;bbox&quot;: [2.8462345813195444, 51.20179942576467, 2.8462345813195444, 51.20179942576467], &quot;geometry&quot;: {&quot;coordinates&quot;: [2.8462345813195444, 51.20179942576467], &quot;type&quot;: &quot;Point&quot;}, &quot;id&quot;: &quot;52&quot;, &quot;properties&quot;: {&quot;pkey_observatie&quot;: &quot;https://oefen.dov.vlaanderen.be/data/observatie/2022-3123359&quot;, &quot;resultaat&quot;: &quot;46.6&quot;}, &quot;type&quot;: &quot;Feature&quot;}, {&quot;bbox&quot;: [4.330321354175249, 51.24651232527763, 4.330321354175249, 51.24651232527763], &quot;geometry&quot;: {&quot;coordinates&quot;: [4.330321354175249, 51.24651232527763], &quot;type&quot;: &quot;Point&quot;}, &quot;id&quot;: &quot;53&quot;, &quot;properties&quot;: {&quot;pkey_observatie&quot;: &quot;https://oefen.dov.vlaanderen.be/data/observatie/2022-5398386&quot;, &quot;resultaat&quot;: &quot;25.4&quot;}, &quot;type&quot;: &quot;Feature&quot;}, {&quot;bbox&quot;: [4.159344070138726, 51.10740974237615, 4.159344070138726, 51.10740974237615], &quot;geometry&quot;: {&quot;coordinates&quot;: [4.159344070138726, 51.10740974237615], &quot;type&quot;: &quot;Point&quot;}, &quot;id&quot;: &quot;54&quot;, &quot;properties&quot;: {&quot;pkey_observatie&quot;: &quot;https://oefen.dov.vlaanderen.be/data/observatie/2022-4851897&quot;, &quot;resultaat&quot;: &quot;16.4&quot;}, &quot;type&quot;: &quot;Feature&quot;}, {&quot;bbox&quot;: [4.430609161518511, 51.06359722510506, 4.430609161518511, 51.06359722510506], &quot;geometry&quot;: {&quot;coordinates&quot;: [4.430609161518511, 51.06359722510506], &quot;type&quot;: &quot;Point&quot;}, &quot;id&quot;: &quot;55&quot;, &quot;properties&quot;: {&quot;pkey_observatie&quot;: &quot;https://oefen.dov.vlaanderen.be/data/observatie/2022-6946082&quot;, &quot;resultaat&quot;: &quot;21.1&quot;}, &quot;type&quot;: &quot;Feature&quot;}, {&quot;bbox&quot;: [3.2281096878435176, 50.81930959938216, 3.2281096878435176, 50.81930959938216], &quot;geometry&quot;: {&quot;coordinates&quot;: [3.2281096878435176, 50.81930959938216], &quot;type&quot;: &quot;Point&quot;}, &quot;id&quot;: &quot;56&quot;, &quot;properties&quot;: {&quot;pkey_observatie&quot;: &quot;https://oefen.dov.vlaanderen.be/data/observatie/2022-5945563&quot;, &quot;resultaat&quot;: &quot;25.7&quot;}, &quot;type&quot;: &quot;Feature&quot;}, {&quot;bbox&quot;: [4.299199791632547, 51.25474047154328, 4.299199791632547, 51.25474047154328], &quot;geometry&quot;: {&quot;coordinates&quot;: [4.299199791632547, 51.25474047154328], &quot;type&quot;: &quot;Point&quot;}, &quot;id&quot;: &quot;57&quot;, &quot;properties&quot;: {&quot;pkey_observatie&quot;: &quot;https://oefen.dov.vlaanderen.be/data/observatie/2022-6309299&quot;, &quot;resultaat&quot;: &quot;34.8&quot;}, &quot;type&quot;: &quot;Feature&quot;}, {&quot;bbox&quot;: [3.9606740655668133, 51.01323005987458, 3.9606740655668133, 51.01323005987458], &quot;geometry&quot;: {&quot;coordinates&quot;: [3.9606740655668133, 51.01323005987458], &quot;type&quot;: &quot;Point&quot;}, &quot;id&quot;: &quot;58&quot;, &quot;properties&quot;: {&quot;pkey_observatie&quot;: &quot;https://oefen.dov.vlaanderen.be/data/observatie/2022-3578116&quot;, &quot;resultaat&quot;: &quot;22.8&quot;}, &quot;type&quot;: &quot;Feature&quot;}, {&quot;bbox&quot;: [3.5296047336044527, 51.189170223448855, 3.5296047336044527, 51.189170223448855], &quot;geometry&quot;: {&quot;coordinates&quot;: [3.5296047336044527, 51.189170223448855], &quot;type&quot;: &quot;Point&quot;}, &quot;id&quot;: &quot;59&quot;, &quot;properties&quot;: {&quot;pkey_observatie&quot;: &quot;https://oefen.dov.vlaanderen.be/data/observatie/2022-3759787&quot;, &quot;resultaat&quot;: &quot;20.4&quot;}, &quot;type&quot;: &quot;Feature&quot;}, {&quot;bbox&quot;: [2.8492724812029477, 51.15008010035354, 2.8492724812029477, 51.15008010035354], &quot;geometry&quot;: {&quot;coordinates&quot;: [2.8492724812029477, 51.15008010035354], &quot;type&quot;: &quot;Point&quot;}, &quot;id&quot;: &quot;60&quot;, &quot;properties&quot;: {&quot;pkey_observatie&quot;: &quot;https://oefen.dov.vlaanderen.be/data/observatie/2022-3804988&quot;, &quot;resultaat&quot;: &quot;27.6&quot;}, &quot;type&quot;: &quot;Feature&quot;}, {&quot;bbox&quot;: [4.36905861869189, 51.23290570960621, 4.36905861869189, 51.23290570960621], &quot;geometry&quot;: {&quot;coordinates&quot;: [4.36905861869189, 51.23290570960621], &quot;type&quot;: &quot;Point&quot;}, &quot;id&quot;: &quot;61&quot;, &quot;properties&quot;: {&quot;pkey_observatie&quot;: &quot;https://oefen.dov.vlaanderen.be/data/observatie/2022-4168540&quot;, &quot;resultaat&quot;: &quot;226.7&quot;}, &quot;type&quot;: &quot;Feature&quot;}, {&quot;bbox&quot;: [4.402024650004524, 51.241844313342156, 4.402024650004524, 51.241844313342156], &quot;geometry&quot;: {&quot;coordinates&quot;: [4.402024650004524, 51.241844313342156], &quot;type&quot;: &quot;Point&quot;}, &quot;id&quot;: &quot;62&quot;, &quot;properties&quot;: {&quot;pkey_observatie&quot;: &quot;https://oefen.dov.vlaanderen.be/data/observatie/2022-3171329&quot;, &quot;resultaat&quot;: &quot;79.4&quot;}, &quot;type&quot;: &quot;Feature&quot;}, {&quot;bbox&quot;: [4.390402757107496, 50.977746907640935, 4.390402757107496, 50.977746907640935], &quot;geometry&quot;: {&quot;coordinates&quot;: [4.390402757107496, 50.977746907640935], &quot;type&quot;: &quot;Point&quot;}, &quot;id&quot;: &quot;63&quot;, &quot;properties&quot;: {&quot;pkey_observatie&quot;: &quot;https://oefen.dov.vlaanderen.be/data/observatie/2022-5262505&quot;, &quot;resultaat&quot;: &quot;26.7&quot;}, &quot;type&quot;: &quot;Feature&quot;}, {&quot;bbox&quot;: [4.364167722415249, 51.20124221462772, 4.364167722415249, 51.20124221462772], &quot;geometry&quot;: {&quot;coordinates&quot;: [4.364167722415249, 51.20124221462772], &quot;type&quot;: &quot;Point&quot;}, &quot;id&quot;: &quot;64&quot;, &quot;properties&quot;: {&quot;pkey_observatie&quot;: &quot;https://oefen.dov.vlaanderen.be/data/observatie/2022-4578933&quot;, &quot;resultaat&quot;: &quot;27.6&quot;}, &quot;type&quot;: &quot;Feature&quot;}, {&quot;bbox&quot;: [4.7100893885397985, 50.89888259460993, 4.7100893885397985, 50.89888259460993], &quot;geometry&quot;: {&quot;coordinates&quot;: [4.7100893885397985, 50.89888259460993], &quot;type&quot;: &quot;Point&quot;}, &quot;id&quot;: &quot;65&quot;, &quot;properties&quot;: {&quot;pkey_observatie&quot;: &quot;https://oefen.dov.vlaanderen.be/data/observatie/2022-6581730&quot;, &quot;resultaat&quot;: &quot;22.2&quot;}, &quot;type&quot;: &quot;Feature&quot;}, {&quot;bbox&quot;: [3.7585001126360544, 51.1028532977302, 3.7585001126360544, 51.1028532977302], &quot;geometry&quot;: {&quot;coordinates&quot;: [3.7585001126360544, 51.1028532977302], &quot;type&quot;: &quot;Point&quot;}, &quot;id&quot;: &quot;66&quot;, &quot;properties&quot;: {&quot;pkey_observatie&quot;: &quot;https://oefen.dov.vlaanderen.be/data/observatie/2022-7082077&quot;, &quot;resultaat&quot;: &quot;20.9&quot;}, &quot;type&quot;: &quot;Feature&quot;}, {&quot;bbox&quot;: [5.753688505017445, 50.989600722977436, 5.753688505017445, 50.989600722977436], &quot;geometry&quot;: {&quot;coordinates&quot;: [5.753688505017445, 50.989600722977436], &quot;type&quot;: &quot;Point&quot;}, &quot;id&quot;: &quot;67&quot;, &quot;properties&quot;: {&quot;pkey_observatie&quot;: &quot;https://oefen.dov.vlaanderen.be/data/observatie/2022-6991353&quot;, &quot;resultaat&quot;: &quot;15.9&quot;}, &quot;type&quot;: &quot;Feature&quot;}, {&quot;bbox&quot;: [4.36905861869189, 51.23290570960621, 4.36905861869189, 51.23290570960621], &quot;geometry&quot;: {&quot;coordinates&quot;: [4.36905861869189, 51.23290570960621], &quot;type&quot;: &quot;Point&quot;}, &quot;id&quot;: &quot;68&quot;, &quot;properties&quot;: {&quot;pkey_observatie&quot;: &quot;https://oefen.dov.vlaanderen.be/data/observatie/2022-2075071&quot;, &quot;resultaat&quot;: &quot;19.5&quot;}, &quot;type&quot;: &quot;Feature&quot;}, {&quot;bbox&quot;: [3.865337651516536, 51.00237503562757, 3.865337651516536, 51.00237503562757], &quot;geometry&quot;: {&quot;coordinates&quot;: [3.865337651516536, 51.00237503562757], &quot;type&quot;: &quot;Point&quot;}, &quot;id&quot;: &quot;69&quot;, &quot;properties&quot;: {&quot;pkey_observatie&quot;: &quot;https://oefen.dov.vlaanderen.be/data/observatie/2022-1573384&quot;, &quot;resultaat&quot;: &quot;21.0&quot;}, &quot;type&quot;: &quot;Feature&quot;}, {&quot;bbox&quot;: [4.414364469836135, 51.216715328266325, 4.414364469836135, 51.216715328266325], &quot;geometry&quot;: {&quot;coordinates&quot;: [4.414364469836135, 51.216715328266325], &quot;type&quot;: &quot;Point&quot;}, &quot;id&quot;: &quot;70&quot;, &quot;properties&quot;: {&quot;pkey_observatie&quot;: &quot;https://oefen.dov.vlaanderen.be/data/observatie/2022-3578113&quot;, &quot;resultaat&quot;: &quot;22.5&quot;}, &quot;type&quot;: &quot;Feature&quot;}, {&quot;bbox&quot;: [5.715582556112254, 50.9726932892059, 5.715582556112254, 50.9726932892059], &quot;geometry&quot;: {&quot;coordinates&quot;: [5.715582556112254, 50.9726932892059], &quot;type&quot;: &quot;Point&quot;}, &quot;id&quot;: &quot;71&quot;, &quot;properties&quot;: {&quot;pkey_observatie&quot;: &quot;https://oefen.dov.vlaanderen.be/data/observatie/2022-3668636&quot;, &quot;resultaat&quot;: &quot;18.1&quot;}, &quot;type&quot;: &quot;Feature&quot;}, {&quot;bbox&quot;: [4.50483896859218, 50.74034229409174, 4.50483896859218, 50.74034229409174], &quot;geometry&quot;: {&quot;coordinates&quot;: [4.50483896859218, 50.74034229409174], &quot;type&quot;: &quot;Point&quot;}, &quot;id&quot;: &quot;72&quot;, &quot;properties&quot;: {&quot;pkey_observatie&quot;: &quot;https://oefen.dov.vlaanderen.be/data/observatie/2022-3395341&quot;, &quot;resultaat&quot;: &quot;16.2&quot;}, &quot;type&quot;: &quot;Feature&quot;}, {&quot;bbox&quot;: [5.5137103436050525, 50.926588139455816, 5.5137103436050525, 50.926588139455816], &quot;geometry&quot;: {&quot;coordinates&quot;: [5.5137103436050525, 50.926588139455816], &quot;type&quot;: &quot;Point&quot;}, &quot;id&quot;: &quot;73&quot;, &quot;properties&quot;: {&quot;pkey_observatie&quot;: &quot;https://oefen.dov.vlaanderen.be/data/observatie/2022-6399369&quot;, &quot;resultaat&quot;: &quot;20.6&quot;}, &quot;type&quot;: &quot;Feature&quot;}, {&quot;bbox&quot;: [3.7091529823899205, 51.01565552124461, 3.7091529823899205, 51.01565552124461], &quot;geometry&quot;: {&quot;coordinates&quot;: [3.7091529823899205, 51.01565552124461], &quot;type&quot;: &quot;Point&quot;}, &quot;id&quot;: &quot;74&quot;, &quot;properties&quot;: {&quot;pkey_observatie&quot;: &quot;https://oefen.dov.vlaanderen.be/data/observatie/2022-6717991&quot;, &quot;resultaat&quot;: &quot;21.4&quot;}, &quot;type&quot;: &quot;Feature&quot;}, {&quot;bbox&quot;: [4.191126570903078, 51.11575654820733, 4.191126570903078, 51.11575654820733], &quot;geometry&quot;: {&quot;coordinates&quot;: [4.191126570903078, 51.11575654820733], &quot;type&quot;: &quot;Point&quot;}, &quot;id&quot;: &quot;75&quot;, &quot;properties&quot;: {&quot;pkey_observatie&quot;: &quot;https://oefen.dov.vlaanderen.be/data/observatie/2022-2394179&quot;, &quot;resultaat&quot;: &quot;28.8&quot;}, &quot;type&quot;: &quot;Feature&quot;}, {&quot;bbox&quot;: [5.212740915595948, 50.99860171065651, 5.212740915595948, 50.99860171065651], &quot;geometry&quot;: {&quot;coordinates&quot;: [5.212740915595948, 50.99860171065651], &quot;type&quot;: &quot;Point&quot;}, &quot;id&quot;: &quot;76&quot;, &quot;properties&quot;: {&quot;pkey_observatie&quot;: &quot;https://oefen.dov.vlaanderen.be/data/observatie/2022-2622437&quot;, &quot;resultaat&quot;: &quot;24.9&quot;}, &quot;type&quot;: &quot;Feature&quot;}, {&quot;bbox&quot;: [4.087035860766115, 50.887322008667844, 4.087035860766115, 50.887322008667844], &quot;geometry&quot;: {&quot;coordinates&quot;: [4.087035860766115, 50.887322008667844], &quot;type&quot;: &quot;Point&quot;}, &quot;id&quot;: &quot;77&quot;, &quot;properties&quot;: {&quot;pkey_observatie&quot;: &quot;https://oefen.dov.vlaanderen.be/data/observatie/2022-3671434&quot;, &quot;resultaat&quot;: &quot;32.0&quot;}, &quot;type&quot;: &quot;Feature&quot;}, {&quot;bbox&quot;: [4.195084862886792, 50.84449360221505, 4.195084862886792, 50.84449360221505], &quot;geometry&quot;: {&quot;coordinates&quot;: [4.195084862886792, 50.84449360221505], &quot;type&quot;: &quot;Point&quot;}, &quot;id&quot;: &quot;78&quot;, &quot;properties&quot;: {&quot;pkey_observatie&quot;: &quot;https://oefen.dov.vlaanderen.be/data/observatie/2022-3895639&quot;, &quot;resultaat&quot;: &quot;29.0&quot;}, &quot;type&quot;: &quot;Feature&quot;}, {&quot;bbox&quot;: [4.428707164847815, 50.90146365729939, 4.428707164847815, 50.90146365729939], &quot;geometry&quot;: {&quot;coordinates&quot;: [4.428707164847815, 50.90146365729939], &quot;type&quot;: &quot;Point&quot;}, &quot;id&quot;: &quot;79&quot;, &quot;properties&quot;: {&quot;pkey_observatie&quot;: &quot;https://oefen.dov.vlaanderen.be/data/observatie/2022-3986581&quot;, &quot;resultaat&quot;: &quot;5.3&quot;}, &quot;type&quot;: &quot;Feature&quot;}, {&quot;bbox&quot;: [4.39408618610883, 51.23022575997344, 4.39408618610883, 51.23022575997344], &quot;geometry&quot;: {&quot;coordinates&quot;: [4.39408618610883, 51.23022575997344], &quot;type&quot;: &quot;Point&quot;}, &quot;id&quot;: &quot;80&quot;, &quot;properties&quot;: {&quot;pkey_observatie&quot;: &quot;https://oefen.dov.vlaanderen.be/data/observatie/2022-2895704&quot;, &quot;resultaat&quot;: &quot;71.7&quot;}, &quot;type&quot;: &quot;Feature&quot;}, {&quot;bbox&quot;: [4.3100505166602225, 51.160540214532695, 4.3100505166602225, 51.160540214532695], &quot;geometry&quot;: {&quot;coordinates&quot;: [4.3100505166602225, 51.160540214532695], &quot;type&quot;: &quot;Point&quot;}, &quot;id&quot;: &quot;81&quot;, &quot;properties&quot;: {&quot;pkey_observatie&quot;: &quot;https://oefen.dov.vlaanderen.be/data/observatie/2022-2940852&quot;, &quot;resultaat&quot;: &quot;40.2&quot;}, &quot;type&quot;: &quot;Feature&quot;}, {&quot;bbox&quot;: [5.166546698779495, 51.1035448759561, 5.166546698779495, 51.1035448759561], &quot;geometry&quot;: {&quot;coordinates&quot;: [5.166546698779495, 51.1035448759561], &quot;type&quot;: &quot;Point&quot;}, &quot;id&quot;: &quot;82&quot;, &quot;properties&quot;: {&quot;pkey_observatie&quot;: &quot;https://oefen.dov.vlaanderen.be/data/observatie/2022-3034389&quot;, &quot;resultaat&quot;: &quot;5.8&quot;}, &quot;type&quot;: &quot;Feature&quot;}, {&quot;bbox&quot;: [4.37783665401613, 51.24117726882897, 4.37783665401613, 51.24117726882897], &quot;geometry&quot;: {&quot;coordinates&quot;: [4.37783665401613, 51.24117726882897], &quot;type&quot;: &quot;Point&quot;}, &quot;id&quot;: &quot;83&quot;, &quot;properties&quot;: {&quot;pkey_observatie&quot;: &quot;https://oefen.dov.vlaanderen.be/data/observatie/2022-3213981&quot;, &quot;resultaat&quot;: &quot;25.7&quot;}, &quot;type&quot;: &quot;Feature&quot;}, {&quot;bbox&quot;: [4.297588246017836, 51.25549031279978, 4.297588246017836, 51.25549031279978], &quot;geometry&quot;: {&quot;coordinates&quot;: [4.297588246017836, 51.25549031279978], &quot;type&quot;: &quot;Point&quot;}, &quot;id&quot;: &quot;84&quot;, &quot;properties&quot;: {&quot;pkey_observatie&quot;: &quot;https://oefen.dov.vlaanderen.be/data/observatie/2022-3350761&quot;, &quot;resultaat&quot;: &quot;34.4&quot;}, &quot;type&quot;: &quot;Feature&quot;}, {&quot;bbox&quot;: [4.445030369677415, 51.0630673307407, 4.445030369677415, 51.0630673307407], &quot;geometry&quot;: {&quot;coordinates&quot;: [4.445030369677415, 51.0630673307407], &quot;type&quot;: &quot;Point&quot;}, &quot;id&quot;: &quot;85&quot;, &quot;properties&quot;: {&quot;pkey_observatie&quot;: &quot;https://oefen.dov.vlaanderen.be/data/observatie/2022-4350204&quot;, &quot;resultaat&quot;: &quot;27.0&quot;}, &quot;type&quot;: &quot;Feature&quot;}, {&quot;bbox&quot;: [4.293303587021888, 51.303220761067514, 4.293303587021888, 51.303220761067514], &quot;geometry&quot;: {&quot;coordinates&quot;: [4.293303587021888, 51.303220761067514], &quot;type&quot;: &quot;Point&quot;}, &quot;id&quot;: &quot;86&quot;, &quot;properties&quot;: {&quot;pkey_observatie&quot;: &quot;https://oefen.dov.vlaanderen.be/data/observatie/2022-4532856&quot;, &quot;resultaat&quot;: &quot;24.9&quot;}, &quot;type&quot;: &quot;Feature&quot;}, {&quot;bbox&quot;: [4.240779633094615, 50.73443655664685, 4.240779633094615, 50.73443655664685], &quot;geometry&quot;: {&quot;coordinates&quot;: [4.240779633094615, 50.73443655664685], &quot;type&quot;: &quot;Point&quot;}, &quot;id&quot;: &quot;87&quot;, &quot;properties&quot;: {&quot;pkey_observatie&quot;: &quot;https://oefen.dov.vlaanderen.be/data/observatie/2022-6490507&quot;, &quot;resultaat&quot;: &quot;18.2&quot;}, &quot;type&quot;: &quot;Feature&quot;}, {&quot;bbox&quot;: [4.196896400588788, 51.266549134527565, 4.196896400588788, 51.266549134527565], &quot;geometry&quot;: {&quot;coordinates&quot;: [4.196896400588788, 51.266549134527565], &quot;type&quot;: &quot;Point&quot;}, &quot;id&quot;: &quot;88&quot;, &quot;properties&quot;: {&quot;pkey_observatie&quot;: &quot;https://oefen.dov.vlaanderen.be/data/observatie/2022-6718130&quot;, &quot;resultaat&quot;: &quot;35.2&quot;}, &quot;type&quot;: &quot;Feature&quot;}, {&quot;bbox&quot;: [3.2061963360706653, 51.30842029208494, 3.2061963360706653, 51.30842029208494], &quot;geometry&quot;: {&quot;coordinates&quot;: [3.2061963360706653, 51.30842029208494], &quot;type&quot;: &quot;Point&quot;}, &quot;id&quot;: &quot;89&quot;, &quot;properties&quot;: {&quot;pkey_observatie&quot;: &quot;https://oefen.dov.vlaanderen.be/data/observatie/2022-6900172&quot;, &quot;resultaat&quot;: &quot;32.2&quot;}, &quot;type&quot;: &quot;Feature&quot;}, {&quot;bbox&quot;: [3.4843552177546524, 50.78013500792818, 3.4843552177546524, 50.78013500792818], &quot;geometry&quot;: {&quot;coordinates&quot;: [3.4843552177546524, 50.78013500792818], &quot;type&quot;: &quot;Point&quot;}, &quot;id&quot;: &quot;90&quot;, &quot;properties&quot;: {&quot;pkey_observatie&quot;: &quot;https://oefen.dov.vlaanderen.be/data/observatie/2022-5990927&quot;, &quot;resultaat&quot;: &quot;36.6&quot;}, &quot;type&quot;: &quot;Feature&quot;}, {&quot;bbox&quot;: [3.25891226887574, 50.91600833288145, 3.25891226887574, 50.91600833288145], &quot;geometry&quot;: {&quot;coordinates&quot;: [3.25891226887574, 50.91600833288145], &quot;type&quot;: &quot;Point&quot;}, &quot;id&quot;: &quot;91&quot;, &quot;properties&quot;: {&quot;pkey_observatie&quot;: &quot;https://oefen.dov.vlaanderen.be/data/observatie/2022-6218882&quot;, &quot;resultaat&quot;: &quot;30.4&quot;}, &quot;type&quot;: &quot;Feature&quot;}, {&quot;bbox&quot;: [3.3615816133144287, 51.3537850839674, 3.3615816133144287, 51.3537850839674], &quot;geometry&quot;: {&quot;coordinates&quot;: [3.3615816133144287, 51.3537850839674], &quot;type&quot;: &quot;Point&quot;}, &quot;id&quot;: &quot;92&quot;, &quot;properties&quot;: {&quot;pkey_observatie&quot;: &quot;https://oefen.dov.vlaanderen.be/data/observatie/2022-2302329&quot;, &quot;resultaat&quot;: &quot;20.1&quot;}, &quot;type&quot;: &quot;Feature&quot;}, {&quot;bbox&quot;: [3.852596858550913, 50.99859186851282, 3.852596858550913, 50.99859186851282], &quot;geometry&quot;: {&quot;coordinates&quot;: [3.852596858550913, 50.99859186851282], &quot;type&quot;: &quot;Point&quot;}, &quot;id&quot;: &quot;93&quot;, &quot;properties&quot;: {&quot;pkey_observatie&quot;: &quot;https://oefen.dov.vlaanderen.be/data/observatie/2022-3122997&quot;, &quot;resultaat&quot;: &quot;30.0&quot;}, &quot;type&quot;: &quot;Feature&quot;}, {&quot;bbox&quot;: [3.1849293015896456, 51.349447969712116, 3.1849293015896456, 51.349447969712116], &quot;geometry&quot;: {&quot;coordinates&quot;: [3.1849293015896456, 51.349447969712116], &quot;type&quot;: &quot;Point&quot;}, &quot;id&quot;: &quot;94&quot;, &quot;properties&quot;: {&quot;pkey_observatie&quot;: &quot;https://oefen.dov.vlaanderen.be/data/observatie/2022-3259695&quot;, &quot;resultaat&quot;: &quot;45.6&quot;}, &quot;type&quot;: &quot;Feature&quot;}, {&quot;bbox&quot;: [4.940371898494766, 51.13625139754376, 4.940371898494766, 51.13625139754376], &quot;geometry&quot;: {&quot;coordinates&quot;: [4.940371898494766, 51.13625139754376], &quot;type&quot;: &quot;Point&quot;}, &quot;id&quot;: &quot;95&quot;, &quot;properties&quot;: {&quot;pkey_observatie&quot;: &quot;https://oefen.dov.vlaanderen.be/data/observatie/2022-3441494&quot;, &quot;resultaat&quot;: &quot;18.3&quot;}, &quot;type&quot;: &quot;Feature&quot;}, {&quot;bbox&quot;: [2.7388903345360465, 51.14795996730835, 2.7388903345360465, 51.14795996730835], &quot;geometry&quot;: {&quot;coordinates&quot;: [2.7388903345360465, 51.14795996730835], &quot;type&quot;: &quot;Point&quot;}, &quot;id&quot;: &quot;96&quot;, &quot;properties&quot;: {&quot;pkey_observatie&quot;: &quot;https://oefen.dov.vlaanderen.be/data/observatie/2022-4988817&quot;, &quot;resultaat&quot;: &quot;38.9&quot;}, &quot;type&quot;: &quot;Feature&quot;}, {&quot;bbox&quot;: [4.314948846215608, 51.15393490412257, 4.314948846215608, 51.15393490412257], &quot;geometry&quot;: {&quot;coordinates&quot;: [4.314948846215608, 51.15393490412257], &quot;type&quot;: &quot;Point&quot;}, &quot;id&quot;: &quot;97&quot;, &quot;properties&quot;: {&quot;pkey_observatie&quot;: &quot;https://oefen.dov.vlaanderen.be/data/observatie/2022-5353026&quot;, &quot;resultaat&quot;: &quot;21.3&quot;}, &quot;type&quot;: &quot;Feature&quot;}, {&quot;bbox&quot;: [4.2228201887100205, 51.24438632865832, 4.2228201887100205, 51.24438632865832], &quot;geometry&quot;: {&quot;coordinates&quot;: [4.2228201887100205, 51.24438632865832], &quot;type&quot;: &quot;Point&quot;}, &quot;id&quot;: &quot;98&quot;, &quot;properties&quot;: {&quot;pkey_observatie&quot;: &quot;https://oefen.dov.vlaanderen.be/data/observatie/2022-6763552&quot;, &quot;resultaat&quot;: &quot;22.6&quot;}, &quot;type&quot;: &quot;Feature&quot;}, {&quot;bbox&quot;: [4.300018390534668, 51.30221490628784, 4.300018390534668, 51.30221490628784], &quot;geometry&quot;: {&quot;coordinates&quot;: [4.300018390534668, 51.30221490628784], &quot;type&quot;: &quot;Point&quot;}, &quot;id&quot;: &quot;99&quot;, &quot;properties&quot;: {&quot;pkey_observatie&quot;: &quot;https://oefen.dov.vlaanderen.be/data/observatie/2022-6854657&quot;, &quot;resultaat&quot;: &quot;15.5&quot;}, &quot;type&quot;: &quot;Feature&quot;}], &quot;type&quot;: &quot;FeatureCollection&quot;});\n",
       "\n",
       "        \n",
       "    \n",
       "    geo_json_76990b63111beb7b77299c08f65fa292.bindTooltip(\n",
       "    function(layer){\n",
       "    let div = L.DomUtil.create(&#x27;div&#x27;);\n",
       "    \n",
       "    let handleObject = feature=&gt;typeof(feature)==&#x27;object&#x27; ? JSON.stringify(feature) : feature;\n",
       "    let fields = [&quot;pkey_observatie&quot;, &quot;resultaat&quot;];\n",
       "    let aliases = [&quot;pkey_observatie&quot;, &quot;resultaat&quot;];\n",
       "    let table = &#x27;&lt;table&gt;&#x27; +\n",
       "        String(\n",
       "        fields.map(\n",
       "        (v,i)=&gt;\n",
       "        `&lt;tr&gt;\n",
       "            &lt;th&gt;${aliases[i]}&lt;/th&gt;\n",
       "            \n",
       "            &lt;td&gt;${handleObject(layer.feature.properties[v])}&lt;/td&gt;\n",
       "        &lt;/tr&gt;`).join(&#x27;&#x27;))\n",
       "    +&#x27;&lt;/table&gt;&#x27;;\n",
       "    div.innerHTML=table;\n",
       "    \n",
       "    return div\n",
       "    }\n",
       "    ,{&quot;className&quot;: &quot;foliumtooltip&quot;, &quot;sticky&quot;: true});\n",
       "                     \n",
       "&lt;/script&gt;\n",
       "&lt;/html&gt;\" style=\"position:absolute;width:100%;height:100%;left:0;top:0;border:none !important;\" allowfullscreen webkitallowfullscreen mozallowfullscreen></iframe></div></div>"
      ],
      "text/plain": [
       "<folium.folium.Map at 0x75585c162020>"
      ]
     },
     "execution_count": 23,
     "metadata": {},
     "output_type": "execute_result"
    }
   ],
   "source": [
    "gdf = gpd.GeoDataFrame(df, geometry='geom', crs='EPSG:31370')\n",
    "gdf.explore()"
   ]
  },
  {
   "cell_type": "code",
   "execution_count": null,
   "metadata": {},
   "outputs": [],
   "source": []
  }
 ],
 "metadata": {
  "kernelspec": {
   "display_name": ".venv",
   "language": "python",
   "name": "python3"
  },
  "language_info": {
   "codemirror_mode": {
    "name": "ipython",
    "version": 3
   },
   "file_extension": ".py",
   "mimetype": "text/x-python",
   "name": "python",
   "nbconvert_exporter": "python",
   "pygments_lexer": "ipython3",
   "version": "3.10.12"
  }
 },
 "nbformat": 4,
 "nbformat_minor": 4
}
