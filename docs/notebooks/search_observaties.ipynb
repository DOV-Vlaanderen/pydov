{
 "cells": [
  {
   "cell_type": "markdown",
   "metadata": {},
   "source": [
    "# Example of DOV search methods for observations (observaties)"
   ]
  },
  {
   "cell_type": "markdown",
   "metadata": {},
   "source": [
    "[![Binder](https://mybinder.org/badge_logo.svg)](https://mybinder.org/v2/gh/DOV-Vlaanderen/pydov/master?filepath=docs%2Fnotebooks%2Fsearch_observaties.ipynb)"
   ]
  },
  {
   "cell_type": "markdown",
   "metadata": {},
   "source": [
    "## Use cases explained below\n",
    "* Get observations in a bounding box\n",
    "* Get observations with specific properties\n",
    "* Get observations in a bounding box based on specific properties\n",
    "* Select observations in a municipality and return depth\n",
    "* Get observations based on fields not available in the standard output dataframee"
   ]
  },
  {
   "cell_type": "code",
   "execution_count": 1,
   "metadata": {},
   "outputs": [],
   "source": [
    "%matplotlib inline\n",
    "import inspect, sys\n",
    "import warnings; warnings.simplefilter('ignore')"
   ]
  },
  {
   "cell_type": "code",
   "execution_count": 2,
   "metadata": {},
   "outputs": [],
   "source": [
    "# check pydov path\n",
    "import pydov"
   ]
  },
  {
   "cell_type": "markdown",
   "metadata": {},
   "source": [
    "## Get information about the datatype 'Observatie'"
   ]
  },
  {
   "cell_type": "code",
   "execution_count": 3,
   "metadata": {},
   "outputs": [],
   "source": [
    "from pydov.search.observatie import ObservatieSearch\n",
    "observatie = ObservatieSearch()"
   ]
  },
  {
   "cell_type": "markdown",
   "metadata": {},
   "source": [
    "A description is provided for the 'Observatie' datatype:"
   ]
  },
  {
   "cell_type": "code",
   "execution_count": 4,
   "metadata": {},
   "outputs": [
    {
     "data": {
      "text/plain": [
       "'DIT IS EEN TEST'"
      ]
     },
     "execution_count": 4,
     "metadata": {},
     "output_type": "execute_result"
    }
   ],
   "source": [
    "observatie.get_description()"
   ]
  },
  {
   "cell_type": "markdown",
   "metadata": {},
   "source": [
    "The different fields that are available for objects of the 'Observatie' datatype can be requested with the get_fields() method:"
   ]
  },
  {
   "cell_type": "code",
   "execution_count": 5,
   "metadata": {},
   "outputs": [
    {
     "name": "stdout",
     "output_type": "stream",
     "text": [
      "id\n",
      "pkey_observatie\n",
      "pkey_parent\n",
      "parameter\n",
      "parametergroep\n",
      "observatietype\n",
      "detectieconditie\n",
      "resultaat\n",
      "eenheid\n",
      "fenomeentijd\n",
      "resultaattijd\n",
      "methode\n",
      "uitvoerder\n",
      "diepte_van_m\n",
      "diepte_tot_m\n",
      "herkomst\n",
      "opmerking\n",
      "opdracht\n",
      "geom\n"
     ]
    }
   ],
   "source": [
    "fields = observatie.get_fields()\n",
    "\n",
    "# print available fields\n",
    "for f in fields.values():\n",
    "    print(f['name'])"
   ]
  },
  {
   "cell_type": "markdown",
   "metadata": {},
   "source": [
    "You can get more information of a field by requesting it from the fields dictionary:\n",
    "* *name*: name of the field\n",
    "* *definition*: definition of this field\n",
    "* *cost*: currently this is either 1 or 10, depending on the datasource of the field. It is an indication of the expected time it will take to retrieve this field in the output dataframe.\n",
    "* *notnull*: whether the field is mandatory or not\n",
    "* *type*: datatype of the values of this field"
   ]
  },
  {
   "cell_type": "code",
   "execution_count": 6,
   "metadata": {},
   "outputs": [
    {
     "data": {
      "text/plain": [
       "{'name': 'diepte_van_m',\n",
       " 'definition': None,\n",
       " 'type': 'float',\n",
       " 'list': False,\n",
       " 'notnull': False,\n",
       " 'query': True,\n",
       " 'cost': 1}"
      ]
     },
     "execution_count": 6,
     "metadata": {},
     "output_type": "execute_result"
    }
   ],
   "source": [
    "fields['diepte_van_m']"
   ]
  },
  {
   "cell_type": "markdown",
   "metadata": {},
   "source": [
    "## Example use cases"
   ]
  },
  {
   "cell_type": "markdown",
   "metadata": {},
   "source": [
    "### Get observations in a bounding box"
   ]
  },
  {
   "cell_type": "markdown",
   "metadata": {},
   "source": [
    "Get data for all the observations that are geographically located within the bounds of the specified box.\n",
    "\n",
    "The coordinates are in the Belgian Lambert72 (EPSG:31370) coordinate system and are given in the order of lower left x, lower left y, upper right x, upper right y."
   ]
  },
  {
   "cell_type": "code",
   "execution_count": 7,
   "metadata": {},
   "outputs": [
    {
     "name": "stdout",
     "output_type": "stream",
     "text": [
      "[000/001] .\n"
     ]
    },
    {
     "data": {
      "text/html": [
       "<div>\n",
       "<style scoped>\n",
       "    .dataframe tbody tr th:only-of-type {\n",
       "        vertical-align: middle;\n",
       "    }\n",
       "\n",
       "    .dataframe tbody tr th {\n",
       "        vertical-align: top;\n",
       "    }\n",
       "\n",
       "    .dataframe thead th {\n",
       "        text-align: right;\n",
       "    }\n",
       "</style>\n",
       "<table border=\"1\" class=\"dataframe\">\n",
       "  <thead>\n",
       "    <tr style=\"text-align: right;\">\n",
       "      <th></th>\n",
       "      <th>pkey_observatie</th>\n",
       "      <th>pkey_parent</th>\n",
       "      <th>fenomeentijd</th>\n",
       "      <th>diepte_van_m</th>\n",
       "      <th>diepte_tot_m</th>\n",
       "      <th>parametergroep</th>\n",
       "      <th>parameter</th>\n",
       "      <th>detectieconditie</th>\n",
       "      <th>resultaat</th>\n",
       "      <th>eenheid</th>\n",
       "      <th>methode</th>\n",
       "      <th>uitvoerder</th>\n",
       "      <th>herkomst</th>\n",
       "    </tr>\n",
       "  </thead>\n",
       "  <tbody>\n",
       "    <tr>\n",
       "      <th>0</th>\n",
       "      <td>https://oefen.dov.vlaanderen.be/data/observati...</td>\n",
       "      <td>https://oefen.dov.vlaanderen.be/data/monster/2...</td>\n",
       "      <td>2018-01-09</td>\n",
       "      <td>4.50</td>\n",
       "      <td>4.75</td>\n",
       "      <td>Onderkenning-grondsoort</td>\n",
       "      <td>Grondsoort volgens ASTM, de beschrijving (ASTM...</td>\n",
       "      <td>NaN</td>\n",
       "      <td>Silt with sand</td>\n",
       "      <td>NaN</td>\n",
       "      <td>Onbekend</td>\n",
       "      <td>VO - Afdeling Geotechniek</td>\n",
       "      <td>LABO</td>\n",
       "    </tr>\n",
       "    <tr>\n",
       "      <th>1</th>\n",
       "      <td>https://oefen.dov.vlaanderen.be/data/observati...</td>\n",
       "      <td>https://oefen.dov.vlaanderen.be/data/monster/2...</td>\n",
       "      <td>2018-01-09</td>\n",
       "      <td>NaN</td>\n",
       "      <td>NaN</td>\n",
       "      <td>Volumemassa-watergehalte</td>\n",
       "      <td>Korrelvolumemassa (korrelvolumemassa)</td>\n",
       "      <td>NaN</td>\n",
       "      <td>2.65000000</td>\n",
       "      <td>ng/l</td>\n",
       "      <td>Aangenomen</td>\n",
       "      <td>VO - Afdeling Geotechniek</td>\n",
       "      <td>LABO</td>\n",
       "    </tr>\n",
       "    <tr>\n",
       "      <th>2</th>\n",
       "      <td>https://oefen.dov.vlaanderen.be/data/observati...</td>\n",
       "      <td>https://oefen.dov.vlaanderen.be/data/monster/2...</td>\n",
       "      <td>2018-01-09</td>\n",
       "      <td>4.75</td>\n",
       "      <td>5.00</td>\n",
       "      <td>Onderkenning-grondsoort</td>\n",
       "      <td>Grondsoort volgens GEO-BGGG (Grondsoort BGGG)</td>\n",
       "      <td>NaN</td>\n",
       "      <td>kalkh. zandh. leem</td>\n",
       "      <td>NaN</td>\n",
       "      <td>Classificatie volgens de norm</td>\n",
       "      <td>VO - Afdeling Geotechniek</td>\n",
       "      <td>LABO</td>\n",
       "    </tr>\n",
       "    <tr>\n",
       "      <th>3</th>\n",
       "      <td>https://oefen.dov.vlaanderen.be/data/observati...</td>\n",
       "      <td>https://oefen.dov.vlaanderen.be/data/monster/2...</td>\n",
       "      <td>2018-01-09</td>\n",
       "      <td>NaN</td>\n",
       "      <td>NaN</td>\n",
       "      <td>Volumemassa-watergehalte</td>\n",
       "      <td>Watergehalte (watergehalte)</td>\n",
       "      <td>NaN</td>\n",
       "      <td>51.70000000</td>\n",
       "      <td>%</td>\n",
       "      <td>Gewichtsverlies na drogen in droogstoof</td>\n",
       "      <td>VO - Afdeling Geotechniek</td>\n",
       "      <td>LABO</td>\n",
       "    </tr>\n",
       "    <tr>\n",
       "      <th>4</th>\n",
       "      <td>https://oefen.dov.vlaanderen.be/data/observati...</td>\n",
       "      <td>https://oefen.dov.vlaanderen.be/data/monster/2...</td>\n",
       "      <td>2018-01-09</td>\n",
       "      <td>7.50</td>\n",
       "      <td>8.00</td>\n",
       "      <td>Onderkenning - proeven</td>\n",
       "      <td>Gehalte Kalkachtige stoffen (Gehalte Kalkachti...</td>\n",
       "      <td>NaN</td>\n",
       "      <td>19.10000000</td>\n",
       "      <td>%</td>\n",
       "      <td>Chemische reactie met waterstofchloride</td>\n",
       "      <td>VO - Afdeling Geotechniek</td>\n",
       "      <td>LABO</td>\n",
       "    </tr>\n",
       "  </tbody>\n",
       "</table>\n",
       "</div>"
      ],
      "text/plain": [
       "                                     pkey_observatie  \\\n",
       "0  https://oefen.dov.vlaanderen.be/data/observati...   \n",
       "1  https://oefen.dov.vlaanderen.be/data/observati...   \n",
       "2  https://oefen.dov.vlaanderen.be/data/observati...   \n",
       "3  https://oefen.dov.vlaanderen.be/data/observati...   \n",
       "4  https://oefen.dov.vlaanderen.be/data/observati...   \n",
       "\n",
       "                                         pkey_parent fenomeentijd  \\\n",
       "0  https://oefen.dov.vlaanderen.be/data/monster/2...   2018-01-09   \n",
       "1  https://oefen.dov.vlaanderen.be/data/monster/2...   2018-01-09   \n",
       "2  https://oefen.dov.vlaanderen.be/data/monster/2...   2018-01-09   \n",
       "3  https://oefen.dov.vlaanderen.be/data/monster/2...   2018-01-09   \n",
       "4  https://oefen.dov.vlaanderen.be/data/monster/2...   2018-01-09   \n",
       "\n",
       "   diepte_van_m  diepte_tot_m            parametergroep  \\\n",
       "0          4.50          4.75   Onderkenning-grondsoort   \n",
       "1           NaN           NaN  Volumemassa-watergehalte   \n",
       "2          4.75          5.00   Onderkenning-grondsoort   \n",
       "3           NaN           NaN  Volumemassa-watergehalte   \n",
       "4          7.50          8.00    Onderkenning - proeven   \n",
       "\n",
       "                                           parameter  detectieconditie  \\\n",
       "0  Grondsoort volgens ASTM, de beschrijving (ASTM...               NaN   \n",
       "1              Korrelvolumemassa (korrelvolumemassa)               NaN   \n",
       "2      Grondsoort volgens GEO-BGGG (Grondsoort BGGG)               NaN   \n",
       "3                        Watergehalte (watergehalte)               NaN   \n",
       "4  Gehalte Kalkachtige stoffen (Gehalte Kalkachti...               NaN   \n",
       "\n",
       "            resultaat eenheid                                  methode  \\\n",
       "0      Silt with sand     NaN                                 Onbekend   \n",
       "1          2.65000000    ng/l                               Aangenomen   \n",
       "2  kalkh. zandh. leem     NaN            Classificatie volgens de norm   \n",
       "3         51.70000000       %  Gewichtsverlies na drogen in droogstoof   \n",
       "4         19.10000000       %  Chemische reactie met waterstofchloride   \n",
       "\n",
       "                  uitvoerder herkomst  \n",
       "0  VO - Afdeling Geotechniek     LABO  \n",
       "1  VO - Afdeling Geotechniek     LABO  \n",
       "2  VO - Afdeling Geotechniek     LABO  \n",
       "3  VO - Afdeling Geotechniek     LABO  \n",
       "4  VO - Afdeling Geotechniek     LABO  "
      ]
     },
     "execution_count": 7,
     "metadata": {},
     "output_type": "execute_result"
    }
   ],
   "source": [
    "from pydov.util.location import Within, Box\n",
    "\n",
    "df = observatie.search(location=Within(Box(114000, 172310, 114005, 172315)), max_features = 10)\n",
    "df.head()"
   ]
  },
  {
   "cell_type": "markdown",
   "metadata": {},
   "source": [
    "The dataframe contains several observations made at the same location\n",
    "\n",
    "Using the *pkey_observatie* field one can request the details of these obsevrations in a webbrowser:"
   ]
  },
  {
   "cell_type": "code",
   "execution_count": 8,
   "metadata": {},
   "outputs": [
    {
     "name": "stdout",
     "output_type": "stream",
     "text": [
      "https://oefen.dov.vlaanderen.be/data/observatie/2022-3489734\n",
      "https://oefen.dov.vlaanderen.be/data/observatie/2022-1667272\n",
      "https://oefen.dov.vlaanderen.be/data/observatie/2022-1712990\n",
      "https://oefen.dov.vlaanderen.be/data/observatie/2022-6766131\n",
      "https://oefen.dov.vlaanderen.be/data/observatie/2022-2761923\n",
      "https://oefen.dov.vlaanderen.be/data/observatie/2022-2032153\n",
      "https://oefen.dov.vlaanderen.be/data/observatie/2022-3535597\n",
      "https://oefen.dov.vlaanderen.be/data/observatie/2022-4262285\n",
      "https://oefen.dov.vlaanderen.be/data/observatie/2022-2761922\n",
      "https://oefen.dov.vlaanderen.be/data/observatie/2022-2807310\n"
     ]
    }
   ],
   "source": [
    "for pkey_observatie in set(df.pkey_observatie):\n",
    "    print(pkey_observatie)"
   ]
  },
  {
   "cell_type": "markdown",
   "metadata": {},
   "source": [
    "### Get observations with specific properties"
   ]
  },
  {
   "cell_type": "markdown",
   "metadata": {},
   "source": [
    "Next to querying observations based on their geographic location within a bounding box, we can also search for observations matching a specific set of properties. For this we can build a query using a combination of the 'Observatie' fields and operators provided by the WFS protocol.\n",
    "\n",
    "A list of possible operators can be found below:"
   ]
  },
  {
   "cell_type": "code",
   "execution_count": 9,
   "metadata": {},
   "outputs": [
    {
     "data": {
      "text/plain": [
       "['PropertyIsBetween',\n",
       " 'PropertyIsEqualTo',\n",
       " 'PropertyIsGreaterThan',\n",
       " 'PropertyIsGreaterThanOrEqualTo',\n",
       " 'PropertyIsLessThan',\n",
       " 'PropertyIsLessThanOrEqualTo',\n",
       " 'PropertyIsLike',\n",
       " 'PropertyIsNotEqualTo',\n",
       " 'PropertyIsNull',\n",
       " 'SortProperty']"
      ]
     },
     "execution_count": 9,
     "metadata": {},
     "output_type": "execute_result"
    }
   ],
   "source": [
    "[i for i,j in inspect.getmembers(sys.modules['owslib.fes2'], inspect.isclass) if 'Property' in i]"
   ]
  },
  {
   "cell_type": "markdown",
   "metadata": {},
   "source": [
    "In this example we build a query using the *PropertyIsEqualTo* operator to find all observations concerning the parameter \"Watergehalte (watergehalte)\":"
   ]
  },
  {
   "cell_type": "code",
   "execution_count": 10,
   "metadata": {},
   "outputs": [
    {
     "name": "stdout",
     "output_type": "stream",
     "text": [
      "[000/001] .\n"
     ]
    },
    {
     "data": {
      "text/html": [
       "<div>\n",
       "<style scoped>\n",
       "    .dataframe tbody tr th:only-of-type {\n",
       "        vertical-align: middle;\n",
       "    }\n",
       "\n",
       "    .dataframe tbody tr th {\n",
       "        vertical-align: top;\n",
       "    }\n",
       "\n",
       "    .dataframe thead th {\n",
       "        text-align: right;\n",
       "    }\n",
       "</style>\n",
       "<table border=\"1\" class=\"dataframe\">\n",
       "  <thead>\n",
       "    <tr style=\"text-align: right;\">\n",
       "      <th></th>\n",
       "      <th>pkey_observatie</th>\n",
       "      <th>pkey_parent</th>\n",
       "      <th>fenomeentijd</th>\n",
       "      <th>diepte_van_m</th>\n",
       "      <th>diepte_tot_m</th>\n",
       "      <th>parametergroep</th>\n",
       "      <th>parameter</th>\n",
       "      <th>detectieconditie</th>\n",
       "      <th>resultaat</th>\n",
       "      <th>eenheid</th>\n",
       "      <th>methode</th>\n",
       "      <th>uitvoerder</th>\n",
       "      <th>herkomst</th>\n",
       "    </tr>\n",
       "  </thead>\n",
       "  <tbody>\n",
       "    <tr>\n",
       "      <th>0</th>\n",
       "      <td>https://oefen.dov.vlaanderen.be/data/observati...</td>\n",
       "      <td>https://oefen.dov.vlaanderen.be/data/monster/2...</td>\n",
       "      <td>2006-10-27</td>\n",
       "      <td>NaN</td>\n",
       "      <td>NaN</td>\n",
       "      <td>Volumemassa-watergehalte</td>\n",
       "      <td>Watergehalte (watergehalte)</td>\n",
       "      <td>NaN</td>\n",
       "      <td>20.60000000</td>\n",
       "      <td>NaN</td>\n",
       "      <td>Gewichtsverlies na drogen in droogstoof</td>\n",
       "      <td>VO - Afdeling Geotechniek</td>\n",
       "      <td>LABO</td>\n",
       "    </tr>\n",
       "    <tr>\n",
       "      <th>1</th>\n",
       "      <td>https://oefen.dov.vlaanderen.be/data/observati...</td>\n",
       "      <td>https://oefen.dov.vlaanderen.be/data/monster/2...</td>\n",
       "      <td>2005-03-22</td>\n",
       "      <td>NaN</td>\n",
       "      <td>NaN</td>\n",
       "      <td>Volumemassa-watergehalte</td>\n",
       "      <td>Watergehalte (watergehalte)</td>\n",
       "      <td>NaN</td>\n",
       "      <td>37.00000000</td>\n",
       "      <td>NaN</td>\n",
       "      <td>Gewichtsverlies na drogen in droogstoof</td>\n",
       "      <td>MVG - Afdeling Geotechniek</td>\n",
       "      <td>LABO</td>\n",
       "    </tr>\n",
       "    <tr>\n",
       "      <th>2</th>\n",
       "      <td>https://oefen.dov.vlaanderen.be/data/observati...</td>\n",
       "      <td>https://oefen.dov.vlaanderen.be/data/monster/2...</td>\n",
       "      <td>2008-06-27</td>\n",
       "      <td>NaN</td>\n",
       "      <td>NaN</td>\n",
       "      <td>Volumemassa-watergehalte</td>\n",
       "      <td>Watergehalte (watergehalte)</td>\n",
       "      <td>NaN</td>\n",
       "      <td>40.00000000</td>\n",
       "      <td>NaN</td>\n",
       "      <td>Gewichtsverlies na drogen in droogstoof</td>\n",
       "      <td>VO - Afdeling Geotechniek</td>\n",
       "      <td>LABO</td>\n",
       "    </tr>\n",
       "    <tr>\n",
       "      <th>3</th>\n",
       "      <td>https://oefen.dov.vlaanderen.be/data/observati...</td>\n",
       "      <td>https://oefen.dov.vlaanderen.be/data/monster/2...</td>\n",
       "      <td>2009-08-07</td>\n",
       "      <td>NaN</td>\n",
       "      <td>NaN</td>\n",
       "      <td>Volumemassa-watergehalte</td>\n",
       "      <td>Watergehalte (watergehalte)</td>\n",
       "      <td>NaN</td>\n",
       "      <td>35.30000000</td>\n",
       "      <td>NaN</td>\n",
       "      <td>Gewichtsverlies na drogen in droogstoof</td>\n",
       "      <td>VO - Afdeling Geotechniek</td>\n",
       "      <td>LABO</td>\n",
       "    </tr>\n",
       "    <tr>\n",
       "      <th>4</th>\n",
       "      <td>https://oefen.dov.vlaanderen.be/data/observati...</td>\n",
       "      <td>https://oefen.dov.vlaanderen.be/data/monster/2...</td>\n",
       "      <td>2009-09-28</td>\n",
       "      <td>NaN</td>\n",
       "      <td>NaN</td>\n",
       "      <td>Volumemassa-watergehalte</td>\n",
       "      <td>Watergehalte (watergehalte)</td>\n",
       "      <td>NaN</td>\n",
       "      <td>23.30000000</td>\n",
       "      <td>NaN</td>\n",
       "      <td>Gewichtsverlies na drogen in droogstoof</td>\n",
       "      <td>VO - Afdeling Geotechniek</td>\n",
       "      <td>LABO</td>\n",
       "    </tr>\n",
       "  </tbody>\n",
       "</table>\n",
       "</div>"
      ],
      "text/plain": [
       "                                     pkey_observatie  \\\n",
       "0  https://oefen.dov.vlaanderen.be/data/observati...   \n",
       "1  https://oefen.dov.vlaanderen.be/data/observati...   \n",
       "2  https://oefen.dov.vlaanderen.be/data/observati...   \n",
       "3  https://oefen.dov.vlaanderen.be/data/observati...   \n",
       "4  https://oefen.dov.vlaanderen.be/data/observati...   \n",
       "\n",
       "                                         pkey_parent fenomeentijd  \\\n",
       "0  https://oefen.dov.vlaanderen.be/data/monster/2...   2006-10-27   \n",
       "1  https://oefen.dov.vlaanderen.be/data/monster/2...   2005-03-22   \n",
       "2  https://oefen.dov.vlaanderen.be/data/monster/2...   2008-06-27   \n",
       "3  https://oefen.dov.vlaanderen.be/data/monster/2...   2009-08-07   \n",
       "4  https://oefen.dov.vlaanderen.be/data/monster/2...   2009-09-28   \n",
       "\n",
       "   diepte_van_m  diepte_tot_m            parametergroep  \\\n",
       "0           NaN           NaN  Volumemassa-watergehalte   \n",
       "1           NaN           NaN  Volumemassa-watergehalte   \n",
       "2           NaN           NaN  Volumemassa-watergehalte   \n",
       "3           NaN           NaN  Volumemassa-watergehalte   \n",
       "4           NaN           NaN  Volumemassa-watergehalte   \n",
       "\n",
       "                     parameter  detectieconditie    resultaat  eenheid  \\\n",
       "0  Watergehalte (watergehalte)               NaN  20.60000000      NaN   \n",
       "1  Watergehalte (watergehalte)               NaN  37.00000000      NaN   \n",
       "2  Watergehalte (watergehalte)               NaN  40.00000000      NaN   \n",
       "3  Watergehalte (watergehalte)               NaN  35.30000000      NaN   \n",
       "4  Watergehalte (watergehalte)               NaN  23.30000000      NaN   \n",
       "\n",
       "                                   methode                  uitvoerder  \\\n",
       "0  Gewichtsverlies na drogen in droogstoof   VO - Afdeling Geotechniek   \n",
       "1  Gewichtsverlies na drogen in droogstoof  MVG - Afdeling Geotechniek   \n",
       "2  Gewichtsverlies na drogen in droogstoof   VO - Afdeling Geotechniek   \n",
       "3  Gewichtsverlies na drogen in droogstoof   VO - Afdeling Geotechniek   \n",
       "4  Gewichtsverlies na drogen in droogstoof   VO - Afdeling Geotechniek   \n",
       "\n",
       "  herkomst  \n",
       "0     LABO  \n",
       "1     LABO  \n",
       "2     LABO  \n",
       "3     LABO  \n",
       "4     LABO  "
      ]
     },
     "execution_count": 10,
     "metadata": {},
     "output_type": "execute_result"
    }
   ],
   "source": [
    "from owslib.fes2 import PropertyIsEqualTo\n",
    "\n",
    "query = PropertyIsEqualTo(propertyname='parameter',\n",
    "                          literal='Watergehalte (watergehalte)')\n",
    "df = observatie.search(query=query, max_features = 10)\n",
    "\n",
    "df.head()"
   ]
  },
  {
   "cell_type": "markdown",
   "metadata": {},
   "source": [
    "Once again we can use the *pkey_observatie* as a permanent link to the information of these observations:"
   ]
  },
  {
   "cell_type": "code",
   "execution_count": 11,
   "metadata": {
    "scrolled": true
   },
   "outputs": [
    {
     "name": "stdout",
     "output_type": "stream",
     "text": [
      "https://oefen.dov.vlaanderen.be/data/observatie/2022-1301147\n",
      "https://oefen.dov.vlaanderen.be/data/observatie/2022-1301055\n",
      "https://oefen.dov.vlaanderen.be/data/observatie/2022-1301125\n",
      "https://oefen.dov.vlaanderen.be/data/observatie/2022-1301180\n",
      "https://oefen.dov.vlaanderen.be/data/observatie/2022-1301111\n",
      "https://oefen.dov.vlaanderen.be/data/observatie/2022-1301000\n",
      "https://oefen.dov.vlaanderen.be/data/observatie/2022-1301094\n",
      "https://oefen.dov.vlaanderen.be/data/observatie/2022-1301217\n",
      "https://oefen.dov.vlaanderen.be/data/observatie/2022-1300859\n",
      "https://oefen.dov.vlaanderen.be/data/observatie/2022-1301177\n"
     ]
    }
   ],
   "source": [
    "for pkey_observatie in set(df.pkey_observatie):\n",
    "    print(pkey_observatie)"
   ]
  },
  {
   "cell_type": "markdown",
   "metadata": {},
   "source": [
    "### Get observations in a bounding box based on specific properties"
   ]
  },
  {
   "cell_type": "markdown",
   "metadata": {},
   "source": [
    "We can combine a query on attributes with a query on geographic location to get the observations within a bounding box that have specific properties.\n",
    "\n",
    "The following example requests the observations where the parameter 'Watergehalte (watergehalte)' is greater than 30 and within the given bounding box.\n",
    "\n",
    "(Note that the datatype of the *literal* parameter should be a string, regardless of the datatype of this field in the output dataframe.)"
   ]
  },
  {
   "cell_type": "code",
   "execution_count": 12,
   "metadata": {},
   "outputs": [
    {
     "name": "stdout",
     "output_type": "stream",
     "text": [
      "[000/001] .\n"
     ]
    },
    {
     "data": {
      "text/html": [
       "<div>\n",
       "<style scoped>\n",
       "    .dataframe tbody tr th:only-of-type {\n",
       "        vertical-align: middle;\n",
       "    }\n",
       "\n",
       "    .dataframe tbody tr th {\n",
       "        vertical-align: top;\n",
       "    }\n",
       "\n",
       "    .dataframe thead th {\n",
       "        text-align: right;\n",
       "    }\n",
       "</style>\n",
       "<table border=\"1\" class=\"dataframe\">\n",
       "  <thead>\n",
       "    <tr style=\"text-align: right;\">\n",
       "      <th></th>\n",
       "      <th>pkey_observatie</th>\n",
       "      <th>pkey_parent</th>\n",
       "      <th>fenomeentijd</th>\n",
       "      <th>diepte_van_m</th>\n",
       "      <th>diepte_tot_m</th>\n",
       "      <th>parametergroep</th>\n",
       "      <th>parameter</th>\n",
       "      <th>detectieconditie</th>\n",
       "      <th>resultaat</th>\n",
       "      <th>eenheid</th>\n",
       "      <th>methode</th>\n",
       "      <th>uitvoerder</th>\n",
       "      <th>herkomst</th>\n",
       "    </tr>\n",
       "  </thead>\n",
       "  <tbody>\n",
       "    <tr>\n",
       "      <th>0</th>\n",
       "      <td>https://oefen.dov.vlaanderen.be/data/observati...</td>\n",
       "      <td>https://oefen.dov.vlaanderen.be/data/monster/2...</td>\n",
       "      <td>2018-01-09</td>\n",
       "      <td>NaN</td>\n",
       "      <td>NaN</td>\n",
       "      <td>Volumemassa-watergehalte</td>\n",
       "      <td>Watergehalte (watergehalte)</td>\n",
       "      <td>NaN</td>\n",
       "      <td>51.70000000</td>\n",
       "      <td>%</td>\n",
       "      <td>Gewichtsverlies na drogen in droogstoof</td>\n",
       "      <td>VO - Afdeling Geotechniek</td>\n",
       "      <td>LABO</td>\n",
       "    </tr>\n",
       "    <tr>\n",
       "      <th>1</th>\n",
       "      <td>https://oefen.dov.vlaanderen.be/data/observati...</td>\n",
       "      <td>https://oefen.dov.vlaanderen.be/data/monster/2...</td>\n",
       "      <td>2018-01-09</td>\n",
       "      <td>NaN</td>\n",
       "      <td>NaN</td>\n",
       "      <td>Volumemassa-watergehalte</td>\n",
       "      <td>Watergehalte (watergehalte)</td>\n",
       "      <td>NaN</td>\n",
       "      <td>36.30000000</td>\n",
       "      <td>%</td>\n",
       "      <td>Gewichtsverlies na drogen in droogstoof</td>\n",
       "      <td>VO - Afdeling Geotechniek</td>\n",
       "      <td>LABO</td>\n",
       "    </tr>\n",
       "  </tbody>\n",
       "</table>\n",
       "</div>"
      ],
      "text/plain": [
       "                                     pkey_observatie  \\\n",
       "0  https://oefen.dov.vlaanderen.be/data/observati...   \n",
       "1  https://oefen.dov.vlaanderen.be/data/observati...   \n",
       "\n",
       "                                         pkey_parent fenomeentijd  \\\n",
       "0  https://oefen.dov.vlaanderen.be/data/monster/2...   2018-01-09   \n",
       "1  https://oefen.dov.vlaanderen.be/data/monster/2...   2018-01-09   \n",
       "\n",
       "   diepte_van_m  diepte_tot_m            parametergroep  \\\n",
       "0           NaN           NaN  Volumemassa-watergehalte   \n",
       "1           NaN           NaN  Volumemassa-watergehalte   \n",
       "\n",
       "                     parameter  detectieconditie    resultaat eenheid  \\\n",
       "0  Watergehalte (watergehalte)               NaN  51.70000000       %   \n",
       "1  Watergehalte (watergehalte)               NaN  36.30000000       %   \n",
       "\n",
       "                                   methode                 uitvoerder herkomst  \n",
       "0  Gewichtsverlies na drogen in droogstoof  VO - Afdeling Geotechniek     LABO  \n",
       "1  Gewichtsverlies na drogen in droogstoof  VO - Afdeling Geotechniek     LABO  "
      ]
     },
     "execution_count": 12,
     "metadata": {},
     "output_type": "execute_result"
    }
   ],
   "source": [
    "from owslib.fes2 import PropertyIsGreaterThanOrEqualTo, And\n",
    "\n",
    "query = And([PropertyIsGreaterThanOrEqualTo(propertyname='resultaat',literal='30'),\n",
    "            PropertyIsEqualTo(propertyname='parameter', literal='Watergehalte (watergehalte)')])\n",
    "\n",
    "df = observatie.search(\n",
    "    location=Within(Box(114000, 172310, 114005, 172315)),\n",
    "    query=query,\n",
    "    max_features = 10\n",
    "    )\n",
    "\n",
    "df.head()"
   ]
  },
  {
   "cell_type": "markdown",
   "metadata": {},
   "source": [
    "We can look at one of theobservations in a webbrowser using its *pkey_observatie*:"
   ]
  },
  {
   "cell_type": "code",
   "execution_count": 13,
   "metadata": {},
   "outputs": [
    {
     "name": "stdout",
     "output_type": "stream",
     "text": [
      "https://oefen.dov.vlaanderen.be/data/observatie/2022-2761922\n",
      "https://oefen.dov.vlaanderen.be/data/observatie/2022-2533717\n"
     ]
    }
   ],
   "source": [
    "for pkey_observatie in set(df.pkey_observatie):\n",
    "    print(pkey_observatie)"
   ]
  },
  {
   "cell_type": "markdown",
   "metadata": {},
   "source": [
    "### Select observations with extra details"
   ]
  },
  {
   "cell_type": "markdown",
   "metadata": {},
   "source": [
    "We can ask extra info from an observation from the XML. In this example we want the details of an observation"
   ]
  },
  {
   "cell_type": "code",
   "execution_count": null,
   "metadata": {
    "scrolled": true
   },
   "outputs": [
    {
     "name": "stdout",
     "output_type": "stream",
     "text": [
      "[000/001] .\n",
      "[000/010] cccccccccc\n"
     ]
    },
    {
     "data": {
      "text/html": [
       "<div>\n",
       "<style scoped>\n",
       "    .dataframe tbody tr th:only-of-type {\n",
       "        vertical-align: middle;\n",
       "    }\n",
       "\n",
       "    .dataframe tbody tr th {\n",
       "        vertical-align: top;\n",
       "    }\n",
       "\n",
       "    .dataframe thead th {\n",
       "        text-align: right;\n",
       "    }\n",
       "</style>\n",
       "<table border=\"1\" class=\"dataframe\">\n",
       "  <thead>\n",
       "    <tr style=\"text-align: right;\">\n",
       "      <th></th>\n",
       "      <th>pkey_observatie</th>\n",
       "      <th>pkey_parent</th>\n",
       "      <th>fenomeentijd</th>\n",
       "      <th>diepte_van_m</th>\n",
       "      <th>diepte_tot_m</th>\n",
       "      <th>parametergroep</th>\n",
       "      <th>parameter</th>\n",
       "      <th>detectieconditie</th>\n",
       "      <th>resultaat</th>\n",
       "      <th>eenheid</th>\n",
       "      <th>methode</th>\n",
       "      <th>uitvoerder</th>\n",
       "      <th>herkomst</th>\n",
       "      <th>betrouwbaarheid</th>\n",
       "      <th>geobserveerd_object_type</th>\n",
       "      <th>geobserveerd_object_naam</th>\n",
       "      <th>geobserveerd_object_permkey</th>\n",
       "    </tr>\n",
       "  </thead>\n",
       "  <tbody>\n",
       "    <tr>\n",
       "      <th>0</th>\n",
       "      <td>https://oefen.dov.vlaanderen.be/data/observati...</td>\n",
       "      <td>https://oefen.dov.vlaanderen.be/data/bodemsite...</td>\n",
       "      <td>2024-01-03</td>\n",
       "      <td>NaN</td>\n",
       "      <td>NaN</td>\n",
       "      <td>Bodem_terrein</td>\n",
       "      <td>Vegetatie (vegetatie)</td>\n",
       "      <td>NaN</td>\n",
       "      <td>Grassen</td>\n",
       "      <td>-</td>\n",
       "      <td>Visuele waarneming (Cmon staalnameprotocol)</td>\n",
       "      <td>NaN</td>\n",
       "      <td>VELD</td>\n",
       "      <td>NaN</td>\n",
       "      <td>NaN</td>\n",
       "      <td>NaN</td>\n",
       "      <td>NaN</td>\n",
       "    </tr>\n",
       "    <tr>\n",
       "      <th>1</th>\n",
       "      <td>https://oefen.dov.vlaanderen.be/data/observati...</td>\n",
       "      <td>https://oefen.dov.vlaanderen.be/data/bodemsite...</td>\n",
       "      <td>2024-01-03</td>\n",
       "      <td>NaN</td>\n",
       "      <td>NaN</td>\n",
       "      <td>Bodem_terrein</td>\n",
       "      <td>Ah of Ap horizont - dikte (horizont_Ah_Ap_dikte)</td>\n",
       "      <td>NaN</td>\n",
       "      <td>2</td>\n",
       "      <td>cm</td>\n",
       "      <td>Cmon staalnameprotocol</td>\n",
       "      <td>NaN</td>\n",
       "      <td>VELD</td>\n",
       "      <td>NaN</td>\n",
       "      <td>NaN</td>\n",
       "      <td>NaN</td>\n",
       "      <td>NaN</td>\n",
       "    </tr>\n",
       "    <tr>\n",
       "      <th>2</th>\n",
       "      <td>https://oefen.dov.vlaanderen.be/data/observati...</td>\n",
       "      <td>https://oefen.dov.vlaanderen.be/data/bodemsite...</td>\n",
       "      <td>2024-01-03</td>\n",
       "      <td>NaN</td>\n",
       "      <td>NaN</td>\n",
       "      <td>Bodem_terrein</td>\n",
       "      <td>Landgebruik EUNIS (landgebruik_eunis)</td>\n",
       "      <td>NaN</td>\n",
       "      <td>R2 (Mesic grasslands)</td>\n",
       "      <td>NaN</td>\n",
       "      <td>Visuele waarneming (Cmon staalnameprotocol)</td>\n",
       "      <td>NaN</td>\n",
       "      <td>VELD</td>\n",
       "      <td>NaN</td>\n",
       "      <td>NaN</td>\n",
       "      <td>NaN</td>\n",
       "      <td>NaN</td>\n",
       "    </tr>\n",
       "    <tr>\n",
       "      <th>3</th>\n",
       "      <td>https://oefen.dov.vlaanderen.be/data/observati...</td>\n",
       "      <td>https://oefen.dov.vlaanderen.be/data/bodemsite...</td>\n",
       "      <td>2024-01-03</td>\n",
       "      <td>NaN</td>\n",
       "      <td>NaN</td>\n",
       "      <td>Bodem_terrein</td>\n",
       "      <td>Reliëf - positie op de helling (relief_helling...</td>\n",
       "      <td>NaN</td>\n",
       "      <td>Midden</td>\n",
       "      <td>NaN</td>\n",
       "      <td>Visuele waarneming (Cmon staalnameprotocol)</td>\n",
       "      <td>NaN</td>\n",
       "      <td>VELD</td>\n",
       "      <td>NaN</td>\n",
       "      <td>NaN</td>\n",
       "      <td>NaN</td>\n",
       "      <td>NaN</td>\n",
       "    </tr>\n",
       "    <tr>\n",
       "      <th>4</th>\n",
       "      <td>https://oefen.dov.vlaanderen.be/data/observati...</td>\n",
       "      <td>https://oefen.dov.vlaanderen.be/data/bodemsite...</td>\n",
       "      <td>2024-01-03</td>\n",
       "      <td>NaN</td>\n",
       "      <td>NaN</td>\n",
       "      <td>Bodem_terrein</td>\n",
       "      <td>Reliëf - aanwezigheid helling (relief_helling_...</td>\n",
       "      <td>NaN</td>\n",
       "      <td>Ja</td>\n",
       "      <td>NaN</td>\n",
       "      <td>Visuele waarneming (Cmon staalnameprotocol)</td>\n",
       "      <td>NaN</td>\n",
       "      <td>VELD</td>\n",
       "      <td>NaN</td>\n",
       "      <td>NaN</td>\n",
       "      <td>NaN</td>\n",
       "      <td>NaN</td>\n",
       "    </tr>\n",
       "  </tbody>\n",
       "</table>\n",
       "</div>"
      ],
      "text/plain": [
       "                                     pkey_observatie  \\\n",
       "0  https://oefen.dov.vlaanderen.be/data/observati...   \n",
       "1  https://oefen.dov.vlaanderen.be/data/observati...   \n",
       "2  https://oefen.dov.vlaanderen.be/data/observati...   \n",
       "3  https://oefen.dov.vlaanderen.be/data/observati...   \n",
       "4  https://oefen.dov.vlaanderen.be/data/observati...   \n",
       "\n",
       "                                         pkey_parent fenomeentijd  \\\n",
       "0  https://oefen.dov.vlaanderen.be/data/bodemsite...   2024-01-03   \n",
       "1  https://oefen.dov.vlaanderen.be/data/bodemsite...   2024-01-03   \n",
       "2  https://oefen.dov.vlaanderen.be/data/bodemsite...   2024-01-03   \n",
       "3  https://oefen.dov.vlaanderen.be/data/bodemsite...   2024-01-03   \n",
       "4  https://oefen.dov.vlaanderen.be/data/bodemsite...   2024-01-03   \n",
       "\n",
       "   diepte_van_m  diepte_tot_m parametergroep  \\\n",
       "0           NaN           NaN  Bodem_terrein   \n",
       "1           NaN           NaN  Bodem_terrein   \n",
       "2           NaN           NaN  Bodem_terrein   \n",
       "3           NaN           NaN  Bodem_terrein   \n",
       "4           NaN           NaN  Bodem_terrein   \n",
       "\n",
       "                                           parameter  detectieconditie  \\\n",
       "0                              Vegetatie (vegetatie)               NaN   \n",
       "1   Ah of Ap horizont - dikte (horizont_Ah_Ap_dikte)               NaN   \n",
       "2              Landgebruik EUNIS (landgebruik_eunis)               NaN   \n",
       "3  Reliëf - positie op de helling (relief_helling...               NaN   \n",
       "4  Reliëf - aanwezigheid helling (relief_helling_...               NaN   \n",
       "\n",
       "               resultaat eenheid                                      methode  \\\n",
       "0                Grassen       -  Visuele waarneming (Cmon staalnameprotocol)   \n",
       "1                      2      cm                       Cmon staalnameprotocol   \n",
       "2  R2 (Mesic grasslands)     NaN  Visuele waarneming (Cmon staalnameprotocol)   \n",
       "3                 Midden     NaN  Visuele waarneming (Cmon staalnameprotocol)   \n",
       "4                     Ja     NaN  Visuele waarneming (Cmon staalnameprotocol)   \n",
       "\n",
       "   uitvoerder herkomst  betrouwbaarheid  geobserveerd_object_type  \\\n",
       "0         NaN     VELD              NaN                       NaN   \n",
       "1         NaN     VELD              NaN                       NaN   \n",
       "2         NaN     VELD              NaN                       NaN   \n",
       "3         NaN     VELD              NaN                       NaN   \n",
       "4         NaN     VELD              NaN                       NaN   \n",
       "\n",
       "   geobserveerd_object_naam  geobserveerd_object_permkey  \n",
       "0                       NaN                          NaN  \n",
       "1                       NaN                          NaN  \n",
       "2                       NaN                          NaN  \n",
       "3                       NaN                          NaN  \n",
       "4                       NaN                          NaN  "
      ]
     },
     "execution_count": 2,
     "metadata": {},
     "output_type": "execute_result"
    }
   ],
   "source": [
    "from pydov.search.observatie import ObservatieSearch\n",
    "from pydov.types.observatie import Observatie, ObservatieDetails\n",
    "\n",
    "observatie = ObservatieSearch(objecttype=Observatie.with_extra_fields(ObservatieDetails)\n",
    "   )\n",
    "\n",
    "df = observatie.search(max_features=10)\n",
    "df.head()"
   ]
  },
  {
   "cell_type": "markdown",
   "metadata": {},
   "source": [
    "### Select observations with specific conditions and return the results"
   ]
  },
  {
   "cell_type": "markdown",
   "metadata": {},
   "source": [
    "We can limit the columns in the output dataframe by specifying the *return_fields* parameter in our search.\n",
    "\n",
    "In this example we query all the observations that have a value (resultaat) greater than 10 for parameter 'Watergehalte (watergehalte)' and\treturn its value (resultaat):"
   ]
  },
  {
   "cell_type": "code",
   "execution_count": 14,
   "metadata": {
    "scrolled": true
   },
   "outputs": [
    {
     "name": "stdout",
     "output_type": "stream",
     "text": [
      "[000/001] .\n"
     ]
    },
    {
     "data": {
      "text/html": [
       "<div>\n",
       "<style scoped>\n",
       "    .dataframe tbody tr th:only-of-type {\n",
       "        vertical-align: middle;\n",
       "    }\n",
       "\n",
       "    .dataframe tbody tr th {\n",
       "        vertical-align: top;\n",
       "    }\n",
       "\n",
       "    .dataframe thead th {\n",
       "        text-align: right;\n",
       "    }\n",
       "</style>\n",
       "<table border=\"1\" class=\"dataframe\">\n",
       "  <thead>\n",
       "    <tr style=\"text-align: right;\">\n",
       "      <th></th>\n",
       "      <th>resultaat</th>\n",
       "    </tr>\n",
       "  </thead>\n",
       "  <tbody>\n",
       "    <tr>\n",
       "      <th>0</th>\n",
       "      <td>20.60000000</td>\n",
       "    </tr>\n",
       "    <tr>\n",
       "      <th>1</th>\n",
       "      <td>37.00000000</td>\n",
       "    </tr>\n",
       "    <tr>\n",
       "      <th>2</th>\n",
       "      <td>40.00000000</td>\n",
       "    </tr>\n",
       "    <tr>\n",
       "      <th>3</th>\n",
       "      <td>35.30000000</td>\n",
       "    </tr>\n",
       "    <tr>\n",
       "      <th>4</th>\n",
       "      <td>23.30000000</td>\n",
       "    </tr>\n",
       "  </tbody>\n",
       "</table>\n",
       "</div>"
      ],
      "text/plain": [
       "     resultaat\n",
       "0  20.60000000\n",
       "1  37.00000000\n",
       "2  40.00000000\n",
       "3  35.30000000\n",
       "4  23.30000000"
      ]
     },
     "execution_count": 14,
     "metadata": {},
     "output_type": "execute_result"
    }
   ],
   "source": [
    "query = And([PropertyIsGreaterThanOrEqualTo(propertyname='resultaat',literal='10'),\n",
    "            PropertyIsEqualTo(propertyname='parameter', literal='Watergehalte (watergehalte)')])\n",
    "df = observatie.search(query=query,\n",
    "                   return_fields=('resultaat',),\n",
    "                      max_features=10)\n",
    "df.head()"
   ]
  },
  {
   "cell_type": "code",
   "execution_count": 15,
   "metadata": {},
   "outputs": [
    {
     "data": {
      "text/html": [
       "<div>\n",
       "<style scoped>\n",
       "    .dataframe tbody tr th:only-of-type {\n",
       "        vertical-align: middle;\n",
       "    }\n",
       "\n",
       "    .dataframe tbody tr th {\n",
       "        vertical-align: top;\n",
       "    }\n",
       "\n",
       "    .dataframe thead th {\n",
       "        text-align: right;\n",
       "    }\n",
       "</style>\n",
       "<table border=\"1\" class=\"dataframe\">\n",
       "  <thead>\n",
       "    <tr style=\"text-align: right;\">\n",
       "      <th></th>\n",
       "      <th>resultaat</th>\n",
       "    </tr>\n",
       "  </thead>\n",
       "  <tbody>\n",
       "    <tr>\n",
       "      <th>count</th>\n",
       "      <td>10</td>\n",
       "    </tr>\n",
       "    <tr>\n",
       "      <th>unique</th>\n",
       "      <td>10</td>\n",
       "    </tr>\n",
       "    <tr>\n",
       "      <th>top</th>\n",
       "      <td>20.60000000</td>\n",
       "    </tr>\n",
       "    <tr>\n",
       "      <th>freq</th>\n",
       "      <td>1</td>\n",
       "    </tr>\n",
       "  </tbody>\n",
       "</table>\n",
       "</div>"
      ],
      "text/plain": [
       "          resultaat\n",
       "count            10\n",
       "unique           10\n",
       "top     20.60000000\n",
       "freq              1"
      ]
     },
     "execution_count": 15,
     "metadata": {},
     "output_type": "execute_result"
    }
   ],
   "source": [
    "df.describe()"
   ]
  },
  {
   "cell_type": "markdown",
   "metadata": {},
   "source": [
    "By discarding the observations with a resultaat less than 50, we get a different result:"
   ]
  },
  {
   "cell_type": "code",
   "execution_count": 16,
   "metadata": {},
   "outputs": [
    {
     "data": {
      "text/html": [
       "<div>\n",
       "<style scoped>\n",
       "    .dataframe tbody tr th:only-of-type {\n",
       "        vertical-align: middle;\n",
       "    }\n",
       "\n",
       "    .dataframe tbody tr th {\n",
       "        vertical-align: top;\n",
       "    }\n",
       "\n",
       "    .dataframe thead th {\n",
       "        text-align: right;\n",
       "    }\n",
       "</style>\n",
       "<table border=\"1\" class=\"dataframe\">\n",
       "  <thead>\n",
       "    <tr style=\"text-align: right;\">\n",
       "      <th></th>\n",
       "      <th>resultaat</th>\n",
       "    </tr>\n",
       "  </thead>\n",
       "  <tbody>\n",
       "    <tr>\n",
       "      <th>count</th>\n",
       "      <td>9</td>\n",
       "    </tr>\n",
       "    <tr>\n",
       "      <th>unique</th>\n",
       "      <td>9</td>\n",
       "    </tr>\n",
       "    <tr>\n",
       "      <th>top</th>\n",
       "      <td>20.60000000</td>\n",
       "    </tr>\n",
       "    <tr>\n",
       "      <th>freq</th>\n",
       "      <td>1</td>\n",
       "    </tr>\n",
       "  </tbody>\n",
       "</table>\n",
       "</div>"
      ],
      "text/plain": [
       "          resultaat\n",
       "count             9\n",
       "unique            9\n",
       "top     20.60000000\n",
       "freq              1"
      ]
     },
     "execution_count": 16,
     "metadata": {},
     "output_type": "execute_result"
    }
   ],
   "source": [
    "df[df.resultaat.astype(float) < 50.0].describe()"
   ]
  },
  {
   "cell_type": "code",
   "execution_count": 17,
   "metadata": {},
   "outputs": [
    {
     "data": {
      "image/png": "[encoded data removed]",
      "text/plain": [
       "<Figure size 640x480 with 1 Axes>"
      ]
     },
     "metadata": {},
     "output_type": "display_data"
    }
   ],
   "source": [
    "ax = df[df.resultaat.astype(float) < 50.0].astype(float).boxplot()\n",
    "ax.set_ylabel(\"Water content(%)\");\n",
    "ax.set_title(\"Distribution of water content\");"
   ]
  },
  {
   "cell_type": "markdown",
   "metadata": {},
   "source": [
    "### Get observations based on fields not available in the standard output dataframe"
   ]
  },
  {
   "cell_type": "markdown",
   "metadata": {},
   "source": [
    "To keep the output dataframe size acceptable, not all available WFS fields are included in the standard output. However, one can use this information to select observations as illustrated below.\n",
    "\n",
    "For example, make a selection of the observations that have an 'opdracht':"
   ]
  },
  {
   "cell_type": "code",
   "execution_count": 18,
   "metadata": {},
   "outputs": [
    {
     "name": "stdout",
     "output_type": "stream",
     "text": [
      "[000/001] .\n"
     ]
    },
    {
     "data": {
      "text/html": [
       "<div>\n",
       "<style scoped>\n",
       "    .dataframe tbody tr th:only-of-type {\n",
       "        vertical-align: middle;\n",
       "    }\n",
       "\n",
       "    .dataframe tbody tr th {\n",
       "        vertical-align: top;\n",
       "    }\n",
       "\n",
       "    .dataframe thead th {\n",
       "        text-align: right;\n",
       "    }\n",
       "</style>\n",
       "<table border=\"1\" class=\"dataframe\">\n",
       "  <thead>\n",
       "    <tr style=\"text-align: right;\">\n",
       "      <th></th>\n",
       "      <th>pkey_observatie</th>\n",
       "      <th>opdracht</th>\n",
       "    </tr>\n",
       "  </thead>\n",
       "  <tbody>\n",
       "    <tr>\n",
       "      <th>0</th>\n",
       "      <td>https://oefen.dov.vlaanderen.be/data/observati...</td>\n",
       "      <td>|Curieuzeneuzen in de tuin 2021|Curieuzeneuzen...</td>\n",
       "    </tr>\n",
       "    <tr>\n",
       "      <th>1</th>\n",
       "      <td>https://oefen.dov.vlaanderen.be/data/observati...</td>\n",
       "      <td>|Curieuzeneuzen in de tuin 2021|Curieuzeneuzen...</td>\n",
       "    </tr>\n",
       "    <tr>\n",
       "      <th>2</th>\n",
       "      <td>https://oefen.dov.vlaanderen.be/data/observati...</td>\n",
       "      <td>|Curieuzeneuzen in de tuin|Curieuzeneuzen in d...</td>\n",
       "    </tr>\n",
       "    <tr>\n",
       "      <th>3</th>\n",
       "      <td>https://oefen.dov.vlaanderen.be/data/observati...</td>\n",
       "      <td>|Curieuzeneuzen in de tuin|Curieuzeneuzen in d...</td>\n",
       "    </tr>\n",
       "    <tr>\n",
       "      <th>4</th>\n",
       "      <td>https://oefen.dov.vlaanderen.be/data/observati...</td>\n",
       "      <td>|Curieuzeneuzen in de tuin|Curieuzeneuzen in d...</td>\n",
       "    </tr>\n",
       "  </tbody>\n",
       "</table>\n",
       "</div>"
      ],
      "text/plain": [
       "                                     pkey_observatie  \\\n",
       "0  https://oefen.dov.vlaanderen.be/data/observati...   \n",
       "1  https://oefen.dov.vlaanderen.be/data/observati...   \n",
       "2  https://oefen.dov.vlaanderen.be/data/observati...   \n",
       "3  https://oefen.dov.vlaanderen.be/data/observati...   \n",
       "4  https://oefen.dov.vlaanderen.be/data/observati...   \n",
       "\n",
       "                                            opdracht  \n",
       "0  |Curieuzeneuzen in de tuin 2021|Curieuzeneuzen...  \n",
       "1  |Curieuzeneuzen in de tuin 2021|Curieuzeneuzen...  \n",
       "2  |Curieuzeneuzen in de tuin|Curieuzeneuzen in d...  \n",
       "3  |Curieuzeneuzen in de tuin|Curieuzeneuzen in d...  \n",
       "4  |Curieuzeneuzen in de tuin|Curieuzeneuzen in d...  "
      ]
     },
     "execution_count": 18,
     "metadata": {},
     "output_type": "execute_result"
    }
   ],
   "source": [
    "from owslib.fes2 import Not\n",
    "from owslib.fes2 import PropertyIsNull\n",
    "\n",
    "query = Not([PropertyIsNull(propertyname='opdracht')])\n",
    "\n",
    "df = observatie.search(query=query, max_features = 10,\n",
    "                   return_fields=('pkey_observatie', 'opdracht'))\n",
    "df.head()"
   ]
  },
  {
   "cell_type": "markdown",
   "metadata": {},
   "source": [
    "## Visualize results"
   ]
  },
  {
   "cell_type": "markdown",
   "metadata": {},
   "source": [
    "Using Geopandas GeoDataFrame, we can easily display the results of our search on a map."
   ]
  },
  {
   "cell_type": "code",
   "execution_count": 19,
   "metadata": {},
   "outputs": [
    {
     "name": "stdout",
     "output_type": "stream",
     "text": [
      "[000/001] .\n"
     ]
    }
   ],
   "source": [
    "import geopandas as gpd\n",
    "\n",
    "query = And([PropertyIsGreaterThanOrEqualTo(propertyname='resultaat',literal='10'),\n",
    "            PropertyIsEqualTo(propertyname='parameter', literal='Watergehalte (watergehalte)')])\n",
    "df = observatie.search(query=query,\n",
    "                   return_fields=('pkey_observatie','resultaat','geom'), max_features = 100)"
   ]
  },
  {
   "cell_type": "code",
   "execution_count": 20,
   "metadata": {},
   "outputs": [
    {
     "data": {
      "text/html": [
       "<div style=\"width:100%;\"><div style=\"position:relative;width:100%;height:0;padding-bottom:60%;\"><span style=\"color:#565656\">Make this Notebook Trusted to load map: File -> Trust Notebook</span><iframe srcdoc=\"&lt;!DOCTYPE html&gt;\n",
       "&lt;html&gt;\n",
       "&lt;head&gt;\n",
       "    \n",
       "    &lt;meta http-equiv=&quot;content-type&quot; content=&quot;text/html; charset=UTF-8&quot; /&gt;\n",
       "    \n",
       "        &lt;script&gt;\n",
       "            L_NO_TOUCH = false;\n",
       "            L_DISABLE_3D = false;\n",
       "        &lt;/script&gt;\n",
       "    \n",
       "    &lt;style&gt;html, body {width: 100%;height: 100%;margin: 0;padding: 0;}&lt;/style&gt;\n",
       "    &lt;style&gt;#map {position:absolute;top:0;bottom:0;right:0;left:0;}&lt;/style&gt;\n",
       "    &lt;script src=&quot;https://cdn.jsdelivr.net/npm/leaflet@1.9.3/dist/leaflet.js&quot;&gt;&lt;/script&gt;\n",
       "    &lt;script src=&quot;https://code.jquery.com/jquery-3.7.1.min.js&quot;&gt;&lt;/script&gt;\n",
       "    &lt;script src=&quot;https://cdn.jsdelivr.net/npm/bootstrap@5.2.2/dist/js/bootstrap.bundle.min.js&quot;&gt;&lt;/script&gt;\n",
       "    &lt;script src=&quot;https://cdnjs.cloudflare.com/ajax/libs/Leaflet.awesome-markers/2.0.2/leaflet.awesome-markers.js&quot;&gt;&lt;/script&gt;\n",
       "    &lt;link rel=&quot;stylesheet&quot; href=&quot;https://cdn.jsdelivr.net/npm/leaflet@1.9.3/dist/leaflet.css&quot;/&gt;\n",
       "    &lt;link rel=&quot;stylesheet&quot; href=&quot;https://cdn.jsdelivr.net/npm/bootstrap@5.2.2/dist/css/bootstrap.min.css&quot;/&gt;\n",
       "    &lt;link rel=&quot;stylesheet&quot; href=&quot;https://netdna.bootstrapcdn.com/bootstrap/3.0.0/css/bootstrap-glyphicons.css&quot;/&gt;\n",
       "    &lt;link rel=&quot;stylesheet&quot; href=&quot;https://cdn.jsdelivr.net/npm/@fortawesome/fontawesome-free@6.2.0/css/all.min.css&quot;/&gt;\n",
       "    &lt;link rel=&quot;stylesheet&quot; href=&quot;https://cdnjs.cloudflare.com/ajax/libs/Leaflet.awesome-markers/2.0.2/leaflet.awesome-markers.css&quot;/&gt;\n",
       "    &lt;link rel=&quot;stylesheet&quot; href=&quot;https://cdn.jsdelivr.net/gh/python-visualization/folium/folium/templates/leaflet.awesome.rotate.min.css&quot;/&gt;\n",
       "    \n",
       "            &lt;meta name=&quot;viewport&quot; content=&quot;width=device-width,\n",
       "                initial-scale=1.0, maximum-scale=1.0, user-scalable=no&quot; /&gt;\n",
       "            &lt;style&gt;\n",
       "                #map_ed192256d0d1d1bd08b51153ec2dcc5f {\n",
       "                    position: relative;\n",
       "                    width: 100.0%;\n",
       "                    height: 100.0%;\n",
       "                    left: 0.0%;\n",
       "                    top: 0.0%;\n",
       "                }\n",
       "                .leaflet-container { font-size: 1rem; }\n",
       "            &lt;/style&gt;\n",
       "        \n",
       "    \n",
       "                    &lt;style&gt;\n",
       "                        .foliumtooltip {\n",
       "                            \n",
       "                        }\n",
       "                       .foliumtooltip table{\n",
       "                            margin: auto;\n",
       "                        }\n",
       "                        .foliumtooltip tr{\n",
       "                            text-align: left;\n",
       "                        }\n",
       "                        .foliumtooltip th{\n",
       "                            padding: 2px; padding-right: 8px;\n",
       "                        }\n",
       "                    &lt;/style&gt;\n",
       "            \n",
       "&lt;/head&gt;\n",
       "&lt;body&gt;\n",
       "    \n",
       "    \n",
       "            &lt;div class=&quot;folium-map&quot; id=&quot;map_ed192256d0d1d1bd08b51153ec2dcc5f&quot; &gt;&lt;/div&gt;\n",
       "        \n",
       "&lt;/body&gt;\n",
       "&lt;script&gt;\n",
       "    \n",
       "    \n",
       "            var map_ed192256d0d1d1bd08b51153ec2dcc5f = L.map(\n",
       "                &quot;map_ed192256d0d1d1bd08b51153ec2dcc5f&quot;,\n",
       "                {\n",
       "                    center: [51.07332537673116, 4.303892322582859],\n",
       "                    crs: L.CRS.EPSG3857,\n",
       "                    ...{\n",
       "  &quot;zoom&quot;: 10,\n",
       "  &quot;zoomControl&quot;: true,\n",
       "  &quot;preferCanvas&quot;: false,\n",
       "}\n",
       "\n",
       "                }\n",
       "            );\n",
       "            L.control.scale().addTo(map_ed192256d0d1d1bd08b51153ec2dcc5f);\n",
       "\n",
       "            \n",
       "\n",
       "        \n",
       "    \n",
       "            var tile_layer_db8403230fd6b1a910a59ba173c52768 = L.tileLayer(\n",
       "                &quot;https://tile.openstreetmap.org/{z}/{x}/{y}.png&quot;,\n",
       "                {\n",
       "  &quot;minZoom&quot;: 0,\n",
       "  &quot;maxZoom&quot;: 19,\n",
       "  &quot;maxNativeZoom&quot;: 19,\n",
       "  &quot;noWrap&quot;: false,\n",
       "  &quot;attribution&quot;: &quot;\\u0026copy; \\u003ca href=\\&quot;https://www.openstreetmap.org/copyright\\&quot;\\u003eOpenStreetMap\\u003c/a\\u003e contributors&quot;,\n",
       "  &quot;subdomains&quot;: &quot;abc&quot;,\n",
       "  &quot;detectRetina&quot;: false,\n",
       "  &quot;tms&quot;: false,\n",
       "  &quot;opacity&quot;: 1,\n",
       "}\n",
       "\n",
       "            );\n",
       "        \n",
       "    \n",
       "            tile_layer_db8403230fd6b1a910a59ba173c52768.addTo(map_ed192256d0d1d1bd08b51153ec2dcc5f);\n",
       "        \n",
       "    \n",
       "            map_ed192256d0d1d1bd08b51153ec2dcc5f.fitBounds(\n",
       "                [[50.796909104448716, 2.84279521629672], [51.34974164901361, 5.764989428869]],\n",
       "                {}\n",
       "            );\n",
       "        \n",
       "    \n",
       "        function geo_json_6c0b834ae1b1b7a2e42eba9f53060220_styler(feature) {\n",
       "            switch(feature.id) {\n",
       "                default:\n",
       "                    return {&quot;fillOpacity&quot;: 0.5, &quot;weight&quot;: 2};\n",
       "            }\n",
       "        }\n",
       "        function geo_json_6c0b834ae1b1b7a2e42eba9f53060220_highlighter(feature) {\n",
       "            switch(feature.id) {\n",
       "                default:\n",
       "                    return {&quot;fillOpacity&quot;: 0.75};\n",
       "            }\n",
       "        }\n",
       "        function geo_json_6c0b834ae1b1b7a2e42eba9f53060220_pointToLayer(feature, latlng) {\n",
       "            var opts = {&quot;bubblingMouseEvents&quot;: true, &quot;color&quot;: &quot;#3388ff&quot;, &quot;dashArray&quot;: null, &quot;dashOffset&quot;: null, &quot;fill&quot;: true, &quot;fillColor&quot;: &quot;#3388ff&quot;, &quot;fillOpacity&quot;: 0.2, &quot;fillRule&quot;: &quot;evenodd&quot;, &quot;lineCap&quot;: &quot;round&quot;, &quot;lineJoin&quot;: &quot;round&quot;, &quot;opacity&quot;: 1.0, &quot;radius&quot;: 2, &quot;stroke&quot;: true, &quot;weight&quot;: 3};\n",
       "            \n",
       "            let style = geo_json_6c0b834ae1b1b7a2e42eba9f53060220_styler(feature)\n",
       "            Object.assign(opts, style)\n",
       "            \n",
       "            return new L.CircleMarker(latlng, opts)\n",
       "        }\n",
       "\n",
       "        function geo_json_6c0b834ae1b1b7a2e42eba9f53060220_onEachFeature(feature, layer) {\n",
       "            layer.on({\n",
       "                mouseout: function(e) {\n",
       "                    if(typeof e.target.setStyle === &quot;function&quot;){\n",
       "                            geo_json_6c0b834ae1b1b7a2e42eba9f53060220.resetStyle(e.target);\n",
       "                    }\n",
       "                },\n",
       "                mouseover: function(e) {\n",
       "                    if(typeof e.target.setStyle === &quot;function&quot;){\n",
       "                        const highlightStyle = geo_json_6c0b834ae1b1b7a2e42eba9f53060220_highlighter(e.target.feature)\n",
       "                        e.target.setStyle(highlightStyle);\n",
       "                    }\n",
       "                },\n",
       "            });\n",
       "        };\n",
       "        var geo_json_6c0b834ae1b1b7a2e42eba9f53060220 = L.geoJson(null, {\n",
       "                onEachFeature: geo_json_6c0b834ae1b1b7a2e42eba9f53060220_onEachFeature,\n",
       "            \n",
       "                style: geo_json_6c0b834ae1b1b7a2e42eba9f53060220_styler,\n",
       "                pointToLayer: geo_json_6c0b834ae1b1b7a2e42eba9f53060220_pointToLayer,\n",
       "            ...{\n",
       "}\n",
       "        });\n",
       "\n",
       "        function geo_json_6c0b834ae1b1b7a2e42eba9f53060220_add (data) {\n",
       "            geo_json_6c0b834ae1b1b7a2e42eba9f53060220\n",
       "                .addData(data);\n",
       "        }\n",
       "            geo_json_6c0b834ae1b1b7a2e42eba9f53060220_add({&quot;bbox&quot;: [2.84279521629672, 50.796909104448716, 5.764989428869, 51.34974164901361], &quot;features&quot;: [{&quot;bbox&quot;: [4.045795446136615, 50.93760356827244, 4.045795446136615, 50.93760356827244], &quot;geometry&quot;: {&quot;coordinates&quot;: [4.045795446136615, 50.93760356827244], &quot;type&quot;: &quot;Point&quot;}, &quot;id&quot;: &quot;0&quot;, &quot;properties&quot;: {&quot;pkey_observatie&quot;: &quot;https://oefen.dov.vlaanderen.be/data/observatie/2022-1300859&quot;, &quot;resultaat&quot;: &quot;20.60000000&quot;}, &quot;type&quot;: &quot;Feature&quot;}, {&quot;bbox&quot;: [2.84279521629672, 51.20027644056354, 2.84279521629672, 51.20027644056354], &quot;geometry&quot;: {&quot;coordinates&quot;: [2.84279521629672, 51.20027644056354], &quot;type&quot;: &quot;Point&quot;}, &quot;id&quot;: &quot;1&quot;, &quot;properties&quot;: {&quot;pkey_observatie&quot;: &quot;https://oefen.dov.vlaanderen.be/data/observatie/2022-1301000&quot;, &quot;resultaat&quot;: &quot;37.00000000&quot;}, &quot;type&quot;: &quot;Feature&quot;}, {&quot;bbox&quot;: [3.694931425771298, 51.09697863210993, 3.694931425771298, 51.09697863210993], &quot;geometry&quot;: {&quot;coordinates&quot;: [3.694931425771298, 51.09697863210993], &quot;type&quot;: &quot;Point&quot;}, &quot;id&quot;: &quot;2&quot;, &quot;properties&quot;: {&quot;pkey_observatie&quot;: &quot;https://oefen.dov.vlaanderen.be/data/observatie/2022-1301055&quot;, &quot;resultaat&quot;: &quot;40.00000000&quot;}, &quot;type&quot;: &quot;Feature&quot;}, {&quot;bbox&quot;: [4.13636455705027, 51.05687838890369, 4.13636455705027, 51.05687838890369], &quot;geometry&quot;: {&quot;coordinates&quot;: [4.13636455705027, 51.05687838890369], &quot;type&quot;: &quot;Point&quot;}, &quot;id&quot;: &quot;3&quot;, &quot;properties&quot;: {&quot;pkey_observatie&quot;: &quot;https://oefen.dov.vlaanderen.be/data/observatie/2022-1301094&quot;, &quot;resultaat&quot;: &quot;35.30000000&quot;}, &quot;type&quot;: &quot;Feature&quot;}, {&quot;bbox&quot;: [3.71680358683282, 51.105420634062575, 3.71680358683282, 51.105420634062575], &quot;geometry&quot;: {&quot;coordinates&quot;: [3.71680358683282, 51.105420634062575], &quot;type&quot;: &quot;Point&quot;}, &quot;id&quot;: &quot;4&quot;, &quot;properties&quot;: {&quot;pkey_observatie&quot;: &quot;https://oefen.dov.vlaanderen.be/data/observatie/2022-1301111&quot;, &quot;resultaat&quot;: &quot;23.30000000&quot;}, &quot;type&quot;: &quot;Feature&quot;}, {&quot;bbox&quot;: [4.441260841915706, 51.0531281585471, 4.441260841915706, 51.0531281585471], &quot;geometry&quot;: {&quot;coordinates&quot;: [4.441260841915706, 51.0531281585471], &quot;type&quot;: &quot;Point&quot;}, &quot;id&quot;: &quot;5&quot;, &quot;properties&quot;: {&quot;pkey_observatie&quot;: &quot;https://oefen.dov.vlaanderen.be/data/observatie/2022-1301125&quot;, &quot;resultaat&quot;: &quot;57.00000000&quot;}, &quot;type&quot;: &quot;Feature&quot;}, {&quot;bbox&quot;: [4.085306093491406, 51.101598809939325, 4.085306093491406, 51.101598809939325], &quot;geometry&quot;: {&quot;coordinates&quot;: [4.085306093491406, 51.101598809939325], &quot;type&quot;: &quot;Point&quot;}, &quot;id&quot;: &quot;6&quot;, &quot;properties&quot;: {&quot;pkey_observatie&quot;: &quot;https://oefen.dov.vlaanderen.be/data/observatie/2022-1301147&quot;, &quot;resultaat&quot;: &quot;23.80000000&quot;}, &quot;type&quot;: &quot;Feature&quot;}, {&quot;bbox&quot;: [3.204348099465496, 51.2325826923581, 3.204348099465496, 51.2325826923581], &quot;geometry&quot;: {&quot;coordinates&quot;: [3.204348099465496, 51.2325826923581], &quot;type&quot;: &quot;Point&quot;}, &quot;id&quot;: &quot;7&quot;, &quot;properties&quot;: {&quot;pkey_observatie&quot;: &quot;https://oefen.dov.vlaanderen.be/data/observatie/2022-1301177&quot;, &quot;resultaat&quot;: &quot;42.30000000&quot;}, &quot;type&quot;: &quot;Feature&quot;}, {&quot;bbox&quot;: [4.187381594063657, 51.1513398720133, 4.187381594063657, 51.1513398720133], &quot;geometry&quot;: {&quot;coordinates&quot;: [4.187381594063657, 51.1513398720133], &quot;type&quot;: &quot;Point&quot;}, &quot;id&quot;: &quot;8&quot;, &quot;properties&quot;: {&quot;pkey_observatie&quot;: &quot;https://oefen.dov.vlaanderen.be/data/observatie/2022-1301180&quot;, &quot;resultaat&quot;: &quot;27.00000000&quot;}, &quot;type&quot;: &quot;Feature&quot;}, {&quot;bbox&quot;: [4.403418182121605, 51.242705794166255, 4.403418182121605, 51.242705794166255], &quot;geometry&quot;: {&quot;coordinates&quot;: [4.403418182121605, 51.242705794166255], &quot;type&quot;: &quot;Point&quot;}, &quot;id&quot;: &quot;9&quot;, &quot;properties&quot;: {&quot;pkey_observatie&quot;: &quot;https://oefen.dov.vlaanderen.be/data/observatie/2022-1301217&quot;, &quot;resultaat&quot;: &quot;26.60000000&quot;}, &quot;type&quot;: &quot;Feature&quot;}, {&quot;bbox&quot;: [4.423158108837018, 51.23529905802633, 4.423158108837018, 51.23529905802633], &quot;geometry&quot;: {&quot;coordinates&quot;: [4.423158108837018, 51.23529905802633], &quot;type&quot;: &quot;Point&quot;}, &quot;id&quot;: &quot;10&quot;, &quot;properties&quot;: {&quot;pkey_observatie&quot;: &quot;https://oefen.dov.vlaanderen.be/data/observatie/2022-1301342&quot;, &quot;resultaat&quot;: &quot;58.70000000&quot;}, &quot;type&quot;: &quot;Feature&quot;}, {&quot;bbox&quot;: [3.826008386023502, 51.19193043891006, 3.826008386023502, 51.19193043891006], &quot;geometry&quot;: {&quot;coordinates&quot;: [3.826008386023502, 51.19193043891006], &quot;type&quot;: &quot;Point&quot;}, &quot;id&quot;: &quot;11&quot;, &quot;properties&quot;: {&quot;pkey_observatie&quot;: &quot;https://oefen.dov.vlaanderen.be/data/observatie/2022-1301348&quot;, &quot;resultaat&quot;: &quot;17.30000000&quot;}, &quot;type&quot;: &quot;Feature&quot;}, {&quot;bbox&quot;: [5.764989428869, 51.05894204170803, 5.764989428869, 51.05894204170803], &quot;geometry&quot;: {&quot;coordinates&quot;: [5.764989428869, 51.05894204170803], &quot;type&quot;: &quot;Point&quot;}, &quot;id&quot;: &quot;12&quot;, &quot;properties&quot;: {&quot;pkey_observatie&quot;: &quot;https://oefen.dov.vlaanderen.be/data/observatie/2022-1301382&quot;, &quot;resultaat&quot;: &quot;21.70000000&quot;}, &quot;type&quot;: &quot;Feature&quot;}, {&quot;bbox&quot;: [3.2000654707308662, 51.32063559326272, 3.2000654707308662, 51.32063559326272], &quot;geometry&quot;: {&quot;coordinates&quot;: [3.2000654707308662, 51.32063559326272], &quot;type&quot;: &quot;Point&quot;}, &quot;id&quot;: &quot;13&quot;, &quot;properties&quot;: {&quot;pkey_observatie&quot;: &quot;https://oefen.dov.vlaanderen.be/data/observatie/2022-1301401&quot;, &quot;resultaat&quot;: &quot;21.90000000&quot;}, &quot;type&quot;: &quot;Feature&quot;}, {&quot;bbox&quot;: [3.203477929134583, 51.334118676629544, 3.203477929134583, 51.334118676629544], &quot;geometry&quot;: {&quot;coordinates&quot;: [3.203477929134583, 51.334118676629544], &quot;type&quot;: &quot;Point&quot;}, &quot;id&quot;: &quot;14&quot;, &quot;properties&quot;: {&quot;pkey_observatie&quot;: &quot;https://oefen.dov.vlaanderen.be/data/observatie/2022-1301408&quot;, &quot;resultaat&quot;: &quot;35.10000000&quot;}, &quot;type&quot;: &quot;Feature&quot;}, {&quot;bbox&quot;: [3.804566969698874, 51.0055874131049, 3.804566969698874, 51.0055874131049], &quot;geometry&quot;: {&quot;coordinates&quot;: [3.804566969698874, 51.0055874131049], &quot;type&quot;: &quot;Point&quot;}, &quot;id&quot;: &quot;15&quot;, &quot;properties&quot;: {&quot;pkey_observatie&quot;: &quot;https://oefen.dov.vlaanderen.be/data/observatie/2022-1301409&quot;, &quot;resultaat&quot;: &quot;89.50000000&quot;}, &quot;type&quot;: &quot;Feature&quot;}, {&quot;bbox&quot;: [4.367555355193359, 51.23124286863259, 4.367555355193359, 51.23124286863259], &quot;geometry&quot;: {&quot;coordinates&quot;: [4.367555355193359, 51.23124286863259], &quot;type&quot;: &quot;Point&quot;}, &quot;id&quot;: &quot;16&quot;, &quot;properties&quot;: {&quot;pkey_observatie&quot;: &quot;https://oefen.dov.vlaanderen.be/data/observatie/2022-1301511&quot;, &quot;resultaat&quot;: &quot;17.80000000&quot;}, &quot;type&quot;: &quot;Feature&quot;}, {&quot;bbox&quot;: [4.1702109561705845, 50.85668040319895, 4.1702109561705845, 50.85668040319895], &quot;geometry&quot;: {&quot;coordinates&quot;: [4.1702109561705845, 50.85668040319895], &quot;type&quot;: &quot;Point&quot;}, &quot;id&quot;: &quot;17&quot;, &quot;properties&quot;: {&quot;pkey_observatie&quot;: &quot;https://oefen.dov.vlaanderen.be/data/observatie/2022-1301518&quot;, &quot;resultaat&quot;: &quot;36.34000000&quot;}, &quot;type&quot;: &quot;Feature&quot;}, {&quot;bbox&quot;: [3.5093544456808496, 50.98037895110596, 3.5093544456808496, 50.98037895110596], &quot;geometry&quot;: {&quot;coordinates&quot;: [3.5093544456808496, 50.98037895110596], &quot;type&quot;: &quot;Point&quot;}, &quot;id&quot;: &quot;18&quot;, &quot;properties&quot;: {&quot;pkey_observatie&quot;: &quot;https://oefen.dov.vlaanderen.be/data/observatie/2022-1301570&quot;, &quot;resultaat&quot;: &quot;42.30000000&quot;}, &quot;type&quot;: &quot;Feature&quot;}, {&quot;bbox&quot;: [3.6562540380306787, 50.956367519868664, 3.6562540380306787, 50.956367519868664], &quot;geometry&quot;: {&quot;coordinates&quot;: [3.6562540380306787, 50.956367519868664], &quot;type&quot;: &quot;Point&quot;}, &quot;id&quot;: &quot;19&quot;, &quot;properties&quot;: {&quot;pkey_observatie&quot;: &quot;https://oefen.dov.vlaanderen.be/data/observatie/2022-1301588&quot;, &quot;resultaat&quot;: &quot;23.80000000&quot;}, &quot;type&quot;: &quot;Feature&quot;}, {&quot;bbox&quot;: [4.336683194090215, 51.09491047135363, 4.336683194090215, 51.09491047135363], &quot;geometry&quot;: {&quot;coordinates&quot;: [4.336683194090215, 51.09491047135363], &quot;type&quot;: &quot;Point&quot;}, &quot;id&quot;: &quot;20&quot;, &quot;properties&quot;: {&quot;pkey_observatie&quot;: &quot;https://oefen.dov.vlaanderen.be/data/observatie/2022-1301633&quot;, &quot;resultaat&quot;: &quot;22.70000000&quot;}, &quot;type&quot;: &quot;Feature&quot;}, {&quot;bbox&quot;: [4.472929468842297, 51.07300865306197, 4.472929468842297, 51.07300865306197], &quot;geometry&quot;: {&quot;coordinates&quot;: [4.472929468842297, 51.07300865306197], &quot;type&quot;: &quot;Point&quot;}, &quot;id&quot;: &quot;21&quot;, &quot;properties&quot;: {&quot;pkey_observatie&quot;: &quot;https://oefen.dov.vlaanderen.be/data/observatie/2022-1301641&quot;, &quot;resultaat&quot;: &quot;208.80000000&quot;}, &quot;type&quot;: &quot;Feature&quot;}, {&quot;bbox&quot;: [4.29840713136196, 50.809631527448786, 4.29840713136196, 50.809631527448786], &quot;geometry&quot;: {&quot;coordinates&quot;: [4.29840713136196, 50.809631527448786], &quot;type&quot;: &quot;Point&quot;}, &quot;id&quot;: &quot;22&quot;, &quot;properties&quot;: {&quot;pkey_observatie&quot;: &quot;https://oefen.dov.vlaanderen.be/data/observatie/2022-1303769&quot;, &quot;resultaat&quot;: &quot;73.30000000&quot;}, &quot;type&quot;: &quot;Feature&quot;}, {&quot;bbox&quot;: [4.402156179550088, 51.23979323158236, 4.402156179550088, 51.23979323158236], &quot;geometry&quot;: {&quot;coordinates&quot;: [4.402156179550088, 51.23979323158236], &quot;type&quot;: &quot;Point&quot;}, &quot;id&quot;: &quot;23&quot;, &quot;properties&quot;: {&quot;pkey_observatie&quot;: &quot;https://oefen.dov.vlaanderen.be/data/observatie/2022-1304013&quot;, &quot;resultaat&quot;: &quot;25.40000000&quot;}, &quot;type&quot;: &quot;Feature&quot;}, {&quot;bbox&quot;: [4.427888483863647, 51.24507506386192, 4.427888483863647, 51.24507506386192], &quot;geometry&quot;: {&quot;coordinates&quot;: [4.427888483863647, 51.24507506386192], &quot;type&quot;: &quot;Point&quot;}, &quot;id&quot;: &quot;24&quot;, &quot;properties&quot;: {&quot;pkey_observatie&quot;: &quot;https://oefen.dov.vlaanderen.be/data/observatie/2022-1310172&quot;, &quot;resultaat&quot;: &quot;129.1&quot;}, &quot;type&quot;: &quot;Feature&quot;}, {&quot;bbox&quot;: [4.398885713511375, 51.24024516297225, 4.398885713511375, 51.24024516297225], &quot;geometry&quot;: {&quot;coordinates&quot;: [4.398885713511375, 51.24024516297225], &quot;type&quot;: &quot;Point&quot;}, &quot;id&quot;: &quot;25&quot;, &quot;properties&quot;: {&quot;pkey_observatie&quot;: &quot;https://oefen.dov.vlaanderen.be/data/observatie/2022-1313142&quot;, &quot;resultaat&quot;: &quot;23.6&quot;}, &quot;type&quot;: &quot;Feature&quot;}, {&quot;bbox&quot;: [4.296551799874446, 51.297095936490614, 4.296551799874446, 51.297095936490614], &quot;geometry&quot;: {&quot;coordinates&quot;: [4.296551799874446, 51.297095936490614], &quot;type&quot;: &quot;Point&quot;}, &quot;id&quot;: &quot;26&quot;, &quot;properties&quot;: {&quot;pkey_observatie&quot;: &quot;https://oefen.dov.vlaanderen.be/data/observatie/2022-2758777&quot;, &quot;resultaat&quot;: &quot;26.20000000&quot;}, &quot;type&quot;: &quot;Feature&quot;}, {&quot;bbox&quot;: [4.296551799874446, 51.297095936490614, 4.296551799874446, 51.297095936490614], &quot;geometry&quot;: {&quot;coordinates&quot;: [4.296551799874446, 51.297095936490614], &quot;type&quot;: &quot;Point&quot;}, &quot;id&quot;: &quot;27&quot;, &quot;properties&quot;: {&quot;pkey_observatie&quot;: &quot;https://oefen.dov.vlaanderen.be/data/observatie/2022-2758779&quot;, &quot;resultaat&quot;: &quot;23.70000000&quot;}, &quot;type&quot;: &quot;Feature&quot;}, {&quot;bbox&quot;: [3.959631803728913, 51.01239827327494, 3.959631803728913, 51.01239827327494], &quot;geometry&quot;: {&quot;coordinates&quot;: [3.959631803728913, 51.01239827327494], &quot;type&quot;: &quot;Point&quot;}, &quot;id&quot;: &quot;28&quot;, &quot;properties&quot;: {&quot;pkey_observatie&quot;: &quot;https://oefen.dov.vlaanderen.be/data/observatie/2022-2758787&quot;, &quot;resultaat&quot;: &quot;21.80000000&quot;}, &quot;type&quot;: &quot;Feature&quot;}, {&quot;bbox&quot;: [4.415648211528495, 51.21891553808303, 4.415648211528495, 51.21891553808303], &quot;geometry&quot;: {&quot;coordinates&quot;: [4.415648211528495, 51.21891553808303], &quot;type&quot;: &quot;Point&quot;}, &quot;id&quot;: &quot;29&quot;, &quot;properties&quot;: {&quot;pkey_observatie&quot;: &quot;https://oefen.dov.vlaanderen.be/data/observatie/2022-2758839&quot;, &quot;resultaat&quot;: &quot;26.80000000&quot;}, &quot;type&quot;: &quot;Feature&quot;}, {&quot;bbox&quot;: [3.8027920979179086, 51.19836869411766, 3.8027920979179086, 51.19836869411766], &quot;geometry&quot;: {&quot;coordinates&quot;: [3.8027920979179086, 51.19836869411766], &quot;type&quot;: &quot;Point&quot;}, &quot;id&quot;: &quot;30&quot;, &quot;properties&quot;: {&quot;pkey_observatie&quot;: &quot;https://oefen.dov.vlaanderen.be/data/observatie/2022-2758852&quot;, &quot;resultaat&quot;: &quot;20.30000000&quot;}, &quot;type&quot;: &quot;Feature&quot;}, {&quot;bbox&quot;: [4.3357319370254475, 51.2437517326507, 4.3357319370254475, 51.2437517326507], &quot;geometry&quot;: {&quot;coordinates&quot;: [4.3357319370254475, 51.2437517326507], &quot;type&quot;: &quot;Point&quot;}, &quot;id&quot;: &quot;31&quot;, &quot;properties&quot;: {&quot;pkey_observatie&quot;: &quot;https://oefen.dov.vlaanderen.be/data/observatie/2022-2758857&quot;, &quot;resultaat&quot;: &quot;8.00000000&quot;}, &quot;type&quot;: &quot;Feature&quot;}, {&quot;bbox&quot;: [4.323017031194806, 51.13593633370097, 4.323017031194806, 51.13593633370097], &quot;geometry&quot;: {&quot;coordinates&quot;: [4.323017031194806, 51.13593633370097], &quot;type&quot;: &quot;Point&quot;}, &quot;id&quot;: &quot;32&quot;, &quot;properties&quot;: {&quot;pkey_observatie&quot;: &quot;https://oefen.dov.vlaanderen.be/data/observatie/2022-2758862&quot;, &quot;resultaat&quot;: &quot;24.20000000&quot;}, &quot;type&quot;: &quot;Feature&quot;}, {&quot;bbox&quot;: [3.855412763002539, 51.00070515267727, 3.855412763002539, 51.00070515267727], &quot;geometry&quot;: {&quot;coordinates&quot;: [3.855412763002539, 51.00070515267727], &quot;type&quot;: &quot;Point&quot;}, &quot;id&quot;: &quot;33&quot;, &quot;properties&quot;: {&quot;pkey_observatie&quot;: &quot;https://oefen.dov.vlaanderen.be/data/observatie/2022-2758873&quot;, &quot;resultaat&quot;: &quot;77.80000000&quot;}, &quot;type&quot;: &quot;Feature&quot;}, {&quot;bbox&quot;: [3.2783318679363562, 50.83751428182749, 3.2783318679363562, 50.83751428182749], &quot;geometry&quot;: {&quot;coordinates&quot;: [3.2783318679363562, 50.83751428182749], &quot;type&quot;: &quot;Point&quot;}, &quot;id&quot;: &quot;34&quot;, &quot;properties&quot;: {&quot;pkey_observatie&quot;: &quot;https://oefen.dov.vlaanderen.be/data/observatie/2022-2758919&quot;, &quot;resultaat&quot;: &quot;26.80000000&quot;}, &quot;type&quot;: &quot;Feature&quot;}, {&quot;bbox&quot;: [3.752118249330767, 51.22105470269312, 3.752118249330767, 51.22105470269312], &quot;geometry&quot;: {&quot;coordinates&quot;: [3.752118249330767, 51.22105470269312], &quot;type&quot;: &quot;Point&quot;}, &quot;id&quot;: &quot;35&quot;, &quot;properties&quot;: {&quot;pkey_observatie&quot;: &quot;https://oefen.dov.vlaanderen.be/data/observatie/2022-2758943&quot;, &quot;resultaat&quot;: &quot;33.00000000&quot;}, &quot;type&quot;: &quot;Feature&quot;}, {&quot;bbox&quot;: [4.073236407572206, 51.102735108697914, 4.073236407572206, 51.102735108697914], &quot;geometry&quot;: {&quot;coordinates&quot;: [4.073236407572206, 51.102735108697914], &quot;type&quot;: &quot;Point&quot;}, &quot;id&quot;: &quot;36&quot;, &quot;properties&quot;: {&quot;pkey_observatie&quot;: &quot;https://oefen.dov.vlaanderen.be/data/observatie/2022-2758995&quot;, &quot;resultaat&quot;: &quot;28.90000000&quot;}, &quot;type&quot;: &quot;Feature&quot;}, {&quot;bbox&quot;: [3.5938043144898177, 50.835805426922064, 3.5938043144898177, 50.835805426922064], &quot;geometry&quot;: {&quot;coordinates&quot;: [3.5938043144898177, 50.835805426922064], &quot;type&quot;: &quot;Point&quot;}, &quot;id&quot;: &quot;37&quot;, &quot;properties&quot;: {&quot;pkey_observatie&quot;: &quot;https://oefen.dov.vlaanderen.be/data/observatie/2022-2758996&quot;, &quot;resultaat&quot;: &quot;25.90000000&quot;}, &quot;type&quot;: &quot;Feature&quot;}, {&quot;bbox&quot;: [3.5510632283517314, 51.031802840312935, 3.5510632283517314, 51.031802840312935], &quot;geometry&quot;: {&quot;coordinates&quot;: [3.5510632283517314, 51.031802840312935], &quot;type&quot;: &quot;Point&quot;}, &quot;id&quot;: &quot;38&quot;, &quot;properties&quot;: {&quot;pkey_observatie&quot;: &quot;https://oefen.dov.vlaanderen.be/data/observatie/2022-2759041&quot;, &quot;resultaat&quot;: &quot;24.50000000&quot;}, &quot;type&quot;: &quot;Feature&quot;}, {&quot;bbox&quot;: [4.101184411841629, 51.1074201267342, 4.101184411841629, 51.1074201267342], &quot;geometry&quot;: {&quot;coordinates&quot;: [4.101184411841629, 51.1074201267342], &quot;type&quot;: &quot;Point&quot;}, &quot;id&quot;: &quot;39&quot;, &quot;properties&quot;: {&quot;pkey_observatie&quot;: &quot;https://oefen.dov.vlaanderen.be/data/observatie/2022-2759061&quot;, &quot;resultaat&quot;: &quot;41.40000000&quot;}, &quot;type&quot;: &quot;Feature&quot;}, {&quot;bbox&quot;: [3.944099702703252, 51.006255494830334, 3.944099702703252, 51.006255494830334], &quot;geometry&quot;: {&quot;coordinates&quot;: [3.944099702703252, 51.006255494830334], &quot;type&quot;: &quot;Point&quot;}, &quot;id&quot;: &quot;40&quot;, &quot;properties&quot;: {&quot;pkey_observatie&quot;: &quot;https://oefen.dov.vlaanderen.be/data/observatie/2022-2759130&quot;, &quot;resultaat&quot;: &quot;38.30000000&quot;}, &quot;type&quot;: &quot;Feature&quot;}, {&quot;bbox&quot;: [3.8534119699099185, 51.000358241168136, 3.8534119699099185, 51.000358241168136], &quot;geometry&quot;: {&quot;coordinates&quot;: [3.8534119699099185, 51.000358241168136], &quot;type&quot;: &quot;Point&quot;}, &quot;id&quot;: &quot;41&quot;, &quot;properties&quot;: {&quot;pkey_observatie&quot;: &quot;https://oefen.dov.vlaanderen.be/data/observatie/2022-2759140&quot;, &quot;resultaat&quot;: &quot;28.90000000&quot;}, &quot;type&quot;: &quot;Feature&quot;}, {&quot;bbox&quot;: [3.406431493055997, 50.91059055876808, 3.406431493055997, 50.91059055876808], &quot;geometry&quot;: {&quot;coordinates&quot;: [3.406431493055997, 50.91059055876808], &quot;type&quot;: &quot;Point&quot;}, &quot;id&quot;: &quot;42&quot;, &quot;properties&quot;: {&quot;pkey_observatie&quot;: &quot;https://oefen.dov.vlaanderen.be/data/observatie/2022-2759245&quot;, &quot;resultaat&quot;: &quot;20.60000000&quot;}, &quot;type&quot;: &quot;Feature&quot;}, {&quot;bbox&quot;: [3.445799817939891, 51.07469345730763, 3.445799817939891, 51.07469345730763], &quot;geometry&quot;: {&quot;coordinates&quot;: [3.445799817939891, 51.07469345730763], &quot;type&quot;: &quot;Point&quot;}, &quot;id&quot;: &quot;43&quot;, &quot;properties&quot;: {&quot;pkey_observatie&quot;: &quot;https://oefen.dov.vlaanderen.be/data/observatie/2022-2759269&quot;, &quot;resultaat&quot;: &quot;30.30000000&quot;}, &quot;type&quot;: &quot;Feature&quot;}, {&quot;bbox&quot;: [4.09636587708985, 51.10536866066711, 4.09636587708985, 51.10536866066711], &quot;geometry&quot;: {&quot;coordinates&quot;: [4.09636587708985, 51.10536866066711], &quot;type&quot;: &quot;Point&quot;}, &quot;id&quot;: &quot;44&quot;, &quot;properties&quot;: {&quot;pkey_observatie&quot;: &quot;https://oefen.dov.vlaanderen.be/data/observatie/2022-2759291&quot;, &quot;resultaat&quot;: &quot;39.30000000&quot;}, &quot;type&quot;: &quot;Feature&quot;}, {&quot;bbox&quot;: [4.373669004147908, 51.23558410576446, 4.373669004147908, 51.23558410576446], &quot;geometry&quot;: {&quot;coordinates&quot;: [4.373669004147908, 51.23558410576446], &quot;type&quot;: &quot;Point&quot;}, &quot;id&quot;: &quot;45&quot;, &quot;properties&quot;: {&quot;pkey_observatie&quot;: &quot;https://oefen.dov.vlaanderen.be/data/observatie/2022-2759351&quot;, &quot;resultaat&quot;: &quot;22.00000000&quot;}, &quot;type&quot;: &quot;Feature&quot;}, {&quot;bbox&quot;: [4.298126970205405, 51.30253872433246, 4.298126970205405, 51.30253872433246], &quot;geometry&quot;: {&quot;coordinates&quot;: [4.298126970205405, 51.30253872433246], &quot;type&quot;: &quot;Point&quot;}, &quot;id&quot;: &quot;46&quot;, &quot;properties&quot;: {&quot;pkey_observatie&quot;: &quot;https://oefen.dov.vlaanderen.be/data/observatie/2022-2759364&quot;, &quot;resultaat&quot;: &quot;29.50000000&quot;}, &quot;type&quot;: &quot;Feature&quot;}, {&quot;bbox&quot;: [4.3167527455672765, 50.89635413903049, 4.3167527455672765, 50.89635413903049], &quot;geometry&quot;: {&quot;coordinates&quot;: [4.3167527455672765, 50.89635413903049], &quot;type&quot;: &quot;Point&quot;}, &quot;id&quot;: &quot;47&quot;, &quot;properties&quot;: {&quot;pkey_observatie&quot;: &quot;https://oefen.dov.vlaanderen.be/data/observatie/2022-2759373&quot;, &quot;resultaat&quot;: &quot;12.20000000&quot;}, &quot;type&quot;: &quot;Feature&quot;}, {&quot;bbox&quot;: [4.019812008040932, 50.831396992178604, 4.019812008040932, 50.831396992178604], &quot;geometry&quot;: {&quot;coordinates&quot;: [4.019812008040932, 50.831396992178604], &quot;type&quot;: &quot;Point&quot;}, &quot;id&quot;: &quot;48&quot;, &quot;properties&quot;: {&quot;pkey_observatie&quot;: &quot;https://oefen.dov.vlaanderen.be/data/observatie/2022-2759426&quot;, &quot;resultaat&quot;: &quot;35.00000000&quot;}, &quot;type&quot;: &quot;Feature&quot;}, {&quot;bbox&quot;: [4.376264514706635, 51.30460468095708, 4.376264514706635, 51.30460468095708], &quot;geometry&quot;: {&quot;coordinates&quot;: [4.376264514706635, 51.30460468095708], &quot;type&quot;: &quot;Point&quot;}, &quot;id&quot;: &quot;49&quot;, &quot;properties&quot;: {&quot;pkey_observatie&quot;: &quot;https://oefen.dov.vlaanderen.be/data/observatie/2022-2759446&quot;, &quot;resultaat&quot;: &quot;28.10000000&quot;}, &quot;type&quot;: &quot;Feature&quot;}, {&quot;bbox&quot;: [5.202487027194634, 50.80260931571809, 5.202487027194634, 50.80260931571809], &quot;geometry&quot;: {&quot;coordinates&quot;: [5.202487027194634, 50.80260931571809], &quot;type&quot;: &quot;Point&quot;}, &quot;id&quot;: &quot;50&quot;, &quot;properties&quot;: {&quot;pkey_observatie&quot;: &quot;https://oefen.dov.vlaanderen.be/data/observatie/2022-2759478&quot;, &quot;resultaat&quot;: &quot;10.90000000&quot;}, &quot;type&quot;: &quot;Feature&quot;}, {&quot;bbox&quot;: [4.337709419473557, 51.19208488211818, 4.337709419473557, 51.19208488211818], &quot;geometry&quot;: {&quot;coordinates&quot;: [4.337709419473557, 51.19208488211818], &quot;type&quot;: &quot;Point&quot;}, &quot;id&quot;: &quot;51&quot;, &quot;properties&quot;: {&quot;pkey_observatie&quot;: &quot;https://oefen.dov.vlaanderen.be/data/observatie/2022-2759520&quot;, &quot;resultaat&quot;: &quot;40.10000000&quot;}, &quot;type&quot;: &quot;Feature&quot;}, {&quot;bbox&quot;: [4.418664839591337, 50.91880905081607, 4.418664839591337, 50.91880905081607], &quot;geometry&quot;: {&quot;coordinates&quot;: [4.418664839591337, 50.91880905081607], &quot;type&quot;: &quot;Point&quot;}, &quot;id&quot;: &quot;52&quot;, &quot;properties&quot;: {&quot;pkey_observatie&quot;: &quot;https://oefen.dov.vlaanderen.be/data/observatie/2022-2759684&quot;, &quot;resultaat&quot;: &quot;30.50000000&quot;}, &quot;type&quot;: &quot;Feature&quot;}, {&quot;bbox&quot;: [3.277995724597349, 50.91388997467955, 3.277995724597349, 50.91388997467955], &quot;geometry&quot;: {&quot;coordinates&quot;: [3.277995724597349, 50.91388997467955], &quot;type&quot;: &quot;Point&quot;}, &quot;id&quot;: &quot;53&quot;, &quot;properties&quot;: {&quot;pkey_observatie&quot;: &quot;https://oefen.dov.vlaanderen.be/data/observatie/2022-2759767&quot;, &quot;resultaat&quot;: &quot;30.60000000&quot;}, &quot;type&quot;: &quot;Feature&quot;}, {&quot;bbox&quot;: [3.490006067489636, 50.970167975512254, 3.490006067489636, 50.970167975512254], &quot;geometry&quot;: {&quot;coordinates&quot;: [3.490006067489636, 50.970167975512254], &quot;type&quot;: &quot;Point&quot;}, &quot;id&quot;: &quot;54&quot;, &quot;properties&quot;: {&quot;pkey_observatie&quot;: &quot;https://oefen.dov.vlaanderen.be/data/observatie/2022-2759784&quot;, &quot;resultaat&quot;: &quot;23.20000000&quot;}, &quot;type&quot;: &quot;Feature&quot;}, {&quot;bbox&quot;: [4.285179472079849, 51.121634663389635, 4.285179472079849, 51.121634663389635], &quot;geometry&quot;: {&quot;coordinates&quot;: [4.285179472079849, 51.121634663389635], &quot;type&quot;: &quot;Point&quot;}, &quot;id&quot;: &quot;55&quot;, &quot;properties&quot;: {&quot;pkey_observatie&quot;: &quot;https://oefen.dov.vlaanderen.be/data/observatie/2022-2768074&quot;, &quot;resultaat&quot;: &quot;23.7&quot;}, &quot;type&quot;: &quot;Feature&quot;}, {&quot;bbox&quot;: [3.3440506161653776, 50.89161631913612, 3.3440506161653776, 50.89161631913612], &quot;geometry&quot;: {&quot;coordinates&quot;: [3.3440506161653776, 50.89161631913612], &quot;type&quot;: &quot;Point&quot;}, &quot;id&quot;: &quot;56&quot;, &quot;properties&quot;: {&quot;pkey_observatie&quot;: &quot;https://oefen.dov.vlaanderen.be/data/observatie/2022-2769207&quot;, &quot;resultaat&quot;: &quot;41&quot;}, &quot;type&quot;: &quot;Feature&quot;}, {&quot;bbox&quot;: [4.431770456792723, 50.89699503232497, 4.431770456792723, 50.89699503232497], &quot;geometry&quot;: {&quot;coordinates&quot;: [4.431770456792723, 50.89699503232497], &quot;type&quot;: &quot;Point&quot;}, &quot;id&quot;: &quot;57&quot;, &quot;properties&quot;: {&quot;pkey_observatie&quot;: &quot;https://oefen.dov.vlaanderen.be/data/observatie/2022-2772014&quot;, &quot;resultaat&quot;: &quot;24.8&quot;}, &quot;type&quot;: &quot;Feature&quot;}, {&quot;bbox&quot;: [4.297163444624862, 50.80404589437511, 4.297163444624862, 50.80404589437511], &quot;geometry&quot;: {&quot;coordinates&quot;: [4.297163444624862, 50.80404589437511], &quot;type&quot;: &quot;Point&quot;}, &quot;id&quot;: &quot;58&quot;, &quot;properties&quot;: {&quot;pkey_observatie&quot;: &quot;https://oefen.dov.vlaanderen.be/data/observatie/2022-4198630&quot;, &quot;resultaat&quot;: &quot;32.30000000&quot;}, &quot;type&quot;: &quot;Feature&quot;}, {&quot;bbox&quot;: [3.9585460385701237, 51.01289573831883, 3.9585460385701237, 51.01289573831883], &quot;geometry&quot;: {&quot;coordinates&quot;: [3.9585460385701237, 51.01289573831883], &quot;type&quot;: &quot;Point&quot;}, &quot;id&quot;: &quot;59&quot;, &quot;properties&quot;: {&quot;pkey_observatie&quot;: &quot;https://oefen.dov.vlaanderen.be/data/observatie/2022-4213413&quot;, &quot;resultaat&quot;: &quot;21.10000000&quot;}, &quot;type&quot;: &quot;Feature&quot;}, {&quot;bbox&quot;: [4.352288139762728, 51.22067491241664, 4.352288139762728, 51.22067491241664], &quot;geometry&quot;: {&quot;coordinates&quot;: [4.352288139762728, 51.22067491241664], &quot;type&quot;: &quot;Point&quot;}, &quot;id&quot;: &quot;60&quot;, &quot;properties&quot;: {&quot;pkey_observatie&quot;: &quot;https://oefen.dov.vlaanderen.be/data/observatie/2022-4213430&quot;, &quot;resultaat&quot;: &quot;30.20000000&quot;}, &quot;type&quot;: &quot;Feature&quot;}, {&quot;bbox&quot;: [4.884239735533587, 51.33074138619427, 4.884239735533587, 51.33074138619427], &quot;geometry&quot;: {&quot;coordinates&quot;: [4.884239735533587, 51.33074138619427], &quot;type&quot;: &quot;Point&quot;}, &quot;id&quot;: &quot;61&quot;, &quot;properties&quot;: {&quot;pkey_observatie&quot;: &quot;https://oefen.dov.vlaanderen.be/data/observatie/2022-4213448&quot;, &quot;resultaat&quot;: &quot;26.60000000&quot;}, &quot;type&quot;: &quot;Feature&quot;}, {&quot;bbox&quot;: [4.420691280150846, 51.24059700314878, 4.420691280150846, 51.24059700314878], &quot;geometry&quot;: {&quot;coordinates&quot;: [4.420691280150846, 51.24059700314878], &quot;type&quot;: &quot;Point&quot;}, &quot;id&quot;: &quot;62&quot;, &quot;properties&quot;: {&quot;pkey_observatie&quot;: &quot;https://oefen.dov.vlaanderen.be/data/observatie/2022-4213492&quot;, &quot;resultaat&quot;: &quot;21.80000000&quot;}, &quot;type&quot;: &quot;Feature&quot;}, {&quot;bbox&quot;: [4.394846346941141, 51.07744674373185, 4.394846346941141, 51.07744674373185], &quot;geometry&quot;: {&quot;coordinates&quot;: [4.394846346941141, 51.07744674373185], &quot;type&quot;: &quot;Point&quot;}, &quot;id&quot;: &quot;63&quot;, &quot;properties&quot;: {&quot;pkey_observatie&quot;: &quot;https://oefen.dov.vlaanderen.be/data/observatie/2022-4213504&quot;, &quot;resultaat&quot;: &quot;65.10000000&quot;}, &quot;type&quot;: &quot;Feature&quot;}, {&quot;bbox&quot;: [4.241428241174941, 51.11347610081648, 4.241428241174941, 51.11347610081648], &quot;geometry&quot;: {&quot;coordinates&quot;: [4.241428241174941, 51.11347610081648], &quot;type&quot;: &quot;Point&quot;}, &quot;id&quot;: &quot;64&quot;, &quot;properties&quot;: {&quot;pkey_observatie&quot;: &quot;https://oefen.dov.vlaanderen.be/data/observatie/2022-4213515&quot;, &quot;resultaat&quot;: &quot;66.30000000&quot;}, &quot;type&quot;: &quot;Feature&quot;}, {&quot;bbox&quot;: [5.5276347555722305, 50.917915485561274, 5.5276347555722305, 50.917915485561274], &quot;geometry&quot;: {&quot;coordinates&quot;: [5.5276347555722305, 50.917915485561274], &quot;type&quot;: &quot;Point&quot;}, &quot;id&quot;: &quot;65&quot;, &quot;properties&quot;: {&quot;pkey_observatie&quot;: &quot;https://oefen.dov.vlaanderen.be/data/observatie/2022-4213529&quot;, &quot;resultaat&quot;: &quot;29.60000000&quot;}, &quot;type&quot;: &quot;Feature&quot;}, {&quot;bbox&quot;: [4.439324282861996, 51.060201208241466, 4.439324282861996, 51.060201208241466], &quot;geometry&quot;: {&quot;coordinates&quot;: [4.439324282861996, 51.060201208241466], &quot;type&quot;: &quot;Point&quot;}, &quot;id&quot;: &quot;66&quot;, &quot;properties&quot;: {&quot;pkey_observatie&quot;: &quot;https://oefen.dov.vlaanderen.be/data/observatie/2022-4213570&quot;, &quot;resultaat&quot;: &quot;102.40000000&quot;}, &quot;type&quot;: &quot;Feature&quot;}, {&quot;bbox&quot;: [3.7759326688648573, 51.04962465932865, 3.7759326688648573, 51.04962465932865], &quot;geometry&quot;: {&quot;coordinates&quot;: [3.7759326688648573, 51.04962465932865], &quot;type&quot;: &quot;Point&quot;}, &quot;id&quot;: &quot;67&quot;, &quot;properties&quot;: {&quot;pkey_observatie&quot;: &quot;https://oefen.dov.vlaanderen.be/data/observatie/2022-4213584&quot;, &quot;resultaat&quot;: &quot;38.20000000&quot;}, &quot;type&quot;: &quot;Feature&quot;}, {&quot;bbox&quot;: [3.7896276199576224, 51.03550686727275, 3.7896276199576224, 51.03550686727275], &quot;geometry&quot;: {&quot;coordinates&quot;: [3.7896276199576224, 51.03550686727275], &quot;type&quot;: &quot;Point&quot;}, &quot;id&quot;: &quot;68&quot;, &quot;properties&quot;: {&quot;pkey_observatie&quot;: &quot;https://oefen.dov.vlaanderen.be/data/observatie/2022-4213652&quot;, &quot;resultaat&quot;: &quot;34.50000000&quot;}, &quot;type&quot;: &quot;Feature&quot;}, {&quot;bbox&quot;: [5.209781437097216, 51.23835989353822, 5.209781437097216, 51.23835989353822], &quot;geometry&quot;: {&quot;coordinates&quot;: [5.209781437097216, 51.23835989353822], &quot;type&quot;: &quot;Point&quot;}, &quot;id&quot;: &quot;69&quot;, &quot;properties&quot;: {&quot;pkey_observatie&quot;: &quot;https://oefen.dov.vlaanderen.be/data/observatie/2022-4213661&quot;, &quot;resultaat&quot;: &quot;20.20000000&quot;}, &quot;type&quot;: &quot;Feature&quot;}, {&quot;bbox&quot;: [4.157850162147367, 51.10749158410446, 4.157850162147367, 51.10749158410446], &quot;geometry&quot;: {&quot;coordinates&quot;: [4.157850162147367, 51.10749158410446], &quot;type&quot;: &quot;Point&quot;}, &quot;id&quot;: &quot;70&quot;, &quot;properties&quot;: {&quot;pkey_observatie&quot;: &quot;https://oefen.dov.vlaanderen.be/data/observatie/2022-4213682&quot;, &quot;resultaat&quot;: &quot;33.10000000&quot;}, &quot;type&quot;: &quot;Feature&quot;}, {&quot;bbox&quot;: [3.705747445610353, 50.8090928470185, 3.705747445610353, 50.8090928470185], &quot;geometry&quot;: {&quot;coordinates&quot;: [3.705747445610353, 50.8090928470185], &quot;type&quot;: &quot;Point&quot;}, &quot;id&quot;: &quot;71&quot;, &quot;properties&quot;: {&quot;pkey_observatie&quot;: &quot;https://oefen.dov.vlaanderen.be/data/observatie/2022-4213734&quot;, &quot;resultaat&quot;: &quot;32.00000000&quot;}, &quot;type&quot;: &quot;Feature&quot;}, {&quot;bbox&quot;: [3.828445256314523, 51.19789985190607, 3.828445256314523, 51.19789985190607], &quot;geometry&quot;: {&quot;coordinates&quot;: [3.828445256314523, 51.19789985190607], &quot;type&quot;: &quot;Point&quot;}, &quot;id&quot;: &quot;72&quot;, &quot;properties&quot;: {&quot;pkey_observatie&quot;: &quot;https://oefen.dov.vlaanderen.be/data/observatie/2022-4213743&quot;, &quot;resultaat&quot;: &quot;24.80000000&quot;}, &quot;type&quot;: &quot;Feature&quot;}, {&quot;bbox&quot;: [3.946445105423138, 51.00528409500144, 3.946445105423138, 51.00528409500144], &quot;geometry&quot;: {&quot;coordinates&quot;: [3.946445105423138, 51.00528409500144], &quot;type&quot;: &quot;Point&quot;}, &quot;id&quot;: &quot;73&quot;, &quot;properties&quot;: {&quot;pkey_observatie&quot;: &quot;https://oefen.dov.vlaanderen.be/data/observatie/2022-4213747&quot;, &quot;resultaat&quot;: &quot;24.10000000&quot;}, &quot;type&quot;: &quot;Feature&quot;}, {&quot;bbox&quot;: [3.4162646844583295, 50.914860042189645, 3.4162646844583295, 50.914860042189645], &quot;geometry&quot;: {&quot;coordinates&quot;: [3.4162646844583295, 50.914860042189645], &quot;type&quot;: &quot;Point&quot;}, &quot;id&quot;: &quot;74&quot;, &quot;properties&quot;: {&quot;pkey_observatie&quot;: &quot;https://oefen.dov.vlaanderen.be/data/observatie/2022-4213754&quot;, &quot;resultaat&quot;: &quot;21.70000000&quot;}, &quot;type&quot;: &quot;Feature&quot;}, {&quot;bbox&quot;: [4.424236299808077, 51.24010730692152, 4.424236299808077, 51.24010730692152], &quot;geometry&quot;: {&quot;coordinates&quot;: [4.424236299808077, 51.24010730692152], &quot;type&quot;: &quot;Point&quot;}, &quot;id&quot;: &quot;75&quot;, &quot;properties&quot;: {&quot;pkey_observatie&quot;: &quot;https://oefen.dov.vlaanderen.be/data/observatie/2022-4213766&quot;, &quot;resultaat&quot;: &quot;26.10000000&quot;}, &quot;type&quot;: &quot;Feature&quot;}, {&quot;bbox&quot;: [4.425285607910768, 51.248036287869226, 4.425285607910768, 51.248036287869226], &quot;geometry&quot;: {&quot;coordinates&quot;: [4.425285607910768, 51.248036287869226], &quot;type&quot;: &quot;Point&quot;}, &quot;id&quot;: &quot;76&quot;, &quot;properties&quot;: {&quot;pkey_observatie&quot;: &quot;https://oefen.dov.vlaanderen.be/data/observatie/2022-4213773&quot;, &quot;resultaat&quot;: &quot;21.10000000&quot;}, &quot;type&quot;: &quot;Feature&quot;}, {&quot;bbox&quot;: [4.300102731287436, 51.30121116411306, 4.300102731287436, 51.30121116411306], &quot;geometry&quot;: {&quot;coordinates&quot;: [4.300102731287436, 51.30121116411306], &quot;type&quot;: &quot;Point&quot;}, &quot;id&quot;: &quot;77&quot;, &quot;properties&quot;: {&quot;pkey_observatie&quot;: &quot;https://oefen.dov.vlaanderen.be/data/observatie/2022-4213781&quot;, &quot;resultaat&quot;: &quot;31.60000000&quot;}, &quot;type&quot;: &quot;Feature&quot;}, {&quot;bbox&quot;: [3.199852577434509, 51.31768775323027, 3.199852577434509, 51.31768775323027], &quot;geometry&quot;: {&quot;coordinates&quot;: [3.199852577434509, 51.31768775323027], &quot;type&quot;: &quot;Point&quot;}, &quot;id&quot;: &quot;78&quot;, &quot;properties&quot;: {&quot;pkey_observatie&quot;: &quot;https://oefen.dov.vlaanderen.be/data/observatie/2022-4213853&quot;, &quot;resultaat&quot;: &quot;32.10000000&quot;}, &quot;type&quot;: &quot;Feature&quot;}, {&quot;bbox&quot;: [4.363477660832262, 51.30492925658288, 4.363477660832262, 51.30492925658288], &quot;geometry&quot;: {&quot;coordinates&quot;: [4.363477660832262, 51.30492925658288], &quot;type&quot;: &quot;Point&quot;}, &quot;id&quot;: &quot;79&quot;, &quot;properties&quot;: {&quot;pkey_observatie&quot;: &quot;https://oefen.dov.vlaanderen.be/data/observatie/2022-4213869&quot;, &quot;resultaat&quot;: &quot;24.70000000&quot;}, &quot;type&quot;: &quot;Feature&quot;}, {&quot;bbox&quot;: [3.8028260876799527, 51.00663261530877, 3.8028260876799527, 51.00663261530877], &quot;geometry&quot;: {&quot;coordinates&quot;: [3.8028260876799527, 51.00663261530877], &quot;type&quot;: &quot;Point&quot;}, &quot;id&quot;: &quot;80&quot;, &quot;properties&quot;: {&quot;pkey_observatie&quot;: &quot;https://oefen.dov.vlaanderen.be/data/observatie/2022-4213943&quot;, &quot;resultaat&quot;: &quot;58.00000000&quot;}, &quot;type&quot;: &quot;Feature&quot;}, {&quot;bbox&quot;: [3.730840621984247, 51.067616964253986, 3.730840621984247, 51.067616964253986], &quot;geometry&quot;: {&quot;coordinates&quot;: [3.730840621984247, 51.067616964253986], &quot;type&quot;: &quot;Point&quot;}, &quot;id&quot;: &quot;81&quot;, &quot;properties&quot;: {&quot;pkey_observatie&quot;: &quot;https://oefen.dov.vlaanderen.be/data/observatie/2022-4214021&quot;, &quot;resultaat&quot;: &quot;19.20000000&quot;}, &quot;type&quot;: &quot;Feature&quot;}, {&quot;bbox&quot;: [5.325913291040605, 50.91777935220236, 5.325913291040605, 50.91777935220236], &quot;geometry&quot;: {&quot;coordinates&quot;: [5.325913291040605, 50.91777935220236], &quot;type&quot;: &quot;Point&quot;}, &quot;id&quot;: &quot;82&quot;, &quot;properties&quot;: {&quot;pkey_observatie&quot;: &quot;https://oefen.dov.vlaanderen.be/data/observatie/2022-4214026&quot;, &quot;resultaat&quot;: &quot;24.40000000&quot;}, &quot;type&quot;: &quot;Feature&quot;}, {&quot;bbox&quot;: [4.358898284216849, 51.08361965011173, 4.358898284216849, 51.08361965011173], &quot;geometry&quot;: {&quot;coordinates&quot;: [4.358898284216849, 51.08361965011173], &quot;type&quot;: &quot;Point&quot;}, &quot;id&quot;: &quot;83&quot;, &quot;properties&quot;: {&quot;pkey_observatie&quot;: &quot;https://oefen.dov.vlaanderen.be/data/observatie/2022-4214057&quot;, &quot;resultaat&quot;: &quot;36.00000000&quot;}, &quot;type&quot;: &quot;Feature&quot;}, {&quot;bbox&quot;: [2.931877183178906, 51.22519474417194, 2.931877183178906, 51.22519474417194], &quot;geometry&quot;: {&quot;coordinates&quot;: [2.931877183178906, 51.22519474417194], &quot;type&quot;: &quot;Point&quot;}, &quot;id&quot;: &quot;84&quot;, &quot;properties&quot;: {&quot;pkey_observatie&quot;: &quot;https://oefen.dov.vlaanderen.be/data/observatie/2022-4214065&quot;, &quot;resultaat&quot;: &quot;35.20000000&quot;}, &quot;type&quot;: &quot;Feature&quot;}, {&quot;bbox&quot;: [4.352314133006431, 51.086893948155954, 4.352314133006431, 51.086893948155954], &quot;geometry&quot;: {&quot;coordinates&quot;: [4.352314133006431, 51.086893948155954], &quot;type&quot;: &quot;Point&quot;}, &quot;id&quot;: &quot;85&quot;, &quot;properties&quot;: {&quot;pkey_observatie&quot;: &quot;https://oefen.dov.vlaanderen.be/data/observatie/2022-4214098&quot;, &quot;resultaat&quot;: &quot;75.30000000&quot;}, &quot;type&quot;: &quot;Feature&quot;}, {&quot;bbox&quot;: [4.27474793739406, 51.34974164901361, 4.27474793739406, 51.34974164901361], &quot;geometry&quot;: {&quot;coordinates&quot;: [4.27474793739406, 51.34974164901361], &quot;type&quot;: &quot;Point&quot;}, &quot;id&quot;: &quot;86&quot;, &quot;properties&quot;: {&quot;pkey_observatie&quot;: &quot;https://oefen.dov.vlaanderen.be/data/observatie/2022-4214191&quot;, &quot;resultaat&quot;: &quot;25.90000000&quot;}, &quot;type&quot;: &quot;Feature&quot;}, {&quot;bbox&quot;: [3.7422542935734957, 51.00111674798034, 3.7422542935734957, 51.00111674798034], &quot;geometry&quot;: {&quot;coordinates&quot;: [3.7422542935734957, 51.00111674798034], &quot;type&quot;: &quot;Point&quot;}, &quot;id&quot;: &quot;87&quot;, &quot;properties&quot;: {&quot;pkey_observatie&quot;: &quot;https://oefen.dov.vlaanderen.be/data/observatie/2022-4214379&quot;, &quot;resultaat&quot;: &quot;30.60000000&quot;}, &quot;type&quot;: &quot;Feature&quot;}, {&quot;bbox&quot;: [5.13721661842359, 51.10250828341723, 5.13721661842359, 51.10250828341723], &quot;geometry&quot;: {&quot;coordinates&quot;: [5.13721661842359, 51.10250828341723], &quot;type&quot;: &quot;Point&quot;}, &quot;id&quot;: &quot;88&quot;, &quot;properties&quot;: {&quot;pkey_observatie&quot;: &quot;https://oefen.dov.vlaanderen.be/data/observatie/2022-4216448&quot;, &quot;resultaat&quot;: &quot;21.80000000&quot;}, &quot;type&quot;: &quot;Feature&quot;}, {&quot;bbox&quot;: [4.564687635970783, 51.00345744187687, 4.564687635970783, 51.00345744187687], &quot;geometry&quot;: {&quot;coordinates&quot;: [4.564687635970783, 51.00345744187687], &quot;type&quot;: &quot;Point&quot;}, &quot;id&quot;: &quot;89&quot;, &quot;properties&quot;: {&quot;pkey_observatie&quot;: &quot;https://oefen.dov.vlaanderen.be/data/observatie/2022-4223016&quot;, &quot;resultaat&quot;: &quot;22.1&quot;}, &quot;type&quot;: &quot;Feature&quot;}, {&quot;bbox&quot;: [3.3387022105001263, 51.29156056487996, 3.3387022105001263, 51.29156056487996], &quot;geometry&quot;: {&quot;coordinates&quot;: [3.3387022105001263, 51.29156056487996], &quot;type&quot;: &quot;Point&quot;}, &quot;id&quot;: &quot;90&quot;, &quot;properties&quot;: {&quot;pkey_observatie&quot;: &quot;https://oefen.dov.vlaanderen.be/data/observatie/2022-4223041&quot;, &quot;resultaat&quot;: &quot;30.4&quot;}, &quot;type&quot;: &quot;Feature&quot;}, {&quot;bbox&quot;: [3.710328852071106, 51.102296396551964, 3.710328852071106, 51.102296396551964], &quot;geometry&quot;: {&quot;coordinates&quot;: [3.710328852071106, 51.102296396551964], &quot;type&quot;: &quot;Point&quot;}, &quot;id&quot;: &quot;91&quot;, &quot;properties&quot;: {&quot;pkey_observatie&quot;: &quot;https://oefen.dov.vlaanderen.be/data/observatie/2022-4228268&quot;, &quot;resultaat&quot;: &quot;28.4&quot;}, &quot;type&quot;: &quot;Feature&quot;}, {&quot;bbox&quot;: [3.587592906738643, 50.796909104448716, 3.587592906738643, 50.796909104448716], &quot;geometry&quot;: {&quot;coordinates&quot;: [3.587592906738643, 50.796909104448716], &quot;type&quot;: &quot;Point&quot;}, &quot;id&quot;: &quot;92&quot;, &quot;properties&quot;: {&quot;pkey_observatie&quot;: &quot;https://oefen.dov.vlaanderen.be/data/observatie/2022-5671625&quot;, &quot;resultaat&quot;: &quot;52.80000000&quot;}, &quot;type&quot;: &quot;Feature&quot;}, {&quot;bbox&quot;: [3.3198055852322215, 50.8380754428927, 3.3198055852322215, 50.8380754428927], &quot;geometry&quot;: {&quot;coordinates&quot;: [3.3198055852322215, 50.8380754428927], &quot;type&quot;: &quot;Point&quot;}, &quot;id&quot;: &quot;93&quot;, &quot;properties&quot;: {&quot;pkey_observatie&quot;: &quot;https://oefen.dov.vlaanderen.be/data/observatie/2022-5671657&quot;, &quot;resultaat&quot;: &quot;28.30000000&quot;}, &quot;type&quot;: &quot;Feature&quot;}, {&quot;bbox&quot;: [3.8612434345783644, 51.00167320804791, 3.8612434345783644, 51.00167320804791], &quot;geometry&quot;: {&quot;coordinates&quot;: [3.8612434345783644, 51.00167320804791], &quot;type&quot;: &quot;Point&quot;}, &quot;id&quot;: &quot;94&quot;, &quot;properties&quot;: {&quot;pkey_observatie&quot;: &quot;https://oefen.dov.vlaanderen.be/data/observatie/2022-5671663&quot;, &quot;resultaat&quot;: &quot;48.50000000&quot;}, &quot;type&quot;: &quot;Feature&quot;}, {&quot;bbox&quot;: [4.2372729922357175, 51.33574147851375, 4.2372729922357175, 51.33574147851375], &quot;geometry&quot;: {&quot;coordinates&quot;: [4.2372729922357175, 51.33574147851375], &quot;type&quot;: &quot;Point&quot;}, &quot;id&quot;: &quot;95&quot;, &quot;properties&quot;: {&quot;pkey_observatie&quot;: &quot;https://oefen.dov.vlaanderen.be/data/observatie/2022-5671682&quot;, &quot;resultaat&quot;: &quot;15.80000000&quot;}, &quot;type&quot;: &quot;Feature&quot;}, {&quot;bbox&quot;: [4.231395632393827, 51.33198533013269, 4.231395632393827, 51.33198533013269], &quot;geometry&quot;: {&quot;coordinates&quot;: [4.231395632393827, 51.33198533013269], &quot;type&quot;: &quot;Point&quot;}, &quot;id&quot;: &quot;96&quot;, &quot;properties&quot;: {&quot;pkey_observatie&quot;: &quot;https://oefen.dov.vlaanderen.be/data/observatie/2022-5671684&quot;, &quot;resultaat&quot;: &quot;25.20000000&quot;}, &quot;type&quot;: &quot;Feature&quot;}, {&quot;bbox&quot;: [3.9346611030287617, 51.012067525984286, 3.9346611030287617, 51.012067525984286], &quot;geometry&quot;: {&quot;coordinates&quot;: [3.9346611030287617, 51.012067525984286], &quot;type&quot;: &quot;Point&quot;}, &quot;id&quot;: &quot;97&quot;, &quot;properties&quot;: {&quot;pkey_observatie&quot;: &quot;https://oefen.dov.vlaanderen.be/data/observatie/2022-5671691&quot;, &quot;resultaat&quot;: &quot;283.20000000&quot;}, &quot;type&quot;: &quot;Feature&quot;}, {&quot;bbox&quot;: [5.109627045953167, 51.09679758448551, 5.109627045953167, 51.09679758448551], &quot;geometry&quot;: {&quot;coordinates&quot;: [5.109627045953167, 51.09679758448551], &quot;type&quot;: &quot;Point&quot;}, &quot;id&quot;: &quot;98&quot;, &quot;properties&quot;: {&quot;pkey_observatie&quot;: &quot;https://oefen.dov.vlaanderen.be/data/observatie/2022-5671695&quot;, &quot;resultaat&quot;: &quot;13.00000000&quot;}, &quot;type&quot;: &quot;Feature&quot;}, {&quot;bbox&quot;: [4.317095899479537, 51.249670796646626, 4.317095899479537, 51.249670796646626], &quot;geometry&quot;: {&quot;coordinates&quot;: [4.317095899479537, 51.249670796646626], &quot;type&quot;: &quot;Point&quot;}, &quot;id&quot;: &quot;99&quot;, &quot;properties&quot;: {&quot;pkey_observatie&quot;: &quot;https://oefen.dov.vlaanderen.be/data/observatie/2022-5671703&quot;, &quot;resultaat&quot;: &quot;25.40000000&quot;}, &quot;type&quot;: &quot;Feature&quot;}], &quot;type&quot;: &quot;FeatureCollection&quot;});\n",
       "\n",
       "        \n",
       "    \n",
       "    geo_json_6c0b834ae1b1b7a2e42eba9f53060220.bindTooltip(\n",
       "    function(layer){\n",
       "    let div = L.DomUtil.create(&#x27;div&#x27;);\n",
       "    \n",
       "    let handleObject = feature=&gt;typeof(feature)==&#x27;object&#x27; ? JSON.stringify(feature) : feature;\n",
       "    let fields = [&quot;pkey_observatie&quot;, &quot;resultaat&quot;];\n",
       "    let aliases = [&quot;pkey_observatie&quot;, &quot;resultaat&quot;];\n",
       "    let table = &#x27;&lt;table&gt;&#x27; +\n",
       "        String(\n",
       "        fields.map(\n",
       "        (v,i)=&gt;\n",
       "        `&lt;tr&gt;\n",
       "            &lt;th&gt;${aliases[i]}&lt;/th&gt;\n",
       "            \n",
       "            &lt;td&gt;${handleObject(layer.feature.properties[v])}&lt;/td&gt;\n",
       "        &lt;/tr&gt;`).join(&#x27;&#x27;))\n",
       "    +&#x27;&lt;/table&gt;&#x27;;\n",
       "    div.innerHTML=table;\n",
       "    \n",
       "    return div\n",
       "    }\n",
       "    ,{\n",
       "  &quot;sticky&quot;: true,\n",
       "  &quot;className&quot;: &quot;foliumtooltip&quot;,\n",
       "});\n",
       "                     \n",
       "    \n",
       "            geo_json_6c0b834ae1b1b7a2e42eba9f53060220.addTo(map_ed192256d0d1d1bd08b51153ec2dcc5f);\n",
       "        \n",
       "&lt;/script&gt;\n",
       "&lt;/html&gt;\" style=\"position:absolute;width:100%;height:100%;left:0;top:0;border:none !important;\" allowfullscreen webkitallowfullscreen mozallowfullscreen></iframe></div></div>"
      ],
      "text/plain": [
       "<folium.folium.Map at 0x1d195c000d0>"
      ]
     },
     "execution_count": 20,
     "metadata": {},
     "output_type": "execute_result"
    }
   ],
   "source": [
    "gdf = gpd.GeoDataFrame(df, geometry='geom', crs='EPSG:31370')\n",
    "gdf.explore()"
   ]
  }
 ],
 "metadata": {
  "kernelspec": {
   "display_name": ".venv",
   "language": "python",
   "name": "python3"
  },
  "language_info": {
   "codemirror_mode": {
    "name": "ipython",
    "version": 3
   },
   "file_extension": ".py",
   "mimetype": "text/x-python",
   "name": "python",
   "nbconvert_exporter": "python",
   "pygments_lexer": "ipython3",
   "version": "3.10.12"
  }
 },
 "nbformat": 4,
 "nbformat_minor": 4
}
