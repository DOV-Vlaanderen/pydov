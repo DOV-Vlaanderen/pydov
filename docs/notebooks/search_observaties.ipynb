{
 "cells": [
  {
   "cell_type": "markdown",
   "metadata": {},
   "source": [
    "# Example of DOV search methods for observations (observaties)"
   ]
  },
  {
   "cell_type": "markdown",
   "metadata": {},
   "source": [
    "[![Binder](https://mybinder.org/badge_logo.svg)](https://mybinder.org/v2/gh/DOV-Vlaanderen/pydov/master?filepath=docs%2Fnotebooks%2Fsearch_observaties.ipynb)"
   ]
  },
  {
   "cell_type": "markdown",
   "metadata": {},
   "source": [
    "## Use cases explained below\n",
    "* Get observations in a bounding box\n",
    "* Get observations with specific properties\n",
    "* Get observations in a bounding box based on specific properties\n",
    "* Select observations in a municipality and return depth\n",
    "* Get observations based on fields not available in the standard output dataframee"
   ]
  },
  {
   "cell_type": "code",
   "execution_count": 1,
   "metadata": {},
   "outputs": [],
   "source": [
    "import os\n",
    "os.environ['PYDOV_BASE_URL'] = 'https://oefen.dov.vlaanderen.be/'"
   ]
  },
  {
   "cell_type": "code",
   "execution_count": 2,
   "metadata": {},
   "outputs": [],
   "source": [
    "%matplotlib inline\n",
    "import inspect, sys\n",
    "import warnings; warnings.simplefilter('ignore')"
   ]
  },
  {
   "cell_type": "code",
   "execution_count": 3,
   "metadata": {},
   "outputs": [],
   "source": [
    "# check pydov path\n",
    "import pydov"
   ]
  },
  {
   "cell_type": "markdown",
   "metadata": {},
   "source": [
    "## Get information about the datatype 'Observatie'"
   ]
  },
  {
   "cell_type": "code",
   "execution_count": 4,
   "metadata": {},
   "outputs": [],
   "source": [
    "from pydov.search.observatie import ObservatieSearch\n",
    "observatie = ObservatieSearch()"
   ]
  },
  {
   "cell_type": "markdown",
   "metadata": {},
   "source": [
    "A description is provided for the 'Observatie' datatype:"
   ]
  },
  {
   "cell_type": "code",
   "execution_count": 5,
   "metadata": {},
   "outputs": [
    {
     "data": {
      "text/plain": [
       "'DIT IS EEN TEST'"
      ]
     },
     "execution_count": 5,
     "metadata": {},
     "output_type": "execute_result"
    }
   ],
   "source": [
    "observatie.get_description()"
   ]
  },
  {
   "cell_type": "markdown",
   "metadata": {},
   "source": [
    "The different fields that are available for objects of the 'Observatie' datatype can be requested with the get_fields() method:"
   ]
  },
  {
   "cell_type": "code",
   "execution_count": 6,
   "metadata": {},
   "outputs": [
    {
     "name": "stdout",
     "output_type": "stream",
     "text": [
      "id\n",
      "pkey_observatie\n",
      "pkey_parent\n",
      "parameter\n",
      "parametergroep\n",
      "observatietype\n",
      "detectieconditie\n",
      "resultaat\n",
      "eenheid\n",
      "fenomeentijd\n",
      "resultaattijd\n",
      "methode\n",
      "uitvoerder\n",
      "diepte_van_m\n",
      "diepte_tot_m\n",
      "herkomst\n",
      "opmerking\n",
      "opdracht\n",
      "geom\n"
     ]
    }
   ],
   "source": [
    "fields = observatie.get_fields()\n",
    "\n",
    "# print available fields\n",
    "for f in fields.values():\n",
    "    print(f['name'])"
   ]
  },
  {
   "cell_type": "markdown",
   "metadata": {},
   "source": [
    "You can get more information of a field by requesting it from the fields dictionary:\n",
    "* *name*: name of the field\n",
    "* *definition*: definition of this field\n",
    "* *cost*: currently this is either 1 or 10, depending on the datasource of the field. It is an indication of the expected time it will take to retrieve this field in the output dataframe.\n",
    "* *notnull*: whether the field is mandatory or not\n",
    "* *type*: datatype of the values of this field"
   ]
  },
  {
   "cell_type": "code",
   "execution_count": 7,
   "metadata": {},
   "outputs": [
    {
     "data": {
      "text/plain": [
       "{'name': 'diepte_van_m',\n",
       " 'definition': None,\n",
       " 'type': 'float',\n",
       " 'list': False,\n",
       " 'notnull': False,\n",
       " 'query': True,\n",
       " 'cost': 1}"
      ]
     },
     "execution_count": 7,
     "metadata": {},
     "output_type": "execute_result"
    }
   ],
   "source": [
    "fields['diepte_van_m']"
   ]
  },
  {
   "cell_type": "markdown",
   "metadata": {},
   "source": [
    "## Example use cases"
   ]
  },
  {
   "cell_type": "markdown",
   "metadata": {},
   "source": [
    "### Get observations in a bounding box"
   ]
  },
  {
   "cell_type": "markdown",
   "metadata": {},
   "source": [
    "Get data for all the observations that are geographically located within the bounds of the specified box.\n",
    "\n",
    "The coordinates are in the Belgian Lambert72 (EPSG:31370) coordinate system and are given in the order of lower left x, lower left y, upper right x, upper right y."
   ]
  },
  {
   "cell_type": "code",
   "execution_count": 8,
   "metadata": {},
   "outputs": [
    {
     "name": "stdout",
     "output_type": "stream",
     "text": [
      "[000/001] .\n"
     ]
    },
    {
     "data": {
      "text/html": [
       "<div>\n",
       "<style scoped>\n",
       "    .dataframe tbody tr th:only-of-type {\n",
       "        vertical-align: middle;\n",
       "    }\n",
       "\n",
       "    .dataframe tbody tr th {\n",
       "        vertical-align: top;\n",
       "    }\n",
       "\n",
       "    .dataframe thead th {\n",
       "        text-align: right;\n",
       "    }\n",
       "</style>\n",
       "<table border=\"1\" class=\"dataframe\">\n",
       "  <thead>\n",
       "    <tr style=\"text-align: right;\">\n",
       "      <th></th>\n",
       "      <th>pkey_observatie</th>\n",
       "      <th>pkey_parent</th>\n",
       "      <th>fenomeentijd</th>\n",
       "      <th>diepte_van_m</th>\n",
       "      <th>diepte_tot_m</th>\n",
       "      <th>parametergroep</th>\n",
       "      <th>parameter</th>\n",
       "      <th>detectieconditie</th>\n",
       "      <th>resultaat</th>\n",
       "      <th>eenheid</th>\n",
       "      <th>methode</th>\n",
       "      <th>uitvoerder</th>\n",
       "      <th>herkomst</th>\n",
       "    </tr>\n",
       "  </thead>\n",
       "  <tbody>\n",
       "    <tr>\n",
       "      <th>0</th>\n",
       "      <td>https://oefen.dov.vlaanderen.be/data/observati...</td>\n",
       "      <td>https://oefen.dov.vlaanderen.be/data/monster/2...</td>\n",
       "      <td>2018-01-09</td>\n",
       "      <td>7.50</td>\n",
       "      <td>8.00</td>\n",
       "      <td>Onderkenning-grondsoort</td>\n",
       "      <td>Grondsoort volgens ASTM, de beschrijving (ASTM...</td>\n",
       "      <td>NaN</td>\n",
       "      <td>Clayey sand</td>\n",
       "      <td>NaN</td>\n",
       "      <td>Onbekend</td>\n",
       "      <td>VO - Afdeling Geotechniek</td>\n",
       "      <td>LABO</td>\n",
       "    </tr>\n",
       "    <tr>\n",
       "      <th>1</th>\n",
       "      <td>https://oefen.dov.vlaanderen.be/data/observati...</td>\n",
       "      <td>https://oefen.dov.vlaanderen.be/data/monster/2...</td>\n",
       "      <td>2018-01-09</td>\n",
       "      <td>7.50</td>\n",
       "      <td>8.00</td>\n",
       "      <td>Onderkenningsproeven-korrelverdeling</td>\n",
       "      <td>Korrelverdeling d.m.v. hydrometer/areometer (K...</td>\n",
       "      <td>NaN</td>\n",
       "      <td>NaN</td>\n",
       "      <td>NaN</td>\n",
       "      <td>Hydrometer</td>\n",
       "      <td>VO - Afdeling Geotechniek</td>\n",
       "      <td>LABO</td>\n",
       "    </tr>\n",
       "    <tr>\n",
       "      <th>2</th>\n",
       "      <td>https://oefen.dov.vlaanderen.be/data/observati...</td>\n",
       "      <td>https://oefen.dov.vlaanderen.be/data/monster/2...</td>\n",
       "      <td>2018-01-09</td>\n",
       "      <td>4.50</td>\n",
       "      <td>4.75</td>\n",
       "      <td>Onderkenning-grondsoort</td>\n",
       "      <td>Grondsoort volgens GEO-BGGG (Grondsoort BGGG)</td>\n",
       "      <td>NaN</td>\n",
       "      <td>sterk kalkh. of schelph. zandh. leem</td>\n",
       "      <td>-</td>\n",
       "      <td>Classificatie volgens de norm</td>\n",
       "      <td>VO - Afdeling Geotechniek</td>\n",
       "      <td>LABO</td>\n",
       "    </tr>\n",
       "    <tr>\n",
       "      <th>3</th>\n",
       "      <td>https://oefen.dov.vlaanderen.be/data/observati...</td>\n",
       "      <td>https://oefen.dov.vlaanderen.be/data/monster/2...</td>\n",
       "      <td>2018-01-09</td>\n",
       "      <td>4.50</td>\n",
       "      <td>4.75</td>\n",
       "      <td>Onderkenning - proeven</td>\n",
       "      <td>Consistentiegrenzen - Uitrolgrens (Consistenti...</td>\n",
       "      <td>NaN</td>\n",
       "      <td>#</td>\n",
       "      <td>%</td>\n",
       "      <td>Onbekend</td>\n",
       "      <td>VO - Afdeling Geotechniek</td>\n",
       "      <td>LABO</td>\n",
       "    </tr>\n",
       "    <tr>\n",
       "      <th>4</th>\n",
       "      <td>https://oefen.dov.vlaanderen.be/data/observati...</td>\n",
       "      <td>https://oefen.dov.vlaanderen.be/data/monster/2...</td>\n",
       "      <td>2018-01-09</td>\n",
       "      <td>4.75</td>\n",
       "      <td>5.00</td>\n",
       "      <td>Onderkenning-grondsoort</td>\n",
       "      <td>Grondsoort volgens ASTM, de code (ASTM_code)</td>\n",
       "      <td>NaN</td>\n",
       "      <td>CL</td>\n",
       "      <td>-</td>\n",
       "      <td>Onbekend</td>\n",
       "      <td>VO - Afdeling Geotechniek</td>\n",
       "      <td>LABO</td>\n",
       "    </tr>\n",
       "  </tbody>\n",
       "</table>\n",
       "</div>"
      ],
      "text/plain": [
       "                                     pkey_observatie  \\\n",
       "0  https://oefen.dov.vlaanderen.be/data/observati...   \n",
       "1  https://oefen.dov.vlaanderen.be/data/observati...   \n",
       "2  https://oefen.dov.vlaanderen.be/data/observati...   \n",
       "3  https://oefen.dov.vlaanderen.be/data/observati...   \n",
       "4  https://oefen.dov.vlaanderen.be/data/observati...   \n",
       "\n",
       "                                         pkey_parent fenomeentijd  \\\n",
       "0  https://oefen.dov.vlaanderen.be/data/monster/2...   2018-01-09   \n",
       "1  https://oefen.dov.vlaanderen.be/data/monster/2...   2018-01-09   \n",
       "2  https://oefen.dov.vlaanderen.be/data/monster/2...   2018-01-09   \n",
       "3  https://oefen.dov.vlaanderen.be/data/monster/2...   2018-01-09   \n",
       "4  https://oefen.dov.vlaanderen.be/data/monster/2...   2018-01-09   \n",
       "\n",
       "   diepte_van_m  diepte_tot_m                        parametergroep  \\\n",
       "0          7.50          8.00               Onderkenning-grondsoort   \n",
       "1          7.50          8.00  Onderkenningsproeven-korrelverdeling   \n",
       "2          4.50          4.75               Onderkenning-grondsoort   \n",
       "3          4.50          4.75                Onderkenning - proeven   \n",
       "4          4.75          5.00               Onderkenning-grondsoort   \n",
       "\n",
       "                                           parameter  detectieconditie  \\\n",
       "0  Grondsoort volgens ASTM, de beschrijving (ASTM...               NaN   \n",
       "1  Korrelverdeling d.m.v. hydrometer/areometer (K...               NaN   \n",
       "2      Grondsoort volgens GEO-BGGG (Grondsoort BGGG)               NaN   \n",
       "3  Consistentiegrenzen - Uitrolgrens (Consistenti...               NaN   \n",
       "4       Grondsoort volgens ASTM, de code (ASTM_code)               NaN   \n",
       "\n",
       "                              resultaat eenheid  \\\n",
       "0                           Clayey sand     NaN   \n",
       "1                                   NaN     NaN   \n",
       "2  sterk kalkh. of schelph. zandh. leem       -   \n",
       "3                                     #       %   \n",
       "4                                    CL       -   \n",
       "\n",
       "                         methode                 uitvoerder herkomst  \n",
       "0                       Onbekend  VO - Afdeling Geotechniek     LABO  \n",
       "1                     Hydrometer  VO - Afdeling Geotechniek     LABO  \n",
       "2  Classificatie volgens de norm  VO - Afdeling Geotechniek     LABO  \n",
       "3                       Onbekend  VO - Afdeling Geotechniek     LABO  \n",
       "4                       Onbekend  VO - Afdeling Geotechniek     LABO  "
      ]
     },
     "execution_count": 8,
     "metadata": {},
     "output_type": "execute_result"
    }
   ],
   "source": [
    "from pydov.util.location import Within, Box\n",
    "\n",
    "df = observatie.search(location=Within(Box(114000, 172310, 114005, 172315)), max_features = 10)\n",
    "df.head()"
   ]
  },
  {
   "cell_type": "markdown",
   "metadata": {},
   "source": [
    "The dataframe contains several observations made at the same location\n",
    "\n",
    "Using the *pkey_observatie* field one can request the details of these obsevrations in a webbrowser:"
   ]
  },
  {
   "cell_type": "code",
   "execution_count": 9,
   "metadata": {},
   "outputs": [
    {
     "name": "stdout",
     "output_type": "stream",
     "text": [
      "https://oefen.dov.vlaanderen.be/data/observatie/2022-1758836\n",
      "https://oefen.dov.vlaanderen.be/data/observatie/2022-3762475\n",
      "https://oefen.dov.vlaanderen.be/data/observatie/2022-6538564\n",
      "https://oefen.dov.vlaanderen.be/data/observatie/2022-1850256\n",
      "https://oefen.dov.vlaanderen.be/data/observatie/2022-6538563\n",
      "https://oefen.dov.vlaanderen.be/data/observatie/2022-2533717\n",
      "https://oefen.dov.vlaanderen.be/data/observatie/2022-2032153\n",
      "https://oefen.dov.vlaanderen.be/data/observatie/2023-7514595\n",
      "https://oefen.dov.vlaanderen.be/data/observatie/2022-3762474\n",
      "https://oefen.dov.vlaanderen.be/data/observatie/2022-2533716\n"
     ]
    }
   ],
   "source": [
    "for pkey_observatie in set(df.pkey_observatie):\n",
    "    print(pkey_observatie)"
   ]
  },
  {
   "cell_type": "markdown",
   "metadata": {},
   "source": [
    "### Get observations with specific properties"
   ]
  },
  {
   "cell_type": "markdown",
   "metadata": {},
   "source": [
    "Next to querying observations based on their geographic location within a bounding box, we can also search for observations matching a specific set of properties. For this we can build a query using a combination of the 'Observatie' fields and operators provided by the WFS protocol.\n",
    "\n",
    "A list of possible operators can be found below:"
   ]
  },
  {
   "cell_type": "code",
   "execution_count": 10,
   "metadata": {},
   "outputs": [
    {
     "data": {
      "text/plain": [
       "['PropertyIsBetween',\n",
       " 'PropertyIsEqualTo',\n",
       " 'PropertyIsGreaterThan',\n",
       " 'PropertyIsGreaterThanOrEqualTo',\n",
       " 'PropertyIsLessThan',\n",
       " 'PropertyIsLessThanOrEqualTo',\n",
       " 'PropertyIsLike',\n",
       " 'PropertyIsNotEqualTo',\n",
       " 'PropertyIsNull',\n",
       " 'SortProperty']"
      ]
     },
     "execution_count": 10,
     "metadata": {},
     "output_type": "execute_result"
    }
   ],
   "source": [
    "[i for i,j in inspect.getmembers(sys.modules['owslib.fes2'], inspect.isclass) if 'Property' in i]"
   ]
  },
  {
   "cell_type": "markdown",
   "metadata": {},
   "source": [
    "In this example we build a query using the *PropertyIsEqualTo* operator to find all observations concerning the parameter \"Watergehalte (watergehalte)\":"
   ]
  },
  {
   "cell_type": "code",
   "execution_count": 11,
   "metadata": {},
   "outputs": [
    {
     "name": "stdout",
     "output_type": "stream",
     "text": [
      "[000/001] .\n"
     ]
    },
    {
     "data": {
      "text/html": [
       "<div>\n",
       "<style scoped>\n",
       "    .dataframe tbody tr th:only-of-type {\n",
       "        vertical-align: middle;\n",
       "    }\n",
       "\n",
       "    .dataframe tbody tr th {\n",
       "        vertical-align: top;\n",
       "    }\n",
       "\n",
       "    .dataframe thead th {\n",
       "        text-align: right;\n",
       "    }\n",
       "</style>\n",
       "<table border=\"1\" class=\"dataframe\">\n",
       "  <thead>\n",
       "    <tr style=\"text-align: right;\">\n",
       "      <th></th>\n",
       "      <th>pkey_observatie</th>\n",
       "      <th>pkey_parent</th>\n",
       "      <th>fenomeentijd</th>\n",
       "      <th>diepte_van_m</th>\n",
       "      <th>diepte_tot_m</th>\n",
       "      <th>parametergroep</th>\n",
       "      <th>parameter</th>\n",
       "      <th>detectieconditie</th>\n",
       "      <th>resultaat</th>\n",
       "      <th>eenheid</th>\n",
       "      <th>methode</th>\n",
       "      <th>uitvoerder</th>\n",
       "      <th>herkomst</th>\n",
       "    </tr>\n",
       "  </thead>\n",
       "  <tbody>\n",
       "    <tr>\n",
       "      <th>0</th>\n",
       "      <td>https://oefen.dov.vlaanderen.be/data/observati...</td>\n",
       "      <td>https://oefen.dov.vlaanderen.be/data/monster/2...</td>\n",
       "      <td>2002-10-30</td>\n",
       "      <td>NaN</td>\n",
       "      <td>NaN</td>\n",
       "      <td>Volumemassa-watergehalte</td>\n",
       "      <td>Watergehalte (watergehalte)</td>\n",
       "      <td>NaN</td>\n",
       "      <td>23,4</td>\n",
       "      <td>%</td>\n",
       "      <td>Gewichtsverlies na drogen in droogstoof</td>\n",
       "      <td>MVG - Afdeling Geotechniek</td>\n",
       "      <td>LABO</td>\n",
       "    </tr>\n",
       "    <tr>\n",
       "      <th>1</th>\n",
       "      <td>https://oefen.dov.vlaanderen.be/data/observati...</td>\n",
       "      <td>https://oefen.dov.vlaanderen.be/data/monster/2...</td>\n",
       "      <td>2011-06-16</td>\n",
       "      <td>NaN</td>\n",
       "      <td>NaN</td>\n",
       "      <td>Volumemassa-watergehalte</td>\n",
       "      <td>Watergehalte (watergehalte)</td>\n",
       "      <td>NaN</td>\n",
       "      <td>220,5</td>\n",
       "      <td>%</td>\n",
       "      <td>Gewichtsverlies na drogen in droogstoof</td>\n",
       "      <td>VO - Afdeling Geotechniek</td>\n",
       "      <td>LABO</td>\n",
       "    </tr>\n",
       "    <tr>\n",
       "      <th>2</th>\n",
       "      <td>https://oefen.dov.vlaanderen.be/data/observati...</td>\n",
       "      <td>https://oefen.dov.vlaanderen.be/data/monster/2...</td>\n",
       "      <td>2013-06-13</td>\n",
       "      <td>NaN</td>\n",
       "      <td>NaN</td>\n",
       "      <td>Volumemassa-watergehalte</td>\n",
       "      <td>Watergehalte (watergehalte)</td>\n",
       "      <td>NaN</td>\n",
       "      <td>30,5</td>\n",
       "      <td>%</td>\n",
       "      <td>Gewichtsverlies na drogen in droogstoof</td>\n",
       "      <td>VO - Afdeling Geotechniek</td>\n",
       "      <td>LABO</td>\n",
       "    </tr>\n",
       "    <tr>\n",
       "      <th>3</th>\n",
       "      <td>https://oefen.dov.vlaanderen.be/data/observati...</td>\n",
       "      <td>https://oefen.dov.vlaanderen.be/data/monster/2...</td>\n",
       "      <td>2011-08-31</td>\n",
       "      <td>NaN</td>\n",
       "      <td>NaN</td>\n",
       "      <td>Volumemassa-watergehalte</td>\n",
       "      <td>Watergehalte (watergehalte)</td>\n",
       "      <td>NaN</td>\n",
       "      <td>27,2</td>\n",
       "      <td>%</td>\n",
       "      <td>Gewichtsverlies na drogen in droogstoof</td>\n",
       "      <td>VO - Afdeling Geotechniek</td>\n",
       "      <td>LABO</td>\n",
       "    </tr>\n",
       "    <tr>\n",
       "      <th>4</th>\n",
       "      <td>https://oefen.dov.vlaanderen.be/data/observati...</td>\n",
       "      <td>https://oefen.dov.vlaanderen.be/data/monster/2...</td>\n",
       "      <td>2009-06-24</td>\n",
       "      <td>NaN</td>\n",
       "      <td>NaN</td>\n",
       "      <td>Volumemassa-watergehalte</td>\n",
       "      <td>Watergehalte (watergehalte)</td>\n",
       "      <td>NaN</td>\n",
       "      <td>24,0</td>\n",
       "      <td>%</td>\n",
       "      <td>Gewichtsverlies na drogen in droogstoof</td>\n",
       "      <td>VO - Afdeling Geotechniek</td>\n",
       "      <td>LABO</td>\n",
       "    </tr>\n",
       "  </tbody>\n",
       "</table>\n",
       "</div>"
      ],
      "text/plain": [
       "                                     pkey_observatie  \\\n",
       "0  https://oefen.dov.vlaanderen.be/data/observati...   \n",
       "1  https://oefen.dov.vlaanderen.be/data/observati...   \n",
       "2  https://oefen.dov.vlaanderen.be/data/observati...   \n",
       "3  https://oefen.dov.vlaanderen.be/data/observati...   \n",
       "4  https://oefen.dov.vlaanderen.be/data/observati...   \n",
       "\n",
       "                                         pkey_parent fenomeentijd  \\\n",
       "0  https://oefen.dov.vlaanderen.be/data/monster/2...   2002-10-30   \n",
       "1  https://oefen.dov.vlaanderen.be/data/monster/2...   2011-06-16   \n",
       "2  https://oefen.dov.vlaanderen.be/data/monster/2...   2013-06-13   \n",
       "3  https://oefen.dov.vlaanderen.be/data/monster/2...   2011-08-31   \n",
       "4  https://oefen.dov.vlaanderen.be/data/monster/2...   2009-06-24   \n",
       "\n",
       "   diepte_van_m  diepte_tot_m            parametergroep  \\\n",
       "0           NaN           NaN  Volumemassa-watergehalte   \n",
       "1           NaN           NaN  Volumemassa-watergehalte   \n",
       "2           NaN           NaN  Volumemassa-watergehalte   \n",
       "3           NaN           NaN  Volumemassa-watergehalte   \n",
       "4           NaN           NaN  Volumemassa-watergehalte   \n",
       "\n",
       "                     parameter  detectieconditie resultaat eenheid  \\\n",
       "0  Watergehalte (watergehalte)               NaN      23,4       %   \n",
       "1  Watergehalte (watergehalte)               NaN     220,5       %   \n",
       "2  Watergehalte (watergehalte)               NaN      30,5       %   \n",
       "3  Watergehalte (watergehalte)               NaN      27,2       %   \n",
       "4  Watergehalte (watergehalte)               NaN      24,0       %   \n",
       "\n",
       "                                   methode                  uitvoerder  \\\n",
       "0  Gewichtsverlies na drogen in droogstoof  MVG - Afdeling Geotechniek   \n",
       "1  Gewichtsverlies na drogen in droogstoof   VO - Afdeling Geotechniek   \n",
       "2  Gewichtsverlies na drogen in droogstoof   VO - Afdeling Geotechniek   \n",
       "3  Gewichtsverlies na drogen in droogstoof   VO - Afdeling Geotechniek   \n",
       "4  Gewichtsverlies na drogen in droogstoof   VO - Afdeling Geotechniek   \n",
       "\n",
       "  herkomst  \n",
       "0     LABO  \n",
       "1     LABO  \n",
       "2     LABO  \n",
       "3     LABO  \n",
       "4     LABO  "
      ]
     },
     "execution_count": 11,
     "metadata": {},
     "output_type": "execute_result"
    }
   ],
   "source": [
    "from owslib.fes2 import PropertyIsEqualTo\n",
    "\n",
    "query = PropertyIsEqualTo(propertyname='parameter',\n",
    "                          literal='Watergehalte (watergehalte)')\n",
    "df = observatie.search(query=query, max_features = 10)\n",
    "\n",
    "df.head()"
   ]
  },
  {
   "cell_type": "markdown",
   "metadata": {},
   "source": [
    "Once again we can use the *pkey_observatie* as a permanent link to the information of these observations:"
   ]
  },
  {
   "cell_type": "code",
   "execution_count": 12,
   "metadata": {
    "scrolled": true
   },
   "outputs": [
    {
     "name": "stdout",
     "output_type": "stream",
     "text": [
      "https://oefen.dov.vlaanderen.be/data/observatie/2022-3486622\n",
      "https://oefen.dov.vlaanderen.be/data/observatie/2022-5672035\n",
      "https://oefen.dov.vlaanderen.be/data/observatie/2022-4942917\n",
      "https://oefen.dov.vlaanderen.be/data/observatie/2022-1664432\n",
      "https://oefen.dov.vlaanderen.be/data/observatie/2022-2392215\n",
      "https://oefen.dov.vlaanderen.be/data/observatie/2022-2394182\n",
      "https://oefen.dov.vlaanderen.be/data/observatie/2022-2394056\n",
      "https://oefen.dov.vlaanderen.be/data/observatie/2022-1664515\n",
      "https://oefen.dov.vlaanderen.be/data/observatie/2022-1664872\n",
      "https://oefen.dov.vlaanderen.be/data/observatie/2022-1301311\n"
     ]
    }
   ],
   "source": [
    "for pkey_observatie in set(df.pkey_observatie):\n",
    "    print(pkey_observatie)"
   ]
  },
  {
   "cell_type": "markdown",
   "metadata": {},
   "source": [
    "### Get observations in a bounding box based on specific properties"
   ]
  },
  {
   "cell_type": "markdown",
   "metadata": {},
   "source": [
    "We can combine a query on attributes with a query on geographic location to get the observations within a bounding box that have specific properties.\n",
    "\n",
    "The following example requests the observations where the parameter 'Watergehalte (watergehalte)' is greater than 30 and within the given bounding box.\n",
    "\n",
    "(Note that the datatype of the *literal* parameter should be a string, regardless of the datatype of this field in the output dataframe.)"
   ]
  },
  {
   "cell_type": "code",
   "execution_count": 13,
   "metadata": {},
   "outputs": [
    {
     "name": "stdout",
     "output_type": "stream",
     "text": [
      "[000/001] .\n"
     ]
    },
    {
     "data": {
      "text/html": [
       "<div>\n",
       "<style scoped>\n",
       "    .dataframe tbody tr th:only-of-type {\n",
       "        vertical-align: middle;\n",
       "    }\n",
       "\n",
       "    .dataframe tbody tr th {\n",
       "        vertical-align: top;\n",
       "    }\n",
       "\n",
       "    .dataframe thead th {\n",
       "        text-align: right;\n",
       "    }\n",
       "</style>\n",
       "<table border=\"1\" class=\"dataframe\">\n",
       "  <thead>\n",
       "    <tr style=\"text-align: right;\">\n",
       "      <th></th>\n",
       "      <th>pkey_observatie</th>\n",
       "      <th>pkey_parent</th>\n",
       "      <th>fenomeentijd</th>\n",
       "      <th>diepte_van_m</th>\n",
       "      <th>diepte_tot_m</th>\n",
       "      <th>parametergroep</th>\n",
       "      <th>parameter</th>\n",
       "      <th>detectieconditie</th>\n",
       "      <th>resultaat</th>\n",
       "      <th>eenheid</th>\n",
       "      <th>methode</th>\n",
       "      <th>uitvoerder</th>\n",
       "      <th>herkomst</th>\n",
       "    </tr>\n",
       "  </thead>\n",
       "  <tbody>\n",
       "    <tr>\n",
       "      <th>0</th>\n",
       "      <td>https://oefen.dov.vlaanderen.be/data/observati...</td>\n",
       "      <td>https://oefen.dov.vlaanderen.be/data/monster/2...</td>\n",
       "      <td>2018-01-09</td>\n",
       "      <td>NaN</td>\n",
       "      <td>NaN</td>\n",
       "      <td>Volumemassa-watergehalte</td>\n",
       "      <td>Watergehalte (watergehalte)</td>\n",
       "      <td>NaN</td>\n",
       "      <td>36,3</td>\n",
       "      <td>%</td>\n",
       "      <td>Gewichtsverlies na drogen in droogstoof</td>\n",
       "      <td>VO - Afdeling Geotechniek</td>\n",
       "      <td>LABO</td>\n",
       "    </tr>\n",
       "    <tr>\n",
       "      <th>1</th>\n",
       "      <td>https://oefen.dov.vlaanderen.be/data/observati...</td>\n",
       "      <td>https://oefen.dov.vlaanderen.be/data/monster/2...</td>\n",
       "      <td>2018-01-09</td>\n",
       "      <td>NaN</td>\n",
       "      <td>NaN</td>\n",
       "      <td>Volumemassa-watergehalte</td>\n",
       "      <td>Watergehalte (watergehalte)</td>\n",
       "      <td>NaN</td>\n",
       "      <td>51,7</td>\n",
       "      <td>%</td>\n",
       "      <td>Gewichtsverlies na drogen in droogstoof</td>\n",
       "      <td>VO - Afdeling Geotechniek</td>\n",
       "      <td>LABO</td>\n",
       "    </tr>\n",
       "  </tbody>\n",
       "</table>\n",
       "</div>"
      ],
      "text/plain": [
       "                                     pkey_observatie  \\\n",
       "0  https://oefen.dov.vlaanderen.be/data/observati...   \n",
       "1  https://oefen.dov.vlaanderen.be/data/observati...   \n",
       "\n",
       "                                         pkey_parent fenomeentijd  \\\n",
       "0  https://oefen.dov.vlaanderen.be/data/monster/2...   2018-01-09   \n",
       "1  https://oefen.dov.vlaanderen.be/data/monster/2...   2018-01-09   \n",
       "\n",
       "   diepte_van_m  diepte_tot_m            parametergroep  \\\n",
       "0           NaN           NaN  Volumemassa-watergehalte   \n",
       "1           NaN           NaN  Volumemassa-watergehalte   \n",
       "\n",
       "                     parameter  detectieconditie resultaat eenheid  \\\n",
       "0  Watergehalte (watergehalte)               NaN      36,3       %   \n",
       "1  Watergehalte (watergehalte)               NaN      51,7       %   \n",
       "\n",
       "                                   methode                 uitvoerder herkomst  \n",
       "0  Gewichtsverlies na drogen in droogstoof  VO - Afdeling Geotechniek     LABO  \n",
       "1  Gewichtsverlies na drogen in droogstoof  VO - Afdeling Geotechniek     LABO  "
      ]
     },
     "execution_count": 13,
     "metadata": {},
     "output_type": "execute_result"
    }
   ],
   "source": [
    "from owslib.fes2 import PropertyIsGreaterThanOrEqualTo, And\n",
    "\n",
    "query = And([PropertyIsGreaterThanOrEqualTo(propertyname='resultaat',literal='30'),\n",
    "            PropertyIsEqualTo(propertyname='parameter', literal='Watergehalte (watergehalte)')])\n",
    "\n",
    "df = observatie.search(\n",
    "    location=Within(Box(114000, 172310, 114005, 172315)),\n",
    "    query=query,\n",
    "    max_features = 10\n",
    "    )\n",
    "\n",
    "df.head()"
   ]
  },
  {
   "cell_type": "markdown",
   "metadata": {},
   "source": [
    "We can look at one of theobservations in a webbrowser using its *pkey_observatie*:"
   ]
  },
  {
   "cell_type": "code",
   "execution_count": 14,
   "metadata": {},
   "outputs": [
    {
     "name": "stdout",
     "output_type": "stream",
     "text": [
      "https://oefen.dov.vlaanderen.be/data/observatie/2022-2533717\n",
      "https://oefen.dov.vlaanderen.be/data/observatie/2022-2761922\n"
     ]
    }
   ],
   "source": [
    "for pkey_observatie in set(df.pkey_observatie):\n",
    "    print(pkey_observatie)"
   ]
  },
  {
   "cell_type": "markdown",
   "metadata": {},
   "source": [
    "### Select observations with specific conditions and return the results"
   ]
  },
  {
   "cell_type": "markdown",
   "metadata": {},
   "source": [
    "We can limit the columns in the output dataframe by specifying the *return_fields* parameter in our search.\n",
    "\n",
    "In this example we query all the observations that have a value (resultaat) greater than 10 for parameter 'Watergehalte (watergehalte)' and\treturn its value (resultaat):"
   ]
  },
  {
   "cell_type": "code",
   "execution_count": null,
   "metadata": {
    "scrolled": true
   },
   "outputs": [],
   "source": [
    "query = And([PropertyIsGreaterThanOrEqualTo(propertyname='resultaat',literal='10'),\n",
    "            PropertyIsEqualTo(propertyname='parameter', literal='Watergehalte (watergehalte)')])\n",
    "\n",
    "df = observatie.search(query=query,\n",
    "                       return_fields=('resultaat',),\n",
    "                       max_features=10)\n",
    "df.head()"
   ]
  },
  {
   "cell_type": "code",
   "execution_count": null,
   "metadata": {},
   "outputs": [],
   "source": [
    "df.describe()"
   ]
  },
  {
   "cell_type": "markdown",
   "metadata": {},
   "source": [
    "By discarding the observations with a resultaat less than 50, we get a different result:"
   ]
  },
  {
   "cell_type": "code",
   "execution_count": null,
   "metadata": {},
   "outputs": [],
   "source": [
    "df[df.resultaat.astype(float) < 50.0].describe()"
   ]
  },
  {
   "cell_type": "code",
   "execution_count": null,
   "metadata": {},
   "outputs": [],
   "source": [
    "ax = df[df.resultaat.astype(float) < 50.0].astype(float).boxplot()\n",
    "ax.set_ylabel(\"Water content(%)\");\n",
    "ax.set_title(\"Distribution of water content\");"
   ]
  },
  {
   "cell_type": "markdown",
   "metadata": {},
   "source": [
    "### Get observations based on fields not available in the standard output dataframe"
   ]
  },
  {
   "cell_type": "markdown",
   "metadata": {},
   "source": [
    "To keep the output dataframe size acceptable, not all available WFS fields are included in the standard output. However, one can use this information to select observations as illustrated below.\n",
    "\n",
    "For example, make a selection of the observations that have an 'opdracht':"
   ]
  },
  {
   "cell_type": "code",
   "execution_count": 15,
   "metadata": {},
   "outputs": [
    {
     "name": "stdout",
     "output_type": "stream",
     "text": [
      "[000/001] .\n"
     ]
    },
    {
     "data": {
      "text/html": [
       "<div>\n",
       "<style scoped>\n",
       "    .dataframe tbody tr th:only-of-type {\n",
       "        vertical-align: middle;\n",
       "    }\n",
       "\n",
       "    .dataframe tbody tr th {\n",
       "        vertical-align: top;\n",
       "    }\n",
       "\n",
       "    .dataframe thead th {\n",
       "        text-align: right;\n",
       "    }\n",
       "</style>\n",
       "<table border=\"1\" class=\"dataframe\">\n",
       "  <thead>\n",
       "    <tr style=\"text-align: right;\">\n",
       "      <th></th>\n",
       "      <th>pkey_observatie</th>\n",
       "      <th>opdracht</th>\n",
       "    </tr>\n",
       "  </thead>\n",
       "  <tbody>\n",
       "    <tr>\n",
       "      <th>0</th>\n",
       "      <td>https://oefen.dov.vlaanderen.be/data/observati...</td>\n",
       "      <td>Bodemkoolstofmonitoringnetwerk Cmon: staalname...</td>\n",
       "    </tr>\n",
       "    <tr>\n",
       "      <th>1</th>\n",
       "      <td>https://oefen.dov.vlaanderen.be/data/observati...</td>\n",
       "      <td>Bodemkoolstofmonitoringnetwerk Cmon leesrechte...</td>\n",
       "    </tr>\n",
       "    <tr>\n",
       "      <th>2</th>\n",
       "      <td>https://oefen.dov.vlaanderen.be/data/observati...</td>\n",
       "      <td>Bodemkoolstofmonitoringnetwerk Cmon leesrechte...</td>\n",
       "    </tr>\n",
       "    <tr>\n",
       "      <th>3</th>\n",
       "      <td>https://oefen.dov.vlaanderen.be/data/observati...</td>\n",
       "      <td>Bodemkoolstofmonitoringnetwerk Cmon leesrechte...</td>\n",
       "    </tr>\n",
       "    <tr>\n",
       "      <th>4</th>\n",
       "      <td>https://oefen.dov.vlaanderen.be/data/observati...</td>\n",
       "      <td>Bodemkoolstofmonitoringnetwerk Cmon leesrechte...</td>\n",
       "    </tr>\n",
       "  </tbody>\n",
       "</table>\n",
       "</div>"
      ],
      "text/plain": [
       "                                     pkey_observatie  \\\n",
       "0  https://oefen.dov.vlaanderen.be/data/observati...   \n",
       "1  https://oefen.dov.vlaanderen.be/data/observati...   \n",
       "2  https://oefen.dov.vlaanderen.be/data/observati...   \n",
       "3  https://oefen.dov.vlaanderen.be/data/observati...   \n",
       "4  https://oefen.dov.vlaanderen.be/data/observati...   \n",
       "\n",
       "                                            opdracht  \n",
       "0  Bodemkoolstofmonitoringnetwerk Cmon: staalname...  \n",
       "1  Bodemkoolstofmonitoringnetwerk Cmon leesrechte...  \n",
       "2  Bodemkoolstofmonitoringnetwerk Cmon leesrechte...  \n",
       "3  Bodemkoolstofmonitoringnetwerk Cmon leesrechte...  \n",
       "4  Bodemkoolstofmonitoringnetwerk Cmon leesrechte...  "
      ]
     },
     "execution_count": 15,
     "metadata": {},
     "output_type": "execute_result"
    }
   ],
   "source": [
    "from owslib.fes2 import Not\n",
    "from owslib.fes2 import PropertyIsNull\n",
    "\n",
    "query = Not([PropertyIsNull(propertyname='opdracht')])\n",
    "\n",
    "df = observatie.search(query=query, max_features = 10,\n",
    "                   return_fields=('pkey_observatie', 'opdracht'))\n",
    "df.head()"
   ]
  },
  {
   "cell_type": "markdown",
   "metadata": {},
   "source": [
    "### Select observations with extra details\n",
    "\n",
    "We can ask extra info from an observation from the XML. In this example we want the details of an observation"
   ]
  },
  {
   "cell_type": "code",
   "execution_count": 16,
   "metadata": {},
   "outputs": [
    {
     "name": "stdout",
     "output_type": "stream",
     "text": [
      "[000/001] .\n",
      "[000/010] cccccccccc\n"
     ]
    },
    {
     "data": {
      "text/html": [
       "<div>\n",
       "<style scoped>\n",
       "    .dataframe tbody tr th:only-of-type {\n",
       "        vertical-align: middle;\n",
       "    }\n",
       "\n",
       "    .dataframe tbody tr th {\n",
       "        vertical-align: top;\n",
       "    }\n",
       "\n",
       "    .dataframe thead th {\n",
       "        text-align: right;\n",
       "    }\n",
       "</style>\n",
       "<table border=\"1\" class=\"dataframe\">\n",
       "  <thead>\n",
       "    <tr style=\"text-align: right;\">\n",
       "      <th></th>\n",
       "      <th>pkey_observatie</th>\n",
       "      <th>pkey_parent</th>\n",
       "      <th>fenomeentijd</th>\n",
       "      <th>diepte_van_m</th>\n",
       "      <th>diepte_tot_m</th>\n",
       "      <th>parametergroep</th>\n",
       "      <th>parameter</th>\n",
       "      <th>detectieconditie</th>\n",
       "      <th>resultaat</th>\n",
       "      <th>eenheid</th>\n",
       "      <th>methode</th>\n",
       "      <th>uitvoerder</th>\n",
       "      <th>herkomst</th>\n",
       "      <th>betrouwbaarheid</th>\n",
       "      <th>geobserveerd_object_type</th>\n",
       "      <th>geobserveerd_object_naam</th>\n",
       "      <th>geobserveerd_object_permkey</th>\n",
       "    </tr>\n",
       "  </thead>\n",
       "  <tbody>\n",
       "    <tr>\n",
       "      <th>0</th>\n",
       "      <td>https://oefen.dov.vlaanderen.be/data/observati...</td>\n",
       "      <td>https://oefen.dov.vlaanderen.be/data/monster/1...</td>\n",
       "      <td>1950-01-01</td>\n",
       "      <td>NaN</td>\n",
       "      <td>NaN</td>\n",
       "      <td>Bodem_chemisch</td>\n",
       "      <td>Sorptie totaal (sorptie_totaal)</td>\n",
       "      <td>NaN</td>\n",
       "      <td>21,20</td>\n",
       "      <td>meq/100g</td>\n",
       "      <td>Onbekend</td>\n",
       "      <td>NaN</td>\n",
       "      <td>VELD</td>\n",
       "      <td>B</td>\n",
       "      <td>monster</td>\n",
       "      <td>KART_PROF_011E/65_H3_M1</td>\n",
       "      <td>1950-254346</td>\n",
       "    </tr>\n",
       "    <tr>\n",
       "      <th>1</th>\n",
       "      <td>https://oefen.dov.vlaanderen.be/data/observati...</td>\n",
       "      <td>https://oefen.dov.vlaanderen.be/data/monster/2...</td>\n",
       "      <td>2016-10-12</td>\n",
       "      <td>7.3</td>\n",
       "      <td>7.5</td>\n",
       "      <td>Onderkenning-grondsoort</td>\n",
       "      <td>Grondsoort volgens GEO-BGGG (Grondsoort BGGG)</td>\n",
       "      <td>NaN</td>\n",
       "      <td>weinig kalkh. zandh. leem</td>\n",
       "      <td>-</td>\n",
       "      <td>Classificatie volgens de norm</td>\n",
       "      <td>VO - Afdeling Geotechniek</td>\n",
       "      <td>LABO</td>\n",
       "      <td>B</td>\n",
       "      <td>monster</td>\n",
       "      <td>N003B</td>\n",
       "      <td>2018-202354</td>\n",
       "    </tr>\n",
       "    <tr>\n",
       "      <th>2</th>\n",
       "      <td>https://oefen.dov.vlaanderen.be/data/observati...</td>\n",
       "      <td>https://oefen.dov.vlaanderen.be/data/monster/1...</td>\n",
       "      <td>1964-01-01</td>\n",
       "      <td>NaN</td>\n",
       "      <td>NaN</td>\n",
       "      <td>Bodem_fysisch_textuur</td>\n",
       "      <td>Textuurfracties (textuurmeting)</td>\n",
       "      <td>NaN</td>\n",
       "      <td>NaN</td>\n",
       "      <td>%</td>\n",
       "      <td>Onbekend</td>\n",
       "      <td>NaN</td>\n",
       "      <td>LABO</td>\n",
       "      <td>B</td>\n",
       "      <td>monster</td>\n",
       "      <td>KART_OPP_091E/069</td>\n",
       "      <td>1964-299792</td>\n",
       "    </tr>\n",
       "    <tr>\n",
       "      <th>3</th>\n",
       "      <td>https://oefen.dov.vlaanderen.be/data/observati...</td>\n",
       "      <td>https://oefen.dov.vlaanderen.be/data/bodemloca...</td>\n",
       "      <td>2023-07-17</td>\n",
       "      <td>NaN</td>\n",
       "      <td>NaN</td>\n",
       "      <td>Instrument parameters</td>\n",
       "      <td>Volumetrisch vochtgehalte (Volumetrisch vochtg...</td>\n",
       "      <td>NaN</td>\n",
       "      <td>NaN</td>\n",
       "      <td>%</td>\n",
       "      <td>Onbekend</td>\n",
       "      <td>NaN</td>\n",
       "      <td>VELD</td>\n",
       "      <td>B</td>\n",
       "      <td>bodemlocatie</td>\n",
       "      <td>CN_141230_2021</td>\n",
       "      <td>2021-025676</td>\n",
       "    </tr>\n",
       "    <tr>\n",
       "      <th>4</th>\n",
       "      <td>https://oefen.dov.vlaanderen.be/data/observati...</td>\n",
       "      <td>https://oefen.dov.vlaanderen.be/data/monster/1...</td>\n",
       "      <td>1952-12-09</td>\n",
       "      <td>NaN</td>\n",
       "      <td>NaN</td>\n",
       "      <td>Bodem_chemisch</td>\n",
       "      <td>Calciumcarbonaatgehalte (caco3_gehalte)</td>\n",
       "      <td>NaN</td>\n",
       "      <td>0,0</td>\n",
       "      <td>%</td>\n",
       "      <td>Onbekend</td>\n",
       "      <td>NaN</td>\n",
       "      <td>VELD</td>\n",
       "      <td>B</td>\n",
       "      <td>monster</td>\n",
       "      <td>KART_PROF_041E/25_H6_M1</td>\n",
       "      <td>1952-262815</td>\n",
       "    </tr>\n",
       "  </tbody>\n",
       "</table>\n",
       "</div>"
      ],
      "text/plain": [
       "                                     pkey_observatie  \\\n",
       "0  https://oefen.dov.vlaanderen.be/data/observati...   \n",
       "1  https://oefen.dov.vlaanderen.be/data/observati...   \n",
       "2  https://oefen.dov.vlaanderen.be/data/observati...   \n",
       "3  https://oefen.dov.vlaanderen.be/data/observati...   \n",
       "4  https://oefen.dov.vlaanderen.be/data/observati...   \n",
       "\n",
       "                                         pkey_parent fenomeentijd  \\\n",
       "0  https://oefen.dov.vlaanderen.be/data/monster/1...   1950-01-01   \n",
       "1  https://oefen.dov.vlaanderen.be/data/monster/2...   2016-10-12   \n",
       "2  https://oefen.dov.vlaanderen.be/data/monster/1...   1964-01-01   \n",
       "3  https://oefen.dov.vlaanderen.be/data/bodemloca...   2023-07-17   \n",
       "4  https://oefen.dov.vlaanderen.be/data/monster/1...   1952-12-09   \n",
       "\n",
       "   diepte_van_m  diepte_tot_m           parametergroep  \\\n",
       "0           NaN           NaN           Bodem_chemisch   \n",
       "1           7.3           7.5  Onderkenning-grondsoort   \n",
       "2           NaN           NaN    Bodem_fysisch_textuur   \n",
       "3           NaN           NaN    Instrument parameters   \n",
       "4           NaN           NaN           Bodem_chemisch   \n",
       "\n",
       "                                           parameter  detectieconditie  \\\n",
       "0                    Sorptie totaal (sorptie_totaal)               NaN   \n",
       "1      Grondsoort volgens GEO-BGGG (Grondsoort BGGG)               NaN   \n",
       "2                    Textuurfracties (textuurmeting)               NaN   \n",
       "3  Volumetrisch vochtgehalte (Volumetrisch vochtg...               NaN   \n",
       "4            Calciumcarbonaatgehalte (caco3_gehalte)               NaN   \n",
       "\n",
       "                   resultaat   eenheid                        methode  \\\n",
       "0                      21,20  meq/100g                       Onbekend   \n",
       "1  weinig kalkh. zandh. leem         -  Classificatie volgens de norm   \n",
       "2                        NaN         %                       Onbekend   \n",
       "3                        NaN         %                       Onbekend   \n",
       "4                        0,0         %                       Onbekend   \n",
       "\n",
       "                  uitvoerder herkomst betrouwbaarheid  \\\n",
       "0                        NaN     VELD               B   \n",
       "1  VO - Afdeling Geotechniek     LABO               B   \n",
       "2                        NaN     LABO               B   \n",
       "3                        NaN     VELD               B   \n",
       "4                        NaN     VELD               B   \n",
       "\n",
       "  geobserveerd_object_type geobserveerd_object_naam  \\\n",
       "0                  monster  KART_PROF_011E/65_H3_M1   \n",
       "1                  monster                    N003B   \n",
       "2                  monster        KART_OPP_091E/069   \n",
       "3             bodemlocatie           CN_141230_2021   \n",
       "4                  monster  KART_PROF_041E/25_H6_M1   \n",
       "\n",
       "  geobserveerd_object_permkey  \n",
       "0                 1950-254346  \n",
       "1                 2018-202354  \n",
       "2                 1964-299792  \n",
       "3                 2021-025676  \n",
       "4                 1952-262815  "
      ]
     },
     "execution_count": 16,
     "metadata": {},
     "output_type": "execute_result"
    }
   ],
   "source": [
    "from pydov.search.observatie import ObservatieSearch\n",
    "from pydov.types.observatie import Observatie, ObservatieDetails\n",
    "\n",
    "observatie = ObservatieSearch(objecttype=Observatie.with_extra_fields(ObservatieDetails)\n",
    "                              )\n",
    "\n",
    "df = observatie.search(max_features=10)\n",
    "df.head()"
   ]
  },
  {
   "cell_type": "markdown",
   "metadata": {},
   "source": [
    "### Get observations with data from the subtype 'ObservatieHerhaling'"
   ]
  },
  {
   "cell_type": "markdown",
   "metadata": {},
   "source": [
    "There are different subtypes available within observations search: 'ObservatieHerhaling'\n",
    "\n"
   ]
  },
  {
   "cell_type": "code",
   "execution_count": 17,
   "metadata": {},
   "outputs": [
    {
     "name": "stdout",
     "output_type": "stream",
     "text": [
      "[000/001] .\n",
      "[000/001] c\n"
     ]
    },
    {
     "data": {
      "text/html": [
       "<div>\n",
       "<style scoped>\n",
       "    .dataframe tbody tr th:only-of-type {\n",
       "        vertical-align: middle;\n",
       "    }\n",
       "\n",
       "    .dataframe tbody tr th {\n",
       "        vertical-align: top;\n",
       "    }\n",
       "\n",
       "    .dataframe thead th {\n",
       "        text-align: right;\n",
       "    }\n",
       "</style>\n",
       "<table border=\"1\" class=\"dataframe\">\n",
       "  <thead>\n",
       "    <tr style=\"text-align: right;\">\n",
       "      <th></th>\n",
       "      <th>pkey_observatie</th>\n",
       "      <th>pkey_parent</th>\n",
       "      <th>fenomeentijd</th>\n",
       "      <th>diepte_van_m</th>\n",
       "      <th>diepte_tot_m</th>\n",
       "      <th>parametergroep</th>\n",
       "      <th>parameter</th>\n",
       "      <th>detectieconditie</th>\n",
       "      <th>resultaat</th>\n",
       "      <th>eenheid</th>\n",
       "      <th>methode</th>\n",
       "      <th>uitvoerder</th>\n",
       "      <th>herkomst</th>\n",
       "      <th>herhaling_aantal</th>\n",
       "      <th>herhaling_minimum</th>\n",
       "      <th>herhaling_maximum</th>\n",
       "      <th>herhaling_standaardafwijking</th>\n",
       "    </tr>\n",
       "  </thead>\n",
       "  <tbody>\n",
       "    <tr>\n",
       "      <th>0</th>\n",
       "      <td>https://oefen.dov.vlaanderen.be/data/observati...</td>\n",
       "      <td>https://oefen.dov.vlaanderen.be/data/bodemdiep...</td>\n",
       "      <td>2022-02-17</td>\n",
       "      <td>NaN</td>\n",
       "      <td>NaN</td>\n",
       "      <td>Bodem_terrein</td>\n",
       "      <td>Strooisellaag of viltlaag - dikte (strooisella...</td>\n",
       "      <td>NaN</td>\n",
       "      <td>1,0</td>\n",
       "      <td>cm</td>\n",
       "      <td>Cmon staalnameprotocol</td>\n",
       "      <td>NaN</td>\n",
       "      <td>VELD</td>\n",
       "      <td>32</td>\n",
       "      <td>1.0</td>\n",
       "      <td>1.0</td>\n",
       "      <td>0.0</td>\n",
       "    </tr>\n",
       "  </tbody>\n",
       "</table>\n",
       "</div>"
      ],
      "text/plain": [
       "                                     pkey_observatie  \\\n",
       "0  https://oefen.dov.vlaanderen.be/data/observati...   \n",
       "\n",
       "                                         pkey_parent fenomeentijd  \\\n",
       "0  https://oefen.dov.vlaanderen.be/data/bodemdiep...   2022-02-17   \n",
       "\n",
       "   diepte_van_m  diepte_tot_m parametergroep  \\\n",
       "0           NaN           NaN  Bodem_terrein   \n",
       "\n",
       "                                           parameter  detectieconditie  \\\n",
       "0  Strooisellaag of viltlaag - dikte (strooisella...               NaN   \n",
       "\n",
       "  resultaat eenheid                 methode  uitvoerder herkomst  \\\n",
       "0       1,0      cm  Cmon staalnameprotocol         NaN     VELD   \n",
       "\n",
       "   herhaling_aantal  herhaling_minimum  herhaling_maximum  \\\n",
       "0                32                1.0                1.0   \n",
       "\n",
       "   herhaling_standaardafwijking  \n",
       "0                           0.0  "
      ]
     },
     "execution_count": 17,
     "metadata": {},
     "output_type": "execute_result"
    }
   ],
   "source": [
    "from pydov.search.observatie import ObservatieSearch\n",
    "from pydov.types.observatie import Observatie, ObservatieHerhaling\n",
    "from owslib.fes2 import PropertyIsLike\n",
    "\n",
    "observatie = ObservatieSearch(\n",
    "    objecttype=Observatie.with_subtype(ObservatieHerhaling))\n",
    "query = PropertyIsLike(propertyname='pkey_observatie',\n",
    "                       literal='%2022-11963810%')\n",
    "df = observatie.search(query=query, max_features = 10)\n",
    "df.head()"
   ]
  },
  {
   "cell_type": "markdown",
   "metadata": {},
   "source": [
    "## Visualize results"
   ]
  },
  {
   "cell_type": "markdown",
   "metadata": {},
   "source": [
    "Using Geopandas GeoDataFrame, we can easily display the results of our search on a map."
   ]
  },
  {
   "cell_type": "code",
   "execution_count": 18,
   "metadata": {},
   "outputs": [
    {
     "name": "stdout",
     "output_type": "stream",
     "text": [
      "[000/001] .\n"
     ]
    }
   ],
   "source": [
    "import geopandas as gpd\n",
    "\n",
    "query = And([PropertyIsGreaterThanOrEqualTo(propertyname='resultaat',literal='10'),\n",
    "            PropertyIsEqualTo(propertyname='parameter', literal='Watergehalte (watergehalte)')])\n",
    "df = observatie.search(query=query,\n",
    "                   return_fields=('pkey_observatie','resultaat','geom'), max_features = 100)"
   ]
  },
  {
   "cell_type": "code",
   "execution_count": 19,
   "metadata": {},
   "outputs": [
    {
     "data": {
      "text/html": [
       "<div style=\"width:100%;\"><div style=\"position:relative;width:100%;height:0;padding-bottom:60%;\"><span style=\"color:#565656\">Make this Notebook Trusted to load map: File -> Trust Notebook</span><iframe srcdoc=\"&lt;!DOCTYPE html&gt;\n",
       "&lt;html&gt;\n",
       "&lt;head&gt;\n",
       "    \n",
       "    &lt;meta http-equiv=&quot;content-type&quot; content=&quot;text/html; charset=UTF-8&quot; /&gt;\n",
       "    \n",
       "        &lt;script&gt;\n",
       "            L_NO_TOUCH = false;\n",
       "            L_DISABLE_3D = false;\n",
       "        &lt;/script&gt;\n",
       "    \n",
       "    &lt;style&gt;html, body {width: 100%;height: 100%;margin: 0;padding: 0;}&lt;/style&gt;\n",
       "    &lt;style&gt;#map {position:absolute;top:0;bottom:0;right:0;left:0;}&lt;/style&gt;\n",
       "    &lt;script src=&quot;https://cdn.jsdelivr.net/npm/leaflet@1.9.3/dist/leaflet.js&quot;&gt;&lt;/script&gt;\n",
       "    &lt;script src=&quot;https://code.jquery.com/jquery-1.12.4.min.js&quot;&gt;&lt;/script&gt;\n",
       "    &lt;script src=&quot;https://cdn.jsdelivr.net/npm/bootstrap@5.2.2/dist/js/bootstrap.bundle.min.js&quot;&gt;&lt;/script&gt;\n",
       "    &lt;script src=&quot;https://cdnjs.cloudflare.com/ajax/libs/Leaflet.awesome-markers/2.0.2/leaflet.awesome-markers.js&quot;&gt;&lt;/script&gt;\n",
       "    &lt;link rel=&quot;stylesheet&quot; href=&quot;https://cdn.jsdelivr.net/npm/leaflet@1.9.3/dist/leaflet.css&quot;/&gt;\n",
       "    &lt;link rel=&quot;stylesheet&quot; href=&quot;https://cdn.jsdelivr.net/npm/bootstrap@5.2.2/dist/css/bootstrap.min.css&quot;/&gt;\n",
       "    &lt;link rel=&quot;stylesheet&quot; href=&quot;https://netdna.bootstrapcdn.com/bootstrap/3.0.0/css/bootstrap.min.css&quot;/&gt;\n",
       "    &lt;link rel=&quot;stylesheet&quot; href=&quot;https://cdn.jsdelivr.net/npm/@fortawesome/fontawesome-free@6.2.0/css/all.min.css&quot;/&gt;\n",
       "    &lt;link rel=&quot;stylesheet&quot; href=&quot;https://cdnjs.cloudflare.com/ajax/libs/Leaflet.awesome-markers/2.0.2/leaflet.awesome-markers.css&quot;/&gt;\n",
       "    &lt;link rel=&quot;stylesheet&quot; href=&quot;https://cdn.jsdelivr.net/gh/python-visualization/folium/folium/templates/leaflet.awesome.rotate.min.css&quot;/&gt;\n",
       "    \n",
       "            &lt;meta name=&quot;viewport&quot; content=&quot;width=device-width,\n",
       "                initial-scale=1.0, maximum-scale=1.0, user-scalable=no&quot; /&gt;\n",
       "            &lt;style&gt;\n",
       "                #map_2693f995dbdd5fd8b6e6fc23f84b71b8 {\n",
       "                    position: relative;\n",
       "                    width: 100.0%;\n",
       "                    height: 100.0%;\n",
       "                    left: 0.0%;\n",
       "                    top: 0.0%;\n",
       "                }\n",
       "                .leaflet-container { font-size: 1rem; }\n",
       "            &lt;/style&gt;\n",
       "        \n",
       "    \n",
       "                    &lt;style&gt;\n",
       "                        .foliumtooltip {\n",
       "                            \n",
       "                        }\n",
       "                       .foliumtooltip table{\n",
       "                            margin: auto;\n",
       "                        }\n",
       "                        .foliumtooltip tr{\n",
       "                            text-align: left;\n",
       "                        }\n",
       "                        .foliumtooltip th{\n",
       "                            padding: 2px; padding-right: 8px;\n",
       "                        }\n",
       "                    &lt;/style&gt;\n",
       "            \n",
       "&lt;/head&gt;\n",
       "&lt;body&gt;\n",
       "    \n",
       "    \n",
       "            &lt;div class=&quot;folium-map&quot; id=&quot;map_2693f995dbdd5fd8b6e6fc23f84b71b8&quot; &gt;&lt;/div&gt;\n",
       "        \n",
       "&lt;/body&gt;\n",
       "&lt;script&gt;\n",
       "    \n",
       "    \n",
       "            var map_2693f995dbdd5fd8b6e6fc23f84b71b8 = L.map(\n",
       "                &quot;map_2693f995dbdd5fd8b6e6fc23f84b71b8&quot;,\n",
       "                {\n",
       "                    center: [51.09063434723038, 4.157320473121228],\n",
       "                    crs: L.CRS.EPSG3857,\n",
       "                    zoom: 10,\n",
       "                    zoomControl: true,\n",
       "                    preferCanvas: false,\n",
       "                }\n",
       "            );\n",
       "            L.control.scale().addTo(map_2693f995dbdd5fd8b6e6fc23f84b71b8);\n",
       "\n",
       "            \n",
       "\n",
       "        \n",
       "    \n",
       "            var tile_layer_b7489312d9244f09ff54333617ab989e = L.tileLayer(\n",
       "                &quot;https://{s}.tile.openstreetmap.org/{z}/{x}/{y}.png&quot;,\n",
       "                {&quot;attribution&quot;: &quot;Data by \\u0026copy; \\u003ca target=\\&quot;_blank\\&quot; href=\\&quot;http://openstreetmap.org\\&quot;\\u003eOpenStreetMap\\u003c/a\\u003e, under \\u003ca target=\\&quot;_blank\\&quot; href=\\&quot;http://www.openstreetmap.org/copyright\\&quot;\\u003eODbL\\u003c/a\\u003e.&quot;, &quot;detectRetina&quot;: false, &quot;maxNativeZoom&quot;: 18, &quot;maxZoom&quot;: 18, &quot;minZoom&quot;: 0, &quot;noWrap&quot;: false, &quot;opacity&quot;: 1, &quot;subdomains&quot;: &quot;abc&quot;, &quot;tms&quot;: false}\n",
       "            ).addTo(map_2693f995dbdd5fd8b6e6fc23f84b71b8);\n",
       "        \n",
       "    \n",
       "            map_2693f995dbdd5fd8b6e6fc23f84b71b8.fitBounds(\n",
       "                [[50.72097826691127, 2.6720983941264516], [51.46029042754949, 5.642542552116003]],\n",
       "                {}\n",
       "            );\n",
       "        \n",
       "    \n",
       "        function geo_json_537161bf51e539167d7bceb9e6d54a0c_styler(feature) {\n",
       "            switch(feature.id) {\n",
       "                default:\n",
       "                    return {&quot;fillOpacity&quot;: 0.5, &quot;weight&quot;: 2};\n",
       "            }\n",
       "        }\n",
       "        function geo_json_537161bf51e539167d7bceb9e6d54a0c_highlighter(feature) {\n",
       "            switch(feature.id) {\n",
       "                default:\n",
       "                    return {&quot;fillOpacity&quot;: 0.75};\n",
       "            }\n",
       "        }\n",
       "        function geo_json_537161bf51e539167d7bceb9e6d54a0c_pointToLayer(feature, latlng) {\n",
       "            var opts = {&quot;bubblingMouseEvents&quot;: true, &quot;color&quot;: &quot;#3388ff&quot;, &quot;dashArray&quot;: null, &quot;dashOffset&quot;: null, &quot;fill&quot;: true, &quot;fillColor&quot;: &quot;#3388ff&quot;, &quot;fillOpacity&quot;: 0.2, &quot;fillRule&quot;: &quot;evenodd&quot;, &quot;lineCap&quot;: &quot;round&quot;, &quot;lineJoin&quot;: &quot;round&quot;, &quot;opacity&quot;: 1.0, &quot;radius&quot;: 2, &quot;stroke&quot;: true, &quot;weight&quot;: 3};\n",
       "            \n",
       "            let style = geo_json_537161bf51e539167d7bceb9e6d54a0c_styler(feature)\n",
       "            Object.assign(opts, style)\n",
       "            \n",
       "            return new L.CircleMarker(latlng, opts)\n",
       "        }\n",
       "\n",
       "        function geo_json_537161bf51e539167d7bceb9e6d54a0c_onEachFeature(feature, layer) {\n",
       "            layer.on({\n",
       "                mouseout: function(e) {\n",
       "                    if(typeof e.target.setStyle === &quot;function&quot;){\n",
       "                        geo_json_537161bf51e539167d7bceb9e6d54a0c.resetStyle(e.target);\n",
       "                    }\n",
       "                },\n",
       "                mouseover: function(e) {\n",
       "                    if(typeof e.target.setStyle === &quot;function&quot;){\n",
       "                        const highlightStyle = geo_json_537161bf51e539167d7bceb9e6d54a0c_highlighter(e.target.feature)\n",
       "                        e.target.setStyle(highlightStyle);\n",
       "                    }\n",
       "                },\n",
       "            });\n",
       "        };\n",
       "        var geo_json_537161bf51e539167d7bceb9e6d54a0c = L.geoJson(null, {\n",
       "                onEachFeature: geo_json_537161bf51e539167d7bceb9e6d54a0c_onEachFeature,\n",
       "            \n",
       "                style: geo_json_537161bf51e539167d7bceb9e6d54a0c_styler,\n",
       "                pointToLayer: geo_json_537161bf51e539167d7bceb9e6d54a0c_pointToLayer\n",
       "        });\n",
       "\n",
       "        function geo_json_537161bf51e539167d7bceb9e6d54a0c_add (data) {\n",
       "            geo_json_537161bf51e539167d7bceb9e6d54a0c\n",
       "                .addData(data)\n",
       "                .addTo(map_2693f995dbdd5fd8b6e6fc23f84b71b8);\n",
       "        }\n",
       "            geo_json_537161bf51e539167d7bceb9e6d54a0c_add({&quot;bbox&quot;: [2.6720983941264516, 50.72097826691127, 5.642542552116003, 51.46029042754949], &quot;features&quot;: [{&quot;bbox&quot;: [4.384562521518726, 50.986369994449454, 4.384562521518726, 50.986369994449454], &quot;geometry&quot;: {&quot;coordinates&quot;: [4.384562521518726, 50.986369994449454], &quot;type&quot;: &quot;Point&quot;}, &quot;id&quot;: &quot;0&quot;, &quot;properties&quot;: {&quot;pkey_observatie&quot;: &quot;https://oefen.dov.vlaanderen.be/data/observatie/2022-1664872&quot;, &quot;resultaat&quot;: &quot;23,4&quot;}, &quot;type&quot;: &quot;Feature&quot;}, {&quot;bbox&quot;: [4.114324940422126, 51.10743564418146, 4.114324940422126, 51.10743564418146], &quot;geometry&quot;: {&quot;coordinates&quot;: [4.114324940422126, 51.10743564418146], &quot;type&quot;: &quot;Point&quot;}, &quot;id&quot;: &quot;1&quot;, &quot;properties&quot;: {&quot;pkey_observatie&quot;: &quot;https://oefen.dov.vlaanderen.be/data/observatie/2022-1664432&quot;, &quot;resultaat&quot;: &quot;220,5&quot;}, &quot;type&quot;: &quot;Feature&quot;}, {&quot;bbox&quot;: [3.841472484591717, 50.99450100560048, 3.841472484591717, 50.99450100560048], &quot;geometry&quot;: {&quot;coordinates&quot;: [3.841472484591717, 50.99450100560048], &quot;type&quot;: &quot;Point&quot;}, &quot;id&quot;: &quot;2&quot;, &quot;properties&quot;: {&quot;pkey_observatie&quot;: &quot;https://oefen.dov.vlaanderen.be/data/observatie/2022-2394056&quot;, &quot;resultaat&quot;: &quot;30,5&quot;}, &quot;type&quot;: &quot;Feature&quot;}, {&quot;bbox&quot;: [3.307748590885108, 50.85722848384719, 3.307748590885108, 50.85722848384719], &quot;geometry&quot;: {&quot;coordinates&quot;: [3.307748590885108, 50.85722848384719], &quot;type&quot;: &quot;Point&quot;}, &quot;id&quot;: &quot;3&quot;, &quot;properties&quot;: {&quot;pkey_observatie&quot;: &quot;https://oefen.dov.vlaanderen.be/data/observatie/2022-2394182&quot;, &quot;resultaat&quot;: &quot;27,2&quot;}, &quot;type&quot;: &quot;Feature&quot;}, {&quot;bbox&quot;: [4.445030369677415, 51.0630673307407, 4.445030369677415, 51.0630673307407], &quot;geometry&quot;: {&quot;coordinates&quot;: [4.445030369677415, 51.0630673307407], &quot;type&quot;: &quot;Point&quot;}, &quot;id&quot;: &quot;4&quot;, &quot;properties&quot;: {&quot;pkey_observatie&quot;: &quot;https://oefen.dov.vlaanderen.be/data/observatie/2022-4942917&quot;, &quot;resultaat&quot;: &quot;24,0&quot;}, &quot;type&quot;: &quot;Feature&quot;}, {&quot;bbox&quot;: [4.409646261690608, 51.24146068497665, 4.409646261690608, 51.24146068497665], &quot;geometry&quot;: {&quot;coordinates&quot;: [4.409646261690608, 51.24146068497665], &quot;type&quot;: &quot;Point&quot;}, &quot;id&quot;: &quot;5&quot;, &quot;properties&quot;: {&quot;pkey_observatie&quot;: &quot;https://oefen.dov.vlaanderen.be/data/observatie/2022-1301311&quot;, &quot;resultaat&quot;: &quot;23,8&quot;}, &quot;type&quot;: &quot;Feature&quot;}, {&quot;bbox&quot;: [3.946445105423138, 51.00528409500144, 3.946445105423138, 51.00528409500144], &quot;geometry&quot;: {&quot;coordinates&quot;: [3.946445105423138, 51.00528409500144], &quot;type&quot;: &quot;Point&quot;}, &quot;id&quot;: &quot;6&quot;, &quot;properties&quot;: {&quot;pkey_observatie&quot;: &quot;https://oefen.dov.vlaanderen.be/data/observatie/2022-1664515&quot;, &quot;resultaat&quot;: &quot;42,0&quot;}, &quot;type&quot;: &quot;Feature&quot;}, {&quot;bbox&quot;: [5.365720542082058, 51.24625333190241, 5.365720542082058, 51.24625333190241], &quot;geometry&quot;: {&quot;coordinates&quot;: [5.365720542082058, 51.24625333190241], &quot;type&quot;: &quot;Point&quot;}, &quot;id&quot;: &quot;7&quot;, &quot;properties&quot;: {&quot;pkey_observatie&quot;: &quot;https://oefen.dov.vlaanderen.be/data/observatie/2022-2392215&quot;, &quot;resultaat&quot;: &quot;20,2&quot;}, &quot;type&quot;: &quot;Feature&quot;}, {&quot;bbox&quot;: [5.083913608436293, 50.96202081322238, 5.083913608436293, 50.96202081322238], &quot;geometry&quot;: {&quot;coordinates&quot;: [5.083913608436293, 50.96202081322238], &quot;type&quot;: &quot;Point&quot;}, &quot;id&quot;: &quot;8&quot;, &quot;properties&quot;: {&quot;pkey_observatie&quot;: &quot;https://oefen.dov.vlaanderen.be/data/observatie/2022-3486622&quot;, &quot;resultaat&quot;: &quot;26,6&quot;}, &quot;type&quot;: &quot;Feature&quot;}, {&quot;bbox&quot;: [3.825860247191237, 51.19180229910105, 3.825860247191237, 51.19180229910105], &quot;geometry&quot;: {&quot;coordinates&quot;: [3.825860247191237, 51.19180229910105], &quot;type&quot;: &quot;Point&quot;}, &quot;id&quot;: &quot;9&quot;, &quot;properties&quot;: {&quot;pkey_observatie&quot;: &quot;https://oefen.dov.vlaanderen.be/data/observatie/2022-5672035&quot;, &quot;resultaat&quot;: &quot;18,9&quot;}, &quot;type&quot;: &quot;Feature&quot;}, {&quot;bbox&quot;: [4.299202858487219, 51.30141925817863, 4.299202858487219, 51.30141925817863], &quot;geometry&quot;: {&quot;coordinates&quot;: [4.299202858487219, 51.30141925817863], &quot;type&quot;: &quot;Point&quot;}, &quot;id&quot;: &quot;10&quot;, &quot;properties&quot;: {&quot;pkey_observatie&quot;: &quot;https://oefen.dov.vlaanderen.be/data/observatie/2022-6036398&quot;, &quot;resultaat&quot;: &quot;18,6&quot;}, &quot;type&quot;: &quot;Feature&quot;}, {&quot;bbox&quot;: [4.160058756544473, 51.11109011988384, 4.160058756544473, 51.11109011988384], &quot;geometry&quot;: {&quot;coordinates&quot;: [4.160058756544473, 51.11109011988384], &quot;type&quot;: &quot;Point&quot;}, &quot;id&quot;: &quot;11&quot;, &quot;properties&quot;: {&quot;pkey_observatie&quot;: &quot;https://oefen.dov.vlaanderen.be/data/observatie/2022-1346142&quot;, &quot;resultaat&quot;: &quot;37,5&quot;}, &quot;type&quot;: &quot;Feature&quot;}, {&quot;bbox&quot;: [4.229936991414569, 50.82907824815132, 4.229936991414569, 50.82907824815132], &quot;geometry&quot;: {&quot;coordinates&quot;: [4.229936991414569, 50.82907824815132], &quot;type&quot;: &quot;Point&quot;}, &quot;id&quot;: &quot;12&quot;, &quot;properties&quot;: {&quot;pkey_observatie&quot;: &quot;https://oefen.dov.vlaanderen.be/data/observatie/2022-3532972&quot;, &quot;resultaat&quot;: &quot;23,7&quot;}, &quot;type&quot;: &quot;Feature&quot;}, {&quot;bbox&quot;: [4.723376729181827, 51.46029042754949, 4.723376729181827, 51.46029042754949], &quot;geometry&quot;: {&quot;coordinates&quot;: [4.723376729181827, 51.46029042754949], &quot;type&quot;: &quot;Point&quot;}, &quot;id&quot;: &quot;13&quot;, &quot;properties&quot;: {&quot;pkey_observatie&quot;: &quot;https://oefen.dov.vlaanderen.be/data/observatie/2022-3533195&quot;, &quot;resultaat&quot;: &quot;31,4&quot;}, &quot;type&quot;: &quot;Feature&quot;}, {&quot;bbox&quot;: [4.416525195403316, 50.94311727336822, 4.416525195403316, 50.94311727336822], &quot;geometry&quot;: {&quot;coordinates&quot;: [4.416525195403316, 50.94311727336822], &quot;type&quot;: &quot;Point&quot;}, &quot;id&quot;: &quot;14&quot;, &quot;properties&quot;: {&quot;pkey_observatie&quot;: &quot;https://oefen.dov.vlaanderen.be/data/observatie/2022-4988771&quot;, &quot;resultaat&quot;: &quot;25,2&quot;}, &quot;type&quot;: &quot;Feature&quot;}, {&quot;bbox&quot;: [4.370919923600535, 51.234523580568656, 4.370919923600535, 51.234523580568656], &quot;geometry&quot;: {&quot;coordinates&quot;: [4.370919923600535, 51.234523580568656], &quot;type&quot;: &quot;Point&quot;}, &quot;id&quot;: &quot;15&quot;, &quot;properties&quot;: {&quot;pkey_observatie&quot;: &quot;https://oefen.dov.vlaanderen.be/data/observatie/2022-6445169&quot;, &quot;resultaat&quot;: &quot;47,3&quot;}, &quot;type&quot;: &quot;Feature&quot;}, {&quot;bbox&quot;: [3.8458837074808088, 51.107533274054546, 3.8458837074808088, 51.107533274054546], &quot;geometry&quot;: {&quot;coordinates&quot;: [3.8458837074808088, 51.107533274054546], &quot;type&quot;: &quot;Point&quot;}, &quot;id&quot;: &quot;16&quot;, &quot;properties&quot;: {&quot;pkey_observatie&quot;: &quot;https://oefen.dov.vlaanderen.be/data/observatie/2023-14225297&quot;, &quot;resultaat&quot;: &quot;55,6&quot;}, &quot;type&quot;: &quot;Feature&quot;}, {&quot;bbox&quot;: [5.226774338153353, 51.02592884816574, 5.226774338153353, 51.02592884816574], &quot;geometry&quot;: {&quot;coordinates&quot;: [5.226774338153353, 51.02592884816574], &quot;type&quot;: &quot;Point&quot;}, &quot;id&quot;: &quot;17&quot;, &quot;properties&quot;: {&quot;pkey_observatie&quot;: &quot;https://oefen.dov.vlaanderen.be/data/observatie/2022-3168860&quot;, &quot;resultaat&quot;: &quot;26,9&quot;}, &quot;type&quot;: &quot;Feature&quot;}, {&quot;bbox&quot;: [4.570822647332784, 51.2033646362136, 4.570822647332784, 51.2033646362136], &quot;geometry&quot;: {&quot;coordinates&quot;: [4.570822647332784, 51.2033646362136], &quot;type&quot;: &quot;Point&quot;}, &quot;id&quot;: &quot;18&quot;, &quot;properties&quot;: {&quot;pkey_observatie&quot;: &quot;https://oefen.dov.vlaanderen.be/data/observatie/2022-3532821&quot;, &quot;resultaat&quot;: &quot;25,4&quot;}, &quot;type&quot;: &quot;Feature&quot;}, {&quot;bbox&quot;: [4.293303587021888, 51.303220761067514, 4.293303587021888, 51.303220761067514], &quot;geometry&quot;: {&quot;coordinates&quot;: [4.293303587021888, 51.303220761067514], &quot;type&quot;: &quot;Point&quot;}, &quot;id&quot;: &quot;19&quot;, &quot;properties&quot;: {&quot;pkey_observatie&quot;: &quot;https://oefen.dov.vlaanderen.be/data/observatie/2022-1391664&quot;, &quot;resultaat&quot;: &quot;24,5&quot;}, &quot;type&quot;: &quot;Feature&quot;}, {&quot;bbox&quot;: [3.1719128135503882, 50.93596791183364, 3.1719128135503882, 50.93596791183364], &quot;geometry&quot;: {&quot;coordinates&quot;: [3.1719128135503882, 50.93596791183364], &quot;type&quot;: &quot;Point&quot;}, &quot;id&quot;: &quot;20&quot;, &quot;properties&quot;: {&quot;pkey_observatie&quot;: &quot;https://oefen.dov.vlaanderen.be/data/observatie/2022-1391459&quot;, &quot;resultaat&quot;: &quot;19,5&quot;}, &quot;type&quot;: &quot;Feature&quot;}, {&quot;bbox&quot;: [3.553251918500533, 51.03694384037886, 3.553251918500533, 51.03694384037886], &quot;geometry&quot;: {&quot;coordinates&quot;: [3.553251918500533, 51.03694384037886], &quot;type&quot;: &quot;Point&quot;}, &quot;id&quot;: &quot;21&quot;, &quot;properties&quot;: {&quot;pkey_observatie&quot;: &quot;https://oefen.dov.vlaanderen.be/data/observatie/2022-2849615&quot;, &quot;resultaat&quot;: &quot;23,9&quot;}, &quot;type&quot;: &quot;Feature&quot;}, {&quot;bbox&quot;: [3.660669052669219, 50.973699431155914, 3.660669052669219, 50.973699431155914], &quot;geometry&quot;: {&quot;coordinates&quot;: [3.660669052669219, 50.973699431155914], &quot;type&quot;: &quot;Point&quot;}, &quot;id&quot;: &quot;22&quot;, &quot;properties&quot;: {&quot;pkey_observatie&quot;: &quot;https://oefen.dov.vlaanderen.be/data/observatie/2022-3577860&quot;, &quot;resultaat&quot;: &quot;26,2&quot;}, &quot;type&quot;: &quot;Feature&quot;}, {&quot;bbox&quot;: [4.431351740721374, 50.9133749598, 4.431351740721374, 50.9133749598], &quot;geometry&quot;: {&quot;coordinates&quot;: [4.431351740721374, 50.9133749598], &quot;type&quot;: &quot;Point&quot;}, &quot;id&quot;: &quot;23&quot;, &quot;properties&quot;: {&quot;pkey_observatie&quot;: &quot;https://oefen.dov.vlaanderen.be/data/observatie/2022-3577855&quot;, &quot;resultaat&quot;: &quot;23,0&quot;}, &quot;type&quot;: &quot;Feature&quot;}, {&quot;bbox&quot;: [4.884564668748336, 51.1832019362574, 4.884564668748336, 51.1832019362574], &quot;geometry&quot;: {&quot;coordinates&quot;: [4.884564668748336, 51.1832019362574], &quot;type&quot;: &quot;Point&quot;}, &quot;id&quot;: &quot;24&quot;, &quot;properties&quot;: {&quot;pkey_observatie&quot;: &quot;https://oefen.dov.vlaanderen.be/data/observatie/2022-3941410&quot;, &quot;resultaat&quot;: &quot;25,8&quot;}, &quot;type&quot;: &quot;Feature&quot;}, {&quot;bbox&quot;: [4.56822938403501, 50.968738352798404, 4.56822938403501, 50.968738352798404], &quot;geometry&quot;: {&quot;coordinates&quot;: [4.56822938403501, 50.968738352798404], &quot;type&quot;: &quot;Point&quot;}, &quot;id&quot;: &quot;25&quot;, &quot;properties&quot;: {&quot;pkey_observatie&quot;: &quot;https://oefen.dov.vlaanderen.be/data/observatie/2022-5398993&quot;, &quot;resultaat&quot;: &quot;28,4&quot;}, &quot;type&quot;: &quot;Feature&quot;}, {&quot;bbox&quot;: [2.7485909414039225, 50.86902359405955, 2.7485909414039225, 50.86902359405955], &quot;geometry&quot;: {&quot;coordinates&quot;: [2.7485909414039225, 50.86902359405955], &quot;type&quot;: &quot;Point&quot;}, &quot;id&quot;: &quot;26&quot;, &quot;properties&quot;: {&quot;pkey_observatie&quot;: &quot;https://oefen.dov.vlaanderen.be/data/observatie/2022-1392218&quot;, &quot;resultaat&quot;: &quot;23,5&quot;}, &quot;type&quot;: &quot;Feature&quot;}, {&quot;bbox&quot;: [4.3784459587178635, 51.21230838435655, 4.3784459587178635, 51.21230838435655], &quot;geometry&quot;: {&quot;coordinates&quot;: [4.3784459587178635, 51.21230838435655], &quot;type&quot;: &quot;Point&quot;}, &quot;id&quot;: &quot;27&quot;, &quot;properties&quot;: {&quot;pkey_observatie&quot;: &quot;https://oefen.dov.vlaanderen.be/data/observatie/2022-1391873&quot;, &quot;resultaat&quot;: &quot;18,8&quot;}, &quot;type&quot;: &quot;Feature&quot;}, {&quot;bbox&quot;: [3.8458837074808088, 51.107533274054546, 3.8458837074808088, 51.107533274054546], &quot;geometry&quot;: {&quot;coordinates&quot;: [3.8458837074808088, 51.107533274054546], &quot;type&quot;: &quot;Point&quot;}, &quot;id&quot;: &quot;28&quot;, &quot;properties&quot;: {&quot;pkey_observatie&quot;: &quot;https://oefen.dov.vlaanderen.be/data/observatie/2023-14225340&quot;, &quot;resultaat&quot;: &quot;23,0&quot;}, &quot;type&quot;: &quot;Feature&quot;}, {&quot;bbox&quot;: [2.97035117037674, 51.218019907295094, 2.97035117037674, 51.218019907295094], &quot;geometry&quot;: {&quot;coordinates&quot;: [2.97035117037674, 51.218019907295094], &quot;type&quot;: &quot;Point&quot;}, &quot;id&quot;: &quot;29&quot;, &quot;properties&quot;: {&quot;pkey_observatie&quot;: &quot;https://oefen.dov.vlaanderen.be/data/observatie/2022-3941398&quot;, &quot;resultaat&quot;: &quot;52,4&quot;}, &quot;type&quot;: &quot;Feature&quot;}, {&quot;bbox&quot;: [4.036419316725436, 51.094138330502766, 4.036419316725436, 51.094138330502766], &quot;geometry&quot;: {&quot;coordinates&quot;: [4.036419316725436, 51.094138330502766], &quot;type&quot;: &quot;Point&quot;}, &quot;id&quot;: &quot;30&quot;, &quot;properties&quot;: {&quot;pkey_observatie&quot;: &quot;https://oefen.dov.vlaanderen.be/data/observatie/2022-5398519&quot;, &quot;resultaat&quot;: &quot;28,7&quot;}, &quot;type&quot;: &quot;Feature&quot;}, {&quot;bbox&quot;: [4.371338432849408, 50.87426564062728, 4.371338432849408, 50.87426564062728], &quot;geometry&quot;: {&quot;coordinates&quot;: [4.371338432849408, 50.87426564062728], &quot;type&quot;: &quot;Point&quot;}, &quot;id&quot;: &quot;31&quot;, &quot;properties&quot;: {&quot;pkey_observatie&quot;: &quot;https://oefen.dov.vlaanderen.be/data/observatie/2022-5763601&quot;, &quot;resultaat&quot;: &quot;19,8&quot;}, &quot;type&quot;: &quot;Feature&quot;}, {&quot;bbox&quot;: [4.379434436493317, 51.24122593250539, 4.379434436493317, 51.24122593250539], &quot;geometry&quot;: {&quot;coordinates&quot;: [4.379434436493317, 51.24122593250539], &quot;type&quot;: &quot;Point&quot;}, &quot;id&quot;: &quot;32&quot;, &quot;properties&quot;: {&quot;pkey_observatie&quot;: &quot;https://oefen.dov.vlaanderen.be/data/observatie/2022-6489887&quot;, &quot;resultaat&quot;: &quot;23,6&quot;}, &quot;type&quot;: &quot;Feature&quot;}, {&quot;bbox&quot;: [4.367383516539853, 51.23408857766862, 4.367383516539853, 51.23408857766862], &quot;geometry&quot;: {&quot;coordinates&quot;: [4.367383516539853, 51.23408857766862], &quot;type&quot;: &quot;Point&quot;}, &quot;id&quot;: &quot;33&quot;, &quot;properties&quot;: {&quot;pkey_observatie&quot;: &quot;https://oefen.dov.vlaanderen.be/data/observatie/2022-6854317&quot;, &quot;resultaat&quot;: &quot;77,0&quot;}, &quot;type&quot;: &quot;Feature&quot;}, {&quot;bbox&quot;: [3.9772015260544094, 51.01761897535578, 3.9772015260544094, 51.01761897535578], &quot;geometry&quot;: {&quot;coordinates&quot;: [3.9772015260544094, 51.01761897535578], &quot;type&quot;: &quot;Point&quot;}, &quot;id&quot;: &quot;34&quot;, &quot;properties&quot;: {&quot;pkey_observatie&quot;: &quot;https://oefen.dov.vlaanderen.be/data/observatie/2022-6854358&quot;, &quot;resultaat&quot;: &quot;26,9&quot;}, &quot;type&quot;: &quot;Feature&quot;}, {&quot;bbox&quot;: [5.490172792456433, 50.93644979363063, 5.490172792456433, 50.93644979363063], &quot;geometry&quot;: {&quot;coordinates&quot;: [5.490172792456433, 50.93644979363063], &quot;type&quot;: &quot;Point&quot;}, &quot;id&quot;: &quot;35&quot;, &quot;properties&quot;: {&quot;pkey_observatie&quot;: &quot;https://oefen.dov.vlaanderen.be/data/observatie/2022-3259405&quot;, &quot;resultaat&quot;: &quot;24,6&quot;}, &quot;type&quot;: &quot;Feature&quot;}, {&quot;bbox&quot;: [5.084433695921548, 51.10154196494915, 5.084433695921548, 51.10154196494915], &quot;geometry&quot;: {&quot;coordinates&quot;: [5.084433695921548, 51.10154196494915], &quot;type&quot;: &quot;Point&quot;}, &quot;id&quot;: &quot;36&quot;, &quot;properties&quot;: {&quot;pkey_observatie&quot;: &quot;https://oefen.dov.vlaanderen.be/data/observatie/2022-3259744&quot;, &quot;resultaat&quot;: &quot;24,0&quot;}, &quot;type&quot;: &quot;Feature&quot;}, {&quot;bbox&quot;: [5.493019540729357, 50.941118837291135, 5.493019540729357, 50.941118837291135], &quot;geometry&quot;: {&quot;coordinates&quot;: [5.493019540729357, 50.941118837291135], &quot;type&quot;: &quot;Point&quot;}, &quot;id&quot;: &quot;37&quot;, &quot;properties&quot;: {&quot;pkey_observatie&quot;: &quot;https://oefen.dov.vlaanderen.be/data/observatie/2022-3259708&quot;, &quot;resultaat&quot;: &quot;18,4&quot;}, &quot;type&quot;: &quot;Feature&quot;}, {&quot;bbox&quot;: [4.309495045668681, 51.233115294143744, 4.309495045668681, 51.233115294143744], &quot;geometry&quot;: {&quot;coordinates&quot;: [4.309495045668681, 51.233115294143744], &quot;type&quot;: &quot;Point&quot;}, &quot;id&quot;: &quot;38&quot;, &quot;properties&quot;: {&quot;pkey_observatie&quot;: &quot;https://oefen.dov.vlaanderen.be/data/observatie/2022-5078996&quot;, &quot;resultaat&quot;: &quot;24,5&quot;}, &quot;type&quot;: &quot;Feature&quot;}, {&quot;bbox&quot;: [4.055545284395685, 51.10191381702015, 4.055545284395685, 51.10191381702015], &quot;geometry&quot;: {&quot;coordinates&quot;: [4.055545284395685, 51.10191381702015], &quot;type&quot;: &quot;Point&quot;}, &quot;id&quot;: &quot;39&quot;, &quot;properties&quot;: {&quot;pkey_observatie&quot;: &quot;https://oefen.dov.vlaanderen.be/data/observatie/2022-5079210&quot;, &quot;resultaat&quot;: &quot;23,2&quot;}, &quot;type&quot;: &quot;Feature&quot;}, {&quot;bbox&quot;: [3.25891226887574, 50.91600833288145, 3.25891226887574, 50.91600833288145], &quot;geometry&quot;: {&quot;coordinates&quot;: [3.25891226887574, 50.91600833288145], &quot;type&quot;: &quot;Point&quot;}, &quot;id&quot;: &quot;40&quot;, &quot;properties&quot;: {&quot;pkey_observatie&quot;: &quot;https://oefen.dov.vlaanderen.be/data/observatie/2022-5445069&quot;, &quot;resultaat&quot;: &quot;28,7&quot;}, &quot;type&quot;: &quot;Feature&quot;}, {&quot;bbox&quot;: [5.1549863829985165, 51.10299333041416, 5.1549863829985165, 51.10299333041416], &quot;geometry&quot;: {&quot;coordinates&quot;: [5.1549863829985165, 51.10299333041416], &quot;type&quot;: &quot;Point&quot;}, &quot;id&quot;: &quot;41&quot;, &quot;properties&quot;: {&quot;pkey_observatie&quot;: &quot;https://oefen.dov.vlaanderen.be/data/observatie/2022-6175061&quot;, &quot;resultaat&quot;: &quot;7,4&quot;}, &quot;type&quot;: &quot;Feature&quot;}, {&quot;bbox&quot;: [3.759135494700073, 51.103278617655086, 3.759135494700073, 51.103278617655086], &quot;geometry&quot;: {&quot;coordinates&quot;: [3.759135494700073, 51.103278617655086], &quot;type&quot;: &quot;Point&quot;}, &quot;id&quot;: &quot;42&quot;, &quot;properties&quot;: {&quot;pkey_observatie&quot;: &quot;https://oefen.dov.vlaanderen.be/data/observatie/2022-6536224&quot;, &quot;resultaat&quot;: &quot;21,2&quot;}, &quot;type&quot;: &quot;Feature&quot;}, {&quot;bbox&quot;: [3.881144271443098, 50.769864213051484, 3.881144271443098, 50.769864213051484], &quot;geometry&quot;: {&quot;coordinates&quot;: [3.881144271443098, 50.769864213051484], &quot;type&quot;: &quot;Point&quot;}, &quot;id&quot;: &quot;43&quot;, &quot;properties&quot;: {&quot;pkey_observatie&quot;: &quot;https://oefen.dov.vlaanderen.be/data/observatie/2022-6900360&quot;, &quot;resultaat&quot;: &quot;35,4&quot;}, &quot;type&quot;: &quot;Feature&quot;}, {&quot;bbox&quot;: [3.2619574264429487, 50.774059598163376, 3.2619574264429487, 50.774059598163376], &quot;geometry&quot;: {&quot;coordinates&quot;: [3.2619574264429487, 50.774059598163376], &quot;type&quot;: &quot;Point&quot;}, &quot;id&quot;: &quot;44&quot;, &quot;properties&quot;: {&quot;pkey_observatie&quot;: &quot;https://oefen.dov.vlaanderen.be/data/observatie/2022-1437456&quot;, &quot;resultaat&quot;: &quot;20,6&quot;}, &quot;type&quot;: &quot;Feature&quot;}, {&quot;bbox&quot;: [4.437737273219471, 51.23186222412416, 4.437737273219471, 51.23186222412416], &quot;geometry&quot;: {&quot;coordinates&quot;: [4.437737273219471, 51.23186222412416], &quot;type&quot;: &quot;Point&quot;}, &quot;id&quot;: &quot;45&quot;, &quot;properties&quot;: {&quot;pkey_observatie&quot;: &quot;https://oefen.dov.vlaanderen.be/data/observatie/2022-2176853&quot;, &quot;resultaat&quot;: &quot;26,0&quot;}, &quot;type&quot;: &quot;Feature&quot;}, {&quot;bbox&quot;: [3.7085243190041854, 51.10465405691729, 3.7085243190041854, 51.10465405691729], &quot;geometry&quot;: {&quot;coordinates&quot;: [3.7085243190041854, 51.10465405691729], &quot;type&quot;: &quot;Point&quot;}, &quot;id&quot;: &quot;46&quot;, &quot;properties&quot;: {&quot;pkey_observatie&quot;: &quot;https://oefen.dov.vlaanderen.be/data/observatie/2022-2180577&quot;, &quot;resultaat&quot;: &quot;18,8&quot;}, &quot;type&quot;: &quot;Feature&quot;}, {&quot;bbox&quot;: [4.4189060564813545, 51.24082968261136, 4.4189060564813545, 51.24082968261136], &quot;geometry&quot;: {&quot;coordinates&quot;: [4.4189060564813545, 51.24082968261136], &quot;type&quot;: &quot;Point&quot;}, &quot;id&quot;: &quot;47&quot;, &quot;properties&quot;: {&quot;pkey_observatie&quot;: &quot;https://oefen.dov.vlaanderen.be/data/observatie/2022-2530906&quot;, &quot;resultaat&quot;: &quot;24,8&quot;}, &quot;type&quot;: &quot;Feature&quot;}, {&quot;bbox&quot;: [3.789157584598734, 51.13681450752806, 3.789157584598734, 51.13681450752806], &quot;geometry&quot;: {&quot;coordinates&quot;: [3.789157584598734, 51.13681450752806], &quot;type&quot;: &quot;Point&quot;}, &quot;id&quot;: &quot;48&quot;, &quot;properties&quot;: {&quot;pkey_observatie&quot;: &quot;https://oefen.dov.vlaanderen.be/data/observatie/2022-2895223&quot;, &quot;resultaat&quot;: &quot;20,0&quot;}, &quot;type&quot;: &quot;Feature&quot;}, {&quot;bbox&quot;: [2.9189208369238604, 51.24155597384357, 2.9189208369238604, 51.24155597384357], &quot;geometry&quot;: {&quot;coordinates&quot;: [2.9189208369238604, 51.24155597384357], &quot;type&quot;: &quot;Point&quot;}, &quot;id&quot;: &quot;49&quot;, &quot;properties&quot;: {&quot;pkey_observatie&quot;: &quot;https://oefen.dov.vlaanderen.be/data/observatie/2022-3623352&quot;, &quot;resultaat&quot;: &quot;34,9&quot;}, &quot;type&quot;: &quot;Feature&quot;}, {&quot;bbox&quot;: [5.608382356681495, 51.16263327117939, 5.608382356681495, 51.16263327117939], &quot;geometry&quot;: {&quot;coordinates&quot;: [5.608382356681495, 51.16263327117939], &quot;type&quot;: &quot;Point&quot;}, &quot;id&quot;: &quot;50&quot;, &quot;properties&quot;: {&quot;pkey_observatie&quot;: &quot;https://oefen.dov.vlaanderen.be/data/observatie/2022-5808453&quot;, &quot;resultaat&quot;: &quot;27,2&quot;}, &quot;type&quot;: &quot;Feature&quot;}, {&quot;bbox&quot;: [4.329250411167956, 51.18908159834347, 4.329250411167956, 51.18908159834347], &quot;geometry&quot;: {&quot;coordinates&quot;: [4.329250411167956, 51.18908159834347], &quot;type&quot;: &quot;Point&quot;}, &quot;id&quot;: &quot;51&quot;, &quot;properties&quot;: {&quot;pkey_observatie&quot;: &quot;https://oefen.dov.vlaanderen.be/data/observatie/2022-6172014&quot;, &quot;resultaat&quot;: &quot;41,6&quot;}, &quot;type&quot;: &quot;Feature&quot;}, {&quot;bbox&quot;: [3.660669052669219, 50.973699431155914, 3.660669052669219, 50.973699431155914], &quot;geometry&quot;: {&quot;coordinates&quot;: [3.660669052669219, 50.973699431155914], &quot;type&quot;: &quot;Point&quot;}, &quot;id&quot;: &quot;52&quot;, &quot;properties&quot;: {&quot;pkey_observatie&quot;: &quot;https://oefen.dov.vlaanderen.be/data/observatie/2022-1847522&quot;, &quot;resultaat&quot;: &quot;23,2&quot;}, &quot;type&quot;: &quot;Feature&quot;}, {&quot;bbox&quot;: [3.4608721539543135, 50.95401271325622, 3.4608721539543135, 50.95401271325622], &quot;geometry&quot;: {&quot;coordinates&quot;: [3.4608721539543135, 50.95401271325622], &quot;type&quot;: &quot;Point&quot;}, &quot;id&quot;: &quot;53&quot;, &quot;properties&quot;: {&quot;pkey_observatie&quot;: &quot;https://oefen.dov.vlaanderen.be/data/observatie/2022-2220359&quot;, &quot;resultaat&quot;: &quot;24,9&quot;}, &quot;type&quot;: &quot;Feature&quot;}, {&quot;bbox&quot;: [3.8889401409573447, 51.00992020831877, 3.8889401409573447, 51.00992020831877], &quot;geometry&quot;: {&quot;coordinates&quot;: [3.8889401409573447, 51.00992020831877], &quot;type&quot;: &quot;Point&quot;}, &quot;id&quot;: &quot;54&quot;, &quot;properties&quot;: {&quot;pkey_observatie&quot;: &quot;https://oefen.dov.vlaanderen.be/data/observatie/2022-2940703&quot;, &quot;resultaat&quot;: &quot;47,5&quot;}, &quot;type&quot;: &quot;Feature&quot;}, {&quot;bbox&quot;: [2.9699592570376243, 51.2173410235768, 2.9699592570376243, 51.2173410235768], &quot;geometry&quot;: {&quot;coordinates&quot;: [2.9699592570376243, 51.2173410235768], &quot;type&quot;: &quot;Point&quot;}, &quot;id&quot;: &quot;55&quot;, &quot;properties&quot;: {&quot;pkey_observatie&quot;: &quot;https://oefen.dov.vlaanderen.be/data/observatie/2022-3669000&quot;, &quot;resultaat&quot;: &quot;27,6&quot;}, &quot;type&quot;: &quot;Feature&quot;}, {&quot;bbox&quot;: [4.327940971625114, 51.254738965607984, 4.327940971625114, 51.254738965607984], &quot;geometry&quot;: {&quot;coordinates&quot;: [4.327940971625114, 51.254738965607984], &quot;type&quot;: &quot;Point&quot;}, &quot;id&quot;: &quot;56&quot;, &quot;properties&quot;: {&quot;pkey_observatie&quot;: &quot;https://oefen.dov.vlaanderen.be/data/observatie/2022-5124846&quot;, &quot;resultaat&quot;: &quot;265,3&quot;}, &quot;type&quot;: &quot;Feature&quot;}, {&quot;bbox&quot;: [3.824655312988957, 51.2030689651009, 3.824655312988957, 51.2030689651009], &quot;geometry&quot;: {&quot;coordinates&quot;: [3.824655312988957, 51.2030689651009], &quot;type&quot;: &quot;Point&quot;}, &quot;id&quot;: &quot;57&quot;, &quot;properties&quot;: {&quot;pkey_observatie&quot;: &quot;https://oefen.dov.vlaanderen.be/data/observatie/2022-1482597&quot;, &quot;resultaat&quot;: &quot;17,5&quot;}, &quot;type&quot;: &quot;Feature&quot;}, {&quot;bbox&quot;: [3.1629659663228775, 50.940305101600316, 3.1629659663228775, 50.940305101600316], &quot;geometry&quot;: {&quot;coordinates&quot;: [3.1629659663228775, 50.940305101600316], &quot;type&quot;: &quot;Point&quot;}, &quot;id&quot;: &quot;58&quot;, &quot;properties&quot;: {&quot;pkey_observatie&quot;: &quot;https://oefen.dov.vlaanderen.be/data/observatie/2022-2941094&quot;, &quot;resultaat&quot;: &quot;25,9&quot;}, &quot;type&quot;: &quot;Feature&quot;}, {&quot;bbox&quot;: [3.277995724597349, 50.91388997467954, 3.277995724597349, 50.91388997467954], &quot;geometry&quot;: {&quot;coordinates&quot;: [3.277995724597349, 50.91388997467954], &quot;type&quot;: &quot;Point&quot;}, &quot;id&quot;: &quot;59&quot;, &quot;properties&quot;: {&quot;pkey_observatie&quot;: &quot;https://oefen.dov.vlaanderen.be/data/observatie/2022-3305257&quot;, &quot;resultaat&quot;: &quot;24,3&quot;}, &quot;type&quot;: &quot;Feature&quot;}, {&quot;bbox&quot;: [4.408015286535514, 51.211426616113734, 4.408015286535514, 51.211426616113734], &quot;geometry&quot;: {&quot;coordinates&quot;: [4.408015286535514, 51.211426616113734], &quot;type&quot;: &quot;Point&quot;}, &quot;id&quot;: &quot;60&quot;, &quot;properties&quot;: {&quot;pkey_observatie&quot;: &quot;https://oefen.dov.vlaanderen.be/data/observatie/2022-3668984&quot;, &quot;resultaat&quot;: &quot;19,5&quot;}, &quot;type&quot;: &quot;Feature&quot;}, {&quot;bbox&quot;: [3.3210505201786225, 50.821720713671965, 3.3210505201786225, 50.821720713671965], &quot;geometry&quot;: {&quot;coordinates&quot;: [3.3210505201786225, 50.821720713671965], &quot;type&quot;: &quot;Point&quot;}, &quot;id&quot;: &quot;61&quot;, &quot;properties&quot;: {&quot;pkey_observatie&quot;: &quot;https://oefen.dov.vlaanderen.be/data/observatie/2022-5489545&quot;, &quot;resultaat&quot;: &quot;37,2&quot;}, &quot;type&quot;: &quot;Feature&quot;}, {&quot;bbox&quot;: [3.8254117591655574, 51.19223574416697, 3.8254117591655574, 51.19223574416697], &quot;geometry&quot;: {&quot;coordinates&quot;: [3.8254117591655574, 51.19223574416697], &quot;type&quot;: &quot;Point&quot;}, &quot;id&quot;: &quot;62&quot;, &quot;properties&quot;: {&quot;pkey_observatie&quot;: &quot;https://oefen.dov.vlaanderen.be/data/observatie/2022-6584201&quot;, &quot;resultaat&quot;: &quot;28,3&quot;}, &quot;type&quot;: &quot;Feature&quot;}, {&quot;bbox&quot;: [4.348881430232475, 51.2134203206731, 4.348881430232475, 51.2134203206731], &quot;geometry&quot;: {&quot;coordinates&quot;: [4.348881430232475, 51.2134203206731], &quot;type&quot;: &quot;Point&quot;}, &quot;id&quot;: &quot;63&quot;, &quot;properties&quot;: {&quot;pkey_observatie&quot;: &quot;https://oefen.dov.vlaanderen.be/data/observatie/2022-1527623&quot;, &quot;resultaat&quot;: &quot;22,7&quot;}, &quot;type&quot;: &quot;Feature&quot;}, {&quot;bbox&quot;: [4.0768442021482665, 50.873983454972745, 4.0768442021482665, 50.873983454972745], &quot;geometry&quot;: {&quot;coordinates&quot;: [4.0768442021482665, 50.873983454972745], &quot;type&quot;: &quot;Point&quot;}, &quot;id&quot;: &quot;64&quot;, &quot;properties&quot;: {&quot;pkey_observatie&quot;: &quot;https://oefen.dov.vlaanderen.be/data/observatie/2022-3714134&quot;, &quot;resultaat&quot;: &quot;46,5&quot;}, &quot;type&quot;: &quot;Feature&quot;}, {&quot;bbox&quot;: [4.107298380868623, 51.033472802252675, 4.107298380868623, 51.033472802252675], &quot;geometry&quot;: {&quot;coordinates&quot;: [4.107298380868623, 51.033472802252675], &quot;type&quot;: &quot;Point&quot;}, &quot;id&quot;: &quot;65&quot;, &quot;properties&quot;: {&quot;pkey_observatie&quot;: &quot;https://oefen.dov.vlaanderen.be/data/observatie/2022-4441334&quot;, &quot;resultaat&quot;: &quot;14,8&quot;}, &quot;type&quot;: &quot;Feature&quot;}, {&quot;bbox&quot;: [3.8714993729198306, 51.00506679107918, 3.8714993729198306, 51.00506679107918], &quot;geometry&quot;: {&quot;coordinates&quot;: [3.8714993729198306, 51.00506679107918], &quot;type&quot;: &quot;Point&quot;}, &quot;id&quot;: &quot;66&quot;, &quot;properties&quot;: {&quot;pkey_observatie&quot;: &quot;https://oefen.dov.vlaanderen.be/data/observatie/2022-4441047&quot;, &quot;resultaat&quot;: &quot;25,8&quot;}, &quot;type&quot;: &quot;Feature&quot;}, {&quot;bbox&quot;: [3.825860247191237, 51.19180229910105, 3.825860247191237, 51.19180229910105], &quot;geometry&quot;: {&quot;coordinates&quot;: [3.825860247191237, 51.19180229910105], &quot;type&quot;: &quot;Point&quot;}, &quot;id&quot;: &quot;67&quot;, &quot;properties&quot;: {&quot;pkey_observatie&quot;: &quot;https://oefen.dov.vlaanderen.be/data/observatie/2022-4806450&quot;, &quot;resultaat&quot;: &quot;16,6&quot;}, &quot;type&quot;: &quot;Feature&quot;}, {&quot;bbox&quot;: [3.497636666550474, 50.97437592348876, 3.497636666550474, 50.97437592348876], &quot;geometry&quot;: {&quot;coordinates&quot;: [3.497636666550474, 50.97437592348876], &quot;type&quot;: &quot;Point&quot;}, &quot;id&quot;: &quot;68&quot;, &quot;properties&quot;: {&quot;pkey_observatie&quot;: &quot;https://oefen.dov.vlaanderen.be/data/observatie/2022-6264218&quot;, &quot;resultaat&quot;: &quot;19,4&quot;}, &quot;type&quot;: &quot;Feature&quot;}, {&quot;bbox&quot;: [5.512654163359386, 50.927464566938625, 5.512654163359386, 50.927464566938625], &quot;geometry&quot;: {&quot;coordinates&quot;: [5.512654163359386, 50.927464566938625], &quot;type&quot;: &quot;Point&quot;}, &quot;id&quot;: &quot;69&quot;, &quot;properties&quot;: {&quot;pkey_observatie&quot;: &quot;https://oefen.dov.vlaanderen.be/data/observatie/2022-6272778&quot;, &quot;resultaat&quot;: &quot;14,9&quot;}, &quot;type&quot;: &quot;Feature&quot;}, {&quot;bbox&quot;: [4.3835763936012855, 51.10928956953783, 4.3835763936012855, 51.10928956953783], &quot;geometry&quot;: {&quot;coordinates&quot;: [4.3835763936012855, 51.10928956953783], &quot;type&quot;: &quot;Point&quot;}, &quot;id&quot;: &quot;70&quot;, &quot;properties&quot;: {&quot;pkey_observatie&quot;: &quot;https://oefen.dov.vlaanderen.be/data/observatie/2022-6990986&quot;, &quot;resultaat&quot;: &quot;24,4&quot;}, &quot;type&quot;: &quot;Feature&quot;}, {&quot;bbox&quot;: [4.253072916966959, 51.28092536848485, 4.253072916966959, 51.28092536848485], &quot;geometry&quot;: {&quot;coordinates&quot;: [4.253072916966959, 51.28092536848485], &quot;type&quot;: &quot;Point&quot;}, &quot;id&quot;: &quot;71&quot;, &quot;properties&quot;: {&quot;pkey_observatie&quot;: &quot;https://oefen.dov.vlaanderen.be/data/observatie/2022-1893181&quot;, &quot;resultaat&quot;: &quot;27,6&quot;}, &quot;type&quot;: &quot;Feature&quot;}, {&quot;bbox&quot;: [4.240106202516405, 50.72097826691127, 4.240106202516405, 50.72097826691127], &quot;geometry&quot;: {&quot;coordinates&quot;: [4.240106202516405, 50.72097826691127], &quot;type&quot;: &quot;Point&quot;}, &quot;id&quot;: &quot;72&quot;, &quot;properties&quot;: {&quot;pkey_observatie&quot;: &quot;https://oefen.dov.vlaanderen.be/data/observatie/2022-2257014&quot;, &quot;resultaat&quot;: &quot;23,7&quot;}, &quot;type&quot;: &quot;Feature&quot;}, {&quot;bbox&quot;: [4.030141892606534, 51.013079909365516, 4.030141892606534, 51.013079909365516], &quot;geometry&quot;: {&quot;coordinates&quot;: [4.030141892606534, 51.013079909365516], &quot;type&quot;: &quot;Point&quot;}, &quot;id&quot;: &quot;73&quot;, &quot;properties&quot;: {&quot;pkey_observatie&quot;: &quot;https://oefen.dov.vlaanderen.be/data/observatie/2022-2622459&quot;, &quot;resultaat&quot;: &quot;29,1&quot;}, &quot;type&quot;: &quot;Feature&quot;}, {&quot;bbox&quot;: [3.731830998901321, 51.05422267682956, 3.731830998901321, 51.05422267682956], &quot;geometry&quot;: {&quot;coordinates&quot;: [3.731830998901321, 51.05422267682956], &quot;type&quot;: &quot;Point&quot;}, &quot;id&quot;: &quot;74&quot;, &quot;properties&quot;: {&quot;pkey_observatie&quot;: &quot;https://oefen.dov.vlaanderen.be/data/observatie/2022-4077664&quot;, &quot;resultaat&quot;: &quot;19,9&quot;}, &quot;type&quot;: &quot;Feature&quot;}, {&quot;bbox&quot;: [3.2222853838417587, 51.35564905574563, 3.2222853838417587, 51.35564905574563], &quot;geometry&quot;: {&quot;coordinates&quot;: [3.2222853838417587, 51.35564905574563], &quot;type&quot;: &quot;Point&quot;}, &quot;id&quot;: &quot;75&quot;, &quot;properties&quot;: {&quot;pkey_observatie&quot;: &quot;https://oefen.dov.vlaanderen.be/data/observatie/2022-4441806&quot;, &quot;resultaat&quot;: &quot;50,0&quot;}, &quot;type&quot;: &quot;Feature&quot;}, {&quot;bbox&quot;: [2.6720983941264516, 51.04417322735613, 2.6720983941264516, 51.04417322735613], &quot;geometry&quot;: {&quot;coordinates&quot;: [2.6720983941264516, 51.04417322735613], &quot;type&quot;: &quot;Point&quot;}, &quot;id&quot;: &quot;76&quot;, &quot;properties&quot;: {&quot;pkey_observatie&quot;: &quot;https://oefen.dov.vlaanderen.be/data/observatie/2022-4815273&quot;, &quot;resultaat&quot;: &quot;88,3&quot;}, &quot;type&quot;: &quot;Feature&quot;}, {&quot;bbox&quot;: [3.2030039762546867, 51.32095936639623, 3.2030039762546867, 51.32095936639623], &quot;geometry&quot;: {&quot;coordinates&quot;: [3.2030039762546867, 51.32095936639623], &quot;type&quot;: &quot;Point&quot;}, &quot;id&quot;: &quot;77&quot;, &quot;properties&quot;: {&quot;pkey_observatie&quot;: &quot;https://oefen.dov.vlaanderen.be/data/observatie/2022-5899957&quot;, &quot;resultaat&quot;: &quot;24,4&quot;}, &quot;type&quot;: &quot;Feature&quot;}, {&quot;bbox&quot;: [5.642542552116003, 50.83064372187144, 5.642542552116003, 50.83064372187144], &quot;geometry&quot;: {&quot;coordinates&quot;: [5.642542552116003, 50.83064372187144], &quot;type&quot;: &quot;Point&quot;}, &quot;id&quot;: &quot;78&quot;, &quot;properties&quot;: {&quot;pkey_observatie&quot;: &quot;https://oefen.dov.vlaanderen.be/data/observatie/2022-6627270&quot;, &quot;resultaat&quot;: &quot;33,0&quot;}, &quot;type&quot;: &quot;Feature&quot;}, {&quot;bbox&quot;: [3.8848483720976303, 51.009270456654974, 3.8848483720976303, 51.009270456654974], &quot;geometry&quot;: {&quot;coordinates&quot;: [3.8848483720976303, 51.009270456654974], &quot;type&quot;: &quot;Point&quot;}, &quot;id&quot;: &quot;79&quot;, &quot;properties&quot;: {&quot;pkey_observatie&quot;: &quot;https://oefen.dov.vlaanderen.be/data/observatie/2022-2302545&quot;, &quot;resultaat&quot;: &quot;29,8&quot;}, &quot;type&quot;: &quot;Feature&quot;}, {&quot;bbox&quot;: [4.363131928577923, 51.2278541570121, 4.363131928577923, 51.2278541570121], &quot;geometry&quot;: {&quot;coordinates&quot;: [4.363131928577923, 51.2278541570121], &quot;type&quot;: &quot;Point&quot;}, &quot;id&quot;: &quot;80&quot;, &quot;properties&quot;: {&quot;pkey_observatie&quot;: &quot;https://oefen.dov.vlaanderen.be/data/observatie/2022-2302732&quot;, &quot;resultaat&quot;: &quot;214,9&quot;}, &quot;type&quot;: &quot;Feature&quot;}, {&quot;bbox&quot;: [5.141389428285832, 50.86672185456429, 5.141389428285832, 50.86672185456429], &quot;geometry&quot;: {&quot;coordinates&quot;: [5.141389428285832, 50.86672185456429], &quot;type&quot;: &quot;Point&quot;}, &quot;id&quot;: &quot;81&quot;, &quot;properties&quot;: {&quot;pkey_observatie&quot;: &quot;https://oefen.dov.vlaanderen.be/data/observatie/2025-40300476&quot;, &quot;resultaat&quot;: &quot;417,8&quot;}, &quot;type&quot;: &quot;Feature&quot;}, {&quot;bbox&quot;: [3.8493266741561736, 50.997608448408926, 3.8493266741561736, 50.997608448408926], &quot;geometry&quot;: {&quot;coordinates&quot;: [3.8493266741561736, 50.997608448408926], &quot;type&quot;: &quot;Point&quot;}, &quot;id&quot;: &quot;82&quot;, &quot;properties&quot;: {&quot;pkey_observatie&quot;: &quot;https://oefen.dov.vlaanderen.be/data/observatie/2022-4487269&quot;, &quot;resultaat&quot;: &quot;17,4&quot;}, &quot;type&quot;: &quot;Feature&quot;}, {&quot;bbox&quot;: [5.327420838632416, 50.948546682445176, 5.327420838632416, 50.948546682445176], &quot;geometry&quot;: {&quot;coordinates&quot;: [5.327420838632416, 50.948546682445176], &quot;type&quot;: &quot;Point&quot;}, &quot;id&quot;: &quot;83&quot;, &quot;properties&quot;: {&quot;pkey_observatie&quot;: &quot;https://oefen.dov.vlaanderen.be/data/observatie/2022-4487824&quot;, &quot;resultaat&quot;: &quot;15,5&quot;}, &quot;type&quot;: &quot;Feature&quot;}, {&quot;bbox&quot;: [4.104579601537796, 51.03514554587196, 4.104579601537796, 51.03514554587196], &quot;geometry&quot;: {&quot;coordinates&quot;: [4.104579601537796, 51.03514554587196], &quot;type&quot;: &quot;Point&quot;}, &quot;id&quot;: &quot;84&quot;, &quot;properties&quot;: {&quot;pkey_observatie&quot;: &quot;https://oefen.dov.vlaanderen.be/data/observatie/2022-4852181&quot;, &quot;resultaat&quot;: &quot;34,9&quot;}, &quot;type&quot;: &quot;Feature&quot;}, {&quot;bbox&quot;: [3.881021440281192, 50.76940431880711, 3.881021440281192, 50.76940431880711], &quot;geometry&quot;: {&quot;coordinates&quot;: [3.881021440281192, 50.76940431880711], &quot;type&quot;: &quot;Point&quot;}, &quot;id&quot;: &quot;85&quot;, &quot;properties&quot;: {&quot;pkey_observatie&quot;: &quot;https://oefen.dov.vlaanderen.be/data/observatie/2022-4852208&quot;, &quot;resultaat&quot;: &quot;40,8&quot;}, &quot;type&quot;: &quot;Feature&quot;}, {&quot;bbox&quot;: [4.365651881054468, 51.23598059987248, 4.365651881054468, 51.23598059987248], &quot;geometry&quot;: {&quot;coordinates&quot;: [4.365651881054468, 51.23598059987248], &quot;type&quot;: &quot;Point&quot;}, &quot;id&quot;: &quot;86&quot;, &quot;properties&quot;: {&quot;pkey_observatie&quot;: &quot;https://oefen.dov.vlaanderen.be/data/observatie/2022-6672154&quot;, &quot;resultaat&quot;: &quot;64,4&quot;}, &quot;type&quot;: &quot;Feature&quot;}, {&quot;bbox&quot;: [4.316542119053054, 51.168002491027245, 4.316542119053054, 51.168002491027245], &quot;geometry&quot;: {&quot;coordinates&quot;: [4.316542119053054, 51.168002491027245], &quot;type&quot;: &quot;Point&quot;}, &quot;id&quot;: &quot;87&quot;, &quot;properties&quot;: {&quot;pkey_observatie&quot;: &quot;https://oefen.dov.vlaanderen.be/data/observatie/2022-6672809&quot;, &quot;resultaat&quot;: &quot;29,6&quot;}, &quot;type&quot;: &quot;Feature&quot;}, {&quot;bbox&quot;: [4.939252032593858, 51.13488502032928, 4.939252032593858, 51.13488502032928], &quot;geometry&quot;: {&quot;coordinates&quot;: [4.939252032593858, 51.13488502032928], &quot;type&quot;: &quot;Point&quot;}, &quot;id&quot;: &quot;88&quot;, &quot;properties&quot;: {&quot;pkey_observatie&quot;: &quot;https://oefen.dov.vlaanderen.be/data/observatie/2022-7036898&quot;, &quot;resultaat&quot;: &quot;22,5&quot;}, &quot;type&quot;: &quot;Feature&quot;}, {&quot;bbox&quot;: [4.434728971349471, 50.766060577274395, 4.434728971349471, 50.766060577274395], &quot;geometry&quot;: {&quot;coordinates&quot;: [4.434728971349471, 50.766060577274395], &quot;type&quot;: &quot;Point&quot;}, &quot;id&quot;: &quot;89&quot;, &quot;properties&quot;: {&quot;pkey_observatie&quot;: &quot;https://oefen.dov.vlaanderen.be/data/observatie/2022-7036147&quot;, &quot;resultaat&quot;: &quot;31,9&quot;}, &quot;type&quot;: &quot;Feature&quot;}, {&quot;bbox&quot;: [5.323737834486307, 50.915150394594185, 5.323737834486307, 50.915150394594185], &quot;geometry&quot;: {&quot;coordinates&quot;: [5.323737834486307, 50.915150394594185], &quot;type&quot;: &quot;Point&quot;}, &quot;id&quot;: &quot;90&quot;, &quot;properties&quot;: {&quot;pkey_observatie&quot;: &quot;https://oefen.dov.vlaanderen.be/data/observatie/2022-2302573&quot;, &quot;resultaat&quot;: &quot;26,3&quot;}, &quot;type&quot;: &quot;Feature&quot;}, {&quot;bbox&quot;: [3.200857803304051, 51.323762627981, 3.200857803304051, 51.323762627981], &quot;geometry&quot;: {&quot;coordinates&quot;: [3.200857803304051, 51.323762627981], &quot;type&quot;: &quot;Point&quot;}, &quot;id&quot;: &quot;91&quot;, &quot;properties&quot;: {&quot;pkey_observatie&quot;: &quot;https://oefen.dov.vlaanderen.be/data/observatie/2022-3395597&quot;, &quot;resultaat&quot;: &quot;24,0&quot;}, &quot;type&quot;: &quot;Feature&quot;}, {&quot;bbox&quot;: [4.669054340807268, 50.937551842233056, 4.669054340807268, 50.937551842233056], &quot;geometry&quot;: {&quot;coordinates&quot;: [4.669054340807268, 50.937551842233056], &quot;type&quot;: &quot;Point&quot;}, &quot;id&quot;: &quot;92&quot;, &quot;properties&quot;: {&quot;pkey_observatie&quot;: &quot;https://oefen.dov.vlaanderen.be/data/observatie/2022-4852112&quot;, &quot;resultaat&quot;: &quot;33,2&quot;}, &quot;type&quot;: &quot;Feature&quot;}, {&quot;bbox&quot;: [4.244953083021485, 51.27687404671589, 4.244953083021485, 51.27687404671589], &quot;geometry&quot;: {&quot;coordinates&quot;: [4.244953083021485, 51.27687404671589], &quot;type&quot;: &quot;Point&quot;}, &quot;id&quot;: &quot;93&quot;, &quot;properties&quot;: {&quot;pkey_observatie&quot;: &quot;https://oefen.dov.vlaanderen.be/data/observatie/2022-5581087&quot;, &quot;resultaat&quot;: &quot;24,4&quot;}, &quot;type&quot;: &quot;Feature&quot;}, {&quot;bbox&quot;: [4.36180542015462, 51.08515998831829, 4.36180542015462, 51.08515998831829], &quot;geometry&quot;: {&quot;coordinates&quot;: [4.36180542015462, 51.08515998831829], &quot;type&quot;: &quot;Point&quot;}, &quot;id&quot;: &quot;94&quot;, &quot;properties&quot;: {&quot;pkey_observatie&quot;: &quot;https://oefen.dov.vlaanderen.be/data/observatie/2022-6672725&quot;, &quot;resultaat&quot;: &quot;28,7&quot;}, &quot;type&quot;: &quot;Feature&quot;}, {&quot;bbox&quot;: [4.201683371757935, 50.84222259183242, 4.201683371757935, 50.84222259183242], &quot;geometry&quot;: {&quot;coordinates&quot;: [4.201683371757935, 50.84222259183242], &quot;type&quot;: &quot;Point&quot;}, &quot;id&quot;: &quot;95&quot;, &quot;properties&quot;: {&quot;pkey_observatie&quot;: &quot;https://oefen.dov.vlaanderen.be/data/observatie/2022-6672124&quot;, &quot;resultaat&quot;: &quot;40,7&quot;}, &quot;type&quot;: &quot;Feature&quot;}, {&quot;bbox&quot;: [4.4279211661170255, 51.245099225863825, 4.4279211661170255, 51.245099225863825], &quot;geometry&quot;: {&quot;coordinates&quot;: [4.4279211661170255, 51.245099225863825], &quot;type&quot;: &quot;Point&quot;}, &quot;id&quot;: &quot;96&quot;, &quot;properties&quot;: {&quot;pkey_observatie&quot;: &quot;https://oefen.dov.vlaanderen.be/data/observatie/2022-7045604&quot;, &quot;resultaat&quot;: &quot;134,6&quot;}, &quot;type&quot;: &quot;Feature&quot;}, {&quot;bbox&quot;: [4.334656832175916, 51.09500366801523, 4.334656832175916, 51.09500366801523], &quot;geometry&quot;: {&quot;coordinates&quot;: [4.334656832175916, 51.09500366801523], &quot;type&quot;: &quot;Point&quot;}, &quot;id&quot;: &quot;97&quot;, &quot;properties&quot;: {&quot;pkey_observatie&quot;: &quot;https://oefen.dov.vlaanderen.be/data/observatie/2022-3441524&quot;, &quot;resultaat&quot;: &quot;23,0&quot;}, &quot;type&quot;: &quot;Feature&quot;}, {&quot;bbox&quot;: [4.087035860766115, 50.887322008667844, 4.087035860766115, 50.887322008667844], &quot;geometry&quot;: {&quot;coordinates&quot;: [4.087035860766115, 50.887322008667844], &quot;type&quot;: &quot;Point&quot;}, &quot;id&quot;: &quot;98&quot;, &quot;properties&quot;: {&quot;pkey_observatie&quot;: &quot;https://oefen.dov.vlaanderen.be/data/observatie/2022-5265050&quot;, &quot;resultaat&quot;: &quot;41,9&quot;}, &quot;type&quot;: &quot;Feature&quot;}, {&quot;bbox&quot;: [4.4189060564813545, 51.24082968261136, 4.4189060564813545, 51.24082968261136], &quot;geometry&quot;: {&quot;coordinates&quot;: [4.4189060564813545, 51.24082968261136], &quot;type&quot;: &quot;Point&quot;}, &quot;id&quot;: &quot;99&quot;, &quot;properties&quot;: {&quot;pkey_observatie&quot;: &quot;https://oefen.dov.vlaanderen.be/data/observatie/2022-5626243&quot;, &quot;resultaat&quot;: &quot;24,3&quot;}, &quot;type&quot;: &quot;Feature&quot;}], &quot;type&quot;: &quot;FeatureCollection&quot;});\n",
       "\n",
       "        \n",
       "    \n",
       "    geo_json_537161bf51e539167d7bceb9e6d54a0c.bindTooltip(\n",
       "    function(layer){\n",
       "    let div = L.DomUtil.create(&#x27;div&#x27;);\n",
       "    \n",
       "    let handleObject = feature=&gt;typeof(feature)==&#x27;object&#x27; ? JSON.stringify(feature) : feature;\n",
       "    let fields = [&quot;pkey_observatie&quot;, &quot;resultaat&quot;];\n",
       "    let aliases = [&quot;pkey_observatie&quot;, &quot;resultaat&quot;];\n",
       "    let table = &#x27;&lt;table&gt;&#x27; +\n",
       "        String(\n",
       "        fields.map(\n",
       "        (v,i)=&gt;\n",
       "        `&lt;tr&gt;\n",
       "            &lt;th&gt;${aliases[i]}&lt;/th&gt;\n",
       "            \n",
       "            &lt;td&gt;${handleObject(layer.feature.properties[v])}&lt;/td&gt;\n",
       "        &lt;/tr&gt;`).join(&#x27;&#x27;))\n",
       "    +&#x27;&lt;/table&gt;&#x27;;\n",
       "    div.innerHTML=table;\n",
       "    \n",
       "    return div\n",
       "    }\n",
       "    ,{&quot;className&quot;: &quot;foliumtooltip&quot;, &quot;sticky&quot;: true});\n",
       "                     \n",
       "&lt;/script&gt;\n",
       "&lt;/html&gt;\" style=\"position:absolute;width:100%;height:100%;left:0;top:0;border:none !important;\" allowfullscreen webkitallowfullscreen mozallowfullscreen></iframe></div></div>"
      ],
      "text/plain": [
       "<folium.folium.Map at 0x7d237f5f17b0>"
      ]
     },
     "execution_count": 19,
     "metadata": {},
     "output_type": "execute_result"
    }
   ],
   "source": [
    "gdf = gpd.GeoDataFrame(df, geometry='geom', crs='EPSG:31370')\n",
    "gdf.explore()"
   ]
  },
  {
   "cell_type": "code",
   "execution_count": null,
   "metadata": {},
   "outputs": [],
   "source": []
  }
 ],
 "metadata": {
  "kernelspec": {
   "display_name": ".venv",
   "language": "python",
   "name": "python3"
  },
  "language_info": {
   "codemirror_mode": {
    "name": "ipython",
    "version": 3
   },
   "file_extension": ".py",
   "mimetype": "text/x-python",
   "name": "python",
   "nbconvert_exporter": "python",
   "pygments_lexer": "ipython3",
   "version": "3.10.12"
  }
 },
 "nbformat": 4,
 "nbformat_minor": 4
}
