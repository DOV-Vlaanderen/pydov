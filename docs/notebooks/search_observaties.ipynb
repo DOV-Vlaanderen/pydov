{
 "cells": [
  {
   "cell_type": "markdown",
   "metadata": {},
   "source": [
    "# Example of DOV search methods for observations (observaties)"
   ]
  },
  {
   "cell_type": "markdown",
   "metadata": {},
   "source": [
    "[![Binder](https://mybinder.org/badge_logo.svg)](https://mybinder.org/v2/gh/DOV-Vlaanderen/pydov/master?filepath=docs%2Fnotebooks%2Fsearch_observaties.ipynb)"
   ]
  },
  {
   "cell_type": "markdown",
   "metadata": {},
   "source": [
    "## Use cases explained below\n",
    "* Get observations in a bounding box\n",
    "* Get observations with specific properties\n",
    "* Get observations in a bounding box based on specific properties\n",
    "* Select observations in a municipality and return depth\n",
    "* Get observations based on fields not available in the standard output dataframee"
   ]
  },
  {
   "cell_type": "code",
   "execution_count": 1,
   "metadata": {},
   "outputs": [],
   "source": [
    "%matplotlib inline\n",
    "import inspect, sys\n",
    "import warnings; warnings.simplefilter('ignore')"
   ]
  },
  {
   "cell_type": "code",
   "execution_count": 2,
   "metadata": {},
   "outputs": [],
   "source": [
    "# check pydov path\n",
    "import pydov"
   ]
  },
  {
   "cell_type": "markdown",
   "metadata": {},
   "source": [
    "## Get information about the datatype 'Observatie'"
   ]
  },
  {
   "cell_type": "code",
   "execution_count": 3,
   "metadata": {},
   "outputs": [],
   "source": [
    "from pydov.search.observatie import ObservatieSearch\n",
    "observatie = ObservatieSearch()"
   ]
  },
  {
   "cell_type": "markdown",
   "metadata": {},
   "source": [
    "A description is provided for the 'Observatie' datatype:"
   ]
  },
  {
   "cell_type": "code",
   "execution_count": 4,
   "metadata": {},
   "outputs": [
    {
     "data": {
      "text/plain": [
       "'Observaties zijn gekoppeld aan een monster en geven de waarde van een kenmerk/parameter weer die in een laboratorium of in het veld bepaald kunnen zijn. De observaties kunnen zeer divers zijn variërend van een kwantitatieve waarde uit een meting zoals watergehalte (%), kwalitatieve waarde uit een beschrijving of classificatie zoals grondsoort, gecodeerde waarde, zoals kalkreactie met HCL (ja/nee), een meetreeks zoals een korrelverdeling, een textuurmeting, een tijdmeetreeks zoals de temperatuurmeting met de gazondolk. De geografische ligging (X en Y (mL72) nemen ze over van het gekoppeld monster.  De gegevens van de observaties kunnen worden geëxporteerd in een rapport.'"
      ]
     },
     "execution_count": 4,
     "metadata": {},
     "output_type": "execute_result"
    }
   ],
   "source": [
    "observatie.get_description()"
   ]
  },
  {
   "cell_type": "markdown",
   "metadata": {},
   "source": [
    "The different fields that are available for objects of the 'Observatie' datatype can be requested with the get_fields() method:"
   ]
  },
  {
   "cell_type": "code",
   "execution_count": 5,
   "metadata": {},
   "outputs": [
    {
     "name": "stdout",
     "output_type": "stream",
     "text": [
      "id\n",
      "pkey_observatie\n",
      "pkey_parent\n",
      "parameter\n",
      "parametergroep\n",
      "observatietype\n",
      "detectieconditie\n",
      "resultaat\n",
      "eenheid\n",
      "fenomeentijd\n",
      "resultaattijd\n",
      "methode\n",
      "uitvoerder\n",
      "diepte_van_m\n",
      "diepte_tot_m\n",
      "herkomst\n",
      "opmerking\n",
      "opdracht\n",
      "geom\n"
     ]
    }
   ],
   "source": [
    "fields = observatie.get_fields()\n",
    "\n",
    "# print available fields\n",
    "for f in fields.values():\n",
    "    print(f['name'])"
   ]
  },
  {
   "cell_type": "markdown",
   "metadata": {},
   "source": [
    "You can get more information of a field by requesting it from the fields dictionary:\n",
    "* *name*: name of the field\n",
    "* *definition*: definition of this field\n",
    "* *cost*: currently this is either 1 or 10, depending on the datasource of the field. It is an indication of the expected time it will take to retrieve this field in the output dataframe.\n",
    "* *notnull*: whether the field is mandatory or not\n",
    "* *type*: datatype of the values of this field"
   ]
  },
  {
   "cell_type": "code",
   "execution_count": 6,
   "metadata": {},
   "outputs": [
    {
     "data": {
      "text/plain": [
       "{'name': 'diepte_van_m',\n",
       " 'definition': None,\n",
       " 'type': 'float',\n",
       " 'list': False,\n",
       " 'notnull': False,\n",
       " 'query': True,\n",
       " 'cost': 1}"
      ]
     },
     "execution_count": 6,
     "metadata": {},
     "output_type": "execute_result"
    }
   ],
   "source": [
    "fields['diepte_van_m']"
   ]
  },
  {
   "cell_type": "markdown",
   "metadata": {},
   "source": [
    "## Example use cases"
   ]
  },
  {
   "cell_type": "markdown",
   "metadata": {},
   "source": [
    "### Get observations in a bounding box"
   ]
  },
  {
   "cell_type": "markdown",
   "metadata": {},
   "source": [
    "Get data for all the observations that are geographically located within the bounds of the specified box.\n",
    "\n",
    "The coordinates are in the Belgian Lambert72 (EPSG:31370) coordinate system and are given in the order of lower left x, lower left y, upper right x, upper right y."
   ]
  },
  {
   "cell_type": "code",
   "execution_count": 7,
   "metadata": {},
   "outputs": [
    {
     "name": "stdout",
     "output_type": "stream",
     "text": [
      "[000/001] .\n"
     ]
    },
    {
     "data": {
      "text/html": [
       "<div>\n",
       "<style scoped>\n",
       "    .dataframe tbody tr th:only-of-type {\n",
       "        vertical-align: middle;\n",
       "    }\n",
       "\n",
       "    .dataframe tbody tr th {\n",
       "        vertical-align: top;\n",
       "    }\n",
       "\n",
       "    .dataframe thead th {\n",
       "        text-align: right;\n",
       "    }\n",
       "</style>\n",
       "<table border=\"1\" class=\"dataframe\">\n",
       "  <thead>\n",
       "    <tr style=\"text-align: right;\">\n",
       "      <th></th>\n",
       "      <th>pkey_observatie</th>\n",
       "      <th>pkey_parent</th>\n",
       "      <th>fenomeentijd</th>\n",
       "      <th>diepte_van_m</th>\n",
       "      <th>diepte_tot_m</th>\n",
       "      <th>parametergroep</th>\n",
       "      <th>parameter</th>\n",
       "      <th>detectieconditie</th>\n",
       "      <th>resultaat</th>\n",
       "      <th>eenheid</th>\n",
       "      <th>methode</th>\n",
       "      <th>uitvoerder</th>\n",
       "      <th>herkomst</th>\n",
       "    </tr>\n",
       "  </thead>\n",
       "  <tbody>\n",
       "    <tr>\n",
       "      <th>0</th>\n",
       "      <td>https://www.dov.vlaanderen.be/data/observatie/...</td>\n",
       "      <td>https://www.dov.vlaanderen.be/data/monster/201...</td>\n",
       "      <td>2018-01-09</td>\n",
       "      <td>4.50</td>\n",
       "      <td>4.75</td>\n",
       "      <td>Onderkenningsproeven-korrelverdeling</td>\n",
       "      <td>Korrelverdeling d.m.v. zeefproef (Korrelverdel...</td>\n",
       "      <td>NaN</td>\n",
       "      <td>NaN</td>\n",
       "      <td>NaN</td>\n",
       "      <td>Zeving</td>\n",
       "      <td>VO - Afdeling Geotechniek</td>\n",
       "      <td>LABO</td>\n",
       "    </tr>\n",
       "    <tr>\n",
       "      <th>1</th>\n",
       "      <td>https://www.dov.vlaanderen.be/data/observatie/...</td>\n",
       "      <td>https://www.dov.vlaanderen.be/data/monster/201...</td>\n",
       "      <td>2018-01-09</td>\n",
       "      <td>4.75</td>\n",
       "      <td>5.00</td>\n",
       "      <td>Onderkenning - proeven</td>\n",
       "      <td>Gehalte Kalkachtige stoffen (Gehalte Kalkachti...</td>\n",
       "      <td>NaN</td>\n",
       "      <td>13.2</td>\n",
       "      <td>NaN</td>\n",
       "      <td>Chemische reactie met waterstofchloride</td>\n",
       "      <td>VO - Afdeling Geotechniek</td>\n",
       "      <td>LABO</td>\n",
       "    </tr>\n",
       "    <tr>\n",
       "      <th>2</th>\n",
       "      <td>https://www.dov.vlaanderen.be/data/observatie/...</td>\n",
       "      <td>https://www.dov.vlaanderen.be/data/monster/201...</td>\n",
       "      <td>2018-01-09</td>\n",
       "      <td>4.50</td>\n",
       "      <td>4.75</td>\n",
       "      <td>Onderkenning-grondsoort</td>\n",
       "      <td>Grondsoort volgens ASTM, de beschrijving (ASTM...</td>\n",
       "      <td>NaN</td>\n",
       "      <td>Silt with sand</td>\n",
       "      <td>NaN</td>\n",
       "      <td>Onbekend</td>\n",
       "      <td>VO - Afdeling Geotechniek</td>\n",
       "      <td>LABO</td>\n",
       "    </tr>\n",
       "    <tr>\n",
       "      <th>3</th>\n",
       "      <td>https://www.dov.vlaanderen.be/data/observatie/...</td>\n",
       "      <td>https://www.dov.vlaanderen.be/data/monster/201...</td>\n",
       "      <td>2018-01-09</td>\n",
       "      <td>7.50</td>\n",
       "      <td>8.00</td>\n",
       "      <td>Onderkenningsproeven-korrelverdeling</td>\n",
       "      <td>Korrelverdeling d.m.v. hydrometer/areometer (K...</td>\n",
       "      <td>NaN</td>\n",
       "      <td>NaN</td>\n",
       "      <td>NaN</td>\n",
       "      <td>Hydrometer</td>\n",
       "      <td>VO - Afdeling Geotechniek</td>\n",
       "      <td>LABO</td>\n",
       "    </tr>\n",
       "    <tr>\n",
       "      <th>4</th>\n",
       "      <td>https://www.dov.vlaanderen.be/data/observatie/...</td>\n",
       "      <td>https://www.dov.vlaanderen.be/data/monster/201...</td>\n",
       "      <td>2018-01-09</td>\n",
       "      <td>7.50</td>\n",
       "      <td>8.00</td>\n",
       "      <td>Onderkenning-grondsoort</td>\n",
       "      <td>Grondsoort volgens ASTM, de beschrijving (ASTM...</td>\n",
       "      <td>NaN</td>\n",
       "      <td>Clayey sand</td>\n",
       "      <td>NaN</td>\n",
       "      <td>Onbekend</td>\n",
       "      <td>VO - Afdeling Geotechniek</td>\n",
       "      <td>LABO</td>\n",
       "    </tr>\n",
       "  </tbody>\n",
       "</table>\n",
       "</div>"
      ],
      "text/plain": [
       "                                     pkey_observatie  \\\n",
       "0  https://www.dov.vlaanderen.be/data/observatie/...   \n",
       "1  https://www.dov.vlaanderen.be/data/observatie/...   \n",
       "2  https://www.dov.vlaanderen.be/data/observatie/...   \n",
       "3  https://www.dov.vlaanderen.be/data/observatie/...   \n",
       "4  https://www.dov.vlaanderen.be/data/observatie/...   \n",
       "\n",
       "                                         pkey_parent fenomeentijd  \\\n",
       "0  https://www.dov.vlaanderen.be/data/monster/201...   2018-01-09   \n",
       "1  https://www.dov.vlaanderen.be/data/monster/201...   2018-01-09   \n",
       "2  https://www.dov.vlaanderen.be/data/monster/201...   2018-01-09   \n",
       "3  https://www.dov.vlaanderen.be/data/monster/201...   2018-01-09   \n",
       "4  https://www.dov.vlaanderen.be/data/monster/201...   2018-01-09   \n",
       "\n",
       "   diepte_van_m  diepte_tot_m                        parametergroep  \\\n",
       "0          4.50          4.75  Onderkenningsproeven-korrelverdeling   \n",
       "1          4.75          5.00                Onderkenning - proeven   \n",
       "2          4.50          4.75               Onderkenning-grondsoort   \n",
       "3          7.50          8.00  Onderkenningsproeven-korrelverdeling   \n",
       "4          7.50          8.00               Onderkenning-grondsoort   \n",
       "\n",
       "                                           parameter  detectieconditie  \\\n",
       "0  Korrelverdeling d.m.v. zeefproef (Korrelverdel...               NaN   \n",
       "1  Gehalte Kalkachtige stoffen (Gehalte Kalkachti...               NaN   \n",
       "2  Grondsoort volgens ASTM, de beschrijving (ASTM...               NaN   \n",
       "3  Korrelverdeling d.m.v. hydrometer/areometer (K...               NaN   \n",
       "4  Grondsoort volgens ASTM, de beschrijving (ASTM...               NaN   \n",
       "\n",
       "        resultaat  eenheid                                  methode  \\\n",
       "0             NaN      NaN                                   Zeving   \n",
       "1            13.2      NaN  Chemische reactie met waterstofchloride   \n",
       "2  Silt with sand      NaN                                 Onbekend   \n",
       "3             NaN      NaN                               Hydrometer   \n",
       "4     Clayey sand      NaN                                 Onbekend   \n",
       "\n",
       "                  uitvoerder herkomst  \n",
       "0  VO - Afdeling Geotechniek     LABO  \n",
       "1  VO - Afdeling Geotechniek     LABO  \n",
       "2  VO - Afdeling Geotechniek     LABO  \n",
       "3  VO - Afdeling Geotechniek     LABO  \n",
       "4  VO - Afdeling Geotechniek     LABO  "
      ]
     },
     "execution_count": 7,
     "metadata": {},
     "output_type": "execute_result"
    }
   ],
   "source": [
    "from pydov.util.location import Within, Box\n",
    "\n",
    "df = observatie.search(location=Within(Box(114000, 172310, 114005, 172315)), max_features = 10)\n",
    "df.head()"
   ]
  },
  {
   "cell_type": "markdown",
   "metadata": {},
   "source": [
    "The dataframe contains several observations made at the same location\n",
    "\n",
    "Using the *pkey_observatie* field one can request the details of these obsevrations in a webbrowser:"
   ]
  },
  {
   "cell_type": "code",
   "execution_count": 8,
   "metadata": {},
   "outputs": [
    {
     "name": "stdout",
     "output_type": "stream",
     "text": [
      "https://www.dov.vlaanderen.be/data/observatie/2022-1663146\n",
      "https://www.dov.vlaanderen.be/data/observatie/2022-1435301\n",
      "https://www.dov.vlaanderen.be/data/observatie/2022-1572329\n",
      "https://www.dov.vlaanderen.be/data/observatie/2022-2028882\n",
      "https://www.dov.vlaanderen.be/data/observatie/2022-1846538\n",
      "https://www.dov.vlaanderen.be/data/observatie/2022-2760180\n",
      "https://www.dov.vlaanderen.be/data/observatie/2023-11029660\n",
      "https://www.dov.vlaanderen.be/data/observatie/2022-2531559\n",
      "https://www.dov.vlaanderen.be/data/observatie/2022-3717678\n",
      "https://www.dov.vlaanderen.be/data/observatie/2022-1754871\n"
     ]
    }
   ],
   "source": [
    "for pkey_observatie in set(df.pkey_observatie):\n",
    "    print(pkey_observatie)"
   ]
  },
  {
   "cell_type": "markdown",
   "metadata": {},
   "source": [
    "### Get observations with specific properties"
   ]
  },
  {
   "cell_type": "markdown",
   "metadata": {},
   "source": [
    "Next to querying observations based on their geographic location within a bounding box, we can also search for observations matching a specific set of properties. For this we can build a query using a combination of the 'Observatie' fields and operators provided by the WFS protocol.\n",
    "\n",
    "A list of possible operators can be found below:"
   ]
  },
  {
   "cell_type": "code",
   "execution_count": 9,
   "metadata": {},
   "outputs": [
    {
     "data": {
      "text/plain": [
       "['PropertyIsBetween',\n",
       " 'PropertyIsEqualTo',\n",
       " 'PropertyIsGreaterThan',\n",
       " 'PropertyIsGreaterThanOrEqualTo',\n",
       " 'PropertyIsLessThan',\n",
       " 'PropertyIsLessThanOrEqualTo',\n",
       " 'PropertyIsLike',\n",
       " 'PropertyIsNotEqualTo',\n",
       " 'PropertyIsNull',\n",
       " 'SortProperty']"
      ]
     },
     "execution_count": 9,
     "metadata": {},
     "output_type": "execute_result"
    }
   ],
   "source": [
    "[i for i,j in inspect.getmembers(sys.modules['owslib.fes2'], inspect.isclass) if 'Property' in i]"
   ]
  },
  {
   "cell_type": "markdown",
   "metadata": {},
   "source": [
    "In this example we build a query using the *PropertyIsEqualTo* operator to find all observations concerning the parameter \"Watergehalte (watergehalte)\":"
   ]
  },
  {
   "cell_type": "code",
   "execution_count": 10,
   "metadata": {},
   "outputs": [
    {
     "name": "stdout",
     "output_type": "stream",
     "text": [
      "[000/001] .\n"
     ]
    },
    {
     "data": {
      "text/html": [
       "<div>\n",
       "<style scoped>\n",
       "    .dataframe tbody tr th:only-of-type {\n",
       "        vertical-align: middle;\n",
       "    }\n",
       "\n",
       "    .dataframe tbody tr th {\n",
       "        vertical-align: top;\n",
       "    }\n",
       "\n",
       "    .dataframe thead th {\n",
       "        text-align: right;\n",
       "    }\n",
       "</style>\n",
       "<table border=\"1\" class=\"dataframe\">\n",
       "  <thead>\n",
       "    <tr style=\"text-align: right;\">\n",
       "      <th></th>\n",
       "      <th>pkey_observatie</th>\n",
       "      <th>pkey_parent</th>\n",
       "      <th>fenomeentijd</th>\n",
       "      <th>diepte_van_m</th>\n",
       "      <th>diepte_tot_m</th>\n",
       "      <th>parametergroep</th>\n",
       "      <th>parameter</th>\n",
       "      <th>detectieconditie</th>\n",
       "      <th>resultaat</th>\n",
       "      <th>eenheid</th>\n",
       "      <th>methode</th>\n",
       "      <th>uitvoerder</th>\n",
       "      <th>herkomst</th>\n",
       "    </tr>\n",
       "  </thead>\n",
       "  <tbody>\n",
       "    <tr>\n",
       "      <th>0</th>\n",
       "      <td>https://www.dov.vlaanderen.be/data/observatie/...</td>\n",
       "      <td>https://www.dov.vlaanderen.be/data/monster/201...</td>\n",
       "      <td>1998-02-09</td>\n",
       "      <td>NaN</td>\n",
       "      <td>NaN</td>\n",
       "      <td>Volumemassa-watergehalte</td>\n",
       "      <td>Watergehalte (watergehalte)</td>\n",
       "      <td>NaN</td>\n",
       "      <td>27</td>\n",
       "      <td>NaN</td>\n",
       "      <td>Gewichtsverlies na drogen in droogstoof</td>\n",
       "      <td>Katholieke Universiteit Leuven (KUL)</td>\n",
       "      <td>LABO</td>\n",
       "    </tr>\n",
       "    <tr>\n",
       "      <th>1</th>\n",
       "      <td>https://www.dov.vlaanderen.be/data/observatie/...</td>\n",
       "      <td>https://www.dov.vlaanderen.be/data/monster/201...</td>\n",
       "      <td>1998-02-09</td>\n",
       "      <td>NaN</td>\n",
       "      <td>NaN</td>\n",
       "      <td>Volumemassa-watergehalte</td>\n",
       "      <td>Watergehalte (watergehalte)</td>\n",
       "      <td>NaN</td>\n",
       "      <td>24.1</td>\n",
       "      <td>NaN</td>\n",
       "      <td>Gewichtsverlies na drogen in droogstoof</td>\n",
       "      <td>Katholieke Universiteit Leuven (KUL)</td>\n",
       "      <td>LABO</td>\n",
       "    </tr>\n",
       "    <tr>\n",
       "      <th>2</th>\n",
       "      <td>https://www.dov.vlaanderen.be/data/observatie/...</td>\n",
       "      <td>https://www.dov.vlaanderen.be/data/monster/201...</td>\n",
       "      <td>1998-09-08</td>\n",
       "      <td>NaN</td>\n",
       "      <td>NaN</td>\n",
       "      <td>Volumemassa-watergehalte</td>\n",
       "      <td>Watergehalte (watergehalte)</td>\n",
       "      <td>NaN</td>\n",
       "      <td>24.5</td>\n",
       "      <td>NaN</td>\n",
       "      <td>Gewichtsverlies na drogen in droogstoof</td>\n",
       "      <td>Vrije Universiteit Brussel</td>\n",
       "      <td>LABO</td>\n",
       "    </tr>\n",
       "    <tr>\n",
       "      <th>3</th>\n",
       "      <td>https://www.dov.vlaanderen.be/data/observatie/...</td>\n",
       "      <td>https://www.dov.vlaanderen.be/data/monster/201...</td>\n",
       "      <td>1998-05-08</td>\n",
       "      <td>NaN</td>\n",
       "      <td>NaN</td>\n",
       "      <td>Volumemassa-watergehalte</td>\n",
       "      <td>Watergehalte (watergehalte)</td>\n",
       "      <td>NaN</td>\n",
       "      <td>25.2</td>\n",
       "      <td>NaN</td>\n",
       "      <td>Gewichtsverlies na drogen in droogstoof</td>\n",
       "      <td>MVG - Afdeling Geotechniek</td>\n",
       "      <td>LABO</td>\n",
       "    </tr>\n",
       "    <tr>\n",
       "      <th>4</th>\n",
       "      <td>https://www.dov.vlaanderen.be/data/observatie/...</td>\n",
       "      <td>https://www.dov.vlaanderen.be/data/monster/202...</td>\n",
       "      <td>2021-04-05</td>\n",
       "      <td>2.5</td>\n",
       "      <td>3.0</td>\n",
       "      <td>Volumemassa-watergehalte</td>\n",
       "      <td>Watergehalte (watergehalte)</td>\n",
       "      <td>NaN</td>\n",
       "      <td>22.6</td>\n",
       "      <td>NaN</td>\n",
       "      <td>Gewichtsverlies na drogen in droogstoof</td>\n",
       "      <td>VO - Afdeling Geotechniek</td>\n",
       "      <td>LABO</td>\n",
       "    </tr>\n",
       "  </tbody>\n",
       "</table>\n",
       "</div>"
      ],
      "text/plain": [
       "                                     pkey_observatie  \\\n",
       "0  https://www.dov.vlaanderen.be/data/observatie/...   \n",
       "1  https://www.dov.vlaanderen.be/data/observatie/...   \n",
       "2  https://www.dov.vlaanderen.be/data/observatie/...   \n",
       "3  https://www.dov.vlaanderen.be/data/observatie/...   \n",
       "4  https://www.dov.vlaanderen.be/data/observatie/...   \n",
       "\n",
       "                                         pkey_parent fenomeentijd  \\\n",
       "0  https://www.dov.vlaanderen.be/data/monster/201...   1998-02-09   \n",
       "1  https://www.dov.vlaanderen.be/data/monster/201...   1998-02-09   \n",
       "2  https://www.dov.vlaanderen.be/data/monster/201...   1998-09-08   \n",
       "3  https://www.dov.vlaanderen.be/data/monster/201...   1998-05-08   \n",
       "4  https://www.dov.vlaanderen.be/data/monster/202...   2021-04-05   \n",
       "\n",
       "   diepte_van_m  diepte_tot_m            parametergroep  \\\n",
       "0           NaN           NaN  Volumemassa-watergehalte   \n",
       "1           NaN           NaN  Volumemassa-watergehalte   \n",
       "2           NaN           NaN  Volumemassa-watergehalte   \n",
       "3           NaN           NaN  Volumemassa-watergehalte   \n",
       "4           2.5           3.0  Volumemassa-watergehalte   \n",
       "\n",
       "                     parameter  detectieconditie resultaat  eenheid  \\\n",
       "0  Watergehalte (watergehalte)               NaN        27      NaN   \n",
       "1  Watergehalte (watergehalte)               NaN      24.1      NaN   \n",
       "2  Watergehalte (watergehalte)               NaN      24.5      NaN   \n",
       "3  Watergehalte (watergehalte)               NaN      25.2      NaN   \n",
       "4  Watergehalte (watergehalte)               NaN      22.6      NaN   \n",
       "\n",
       "                                   methode  \\\n",
       "0  Gewichtsverlies na drogen in droogstoof   \n",
       "1  Gewichtsverlies na drogen in droogstoof   \n",
       "2  Gewichtsverlies na drogen in droogstoof   \n",
       "3  Gewichtsverlies na drogen in droogstoof   \n",
       "4  Gewichtsverlies na drogen in droogstoof   \n",
       "\n",
       "                             uitvoerder herkomst  \n",
       "0  Katholieke Universiteit Leuven (KUL)     LABO  \n",
       "1  Katholieke Universiteit Leuven (KUL)     LABO  \n",
       "2            Vrije Universiteit Brussel     LABO  \n",
       "3            MVG - Afdeling Geotechniek     LABO  \n",
       "4             VO - Afdeling Geotechniek     LABO  "
      ]
     },
     "execution_count": 10,
     "metadata": {},
     "output_type": "execute_result"
    }
   ],
   "source": [
    "from owslib.fes2 import PropertyIsEqualTo\n",
    "\n",
    "query = PropertyIsEqualTo(propertyname='parameter',\n",
    "                          literal='Watergehalte (watergehalte)')\n",
    "df = observatie.search(query=query, max_features = 10)\n",
    "\n",
    "df.head()"
   ]
  },
  {
   "cell_type": "markdown",
   "metadata": {},
   "source": [
    "Once again we can use the *pkey_observatie* as a permanent link to the information of these observations:"
   ]
  },
  {
   "cell_type": "code",
   "execution_count": 11,
   "metadata": {
    "scrolled": true
   },
   "outputs": [
    {
     "name": "stdout",
     "output_type": "stream",
     "text": [
      "https://www.dov.vlaanderen.be/data/observatie/2022-7106189\n",
      "https://www.dov.vlaanderen.be/data/observatie/2022-7105792\n",
      "https://www.dov.vlaanderen.be/data/observatie/2022-7106540\n",
      "https://www.dov.vlaanderen.be/data/observatie/2022-7106506\n",
      "https://www.dov.vlaanderen.be/data/observatie/2022-7105881\n",
      "https://www.dov.vlaanderen.be/data/observatie/2022-7105925\n",
      "https://www.dov.vlaanderen.be/data/observatie/2022-7106122\n",
      "https://www.dov.vlaanderen.be/data/observatie/2022-7106207\n",
      "https://www.dov.vlaanderen.be/data/observatie/2022-7106264\n",
      "https://www.dov.vlaanderen.be/data/observatie/2022-7105787\n"
     ]
    }
   ],
   "source": [
    "for pkey_observatie in set(df.pkey_observatie):\n",
    "    print(pkey_observatie)"
   ]
  },
  {
   "cell_type": "markdown",
   "metadata": {},
   "source": [
    "### Get observations in a bounding box based on specific properties"
   ]
  },
  {
   "cell_type": "markdown",
   "metadata": {},
   "source": [
    "We can combine a query on attributes with a query on geographic location to get the observations within a bounding box that have specific properties.\n",
    "\n",
    "The following example requests the observations where the parameter 'Watergehalte (watergehalte)' is greater than 30 and within the given bounding box.\n",
    "\n",
    "(Note that the datatype of the *literal* parameter should be a string, regardless of the datatype of this field in the output dataframe.)"
   ]
  },
  {
   "cell_type": "code",
   "execution_count": 12,
   "metadata": {},
   "outputs": [
    {
     "name": "stdout",
     "output_type": "stream",
     "text": [
      "[000/001] .\n"
     ]
    },
    {
     "data": {
      "text/html": [
       "<div>\n",
       "<style scoped>\n",
       "    .dataframe tbody tr th:only-of-type {\n",
       "        vertical-align: middle;\n",
       "    }\n",
       "\n",
       "    .dataframe tbody tr th {\n",
       "        vertical-align: top;\n",
       "    }\n",
       "\n",
       "    .dataframe thead th {\n",
       "        text-align: right;\n",
       "    }\n",
       "</style>\n",
       "<table border=\"1\" class=\"dataframe\">\n",
       "  <thead>\n",
       "    <tr style=\"text-align: right;\">\n",
       "      <th></th>\n",
       "      <th>pkey_observatie</th>\n",
       "      <th>pkey_parent</th>\n",
       "      <th>fenomeentijd</th>\n",
       "      <th>diepte_van_m</th>\n",
       "      <th>diepte_tot_m</th>\n",
       "      <th>parametergroep</th>\n",
       "      <th>parameter</th>\n",
       "      <th>detectieconditie</th>\n",
       "      <th>resultaat</th>\n",
       "      <th>eenheid</th>\n",
       "      <th>methode</th>\n",
       "      <th>uitvoerder</th>\n",
       "      <th>herkomst</th>\n",
       "    </tr>\n",
       "  </thead>\n",
       "  <tbody>\n",
       "    <tr>\n",
       "      <th>0</th>\n",
       "      <td>https://www.dov.vlaanderen.be/data/observatie/...</td>\n",
       "      <td>https://www.dov.vlaanderen.be/data/monster/201...</td>\n",
       "      <td>2018-01-09</td>\n",
       "      <td>4.5</td>\n",
       "      <td>4.75</td>\n",
       "      <td>Volumemassa-watergehalte</td>\n",
       "      <td>Watergehalte (watergehalte)</td>\n",
       "      <td>NaN</td>\n",
       "      <td>51.7</td>\n",
       "      <td>NaN</td>\n",
       "      <td>Gewichtsverlies na drogen in droogstoof</td>\n",
       "      <td>VO - Afdeling Geotechniek</td>\n",
       "      <td>LABO</td>\n",
       "    </tr>\n",
       "    <tr>\n",
       "      <th>1</th>\n",
       "      <td>https://www.dov.vlaanderen.be/data/observatie/...</td>\n",
       "      <td>https://www.dov.vlaanderen.be/data/monster/201...</td>\n",
       "      <td>2018-01-09</td>\n",
       "      <td>7.5</td>\n",
       "      <td>8.00</td>\n",
       "      <td>Volumemassa-watergehalte</td>\n",
       "      <td>Watergehalte (watergehalte)</td>\n",
       "      <td>NaN</td>\n",
       "      <td>36.3</td>\n",
       "      <td>NaN</td>\n",
       "      <td>Gewichtsverlies na drogen in droogstoof</td>\n",
       "      <td>VO - Afdeling Geotechniek</td>\n",
       "      <td>LABO</td>\n",
       "    </tr>\n",
       "  </tbody>\n",
       "</table>\n",
       "</div>"
      ],
      "text/plain": [
       "                                     pkey_observatie  \\\n",
       "0  https://www.dov.vlaanderen.be/data/observatie/...   \n",
       "1  https://www.dov.vlaanderen.be/data/observatie/...   \n",
       "\n",
       "                                         pkey_parent fenomeentijd  \\\n",
       "0  https://www.dov.vlaanderen.be/data/monster/201...   2018-01-09   \n",
       "1  https://www.dov.vlaanderen.be/data/monster/201...   2018-01-09   \n",
       "\n",
       "   diepte_van_m  diepte_tot_m            parametergroep  \\\n",
       "0           4.5          4.75  Volumemassa-watergehalte   \n",
       "1           7.5          8.00  Volumemassa-watergehalte   \n",
       "\n",
       "                     parameter  detectieconditie resultaat  eenheid  \\\n",
       "0  Watergehalte (watergehalte)               NaN      51.7      NaN   \n",
       "1  Watergehalte (watergehalte)               NaN      36.3      NaN   \n",
       "\n",
       "                                   methode                 uitvoerder herkomst  \n",
       "0  Gewichtsverlies na drogen in droogstoof  VO - Afdeling Geotechniek     LABO  \n",
       "1  Gewichtsverlies na drogen in droogstoof  VO - Afdeling Geotechniek     LABO  "
      ]
     },
     "execution_count": 12,
     "metadata": {},
     "output_type": "execute_result"
    }
   ],
   "source": [
    "from owslib.fes2 import PropertyIsGreaterThanOrEqualTo, And\n",
    "\n",
    "query = And([PropertyIsGreaterThanOrEqualTo(propertyname='resultaat',literal='30'),\n",
    "            PropertyIsEqualTo(propertyname='parameter', literal='Watergehalte (watergehalte)')])\n",
    "\n",
    "df = observatie.search(\n",
    "    location=Within(Box(114000, 172310, 114005, 172315)),\n",
    "    query=query,\n",
    "    max_features = 10\n",
    "    )\n",
    "\n",
    "df.head()"
   ]
  },
  {
   "cell_type": "markdown",
   "metadata": {},
   "source": [
    "We can look at one of theobservations in a webbrowser using its *pkey_observatie*:"
   ]
  },
  {
   "cell_type": "code",
   "execution_count": 13,
   "metadata": {},
   "outputs": [
    {
     "name": "stdout",
     "output_type": "stream",
     "text": [
      "https://www.dov.vlaanderen.be/data/observatie/2022-2760180\n",
      "https://www.dov.vlaanderen.be/data/observatie/2022-2531554\n"
     ]
    }
   ],
   "source": [
    "for pkey_observatie in set(df.pkey_observatie):\n",
    "    print(pkey_observatie)"
   ]
  },
  {
   "cell_type": "markdown",
   "metadata": {},
   "source": [
    "### Select observations with specific conditions and return the results"
   ]
  },
  {
   "cell_type": "markdown",
   "metadata": {},
   "source": [
    "We can limit the columns in the output dataframe by specifying the *return_fields* parameter in our search.\n",
    "\n",
    "In this example we query all the observations that have a value (resultaat) greater than 10 for parameter 'Watergehalte (watergehalte)' and\treturn its value (resultaat):"
   ]
  },
  {
   "cell_type": "code",
   "execution_count": 14,
   "metadata": {
    "scrolled": true
   },
   "outputs": [
    {
     "name": "stdout",
     "output_type": "stream",
     "text": [
      "[000/001] .\n"
     ]
    },
    {
     "data": {
      "text/html": [
       "<div>\n",
       "<style scoped>\n",
       "    .dataframe tbody tr th:only-of-type {\n",
       "        vertical-align: middle;\n",
       "    }\n",
       "\n",
       "    .dataframe tbody tr th {\n",
       "        vertical-align: top;\n",
       "    }\n",
       "\n",
       "    .dataframe thead th {\n",
       "        text-align: right;\n",
       "    }\n",
       "</style>\n",
       "<table border=\"1\" class=\"dataframe\">\n",
       "  <thead>\n",
       "    <tr style=\"text-align: right;\">\n",
       "      <th></th>\n",
       "      <th>resultaat</th>\n",
       "    </tr>\n",
       "  </thead>\n",
       "  <tbody>\n",
       "    <tr>\n",
       "      <th>0</th>\n",
       "      <td>27</td>\n",
       "    </tr>\n",
       "    <tr>\n",
       "      <th>1</th>\n",
       "      <td>24.1</td>\n",
       "    </tr>\n",
       "    <tr>\n",
       "      <th>2</th>\n",
       "      <td>24.5</td>\n",
       "    </tr>\n",
       "    <tr>\n",
       "      <th>3</th>\n",
       "      <td>25.2</td>\n",
       "    </tr>\n",
       "    <tr>\n",
       "      <th>4</th>\n",
       "      <td>22.6</td>\n",
       "    </tr>\n",
       "  </tbody>\n",
       "</table>\n",
       "</div>"
      ],
      "text/plain": [
       "  resultaat\n",
       "0        27\n",
       "1      24.1\n",
       "2      24.5\n",
       "3      25.2\n",
       "4      22.6"
      ]
     },
     "execution_count": 14,
     "metadata": {},
     "output_type": "execute_result"
    }
   ],
   "source": [
    "query = And([PropertyIsGreaterThanOrEqualTo(propertyname='resultaat',literal='10'),\n",
    "            PropertyIsEqualTo(propertyname='parameter', literal='Watergehalte (watergehalte)')])\n",
    "df = observatie.search(query=query,\n",
    "                   return_fields=('resultaat',),\n",
    "                      max_features=10)\n",
    "df.head()"
   ]
  },
  {
   "cell_type": "code",
   "execution_count": 15,
   "metadata": {},
   "outputs": [
    {
     "data": {
      "text/html": [
       "<div>\n",
       "<style scoped>\n",
       "    .dataframe tbody tr th:only-of-type {\n",
       "        vertical-align: middle;\n",
       "    }\n",
       "\n",
       "    .dataframe tbody tr th {\n",
       "        vertical-align: top;\n",
       "    }\n",
       "\n",
       "    .dataframe thead th {\n",
       "        text-align: right;\n",
       "    }\n",
       "</style>\n",
       "<table border=\"1\" class=\"dataframe\">\n",
       "  <thead>\n",
       "    <tr style=\"text-align: right;\">\n",
       "      <th></th>\n",
       "      <th>resultaat</th>\n",
       "    </tr>\n",
       "  </thead>\n",
       "  <tbody>\n",
       "    <tr>\n",
       "      <th>count</th>\n",
       "      <td>10</td>\n",
       "    </tr>\n",
       "    <tr>\n",
       "      <th>unique</th>\n",
       "      <td>9</td>\n",
       "    </tr>\n",
       "    <tr>\n",
       "      <th>top</th>\n",
       "      <td>40.4</td>\n",
       "    </tr>\n",
       "    <tr>\n",
       "      <th>freq</th>\n",
       "      <td>2</td>\n",
       "    </tr>\n",
       "  </tbody>\n",
       "</table>\n",
       "</div>"
      ],
      "text/plain": [
       "       resultaat\n",
       "count         10\n",
       "unique         9\n",
       "top         40.4\n",
       "freq           2"
      ]
     },
     "execution_count": 15,
     "metadata": {},
     "output_type": "execute_result"
    }
   ],
   "source": [
    "df.describe()"
   ]
  },
  {
   "cell_type": "markdown",
   "metadata": {},
   "source": [
    "By discarding the observations with a resultaat less than 50, we get a different result:"
   ]
  },
  {
   "cell_type": "code",
   "execution_count": 16,
   "metadata": {},
   "outputs": [
    {
     "data": {
      "text/html": [
       "<div>\n",
       "<style scoped>\n",
       "    .dataframe tbody tr th:only-of-type {\n",
       "        vertical-align: middle;\n",
       "    }\n",
       "\n",
       "    .dataframe tbody tr th {\n",
       "        vertical-align: top;\n",
       "    }\n",
       "\n",
       "    .dataframe thead th {\n",
       "        text-align: right;\n",
       "    }\n",
       "</style>\n",
       "<table border=\"1\" class=\"dataframe\">\n",
       "  <thead>\n",
       "    <tr style=\"text-align: right;\">\n",
       "      <th></th>\n",
       "      <th>resultaat</th>\n",
       "    </tr>\n",
       "  </thead>\n",
       "  <tbody>\n",
       "    <tr>\n",
       "      <th>count</th>\n",
       "      <td>10</td>\n",
       "    </tr>\n",
       "    <tr>\n",
       "      <th>unique</th>\n",
       "      <td>9</td>\n",
       "    </tr>\n",
       "    <tr>\n",
       "      <th>top</th>\n",
       "      <td>40.4</td>\n",
       "    </tr>\n",
       "    <tr>\n",
       "      <th>freq</th>\n",
       "      <td>2</td>\n",
       "    </tr>\n",
       "  </tbody>\n",
       "</table>\n",
       "</div>"
      ],
      "text/plain": [
       "       resultaat\n",
       "count         10\n",
       "unique         9\n",
       "top         40.4\n",
       "freq           2"
      ]
     },
     "execution_count": 16,
     "metadata": {},
     "output_type": "execute_result"
    }
   ],
   "source": [
    "df[df.resultaat.astype(float) < 50.0].describe()"
   ]
  },
  {
   "cell_type": "code",
   "execution_count": 17,
   "metadata": {},
   "outputs": [
    {
     "data": {
      "image/png": "[encoded data removed]",
      "text/plain": [
       "<Figure size 640x480 with 1 Axes>"
      ]
     },
     "metadata": {},
     "output_type": "display_data"
    }
   ],
   "source": [
    "ax = df[df.resultaat.astype(float) < 50.0].astype(float).boxplot()\n",
    "ax.set_ylabel(\"Water content(%)\");\n",
    "ax.set_title(\"Distribution of water content\");"
   ]
  },
  {
   "cell_type": "markdown",
   "metadata": {},
   "source": [
    "### Get observations based on fields not available in the standard output dataframe"
   ]
  },
  {
   "cell_type": "markdown",
   "metadata": {},
   "source": [
    "To keep the output dataframe size acceptable, not all available WFS fields are included in the standard output. However, one can use this information to select observations as illustrated below.\n",
    "\n",
    "For example, make a selection of the observations that have an 'opdracht':"
   ]
  },
  {
   "cell_type": "code",
   "execution_count": 18,
   "metadata": {},
   "outputs": [
    {
     "name": "stdout",
     "output_type": "stream",
     "text": [
      "[000/000] ."
     ]
    },
    {
     "data": {
      "text/html": [
       "<div>\n",
       "<style scoped>\n",
       "    .dataframe tbody tr th:only-of-type {\n",
       "        vertical-align: middle;\n",
       "    }\n",
       "\n",
       "    .dataframe tbody tr th {\n",
       "        vertical-align: top;\n",
       "    }\n",
       "\n",
       "    .dataframe thead th {\n",
       "        text-align: right;\n",
       "    }\n",
       "</style>\n",
       "<table border=\"1\" class=\"dataframe\">\n",
       "  <thead>\n",
       "    <tr style=\"text-align: right;\">\n",
       "      <th></th>\n",
       "      <th>pkey_observatie</th>\n",
       "      <th>opdracht</th>\n",
       "    </tr>\n",
       "  </thead>\n",
       "  <tbody>\n",
       "  </tbody>\n",
       "</table>\n",
       "</div>"
      ],
      "text/plain": [
       "Empty DataFrame\n",
       "Columns: [pkey_observatie, opdracht]\n",
       "Index: []"
      ]
     },
     "execution_count": 18,
     "metadata": {},
     "output_type": "execute_result"
    }
   ],
   "source": [
    "from owslib.fes2 import Not\n",
    "from owslib.fes2 import PropertyIsNull\n",
    "\n",
    "query = Not([PropertyIsNull(propertyname='opdracht')])\n",
    "\n",
    "df = observatie.search(query=query, max_features = 10,\n",
    "                   return_fields=('pkey_observatie', 'opdracht'))\n",
    "df.head()"
   ]
  },
  {
   "cell_type": "markdown",
   "metadata": {},
   "source": [
    "## Visualize results"
   ]
  },
  {
   "cell_type": "markdown",
   "metadata": {},
   "source": [
    "Using Geopandas GeoDataFrame, we can easily display the results of our search on a map."
   ]
  },
  {
   "cell_type": "code",
   "execution_count": 19,
   "metadata": {},
   "outputs": [
    {
     "name": "stdout",
     "output_type": "stream",
     "text": [
      "[000/001] .\n"
     ]
    }
   ],
   "source": [
    "import geopandas as gpd\n",
    "\n",
    "query = And([PropertyIsGreaterThanOrEqualTo(propertyname='resultaat',literal='10'),\n",
    "            PropertyIsEqualTo(propertyname='parameter', literal='Watergehalte (watergehalte)')])\n",
    "df = observatie.search(query=query,\n",
    "                   return_fields=('pkey_observatie','resultaat','geom'), max_features = 100)"
   ]
  },
  {
   "cell_type": "code",
   "execution_count": 20,
   "metadata": {},
   "outputs": [
    {
     "data": {
      "text/html": [
       "<div style=\"width:100%;\"><div style=\"position:relative;width:100%;height:0;padding-bottom:60%;\"><span style=\"color:#565656\">Make this Notebook Trusted to load map: File -> Trust Notebook</span><iframe srcdoc=\"&lt;!DOCTYPE html&gt;\n",
       "&lt;html&gt;\n",
       "&lt;head&gt;\n",
       "    \n",
       "    &lt;meta http-equiv=&quot;content-type&quot; content=&quot;text/html; charset=UTF-8&quot; /&gt;\n",
       "    \n",
       "        &lt;script&gt;\n",
       "            L_NO_TOUCH = false;\n",
       "            L_DISABLE_3D = false;\n",
       "        &lt;/script&gt;\n",
       "    \n",
       "    &lt;style&gt;html, body {width: 100%;height: 100%;margin: 0;padding: 0;}&lt;/style&gt;\n",
       "    &lt;style&gt;#map {position:absolute;top:0;bottom:0;right:0;left:0;}&lt;/style&gt;\n",
       "    &lt;script src=&quot;https://cdn.jsdelivr.net/npm/leaflet@1.9.3/dist/leaflet.js&quot;&gt;&lt;/script&gt;\n",
       "    &lt;script src=&quot;https://code.jquery.com/jquery-3.7.1.min.js&quot;&gt;&lt;/script&gt;\n",
       "    &lt;script src=&quot;https://cdn.jsdelivr.net/npm/bootstrap@5.2.2/dist/js/bootstrap.bundle.min.js&quot;&gt;&lt;/script&gt;\n",
       "    &lt;script src=&quot;https://cdnjs.cloudflare.com/ajax/libs/Leaflet.awesome-markers/2.0.2/leaflet.awesome-markers.js&quot;&gt;&lt;/script&gt;\n",
       "    &lt;link rel=&quot;stylesheet&quot; href=&quot;https://cdn.jsdelivr.net/npm/leaflet@1.9.3/dist/leaflet.css&quot;/&gt;\n",
       "    &lt;link rel=&quot;stylesheet&quot; href=&quot;https://cdn.jsdelivr.net/npm/bootstrap@5.2.2/dist/css/bootstrap.min.css&quot;/&gt;\n",
       "    &lt;link rel=&quot;stylesheet&quot; href=&quot;https://netdna.bootstrapcdn.com/bootstrap/3.0.0/css/bootstrap-glyphicons.css&quot;/&gt;\n",
       "    &lt;link rel=&quot;stylesheet&quot; href=&quot;https://cdn.jsdelivr.net/npm/@fortawesome/fontawesome-free@6.2.0/css/all.min.css&quot;/&gt;\n",
       "    &lt;link rel=&quot;stylesheet&quot; href=&quot;https://cdnjs.cloudflare.com/ajax/libs/Leaflet.awesome-markers/2.0.2/leaflet.awesome-markers.css&quot;/&gt;\n",
       "    &lt;link rel=&quot;stylesheet&quot; href=&quot;https://cdn.jsdelivr.net/gh/python-visualization/folium/folium/templates/leaflet.awesome.rotate.min.css&quot;/&gt;\n",
       "    \n",
       "            &lt;meta name=&quot;viewport&quot; content=&quot;width=device-width,\n",
       "                initial-scale=1.0, maximum-scale=1.0, user-scalable=no&quot; /&gt;\n",
       "            &lt;style&gt;\n",
       "                #map_e3c42224f53069296615c632c3329f5e {\n",
       "                    position: relative;\n",
       "                    width: 100.0%;\n",
       "                    height: 100.0%;\n",
       "                    left: 0.0%;\n",
       "                    top: 0.0%;\n",
       "                }\n",
       "                .leaflet-container { font-size: 1rem; }\n",
       "            &lt;/style&gt;\n",
       "        \n",
       "    \n",
       "                    &lt;style&gt;\n",
       "                        .foliumtooltip {\n",
       "                            \n",
       "                        }\n",
       "                       .foliumtooltip table{\n",
       "                            margin: auto;\n",
       "                        }\n",
       "                        .foliumtooltip tr{\n",
       "                            text-align: left;\n",
       "                        }\n",
       "                        .foliumtooltip th{\n",
       "                            padding: 2px; padding-right: 8px;\n",
       "                        }\n",
       "                    &lt;/style&gt;\n",
       "            \n",
       "&lt;/head&gt;\n",
       "&lt;body&gt;\n",
       "    \n",
       "    \n",
       "            &lt;div class=&quot;folium-map&quot; id=&quot;map_e3c42224f53069296615c632c3329f5e&quot; &gt;&lt;/div&gt;\n",
       "        \n",
       "&lt;/body&gt;\n",
       "&lt;script&gt;\n",
       "    \n",
       "    \n",
       "            var map_e3c42224f53069296615c632c3329f5e = L.map(\n",
       "                &quot;map_e3c42224f53069296615c632c3329f5e&quot;,\n",
       "                {\n",
       "                    center: [51.06371805815948, 4.1097541451315],\n",
       "                    crs: L.CRS.EPSG3857,\n",
       "                    ...{\n",
       "  &quot;zoom&quot;: 10,\n",
       "  &quot;zoomControl&quot;: true,\n",
       "  &quot;preferCanvas&quot;: false,\n",
       "}\n",
       "\n",
       "                }\n",
       "            );\n",
       "            L.control.scale().addTo(map_e3c42224f53069296615c632c3329f5e);\n",
       "\n",
       "            \n",
       "\n",
       "        \n",
       "    \n",
       "            var tile_layer_01b4dc937a1c22c8d10e75447f961bda = L.tileLayer(\n",
       "                &quot;https://tile.openstreetmap.org/{z}/{x}/{y}.png&quot;,\n",
       "                {\n",
       "  &quot;minZoom&quot;: 0,\n",
       "  &quot;maxZoom&quot;: 19,\n",
       "  &quot;maxNativeZoom&quot;: 19,\n",
       "  &quot;noWrap&quot;: false,\n",
       "  &quot;attribution&quot;: &quot;\\u0026copy; \\u003ca href=\\&quot;https://www.openstreetmap.org/copyright\\&quot;\\u003eOpenStreetMap\\u003c/a\\u003e contributors&quot;,\n",
       "  &quot;subdomains&quot;: &quot;abc&quot;,\n",
       "  &quot;detectRetina&quot;: false,\n",
       "  &quot;tms&quot;: false,\n",
       "  &quot;opacity&quot;: 1,\n",
       "}\n",
       "\n",
       "            );\n",
       "        \n",
       "    \n",
       "            tile_layer_01b4dc937a1c22c8d10e75447f961bda.addTo(map_e3c42224f53069296615c632c3329f5e);\n",
       "        \n",
       "    \n",
       "            map_e3c42224f53069296615c632c3329f5e.fitBounds(\n",
       "                [[50.77541404465305, 2.75828174010207], [51.35202207166591, 5.46122655016093]],\n",
       "                {}\n",
       "            );\n",
       "        \n",
       "    \n",
       "        function geo_json_ef8d4aac41aa6c8d7d27261bf99978a2_styler(feature) {\n",
       "            switch(feature.id) {\n",
       "                default:\n",
       "                    return {&quot;fillOpacity&quot;: 0.5, &quot;weight&quot;: 2};\n",
       "            }\n",
       "        }\n",
       "        function geo_json_ef8d4aac41aa6c8d7d27261bf99978a2_highlighter(feature) {\n",
       "            switch(feature.id) {\n",
       "                default:\n",
       "                    return {&quot;fillOpacity&quot;: 0.75};\n",
       "            }\n",
       "        }\n",
       "        function geo_json_ef8d4aac41aa6c8d7d27261bf99978a2_pointToLayer(feature, latlng) {\n",
       "            var opts = {&quot;bubblingMouseEvents&quot;: true, &quot;color&quot;: &quot;#3388ff&quot;, &quot;dashArray&quot;: null, &quot;dashOffset&quot;: null, &quot;fill&quot;: true, &quot;fillColor&quot;: &quot;#3388ff&quot;, &quot;fillOpacity&quot;: 0.2, &quot;fillRule&quot;: &quot;evenodd&quot;, &quot;lineCap&quot;: &quot;round&quot;, &quot;lineJoin&quot;: &quot;round&quot;, &quot;opacity&quot;: 1.0, &quot;radius&quot;: 2, &quot;stroke&quot;: true, &quot;weight&quot;: 3};\n",
       "            \n",
       "            let style = geo_json_ef8d4aac41aa6c8d7d27261bf99978a2_styler(feature)\n",
       "            Object.assign(opts, style)\n",
       "            \n",
       "            return new L.CircleMarker(latlng, opts)\n",
       "        }\n",
       "\n",
       "        function geo_json_ef8d4aac41aa6c8d7d27261bf99978a2_onEachFeature(feature, layer) {\n",
       "            layer.on({\n",
       "                mouseout: function(e) {\n",
       "                    if(typeof e.target.setStyle === &quot;function&quot;){\n",
       "                            geo_json_ef8d4aac41aa6c8d7d27261bf99978a2.resetStyle(e.target);\n",
       "                    }\n",
       "                },\n",
       "                mouseover: function(e) {\n",
       "                    if(typeof e.target.setStyle === &quot;function&quot;){\n",
       "                        const highlightStyle = geo_json_ef8d4aac41aa6c8d7d27261bf99978a2_highlighter(e.target.feature)\n",
       "                        e.target.setStyle(highlightStyle);\n",
       "                    }\n",
       "                },\n",
       "            });\n",
       "        };\n",
       "        var geo_json_ef8d4aac41aa6c8d7d27261bf99978a2 = L.geoJson(null, {\n",
       "                onEachFeature: geo_json_ef8d4aac41aa6c8d7d27261bf99978a2_onEachFeature,\n",
       "            \n",
       "                style: geo_json_ef8d4aac41aa6c8d7d27261bf99978a2_styler,\n",
       "                pointToLayer: geo_json_ef8d4aac41aa6c8d7d27261bf99978a2_pointToLayer,\n",
       "            ...{\n",
       "}\n",
       "        });\n",
       "\n",
       "        function geo_json_ef8d4aac41aa6c8d7d27261bf99978a2_add (data) {\n",
       "            geo_json_ef8d4aac41aa6c8d7d27261bf99978a2\n",
       "                .addData(data);\n",
       "        }\n",
       "            geo_json_ef8d4aac41aa6c8d7d27261bf99978a2_add({&quot;bbox&quot;: [2.75828174010207, 50.77541404465305, 5.46122655016093, 51.35202207166591], &quot;features&quot;: [{&quot;bbox&quot;: [3.189849014891152, 51.35202207166591, 3.189849014891152, 51.35202207166591], &quot;geometry&quot;: {&quot;coordinates&quot;: [3.189849014891152, 51.35202207166591], &quot;type&quot;: &quot;Point&quot;}, &quot;id&quot;: &quot;0&quot;, &quot;properties&quot;: {&quot;pkey_observatie&quot;: &quot;https://www.dov.vlaanderen.be/data/observatie/2022-7105792&quot;, &quot;resultaat&quot;: &quot;27&quot;}, &quot;type&quot;: &quot;Feature&quot;}, {&quot;bbox&quot;: [3.189849014891152, 51.35202207166591, 3.189849014891152, 51.35202207166591], &quot;geometry&quot;: {&quot;coordinates&quot;: [3.189849014891152, 51.35202207166591], &quot;type&quot;: &quot;Point&quot;}, &quot;id&quot;: &quot;1&quot;, &quot;properties&quot;: {&quot;pkey_observatie&quot;: &quot;https://www.dov.vlaanderen.be/data/observatie/2022-7105787&quot;, &quot;resultaat&quot;: &quot;24.1&quot;}, &quot;type&quot;: &quot;Feature&quot;}, {&quot;bbox&quot;: [2.75828174010207, 51.13481988712797, 2.75828174010207, 51.13481988712797], &quot;geometry&quot;: {&quot;coordinates&quot;: [2.75828174010207, 51.13481988712797], &quot;type&quot;: &quot;Point&quot;}, &quot;id&quot;: &quot;2&quot;, &quot;properties&quot;: {&quot;pkey_observatie&quot;: &quot;https://www.dov.vlaanderen.be/data/observatie/2022-7105881&quot;, &quot;resultaat&quot;: &quot;24.5&quot;}, &quot;type&quot;: &quot;Feature&quot;}, {&quot;bbox&quot;: [4.308798322114624, 51.21941990678128, 4.308798322114624, 51.21941990678128], &quot;geometry&quot;: {&quot;coordinates&quot;: [4.308798322114624, 51.21941990678128], &quot;type&quot;: &quot;Point&quot;}, &quot;id&quot;: &quot;3&quot;, &quot;properties&quot;: {&quot;pkey_observatie&quot;: &quot;https://www.dov.vlaanderen.be/data/observatie/2022-7105925&quot;, &quot;resultaat&quot;: &quot;25.2&quot;}, &quot;type&quot;: &quot;Feature&quot;}, {&quot;bbox&quot;: [5.46122655016093, 50.77541404465305, 5.46122655016093, 50.77541404465305], &quot;geometry&quot;: {&quot;coordinates&quot;: [5.46122655016093, 50.77541404465305], &quot;type&quot;: &quot;Point&quot;}, &quot;id&quot;: &quot;4&quot;, &quot;properties&quot;: {&quot;pkey_observatie&quot;: &quot;https://www.dov.vlaanderen.be/data/observatie/2022-7106264&quot;, &quot;resultaat&quot;: &quot;22.6&quot;}, &quot;type&quot;: &quot;Feature&quot;}, {&quot;bbox&quot;: [4.479478954438648, 50.884063838045776, 4.479478954438648, 50.884063838045776], &quot;geometry&quot;: {&quot;coordinates&quot;: [4.479478954438648, 50.884063838045776], &quot;type&quot;: &quot;Point&quot;}, &quot;id&quot;: &quot;5&quot;, &quot;properties&quot;: {&quot;pkey_observatie&quot;: &quot;https://www.dov.vlaanderen.be/data/observatie/2022-7106122&quot;, &quot;resultaat&quot;: &quot;21.7&quot;}, &quot;type&quot;: &quot;Feature&quot;}, {&quot;bbox&quot;: [4.364099147223642, 51.06524758261946, 4.364099147223642, 51.06524758261946], &quot;geometry&quot;: {&quot;coordinates&quot;: [4.364099147223642, 51.06524758261946], &quot;type&quot;: &quot;Point&quot;}, &quot;id&quot;: &quot;6&quot;, &quot;properties&quot;: {&quot;pkey_observatie&quot;: &quot;https://www.dov.vlaanderen.be/data/observatie/2022-7106189&quot;, &quot;resultaat&quot;: &quot;19.2&quot;}, &quot;type&quot;: &quot;Feature&quot;}, {&quot;bbox&quot;: [4.364099147223642, 51.06524758261946, 4.364099147223642, 51.06524758261946], &quot;geometry&quot;: {&quot;coordinates&quot;: [4.364099147223642, 51.06524758261946], &quot;type&quot;: &quot;Point&quot;}, &quot;id&quot;: &quot;7&quot;, &quot;properties&quot;: {&quot;pkey_observatie&quot;: &quot;https://www.dov.vlaanderen.be/data/observatie/2022-7106207&quot;, &quot;resultaat&quot;: &quot;40.4&quot;}, &quot;type&quot;: &quot;Feature&quot;}, {&quot;bbox&quot;: [3.7579173368866545, 51.177147681041596, 3.7579173368866545, 51.177147681041596], &quot;geometry&quot;: {&quot;coordinates&quot;: [3.7579173368866545, 51.177147681041596], &quot;type&quot;: &quot;Point&quot;}, &quot;id&quot;: &quot;8&quot;, &quot;properties&quot;: {&quot;pkey_observatie&quot;: &quot;https://www.dov.vlaanderen.be/data/observatie/2022-7106506&quot;, &quot;resultaat&quot;: &quot;40.4&quot;}, &quot;type&quot;: &quot;Feature&quot;}, {&quot;bbox&quot;: [3.757507900398144, 51.17783770624695, 3.757507900398144, 51.17783770624695], &quot;geometry&quot;: {&quot;coordinates&quot;: [3.757507900398144, 51.17783770624695], &quot;type&quot;: &quot;Point&quot;}, &quot;id&quot;: &quot;9&quot;, &quot;properties&quot;: {&quot;pkey_observatie&quot;: &quot;https://www.dov.vlaanderen.be/data/observatie/2022-7106540&quot;, &quot;resultaat&quot;: &quot;22.4&quot;}, &quot;type&quot;: &quot;Feature&quot;}, {&quot;bbox&quot;: [3.757507900398144, 51.17783770624695, 3.757507900398144, 51.17783770624695], &quot;geometry&quot;: {&quot;coordinates&quot;: [3.757507900398144, 51.17783770624695], &quot;type&quot;: &quot;Point&quot;}, &quot;id&quot;: &quot;10&quot;, &quot;properties&quot;: {&quot;pkey_observatie&quot;: &quot;https://www.dov.vlaanderen.be/data/observatie/2022-7106552&quot;, &quot;resultaat&quot;: &quot;27.5&quot;}, &quot;type&quot;: &quot;Feature&quot;}, {&quot;bbox&quot;: [4.036857499611056, 51.194298360696976, 4.036857499611056, 51.194298360696976], &quot;geometry&quot;: {&quot;coordinates&quot;: [4.036857499611056, 51.194298360696976], &quot;type&quot;: &quot;Point&quot;}, &quot;id&quot;: &quot;11&quot;, &quot;properties&quot;: {&quot;pkey_observatie&quot;: &quot;https://www.dov.vlaanderen.be/data/observatie/2022-7106474&quot;, &quot;resultaat&quot;: &quot;47.4&quot;}, &quot;type&quot;: &quot;Feature&quot;}, {&quot;bbox&quot;: [4.8879115750443285, 50.967306657203764, 4.8879115750443285, 50.967306657203764], &quot;geometry&quot;: {&quot;coordinates&quot;: [4.8879115750443285, 50.967306657203764], &quot;type&quot;: &quot;Point&quot;}, &quot;id&quot;: &quot;12&quot;, &quot;properties&quot;: {&quot;pkey_observatie&quot;: &quot;https://www.dov.vlaanderen.be/data/observatie/2022-7106588&quot;, &quot;resultaat&quot;: &quot;15.6&quot;}, &quot;type&quot;: &quot;Feature&quot;}, {&quot;bbox&quot;: [3.0027843542448673, 51.20868349617246, 3.0027843542448673, 51.20868349617246], &quot;geometry&quot;: {&quot;coordinates&quot;: [3.0027843542448673, 51.20868349617246], &quot;type&quot;: &quot;Point&quot;}, &quot;id&quot;: &quot;13&quot;, &quot;properties&quot;: {&quot;pkey_observatie&quot;: &quot;https://www.dov.vlaanderen.be/data/observatie/2022-7106725&quot;, &quot;resultaat&quot;: &quot;380.8&quot;}, &quot;type&quot;: &quot;Feature&quot;}, {&quot;bbox&quot;: [4.020507317725141, 51.18229297267601, 4.020507317725141, 51.18229297267601], &quot;geometry&quot;: {&quot;coordinates&quot;: [4.020507317725141, 51.18229297267601], &quot;type&quot;: &quot;Point&quot;}, &quot;id&quot;: &quot;14&quot;, &quot;properties&quot;: {&quot;pkey_observatie&quot;: &quot;https://www.dov.vlaanderen.be/data/observatie/2022-7106812&quot;, &quot;resultaat&quot;: &quot;45.7&quot;}, &quot;type&quot;: &quot;Feature&quot;}, {&quot;bbox&quot;: [3.3308865475580567, 50.879739380230085, 3.3308865475580567, 50.879739380230085], &quot;geometry&quot;: {&quot;coordinates&quot;: [3.3308865475580567, 50.879739380230085], &quot;type&quot;: &quot;Point&quot;}, &quot;id&quot;: &quot;15&quot;, &quot;properties&quot;: {&quot;pkey_observatie&quot;: &quot;https://www.dov.vlaanderen.be/data/observatie/2022-7106879&quot;, &quot;resultaat&quot;: &quot;25.4&quot;}, &quot;type&quot;: &quot;Feature&quot;}, {&quot;bbox&quot;: [3.3308865475580567, 50.879739380230085, 3.3308865475580567, 50.879739380230085], &quot;geometry&quot;: {&quot;coordinates&quot;: [3.3308865475580567, 50.879739380230085], &quot;type&quot;: &quot;Point&quot;}, &quot;id&quot;: &quot;16&quot;, &quot;properties&quot;: {&quot;pkey_observatie&quot;: &quot;https://www.dov.vlaanderen.be/data/observatie/2022-7106941&quot;, &quot;resultaat&quot;: &quot;18.4&quot;}, &quot;type&quot;: &quot;Feature&quot;}, {&quot;bbox&quot;: [2.973150910089062, 51.21783721612768, 2.973150910089062, 51.21783721612768], &quot;geometry&quot;: {&quot;coordinates&quot;: [2.973150910089062, 51.21783721612768], &quot;type&quot;: &quot;Point&quot;}, &quot;id&quot;: &quot;17&quot;, &quot;properties&quot;: {&quot;pkey_observatie&quot;: &quot;https://www.dov.vlaanderen.be/data/observatie/2023-7107147&quot;, &quot;resultaat&quot;: &quot;23.4&quot;}, &quot;type&quot;: &quot;Feature&quot;}, {&quot;bbox&quot;: [4.297935461419862, 50.80681345287671, 4.297935461419862, 50.80681345287671], &quot;geometry&quot;: {&quot;coordinates&quot;: [4.297935461419862, 50.80681345287671], &quot;type&quot;: &quot;Point&quot;}, &quot;id&quot;: &quot;18&quot;, &quot;properties&quot;: {&quot;pkey_observatie&quot;: &quot;https://www.dov.vlaanderen.be/data/observatie/2023-7107220&quot;, &quot;resultaat&quot;: &quot;26.3&quot;}, &quot;type&quot;: &quot;Feature&quot;}, {&quot;bbox&quot;: [4.592334042759676, 50.9565558642561, 4.592334042759676, 50.9565558642561], &quot;geometry&quot;: {&quot;coordinates&quot;: [4.592334042759676, 50.9565558642561], &quot;type&quot;: &quot;Point&quot;}, &quot;id&quot;: &quot;19&quot;, &quot;properties&quot;: {&quot;pkey_observatie&quot;: &quot;https://www.dov.vlaanderen.be/data/observatie/2023-7107307&quot;, &quot;resultaat&quot;: &quot;28.9&quot;}, &quot;type&quot;: &quot;Feature&quot;}, {&quot;bbox&quot;: [4.600846923545016, 50.98813274156452, 4.600846923545016, 50.98813274156452], &quot;geometry&quot;: {&quot;coordinates&quot;: [4.600846923545016, 50.98813274156452], &quot;type&quot;: &quot;Point&quot;}, &quot;id&quot;: &quot;20&quot;, &quot;properties&quot;: {&quot;pkey_observatie&quot;: &quot;https://www.dov.vlaanderen.be/data/observatie/2023-7107357&quot;, &quot;resultaat&quot;: &quot;26.1&quot;}, &quot;type&quot;: &quot;Feature&quot;}, {&quot;bbox&quot;: [4.604187810082364, 50.99171033580299, 4.604187810082364, 50.99171033580299], &quot;geometry&quot;: {&quot;coordinates&quot;: [4.604187810082364, 50.99171033580299], &quot;type&quot;: &quot;Point&quot;}, &quot;id&quot;: &quot;21&quot;, &quot;properties&quot;: {&quot;pkey_observatie&quot;: &quot;https://www.dov.vlaanderen.be/data/observatie/2023-7107497&quot;, &quot;resultaat&quot;: &quot;18.4&quot;}, &quot;type&quot;: &quot;Feature&quot;}, {&quot;bbox&quot;: [4.59519635280775, 50.99945529295315, 4.59519635280775, 50.99945529295315], &quot;geometry&quot;: {&quot;coordinates&quot;: [4.59519635280775, 50.99945529295315], &quot;type&quot;: &quot;Point&quot;}, &quot;id&quot;: &quot;22&quot;, &quot;properties&quot;: {&quot;pkey_observatie&quot;: &quot;https://www.dov.vlaanderen.be/data/observatie/2023-7107536&quot;, &quot;resultaat&quot;: &quot;26.3&quot;}, &quot;type&quot;: &quot;Feature&quot;}, {&quot;bbox&quot;: [2.9766204976776356, 51.217176886198075, 2.9766204976776356, 51.217176886198075], &quot;geometry&quot;: {&quot;coordinates&quot;: [2.9766204976776356, 51.217176886198075], &quot;type&quot;: &quot;Point&quot;}, &quot;id&quot;: &quot;23&quot;, &quot;properties&quot;: {&quot;pkey_observatie&quot;: &quot;https://www.dov.vlaanderen.be/data/observatie/2023-7107644&quot;, &quot;resultaat&quot;: &quot;54.1&quot;}, &quot;type&quot;: &quot;Feature&quot;}, {&quot;bbox&quot;: [2.9766204976776356, 51.217176886198075, 2.9766204976776356, 51.217176886198075], &quot;geometry&quot;: {&quot;coordinates&quot;: [2.9766204976776356, 51.217176886198075], &quot;type&quot;: &quot;Point&quot;}, &quot;id&quot;: &quot;24&quot;, &quot;properties&quot;: {&quot;pkey_observatie&quot;: &quot;https://www.dov.vlaanderen.be/data/observatie/2023-7107660&quot;, &quot;resultaat&quot;: &quot;29.5&quot;}, &quot;type&quot;: &quot;Feature&quot;}, {&quot;bbox&quot;: [2.9778155397668207, 51.21742468550881, 2.9778155397668207, 51.21742468550881], &quot;geometry&quot;: {&quot;coordinates&quot;: [2.9778155397668207, 51.21742468550881], &quot;type&quot;: &quot;Point&quot;}, &quot;id&quot;: &quot;25&quot;, &quot;properties&quot;: {&quot;pkey_observatie&quot;: &quot;https://www.dov.vlaanderen.be/data/observatie/2023-7107739&quot;, &quot;resultaat&quot;: &quot;37.1&quot;}, &quot;type&quot;: &quot;Feature&quot;}, {&quot;bbox&quot;: [2.9778155397668207, 51.21742468550881, 2.9778155397668207, 51.21742468550881], &quot;geometry&quot;: {&quot;coordinates&quot;: [2.9778155397668207, 51.21742468550881], &quot;type&quot;: &quot;Point&quot;}, &quot;id&quot;: &quot;26&quot;, &quot;properties&quot;: {&quot;pkey_observatie&quot;: &quot;https://www.dov.vlaanderen.be/data/observatie/2023-7107716&quot;, &quot;resultaat&quot;: &quot;106.8&quot;}, &quot;type&quot;: &quot;Feature&quot;}, {&quot;bbox&quot;: [2.979384254990121, 51.217622922782965, 2.979384254990121, 51.217622922782965], &quot;geometry&quot;: {&quot;coordinates&quot;: [2.979384254990121, 51.217622922782965], &quot;type&quot;: &quot;Point&quot;}, &quot;id&quot;: &quot;27&quot;, &quot;properties&quot;: {&quot;pkey_observatie&quot;: &quot;https://www.dov.vlaanderen.be/data/observatie/2023-7107762&quot;, &quot;resultaat&quot;: &quot;41.8&quot;}, &quot;type&quot;: &quot;Feature&quot;}, {&quot;bbox&quot;: [3.2049325648853557, 51.32781884712259, 3.2049325648853557, 51.32781884712259], &quot;geometry&quot;: {&quot;coordinates&quot;: [3.2049325648853557, 51.32781884712259], &quot;type&quot;: &quot;Point&quot;}, &quot;id&quot;: &quot;28&quot;, &quot;properties&quot;: {&quot;pkey_observatie&quot;: &quot;https://www.dov.vlaanderen.be/data/observatie/2023-7108101&quot;, &quot;resultaat&quot;: &quot;23.9&quot;}, &quot;type&quot;: &quot;Feature&quot;}, {&quot;bbox&quot;: [3.1980894417972348, 51.33313586676095, 3.1980894417972348, 51.33313586676095], &quot;geometry&quot;: {&quot;coordinates&quot;: [3.1980894417972348, 51.33313586676095], &quot;type&quot;: &quot;Point&quot;}, &quot;id&quot;: &quot;29&quot;, &quot;properties&quot;: {&quot;pkey_observatie&quot;: &quot;https://www.dov.vlaanderen.be/data/observatie/2023-7108013&quot;, &quot;resultaat&quot;: &quot;34.3&quot;}, &quot;type&quot;: &quot;Feature&quot;}, {&quot;bbox&quot;: [3.2049325648853557, 51.32781884712259, 3.2049325648853557, 51.32781884712259], &quot;geometry&quot;: {&quot;coordinates&quot;: [3.2049325648853557, 51.32781884712259], &quot;type&quot;: &quot;Point&quot;}, &quot;id&quot;: &quot;30&quot;, &quot;properties&quot;: {&quot;pkey_observatie&quot;: &quot;https://www.dov.vlaanderen.be/data/observatie/2023-7108209&quot;, &quot;resultaat&quot;: &quot;18.4&quot;}, &quot;type&quot;: &quot;Feature&quot;}, {&quot;bbox&quot;: [3.19597363869444, 51.33048627951803, 3.19597363869444, 51.33048627951803], &quot;geometry&quot;: {&quot;coordinates&quot;: [3.19597363869444, 51.33048627951803], &quot;type&quot;: &quot;Point&quot;}, &quot;id&quot;: &quot;31&quot;, &quot;properties&quot;: {&quot;pkey_observatie&quot;: &quot;https://www.dov.vlaanderen.be/data/observatie/2023-7108354&quot;, &quot;resultaat&quot;: &quot;20.8&quot;}, &quot;type&quot;: &quot;Feature&quot;}, {&quot;bbox&quot;: [3.1972167213586116, 51.32840383552359, 3.1972167213586116, 51.32840383552359], &quot;geometry&quot;: {&quot;coordinates&quot;: [3.1972167213586116, 51.32840383552359], &quot;type&quot;: &quot;Point&quot;}, &quot;id&quot;: &quot;32&quot;, &quot;properties&quot;: {&quot;pkey_observatie&quot;: &quot;https://www.dov.vlaanderen.be/data/observatie/2023-7109046&quot;, &quot;resultaat&quot;: &quot;323.7&quot;}, &quot;type&quot;: &quot;Feature&quot;}, {&quot;bbox&quot;: [4.601113577731684, 50.95526186231406, 4.601113577731684, 50.95526186231406], &quot;geometry&quot;: {&quot;coordinates&quot;: [4.601113577731684, 50.95526186231406], &quot;type&quot;: &quot;Point&quot;}, &quot;id&quot;: &quot;33&quot;, &quot;properties&quot;: {&quot;pkey_observatie&quot;: &quot;https://www.dov.vlaanderen.be/data/observatie/2023-7109441&quot;, &quot;resultaat&quot;: &quot;28.9&quot;}, &quot;type&quot;: &quot;Feature&quot;}, {&quot;bbox&quot;: [2.9807815328729745, 51.2178101374263, 2.9807815328729745, 51.2178101374263], &quot;geometry&quot;: {&quot;coordinates&quot;: [2.9807815328729745, 51.2178101374263], &quot;type&quot;: &quot;Point&quot;}, &quot;id&quot;: &quot;34&quot;, &quot;properties&quot;: {&quot;pkey_observatie&quot;: &quot;https://www.dov.vlaanderen.be/data/observatie/2023-7109390&quot;, &quot;resultaat&quot;: &quot;42.4&quot;}, &quot;type&quot;: &quot;Feature&quot;}, {&quot;bbox&quot;: [2.9807815328729745, 51.2178101374263, 2.9807815328729745, 51.2178101374263], &quot;geometry&quot;: {&quot;coordinates&quot;: [2.9807815328729745, 51.2178101374263], &quot;type&quot;: &quot;Point&quot;}, &quot;id&quot;: &quot;35&quot;, &quot;properties&quot;: {&quot;pkey_observatie&quot;: &quot;https://www.dov.vlaanderen.be/data/observatie/2023-7109418&quot;, &quot;resultaat&quot;: &quot;20.8&quot;}, &quot;type&quot;: &quot;Feature&quot;}, {&quot;bbox&quot;: [5.369211954967276, 50.79474558872924, 5.369211954967276, 50.79474558872924], &quot;geometry&quot;: {&quot;coordinates&quot;: [5.369211954967276, 50.79474558872924], &quot;type&quot;: &quot;Point&quot;}, &quot;id&quot;: &quot;36&quot;, &quot;properties&quot;: {&quot;pkey_observatie&quot;: &quot;https://www.dov.vlaanderen.be/data/observatie/2023-7109472&quot;, &quot;resultaat&quot;: &quot;21&quot;}, &quot;type&quot;: &quot;Feature&quot;}, {&quot;bbox&quot;: [3.870832356351565, 50.84986788348091, 3.870832356351565, 50.84986788348091], &quot;geometry&quot;: {&quot;coordinates&quot;: [3.870832356351565, 50.84986788348091], &quot;type&quot;: &quot;Point&quot;}, &quot;id&quot;: &quot;37&quot;, &quot;properties&quot;: {&quot;pkey_observatie&quot;: &quot;https://www.dov.vlaanderen.be/data/observatie/2023-7109479&quot;, &quot;resultaat&quot;: &quot;23.1&quot;}, &quot;type&quot;: &quot;Feature&quot;}, {&quot;bbox&quot;: [4.391180695252827, 51.2217958133047, 4.391180695252827, 51.2217958133047], &quot;geometry&quot;: {&quot;coordinates&quot;: [4.391180695252827, 51.2217958133047], &quot;type&quot;: &quot;Point&quot;}, &quot;id&quot;: &quot;38&quot;, &quot;properties&quot;: {&quot;pkey_observatie&quot;: &quot;https://www.dov.vlaanderen.be/data/observatie/2023-7109515&quot;, &quot;resultaat&quot;: &quot;27.2&quot;}, &quot;type&quot;: &quot;Feature&quot;}, {&quot;bbox&quot;: [4.391180695252827, 51.2217958133047, 4.391180695252827, 51.2217958133047], &quot;geometry&quot;: {&quot;coordinates&quot;: [4.391180695252827, 51.2217958133047], &quot;type&quot;: &quot;Point&quot;}, &quot;id&quot;: &quot;39&quot;, &quot;properties&quot;: {&quot;pkey_observatie&quot;: &quot;https://www.dov.vlaanderen.be/data/observatie/2023-7109517&quot;, &quot;resultaat&quot;: &quot;27.3&quot;}, &quot;type&quot;: &quot;Feature&quot;}, {&quot;bbox&quot;: [4.391180695252827, 51.2217958133047, 4.391180695252827, 51.2217958133047], &quot;geometry&quot;: {&quot;coordinates&quot;: [4.391180695252827, 51.2217958133047], &quot;type&quot;: &quot;Point&quot;}, &quot;id&quot;: &quot;40&quot;, &quot;properties&quot;: {&quot;pkey_observatie&quot;: &quot;https://www.dov.vlaanderen.be/data/observatie/2023-7109533&quot;, &quot;resultaat&quot;: &quot;27.7&quot;}, &quot;type&quot;: &quot;Feature&quot;}, {&quot;bbox&quot;: [4.601113577731684, 50.95526186231406, 4.601113577731684, 50.95526186231406], &quot;geometry&quot;: {&quot;coordinates&quot;: [4.601113577731684, 50.95526186231406], &quot;type&quot;: &quot;Point&quot;}, &quot;id&quot;: &quot;41&quot;, &quot;properties&quot;: {&quot;pkey_observatie&quot;: &quot;https://www.dov.vlaanderen.be/data/observatie/2023-7109637&quot;, &quot;resultaat&quot;: &quot;28.8&quot;}, &quot;type&quot;: &quot;Feature&quot;}, {&quot;bbox&quot;: [4.330553181151004, 51.173593442844904, 4.330553181151004, 51.173593442844904], &quot;geometry&quot;: {&quot;coordinates&quot;: [4.330553181151004, 51.173593442844904], &quot;type&quot;: &quot;Point&quot;}, &quot;id&quot;: &quot;42&quot;, &quot;properties&quot;: {&quot;pkey_observatie&quot;: &quot;https://www.dov.vlaanderen.be/data/observatie/2023-7109600&quot;, &quot;resultaat&quot;: &quot;24.8&quot;}, &quot;type&quot;: &quot;Feature&quot;}, {&quot;bbox&quot;: [4.421935622592288, 50.94512707338804, 4.421935622592288, 50.94512707338804], &quot;geometry&quot;: {&quot;coordinates&quot;: [4.421935622592288, 50.94512707338804], &quot;type&quot;: &quot;Point&quot;}, &quot;id&quot;: &quot;43&quot;, &quot;properties&quot;: {&quot;pkey_observatie&quot;: &quot;https://www.dov.vlaanderen.be/data/observatie/2023-7109851&quot;, &quot;resultaat&quot;: &quot;61.7&quot;}, &quot;type&quot;: &quot;Feature&quot;}, {&quot;bbox&quot;: [3.192516899604899, 51.20522400449065, 3.192516899604899, 51.20522400449065], &quot;geometry&quot;: {&quot;coordinates&quot;: [3.192516899604899, 51.20522400449065], &quot;type&quot;: &quot;Point&quot;}, &quot;id&quot;: &quot;44&quot;, &quot;properties&quot;: {&quot;pkey_observatie&quot;: &quot;https://www.dov.vlaanderen.be/data/observatie/2023-7109895&quot;, &quot;resultaat&quot;: &quot;25.1&quot;}, &quot;type&quot;: &quot;Feature&quot;}, {&quot;bbox&quot;: [3.192516899604899, 51.20522400449065, 3.192516899604899, 51.20522400449065], &quot;geometry&quot;: {&quot;coordinates&quot;: [3.192516899604899, 51.20522400449065], &quot;type&quot;: &quot;Point&quot;}, &quot;id&quot;: &quot;45&quot;, &quot;properties&quot;: {&quot;pkey_observatie&quot;: &quot;https://www.dov.vlaanderen.be/data/observatie/2023-7109910&quot;, &quot;resultaat&quot;: &quot;29.6&quot;}, &quot;type&quot;: &quot;Feature&quot;}, {&quot;bbox&quot;: [4.163402453575503, 51.04081929647042, 4.163402453575503, 51.04081929647042], &quot;geometry&quot;: {&quot;coordinates&quot;: [4.163402453575503, 51.04081929647042], &quot;type&quot;: &quot;Point&quot;}, &quot;id&quot;: &quot;46&quot;, &quot;properties&quot;: {&quot;pkey_observatie&quot;: &quot;https://www.dov.vlaanderen.be/data/observatie/2023-7110048&quot;, &quot;resultaat&quot;: &quot;23.9&quot;}, &quot;type&quot;: &quot;Feature&quot;}, {&quot;bbox&quot;: [3.201979573465645, 51.186922010968736, 3.201979573465645, 51.186922010968736], &quot;geometry&quot;: {&quot;coordinates&quot;: [3.201979573465645, 51.186922010968736], &quot;type&quot;: &quot;Point&quot;}, &quot;id&quot;: &quot;47&quot;, &quot;properties&quot;: {&quot;pkey_observatie&quot;: &quot;https://www.dov.vlaanderen.be/data/observatie/2023-7110080&quot;, &quot;resultaat&quot;: &quot;24.9&quot;}, &quot;type&quot;: &quot;Feature&quot;}, {&quot;bbox&quot;: [4.143158490582605, 51.11558855946029, 4.143158490582605, 51.11558855946029], &quot;geometry&quot;: {&quot;coordinates&quot;: [4.143158490582605, 51.11558855946029], &quot;type&quot;: &quot;Point&quot;}, &quot;id&quot;: &quot;48&quot;, &quot;properties&quot;: {&quot;pkey_observatie&quot;: &quot;https://www.dov.vlaanderen.be/data/observatie/2023-7110248&quot;, &quot;resultaat&quot;: &quot;19&quot;}, &quot;type&quot;: &quot;Feature&quot;}, {&quot;bbox&quot;: [4.408030059884456, 51.25354168737408, 4.408030059884456, 51.25354168737408], &quot;geometry&quot;: {&quot;coordinates&quot;: [4.408030059884456, 51.25354168737408], &quot;type&quot;: &quot;Point&quot;}, &quot;id&quot;: &quot;49&quot;, &quot;properties&quot;: {&quot;pkey_observatie&quot;: &quot;https://www.dov.vlaanderen.be/data/observatie/2023-7110332&quot;, &quot;resultaat&quot;: &quot;26.9&quot;}, &quot;type&quot;: &quot;Feature&quot;}, {&quot;bbox&quot;: [4.142713765450887, 51.11304388384404, 4.142713765450887, 51.11304388384404], &quot;geometry&quot;: {&quot;coordinates&quot;: [4.142713765450887, 51.11304388384404], &quot;type&quot;: &quot;Point&quot;}, &quot;id&quot;: &quot;50&quot;, &quot;properties&quot;: {&quot;pkey_observatie&quot;: &quot;https://www.dov.vlaanderen.be/data/observatie/2023-7110396&quot;, &quot;resultaat&quot;: &quot;20.3&quot;}, &quot;type&quot;: &quot;Feature&quot;}, {&quot;bbox&quot;: [4.412960311172313, 51.258026680363166, 4.412960311172313, 51.258026680363166], &quot;geometry&quot;: {&quot;coordinates&quot;: [4.412960311172313, 51.258026680363166], &quot;type&quot;: &quot;Point&quot;}, &quot;id&quot;: &quot;51&quot;, &quot;properties&quot;: {&quot;pkey_observatie&quot;: &quot;https://www.dov.vlaanderen.be/data/observatie/2023-7110544&quot;, &quot;resultaat&quot;: &quot;22.4&quot;}, &quot;type&quot;: &quot;Feature&quot;}, {&quot;bbox&quot;: [4.412960311172313, 51.258026680363166, 4.412960311172313, 51.258026680363166], &quot;geometry&quot;: {&quot;coordinates&quot;: [4.412960311172313, 51.258026680363166], &quot;type&quot;: &quot;Point&quot;}, &quot;id&quot;: &quot;52&quot;, &quot;properties&quot;: {&quot;pkey_observatie&quot;: &quot;https://www.dov.vlaanderen.be/data/observatie/2023-7110551&quot;, &quot;resultaat&quot;: &quot;26.5&quot;}, &quot;type&quot;: &quot;Feature&quot;}, {&quot;bbox&quot;: [4.412960311172313, 51.258026680363166, 4.412960311172313, 51.258026680363166], &quot;geometry&quot;: {&quot;coordinates&quot;: [4.412960311172313, 51.258026680363166], &quot;type&quot;: &quot;Point&quot;}, &quot;id&quot;: &quot;53&quot;, &quot;properties&quot;: {&quot;pkey_observatie&quot;: &quot;https://www.dov.vlaanderen.be/data/observatie/2023-7110560&quot;, &quot;resultaat&quot;: &quot;21.2&quot;}, &quot;type&quot;: &quot;Feature&quot;}, {&quot;bbox&quot;: [4.3655929387873345, 51.08353332785386, 4.3655929387873345, 51.08353332785386], &quot;geometry&quot;: {&quot;coordinates&quot;: [4.3655929387873345, 51.08353332785386], &quot;type&quot;: &quot;Point&quot;}, &quot;id&quot;: &quot;54&quot;, &quot;properties&quot;: {&quot;pkey_observatie&quot;: &quot;https://www.dov.vlaanderen.be/data/observatie/2023-7110686&quot;, &quot;resultaat&quot;: &quot;21.4&quot;}, &quot;type&quot;: &quot;Feature&quot;}, {&quot;bbox&quot;: [4.3655929387873345, 51.08353332785386, 4.3655929387873345, 51.08353332785386], &quot;geometry&quot;: {&quot;coordinates&quot;: [4.3655929387873345, 51.08353332785386], &quot;type&quot;: &quot;Point&quot;}, &quot;id&quot;: &quot;55&quot;, &quot;properties&quot;: {&quot;pkey_observatie&quot;: &quot;https://www.dov.vlaanderen.be/data/observatie/2023-7110696&quot;, &quot;resultaat&quot;: &quot;26.1&quot;}, &quot;type&quot;: &quot;Feature&quot;}, {&quot;bbox&quot;: [4.397066564734616, 51.23121639184487, 4.397066564734616, 51.23121639184487], &quot;geometry&quot;: {&quot;coordinates&quot;: [4.397066564734616, 51.23121639184487], &quot;type&quot;: &quot;Point&quot;}, &quot;id&quot;: &quot;56&quot;, &quot;properties&quot;: {&quot;pkey_observatie&quot;: &quot;https://www.dov.vlaanderen.be/data/observatie/2023-7110804&quot;, &quot;resultaat&quot;: &quot;27.5&quot;}, &quot;type&quot;: &quot;Feature&quot;}, {&quot;bbox&quot;: [4.3562354420647775, 51.203155957869996, 4.3562354420647775, 51.203155957869996], &quot;geometry&quot;: {&quot;coordinates&quot;: [4.3562354420647775, 51.203155957869996], &quot;type&quot;: &quot;Point&quot;}, &quot;id&quot;: &quot;57&quot;, &quot;properties&quot;: {&quot;pkey_observatie&quot;: &quot;https://www.dov.vlaanderen.be/data/observatie/2023-7110768&quot;, &quot;resultaat&quot;: &quot;28.9&quot;}, &quot;type&quot;: &quot;Feature&quot;}, {&quot;bbox&quot;: [4.288343626312117, 51.302857464067685, 4.288343626312117, 51.302857464067685], &quot;geometry&quot;: {&quot;coordinates&quot;: [4.288343626312117, 51.302857464067685], &quot;type&quot;: &quot;Point&quot;}, &quot;id&quot;: &quot;58&quot;, &quot;properties&quot;: {&quot;pkey_observatie&quot;: &quot;https://www.dov.vlaanderen.be/data/observatie/2023-7110890&quot;, &quot;resultaat&quot;: &quot;19.1&quot;}, &quot;type&quot;: &quot;Feature&quot;}, {&quot;bbox&quot;: [4.34013713285297, 51.241863871366334, 4.34013713285297, 51.241863871366334], &quot;geometry&quot;: {&quot;coordinates&quot;: [4.34013713285297, 51.241863871366334], &quot;type&quot;: &quot;Point&quot;}, &quot;id&quot;: &quot;59&quot;, &quot;properties&quot;: {&quot;pkey_observatie&quot;: &quot;https://www.dov.vlaanderen.be/data/observatie/2023-7110902&quot;, &quot;resultaat&quot;: &quot;21&quot;}, &quot;type&quot;: &quot;Feature&quot;}, {&quot;bbox&quot;: [4.34013713285297, 51.241863871366334, 4.34013713285297, 51.241863871366334], &quot;geometry&quot;: {&quot;coordinates&quot;: [4.34013713285297, 51.241863871366334], &quot;type&quot;: &quot;Point&quot;}, &quot;id&quot;: &quot;60&quot;, &quot;properties&quot;: {&quot;pkey_observatie&quot;: &quot;https://www.dov.vlaanderen.be/data/observatie/2023-7110933&quot;, &quot;resultaat&quot;: &quot;27&quot;}, &quot;type&quot;: &quot;Feature&quot;}, {&quot;bbox&quot;: [4.331887499854466, 51.19246929892553, 4.331887499854466, 51.19246929892553], &quot;geometry&quot;: {&quot;coordinates&quot;: [4.331887499854466, 51.19246929892553], &quot;type&quot;: &quot;Point&quot;}, &quot;id&quot;: &quot;61&quot;, &quot;properties&quot;: {&quot;pkey_observatie&quot;: &quot;https://www.dov.vlaanderen.be/data/observatie/2023-7110941&quot;, &quot;resultaat&quot;: &quot;43&quot;}, &quot;type&quot;: &quot;Feature&quot;}, {&quot;bbox&quot;: [4.393489743497567, 51.218357549842935, 4.393489743497567, 51.218357549842935], &quot;geometry&quot;: {&quot;coordinates&quot;: [4.393489743497567, 51.218357549842935], &quot;type&quot;: &quot;Point&quot;}, &quot;id&quot;: &quot;62&quot;, &quot;properties&quot;: {&quot;pkey_observatie&quot;: &quot;https://www.dov.vlaanderen.be/data/observatie/2023-7111033&quot;, &quot;resultaat&quot;: &quot;23.2&quot;}, &quot;type&quot;: &quot;Feature&quot;}, {&quot;bbox&quot;: [4.393489743497567, 51.218357549842935, 4.393489743497567, 51.218357549842935], &quot;geometry&quot;: {&quot;coordinates&quot;: [4.393489743497567, 51.218357549842935], &quot;type&quot;: &quot;Point&quot;}, &quot;id&quot;: &quot;63&quot;, &quot;properties&quot;: {&quot;pkey_observatie&quot;: &quot;https://www.dov.vlaanderen.be/data/observatie/2023-7111050&quot;, &quot;resultaat&quot;: &quot;24.3&quot;}, &quot;type&quot;: &quot;Feature&quot;}, {&quot;bbox&quot;: [4.393489743497567, 51.218357549842935, 4.393489743497567, 51.218357549842935], &quot;geometry&quot;: {&quot;coordinates&quot;: [4.393489743497567, 51.218357549842935], &quot;type&quot;: &quot;Point&quot;}, &quot;id&quot;: &quot;64&quot;, &quot;properties&quot;: {&quot;pkey_observatie&quot;: &quot;https://www.dov.vlaanderen.be/data/observatie/2023-7111064&quot;, &quot;resultaat&quot;: &quot;27.5&quot;}, &quot;type&quot;: &quot;Feature&quot;}, {&quot;bbox&quot;: [3.6914368495661636, 50.82323042293935, 3.6914368495661636, 50.82323042293935], &quot;geometry&quot;: {&quot;coordinates&quot;: [3.6914368495661636, 50.82323042293935], &quot;type&quot;: &quot;Point&quot;}, &quot;id&quot;: &quot;65&quot;, &quot;properties&quot;: {&quot;pkey_observatie&quot;: &quot;https://www.dov.vlaanderen.be/data/observatie/2023-7111208&quot;, &quot;resultaat&quot;: &quot;22.3&quot;}, &quot;type&quot;: &quot;Feature&quot;}, {&quot;bbox&quot;: [3.6133989369222457, 50.83692504703561, 3.6133989369222457, 50.83692504703561], &quot;geometry&quot;: {&quot;coordinates&quot;: [3.6133989369222457, 50.83692504703561], &quot;type&quot;: &quot;Point&quot;}, &quot;id&quot;: &quot;66&quot;, &quot;properties&quot;: {&quot;pkey_observatie&quot;: &quot;https://www.dov.vlaanderen.be/data/observatie/2023-7111325&quot;, &quot;resultaat&quot;: &quot;33.9&quot;}, &quot;type&quot;: &quot;Feature&quot;}, {&quot;bbox&quot;: [3.6914368495661636, 50.82323042293935, 3.6914368495661636, 50.82323042293935], &quot;geometry&quot;: {&quot;coordinates&quot;: [3.6914368495661636, 50.82323042293935], &quot;type&quot;: &quot;Point&quot;}, &quot;id&quot;: &quot;67&quot;, &quot;properties&quot;: {&quot;pkey_observatie&quot;: &quot;https://www.dov.vlaanderen.be/data/observatie/2023-7111394&quot;, &quot;resultaat&quot;: &quot;24.6&quot;}, &quot;type&quot;: &quot;Feature&quot;}, {&quot;bbox&quot;: [4.395725134536812, 51.221602665657514, 4.395725134536812, 51.221602665657514], &quot;geometry&quot;: {&quot;coordinates&quot;: [4.395725134536812, 51.221602665657514], &quot;type&quot;: &quot;Point&quot;}, &quot;id&quot;: &quot;68&quot;, &quot;properties&quot;: {&quot;pkey_observatie&quot;: &quot;https://www.dov.vlaanderen.be/data/observatie/2023-7111559&quot;, &quot;resultaat&quot;: &quot;23.7&quot;}, &quot;type&quot;: &quot;Feature&quot;}, {&quot;bbox&quot;: [4.311160358935783, 51.162889833324485, 4.311160358935783, 51.162889833324485], &quot;geometry&quot;: {&quot;coordinates&quot;: [4.311160358935783, 51.162889833324485], &quot;type&quot;: &quot;Point&quot;}, &quot;id&quot;: &quot;69&quot;, &quot;properties&quot;: {&quot;pkey_observatie&quot;: &quot;https://www.dov.vlaanderen.be/data/observatie/2023-7111690&quot;, &quot;resultaat&quot;: &quot;25.6&quot;}, &quot;type&quot;: &quot;Feature&quot;}, {&quot;bbox&quot;: [4.311160358935783, 51.162889833324485, 4.311160358935783, 51.162889833324485], &quot;geometry&quot;: {&quot;coordinates&quot;: [4.311160358935783, 51.162889833324485], &quot;type&quot;: &quot;Point&quot;}, &quot;id&quot;: &quot;70&quot;, &quot;properties&quot;: {&quot;pkey_observatie&quot;: &quot;https://www.dov.vlaanderen.be/data/observatie/2023-7111679&quot;, &quot;resultaat&quot;: &quot;34.4&quot;}, &quot;type&quot;: &quot;Feature&quot;}, {&quot;bbox&quot;: [4.307669881099813, 51.15367478034325, 4.307669881099813, 51.15367478034325], &quot;geometry&quot;: {&quot;coordinates&quot;: [4.307669881099813, 51.15367478034325], &quot;type&quot;: &quot;Point&quot;}, &quot;id&quot;: &quot;71&quot;, &quot;properties&quot;: {&quot;pkey_observatie&quot;: &quot;https://www.dov.vlaanderen.be/data/observatie/2023-7111700&quot;, &quot;resultaat&quot;: &quot;28.3&quot;}, &quot;type&quot;: &quot;Feature&quot;}, {&quot;bbox&quot;: [4.307669881099813, 51.15367478034325, 4.307669881099813, 51.15367478034325], &quot;geometry&quot;: {&quot;coordinates&quot;: [4.307669881099813, 51.15367478034325], &quot;type&quot;: &quot;Point&quot;}, &quot;id&quot;: &quot;72&quot;, &quot;properties&quot;: {&quot;pkey_observatie&quot;: &quot;https://www.dov.vlaanderen.be/data/observatie/2023-7111708&quot;, &quot;resultaat&quot;: &quot;30.2&quot;}, &quot;type&quot;: &quot;Feature&quot;}, {&quot;bbox&quot;: [4.26468393228563, 51.29925661075851, 4.26468393228563, 51.29925661075851], &quot;geometry&quot;: {&quot;coordinates&quot;: [4.26468393228563, 51.29925661075851], &quot;type&quot;: &quot;Point&quot;}, &quot;id&quot;: &quot;73&quot;, &quot;properties&quot;: {&quot;pkey_observatie&quot;: &quot;https://www.dov.vlaanderen.be/data/observatie/2023-7111798&quot;, &quot;resultaat&quot;: &quot;25.9&quot;}, &quot;type&quot;: &quot;Feature&quot;}, {&quot;bbox&quot;: [4.3617735722051645, 51.04391880827211, 4.3617735722051645, 51.04391880827211], &quot;geometry&quot;: {&quot;coordinates&quot;: [4.3617735722051645, 51.04391880827211], &quot;type&quot;: &quot;Point&quot;}, &quot;id&quot;: &quot;74&quot;, &quot;properties&quot;: {&quot;pkey_observatie&quot;: &quot;https://www.dov.vlaanderen.be/data/observatie/2023-7111756&quot;, &quot;resultaat&quot;: &quot;20.7&quot;}, &quot;type&quot;: &quot;Feature&quot;}, {&quot;bbox&quot;: [4.272368554940627, 51.29936193761001, 4.272368554940627, 51.29936193761001], &quot;geometry&quot;: {&quot;coordinates&quot;: [4.272368554940627, 51.29936193761001], &quot;type&quot;: &quot;Point&quot;}, &quot;id&quot;: &quot;75&quot;, &quot;properties&quot;: {&quot;pkey_observatie&quot;: &quot;https://www.dov.vlaanderen.be/data/observatie/2023-7111957&quot;, &quot;resultaat&quot;: &quot;77.6&quot;}, &quot;type&quot;: &quot;Feature&quot;}, {&quot;bbox&quot;: [4.269235077286242, 51.29633935802632, 4.269235077286242, 51.29633935802632], &quot;geometry&quot;: {&quot;coordinates&quot;: [4.269235077286242, 51.29633935802632], &quot;type&quot;: &quot;Point&quot;}, &quot;id&quot;: &quot;76&quot;, &quot;properties&quot;: {&quot;pkey_observatie&quot;: &quot;https://www.dov.vlaanderen.be/data/observatie/2023-7112141&quot;, &quot;resultaat&quot;: &quot;29.5&quot;}, &quot;type&quot;: &quot;Feature&quot;}, {&quot;bbox&quot;: [4.348819404270599, 51.07931646172862, 4.348819404270599, 51.07931646172862], &quot;geometry&quot;: {&quot;coordinates&quot;: [4.348819404270599, 51.07931646172862], &quot;type&quot;: &quot;Point&quot;}, &quot;id&quot;: &quot;77&quot;, &quot;properties&quot;: {&quot;pkey_observatie&quot;: &quot;https://www.dov.vlaanderen.be/data/observatie/2023-7112171&quot;, &quot;resultaat&quot;: &quot;19.2&quot;}, &quot;type&quot;: &quot;Feature&quot;}, {&quot;bbox&quot;: [4.348819404270599, 51.07931646172862, 4.348819404270599, 51.07931646172862], &quot;geometry&quot;: {&quot;coordinates&quot;: [4.348819404270599, 51.07931646172862], &quot;type&quot;: &quot;Point&quot;}, &quot;id&quot;: &quot;78&quot;, &quot;properties&quot;: {&quot;pkey_observatie&quot;: &quot;https://www.dov.vlaanderen.be/data/observatie/2023-7112273&quot;, &quot;resultaat&quot;: &quot;26.3&quot;}, &quot;type&quot;: &quot;Feature&quot;}, {&quot;bbox&quot;: [4.352321052667931, 51.08287243185797, 4.352321052667931, 51.08287243185797], &quot;geometry&quot;: {&quot;coordinates&quot;: [4.352321052667931, 51.08287243185797], &quot;type&quot;: &quot;Point&quot;}, &quot;id&quot;: &quot;79&quot;, &quot;properties&quot;: {&quot;pkey_observatie&quot;: &quot;https://www.dov.vlaanderen.be/data/observatie/2023-7112456&quot;, &quot;resultaat&quot;: &quot;25.6&quot;}, &quot;type&quot;: &quot;Feature&quot;}, {&quot;bbox&quot;: [4.352321052667931, 51.08287243185797, 4.352321052667931, 51.08287243185797], &quot;geometry&quot;: {&quot;coordinates&quot;: [4.352321052667931, 51.08287243185797], &quot;type&quot;: &quot;Point&quot;}, &quot;id&quot;: &quot;80&quot;, &quot;properties&quot;: {&quot;pkey_observatie&quot;: &quot;https://www.dov.vlaanderen.be/data/observatie/2023-7112505&quot;, &quot;resultaat&quot;: &quot;25.7&quot;}, &quot;type&quot;: &quot;Feature&quot;}, {&quot;bbox&quot;: [4.269526881425968, 51.259533148600084, 4.269526881425968, 51.259533148600084], &quot;geometry&quot;: {&quot;coordinates&quot;: [4.269526881425968, 51.259533148600084], &quot;type&quot;: &quot;Point&quot;}, &quot;id&quot;: &quot;81&quot;, &quot;properties&quot;: {&quot;pkey_observatie&quot;: &quot;https://www.dov.vlaanderen.be/data/observatie/2023-7112806&quot;, &quot;resultaat&quot;: &quot;380.2&quot;}, &quot;type&quot;: &quot;Feature&quot;}, {&quot;bbox&quot;: [4.267083231726418, 51.25645602455138, 4.267083231726418, 51.25645602455138], &quot;geometry&quot;: {&quot;coordinates&quot;: [4.267083231726418, 51.25645602455138], &quot;type&quot;: &quot;Point&quot;}, &quot;id&quot;: &quot;82&quot;, &quot;properties&quot;: {&quot;pkey_observatie&quot;: &quot;https://www.dov.vlaanderen.be/data/observatie/2023-7112743&quot;, &quot;resultaat&quot;: &quot;51.2&quot;}, &quot;type&quot;: &quot;Feature&quot;}, {&quot;bbox&quot;: [4.269526881425968, 51.259533148600084, 4.269526881425968, 51.259533148600084], &quot;geometry&quot;: {&quot;coordinates&quot;: [4.269526881425968, 51.259533148600084], &quot;type&quot;: &quot;Point&quot;}, &quot;id&quot;: &quot;83&quot;, &quot;properties&quot;: {&quot;pkey_observatie&quot;: &quot;https://www.dov.vlaanderen.be/data/observatie/2023-7112791&quot;, &quot;resultaat&quot;: &quot;13.2&quot;}, &quot;type&quot;: &quot;Feature&quot;}, {&quot;bbox&quot;: [3.261301087673668, 50.829426360065504, 3.261301087673668, 50.829426360065504], &quot;geometry&quot;: {&quot;coordinates&quot;: [3.261301087673668, 50.829426360065504], &quot;type&quot;: &quot;Point&quot;}, &quot;id&quot;: &quot;84&quot;, &quot;properties&quot;: {&quot;pkey_observatie&quot;: &quot;https://www.dov.vlaanderen.be/data/observatie/2022-7216684&quot;, &quot;resultaat&quot;: &quot;33.8&quot;}, &quot;type&quot;: &quot;Feature&quot;}, {&quot;bbox&quot;: [4.596133305481945, 51.20863636005971, 4.596133305481945, 51.20863636005971], &quot;geometry&quot;: {&quot;coordinates&quot;: [4.596133305481945, 51.20863636005971], &quot;type&quot;: &quot;Point&quot;}, &quot;id&quot;: &quot;85&quot;, &quot;properties&quot;: {&quot;pkey_observatie&quot;: &quot;https://www.dov.vlaanderen.be/data/observatie/2022-1265967&quot;, &quot;resultaat&quot;: &quot;22.5&quot;}, &quot;type&quot;: &quot;Feature&quot;}, {&quot;bbox&quot;: [4.045795446136615, 50.93760356827244, 4.045795446136615, 50.93760356827244], &quot;geometry&quot;: {&quot;coordinates&quot;: [4.045795446136615, 50.93760356827244], &quot;type&quot;: &quot;Point&quot;}, &quot;id&quot;: &quot;86&quot;, &quot;properties&quot;: {&quot;pkey_observatie&quot;: &quot;https://www.dov.vlaanderen.be/data/observatie/2022-1295975&quot;, &quot;resultaat&quot;: &quot;20.60000038&quot;}, &quot;type&quot;: &quot;Feature&quot;}, {&quot;bbox&quot;: [2.84279521629672, 51.20027644056354, 2.84279521629672, 51.20027644056354], &quot;geometry&quot;: {&quot;coordinates&quot;: [2.84279521629672, 51.20027644056354], &quot;type&quot;: &quot;Point&quot;}, &quot;id&quot;: &quot;87&quot;, &quot;properties&quot;: {&quot;pkey_observatie&quot;: &quot;https://www.dov.vlaanderen.be/data/observatie/2022-1296116&quot;, &quot;resultaat&quot;: &quot;37&quot;}, &quot;type&quot;: &quot;Feature&quot;}, {&quot;bbox&quot;: [3.71680358683282, 51.105420634062575, 3.71680358683282, 51.105420634062575], &quot;geometry&quot;: {&quot;coordinates&quot;: [3.71680358683282, 51.105420634062575], &quot;type&quot;: &quot;Point&quot;}, &quot;id&quot;: &quot;88&quot;, &quot;properties&quot;: {&quot;pkey_observatie&quot;: &quot;https://www.dov.vlaanderen.be/data/observatie/2022-1296227&quot;, &quot;resultaat&quot;: &quot;23.29999924&quot;}, &quot;type&quot;: &quot;Feature&quot;}, {&quot;bbox&quot;: [4.085306093491406, 51.101598809939325, 4.085306093491406, 51.101598809939325], &quot;geometry&quot;: {&quot;coordinates&quot;: [4.085306093491406, 51.101598809939325], &quot;type&quot;: &quot;Point&quot;}, &quot;id&quot;: &quot;89&quot;, &quot;properties&quot;: {&quot;pkey_observatie&quot;: &quot;https://www.dov.vlaanderen.be/data/observatie/2022-1296263&quot;, &quot;resultaat&quot;: &quot;23.79999924&quot;}, &quot;type&quot;: &quot;Feature&quot;}, {&quot;bbox&quot;: [3.8204022592417086, 50.99850306213027, 3.8204022592417086, 50.99850306213027], &quot;geometry&quot;: {&quot;coordinates&quot;: [3.8204022592417086, 50.99850306213027], &quot;type&quot;: &quot;Point&quot;}, &quot;id&quot;: &quot;90&quot;, &quot;properties&quot;: {&quot;pkey_observatie&quot;: &quot;https://www.dov.vlaanderen.be/data/observatie/2022-1296289&quot;, &quot;resultaat&quot;: &quot;29.39999962&quot;}, &quot;type&quot;: &quot;Feature&quot;}, {&quot;bbox&quot;: [4.187381594063657, 51.1513398720133, 4.187381594063657, 51.1513398720133], &quot;geometry&quot;: {&quot;coordinates&quot;: [4.187381594063657, 51.1513398720133], &quot;type&quot;: &quot;Point&quot;}, &quot;id&quot;: &quot;91&quot;, &quot;properties&quot;: {&quot;pkey_observatie&quot;: &quot;https://www.dov.vlaanderen.be/data/observatie/2022-1296296&quot;, &quot;resultaat&quot;: &quot;27&quot;}, &quot;type&quot;: &quot;Feature&quot;}, {&quot;bbox&quot;: [4.358284126518327, 51.08051790856838, 4.358284126518327, 51.08051790856838], &quot;geometry&quot;: {&quot;coordinates&quot;: [4.358284126518327, 51.08051790856838], &quot;type&quot;: &quot;Point&quot;}, &quot;id&quot;: &quot;92&quot;, &quot;properties&quot;: {&quot;pkey_observatie&quot;: &quot;https://www.dov.vlaanderen.be/data/observatie/2022-1296300&quot;, &quot;resultaat&quot;: &quot;6.4000001&quot;}, &quot;type&quot;: &quot;Feature&quot;}, {&quot;bbox&quot;: [3.5510632283517314, 51.031802840312935, 3.5510632283517314, 51.031802840312935], &quot;geometry&quot;: {&quot;coordinates&quot;: [3.5510632283517314, 51.031802840312935], &quot;type&quot;: &quot;Point&quot;}, &quot;id&quot;: &quot;93&quot;, &quot;properties&quot;: {&quot;pkey_observatie&quot;: &quot;https://www.dov.vlaanderen.be/data/observatie/2022-1296312&quot;, &quot;resultaat&quot;: &quot;21&quot;}, &quot;type&quot;: &quot;Feature&quot;}, {&quot;bbox&quot;: [4.141874818207379, 51.104629654943416, 4.141874818207379, 51.104629654943416], &quot;geometry&quot;: {&quot;coordinates&quot;: [4.141874818207379, 51.104629654943416], &quot;type&quot;: &quot;Point&quot;}, &quot;id&quot;: &quot;94&quot;, &quot;properties&quot;: {&quot;pkey_observatie&quot;: &quot;https://www.dov.vlaanderen.be/data/observatie/2022-1296322&quot;, &quot;resultaat&quot;: &quot;21.5&quot;}, &quot;type&quot;: &quot;Feature&quot;}, {&quot;bbox&quot;: [4.403418182121605, 51.242705794166255, 4.403418182121605, 51.242705794166255], &quot;geometry&quot;: {&quot;coordinates&quot;: [4.403418182121605, 51.242705794166255], &quot;type&quot;: &quot;Point&quot;}, &quot;id&quot;: &quot;95&quot;, &quot;properties&quot;: {&quot;pkey_observatie&quot;: &quot;https://www.dov.vlaanderen.be/data/observatie/2022-1296333&quot;, &quot;resultaat&quot;: &quot;26.60000038&quot;}, &quot;type&quot;: &quot;Feature&quot;}, {&quot;bbox&quot;: [4.39720004918639, 51.24206842053362, 4.39720004918639, 51.24206842053362], &quot;geometry&quot;: {&quot;coordinates&quot;: [4.39720004918639, 51.24206842053362], &quot;type&quot;: &quot;Point&quot;}, &quot;id&quot;: &quot;96&quot;, &quot;properties&quot;: {&quot;pkey_observatie&quot;: &quot;https://www.dov.vlaanderen.be/data/observatie/2022-1296357&quot;, &quot;resultaat&quot;: &quot;23.5&quot;}, &quot;type&quot;: &quot;Feature&quot;}, {&quot;bbox&quot;: [3.4162646844583295, 50.914860042189645, 3.4162646844583295, 50.914860042189645], &quot;geometry&quot;: {&quot;coordinates&quot;: [3.4162646844583295, 50.914860042189645], &quot;type&quot;: &quot;Point&quot;}, &quot;id&quot;: &quot;97&quot;, &quot;properties&quot;: {&quot;pkey_observatie&quot;: &quot;https://www.dov.vlaanderen.be/data/observatie/2022-1296412&quot;, &quot;resultaat&quot;: &quot;28.89999962&quot;}, &quot;type&quot;: &quot;Feature&quot;}, {&quot;bbox&quot;: [4.409646261690607, 51.24146068497665, 4.409646261690607, 51.24146068497665], &quot;geometry&quot;: {&quot;coordinates&quot;: [4.409646261690607, 51.24146068497665], &quot;type&quot;: &quot;Point&quot;}, &quot;id&quot;: &quot;98&quot;, &quot;properties&quot;: {&quot;pkey_observatie&quot;: &quot;https://www.dov.vlaanderen.be/data/observatie/2022-1296426&quot;, &quot;resultaat&quot;: &quot;23.20000076&quot;}, &quot;type&quot;: &quot;Feature&quot;}, {&quot;bbox&quot;: [4.409646261690607, 51.24146068497665, 4.409646261690607, 51.24146068497665], &quot;geometry&quot;: {&quot;coordinates&quot;: [4.409646261690607, 51.24146068497665], &quot;type&quot;: &quot;Point&quot;}, &quot;id&quot;: &quot;99&quot;, &quot;properties&quot;: {&quot;pkey_observatie&quot;: &quot;https://www.dov.vlaanderen.be/data/observatie/2022-1296427&quot;, &quot;resultaat&quot;: &quot;23.79999924&quot;}, &quot;type&quot;: &quot;Feature&quot;}], &quot;type&quot;: &quot;FeatureCollection&quot;});\n",
       "\n",
       "        \n",
       "    \n",
       "    geo_json_ef8d4aac41aa6c8d7d27261bf99978a2.bindTooltip(\n",
       "    function(layer){\n",
       "    let div = L.DomUtil.create(&#x27;div&#x27;);\n",
       "    \n",
       "    let handleObject = feature=&gt;typeof(feature)==&#x27;object&#x27; ? JSON.stringify(feature) : feature;\n",
       "    let fields = [&quot;pkey_observatie&quot;, &quot;resultaat&quot;];\n",
       "    let aliases = [&quot;pkey_observatie&quot;, &quot;resultaat&quot;];\n",
       "    let table = &#x27;&lt;table&gt;&#x27; +\n",
       "        String(\n",
       "        fields.map(\n",
       "        (v,i)=&gt;\n",
       "        `&lt;tr&gt;\n",
       "            &lt;th&gt;${aliases[i]}&lt;/th&gt;\n",
       "            \n",
       "            &lt;td&gt;${handleObject(layer.feature.properties[v])}&lt;/td&gt;\n",
       "        &lt;/tr&gt;`).join(&#x27;&#x27;))\n",
       "    +&#x27;&lt;/table&gt;&#x27;;\n",
       "    div.innerHTML=table;\n",
       "    \n",
       "    return div\n",
       "    }\n",
       "    ,{\n",
       "  &quot;sticky&quot;: true,\n",
       "  &quot;className&quot;: &quot;foliumtooltip&quot;,\n",
       "});\n",
       "                     \n",
       "    \n",
       "            geo_json_ef8d4aac41aa6c8d7d27261bf99978a2.addTo(map_e3c42224f53069296615c632c3329f5e);\n",
       "        \n",
       "&lt;/script&gt;\n",
       "&lt;/html&gt;\" style=\"position:absolute;width:100%;height:100%;left:0;top:0;border:none !important;\" allowfullscreen webkitallowfullscreen mozallowfullscreen></iframe></div></div>"
      ],
      "text/plain": [
       "<folium.folium.Map at 0x1601173e510>"
      ]
     },
     "execution_count": 20,
     "metadata": {},
     "output_type": "execute_result"
    }
   ],
   "source": [
    "gdf = gpd.GeoDataFrame(df, geometry='geom', crs='EPSG:31370')\n",
    "gdf.explore()"
   ]
  },
  {
   "cell_type": "code",
   "execution_count": null,
   "metadata": {},
   "outputs": [],
   "source": []
  },
  {
   "cell_type": "code",
   "execution_count": null,
   "metadata": {},
   "outputs": [],
   "source": []
  },
  {
   "cell_type": "code",
   "execution_count": null,
   "metadata": {},
   "outputs": [],
   "source": []
  },
  {
   "cell_type": "code",
   "execution_count": null,
   "metadata": {},
   "outputs": [],
   "source": []
  }
 ],
 "metadata": {
  "kernelspec": {
   "display_name": "Python 3 (ipykernel)",
   "language": "python",
   "name": "python3"
  },
  "language_info": {
   "codemirror_mode": {
    "name": "ipython",
    "version": 3
   },
   "file_extension": ".py",
   "mimetype": "text/x-python",
   "name": "python",
   "nbconvert_exporter": "python",
   "pygments_lexer": "ipython3",
   "version": "3.11.9"
  },
  "vscode": {
   "interpreter": {
    "hash": "a0d0e535e2a0c7ed2e54797a9491172418d0a0d8405efa8941f8f8b45b28ad7d"
   }
  }
 },
 "nbformat": 4,
 "nbformat_minor": 4
}
