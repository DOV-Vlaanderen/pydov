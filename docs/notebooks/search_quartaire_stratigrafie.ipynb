{
 "cells": [
  {
   "cell_type": "markdown",
   "metadata": {},
   "source": [
    "# Example of DOV search methods for quartaire stratigrafie"
   ]
  },
  {
   "cell_type": "markdown",
   "metadata": {},
   "source": [
    "[![Binder](https://mybinder.org/badge_logo.svg)](https://mybinder.org/v2/gh/DOV-Vlaanderen/pydov/master?filepath=docs%2Fnotebooks%2Fsearch_quartaire_stratigrafie.ipynb)"
   ]
  },
  {
   "cell_type": "markdown",
   "metadata": {},
   "source": [
    "## Use cases:\n",
    "* Select records in a bbox\n",
    "* Select records in a bbox with selected properties\n",
    "* Select records within a distance from a point\n",
    "* Select records in a municipality\n",
    "* Get records using info from wfs fields, not available in the standard output dataframe"
   ]
  },
  {
   "cell_type": "code",
   "execution_count": 1,
   "metadata": {},
   "outputs": [],
   "source": [
    "%matplotlib inline\n",
    "import os, sys\n",
    "import inspect"
   ]
  },
  {
   "cell_type": "code",
   "execution_count": 2,
   "metadata": {},
   "outputs": [],
   "source": [
    "# check pydov path\n",
    "import pydov"
   ]
  },
  {
   "cell_type": "markdown",
   "metadata": {},
   "source": [
    "## Get information about code base"
   ]
  },
  {
   "cell_type": "code",
   "execution_count": 3,
   "metadata": {},
   "outputs": [
    {
     "output_type": "execute_result",
     "data": {
      "text/plain": [
       "'De quartaire afzettingen in Vlaanderen, de jongste afzettingen, zijn lateraal en verticaal heterogeen en varieren erg in dikte. De afzettingen zijn vooral onder continentale omstandigheden tot stand gekomen (rivier-, duinafzettingen). Eigenlijk zijn het pakketten die zelden meer dan 30 meter en soms zelfs minder dan 1 meter dik zijn. Omwille van deze grote eigenheid en de grote mate van detail van de beschrijvingen, werd hiervoor een eigen stratigrafische codering uitgewerkt voor Vlaanderen.'"
      ]
     },
     "metadata": {},
     "execution_count": 3
    }
   ],
   "source": [
    "from pydov.search.interpretaties import QuartairStratigrafieSearch\n",
    "# information about the QuartairStratigrafie type (In Dutch):\n",
    "ip_quart = QuartairStratigrafieSearch()\n",
    "ip_quart.get_description()"
   ]
  },
  {
   "cell_type": "code",
   "execution_count": 4,
   "metadata": {},
   "outputs": [
    {
     "output_type": "stream",
     "name": "stdout",
     "text": [
      "pkey_interpretatie\nType_proef\nProefnummer\npkey_boring\nx\ny\nstart_interpretatie_mtaw\ndiepte_tot_m\ngemeente\nAuteurs\nDatum\nOpdrachten\nbetrouwbaarheid_interpretatie\nGeldig_van\nGeldig_tot\ndiepte_laag_van\ndiepte_laag_tot\nlid1\nrelatie_lid1_lid2\nlid2\n"
     ]
    }
   ],
   "source": [
    "# information about the available fields for a QuartairStratigrafie object\n",
    "fields = ip_quart.get_fields()\n",
    "# print available fields\n",
    "for f in fields.values():\n",
    "    print(f['name'])"
   ]
  },
  {
   "cell_type": "code",
   "execution_count": 5,
   "metadata": {},
   "outputs": [
    {
     "output_type": "execute_result",
     "data": {
      "text/plain": [
       "{'name': 'Type_proef',\n",
       " 'definition': \"Het type van de proef waarvan de quartaire stratigrafie een interpretatie is. Bij een quartaire stratigrafie zal dit altijd 'Boring' zijn.\",\n",
       " 'type': 'string',\n",
       " 'notnull': False,\n",
       " 'query': True,\n",
       " 'cost': 1,\n",
       " 'values': {'Boring': 'De quartaire stratigrafie is een interpretatie van een boring.'}}"
      ]
     },
     "metadata": {},
     "execution_count": 5
    }
   ],
   "source": [
    "# print information for a certain field\n",
    "fields['Type_proef']"
   ]
  },
  {
   "cell_type": "markdown",
   "metadata": {},
   "source": [
    "The cost is an arbitrary attribute to indicate if the information is retrieved from a wfs query (cost = 1), \n",
    "or from an xml (cost = 10)"
   ]
  },
  {
   "cell_type": "markdown",
   "metadata": {},
   "source": [
    "## Try-out of use cases"
   ]
  },
  {
   "cell_type": "markdown",
   "metadata": {},
   "source": [
    "### Select interpretations in a bbox"
   ]
  },
  {
   "cell_type": "code",
   "execution_count": 6,
   "metadata": {},
   "outputs": [
    {
     "output_type": "stream",
     "name": "stdout",
     "text": [
      "[000/003] ...\n"
     ]
    },
    {
     "output_type": "execute_result",
     "data": {
      "text/plain": [
       "                                  pkey_interpretatie  \\\n",
       "0  https://www.dov.vlaanderen.be/data/interpretat...   \n",
       "1  https://www.dov.vlaanderen.be/data/interpretat...   \n",
       "2  https://www.dov.vlaanderen.be/data/interpretat...   \n",
       "3  https://www.dov.vlaanderen.be/data/interpretat...   \n",
       "4  https://www.dov.vlaanderen.be/data/interpretat...   \n",
       "\n",
       "                                         pkey_boring  \\\n",
       "0  https://www.dov.vlaanderen.be/data/boring/1974...   \n",
       "1  https://www.dov.vlaanderen.be/data/boring/1974...   \n",
       "2  https://www.dov.vlaanderen.be/data/boring/1974...   \n",
       "3  https://www.dov.vlaanderen.be/data/boring/1974...   \n",
       "4  https://www.dov.vlaanderen.be/data/boring/1974...   \n",
       "\n",
       "  betrouwbaarheid_interpretatie         x         y  start_interpretatie_mtaw  \\\n",
       "0                      onbekend  132975.0  191969.0                      2.84   \n",
       "1                      onbekend  132975.0  191969.0                      2.84   \n",
       "2                      onbekend  132975.0  191969.0                      2.84   \n",
       "3                      onbekend  132949.0  192068.0                      2.57   \n",
       "4                      onbekend  132949.0  192068.0                      2.57   \n",
       "\n",
       "   diepte_laag_van  diepte_laag_tot lid1 relatie_lid1_lid2 lid2  \n",
       "0              0.0              4.5    K                 T    K  \n",
       "1              4.5              7.5    F                 T    F  \n",
       "2              7.5              8.0   Rf                 T   Rf  \n",
       "3              0.0              4.5    K                 T    K  \n",
       "4              4.5              9.5    F                 T    F  "
      ],
      "text/html": "<div>\n<style scoped>\n    .dataframe tbody tr th:only-of-type {\n        vertical-align: middle;\n    }\n\n    .dataframe tbody tr th {\n        vertical-align: top;\n    }\n\n    .dataframe thead th {\n        text-align: right;\n    }\n</style>\n<table border=\"1\" class=\"dataframe\">\n  <thead>\n    <tr style=\"text-align: right;\">\n      <th></th>\n      <th>pkey_interpretatie</th>\n      <th>pkey_boring</th>\n      <th>betrouwbaarheid_interpretatie</th>\n      <th>x</th>\n      <th>y</th>\n      <th>start_interpretatie_mtaw</th>\n      <th>diepte_laag_van</th>\n      <th>diepte_laag_tot</th>\n      <th>lid1</th>\n      <th>relatie_lid1_lid2</th>\n      <th>lid2</th>\n    </tr>\n  </thead>\n  <tbody>\n    <tr>\n      <th>0</th>\n      <td>https://www.dov.vlaanderen.be/data/interpretat...</td>\n      <td>https://www.dov.vlaanderen.be/data/boring/1974...</td>\n      <td>onbekend</td>\n      <td>132975.0</td>\n      <td>191969.0</td>\n      <td>2.84</td>\n      <td>0.0</td>\n      <td>4.5</td>\n      <td>K</td>\n      <td>T</td>\n      <td>K</td>\n    </tr>\n    <tr>\n      <th>1</th>\n      <td>https://www.dov.vlaanderen.be/data/interpretat...</td>\n      <td>https://www.dov.vlaanderen.be/data/boring/1974...</td>\n      <td>onbekend</td>\n      <td>132975.0</td>\n      <td>191969.0</td>\n      <td>2.84</td>\n      <td>4.5</td>\n      <td>7.5</td>\n      <td>F</td>\n      <td>T</td>\n      <td>F</td>\n    </tr>\n    <tr>\n      <th>2</th>\n      <td>https://www.dov.vlaanderen.be/data/interpretat...</td>\n      <td>https://www.dov.vlaanderen.be/data/boring/1974...</td>\n      <td>onbekend</td>\n      <td>132975.0</td>\n      <td>191969.0</td>\n      <td>2.84</td>\n      <td>7.5</td>\n      <td>8.0</td>\n      <td>Rf</td>\n      <td>T</td>\n      <td>Rf</td>\n    </tr>\n    <tr>\n      <th>3</th>\n      <td>https://www.dov.vlaanderen.be/data/interpretat...</td>\n      <td>https://www.dov.vlaanderen.be/data/boring/1974...</td>\n      <td>onbekend</td>\n      <td>132949.0</td>\n      <td>192068.0</td>\n      <td>2.57</td>\n      <td>0.0</td>\n      <td>4.5</td>\n      <td>K</td>\n      <td>T</td>\n      <td>K</td>\n    </tr>\n    <tr>\n      <th>4</th>\n      <td>https://www.dov.vlaanderen.be/data/interpretat...</td>\n      <td>https://www.dov.vlaanderen.be/data/boring/1974...</td>\n      <td>onbekend</td>\n      <td>132949.0</td>\n      <td>192068.0</td>\n      <td>2.57</td>\n      <td>4.5</td>\n      <td>9.5</td>\n      <td>F</td>\n      <td>T</td>\n      <td>F</td>\n    </tr>\n  </tbody>\n</table>\n</div>"
     },
     "metadata": {},
     "execution_count": 6
    }
   ],
   "source": [
    "from pydov.util.location import Within, Box\n",
    "\n",
    "# Get all interpretations in a bounding box (llx, lly, ulx, uly)\n",
    "# the pkey_boring link is not available below, but is in the df\n",
    "df = ip_quart.search(location=Within(Box(132815, 191700, 133815, 192700)))\n",
    "df.head()"
   ]
  },
  {
   "cell_type": "markdown",
   "metadata": {},
   "source": [
    "### Select interpretations in a bbox with selected properties"
   ]
  },
  {
   "cell_type": "code",
   "execution_count": 7,
   "metadata": {},
   "outputs": [
    {
     "output_type": "execute_result",
     "data": {
      "text/plain": [
       "['PropertyIsBetween',\n",
       " 'PropertyIsEqualTo',\n",
       " 'PropertyIsGreaterThan',\n",
       " 'PropertyIsGreaterThanOrEqualTo',\n",
       " 'PropertyIsLessThan',\n",
       " 'PropertyIsLessThanOrEqualTo',\n",
       " 'PropertyIsLike',\n",
       " 'PropertyIsNotEqualTo',\n",
       " 'PropertyIsNull',\n",
       " 'SortProperty']"
      ]
     },
     "metadata": {},
     "execution_count": 7
    }
   ],
   "source": [
    "# list available query methods\n",
    "methods = [i for i,j in inspect.getmembers(sys.modules['owslib.fes'], \n",
    "                                           inspect.isclass) \n",
    "           if 'Property' in i]\n",
    "methods"
   ]
  },
  {
   "cell_type": "code",
   "execution_count": 8,
   "metadata": {},
   "outputs": [],
   "source": [
    "from owslib.fes import PropertyIsGreaterThanOrEqualTo"
   ]
  },
  {
   "cell_type": "markdown",
   "metadata": {},
   "source": [
    "The property feature methodes listed above are available from the owslib module. These were not adapted for use in pydov."
   ]
  },
  {
   "cell_type": "code",
   "execution_count": 9,
   "metadata": {},
   "outputs": [
    {
     "output_type": "stream",
     "name": "stdout",
     "text": [
      "[000/003] ccc\n"
     ]
    },
    {
     "output_type": "execute_result",
     "data": {
      "text/plain": [
       "                                  pkey_interpretatie  \\\n",
       "0  https://www.dov.vlaanderen.be/data/interpretat...   \n",
       "1  https://www.dov.vlaanderen.be/data/interpretat...   \n",
       "2  https://www.dov.vlaanderen.be/data/interpretat...   \n",
       "3  https://www.dov.vlaanderen.be/data/interpretat...   \n",
       "4  https://www.dov.vlaanderen.be/data/interpretat...   \n",
       "\n",
       "                                         pkey_boring  \\\n",
       "0  https://www.dov.vlaanderen.be/data/boring/1974...   \n",
       "1  https://www.dov.vlaanderen.be/data/boring/1974...   \n",
       "2  https://www.dov.vlaanderen.be/data/boring/1974...   \n",
       "3  https://www.dov.vlaanderen.be/data/boring/1974...   \n",
       "4  https://www.dov.vlaanderen.be/data/boring/1974...   \n",
       "\n",
       "  betrouwbaarheid_interpretatie         x         y  start_interpretatie_mtaw  \\\n",
       "0                      onbekend  132975.0  191969.0                      2.84   \n",
       "1                      onbekend  132975.0  191969.0                      2.84   \n",
       "2                      onbekend  132975.0  191969.0                      2.84   \n",
       "3                      onbekend  132949.0  192068.0                      2.57   \n",
       "4                      onbekend  132949.0  192068.0                      2.57   \n",
       "\n",
       "   diepte_laag_van  diepte_laag_tot lid1 relatie_lid1_lid2 lid2  \n",
       "0              0.0              4.5    K                 T    K  \n",
       "1              4.5              7.5    F                 T    F  \n",
       "2              7.5              8.0   Rf                 T   Rf  \n",
       "3              0.0              4.5    K                 T    K  \n",
       "4              4.5              9.5    F                 T    F  "
      ],
      "text/html": "<div>\n<style scoped>\n    .dataframe tbody tr th:only-of-type {\n        vertical-align: middle;\n    }\n\n    .dataframe tbody tr th {\n        vertical-align: top;\n    }\n\n    .dataframe thead th {\n        text-align: right;\n    }\n</style>\n<table border=\"1\" class=\"dataframe\">\n  <thead>\n    <tr style=\"text-align: right;\">\n      <th></th>\n      <th>pkey_interpretatie</th>\n      <th>pkey_boring</th>\n      <th>betrouwbaarheid_interpretatie</th>\n      <th>x</th>\n      <th>y</th>\n      <th>start_interpretatie_mtaw</th>\n      <th>diepte_laag_van</th>\n      <th>diepte_laag_tot</th>\n      <th>lid1</th>\n      <th>relatie_lid1_lid2</th>\n      <th>lid2</th>\n    </tr>\n  </thead>\n  <tbody>\n    <tr>\n      <th>0</th>\n      <td>https://www.dov.vlaanderen.be/data/interpretat...</td>\n      <td>https://www.dov.vlaanderen.be/data/boring/1974...</td>\n      <td>onbekend</td>\n      <td>132975.0</td>\n      <td>191969.0</td>\n      <td>2.84</td>\n      <td>0.0</td>\n      <td>4.5</td>\n      <td>K</td>\n      <td>T</td>\n      <td>K</td>\n    </tr>\n    <tr>\n      <th>1</th>\n      <td>https://www.dov.vlaanderen.be/data/interpretat...</td>\n      <td>https://www.dov.vlaanderen.be/data/boring/1974...</td>\n      <td>onbekend</td>\n      <td>132975.0</td>\n      <td>191969.0</td>\n      <td>2.84</td>\n      <td>4.5</td>\n      <td>7.5</td>\n      <td>F</td>\n      <td>T</td>\n      <td>F</td>\n    </tr>\n    <tr>\n      <th>2</th>\n      <td>https://www.dov.vlaanderen.be/data/interpretat...</td>\n      <td>https://www.dov.vlaanderen.be/data/boring/1974...</td>\n      <td>onbekend</td>\n      <td>132975.0</td>\n      <td>191969.0</td>\n      <td>2.84</td>\n      <td>7.5</td>\n      <td>8.0</td>\n      <td>Rf</td>\n      <td>T</td>\n      <td>Rf</td>\n    </tr>\n    <tr>\n      <th>3</th>\n      <td>https://www.dov.vlaanderen.be/data/interpretat...</td>\n      <td>https://www.dov.vlaanderen.be/data/boring/1974...</td>\n      <td>onbekend</td>\n      <td>132949.0</td>\n      <td>192068.0</td>\n      <td>2.57</td>\n      <td>0.0</td>\n      <td>4.5</td>\n      <td>K</td>\n      <td>T</td>\n      <td>K</td>\n    </tr>\n    <tr>\n      <th>4</th>\n      <td>https://www.dov.vlaanderen.be/data/interpretat...</td>\n      <td>https://www.dov.vlaanderen.be/data/boring/1974...</td>\n      <td>onbekend</td>\n      <td>132949.0</td>\n      <td>192068.0</td>\n      <td>2.57</td>\n      <td>4.5</td>\n      <td>9.5</td>\n      <td>F</td>\n      <td>T</td>\n      <td>F</td>\n    </tr>\n  </tbody>\n</table>\n</div>"
     },
     "metadata": {},
     "execution_count": 9
    }
   ],
   "source": [
    "# Get deep boreholes in a bounding box \n",
    "from owslib.fes import PropertyIsLike\n",
    "# the propertyname can be any of the fields of the interpretations object that belong to the wfs source\n",
    "# the literal is always a string, no matter what its definition is in the boring object (string, float...)\n",
    "query = PropertyIsLike(\n",
    "        propertyname='betrouwbaarheid_interpretatie', literal='onbekend')\n",
    "df = ip_quart.search(location=Within(Box(132815, 191700, 133815, 192700)),\n",
    "                     query=query\n",
    "                    )\n",
    "df.head()"
   ]
  },
  {
   "cell_type": "markdown",
   "metadata": {},
   "source": [
    "### Select records within a distance from a point"
   ]
  },
  {
   "cell_type": "code",
   "execution_count": 10,
   "metadata": {},
   "outputs": [
    {
     "output_type": "stream",
     "name": "stdout",
     "text": [
      "[000/015] ....cc..c......\n"
     ]
    },
    {
     "output_type": "execute_result",
     "data": {
      "text/plain": [
       "                                  pkey_interpretatie  \\\n",
       "0  https://www.dov.vlaanderen.be/data/interpretat...   \n",
       "1  https://www.dov.vlaanderen.be/data/interpretat...   \n",
       "2  https://www.dov.vlaanderen.be/data/interpretat...   \n",
       "3  https://www.dov.vlaanderen.be/data/interpretat...   \n",
       "4  https://www.dov.vlaanderen.be/data/interpretat...   \n",
       "\n",
       "                                         pkey_boring  \\\n",
       "0  https://www.dov.vlaanderen.be/data/boring/1943...   \n",
       "1  https://www.dov.vlaanderen.be/data/boring/1943...   \n",
       "2  https://www.dov.vlaanderen.be/data/boring/1943...   \n",
       "3  https://www.dov.vlaanderen.be/data/boring/1943...   \n",
       "4  https://www.dov.vlaanderen.be/data/boring/1943...   \n",
       "\n",
       "  betrouwbaarheid_interpretatie         x         y  start_interpretatie_mtaw  \\\n",
       "0                      onbekend  132142.0  191893.0                      3.16   \n",
       "1                      onbekend  132142.0  191893.0                      3.16   \n",
       "2                      onbekend  132142.0  191893.0                      3.16   \n",
       "3                      onbekend  132142.0  191893.0                      3.16   \n",
       "4                      onbekend  132089.0  191777.0                      3.10   \n",
       "\n",
       "   diepte_laag_van  diepte_laag_tot lid1 relatie_lid1_lid2 lid2  \n",
       "0              0.0              1.5    K                 T    K  \n",
       "1              1.5              8.0    D                 T    F  \n",
       "2              8.0             13.0   Rf                 T   Rf  \n",
       "3             13.0             20.0    $                 T    $  \n",
       "4              0.0              1.0    K                 T    K  "
      ],
      "text/html": "<div>\n<style scoped>\n    .dataframe tbody tr th:only-of-type {\n        vertical-align: middle;\n    }\n\n    .dataframe tbody tr th {\n        vertical-align: top;\n    }\n\n    .dataframe thead th {\n        text-align: right;\n    }\n</style>\n<table border=\"1\" class=\"dataframe\">\n  <thead>\n    <tr style=\"text-align: right;\">\n      <th></th>\n      <th>pkey_interpretatie</th>\n      <th>pkey_boring</th>\n      <th>betrouwbaarheid_interpretatie</th>\n      <th>x</th>\n      <th>y</th>\n      <th>start_interpretatie_mtaw</th>\n      <th>diepte_laag_van</th>\n      <th>diepte_laag_tot</th>\n      <th>lid1</th>\n      <th>relatie_lid1_lid2</th>\n      <th>lid2</th>\n    </tr>\n  </thead>\n  <tbody>\n    <tr>\n      <th>0</th>\n      <td>https://www.dov.vlaanderen.be/data/interpretat...</td>\n      <td>https://www.dov.vlaanderen.be/data/boring/1943...</td>\n      <td>onbekend</td>\n      <td>132142.0</td>\n      <td>191893.0</td>\n      <td>3.16</td>\n      <td>0.0</td>\n      <td>1.5</td>\n      <td>K</td>\n      <td>T</td>\n      <td>K</td>\n    </tr>\n    <tr>\n      <th>1</th>\n      <td>https://www.dov.vlaanderen.be/data/interpretat...</td>\n      <td>https://www.dov.vlaanderen.be/data/boring/1943...</td>\n      <td>onbekend</td>\n      <td>132142.0</td>\n      <td>191893.0</td>\n      <td>3.16</td>\n      <td>1.5</td>\n      <td>8.0</td>\n      <td>D</td>\n      <td>T</td>\n      <td>F</td>\n    </tr>\n    <tr>\n      <th>2</th>\n      <td>https://www.dov.vlaanderen.be/data/interpretat...</td>\n      <td>https://www.dov.vlaanderen.be/data/boring/1943...</td>\n      <td>onbekend</td>\n      <td>132142.0</td>\n      <td>191893.0</td>\n      <td>3.16</td>\n      <td>8.0</td>\n      <td>13.0</td>\n      <td>Rf</td>\n      <td>T</td>\n      <td>Rf</td>\n    </tr>\n    <tr>\n      <th>3</th>\n      <td>https://www.dov.vlaanderen.be/data/interpretat...</td>\n      <td>https://www.dov.vlaanderen.be/data/boring/1943...</td>\n      <td>onbekend</td>\n      <td>132142.0</td>\n      <td>191893.0</td>\n      <td>3.16</td>\n      <td>13.0</td>\n      <td>20.0</td>\n      <td>$</td>\n      <td>T</td>\n      <td>$</td>\n    </tr>\n    <tr>\n      <th>4</th>\n      <td>https://www.dov.vlaanderen.be/data/interpretat...</td>\n      <td>https://www.dov.vlaanderen.be/data/boring/1943...</td>\n      <td>onbekend</td>\n      <td>132089.0</td>\n      <td>191777.0</td>\n      <td>3.10</td>\n      <td>0.0</td>\n      <td>1.0</td>\n      <td>K</td>\n      <td>T</td>\n      <td>K</td>\n    </tr>\n  </tbody>\n</table>\n</div>"
     },
     "metadata": {},
     "execution_count": 10
    }
   ],
   "source": [
    "from pydov.util.location import Point, WithinDistance\n",
    "\n",
    "# Get all interpretations within a defined distance from a point\n",
    "location = WithinDistance(location=Point(133000, 192000),\n",
    "                          distance=1000, distance_unit='meter')\n",
    "df = ip_quart.search(location=location)\n",
    "df.head()"
   ]
  },
  {
   "cell_type": "markdown",
   "metadata": {},
   "source": [
    "### Select interpretations in a municipality"
   ]
  },
  {
   "cell_type": "code",
   "execution_count": 11,
   "metadata": {},
   "outputs": [
    {
     "output_type": "stream",
     "name": "stdout",
     "text": [
      "[000/028] ............................\n"
     ]
    },
    {
     "output_type": "execute_result",
     "data": {
      "text/plain": [
       "                                  pkey_interpretatie  \\\n",
       "0  https://www.dov.vlaanderen.be/data/interpretat...   \n",
       "1  https://www.dov.vlaanderen.be/data/interpretat...   \n",
       "2  https://www.dov.vlaanderen.be/data/interpretat...   \n",
       "3  https://www.dov.vlaanderen.be/data/interpretat...   \n",
       "4  https://www.dov.vlaanderen.be/data/interpretat...   \n",
       "\n",
       "                                         pkey_boring  \\\n",
       "0  https://www.dov.vlaanderen.be/data/boring/1930...   \n",
       "1  https://www.dov.vlaanderen.be/data/boring/1930...   \n",
       "2  https://www.dov.vlaanderen.be/data/boring/1930...   \n",
       "3  https://www.dov.vlaanderen.be/data/boring/1930...   \n",
       "4  https://www.dov.vlaanderen.be/data/boring/1930...   \n",
       "\n",
       "  betrouwbaarheid_interpretatie         x         y  start_interpretatie_mtaw  \\\n",
       "0                      onbekend  135031.1  195164.2                       4.0   \n",
       "1                      onbekend  135031.1  195164.2                       4.0   \n",
       "2                      onbekend  135031.1  195164.2                       4.0   \n",
       "3                      onbekend  135031.1  195164.2                       4.0   \n",
       "4                      onbekend  135738.8  193299.5                       3.0   \n",
       "\n",
       "   diepte_laag_van  diepte_laag_tot lid1 relatie_lid1_lid2 lid2  \n",
       "0             0.00             1.45    D                 T    D  \n",
       "1             1.45             7.50    F                 T    F  \n",
       "2             7.50            11.30   Rf                 T   Rf  \n",
       "3            11.80            38.00    $                 T    $  \n",
       "4             0.00            13.40    ô                 T    F  "
      ],
      "text/html": "<div>\n<style scoped>\n    .dataframe tbody tr th:only-of-type {\n        vertical-align: middle;\n    }\n\n    .dataframe tbody tr th {\n        vertical-align: top;\n    }\n\n    .dataframe thead th {\n        text-align: right;\n    }\n</style>\n<table border=\"1\" class=\"dataframe\">\n  <thead>\n    <tr style=\"text-align: right;\">\n      <th></th>\n      <th>pkey_interpretatie</th>\n      <th>pkey_boring</th>\n      <th>betrouwbaarheid_interpretatie</th>\n      <th>x</th>\n      <th>y</th>\n      <th>start_interpretatie_mtaw</th>\n      <th>diepte_laag_van</th>\n      <th>diepte_laag_tot</th>\n      <th>lid1</th>\n      <th>relatie_lid1_lid2</th>\n      <th>lid2</th>\n    </tr>\n  </thead>\n  <tbody>\n    <tr>\n      <th>0</th>\n      <td>https://www.dov.vlaanderen.be/data/interpretat...</td>\n      <td>https://www.dov.vlaanderen.be/data/boring/1930...</td>\n      <td>onbekend</td>\n      <td>135031.1</td>\n      <td>195164.2</td>\n      <td>4.0</td>\n      <td>0.00</td>\n      <td>1.45</td>\n      <td>D</td>\n      <td>T</td>\n      <td>D</td>\n    </tr>\n    <tr>\n      <th>1</th>\n      <td>https://www.dov.vlaanderen.be/data/interpretat...</td>\n      <td>https://www.dov.vlaanderen.be/data/boring/1930...</td>\n      <td>onbekend</td>\n      <td>135031.1</td>\n      <td>195164.2</td>\n      <td>4.0</td>\n      <td>1.45</td>\n      <td>7.50</td>\n      <td>F</td>\n      <td>T</td>\n      <td>F</td>\n    </tr>\n    <tr>\n      <th>2</th>\n      <td>https://www.dov.vlaanderen.be/data/interpretat...</td>\n      <td>https://www.dov.vlaanderen.be/data/boring/1930...</td>\n      <td>onbekend</td>\n      <td>135031.1</td>\n      <td>195164.2</td>\n      <td>4.0</td>\n      <td>7.50</td>\n      <td>11.30</td>\n      <td>Rf</td>\n      <td>T</td>\n      <td>Rf</td>\n    </tr>\n    <tr>\n      <th>3</th>\n      <td>https://www.dov.vlaanderen.be/data/interpretat...</td>\n      <td>https://www.dov.vlaanderen.be/data/boring/1930...</td>\n      <td>onbekend</td>\n      <td>135031.1</td>\n      <td>195164.2</td>\n      <td>4.0</td>\n      <td>11.80</td>\n      <td>38.00</td>\n      <td>$</td>\n      <td>T</td>\n      <td>$</td>\n    </tr>\n    <tr>\n      <th>4</th>\n      <td>https://www.dov.vlaanderen.be/data/interpretat...</td>\n      <td>https://www.dov.vlaanderen.be/data/boring/1930...</td>\n      <td>onbekend</td>\n      <td>135738.8</td>\n      <td>193299.5</td>\n      <td>3.0</td>\n      <td>0.00</td>\n      <td>13.40</td>\n      <td>ô</td>\n      <td>T</td>\n      <td>F</td>\n    </tr>\n  </tbody>\n</table>\n</div>"
     },
     "metadata": {},
     "execution_count": 11
    }
   ],
   "source": [
    "from owslib.fes import PropertyIsEqualTo\n",
    "query = PropertyIsEqualTo(propertyname='gemeente',\n",
    "                          literal='Hamme')\n",
    "df = ip_quart.search(query=query)\n",
    "df.head()"
   ]
  },
  {
   "cell_type": "markdown",
   "metadata": {},
   "source": [
    "### Visualize results"
   ]
  },
  {
   "cell_type": "markdown",
   "metadata": {},
   "source": [
    "Using Folium, we can display the results of our search on a map."
   ]
  },
  {
   "cell_type": "code",
   "execution_count": 12,
   "metadata": {},
   "outputs": [],
   "source": [
    "# import the necessary modules (not included in the requirements of pydov!)\n",
    "import folium\n",
    "from folium.plugins import MarkerCluster\n",
    "from pyproj import Transformer\n",
    "# for windows 10 users, we could not get it working with Microsoft Edge\n",
    "# change the browser to Chrome in the Notebook config file instead"
   ]
  },
  {
   "cell_type": "code",
   "execution_count": 13,
   "metadata": {},
   "outputs": [],
   "source": [
    "# convert the coordinates to lat/lon for folium\n",
    "def convert_latlon(x1, y1):\n",
    "    transformer = Transformer.from_crs(\"epsg:31370\", \"epsg:4326\", always_xy=True)\n",
    "    x2,y2 = transformer.transform(x1, y1)\n",
    "    return x2, y2\n",
    "\n",
    "df['lon'], df['lat'] = zip(*map(convert_latlon, df['x'], df['y'])) \n",
    "# convert to list\n",
    "loclist = df[['lat', 'lon']].values.tolist()"
   ]
  },
  {
   "cell_type": "code",
   "execution_count": 14,
   "metadata": {
    "scrolled": true
   },
   "outputs": [
    {
     "output_type": "execute_result",
     "data": {
      "text/plain": [
       "<folium.folium.Map at 0x7f6aa1780a60>"
      ],
      "text/html": "<div style=\"width:100%;\"><div style=\"position:relative;width:100%;height:0;padding-bottom:60%;\"><span style=\"color:#565656\">Make this Notebook Trusted to load map: File -> Trust Notebook</span><iframe src=\"about:blank\" style=\"position:absolute;width:100%;height:100%;left:0;top:0;border:none !important;\" data-html=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 onload=\"this.contentDocument.open();this.contentDocument.write(atob(this.getAttribute('data-html')));this.contentDocument.close();\" allowfullscreen webkitallowfullscreen mozallowfullscreen></iframe></div></div>"
     },
     "metadata": {},
     "execution_count": 14
    }
   ],
   "source": [
    "# initialize the Folium map on the centre of the selected locations, play with the zoom until ok\n",
    "fmap = folium.Map(location=[df['lat'].mean(), df['lon'].mean()], zoom_start=12)\n",
    "marker_cluster = MarkerCluster().add_to(fmap)\n",
    "for loc in range(0, len(loclist)):\n",
    "    folium.Marker(loclist[loc], popup=df['lid1'][loc]).add_to(marker_cluster)\n",
    "fmap"
   ]
  },
  {
   "cell_type": "code",
   "execution_count": null,
   "metadata": {
    "collapsed": true,
    "jupyter": {
     "outputs_hidden": true
    }
   },
   "outputs": [],
   "source": []
  }
 ],
 "metadata": {
  "kernelspec": {
   "display_name": "Python 3.7.5 64-bit ('venv': venv)",
   "language": "python",
   "name": "python37564bitvenvvenv7153db2e85324c8ea2b6eb355f534b21"
  },
  "language_info": {
   "codemirror_mode": {
    "name": "ipython",
    "version": 3
   },
   "file_extension": ".py",
   "mimetype": "text/x-python",
   "name": "python",
   "nbconvert_exporter": "python",
   "pygments_lexer": "ipython3",
   "version": "3.8.5-final"
  }
 },
 "nbformat": 4,
 "nbformat_minor": 4
}